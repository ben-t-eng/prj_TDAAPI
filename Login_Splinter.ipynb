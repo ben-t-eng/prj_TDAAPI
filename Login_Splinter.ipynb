{
 "cells": [
  {
   "cell_type": "code",
   "execution_count": 8,
   "metadata": {},
   "outputs": [
    {
     "ename": "ImportError",
     "evalue": "cannot import name 'username' from 'login' (C:\\BTFiles\\anaconda3\\lib\\site-packages\\login\\__init__.py)",
     "output_type": "error",
     "traceback": [
      "\u001b[1;31m---------------------------------------------------------------------------\u001b[0m",
      "\u001b[1;31mImportError\u001b[0m                               Traceback (most recent call last)",
      "\u001b[1;32m<ipython-input-8-7e00bc545982>\u001b[0m in \u001b[0;36m<module>\u001b[1;34m\u001b[0m\n\u001b[0;32m      2\u001b[0m \u001b[1;32mfrom\u001b[0m \u001b[0msplinter\u001b[0m \u001b[1;32mimport\u001b[0m \u001b[0mBrowser\u001b[0m\u001b[1;33m\u001b[0m\u001b[1;33m\u001b[0m\u001b[0m\n\u001b[0;32m      3\u001b[0m \u001b[1;32mfrom\u001b[0m \u001b[0mselenium\u001b[0m \u001b[1;32mimport\u001b[0m \u001b[0mwebdriver\u001b[0m\u001b[1;33m\u001b[0m\u001b[1;33m\u001b[0m\u001b[0m\n\u001b[1;32m----> 4\u001b[1;33m \u001b[1;32mfrom\u001b[0m \u001b[0mlogin\u001b[0m \u001b[1;32mimport\u001b[0m \u001b[0musername\u001b[0m\u001b[1;33m,\u001b[0m \u001b[0mpassword\u001b[0m\u001b[1;33m\u001b[0m\u001b[1;33m\u001b[0m\u001b[0m\n\u001b[0m\u001b[0;32m      5\u001b[0m \u001b[1;31m#username\u001b[0m\u001b[1;33m\u001b[0m\u001b[1;33m\u001b[0m\u001b[1;33m\u001b[0m\u001b[0m\n",
      "\u001b[1;31mImportError\u001b[0m: cannot import name 'username' from 'login' (C:\\BTFiles\\anaconda3\\lib\\site-packages\\login\\__init__.py)"
     ]
    }
   ],
   "source": [
    "import time\n",
    "from splinter import Browser\n",
    "from selenium import webdriver\n",
    "from login import username, password\n",
    "#username\n"
   ]
  },
  {
   "cell_type": "code",
   "execution_count": 104,
   "metadata": {},
   "outputs": [],
   "source": [
    "# 4/4: splinter to interact with websits programmatically \n",
    "#chrome/firefox  driver\n",
    "#select the same ver as you current chrome browser \n",
    "#Google Chrome is up to date\n",
    "#Version 89.0.4389.114 (Official Build) (64-bit)\n",
    "# exec_path= {'executable_path':''}\n",
    "# https://chromedriver.chromium.org/downloads\n",
    "\n",
    "# exec_path={'executable_path':r\"C:\\Users\\bt\\Downloads\\chromedriver_win32\"}\n",
    "# e.g. driver = webdriver.Chrome(executable_path=r'C:/path/to/chromedriver.exe')\n",
    "# from https://stackoverflow.com/questions/47148872/webdrivers-executable-may-have-wrong-permissions-please-see-https-sites-goo\n",
    "exec_path={'executable_path':r\"C:/Users/bt/Downloads/chromedriver_win32/chromedriver.exe\"}\n",
    "\n",
    "yWebsite='https://accounts.google.com/'\n",
    "yYahoo=\"https://login.yahoo.com//\"\n",
    "\n",
    "\n"
   ]
  },
  {
   "cell_type": "code",
   "execution_count": 105,
   "metadata": {},
   "outputs": [],
   "source": [
    "\n",
    "\n",
    "#  set default behavior for browser\n",
    "yOptions=webdriver.ChromeOptions()\n",
    "\n",
    "yOptions.add_argument(\"--start-maximized\")\n",
    "yOptions.add_argument(\"--disable-notifications\")\n",
    "yOptions.add_argument(\"--disable-web-security\")\n",
    "yOptions.add_argument(\"--allow-running-insecure-content\")\n",
    "#yOptions.add_argument(\"--user-data-dir\")\n",
    "\n",
    "# headless makes browsers not visible\n",
    "yBsr=Browser('chrome', **exec_path, headless=False, options=yOptions)\n",
    "\n",
    "yBsr.visit(yYahoo)\n",
    "\n",
    "# works as 11:16am \n",
    "# yBsr.visit(yWebsite)"
   ]
  },
  {
   "cell_type": "code",
   "execution_count": 106,
   "metadata": {},
   "outputs": [],
   "source": [
    "# this is for c or\n",
    "# https://stackoverflow.com/questions/45953043/selenium-test-scripts-to-login-into-google-account-through-new-ajax-login-form\n",
    "#yBsr.find_by_id(\"identifierId\").fill(username) # \"email\" did not work, but \"identifierID\" OK\n",
    "#yBsr.find_by_id(\"identifierNext\").click()\n",
    "# google claims this login is not sure \n",
    "\n",
    "# try yahoo\n",
    "yBsr.find_by_id(\"login-username\").fill(\"txb321@yahoo.com\")\n",
    "time.sleep(0.5)\n",
    "yBsr.find_by_id(\"login-signin\").click()\n",
    "\n",
    "time.sleep(1)\n",
    "\n",
    "yBsr.find_by_id(\"login-passwd\").fill(\"pwd4yh002\")\n",
    "time.sleep(0.5)\n",
    "yBsr.find_by_id(\"login-signin\").click()"
   ]
  },
  {
   "cell_type": "code",
   "execution_count": 107,
   "metadata": {},
   "outputs": [],
   "source": [
    "# try yahoo \n"
   ]
  }
 ],
 "metadata": {
  "kernelspec": {
   "display_name": "Python 3",
   "language": "python",
   "name": "python3"
  },
  "language_info": {
   "codemirror_mode": {
    "name": "ipython",
    "version": 3
   },
   "file_extension": ".py",
   "mimetype": "text/x-python",
   "name": "python",
   "nbconvert_exporter": "python",
   "pygments_lexer": "ipython3",
   "version": "3.8.5"
  },
  "orig_nbformat": 2
 },
 "nbformat": 4,
 "nbformat_minor": 2
}
