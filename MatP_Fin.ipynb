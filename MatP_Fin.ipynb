{
 "cells": [
  {
   "cell_type": "code",
   "execution_count": 1,
   "metadata": {},
   "outputs": [],
   "source": [
    "import logging\r\n",
    "import sys \r\n",
    "from io import StringIO\r\n",
    "import datetime\r\n",
    "\r\n",
    "class LevelFilter(logging.Filter):\r\n",
    "    ##example: yFilter1=LevelFilter((logging.INFO, logging.WARNING, logging.ERROR))\r\n",
    "    def __init__(self, levels):\r\n",
    "        self.levels = levels\r\n",
    "\r\n",
    "    def filter(self, record):\r\n",
    "        return record.levelno in self.levels\r\n",
    "\r\n",
    "\r\n",
    "\r\n",
    "def setLogging(Filter):\r\n",
    "    ylog_stream=StringIO()\r\n",
    "\r\n",
    "    logging.basicConfig(level=logging.DEBUG)\r\n",
    "    yLog=logging.getLogger()\r\n",
    "   # yLog.handlers.pop()\r\n",
    "   # yLog.propagate=False   #when no handler to handle a log message at current level\r\n",
    "    #yLog.setLevel(logging.DEBUG)  # critial,error,warning,info,debug, notset \r\n",
    "   # logging.basicConfig(format='%(asctime)s | %(levelname)s: %(message)s', level=logging.NOTSET)\r\n",
    "\r\n",
    "    yHandler=logging.StreamHandler(sys.stdout) #stdout, so cell output is white   \r\n",
    "   \r\n",
    "    log_format=' %(funcName)s%(lineno)s|%(levelno)s: %(message)s [%(filename)s%(asctime)s]'\r\n",
    "    dt_format= '%m/%d:%I:%M'#  %p'\r\n",
    "    yHandler.setFormatter(logging.Formatter(log_format, datefmt=dt_format))\r\n",
    "    \r\n",
    "    \r\n",
    "\r\n",
    "    yHandler1=logging.StreamHandler(ylog_stream) #stderr, so cell output is red   \r\n",
    "    \r\n",
    "    log_format=' %(funcName)s%(lineno)s|%(levelname)s: %(message)s [%(filename)s%(asctime)s]'\r\n",
    "    dt_format= '%m/%d:%I:%M'#  %p'\r\n",
    "    yHandler1.setFormatter(logging.Formatter(log_format, datefmt=dt_format))   \r\n",
    "\r\n",
    "    yHandler1.setLevel=(logging.ERROR)\r\n",
    "    yHandler1.addFilter(Filter)\r\n",
    "    \r\n",
    "    yHandler.setLevel=(logging.CRITICAL)\r\n",
    "\r\n",
    "\r\n",
    "    if (yLog.hasHandlers()):\r\n",
    "        yLog.handlers.clear()  #c logging has its default handle if logging basic config is called \r\n",
    "    yLog.addHandler(yHandler)\r\n",
    "    yLog.addHandler(yHandler1)\r\n",
    "    \r\n",
    "   \r\n",
    "    lgd=lambda y: yLog.debug(y)\r\n",
    "    lgi=lambda y: yLog.info(y)\r\n",
    "    lgw=lambda y: yLog.warning(y)\r\n",
    "    lge=lambda y: yLog.error(y)\r\n",
    "    lgc=lambda y: yLog.critical(y)\r\n",
    "\r\n",
    "    lgi('logging started at:' + datetime.datetime.now().strftime('%x'))\r\n",
    "\r\n",
    "    return lgc,lge,lgw,lgi,lgd,yLog, ylog_stream\r\n",
    "\r\n",
    "\r\n"
   ]
  },
  {
   "cell_type": "code",
   "execution_count": 2,
   "metadata": {},
   "outputs": [
    {
     "name": "stdout",
     "output_type": "stream",
     "text": [
      " <lambda>52|20: logging started at:04/22/21 [<ipython-input-1-f41ca5364651>04/22:11:22]\n",
      " <lambda>55|50: testing lg.criticalsdfffffffffff     [<ipython-input-1-f41ca5364651>04/22:11:22]\n",
      " <lambda>51|10: testing lg.debug [<ipython-input-1-f41ca5364651>04/22:11:22]\n",
      " <lambda>53|30: testing lg.warning [<ipython-input-1-f41ca5364651>04/22:11:22]\n",
      " <lambda>52|20: testing lg.info [<ipython-input-1-f41ca5364651>04/22:11:22]\n",
      "-----------log stream\n",
      " <lambda>52|INFO: logging started at:04/22/21 [<ipython-input-1-f41ca5364651>04/22:11:22]\n",
      " <lambda>53|WARNING: testing lg.warning [<ipython-input-1-f41ca5364651>04/22:11:22]\n",
      " <lambda>52|INFO: testing lg.info [<ipython-input-1-f41ca5364651>04/22:11:22]\n",
      "\n"
     ]
    }
   ],
   "source": [
    "yFilter1=LevelFilter((logging.INFO, logging.WARNING, logging.ERROR))\r\n",
    "lgc,lge,lgw,lgi,lgd, yLog, yLogStrm=setLogging(yFilter1)\r\n",
    "\r\n",
    "\r\n",
    "lgc(\"testing lg.criticalsdfffffffffff    \")\r\n",
    "lgd(\"testing lg.debug\")\r\n",
    "lgw(\"testing lg.warning\")\r\n",
    "lgi(\"testing lg.info\")\r\n",
    "print ('-----------log stream')\r\n",
    "print (yLogStrm.getvalue())\r\n",
    "\r\n"
   ]
  },
  {
   "cell_type": "code",
   "execution_count": 6,
   "metadata": {},
   "outputs": [
    {
     "name": "stdout",
     "output_type": "stream",
     "text": [
      " <lambda>53|30: testing lg.warning2 [<ipython-input-1-194729e946d9>04/22:10:57]\n",
      " <lambda>53|30: testing lg.warning3 [<ipython-input-1-194729e946d9>04/22:10:57]\n"
     ]
    }
   ],
   "source": [
    "lgw(\"testing lg.warning2\")\r\n",
    "lgw(\"testing lg.warning3\")"
   ]
  },
  {
   "cell_type": "code",
   "execution_count": 7,
   "metadata": {},
   "outputs": [
    {
     "name": "stdout",
     "output_type": "stream",
     "text": [
      " <lambda>53|30: testing lg.warning4 [<ipython-input-1-194729e946d9>04/22:10:57]\n",
      "asd\n"
     ]
    }
   ],
   "source": [
    "lgw(\"testing lg.warning4\")\r\n",
    "print('asd')"
   ]
  },
  {
   "cell_type": "code",
   "execution_count": 9,
   "metadata": {},
   "outputs": [],
   "source": [
    "# \"C:\\Users\\bt\\Documents\\GitHub\\SigmaCodingBTC\\TDAAPI\\Automating Stock Investing Technical Analysis With Python _ by Farhad Malik _ FinTechExplained _ Medium_btc.pdf\"\r\n",
    "# for TA in python https://technical-analysis-library-in-python.readthedocs.io/en/latest/\r\n",
    "from ta.momentum import RSIIndicator\r\n",
    "from ta.trend import MACD\r\n",
    "import numpy as np\r\n",
    "import pandas\r\n",
    "from ta.volatility import BollingerBands\r\n",
    "import talib\r\n",
    "import a_utils\r\n",
    "\r\n",
    "class Company:\r\n",
    "    def __init__(self, symbol):\r\n",
    "        self.symbol = symbol\r\n",
    "        self.technical_indicators = None    ### pd dataframe \r\n",
    "        self.prices = None  ### pd series \r\n",
    "        self.img_path=r'C:\\Users\\bt\\Documents\\GitHub\\SigmaCodingBTC\\TDAAPI\\historical_data\\a_Debug'\r\n",
    "\r\n",
    "    # you don;t need the \"y\" if this function is declared outside of the Company class\r\n",
    "    # this is an instance method, requires \"self\" as the first arugment in a instance method\r\n",
    "    def generate_buy_sell_signals(y, condition_buy, condition_sell, dataframe, strategy):\r\n",
    "        last_signal = None\r\n",
    "        indicators = []\r\n",
    "        buy = []\r\n",
    "        sell = [] \r\n",
    "\r\n",
    "        \r\n",
    "        #print(\" Buy sell signal() condition_buy type=\", type(condition_sell))\r\n",
    "        #print(\" Buy sell signal() dataframe type=\", type(dataframe))\r\n",
    "        #print(\" Buy sell signal() buy type=\", type(buy))\r\n",
    "        #print(\"genbuysellsignal():company.ti ?DF shape\", dataframe.shape)\r\n",
    "\r\n",
    "        for i in range(0, len(dataframe)):\r\n",
    "            # if buy condition is true and last signal was not Buy\r\n",
    "            if condition_buy(i, dataframe) and last_signal != 'Buy':\r\n",
    "                last_signal = 'Buy'\r\n",
    "                indicators.append(last_signal)\r\n",
    "                buy.append(dataframe['Close'].iloc[i])\r\n",
    "                sell.append(np.nan)\r\n",
    "            # if sell condition is true and last signal was Buy\r\n",
    "            elif condition_sell(i, dataframe)  and last_signal == 'Buy':\r\n",
    "                last_signal = 'Sell'\r\n",
    "                indicators.append(last_signal)\r\n",
    "                buy.append(np.nan)\r\n",
    "                sell.append(dataframe['Close'].iloc[i])\r\n",
    "            else:\r\n",
    "                indicators.append(last_signal)\r\n",
    "                buy.append(np.nan)\r\n",
    "                sell.append(np.nan)\r\n",
    "\r\n",
    "        dataframe[f'{strategy}_Last_Signal'] = np.array(last_signal)\r\n",
    "        dataframe[f'{strategy}_Indicator'] = np.array(indicators)\r\n",
    "        dataframe[f'{strategy}_Buy'] = np.array(buy)\r\n",
    "        dataframe[f'{strategy}_Sell'] = np.array(sell)\r\n",
    "        # print(\"genbuysellsignal():company.ti shape\", company.technical_indicators.shape)\r\n",
    "        # print(\"genbuysellsignal():company.ti ?DF shape\", dataframe.shape)\r\n",
    "def get_sma(config, company):\r\n",
    "        close_prices = company.prices\r\n",
    "    \r\n",
    "        DF2=company.technical_indicators  \r\n",
    "\r\n",
    "        print(\"get_sma():df2 shape\", DF2.shape)\r\n",
    "        \r\n",
    "        SMAPeriod=10\r\n",
    "\r\n",
    "        ySMA=talib.SMA(close_prices, timeperiod=SMAPeriod)\r\n",
    "        DF2['SMA']=ySMA\r\n",
    "\r\n",
    "        print(\"get_sma():df2 shape\", DF2.shape)\r\n",
    "        print(\"get_sma():df2 type\", type(DF2))\r\n",
    "        print(\"get_sma():company.ti shape, before gen_signal\", company.technical_indicators.shape)\r\n",
    "        company.generate_buy_sell_signals(lambda x, dataframe: DF2['SMA'].values[x] < DF2['Close'].iloc[x] , \r\n",
    "                                          lambda x, dataframe: DF2['SMA'].values[x] > DF2['Close'].iloc[x], DF2, 'SMA')\r\n",
    "        \r\n",
    "        #print(\"genbuysellsignal():company.ti shape after gen_signal\", company.technical_indicators.shape)\r\n",
    "        return DF2         \r\n",
    "\r\n",
    "def set_technical_indicators(config, company):\r\n",
    "        company.technical_indicators = pandas.DataFrame()\r\n",
    "        company.technical_indicators['Close'] = company.prices  # tech_indicator is now fully stacked with on column , with index\r\n",
    "\r\n",
    "        #print (\"new\", company.technical_indicators)\r\n",
    "        \r\n",
    "        get_sma(config, company)\r\n",
    "        #print (\"after SMA\",company.technical_indicators)\r\n",
    "\r\n",
    "        #print (\"before MACD\",yGoog.technical_indicators)\r\n",
    "        get_macd(config, company)\r\n",
    "        \r\n",
    "        #print (\"before RSI\",yGoog.technical_indicators)\r\n",
    "        get_rsi(config, company)\r\n",
    "        \r\n",
    "        #print (\"After RSI\", company.technical_indicators)\r\n",
    "        get_bollinger_bands(config, company)\r\n",
    "\r\n",
    "def get_macd(config, company):\r\n",
    "        close_prices = company.prices\r\n",
    "        dataframe1 = company.technical_indicators\r\n",
    "        window_slow = 26\r\n",
    "        signal = 9\r\n",
    "        window_fast = 12\r\n",
    "        macd = MACD(company.prices, window_slow, window_fast, signal)\r\n",
    "        dataframe1['MACD'] = macd.macd()\r\n",
    "        dataframe1['MACD_Histogram'] = macd.macd_diff()\r\n",
    "        dataframe1['MACD_Signal'] = macd.macd_signal()\r\n",
    "\r\n",
    "        #print(\"df len\", len(dataframe1))\r\n",
    "    \r\n",
    "        company.generate_buy_sell_signals(lambda x, dataframe: dataframe['MACD'].values[x] < dataframe['MACD_Signal'].iloc[x] , \r\n",
    "                                        lambda x, dataframe: dataframe['MACD'].values[x] > dataframe['MACD_Signal'].iloc[x], \r\n",
    "                                        dataframe1, 'MACD')\r\n",
    "                                        \r\n",
    "        return dataframe1\r\n",
    "\r\n",
    "def get_rsi(config, company):\r\n",
    "    close_prices = company.prices\r\n",
    "    dataframe = company.technical_indicators\r\n",
    "    rsi_time_period = 20\r\n",
    "    rsi_indicator = RSIIndicator(close_prices, rsi_time_period)\r\n",
    "    dataframe['RSI'] = rsi_indicator.rsi()\r\n",
    "    low_rsi = 40\r\n",
    "    high_rsi = 70\r\n",
    "    company.generate_buy_sell_signals(\r\n",
    "        lambda x, dataframe: dataframe['RSI'].values[x] < low_rsi,\r\n",
    "        lambda x, dataframe: dataframe['RSI'].values[x] > high_rsi, dataframe, 'RSI')\r\n",
    "    return dataframe\r\n",
    "\r\n",
    "\r\n",
    "def get_bollinger_bands(config, company):\r\n",
    "    close_prices = company.prices\r\n",
    "    dataframe = company.technical_indicators\r\n",
    "    window = 20\r\n",
    "    indicator_bb = BollingerBands(close=close_prices, window=window,window_dev=2)\r\n",
    "    # Add Bollinger Bands features\r\n",
    "    dataframe['Bollinger_Bands_Middle'] =indicator_bb.bollinger_mavg()\r\n",
    "    dataframe['Bollinger_Bands_Upper'] =indicator_bb.bollinger_hband()\r\n",
    "    dataframe['Bollinger_Bands_Lower'] =indicator_bb.bollinger_lband()\r\n",
    "    company.generate_buy_sell_signals(\r\n",
    "        lambda x, signal: signal['Close'].values[x] < signal['Bollinger_Bands_Lower'].values[x], \r\n",
    "        lambda x, signal: signal['Close'].values[x] >\r\n",
    "        signal['Bollinger_Bands_Upper'].values[x],\r\n",
    "        dataframe, 'Bollinger_Bands')\r\n",
    "    return dataframe"
   ]
  },
  {
   "cell_type": "code",
   "execution_count": 10,
   "metadata": {},
   "outputs": [
    {
     "name": "stdout",
     "output_type": "stream",
     "text": [
      " wrapper241|10: (private) matplotlib data path: C:\\Users\\bt\\anaconda3\\lib\\site-packages\\matplotlib\\mpl-data [__init__.py04/22:10:06]\n"
     ]
    },
    {
     "name": "stderr",
     "output_type": "stream",
     "text": [
      " wrapper241|DEBUG: (private) matplotlib data path: C:\\Users\\bt\\anaconda3\\lib\\site-packages\\matplotlib\\mpl-data [__init__.py04/22:10:06]\n"
     ]
    },
    {
     "name": "stdout",
     "output_type": "stream",
     "text": [
      " wrapper241|10: matplotlib data path: C:\\Users\\bt\\anaconda3\\lib\\site-packages\\matplotlib\\mpl-data [__init__.py04/22:10:06]\n"
     ]
    },
    {
     "name": "stderr",
     "output_type": "stream",
     "text": [
      " wrapper241|DEBUG: matplotlib data path: C:\\Users\\bt\\anaconda3\\lib\\site-packages\\matplotlib\\mpl-data [__init__.py04/22:10:06]\n"
     ]
    },
    {
     "name": "stdout",
     "output_type": "stream",
     "text": [
      " wrapper241|10: CONFIGDIR=C:\\Users\\bt\\.matplotlib [__init__.py04/22:10:06]\n"
     ]
    },
    {
     "name": "stderr",
     "output_type": "stream",
     "text": [
      " wrapper241|DEBUG: CONFIGDIR=C:\\Users\\bt\\.matplotlib [__init__.py04/22:10:06]\n"
     ]
    },
    {
     "name": "stdout",
     "output_type": "stream",
     "text": [
      " <module>1471|10: matplotlib version 3.3.2 [__init__.py04/22:10:06]\n"
     ]
    },
    {
     "name": "stderr",
     "output_type": "stream",
     "text": [
      " <module>1471|DEBUG: matplotlib version 3.3.2 [__init__.py04/22:10:06]\n"
     ]
    },
    {
     "name": "stdout",
     "output_type": "stream",
     "text": [
      " <module>1472|10: interactive is False [__init__.py04/22:10:06]\n"
     ]
    },
    {
     "name": "stderr",
     "output_type": "stream",
     "text": [
      " <module>1472|DEBUG: interactive is False [__init__.py04/22:10:06]\n"
     ]
    },
    {
     "name": "stdout",
     "output_type": "stream",
     "text": [
      " <module>1473|10: platform is win32 [__init__.py04/22:10:06]\n"
     ]
    },
    {
     "name": "stderr",
     "output_type": "stream",
     "text": [
      " <module>1473|DEBUG: platform is win32 [__init__.py04/22:10:06]\n"
     ]
    },
    {
     "name": "stdout",
     "output_type": "stream",
     "text": [
      " <module>1474|10: loaded modules: ['sys', 'builtins', '_frozen_importlib', '_imp', '_warnings', '_frozen_importlib_external', '_io', 'marshal', 'nt', '_thread', '_weakref', 'winreg', 'time', 'zipimport', '_codecs', 'codecs', 'encodings.aliases', 'encodings', 'encodings.utf_8', '_signal', '__main__', 'encodings.latin_1', '_abc', 'abc', 'io', '_stat', 'stat', '_collections_abc', 'genericpath', 'ntpath', 'os.path', 'os', '_sitebuiltins', '_locale', '_bootlocale', 'encodings.cp1252', 'types', 'importlib._bootstrap', 'importlib._bootstrap_external', 'warnings', 'importlib', 'importlib.machinery', 'importlib.abc', '_operator', 'operator', 'keyword', '_heapq', 'heapq', 'itertools', 'reprlib', '_collections', 'collections', '_functools', 'functools', 'contextlib', 'importlib.util', 'mpl_toolkits', 'sphinxcontrib', 'zope', 'site', '_weakrefset', 'weakref', 'pkgutil', 'runpy', 'ipykernel._version', '__future__', 'enum', '_sre', 'sre_constants', 'sre_parse', 'sre_compile', 'copyreg', 're', '_json', 'json.scanner', 'json.decoder', 'json.encoder', 'json', 'errno', 'signal', 'threading', 'msvcrt', '_winapi', 'subprocess', 'IPython.core', 'IPython.core.getipython', 'IPython.core.release', 'atexit', 'copy', 'posixpath', 'fnmatch', 'glob', 'token', 'tokenize', 'linecache', 'traceback', 'collections.abc', '_string', 'string', 'logging', 'zlib', '_compression', '_bz2', 'bz2', '_lzma', 'lzma', 'shutil', '_ast', 'ast', '_opcode', 'opcode', 'dis', 'inspect', 'traitlets.utils', 'traitlets.utils.getargspec', 'traitlets.utils.importstring', 'traitlets.utils.sentinel', 'traitlets.utils.bunch', 'traitlets.utils.descriptions', 'traitlets.traitlets', 'traitlets.utils.decorators', 'traitlets._version', 'traitlets', 'pprint', 'locale', 'gettext', 'argparse', 'ipython_genutils._version', 'ipython_genutils', 'math', '_bisect', 'bisect', '_sha512', '_random', 'random', 'ipython_genutils.encoding', 'platform', 'ipython_genutils.py3compat', 'ipython_genutils.path', 'traitlets.config.loader', 'textwrap', 'ipython_genutils.text', 'traitlets.config.configurable', 'traitlets.config.application', 'traitlets.config', 'sysconfig', 'urllib', 'urllib.parse', 'pydoc', 'bdb', 'IPython.utils', 'IPython.utils.ipstruct', 'IPython.utils.coloransi', 'pygments', 'IPython.utils.colorable', 'IPython.utils.PyColorize', 'IPython.utils.encoding', 'IPython.utils.py3compat', 'IPython.core.excolors', 'IPython.testing', 'IPython.testing.skipdoctest', 'cmd', 'codeop', 'code', 'pdb', 'IPython.core.debugger', 'IPython.core.display_trap', '_ctypes', '_struct', 'struct', 'ctypes._endian', 'ctypes', 'ctypes.wintypes', 'shlex', 'IPython.utils._process_common', 'IPython.utils._process_win32', 'IPython.utils.process', 'IPython.utils.decorators', 'IPython.utils.path', 'IPython.utils.data', 'IPython.utils.terminal', 'IPython.core.ultratb', 'IPython.utils._sysinfo', 'IPython.utils.sysinfo', 'IPython.core.crashhandler', 'tempfile', 'IPython.utils.importstring', 'IPython.paths', 'IPython.core.profiledir', 'IPython.core.application', 'IPython.terminal', '_hashlib', '_blake2', '_sha3', 'hashlib', 'IPython.core.compilerop', 'IPython.core.error', 'pathlib', 'IPython.utils.text', 'IPython.core.magic_arguments', 'getopt', 'typing.io', 'typing.re', 'typing', 'binascii', 'mimetypes', 'IPython.core.display', 'IPython.core.page', 'getpass', 'IPython.lib.security', 'IPython.lib', '_datetime', 'datetime', 'IPython.lib.pretty', 'IPython.utils.openpy', 'IPython.utils.dir2', 'IPython.utils.wildcard', 'pygments.lexers._mapping', 'pygments.modeline', 'pygments.plugin', 'pygments.util', 'pygments.lexers', 'pygments.filter', 'pygments.token', 'pygments.filters', 'pygments.regexopt', 'pygments.lexer', 'pygments.unistring', 'pygments.lexers.python', 'pygments.formatters._mapping', 'pygments.formatters', 'pygments.styles', 'pygments.formatter', 'pygments.formatters.html', 'IPython.core.oinspect', 'IPython.core.inputtransformer2', 'decorator', 'IPython.core.magic', '_compat_pickle', '_pickle', 'pickle', 'pickleshare', 'IPython.core.autocall', 'IPython.core.macro', 'IPython.core.splitinput', 'IPython.core.prefilter', 'IPython.core.alias', 'IPython.core.builtin_trap', 'backcall.backcall', 'backcall', 'IPython.core.events', 'IPython.core.displayhook', 'IPython.core.displaypub', 'IPython.core.extensions', 'IPython.utils.sentinel', 'IPython.core.formatters', '_sqlite3', 'sqlite3.dbapi2', 'sqlite3', 'IPython.core.history', 'IPython.core.logger', 'IPython.core.payload', 'IPython.core.usage', 'html.entities', 'html', 'IPython.lib.display', 'IPython.display', 'IPython.utils.capture', 'IPython.utils.io', 'IPython.core.hooks', 'IPython.utils.strdispatch', 'IPython.utils.syspathcontext', 'IPython.utils.tempdir', 'IPython.utils.contexts', 'IPython.core.async_helpers', 'IPython.core.interactiveshell', 'concurrent', 'concurrent.futures._base', 'concurrent.futures', '_socket', 'select', 'selectors', 'socket', '_ssl', 'base64', 'ssl', 'asyncio.constants', 'asyncio.format_helpers', 'asyncio.base_futures', 'asyncio.log', 'asyncio.coroutines', '_contextvars', 'contextvars', 'asyncio.exceptions', 'asyncio.base_tasks', '_asyncio', 'asyncio.events', 'asyncio.futures', 'asyncio.protocols', 'asyncio.transports', 'asyncio.sslproto', 'asyncio.locks', 'asyncio.tasks', 'asyncio.staggered', 'asyncio.trsock', 'asyncio.base_events', 'asyncio.runners', 'asyncio.queues', 'asyncio.streams', 'asyncio.subprocess', '_overlapped', 'asyncio.base_subprocess', 'asyncio.proactor_events', 'asyncio.selector_events', 'asyncio.windows_utils', 'asyncio.windows_events', 'asyncio', 'prompt_toolkit.application.current', 'prompt_toolkit.eventloop.utils', 'prompt_toolkit.eventloop.async_generator', 'wcwidth.table_wide', 'wcwidth.table_zero', 'wcwidth.unicode_versions', 'wcwidth.wcwidth', 'wcwidth', 'prompt_toolkit.utils', 'prompt_toolkit.eventloop.inputhook', 'prompt_toolkit.eventloop', 'prompt_toolkit.application.run_in_terminal', 'prompt_toolkit.selection', 'prompt_toolkit.clipboard.base', 'prompt_toolkit.clipboard.in_memory', 'prompt_toolkit.clipboard', 'prompt_toolkit.cache', 'prompt_toolkit.enums', 'prompt_toolkit.filters.base', 'prompt_toolkit.filters.app', 'prompt_toolkit.filters.cli', 'prompt_toolkit.filters.utils', 'prompt_toolkit.filters', 'prompt_toolkit.document', 'prompt_toolkit.auto_suggest', 'prompt_toolkit.data_structures', 'prompt_toolkit.styles.base', 'prompt_toolkit.styles.named_colors', 'prompt_toolkit.styles.style', 'prompt_toolkit.styles.defaults', 'prompt_toolkit.styles.pygments', 'colorsys', 'prompt_toolkit.styles.style_transformation', 'prompt_toolkit.styles', 'prompt_toolkit.output.color_depth', 'prompt_toolkit.output.base', 'prompt_toolkit.patch_stdout', 'prompt_toolkit.output.defaults', 'prompt_toolkit.output', 'array', 'prompt_toolkit.output.vt100', 'prompt_toolkit.mouse_events', 'prompt_toolkit.formatted_text.base', 'prompt_toolkit.formatted_text.ansi', 'xml', 'xml.dom.domreg', 'xml.dom', 'xml.dom.minicompat', 'xml.dom.NodeFilter', 'xml.dom.xmlbuilder', 'xml.dom.minidom', 'prompt_toolkit.formatted_text.html', 'prompt_toolkit.formatted_text.pygments', 'prompt_toolkit.formatted_text.utils', 'prompt_toolkit.formatted_text', 'prompt_toolkit.completion.base', 'prompt_toolkit.completion.filesystem', 'prompt_toolkit.completion.word_completer', 'prompt_toolkit.completion.fuzzy_completer', 'prompt_toolkit.completion.nested', 'prompt_toolkit.completion', 'prompt_toolkit.history', 'prompt_toolkit.keys', 'prompt_toolkit.key_binding.key_bindings', 'prompt_toolkit.key_binding.key_processor', 'prompt_toolkit.key_binding', 'prompt_toolkit.key_binding.vi_state', 'prompt_toolkit.search', 'prompt_toolkit.validation', 'prompt_toolkit.buffer', 'prompt_toolkit.input.base', 'prompt_toolkit.input.defaults', 'prompt_toolkit.input', 'prompt_toolkit.input.typeahead', 'prompt_toolkit.key_binding.bindings', 'prompt_toolkit.key_binding.bindings.scroll', 'prompt_toolkit.key_binding.bindings.page_navigation', 'prompt_toolkit.lexers.base', 'prompt_toolkit.lexers.pygments', 'prompt_toolkit.lexers', 'prompt_toolkit.layout.utils', 'prompt_toolkit.layout.processors', 'prompt_toolkit.layout.controls', 'prompt_toolkit.layout.dimension', 'prompt_toolkit.layout.margins', 'prompt_toolkit.layout.mouse_handlers', 'prompt_toolkit.layout.screen', 'prompt_toolkit.layout.containers', 'prompt_toolkit.layout.layout', 'prompt_toolkit.layout.menus', 'prompt_toolkit.layout', 'prompt_toolkit.key_binding.bindings.completion', 'prompt_toolkit.key_binding.bindings.named_commands', 'prompt_toolkit.key_binding.bindings.basic', 'prompt_toolkit.key_binding.bindings.cpr', 'prompt_toolkit.key_binding.bindings.emacs', 'prompt_toolkit.key_binding.bindings.mouse', 'prompt_toolkit.input.ansi_escape_sequences', 'prompt_toolkit.input.vt100_parser', 'prompt_toolkit.key_binding.digraphs', 'prompt_toolkit.key_binding.bindings.vi', 'prompt_toolkit.key_binding.defaults', 'prompt_toolkit.key_binding.emacs_state', 'prompt_toolkit.layout.dummy', 'prompt_toolkit.renderer', 'prompt_toolkit.application.application', 'prompt_toolkit.application.dummy', 'prompt_toolkit.application', 'prompt_toolkit.key_binding.bindings.focus', 'prompt_toolkit.widgets.toolbars', 'prompt_toolkit.widgets.base', 'prompt_toolkit.widgets.dialogs', 'prompt_toolkit.widgets.menus', 'prompt_toolkit.widgets', 'prompt_toolkit.shortcuts.dialogs', 'prompt_toolkit.shortcuts.progress_bar.formatters', 'prompt_toolkit.shortcuts.progress_bar.base', 'prompt_toolkit.shortcuts.progress_bar', 'prompt_toolkit.key_binding.bindings.auto_suggest', 'prompt_toolkit.key_binding.bindings.open_in_editor', 'prompt_toolkit.shortcuts.prompt', 'prompt_toolkit.shortcuts.utils', 'prompt_toolkit.shortcuts', 'prompt_toolkit', 'pygments.style', 'unicodedata', 'IPython.core.latex_symbols', 'IPython.utils.generics', 'parso._compatibility', 'parso.utils', 'parso.tree', 'parso.python', 'parso.python.token', 'parso.python.tokenize', 'parso.pgen2.grammar_parser', 'parso.pgen2.generator', 'parso.pgen2', 'parso.parser', 'difflib', 'parso.python.prefix', 'parso.python.tree', 'parso.python.parser', 'parso.python.diff', 'gc', 'parso.cache', 'parso.normalizer', 'parso.python.errors', 'parso.python.pep8', 'parso.file_io', 'parso.grammar', 'parso', 'jedi.file_io', '_queue', 'queue', 'jedi._compatibility', 'jedi.parser_utils', 'jedi.debug', 'jedi.settings', 'jedi.cache', 'jedi.inference.cache', 'jedi.inference.helpers', 'jedi.inference.utils', 'jedi.inference.base_value', 'jedi.common', 'jedi.inference.sys_path', 'jedi.inference.recursion', 'jedi.inference.flow_analysis', 'jedi.inference.lazy_value', 'jedi.inference.docstrings', 'jedi.plugins', 'jedi.inference.names', 'jedi.inference.filters', 'jedi.inference.compiled.getattr_static', 'jedi.inference.compiled.access', 'jedi.inference.signature', 'jedi.inference.context', 'jedi.inference.compiled.value', 'jedi.inference.compiled', 'jedi.inference.analysis', 'jedi.inference.gradual', 'jedi.inference.value.module', 'jedi.inference.value.dynamic_arrays', 'jedi.inference.value.iterable', 'jedi.inference.arguments', 'jedi.inference.parser_cache', 'jedi.inference.gradual.generics', 'jedi.inference.value.function', 'jedi.inference.value.klass', 'jedi.inference.value.instance', 'jedi.inference.value', 'jedi.inference.gradual.base', 'jedi.inference.gradual.type_var', 'jedi.inference.gradual.typing', 'jedi.inference.gradual.stub_value', 'jedi.inference.gradual.typeshed', 'jedi.inference.imports', 'jedi.inference.param', 'jedi.inference.gradual.annotation', 'jedi.inference.value.decorator', 'jedi.inference.syntax_tree', 'jedi.inference', 'jedi.inference.gradual.conversion', 'jedi.inference.compiled.mixed', 'pydoc_data', 'pydoc_data.topics', 'jedi.api.keywords', 'jedi.api.completion_cache', 'jedi.api.helpers', 'jedi.api.classes', 'jedi.api.interpreter', 'jedi.api.strings', 'jedi.api.file_name', 'jedi.api.completion', 'filecmp', 'jedi.inference.compiled.subprocess.functions', 'jedi.api.exceptions', 'jedi.inference.compiled.subprocess', 'jedi.api.environment', 'jedi.inference.references', 'jedi.api.project', 'jedi.api.errors', 'jedi.api.refactoring', 'jedi.api.refactoring.extract', 'jedi.inference.gradual.utils', 'jedi.api', 'jedi.plugins.stdlib', 'jedi.plugins.flask', 'jedi.plugins.pytest', 'jedi.plugins.django', 'jedi.plugins.registry', 'jedi', 'IPython.core.completer', 'IPython.terminal.ptutils', 'IPython.lib.clipboard', 'IPython.terminal.shortcuts', 'IPython.terminal.debugger', 'IPython.terminal.magics', 'IPython.terminal.pt_inputhooks', 'IPython.terminal.prompts', 'IPython.terminal.interactiveshell', 'IPython.core.magics.auto', 'IPython.core.magics.basic', 'email', 'http', 'email.errors', 'email.quoprimime', 'email.base64mime', 'quopri', 'email.encoders', 'email.charset', 'email.header', 'calendar', 'email._parseaddr', 'email.utils', 'email._policybase', 'email.feedparser', 'email.parser', 'uu', 'email._encoded_words', 'email.iterators', 'email.message', 'http.client', 'urllib.response', 'urllib.error', 'nturl2path', 'urllib.request', 'IPython.core.magics.code', 'IPython.core.magics.config', 'IPython.core.magics.display', 'timeit', '_lsprof', 'profile', 'cProfile', 'pstats', 'IPython.utils.module_paths', 'IPython.utils.timing', 'IPython.core.magics.execution', 'IPython.core.magics.extension', 'IPython.core.magics.history', 'IPython.core.magics.logging', 'IPython.core.magics.namespace', 'IPython.core.magics.osm', 'IPython.core.magics.packaging', 'IPython.core.pylabtools', 'IPython.core.magics.pylab', 'IPython.lib.backgroundjobs', 'IPython.core.magics.script', 'IPython.core.magics', 'IPython.core.shellapp', 'IPython.extensions', 'IPython.extensions.storemagic', 'IPython.terminal.ipapp', 'IPython.terminal.embed', 'IPython.utils.frame', 'IPython', 'jupyter_client._version', 'zmq.backend.select', 'cython_runtime', 'zmq.backend.cython.constants', '_cython_0_29_21', 'zmq.backend.cython.error', 'zmq.error', 'zmq.backend.cython.message', 'zmq.backend.cython.context', 'zmq.backend.cython.socket', 'zmq.backend.cython.utils', 'zmq.backend.cython._poll', 'zmq.backend.cython._version', 'zmq.backend.cython._device', 'zmq.backend.cython._proxy_steerable', 'zmq.backend.cython', 'zmq.backend', 'zmq.utils', 'zmq.utils.constant_names', 'zmq.sugar.constants', 'zmq.sugar.attrsettr', 'zmq.sugar.poll', 'zmq.utils.strtypes', 'zmq.utils.jsonapi', 'zmq.sugar.socket', 'zmq.sugar.context', 'zmq.sugar.frame', 'zmq.sugar.tracker', 'zmq.sugar.version', 'zmq.sugar.stopwatch', 'zmq.sugar', 'zmq', 'jupyter_client.localinterfaces', 'jupyter_core.version', 'jupyter_core', 'distutils', 'distutils.errors', 'distutils.dep_util', 'distutils.debug', 'distutils.log', 'distutils.spawn', 'distutils.util', 'jupyter_core.paths', 'jupyter_client.connect', 'traitlets.log', 'jupyter_client.launcher', 'jupyter_client.channelsabc', 'jupyter_client.channels', 'jupyter_client.clientabc', 'jupyter_client.client', 'ipython_genutils.importstring', 'jupyter_client.kernelspec', 'jupyter_client.managerabc', 'jupyter_client.manager', 'jupyter_client.blocking.channels', 'jupyter_client.blocking.client', 'jupyter_client.blocking', 'zmq._future', 'zmq.asyncio', 'jupyter_client.asynchronous.channels', 'jupyter_client.asynchronous.client', 'jupyter_client.asynchronous', 'uuid', 'jupyter_client.multikernelmanager', 'jupyter_client', 'ipykernel.connect', 'ipykernel', 'tornado', 'numbers', 'logging.handlers', 'tornado.speedups', 'tornado.util', 'tornado.escape', 'colorama.ansi', 'colorama.win32', 'colorama.winterm', 'colorama.ansitowin32', 'colorama.initialise', 'colorama', 'tornado.log', 'tornado.concurrent', 'tornado.ioloop', 'tornado.platform', 'tornado.gen', 'tornado.platform.asyncio', 'zmq.eventloop.ioloop', 'zmq.eventloop', 'zmq.eventloop.zmqstream', 'imp', 'hmac', 'dateutil._version', 'dateutil', 'six', '_decimal', 'decimal', 'dateutil._common', 'dateutil.relativedelta', 'six.moves', 'dateutil.tz._common', 'dateutil.tz._factories', 'dateutil.tz.win', 'dateutil.tz.tz', 'dateutil.tz', 'dateutil.parser._parser', 'dateutil.parser.isoparser', 'dateutil.parser', '_strptime', 'jupyter_client.jsonutil', 'jupyter_client.adapter', 'jupyter_client.session', 'ipykernel.iostream', 'ipykernel.heartbeat', 'IPython.utils.tokenutil', 'tornado.locks', 'tornado.queues', 'ipykernel.jsonutil', 'ipykernel.kernelbase', 'ipykernel.comm.comm', 'ipykernel.comm.manager', 'ipykernel.comm', 'IPython.core.payloadpage', 'ipykernel.displayhook', 'ipykernel.zmqshell', 'distutils.version', 'ipykernel.eventloops', 'ipykernel.ipkernel', 'ipykernel.parentpoller', 'ipykernel.kernelapp', 'win32api', 'win32security', 'ntsecuritycon', 'faulthandler', 'ipykernel.codeutil', 'ipykernel.pickleutil', 'ipykernel.serialize', 'ipykernel.datapub', 'IPython.core.completerlib', 'storemagic', 'autoreload', 'jedi.inference.finder', 'jedi.inference.star_args', 'numpy._globals', 'numpy.__config__', 'numpy.version', 'mkl._mklinit', 'mkl._py_mkl_service', 'mkl', 'numpy._distributor_init', 'numpy.core._multiarray_umath', 'numpy.compat._inspect', 'numpy.compat.py3k', 'numpy.compat', 'numpy.core.overrides', 'numpy.core.multiarray', 'numpy.core.umath', 'numpy.core._string_helpers', 'numpy.core._dtype', 'numpy.core._type_aliases', 'numpy.core.numerictypes', 'numpy.core._asarray', 'numpy.core._exceptions', 'numpy.core._methods', 'numpy.core.fromnumeric', 'numpy.core.shape_base', 'numpy.core._ufunc_config', 'numpy.core.arrayprint', 'numpy.core.numeric', 'numpy.core.defchararray', 'numpy.core.records', 'numpy.core.memmap', 'numpy.core.function_base', 'numpy.core.machar', 'numpy.core.getlimits', 'numpy.core.einsumfunc', 'numpy.core._multiarray_tests', 'numpy.core._add_newdocs', 'numpy.core._dtype_ctypes', 'numpy.core._internal', 'numpy._pytesttester', 'numpy.core', 'numpy.lib.mixins', 'numpy.lib.ufunclike', 'numpy.lib.type_check', 'numpy.lib.scimath', 'numpy.lib.twodim_base', 'numpy.linalg.lapack_lite', 'numpy.linalg._umath_linalg', 'numpy.linalg.linalg', 'numpy.linalg', 'numpy.matrixlib.defmatrix', 'numpy.matrixlib', 'numpy.lib.histograms', 'numpy.lib.function_base', 'numpy.lib.stride_tricks', 'numpy.lib.index_tricks', 'numpy.lib.nanfunctions', 'numpy.lib.shape_base', 'numpy.lib.polynomial', 'numpy.lib.utils', 'numpy.lib.arraysetops', 'numpy.lib.format', 'numpy.lib._datasource', 'numpy.lib._iotools', 'numpy.lib.npyio', 'numpy.lib.financial', 'numpy.lib.arrayterator', 'numpy.lib.arraypad', 'numpy.lib._version', 'numpy.lib', 'numpy.fft._pocketfft_internal', 'numpy.fft._pocketfft', 'numpy.fft.helper', 'numpy.fft', 'numpy.polynomial.polyutils', 'numpy.polynomial._polybase', 'numpy.polynomial.polynomial', 'numpy.polynomial.chebyshev', 'numpy.polynomial.legendre', 'numpy.polynomial.hermite', 'numpy.polynomial.hermite_e', 'numpy.polynomial.laguerre', 'numpy.polynomial', 'numpy.random._common', 'secrets', 'numpy.random.bit_generator', 'numpy.random._bounded_integers', 'numpy.random._mt19937', 'numpy.random.mtrand', 'numpy.random._philox', 'numpy.random._pcg64', 'numpy.random._sfc64', 'numpy.random._generator', 'numpy.random._pickle', 'numpy.random', 'numpy.ctypeslib', 'numpy.ma.core', 'numpy.ma.extras', 'numpy.ma', 'numpy', 'pytz.exceptions', 'pytz.lazy', 'pytz.tzinfo', 'pytz.tzfile', 'pytz', 'pandas._typing', 'pandas.compat', 'pandas.compat.numpy', 'pandas._libs.tslibs.dtypes', 'pandas._libs.tslibs.base', 'pandas._libs.tslibs.np_datetime', 'pandas._libs.tslibs.nattype', 'pandas._libs.tslibs.timezones', 'pandas._libs.tslibs.ccalendar', 'pandas._libs.tslibs.tzconversion', 'pandas._libs.tslibs.timedeltas', 'pandas._config.config', 'pandas._config.dates', 'pandas._config.display', 'pandas._config', 'pandas._config.localization', 'pandas._libs.tslibs.strptime', 'pandas._libs.tslibs.fields', 'pandas._libs.tslibs.timestamps', 'dateutil.easter', 'pandas._libs.properties', 'pandas._libs.tslibs.offsets', 'pandas._libs.tslibs.parsing', 'pandas._libs.tslibs.conversion', 'pandas._libs.tslibs.period', 'pandas._libs.tslibs.vectorized', 'pandas._libs.tslibs', 'pandas._libs.ops_dispatch', 'pandas._libs.missing', 'pandas._libs.hashtable', 'pandas._libs.algos', 'pandas._libs.interval', 'pandas._libs', 'pandas._libs.tslib', 'pandas._libs.lib', 'pandas.core', 'pandas.core.config_init', 'pandas.core.dtypes', 'pandas.errors', 'pandas.core.dtypes.generic', 'pandas.core.dtypes.base', 'pandas.core.dtypes.inference', 'pandas.core.dtypes.dtypes', 'pandas.core.dtypes.common', 'pandas.core.dtypes.missing', 'pandas.util._decorators', 'pandas.core.util', 'pandas._libs.hashing', 'pandas.core.util.hashing', 'pandas.util', 'pandas.util._validators', 'pandas.core.dtypes.cast', 'pandas.core.common', 'pandas.core.construction', 'pandas.core.indexers', 'pandas.core.algorithms', 'pandas.compat.numpy.function', 'pandas._libs.ops', 'pandas.core.ops.roperator', 'pandas.core.ops.missing', 'pandas.core.ops.dispatch', 'pandas.core.ops.invalid', 'pandas.core.ops.array_ops', 'pandas.core.ops.common', 'pandas.core.ops.docstrings', 'pandas.core.ops.mask_ops', 'pandas.core.ops.methods', 'pandas.core.ops', 'pandas.compat._optional', 'pandas.core.missing', 'pandas.core.sorting', 'pandas.core.arrays.base', 'bottleneck.reduce', 'bottleneck.nonreduce', 'bottleneck.nonreduce_axis', 'bottleneck.move', 'bottleneck.slow.reduce', 'bottleneck.slow.nonreduce', 'bottleneck.slow.nonreduce_axis', 'bottleneck.slow.move', 'bottleneck.slow', 'bottleneck.benchmark', 'bottleneck.benchmark.autotimeit', 'bottleneck.benchmark.bench', 'bottleneck.benchmark.bench_detailed', 'bottleneck.tests', 'bottleneck.tests.util', 'bottleneck._pytesttester', 'bottleneck._version', 'bottleneck', 'pandas.core.nanops', 'pandas.core.array_algos', 'pandas.core.array_algos.masked_reductions', 'pandas.core.arrays.masked', 'pandas.core.arrays.boolean', '_csv', 'csv', 'pandas.core.accessor', 'pandas.core.array_algos.transforms', 'pandas.core.arrays._mixins', 'pandas.core.base', 'pandas.io', 'pandas.io.formats', 'pandas.io.formats.console', 'pandas.core.arrays.categorical', 'pandas.tseries', 'pandas.tseries.frequencies', 'pandas.core.arrays.datetimelike', 'pandas.core.arrays._ranges', 'pandas.tseries.offsets', 'pandas.core.arrays.datetimes', 'pandas.core.tools', 'pandas.core.tools.numeric', 'pandas.core.arrays.integer', 'pandas.core.indexes', 'pandas._libs.index', 'pandas._libs.join', 'pandas._libs.sparse', 'pandas.core.arrays.sparse.dtype', 'pandas.io.formats.printing', 'pandas.core.arrays.sparse.array', 'pandas.core.arrays.sparse.accessor', 'pandas.core.arrays.sparse', 'pandas.core.dtypes.concat', 'pandas.core.indexes.frozen', 'pandas.core.strings', 'pandas.core.indexes.base', 'pandas.core.arrays.interval', 'pandas.core.arrays.numpy_', 'pandas.core.arrays.period', 'pandas.core.arrays.string_', 'pandas.core.arrays.timedeltas', 'pandas.core.arrays', 'pandas.core.indexes.extension', 'pandas.core.indexes.category', 'pandas.core.indexes.numeric', 'pandas.core.tools.timedeltas', 'pandas.core.indexes.datetimelike', 'pandas.core.tools.times', 'pandas.core.indexes.datetimes', 'pandas.util._exceptions', 'pandas.core.indexes.multi', 'pandas.core.indexes.timedeltas', 'pandas.core.indexes.interval', 'pandas.core.indexes.period', 'pandas.core.indexes.range', 'pandas.core.indexes.api', 'pandas._libs.reshape', 'pandas._libs.indexing', 'pandas.core.indexing', 'pandas._libs.writers', 'pandas._libs.internals', 'pandas.core.internals.blocks', 'pandas.core.internals.ops', 'pandas.core.internals.managers', 'pandas.core.internals.concat', 'pandas.core.internals', 'pandas.core.shared_docs', 'gzip', 'mmap', 'zipfile', 'pandas.io.common', 'pandas.io.formats.format', 'pandas.core.generic', 'pandas.core.indexes.accessors', 'pandas.arrays', 'pandas.core.tools.datetimes', 'pandas.plotting._core', 'pandas.plotting._misc', 'pandas.plotting', 'pandas._libs.window', 'pandas._libs.window.aggregations', 'pandas.core.groupby.base', 'pandas.core.window.common', 'pandas.core.util.numba_', 'pandas._libs.window.indexers', 'pandas.core.window.indexers', 'pandas.core.window.numba_', 'pandas.core.window.rolling', 'pandas.core.window.ewm', 'pandas.core.window.expanding', 'pandas.core.window', 'pandas.core.series', 'pandas.core.aggregation', 'pandas.core.internals.construction', 'pandas.core.reshape', 'pandas.core.reshape.concat', 'pandas.core.reshape.util', 'pandas.core.reshape.melt', 'pandas.io.formats.info', 'pandas.core.frame', 'pandas._libs.groupby', 'pandas._libs.reduction', 'pandas.core.groupby.categorical', 'pandas.core.groupby.grouper', 'pandas.core.groupby.ops', 'pandas.core.groupby.groupby', 'pandas.core.groupby.generic', 'pandas.core.groupby', 'pandas.core.api', 'pandas.tseries.api', 'pandas.core.computation', 'pandas.core.computation.common', 'pandas.core.computation.align', 'pandas.compat.chainmap', 'pandas.core.computation.scope', 'pandas.core.computation.ops', 'pandas.core.computation.engines', 'pandas.core.computation.parsing', 'pandas.core.computation.expr', 'pandas.core.computation.eval', 'pandas.core.computation.api', 'pandas.core.reshape.merge', 'pandas.core.reshape.pivot', 'pandas.core.reshape.reshape', 'pandas.core.reshape.tile', 'pandas.core.reshape.api', 'pandas.api.extensions', 'pandas.api.indexers', 'pandas.core.dtypes.api', 'pandas.api.types', 'pandas.api', 'pandas.util._print_versions', 'pandas.io.clipboards', 'pandas._libs.parsers', 'pandas.io.excel._util', 'pandas.io.date_converters', 'pandas.io.parsers', 'pandas.io.excel._odfreader', 'pandas.io.excel._openpyxl', 'pandas.io.excel._pyxlsb', 'pandas.io.excel._xlrd', 'pandas.io.excel._base', 'pandas._libs.json', 'pandas.io.formats.css', 'pandas.io.formats.excel', 'pandas.io.excel._odswriter', 'pandas.io.excel._xlsxwriter', 'pandas.io.excel._xlwt', 'pandas.io.excel', 'pandas.io.feather_format', 'pandas.io.gbq', 'pandas.io.html', 'pandas.io.json._normalize', 'pandas.io.json._table_schema', 'pandas.io.json._json', 'pandas.io.json', 'pandas.io.orc', 'pandas.io.parquet', 'pandas.compat.pickle_compat', 'pandas.io.pickle', 'pandas.core.computation.pytables', 'pandas.io.pytables', 'pandas.io.sas.sasreader', 'pandas.io.sas', 'pandas.io.spss', 'pandas.io.sql', 'pandas.io.stata', 'pandas.io.api', 'pandas.util._tester', 'pandas._libs.testing', 'pandas._testing', 'pandas.testing', 'pandas._version', 'pandas', 'ta.utils', 'ta.momentum', 'ta.others', 'ta.trend', 'ta.volatility', 'ta.volume', 'ta.wrapper', 'ta', 'talib._ta_lib', 'talib.stream', 'talib', 'unittest.util', 'unittest.result', 'unittest.case', 'unittest.async_case', 'unittest.suite', 'unittest.loader', 'unittest.signals', 'unittest.runner', 'unittest.main', 'unittest', 'a_utils', 'matplotlib', 'matplotlib.cbook.deprecation', 'matplotlib.cbook', 'matplotlib._animation_data', 'matplotlib.animation', 'pyparsing', 'matplotlib.fontconfig_pattern', 'matplotlib.docstring', 'matplotlib._color_data', 'matplotlib.colors', 'cycler', 'matplotlib.rcsetup', 'matplotlib._version', 'matplotlib.ft2font', 'kiwisolver'] [__init__.py04/22:10:06]\n"
     ]
    },
    {
     "name": "stderr",
     "output_type": "stream",
     "text": [
      " <module>1474|DEBUG: loaded modules: ['sys', 'builtins', '_frozen_importlib', '_imp', '_warnings', '_frozen_importlib_external', '_io', 'marshal', 'nt', '_thread', '_weakref', 'winreg', 'time', 'zipimport', '_codecs', 'codecs', 'encodings.aliases', 'encodings', 'encodings.utf_8', '_signal', '__main__', 'encodings.latin_1', '_abc', 'abc', 'io', '_stat', 'stat', '_collections_abc', 'genericpath', 'ntpath', 'os.path', 'os', '_sitebuiltins', '_locale', '_bootlocale', 'encodings.cp1252', 'types', 'importlib._bootstrap', 'importlib._bootstrap_external', 'warnings', 'importlib', 'importlib.machinery', 'importlib.abc', '_operator', 'operator', 'keyword', '_heapq', 'heapq', 'itertools', 'reprlib', '_collections', 'collections', '_functools', 'functools', 'contextlib', 'importlib.util', 'mpl_toolkits', 'sphinxcontrib', 'zope', 'site', '_weakrefset', 'weakref', 'pkgutil', 'runpy', 'ipykernel._version', '__future__', 'enum', '_sre', 'sre_constants', 'sre_parse', 'sre_compile', 'copyreg', 're', '_json', 'json.scanner', 'json.decoder', 'json.encoder', 'json', 'errno', 'signal', 'threading', 'msvcrt', '_winapi', 'subprocess', 'IPython.core', 'IPython.core.getipython', 'IPython.core.release', 'atexit', 'copy', 'posixpath', 'fnmatch', 'glob', 'token', 'tokenize', 'linecache', 'traceback', 'collections.abc', '_string', 'string', 'logging', 'zlib', '_compression', '_bz2', 'bz2', '_lzma', 'lzma', 'shutil', '_ast', 'ast', '_opcode', 'opcode', 'dis', 'inspect', 'traitlets.utils', 'traitlets.utils.getargspec', 'traitlets.utils.importstring', 'traitlets.utils.sentinel', 'traitlets.utils.bunch', 'traitlets.utils.descriptions', 'traitlets.traitlets', 'traitlets.utils.decorators', 'traitlets._version', 'traitlets', 'pprint', 'locale', 'gettext', 'argparse', 'ipython_genutils._version', 'ipython_genutils', 'math', '_bisect', 'bisect', '_sha512', '_random', 'random', 'ipython_genutils.encoding', 'platform', 'ipython_genutils.py3compat', 'ipython_genutils.path', 'traitlets.config.loader', 'textwrap', 'ipython_genutils.text', 'traitlets.config.configurable', 'traitlets.config.application', 'traitlets.config', 'sysconfig', 'urllib', 'urllib.parse', 'pydoc', 'bdb', 'IPython.utils', 'IPython.utils.ipstruct', 'IPython.utils.coloransi', 'pygments', 'IPython.utils.colorable', 'IPython.utils.PyColorize', 'IPython.utils.encoding', 'IPython.utils.py3compat', 'IPython.core.excolors', 'IPython.testing', 'IPython.testing.skipdoctest', 'cmd', 'codeop', 'code', 'pdb', 'IPython.core.debugger', 'IPython.core.display_trap', '_ctypes', '_struct', 'struct', 'ctypes._endian', 'ctypes', 'ctypes.wintypes', 'shlex', 'IPython.utils._process_common', 'IPython.utils._process_win32', 'IPython.utils.process', 'IPython.utils.decorators', 'IPython.utils.path', 'IPython.utils.data', 'IPython.utils.terminal', 'IPython.core.ultratb', 'IPython.utils._sysinfo', 'IPython.utils.sysinfo', 'IPython.core.crashhandler', 'tempfile', 'IPython.utils.importstring', 'IPython.paths', 'IPython.core.profiledir', 'IPython.core.application', 'IPython.terminal', '_hashlib', '_blake2', '_sha3', 'hashlib', 'IPython.core.compilerop', 'IPython.core.error', 'pathlib', 'IPython.utils.text', 'IPython.core.magic_arguments', 'getopt', 'typing.io', 'typing.re', 'typing', 'binascii', 'mimetypes', 'IPython.core.display', 'IPython.core.page', 'getpass', 'IPython.lib.security', 'IPython.lib', '_datetime', 'datetime', 'IPython.lib.pretty', 'IPython.utils.openpy', 'IPython.utils.dir2', 'IPython.utils.wildcard', 'pygments.lexers._mapping', 'pygments.modeline', 'pygments.plugin', 'pygments.util', 'pygments.lexers', 'pygments.filter', 'pygments.token', 'pygments.filters', 'pygments.regexopt', 'pygments.lexer', 'pygments.unistring', 'pygments.lexers.python', 'pygments.formatters._mapping', 'pygments.formatters', 'pygments.styles', 'pygments.formatter', 'pygments.formatters.html', 'IPython.core.oinspect', 'IPython.core.inputtransformer2', 'decorator', 'IPython.core.magic', '_compat_pickle', '_pickle', 'pickle', 'pickleshare', 'IPython.core.autocall', 'IPython.core.macro', 'IPython.core.splitinput', 'IPython.core.prefilter', 'IPython.core.alias', 'IPython.core.builtin_trap', 'backcall.backcall', 'backcall', 'IPython.core.events', 'IPython.core.displayhook', 'IPython.core.displaypub', 'IPython.core.extensions', 'IPython.utils.sentinel', 'IPython.core.formatters', '_sqlite3', 'sqlite3.dbapi2', 'sqlite3', 'IPython.core.history', 'IPython.core.logger', 'IPython.core.payload', 'IPython.core.usage', 'html.entities', 'html', 'IPython.lib.display', 'IPython.display', 'IPython.utils.capture', 'IPython.utils.io', 'IPython.core.hooks', 'IPython.utils.strdispatch', 'IPython.utils.syspathcontext', 'IPython.utils.tempdir', 'IPython.utils.contexts', 'IPython.core.async_helpers', 'IPython.core.interactiveshell', 'concurrent', 'concurrent.futures._base', 'concurrent.futures', '_socket', 'select', 'selectors', 'socket', '_ssl', 'base64', 'ssl', 'asyncio.constants', 'asyncio.format_helpers', 'asyncio.base_futures', 'asyncio.log', 'asyncio.coroutines', '_contextvars', 'contextvars', 'asyncio.exceptions', 'asyncio.base_tasks', '_asyncio', 'asyncio.events', 'asyncio.futures', 'asyncio.protocols', 'asyncio.transports', 'asyncio.sslproto', 'asyncio.locks', 'asyncio.tasks', 'asyncio.staggered', 'asyncio.trsock', 'asyncio.base_events', 'asyncio.runners', 'asyncio.queues', 'asyncio.streams', 'asyncio.subprocess', '_overlapped', 'asyncio.base_subprocess', 'asyncio.proactor_events', 'asyncio.selector_events', 'asyncio.windows_utils', 'asyncio.windows_events', 'asyncio', 'prompt_toolkit.application.current', 'prompt_toolkit.eventloop.utils', 'prompt_toolkit.eventloop.async_generator', 'wcwidth.table_wide', 'wcwidth.table_zero', 'wcwidth.unicode_versions', 'wcwidth.wcwidth', 'wcwidth', 'prompt_toolkit.utils', 'prompt_toolkit.eventloop.inputhook', 'prompt_toolkit.eventloop', 'prompt_toolkit.application.run_in_terminal', 'prompt_toolkit.selection', 'prompt_toolkit.clipboard.base', 'prompt_toolkit.clipboard.in_memory', 'prompt_toolkit.clipboard', 'prompt_toolkit.cache', 'prompt_toolkit.enums', 'prompt_toolkit.filters.base', 'prompt_toolkit.filters.app', 'prompt_toolkit.filters.cli', 'prompt_toolkit.filters.utils', 'prompt_toolkit.filters', 'prompt_toolkit.document', 'prompt_toolkit.auto_suggest', 'prompt_toolkit.data_structures', 'prompt_toolkit.styles.base', 'prompt_toolkit.styles.named_colors', 'prompt_toolkit.styles.style', 'prompt_toolkit.styles.defaults', 'prompt_toolkit.styles.pygments', 'colorsys', 'prompt_toolkit.styles.style_transformation', 'prompt_toolkit.styles', 'prompt_toolkit.output.color_depth', 'prompt_toolkit.output.base', 'prompt_toolkit.patch_stdout', 'prompt_toolkit.output.defaults', 'prompt_toolkit.output', 'array', 'prompt_toolkit.output.vt100', 'prompt_toolkit.mouse_events', 'prompt_toolkit.formatted_text.base', 'prompt_toolkit.formatted_text.ansi', 'xml', 'xml.dom.domreg', 'xml.dom', 'xml.dom.minicompat', 'xml.dom.NodeFilter', 'xml.dom.xmlbuilder', 'xml.dom.minidom', 'prompt_toolkit.formatted_text.html', 'prompt_toolkit.formatted_text.pygments', 'prompt_toolkit.formatted_text.utils', 'prompt_toolkit.formatted_text', 'prompt_toolkit.completion.base', 'prompt_toolkit.completion.filesystem', 'prompt_toolkit.completion.word_completer', 'prompt_toolkit.completion.fuzzy_completer', 'prompt_toolkit.completion.nested', 'prompt_toolkit.completion', 'prompt_toolkit.history', 'prompt_toolkit.keys', 'prompt_toolkit.key_binding.key_bindings', 'prompt_toolkit.key_binding.key_processor', 'prompt_toolkit.key_binding', 'prompt_toolkit.key_binding.vi_state', 'prompt_toolkit.search', 'prompt_toolkit.validation', 'prompt_toolkit.buffer', 'prompt_toolkit.input.base', 'prompt_toolkit.input.defaults', 'prompt_toolkit.input', 'prompt_toolkit.input.typeahead', 'prompt_toolkit.key_binding.bindings', 'prompt_toolkit.key_binding.bindings.scroll', 'prompt_toolkit.key_binding.bindings.page_navigation', 'prompt_toolkit.lexers.base', 'prompt_toolkit.lexers.pygments', 'prompt_toolkit.lexers', 'prompt_toolkit.layout.utils', 'prompt_toolkit.layout.processors', 'prompt_toolkit.layout.controls', 'prompt_toolkit.layout.dimension', 'prompt_toolkit.layout.margins', 'prompt_toolkit.layout.mouse_handlers', 'prompt_toolkit.layout.screen', 'prompt_toolkit.layout.containers', 'prompt_toolkit.layout.layout', 'prompt_toolkit.layout.menus', 'prompt_toolkit.layout', 'prompt_toolkit.key_binding.bindings.completion', 'prompt_toolkit.key_binding.bindings.named_commands', 'prompt_toolkit.key_binding.bindings.basic', 'prompt_toolkit.key_binding.bindings.cpr', 'prompt_toolkit.key_binding.bindings.emacs', 'prompt_toolkit.key_binding.bindings.mouse', 'prompt_toolkit.input.ansi_escape_sequences', 'prompt_toolkit.input.vt100_parser', 'prompt_toolkit.key_binding.digraphs', 'prompt_toolkit.key_binding.bindings.vi', 'prompt_toolkit.key_binding.defaults', 'prompt_toolkit.key_binding.emacs_state', 'prompt_toolkit.layout.dummy', 'prompt_toolkit.renderer', 'prompt_toolkit.application.application', 'prompt_toolkit.application.dummy', 'prompt_toolkit.application', 'prompt_toolkit.key_binding.bindings.focus', 'prompt_toolkit.widgets.toolbars', 'prompt_toolkit.widgets.base', 'prompt_toolkit.widgets.dialogs', 'prompt_toolkit.widgets.menus', 'prompt_toolkit.widgets', 'prompt_toolkit.shortcuts.dialogs', 'prompt_toolkit.shortcuts.progress_bar.formatters', 'prompt_toolkit.shortcuts.progress_bar.base', 'prompt_toolkit.shortcuts.progress_bar', 'prompt_toolkit.key_binding.bindings.auto_suggest', 'prompt_toolkit.key_binding.bindings.open_in_editor', 'prompt_toolkit.shortcuts.prompt', 'prompt_toolkit.shortcuts.utils', 'prompt_toolkit.shortcuts', 'prompt_toolkit', 'pygments.style', 'unicodedata', 'IPython.core.latex_symbols', 'IPython.utils.generics', 'parso._compatibility', 'parso.utils', 'parso.tree', 'parso.python', 'parso.python.token', 'parso.python.tokenize', 'parso.pgen2.grammar_parser', 'parso.pgen2.generator', 'parso.pgen2', 'parso.parser', 'difflib', 'parso.python.prefix', 'parso.python.tree', 'parso.python.parser', 'parso.python.diff', 'gc', 'parso.cache', 'parso.normalizer', 'parso.python.errors', 'parso.python.pep8', 'parso.file_io', 'parso.grammar', 'parso', 'jedi.file_io', '_queue', 'queue', 'jedi._compatibility', 'jedi.parser_utils', 'jedi.debug', 'jedi.settings', 'jedi.cache', 'jedi.inference.cache', 'jedi.inference.helpers', 'jedi.inference.utils', 'jedi.inference.base_value', 'jedi.common', 'jedi.inference.sys_path', 'jedi.inference.recursion', 'jedi.inference.flow_analysis', 'jedi.inference.lazy_value', 'jedi.inference.docstrings', 'jedi.plugins', 'jedi.inference.names', 'jedi.inference.filters', 'jedi.inference.compiled.getattr_static', 'jedi.inference.compiled.access', 'jedi.inference.signature', 'jedi.inference.context', 'jedi.inference.compiled.value', 'jedi.inference.compiled', 'jedi.inference.analysis', 'jedi.inference.gradual', 'jedi.inference.value.module', 'jedi.inference.value.dynamic_arrays', 'jedi.inference.value.iterable', 'jedi.inference.arguments', 'jedi.inference.parser_cache', 'jedi.inference.gradual.generics', 'jedi.inference.value.function', 'jedi.inference.value.klass', 'jedi.inference.value.instance', 'jedi.inference.value', 'jedi.inference.gradual.base', 'jedi.inference.gradual.type_var', 'jedi.inference.gradual.typing', 'jedi.inference.gradual.stub_value', 'jedi.inference.gradual.typeshed', 'jedi.inference.imports', 'jedi.inference.param', 'jedi.inference.gradual.annotation', 'jedi.inference.value.decorator', 'jedi.inference.syntax_tree', 'jedi.inference', 'jedi.inference.gradual.conversion', 'jedi.inference.compiled.mixed', 'pydoc_data', 'pydoc_data.topics', 'jedi.api.keywords', 'jedi.api.completion_cache', 'jedi.api.helpers', 'jedi.api.classes', 'jedi.api.interpreter', 'jedi.api.strings', 'jedi.api.file_name', 'jedi.api.completion', 'filecmp', 'jedi.inference.compiled.subprocess.functions', 'jedi.api.exceptions', 'jedi.inference.compiled.subprocess', 'jedi.api.environment', 'jedi.inference.references', 'jedi.api.project', 'jedi.api.errors', 'jedi.api.refactoring', 'jedi.api.refactoring.extract', 'jedi.inference.gradual.utils', 'jedi.api', 'jedi.plugins.stdlib', 'jedi.plugins.flask', 'jedi.plugins.pytest', 'jedi.plugins.django', 'jedi.plugins.registry', 'jedi', 'IPython.core.completer', 'IPython.terminal.ptutils', 'IPython.lib.clipboard', 'IPython.terminal.shortcuts', 'IPython.terminal.debugger', 'IPython.terminal.magics', 'IPython.terminal.pt_inputhooks', 'IPython.terminal.prompts', 'IPython.terminal.interactiveshell', 'IPython.core.magics.auto', 'IPython.core.magics.basic', 'email', 'http', 'email.errors', 'email.quoprimime', 'email.base64mime', 'quopri', 'email.encoders', 'email.charset', 'email.header', 'calendar', 'email._parseaddr', 'email.utils', 'email._policybase', 'email.feedparser', 'email.parser', 'uu', 'email._encoded_words', 'email.iterators', 'email.message', 'http.client', 'urllib.response', 'urllib.error', 'nturl2path', 'urllib.request', 'IPython.core.magics.code', 'IPython.core.magics.config', 'IPython.core.magics.display', 'timeit', '_lsprof', 'profile', 'cProfile', 'pstats', 'IPython.utils.module_paths', 'IPython.utils.timing', 'IPython.core.magics.execution', 'IPython.core.magics.extension', 'IPython.core.magics.history', 'IPython.core.magics.logging', 'IPython.core.magics.namespace', 'IPython.core.magics.osm', 'IPython.core.magics.packaging', 'IPython.core.pylabtools', 'IPython.core.magics.pylab', 'IPython.lib.backgroundjobs', 'IPython.core.magics.script', 'IPython.core.magics', 'IPython.core.shellapp', 'IPython.extensions', 'IPython.extensions.storemagic', 'IPython.terminal.ipapp', 'IPython.terminal.embed', 'IPython.utils.frame', 'IPython', 'jupyter_client._version', 'zmq.backend.select', 'cython_runtime', 'zmq.backend.cython.constants', '_cython_0_29_21', 'zmq.backend.cython.error', 'zmq.error', 'zmq.backend.cython.message', 'zmq.backend.cython.context', 'zmq.backend.cython.socket', 'zmq.backend.cython.utils', 'zmq.backend.cython._poll', 'zmq.backend.cython._version', 'zmq.backend.cython._device', 'zmq.backend.cython._proxy_steerable', 'zmq.backend.cython', 'zmq.backend', 'zmq.utils', 'zmq.utils.constant_names', 'zmq.sugar.constants', 'zmq.sugar.attrsettr', 'zmq.sugar.poll', 'zmq.utils.strtypes', 'zmq.utils.jsonapi', 'zmq.sugar.socket', 'zmq.sugar.context', 'zmq.sugar.frame', 'zmq.sugar.tracker', 'zmq.sugar.version', 'zmq.sugar.stopwatch', 'zmq.sugar', 'zmq', 'jupyter_client.localinterfaces', 'jupyter_core.version', 'jupyter_core', 'distutils', 'distutils.errors', 'distutils.dep_util', 'distutils.debug', 'distutils.log', 'distutils.spawn', 'distutils.util', 'jupyter_core.paths', 'jupyter_client.connect', 'traitlets.log', 'jupyter_client.launcher', 'jupyter_client.channelsabc', 'jupyter_client.channels', 'jupyter_client.clientabc', 'jupyter_client.client', 'ipython_genutils.importstring', 'jupyter_client.kernelspec', 'jupyter_client.managerabc', 'jupyter_client.manager', 'jupyter_client.blocking.channels', 'jupyter_client.blocking.client', 'jupyter_client.blocking', 'zmq._future', 'zmq.asyncio', 'jupyter_client.asynchronous.channels', 'jupyter_client.asynchronous.client', 'jupyter_client.asynchronous', 'uuid', 'jupyter_client.multikernelmanager', 'jupyter_client', 'ipykernel.connect', 'ipykernel', 'tornado', 'numbers', 'logging.handlers', 'tornado.speedups', 'tornado.util', 'tornado.escape', 'colorama.ansi', 'colorama.win32', 'colorama.winterm', 'colorama.ansitowin32', 'colorama.initialise', 'colorama', 'tornado.log', 'tornado.concurrent', 'tornado.ioloop', 'tornado.platform', 'tornado.gen', 'tornado.platform.asyncio', 'zmq.eventloop.ioloop', 'zmq.eventloop', 'zmq.eventloop.zmqstream', 'imp', 'hmac', 'dateutil._version', 'dateutil', 'six', '_decimal', 'decimal', 'dateutil._common', 'dateutil.relativedelta', 'six.moves', 'dateutil.tz._common', 'dateutil.tz._factories', 'dateutil.tz.win', 'dateutil.tz.tz', 'dateutil.tz', 'dateutil.parser._parser', 'dateutil.parser.isoparser', 'dateutil.parser', '_strptime', 'jupyter_client.jsonutil', 'jupyter_client.adapter', 'jupyter_client.session', 'ipykernel.iostream', 'ipykernel.heartbeat', 'IPython.utils.tokenutil', 'tornado.locks', 'tornado.queues', 'ipykernel.jsonutil', 'ipykernel.kernelbase', 'ipykernel.comm.comm', 'ipykernel.comm.manager', 'ipykernel.comm', 'IPython.core.payloadpage', 'ipykernel.displayhook', 'ipykernel.zmqshell', 'distutils.version', 'ipykernel.eventloops', 'ipykernel.ipkernel', 'ipykernel.parentpoller', 'ipykernel.kernelapp', 'win32api', 'win32security', 'ntsecuritycon', 'faulthandler', 'ipykernel.codeutil', 'ipykernel.pickleutil', 'ipykernel.serialize', 'ipykernel.datapub', 'IPython.core.completerlib', 'storemagic', 'autoreload', 'jedi.inference.finder', 'jedi.inference.star_args', 'numpy._globals', 'numpy.__config__', 'numpy.version', 'mkl._mklinit', 'mkl._py_mkl_service', 'mkl', 'numpy._distributor_init', 'numpy.core._multiarray_umath', 'numpy.compat._inspect', 'numpy.compat.py3k', 'numpy.compat', 'numpy.core.overrides', 'numpy.core.multiarray', 'numpy.core.umath', 'numpy.core._string_helpers', 'numpy.core._dtype', 'numpy.core._type_aliases', 'numpy.core.numerictypes', 'numpy.core._asarray', 'numpy.core._exceptions', 'numpy.core._methods', 'numpy.core.fromnumeric', 'numpy.core.shape_base', 'numpy.core._ufunc_config', 'numpy.core.arrayprint', 'numpy.core.numeric', 'numpy.core.defchararray', 'numpy.core.records', 'numpy.core.memmap', 'numpy.core.function_base', 'numpy.core.machar', 'numpy.core.getlimits', 'numpy.core.einsumfunc', 'numpy.core._multiarray_tests', 'numpy.core._add_newdocs', 'numpy.core._dtype_ctypes', 'numpy.core._internal', 'numpy._pytesttester', 'numpy.core', 'numpy.lib.mixins', 'numpy.lib.ufunclike', 'numpy.lib.type_check', 'numpy.lib.scimath', 'numpy.lib.twodim_base', 'numpy.linalg.lapack_lite', 'numpy.linalg._umath_linalg', 'numpy.linalg.linalg', 'numpy.linalg', 'numpy.matrixlib.defmatrix', 'numpy.matrixlib', 'numpy.lib.histograms', 'numpy.lib.function_base', 'numpy.lib.stride_tricks', 'numpy.lib.index_tricks', 'numpy.lib.nanfunctions', 'numpy.lib.shape_base', 'numpy.lib.polynomial', 'numpy.lib.utils', 'numpy.lib.arraysetops', 'numpy.lib.format', 'numpy.lib._datasource', 'numpy.lib._iotools', 'numpy.lib.npyio', 'numpy.lib.financial', 'numpy.lib.arrayterator', 'numpy.lib.arraypad', 'numpy.lib._version', 'numpy.lib', 'numpy.fft._pocketfft_internal', 'numpy.fft._pocketfft', 'numpy.fft.helper', 'numpy.fft', 'numpy.polynomial.polyutils', 'numpy.polynomial._polybase', 'numpy.polynomial.polynomial', 'numpy.polynomial.chebyshev', 'numpy.polynomial.legendre', 'numpy.polynomial.hermite', 'numpy.polynomial.hermite_e', 'numpy.polynomial.laguerre', 'numpy.polynomial', 'numpy.random._common', 'secrets', 'numpy.random.bit_generator', 'numpy.random._bounded_integers', 'numpy.random._mt19937', 'numpy.random.mtrand', 'numpy.random._philox', 'numpy.random._pcg64', 'numpy.random._sfc64', 'numpy.random._generator', 'numpy.random._pickle', 'numpy.random', 'numpy.ctypeslib', 'numpy.ma.core', 'numpy.ma.extras', 'numpy.ma', 'numpy', 'pytz.exceptions', 'pytz.lazy', 'pytz.tzinfo', 'pytz.tzfile', 'pytz', 'pandas._typing', 'pandas.compat', 'pandas.compat.numpy', 'pandas._libs.tslibs.dtypes', 'pandas._libs.tslibs.base', 'pandas._libs.tslibs.np_datetime', 'pandas._libs.tslibs.nattype', 'pandas._libs.tslibs.timezones', 'pandas._libs.tslibs.ccalendar', 'pandas._libs.tslibs.tzconversion', 'pandas._libs.tslibs.timedeltas', 'pandas._config.config', 'pandas._config.dates', 'pandas._config.display', 'pandas._config', 'pandas._config.localization', 'pandas._libs.tslibs.strptime', 'pandas._libs.tslibs.fields', 'pandas._libs.tslibs.timestamps', 'dateutil.easter', 'pandas._libs.properties', 'pandas._libs.tslibs.offsets', 'pandas._libs.tslibs.parsing', 'pandas._libs.tslibs.conversion', 'pandas._libs.tslibs.period', 'pandas._libs.tslibs.vectorized', 'pandas._libs.tslibs', 'pandas._libs.ops_dispatch', 'pandas._libs.missing', 'pandas._libs.hashtable', 'pandas._libs.algos', 'pandas._libs.interval', 'pandas._libs', 'pandas._libs.tslib', 'pandas._libs.lib', 'pandas.core', 'pandas.core.config_init', 'pandas.core.dtypes', 'pandas.errors', 'pandas.core.dtypes.generic', 'pandas.core.dtypes.base', 'pandas.core.dtypes.inference', 'pandas.core.dtypes.dtypes', 'pandas.core.dtypes.common', 'pandas.core.dtypes.missing', 'pandas.util._decorators', 'pandas.core.util', 'pandas._libs.hashing', 'pandas.core.util.hashing', 'pandas.util', 'pandas.util._validators', 'pandas.core.dtypes.cast', 'pandas.core.common', 'pandas.core.construction', 'pandas.core.indexers', 'pandas.core.algorithms', 'pandas.compat.numpy.function', 'pandas._libs.ops', 'pandas.core.ops.roperator', 'pandas.core.ops.missing', 'pandas.core.ops.dispatch', 'pandas.core.ops.invalid', 'pandas.core.ops.array_ops', 'pandas.core.ops.common', 'pandas.core.ops.docstrings', 'pandas.core.ops.mask_ops', 'pandas.core.ops.methods', 'pandas.core.ops', 'pandas.compat._optional', 'pandas.core.missing', 'pandas.core.sorting', 'pandas.core.arrays.base', 'bottleneck.reduce', 'bottleneck.nonreduce', 'bottleneck.nonreduce_axis', 'bottleneck.move', 'bottleneck.slow.reduce', 'bottleneck.slow.nonreduce', 'bottleneck.slow.nonreduce_axis', 'bottleneck.slow.move', 'bottleneck.slow', 'bottleneck.benchmark', 'bottleneck.benchmark.autotimeit', 'bottleneck.benchmark.bench', 'bottleneck.benchmark.bench_detailed', 'bottleneck.tests', 'bottleneck.tests.util', 'bottleneck._pytesttester', 'bottleneck._version', 'bottleneck', 'pandas.core.nanops', 'pandas.core.array_algos', 'pandas.core.array_algos.masked_reductions', 'pandas.core.arrays.masked', 'pandas.core.arrays.boolean', '_csv', 'csv', 'pandas.core.accessor', 'pandas.core.array_algos.transforms', 'pandas.core.arrays._mixins', 'pandas.core.base', 'pandas.io', 'pandas.io.formats', 'pandas.io.formats.console', 'pandas.core.arrays.categorical', 'pandas.tseries', 'pandas.tseries.frequencies', 'pandas.core.arrays.datetimelike', 'pandas.core.arrays._ranges', 'pandas.tseries.offsets', 'pandas.core.arrays.datetimes', 'pandas.core.tools', 'pandas.core.tools.numeric', 'pandas.core.arrays.integer', 'pandas.core.indexes', 'pandas._libs.index', 'pandas._libs.join', 'pandas._libs.sparse', 'pandas.core.arrays.sparse.dtype', 'pandas.io.formats.printing', 'pandas.core.arrays.sparse.array', 'pandas.core.arrays.sparse.accessor', 'pandas.core.arrays.sparse', 'pandas.core.dtypes.concat', 'pandas.core.indexes.frozen', 'pandas.core.strings', 'pandas.core.indexes.base', 'pandas.core.arrays.interval', 'pandas.core.arrays.numpy_', 'pandas.core.arrays.period', 'pandas.core.arrays.string_', 'pandas.core.arrays.timedeltas', 'pandas.core.arrays', 'pandas.core.indexes.extension', 'pandas.core.indexes.category', 'pandas.core.indexes.numeric', 'pandas.core.tools.timedeltas', 'pandas.core.indexes.datetimelike', 'pandas.core.tools.times', 'pandas.core.indexes.datetimes', 'pandas.util._exceptions', 'pandas.core.indexes.multi', 'pandas.core.indexes.timedeltas', 'pandas.core.indexes.interval', 'pandas.core.indexes.period', 'pandas.core.indexes.range', 'pandas.core.indexes.api', 'pandas._libs.reshape', 'pandas._libs.indexing', 'pandas.core.indexing', 'pandas._libs.writers', 'pandas._libs.internals', 'pandas.core.internals.blocks', 'pandas.core.internals.ops', 'pandas.core.internals.managers', 'pandas.core.internals.concat', 'pandas.core.internals', 'pandas.core.shared_docs', 'gzip', 'mmap', 'zipfile', 'pandas.io.common', 'pandas.io.formats.format', 'pandas.core.generic', 'pandas.core.indexes.accessors', 'pandas.arrays', 'pandas.core.tools.datetimes', 'pandas.plotting._core', 'pandas.plotting._misc', 'pandas.plotting', 'pandas._libs.window', 'pandas._libs.window.aggregations', 'pandas.core.groupby.base', 'pandas.core.window.common', 'pandas.core.util.numba_', 'pandas._libs.window.indexers', 'pandas.core.window.indexers', 'pandas.core.window.numba_', 'pandas.core.window.rolling', 'pandas.core.window.ewm', 'pandas.core.window.expanding', 'pandas.core.window', 'pandas.core.series', 'pandas.core.aggregation', 'pandas.core.internals.construction', 'pandas.core.reshape', 'pandas.core.reshape.concat', 'pandas.core.reshape.util', 'pandas.core.reshape.melt', 'pandas.io.formats.info', 'pandas.core.frame', 'pandas._libs.groupby', 'pandas._libs.reduction', 'pandas.core.groupby.categorical', 'pandas.core.groupby.grouper', 'pandas.core.groupby.ops', 'pandas.core.groupby.groupby', 'pandas.core.groupby.generic', 'pandas.core.groupby', 'pandas.core.api', 'pandas.tseries.api', 'pandas.core.computation', 'pandas.core.computation.common', 'pandas.core.computation.align', 'pandas.compat.chainmap', 'pandas.core.computation.scope', 'pandas.core.computation.ops', 'pandas.core.computation.engines', 'pandas.core.computation.parsing', 'pandas.core.computation.expr', 'pandas.core.computation.eval', 'pandas.core.computation.api', 'pandas.core.reshape.merge', 'pandas.core.reshape.pivot', 'pandas.core.reshape.reshape', 'pandas.core.reshape.tile', 'pandas.core.reshape.api', 'pandas.api.extensions', 'pandas.api.indexers', 'pandas.core.dtypes.api', 'pandas.api.types', 'pandas.api', 'pandas.util._print_versions', 'pandas.io.clipboards', 'pandas._libs.parsers', 'pandas.io.excel._util', 'pandas.io.date_converters', 'pandas.io.parsers', 'pandas.io.excel._odfreader', 'pandas.io.excel._openpyxl', 'pandas.io.excel._pyxlsb', 'pandas.io.excel._xlrd', 'pandas.io.excel._base', 'pandas._libs.json', 'pandas.io.formats.css', 'pandas.io.formats.excel', 'pandas.io.excel._odswriter', 'pandas.io.excel._xlsxwriter', 'pandas.io.excel._xlwt', 'pandas.io.excel', 'pandas.io.feather_format', 'pandas.io.gbq', 'pandas.io.html', 'pandas.io.json._normalize', 'pandas.io.json._table_schema', 'pandas.io.json._json', 'pandas.io.json', 'pandas.io.orc', 'pandas.io.parquet', 'pandas.compat.pickle_compat', 'pandas.io.pickle', 'pandas.core.computation.pytables', 'pandas.io.pytables', 'pandas.io.sas.sasreader', 'pandas.io.sas', 'pandas.io.spss', 'pandas.io.sql', 'pandas.io.stata', 'pandas.io.api', 'pandas.util._tester', 'pandas._libs.testing', 'pandas._testing', 'pandas.testing', 'pandas._version', 'pandas', 'ta.utils', 'ta.momentum', 'ta.others', 'ta.trend', 'ta.volatility', 'ta.volume', 'ta.wrapper', 'ta', 'talib._ta_lib', 'talib.stream', 'talib', 'unittest.util', 'unittest.result', 'unittest.case', 'unittest.async_case', 'unittest.suite', 'unittest.loader', 'unittest.signals', 'unittest.runner', 'unittest.main', 'unittest', 'a_utils', 'matplotlib', 'matplotlib.cbook.deprecation', 'matplotlib.cbook', 'matplotlib._animation_data', 'matplotlib.animation', 'pyparsing', 'matplotlib.fontconfig_pattern', 'matplotlib.docstring', 'matplotlib._color_data', 'matplotlib.colors', 'cycler', 'matplotlib.rcsetup', 'matplotlib._version', 'matplotlib.ft2font', 'kiwisolver'] [__init__.py04/22:10:06]\n"
     ]
    },
    {
     "name": "stdout",
     "output_type": "stream",
     "text": [
      " wrapper241|10: CACHEDIR=C:\\Users\\bt\\.matplotlib [__init__.py04/22:10:06]\n"
     ]
    },
    {
     "name": "stderr",
     "output_type": "stream",
     "text": [
      " wrapper241|DEBUG: CACHEDIR=C:\\Users\\bt\\.matplotlib [__init__.py04/22:10:06]\n"
     ]
    },
    {
     "name": "stdout",
     "output_type": "stream",
     "text": [
      " <module>1436|10: Using fontManager instance from C:\\Users\\bt\\.matplotlib\\fontlist-v330.json [font_manager.py04/22:10:06]\n"
     ]
    },
    {
     "name": "stderr",
     "output_type": "stream",
     "text": [
      " <module>1436|DEBUG: Using fontManager instance from C:\\Users\\bt\\.matplotlib\\fontlist-v330.json [font_manager.py04/22:10:06]\n"
     ]
    },
    {
     "name": "stdout",
     "output_type": "stream",
     "text": [
      " switch_backend289|10: Loaded backend module://ipykernel.pylab.backend_inline version unknown. [pyplot.py04/22:10:06]\n"
     ]
    },
    {
     "name": "stderr",
     "output_type": "stream",
     "text": [
      " switch_backend289|DEBUG: Loaded backend module://ipykernel.pylab.backend_inline version unknown. [pyplot.py04/22:10:06]\n"
     ]
    },
    {
     "name": "stdout",
     "output_type": "stream",
     "text": [
      " switch_backend289|10: Loaded backend module://ipykernel.pylab.backend_inline version unknown. [pyplot.py04/22:10:06]\n"
     ]
    },
    {
     "name": "stderr",
     "output_type": "stream",
     "text": [
      " switch_backend289|DEBUG: Loaded backend module://ipykernel.pylab.backend_inline version unknown. [pyplot.py04/22:10:06]\n"
     ]
    }
   ],
   "source": [
    "# plotting \r\n",
    "# from \"C:\\Users\\bt\\Documents\\GitHub\\SigmaCodingBTC\\TDAAPI\\Automating Stock Investing Technical Analysis With Python _ by Farhad Malik _ FinTechExplained _ Medium_btc.pdf\"\r\n",
    "# started wit matplotlib tutorial:\r\n",
    "# https://matplotlib.org/stable/tutorials/index.html\r\n",
    "\r\n",
    "\r\n",
    "import os\r\n",
    "from matplotlib import pyplot as plt\r\n",
    "import numpy as np\r\n",
    "class TechnicalIndicatorsChartPlotter:\r\n",
    "    def plot_price_and_signals(self, fig, company, data, strategy,axs):\r\n",
    "            last_signal_val = data[f'{strategy}_Last_Signal'].values[-1]\r\n",
    "            last_signal = 'Unknown' if not last_signal_val else last_signal_val\r\n",
    "        \r\n",
    "            title = f'Close Price Buy/Sell Signals using {strategy}.Last Signal: {last_signal}'\r\n",
    "            fig.suptitle(f'Top: {company.symbol} Stock Price. Bottom:{strategy}')\r\n",
    "\r\n",
    "            if not data[f'{strategy}_Buy'].isnull().all():\r\n",
    "                axs[0].scatter(data.index, data[f'{strategy}_Buy'], color='green', label='Buy Signal', marker='^', alpha=1)\r\n",
    "\r\n",
    "            if not data[f'{strategy}_Sell'].isnull().all():\r\n",
    "                axs[0].scatter(data.index, data[f'{strategy}_Sell'], color='red', label='Sell Signal', marker='v', alpha=1)\r\n",
    "                axs[0].plot(company.prices, label='Close Price',color='blue', alpha=0.35)\r\n",
    "\r\n",
    "            plt.xticks(rotation=45)\r\n",
    "            axs[0].set_title(title)\r\n",
    "            axs[0].set_xlabel('Date', fontsize=18)\r\n",
    "            axs[0].set_ylabel('Close Price', fontsize=18)\r\n",
    "            axs[0].legend(loc='upper left')\r\n",
    "            axs[0].grid()\r\n",
    "\r\n",
    "    def plot_macd(self, company):\r\n",
    "            image = f'images/{company.symbol}_macd.png'\r\n",
    "            macd = company.technical_indicators\r\n",
    "            # Create and plot the graph\r\n",
    "            fig, axs = plt.subplots(2, sharex=True, figsize=(13,9))\r\n",
    "            self.plot_price_and_signals(fig, company, macd, 'MACD', axs)\r\n",
    "            axs[1].plot(macd['MACD'], label=company.symbol+' MACD', color= 'green')\r\n",
    "            axs[1].plot(macd['MACD_Signal'], label='Signal Line',color='orange')\r\n",
    "            positive = macd['MACD_Histogram'][(macd['MACD_Histogram'] >=0)]\r\n",
    "            negative = macd['MACD_Histogram'][(macd['MACD_Histogram'] <0)]\r\n",
    "            axs[1].bar(positive.index, positive, color='green')\r\n",
    "            axs[1].bar(negative.index, negative, color='red')\r\n",
    "            axs[1].legend(loc='upper left')\r\n",
    "            axs[1].grid()\r\n",
    "            #print(os.path.abspath(image))\r\n",
    "            \r\n",
    "            self.save_plot(company,'macd', plt)\r\n",
    "            plt.show()\r\n",
    "\r\n",
    "    def plot_rsi(self, company):\r\n",
    "            image = f'images/{company.symbol}_rsi.png'\r\n",
    "            rsi = company.technical_indicators\r\n",
    "            low_rsi = 40\r\n",
    "            high_rsi = 70\r\n",
    "        #plt.style.use('default')\r\n",
    "            fig, axs = plt.subplots(2, sharex=True, figsize=(13, 9))\r\n",
    "            self.plot_price_and_signals(fig, company, rsi, 'RSI', axs)\r\n",
    "            axs[1].fill_between(rsi.index, y1=low_rsi, y2=high_rsi, color='#adccff', alpha=0.3)\r\n",
    "            axs[1].plot(rsi['RSI'], label='RSI', color='blue',alpha=0.35)\r\n",
    "            axs[1].legend(loc='upper left')\r\n",
    "            axs[1].grid()\r\n",
    "           \r\n",
    "            self.save_plot(company,'rsi', plt)  \r\n",
    "            plt.show()\r\n",
    "\r\n",
    "    def plot_bollinger_bands(self, company):\r\n",
    "            image = f'images/{company.symbol}_bb.png'\r\n",
    "            bollinger_bands = company.technical_indicators\r\n",
    "\r\n",
    "            \r\n",
    "            fig, axs = plt.subplots(2, sharex=True, figsize=(13, 9))\r\n",
    "\r\n",
    "            self.plot_price_and_signals(fig, company, bollinger_bands, 'Bollinger_Bands', axs)\r\n",
    "\r\n",
    "            axs[1].plot(bollinger_bands['Bollinger_Bands_Middle'], label='Middle', color='blue', alpha=0.35)\r\n",
    "            axs[1].plot(bollinger_bands['Bollinger_Bands_Upper'], label='Upper', color='green', alpha=0.35)\r\n",
    "            axs[1].plot(bollinger_bands['Bollinger_Bands_Lower'], label='Lower', color='red', alpha=0.35)\r\n",
    "            axs[1].fill_between(bollinger_bands.index, bollinger_bands['Bollinger_Bands_Lower'], bollinger_bands['Bollinger_Bands_Upper'], alpha=0.1)\r\n",
    "            axs[1].legend(loc='upper left')\r\n",
    "\r\n",
    "            axs[1].grid()\r\n",
    "            \r\n",
    "            self.save_plot(company,'BB', plt)  \r\n",
    "            plt.show()\r\n",
    "            \r\n",
    "    def plot_sma(self, company):\r\n",
    "            \r\n",
    "            sma = company.technical_indicators\r\n",
    "            # Create and plot the graph\r\n",
    "            fig, axs = plt.subplots(2, sharex=True, figsize=(13,9))\r\n",
    "            ##### self.plot_price_and_signals(fig, company, sma, 'SMA', axs)\r\n",
    "            axs[1].plot(sma['SMA'],  label=company.symbol+' SMA', color= 'green')\r\n",
    "            axs[1].plot(sma['Close'], label='Signal Line',color='orange')\r\n",
    "            \r\n",
    "    \r\n",
    "            axs[1].legend(loc='upper left')\r\n",
    "            axs[1].grid()\r\n",
    "           \r\n",
    "                 \r\n",
    "            # save image before the show\r\n",
    "            self.save_plot(company, 'SMA', plt )\r\n",
    "            plt.show()\r\n",
    "\r\n",
    "\r\n",
    "\r\n",
    "    def save_plot(self, company, strategy, plot):\r\n",
    "            filenm = f'{company.symbol}_{strategy}'    \r\n",
    "            yPath= a_utils.addDir(company.img_path, company.symbol)\r\n",
    "            yPath= a_utils.FilePath(Path=yPath, FileNm=filenm, TimeString='', Suffix='')\r\n",
    "            plot.savefig(yPath) \r\n",
    "\r\n",
    "\r\n",
    "\r\n",
    "\r\n"
   ]
  },
  {
   "cell_type": "code",
   "execution_count": 11,
   "metadata": {},
   "outputs": [
    {
     "name": "stdout",
     "output_type": "stream",
     "text": [
      " _new_conn939|10: Starting new HTTPS connection (1): query1.finance.yahoo.com:443 [connectionpool.py04/22:10:06]\n"
     ]
    },
    {
     "name": "stderr",
     "output_type": "stream",
     "text": [
      " _new_conn939|DEBUG: Starting new HTTPS connection (1): query1.finance.yahoo.com:443 [connectionpool.py04/22:10:06]\n"
     ]
    },
    {
     "name": "stdout",
     "output_type": "stream",
     "text": [
      " _make_request433|10: https://query1.finance.yahoo.com:443 \"GET /v8/finance/chart/GOOG?range=1y&interval=1d&includePrePost=False&events=div%2Csplits HTTP/1.1\" 200 None [connectionpool.py04/22:10:06]\n"
     ]
    },
    {
     "name": "stderr",
     "output_type": "stream",
     "text": [
      " _make_request433|DEBUG: https://query1.finance.yahoo.com:443 \"GET /v8/finance/chart/GOOG?range=1y&interval=1d&includePrePost=False&events=div%2Csplits HTTP/1.1\" 200 None [connectionpool.py04/22:10:06]\n"
     ]
    },
    {
     "name": "stdout",
     "output_type": "stream",
     "text": [
      " _init_num_threads141|20: NumExpr defaulting to 8 threads. [utils.py04/22:10:06]\n"
     ]
    },
    {
     "name": "stderr",
     "output_type": "stream",
     "text": [
      " _init_num_threads141|INFO: NumExpr defaulting to 8 threads. [utils.py04/22:10:06]\n"
     ]
    },
    {
     "name": "stdout",
     "output_type": "stream",
     "text": [
      "get_sma():df2 shape (252, 1)\n",
      "get_sma():df2 shape (252, 2)\n",
      "get_sma():df2 type <class 'pandas.core.frame.DataFrame'>\n",
      "get_sma():company.ti shape, before gen_signal (252, 2)\n",
      "addDir() Dir already exists\n",
      " _findfont_cached1334|10: findfont: Matching sans\\-serif:style=normal:variant=normal:weight=normal:stretch=normal:size=18.0. [font_manager.py04/22:10:06]\n"
     ]
    },
    {
     "name": "stderr",
     "output_type": "stream",
     "text": [
      " _findfont_cached1334|DEBUG: findfont: Matching sans\\-serif:style=normal:variant=normal:weight=normal:stretch=normal:size=18.0. [font_manager.py04/22:10:06]\n"
     ]
    },
    {
     "name": "stdout",
     "output_type": "stream",
     "text": [
      " _findfont_cached1346|10: findfont: score(<Font 'STIXSizeThreeSym' (STIXSizThreeSymBol.ttf) normal normal 700 normal>) = 10.335 [font_manager.py04/22:10:06]\n"
     ]
    },
    {
     "name": "stderr",
     "output_type": "stream",
     "text": [
      " _findfont_cached1346|DEBUG: findfont: score(<Font 'STIXSizeThreeSym' (STIXSizThreeSymBol.ttf) normal normal 700 normal>) = 10.335 [font_manager.py04/22:10:06]\n"
     ]
    },
    {
     "name": "stdout",
     "output_type": "stream",
     "text": [
      " _findfont_cached1346|10: findfont: score(<Font 'DejaVu Sans Mono' (DejaVuSansMono-BoldOblique.ttf) oblique normal 700 normal>) = 11.335 [font_manager.py04/22:10:06]\n"
     ]
    },
    {
     "name": "stderr",
     "output_type": "stream",
     "text": [
      " _findfont_cached1346|DEBUG: findfont: score(<Font 'DejaVu Sans Mono' (DejaVuSansMono-BoldOblique.ttf) oblique normal 700 normal>) = 11.335 [font_manager.py04/22:10:06]\n"
     ]
    },
    {
     "name": "stdout",
     "output_type": "stream",
     "text": [
      " _findfont_cached1346|10: findfont: score(<Font 'DejaVu Sans' (DejaVuSans.ttf) normal normal 400 normal>) = 0.05 [font_manager.py04/22:10:06]\n"
     ]
    },
    {
     "name": "stderr",
     "output_type": "stream",
     "text": [
      " _findfont_cached1346|DEBUG: findfont: score(<Font 'DejaVu Sans' (DejaVuSans.ttf) normal normal 400 normal>) = 0.05 [font_manager.py04/22:10:06]\n"
     ]
    },
    {
     "name": "stdout",
     "output_type": "stream",
     "text": [
      " _findfont_cached1346|10: findfont: score(<Font 'STIXSizeFiveSym' (STIXSizFiveSymReg.ttf) normal normal 400 normal>) = 10.05 [font_manager.py04/22:10:06]\n"
     ]
    },
    {
     "name": "stderr",
     "output_type": "stream",
     "text": [
      " _findfont_cached1346|DEBUG: findfont: score(<Font 'STIXSizeFiveSym' (STIXSizFiveSymReg.ttf) normal normal 400 normal>) = 10.05 [font_manager.py04/22:10:06]\n"
     ]
    },
    {
     "name": "stdout",
     "output_type": "stream",
     "text": [
      " _findfont_cached1346|10: findfont: score(<Font 'cmss10' (cmss10.ttf) normal normal 400 normal>) = 10.05 [font_manager.py04/22:10:06]\n"
     ]
    },
    {
     "name": "stderr",
     "output_type": "stream",
     "text": [
      " _findfont_cached1346|DEBUG: findfont: score(<Font 'cmss10' (cmss10.ttf) normal normal 400 normal>) = 10.05 [font_manager.py04/22:10:06]\n"
     ]
    },
    {
     "name": "stdout",
     "output_type": "stream",
     "text": [
      " _findfont_cached1346|10: findfont: score(<Font 'STIXSizeTwoSym' (STIXSizTwoSymReg.ttf) normal normal 400 normal>) = 10.05 [font_manager.py04/22:10:06]\n"
     ]
    },
    {
     "name": "stderr",
     "output_type": "stream",
     "text": [
      " _findfont_cached1346|DEBUG: findfont: score(<Font 'STIXSizeTwoSym' (STIXSizTwoSymReg.ttf) normal normal 400 normal>) = 10.05 [font_manager.py04/22:10:06]\n"
     ]
    },
    {
     "name": "stdout",
     "output_type": "stream",
     "text": [
      " _findfont_cached1346|10: findfont: score(<Font 'STIXSizeOneSym' (STIXSizOneSymBol.ttf) normal normal 700 normal>) = 10.335 [font_manager.py04/22:10:06]\n"
     ]
    },
    {
     "name": "stderr",
     "output_type": "stream",
     "text": [
      " _findfont_cached1346|DEBUG: findfont: score(<Font 'STIXSizeOneSym' (STIXSizOneSymBol.ttf) normal normal 700 normal>) = 10.335 [font_manager.py04/22:10:06]\n"
     ]
    },
    {
     "name": "stdout",
     "output_type": "stream",
     "text": [
      " _findfont_cached1346|10: findfont: score(<Font 'DejaVu Sans Display' (DejaVuSansDisplay.ttf) normal normal 400 normal>) = 10.05 [font_manager.py04/22:10:06]\n"
     ]
    },
    {
     "name": "stderr",
     "output_type": "stream",
     "text": [
      " _findfont_cached1346|DEBUG: findfont: score(<Font 'DejaVu Sans Display' (DejaVuSansDisplay.ttf) normal normal 400 normal>) = 10.05 [font_manager.py04/22:10:06]\n"
     ]
    },
    {
     "name": "stdout",
     "output_type": "stream",
     "text": [
      " _findfont_cached1346|10: findfont: score(<Font 'DejaVu Serif' (DejaVuSerif-BoldItalic.ttf) italic normal 700 normal>) = 11.335 [font_manager.py04/22:10:06]\n"
     ]
    },
    {
     "name": "stderr",
     "output_type": "stream",
     "text": [
      " _findfont_cached1346|DEBUG: findfont: score(<Font 'DejaVu Serif' (DejaVuSerif-BoldItalic.ttf) italic normal 700 normal>) = 11.335 [font_manager.py04/22:10:06]\n"
     ]
    },
    {
     "name": "stdout",
     "output_type": "stream",
     "text": [
      " _findfont_cached1346|10: findfont: score(<Font 'STIXSizeFourSym' (STIXSizFourSymReg.ttf) normal normal 400 normal>) = 10.05 [font_manager.py04/22:10:06]\n"
     ]
    },
    {
     "name": "stderr",
     "output_type": "stream",
     "text": [
      " _findfont_cached1346|DEBUG: findfont: score(<Font 'STIXSizeFourSym' (STIXSizFourSymReg.ttf) normal normal 400 normal>) = 10.05 [font_manager.py04/22:10:06]\n"
     ]
    },
    {
     "name": "stdout",
     "output_type": "stream",
     "text": [
      " _findfont_cached1346|10: findfont: score(<Font 'cmr10' (cmr10.ttf) normal normal 400 normal>) = 10.05 [font_manager.py04/22:10:06]\n"
     ]
    },
    {
     "name": "stderr",
     "output_type": "stream",
     "text": [
      " _findfont_cached1346|DEBUG: findfont: score(<Font 'cmr10' (cmr10.ttf) normal normal 400 normal>) = 10.05 [font_manager.py04/22:10:06]\n"
     ]
    },
    {
     "name": "stdout",
     "output_type": "stream",
     "text": [
      " _findfont_cached1346|10: findfont: score(<Font 'DejaVu Serif Display' (DejaVuSerifDisplay.ttf) normal normal 400 normal>) = 10.05 [font_manager.py04/22:10:06]\n"
     ]
    },
    {
     "name": "stderr",
     "output_type": "stream",
     "text": [
      " _findfont_cached1346|DEBUG: findfont: score(<Font 'DejaVu Serif Display' (DejaVuSerifDisplay.ttf) normal normal 400 normal>) = 10.05 [font_manager.py04/22:10:06]\n"
     ]
    },
    {
     "name": "stdout",
     "output_type": "stream",
     "text": [
      " _findfont_cached1346|10: findfont: score(<Font 'STIXSizeThreeSym' (STIXSizThreeSymReg.ttf) normal normal 400 normal>) = 10.05 [font_manager.py04/22:10:06]\n"
     ]
    },
    {
     "name": "stderr",
     "output_type": "stream",
     "text": [
      " _findfont_cached1346|DEBUG: findfont: score(<Font 'STIXSizeThreeSym' (STIXSizThreeSymReg.ttf) normal normal 400 normal>) = 10.05 [font_manager.py04/22:10:06]\n"
     ]
    },
    {
     "name": "stdout",
     "output_type": "stream",
     "text": [
      " _findfont_cached1346|10: findfont: score(<Font 'STIXNonUnicode' (STIXNonUniBolIta.ttf) italic normal 700 normal>) = 11.335 [font_manager.py04/22:10:06]\n"
     ]
    },
    {
     "name": "stderr",
     "output_type": "stream",
     "text": [
      " _findfont_cached1346|DEBUG: findfont: score(<Font 'STIXNonUnicode' (STIXNonUniBolIta.ttf) italic normal 700 normal>) = 11.335 [font_manager.py04/22:10:06]\n"
     ]
    },
    {
     "name": "stdout",
     "output_type": "stream",
     "text": [
      " _findfont_cached1346|10: findfont: score(<Font 'STIXNonUnicode' (STIXNonUniIta.ttf) italic normal 400 normal>) = 11.05 [font_manager.py04/22:10:06]\n"
     ]
    },
    {
     "name": "stderr",
     "output_type": "stream",
     "text": [
      " _findfont_cached1346|DEBUG: findfont: score(<Font 'STIXNonUnicode' (STIXNonUniIta.ttf) italic normal 400 normal>) = 11.05 [font_manager.py04/22:10:06]\n"
     ]
    },
    {
     "name": "stdout",
     "output_type": "stream",
     "text": [
      " _findfont_cached1346|10: findfont: score(<Font 'cmsy10' (cmsy10.ttf) normal normal 400 normal>) = 10.05 [font_manager.py04/22:10:06]\n"
     ]
    },
    {
     "name": "stderr",
     "output_type": "stream",
     "text": [
      " _findfont_cached1346|DEBUG: findfont: score(<Font 'cmsy10' (cmsy10.ttf) normal normal 400 normal>) = 10.05 [font_manager.py04/22:10:06]\n"
     ]
    },
    {
     "name": "stdout",
     "output_type": "stream",
     "text": [
      " _findfont_cached1346|10: findfont: score(<Font 'DejaVu Serif' (DejaVuSerif.ttf) normal normal 400 normal>) = 10.05 [font_manager.py04/22:10:06]\n"
     ]
    },
    {
     "name": "stderr",
     "output_type": "stream",
     "text": [
      " _findfont_cached1346|DEBUG: findfont: score(<Font 'DejaVu Serif' (DejaVuSerif.ttf) normal normal 400 normal>) = 10.05 [font_manager.py04/22:10:06]\n"
     ]
    },
    {
     "name": "stdout",
     "output_type": "stream",
     "text": [
      " _findfont_cached1346|10: findfont: score(<Font 'DejaVu Sans Mono' (DejaVuSansMono-Bold.ttf) normal normal 700 normal>) = 10.335 [font_manager.py04/22:10:06]\n"
     ]
    },
    {
     "name": "stderr",
     "output_type": "stream",
     "text": [
      " _findfont_cached1346|DEBUG: findfont: score(<Font 'DejaVu Sans Mono' (DejaVuSansMono-Bold.ttf) normal normal 700 normal>) = 10.335 [font_manager.py04/22:10:06]\n"
     ]
    },
    {
     "name": "stdout",
     "output_type": "stream",
     "text": [
      " _findfont_cached1346|10: findfont: score(<Font 'DejaVu Serif' (DejaVuSerif-Italic.ttf) italic normal 400 normal>) = 11.05 [font_manager.py04/22:10:06]\n"
     ]
    },
    {
     "name": "stderr",
     "output_type": "stream",
     "text": [
      " _findfont_cached1346|DEBUG: findfont: score(<Font 'DejaVu Serif' (DejaVuSerif-Italic.ttf) italic normal 400 normal>) = 11.05 [font_manager.py04/22:10:06]\n"
     ]
    },
    {
     "name": "stdout",
     "output_type": "stream",
     "text": [
      " _findfont_cached1346|10: findfont: score(<Font 'STIXGeneral' (STIXGeneral.ttf) normal normal 400 normal>) = 10.05 [font_manager.py04/22:10:06]\n"
     ]
    },
    {
     "name": "stderr",
     "output_type": "stream",
     "text": [
      " _findfont_cached1346|DEBUG: findfont: score(<Font 'STIXGeneral' (STIXGeneral.ttf) normal normal 400 normal>) = 10.05 [font_manager.py04/22:10:06]\n"
     ]
    },
    {
     "name": "stdout",
     "output_type": "stream",
     "text": [
      " _findfont_cached1346|10: findfont: score(<Font 'cmmi10' (cmmi10.ttf) normal normal 400 normal>) = 10.05 [font_manager.py04/22:10:06]\n"
     ]
    },
    {
     "name": "stderr",
     "output_type": "stream",
     "text": [
      " _findfont_cached1346|DEBUG: findfont: score(<Font 'cmmi10' (cmmi10.ttf) normal normal 400 normal>) = 10.05 [font_manager.py04/22:10:06]\n"
     ]
    },
    {
     "name": "stdout",
     "output_type": "stream",
     "text": [
      " _findfont_cached1346|10: findfont: score(<Font 'STIXNonUnicode' (STIXNonUniBol.ttf) normal normal 700 normal>) = 10.335 [font_manager.py04/22:10:06]\n"
     ]
    },
    {
     "name": "stderr",
     "output_type": "stream",
     "text": [
      " _findfont_cached1346|DEBUG: findfont: score(<Font 'STIXNonUnicode' (STIXNonUniBol.ttf) normal normal 700 normal>) = 10.335 [font_manager.py04/22:10:06]\n"
     ]
    },
    {
     "name": "stdout",
     "output_type": "stream",
     "text": [
      " _findfont_cached1346|10: findfont: score(<Font 'STIXNonUnicode' (STIXNonUni.ttf) normal normal 400 normal>) = 10.05 [font_manager.py04/22:10:06]\n"
     ]
    },
    {
     "name": "stderr",
     "output_type": "stream",
     "text": [
      " _findfont_cached1346|DEBUG: findfont: score(<Font 'STIXNonUnicode' (STIXNonUni.ttf) normal normal 400 normal>) = 10.05 [font_manager.py04/22:10:06]\n"
     ]
    },
    {
     "name": "stdout",
     "output_type": "stream",
     "text": [
      " _findfont_cached1346|10: findfont: score(<Font 'STIXGeneral' (STIXGeneralBol.ttf) normal normal 700 normal>) = 10.335 [font_manager.py04/22:10:06]\n"
     ]
    },
    {
     "name": "stderr",
     "output_type": "stream",
     "text": [
      " _findfont_cached1346|DEBUG: findfont: score(<Font 'STIXGeneral' (STIXGeneralBol.ttf) normal normal 700 normal>) = 10.335 [font_manager.py04/22:10:06]\n"
     ]
    },
    {
     "name": "stdout",
     "output_type": "stream",
     "text": [
      " _findfont_cached1346|10: findfont: score(<Font 'DejaVu Sans' (DejaVuSans-Oblique.ttf) oblique normal 400 normal>) = 1.05 [font_manager.py04/22:10:06]\n"
     ]
    },
    {
     "name": "stderr",
     "output_type": "stream",
     "text": [
      " _findfont_cached1346|DEBUG: findfont: score(<Font 'DejaVu Sans' (DejaVuSans-Oblique.ttf) oblique normal 400 normal>) = 1.05 [font_manager.py04/22:10:06]\n"
     ]
    },
    {
     "name": "stdout",
     "output_type": "stream",
     "text": [
      " _findfont_cached1346|10: findfont: score(<Font 'STIXSizeOneSym' (STIXSizOneSymReg.ttf) normal normal 400 normal>) = 10.05 [font_manager.py04/22:10:06]\n"
     ]
    },
    {
     "name": "stderr",
     "output_type": "stream",
     "text": [
      " _findfont_cached1346|DEBUG: findfont: score(<Font 'STIXSizeOneSym' (STIXSizOneSymReg.ttf) normal normal 400 normal>) = 10.05 [font_manager.py04/22:10:06]\n"
     ]
    },
    {
     "name": "stdout",
     "output_type": "stream",
     "text": [
      " _findfont_cached1346|10: findfont: score(<Font 'STIXGeneral' (STIXGeneralBolIta.ttf) italic normal 700 normal>) = 11.335 [font_manager.py04/22:10:06]\n"
     ]
    },
    {
     "name": "stderr",
     "output_type": "stream",
     "text": [
      " _findfont_cached1346|DEBUG: findfont: score(<Font 'STIXGeneral' (STIXGeneralBolIta.ttf) italic normal 700 normal>) = 11.335 [font_manager.py04/22:10:06]\n"
     ]
    },
    {
     "name": "stdout",
     "output_type": "stream",
     "text": [
      " _findfont_cached1346|10: findfont: score(<Font 'cmb10' (cmb10.ttf) normal normal 400 normal>) = 10.05 [font_manager.py04/22:10:06]\n"
     ]
    },
    {
     "name": "stderr",
     "output_type": "stream",
     "text": [
      " _findfont_cached1346|DEBUG: findfont: score(<Font 'cmb10' (cmb10.ttf) normal normal 400 normal>) = 10.05 [font_manager.py04/22:10:06]\n"
     ]
    },
    {
     "name": "stdout",
     "output_type": "stream",
     "text": [
      " _findfont_cached1346|10: findfont: score(<Font 'DejaVu Sans Mono' (DejaVuSansMono-Oblique.ttf) oblique normal 400 normal>) = 11.05 [font_manager.py04/22:10:06]\n"
     ]
    },
    {
     "name": "stderr",
     "output_type": "stream",
     "text": [
      " _findfont_cached1346|DEBUG: findfont: score(<Font 'DejaVu Sans Mono' (DejaVuSansMono-Oblique.ttf) oblique normal 400 normal>) = 11.05 [font_manager.py04/22:10:06]\n"
     ]
    },
    {
     "name": "stdout",
     "output_type": "stream",
     "text": [
      " _findfont_cached1346|10: findfont: score(<Font 'DejaVu Sans' (DejaVuSans-Bold.ttf) normal normal 700 normal>) = 0.33499999999999996 [font_manager.py04/22:10:06]\n"
     ]
    },
    {
     "name": "stderr",
     "output_type": "stream",
     "text": [
      " _findfont_cached1346|DEBUG: findfont: score(<Font 'DejaVu Sans' (DejaVuSans-Bold.ttf) normal normal 700 normal>) = 0.33499999999999996 [font_manager.py04/22:10:06]\n"
     ]
    },
    {
     "name": "stdout",
     "output_type": "stream",
     "text": [
      " _findfont_cached1346|10: findfont: score(<Font 'cmtt10' (cmtt10.ttf) normal normal 400 normal>) = 10.05 [font_manager.py04/22:10:06]\n"
     ]
    },
    {
     "name": "stderr",
     "output_type": "stream",
     "text": [
      " _findfont_cached1346|DEBUG: findfont: score(<Font 'cmtt10' (cmtt10.ttf) normal normal 400 normal>) = 10.05 [font_manager.py04/22:10:06]\n"
     ]
    },
    {
     "name": "stdout",
     "output_type": "stream",
     "text": [
      " _findfont_cached1346|10: findfont: score(<Font 'DejaVu Serif' (DejaVuSerif-Bold.ttf) normal normal 700 normal>) = 10.335 [font_manager.py04/22:10:06]\n"
     ]
    },
    {
     "name": "stderr",
     "output_type": "stream",
     "text": [
      " _findfont_cached1346|DEBUG: findfont: score(<Font 'DejaVu Serif' (DejaVuSerif-Bold.ttf) normal normal 700 normal>) = 10.335 [font_manager.py04/22:10:06]\n"
     ]
    },
    {
     "name": "stdout",
     "output_type": "stream",
     "text": [
      " _findfont_cached1346|10: findfont: score(<Font 'STIXSizeFourSym' (STIXSizFourSymBol.ttf) normal normal 700 normal>) = 10.335 [font_manager.py04/22:10:06]\n"
     ]
    },
    {
     "name": "stderr",
     "output_type": "stream",
     "text": [
      " _findfont_cached1346|DEBUG: findfont: score(<Font 'STIXSizeFourSym' (STIXSizFourSymBol.ttf) normal normal 700 normal>) = 10.335 [font_manager.py04/22:10:06]\n"
     ]
    },
    {
     "name": "stdout",
     "output_type": "stream",
     "text": [
      " _findfont_cached1346|10: findfont: score(<Font 'DejaVu Sans Mono' (DejaVuSansMono.ttf) normal normal 400 normal>) = 10.05 [font_manager.py04/22:10:06]\n"
     ]
    },
    {
     "name": "stderr",
     "output_type": "stream",
     "text": [
      " _findfont_cached1346|DEBUG: findfont: score(<Font 'DejaVu Sans Mono' (DejaVuSansMono.ttf) normal normal 400 normal>) = 10.05 [font_manager.py04/22:10:06]\n"
     ]
    },
    {
     "name": "stdout",
     "output_type": "stream",
     "text": [
      " _findfont_cached1346|10: findfont: score(<Font 'STIXGeneral' (STIXGeneralItalic.ttf) italic normal 400 normal>) = 11.05 [font_manager.py04/22:10:06]\n"
     ]
    },
    {
     "name": "stderr",
     "output_type": "stream",
     "text": [
      " _findfont_cached1346|DEBUG: findfont: score(<Font 'STIXGeneral' (STIXGeneralItalic.ttf) italic normal 400 normal>) = 11.05 [font_manager.py04/22:10:06]\n"
     ]
    },
    {
     "name": "stdout",
     "output_type": "stream",
     "text": [
      " _findfont_cached1346|10: findfont: score(<Font 'DejaVu Sans' (DejaVuSans-BoldOblique.ttf) oblique normal 700 normal>) = 1.335 [font_manager.py04/22:10:06]\n"
     ]
    },
    {
     "name": "stderr",
     "output_type": "stream",
     "text": [
      " _findfont_cached1346|DEBUG: findfont: score(<Font 'DejaVu Sans' (DejaVuSans-BoldOblique.ttf) oblique normal 700 normal>) = 1.335 [font_manager.py04/22:10:06]\n"
     ]
    },
    {
     "name": "stdout",
     "output_type": "stream",
     "text": [
      " _findfont_cached1346|10: findfont: score(<Font 'cmex10' (cmex10.ttf) normal normal 400 normal>) = 10.05 [font_manager.py04/22:10:06]\n"
     ]
    },
    {
     "name": "stderr",
     "output_type": "stream",
     "text": [
      " _findfont_cached1346|DEBUG: findfont: score(<Font 'cmex10' (cmex10.ttf) normal normal 400 normal>) = 10.05 [font_manager.py04/22:10:06]\n"
     ]
    },
    {
     "name": "stdout",
     "output_type": "stream",
     "text": [
      " _findfont_cached1346|10: findfont: score(<Font 'STIXSizeTwoSym' (STIXSizTwoSymBol.ttf) normal normal 700 normal>) = 10.335 [font_manager.py04/22:10:06]\n"
     ]
    },
    {
     "name": "stderr",
     "output_type": "stream",
     "text": [
      " _findfont_cached1346|DEBUG: findfont: score(<Font 'STIXSizeTwoSym' (STIXSizTwoSymBol.ttf) normal normal 700 normal>) = 10.335 [font_manager.py04/22:10:06]\n"
     ]
    },
    {
     "name": "stdout",
     "output_type": "stream",
     "text": [
      " _findfont_cached1346|10: findfont: score(<Font 'Gabriola' (Gabriola.ttf) normal normal 400 normal>) = 10.05 [font_manager.py04/22:10:06]\n"
     ]
    },
    {
     "name": "stderr",
     "output_type": "stream",
     "text": [
      " _findfont_cached1346|DEBUG: findfont: score(<Font 'Gabriola' (Gabriola.ttf) normal normal 400 normal>) = 10.05 [font_manager.py04/22:10:06]\n"
     ]
    },
    {
     "name": "stdout",
     "output_type": "stream",
     "text": [
      " _findfont_cached1346|10: findfont: score(<Font 'EmojiOne Color' (EmojiOneColor-SVGinOT.ttf) normal normal 400 normal>) = 10.05 [font_manager.py04/22:10:06]\n"
     ]
    },
    {
     "name": "stderr",
     "output_type": "stream",
     "text": [
      " _findfont_cached1346|DEBUG: findfont: score(<Font 'EmojiOne Color' (EmojiOneColor-SVGinOT.ttf) normal normal 400 normal>) = 10.05 [font_manager.py04/22:10:06]\n"
     ]
    },
    {
     "name": "stdout",
     "output_type": "stream",
     "text": [
      " _findfont_cached1346|10: findfont: score(<Font 'Nachlieli CLM' (NachlieliCLM-LightOblique.otf) oblique normal 300 normal>) = 11.145 [font_manager.py04/22:10:06]\n"
     ]
    },
    {
     "name": "stderr",
     "output_type": "stream",
     "text": [
      " _findfont_cached1346|DEBUG: findfont: score(<Font 'Nachlieli CLM' (NachlieliCLM-LightOblique.otf) oblique normal 300 normal>) = 11.145 [font_manager.py04/22:10:06]\n"
     ]
    },
    {
     "name": "stdout",
     "output_type": "stream",
     "text": [
      " _findfont_cached1346|10: findfont: score(<Font 'French Script MT' (FRSCRIPT.TTF) normal normal 400 normal>) = 10.05 [font_manager.py04/22:10:06]\n"
     ]
    },
    {
     "name": "stderr",
     "output_type": "stream",
     "text": [
      " _findfont_cached1346|DEBUG: findfont: score(<Font 'French Script MT' (FRSCRIPT.TTF) normal normal 400 normal>) = 10.05 [font_manager.py04/22:10:06]\n"
     ]
    },
    {
     "name": "stdout",
     "output_type": "stream",
     "text": [
      " _findfont_cached1346|10: findfont: score(<Font 'Segoe UI' (segoeuisl.ttf) normal normal 350 normal>) = 10.0975 [font_manager.py04/22:10:06]\n"
     ]
    },
    {
     "name": "stderr",
     "output_type": "stream",
     "text": [
      " _findfont_cached1346|DEBUG: findfont: score(<Font 'Segoe UI' (segoeuisl.ttf) normal normal 350 normal>) = 10.0975 [font_manager.py04/22:10:06]\n"
     ]
    },
    {
     "name": "stdout",
     "output_type": "stream",
     "text": [
      " _findfont_cached1346|10: findfont: score(<Font 'Centaur' (CENTAUR.TTF) normal normal 400 normal>) = 10.05 [font_manager.py04/22:10:06]\n"
     ]
    },
    {
     "name": "stderr",
     "output_type": "stream",
     "text": [
      " _findfont_cached1346|DEBUG: findfont: score(<Font 'Centaur' (CENTAUR.TTF) normal normal 400 normal>) = 10.05 [font_manager.py04/22:10:06]\n"
     ]
    },
    {
     "name": "stdout",
     "output_type": "stream",
     "text": [
      " _findfont_cached1346|10: findfont: score(<Font 'Segoe Print' (segoepr.ttf) normal normal 400 normal>) = 10.05 [font_manager.py04/22:10:06]\n"
     ]
    },
    {
     "name": "stderr",
     "output_type": "stream",
     "text": [
      " _findfont_cached1346|DEBUG: findfont: score(<Font 'Segoe Print' (segoepr.ttf) normal normal 400 normal>) = 10.05 [font_manager.py04/22:10:06]\n"
     ]
    },
    {
     "name": "stdout",
     "output_type": "stream",
     "text": [
      " _findfont_cached1346|10: findfont: score(<Font 'Segoe UI Historic' (seguihis.ttf) normal normal 400 normal>) = 10.05 [font_manager.py04/22:10:06]\n"
     ]
    },
    {
     "name": "stderr",
     "output_type": "stream",
     "text": [
      " _findfont_cached1346|DEBUG: findfont: score(<Font 'Segoe UI Historic' (seguihis.ttf) normal normal 400 normal>) = 10.05 [font_manager.py04/22:10:06]\n"
     ]
    },
    {
     "name": "stdout",
     "output_type": "stream",
     "text": [
      " _findfont_cached1346|10: findfont: score(<Font 'MS Outlook' (OUTLOOK.TTF) normal normal 400 normal>) = 10.05 [font_manager.py04/22:10:06]\n"
     ]
    },
    {
     "name": "stderr",
     "output_type": "stream",
     "text": [
      " _findfont_cached1346|DEBUG: findfont: score(<Font 'MS Outlook' (OUTLOOK.TTF) normal normal 400 normal>) = 10.05 [font_manager.py04/22:10:06]\n"
     ]
    },
    {
     "name": "stdout",
     "output_type": "stream",
     "text": [
      " _findfont_cached1346|10: findfont: score(<Font 'Old English Text MT' (OLDENGL.TTF) normal normal 400 normal>) = 10.05 [font_manager.py04/22:10:06]\n"
     ]
    },
    {
     "name": "stderr",
     "output_type": "stream",
     "text": [
      " _findfont_cached1346|DEBUG: findfont: score(<Font 'Old English Text MT' (OLDENGL.TTF) normal normal 400 normal>) = 10.05 [font_manager.py04/22:10:06]\n"
     ]
    },
    {
     "name": "stdout",
     "output_type": "stream",
     "text": [
      " _findfont_cached1346|10: findfont: score(<Font 'Trebuchet MS' (trebuc.ttf) normal normal 400 normal>) = 10.05 [font_manager.py04/22:10:06]\n"
     ]
    },
    {
     "name": "stderr",
     "output_type": "stream",
     "text": [
      " _findfont_cached1346|DEBUG: findfont: score(<Font 'Trebuchet MS' (trebuc.ttf) normal normal 400 normal>) = 10.05 [font_manager.py04/22:10:06]\n"
     ]
    },
    {
     "name": "stdout",
     "output_type": "stream",
     "text": [
      " _findfont_cached1346|10: findfont: score(<Font 'Lucida Sans Typewriter' (LTYPEBO.TTF) oblique normal 600 normal>) = 11.24 [font_manager.py04/22:10:06]\n"
     ]
    },
    {
     "name": "stderr",
     "output_type": "stream",
     "text": [
      " _findfont_cached1346|DEBUG: findfont: score(<Font 'Lucida Sans Typewriter' (LTYPEBO.TTF) oblique normal 600 normal>) = 11.24 [font_manager.py04/22:10:06]\n"
     ]
    },
    {
     "name": "stdout",
     "output_type": "stream",
     "text": [
      " _findfont_cached1346|10: findfont: score(<Font 'Tw Cen MT' (TCBI____.TTF) italic normal 700 normal>) = 11.335 [font_manager.py04/22:10:06]\n"
     ]
    },
    {
     "name": "stderr",
     "output_type": "stream",
     "text": [
      " _findfont_cached1346|DEBUG: findfont: score(<Font 'Tw Cen MT' (TCBI____.TTF) italic normal 700 normal>) = 11.335 [font_manager.py04/22:10:06]\n"
     ]
    },
    {
     "name": "stdout",
     "output_type": "stream",
     "text": [
      " _findfont_cached1346|10: findfont: score(<Font 'Niagara Solid' (NIAGSOL.TTF) normal normal 400 normal>) = 10.05 [font_manager.py04/22:10:06]\n"
     ]
    },
    {
     "name": "stderr",
     "output_type": "stream",
     "text": [
      " _findfont_cached1346|DEBUG: findfont: score(<Font 'Niagara Solid' (NIAGSOL.TTF) normal normal 400 normal>) = 10.05 [font_manager.py04/22:10:06]\n"
     ]
    },
    {
     "name": "stdout",
     "output_type": "stream",
     "text": [
      " _findfont_cached1346|10: findfont: score(<Font 'Book Antiqua' (ANTQUAI.TTF) italic normal 400 normal>) = 11.05 [font_manager.py04/22:10:06]\n"
     ]
    },
    {
     "name": "stderr",
     "output_type": "stream",
     "text": [
      " _findfont_cached1346|DEBUG: findfont: score(<Font 'Book Antiqua' (ANTQUAI.TTF) italic normal 400 normal>) = 11.05 [font_manager.py04/22:10:06]\n"
     ]
    },
    {
     "name": "stdout",
     "output_type": "stream",
     "text": [
      " _findfont_cached1346|10: findfont: score(<Font 'Constantia' (constanz.ttf) italic normal 700 normal>) = 11.335 [font_manager.py04/22:10:06]\n"
     ]
    },
    {
     "name": "stderr",
     "output_type": "stream",
     "text": [
      " _findfont_cached1346|DEBUG: findfont: score(<Font 'Constantia' (constanz.ttf) italic normal 700 normal>) = 11.335 [font_manager.py04/22:10:06]\n"
     ]
    },
    {
     "name": "stdout",
     "output_type": "stream",
     "text": [
      " _findfont_cached1346|10: findfont: score(<Font 'QuickType II' (QT2_I.TTF) italic normal 400 normal>) = 11.05 [font_manager.py04/22:10:06]\n"
     ]
    },
    {
     "name": "stderr",
     "output_type": "stream",
     "text": [
      " _findfont_cached1346|DEBUG: findfont: score(<Font 'QuickType II' (QT2_I.TTF) italic normal 400 normal>) = 11.05 [font_manager.py04/22:10:06]\n"
     ]
    },
    {
     "name": "stdout",
     "output_type": "stream",
     "text": [
      " _findfont_cached1346|10: findfont: score(<Font 'Lucida Fax' (LFAXDI.TTF) italic normal 600 normal>) = 11.24 [font_manager.py04/22:10:06]\n"
     ]
    },
    {
     "name": "stderr",
     "output_type": "stream",
     "text": [
      " _findfont_cached1346|DEBUG: findfont: score(<Font 'Lucida Fax' (LFAXDI.TTF) italic normal 600 normal>) = 11.24 [font_manager.py04/22:10:06]\n"
     ]
    },
    {
     "name": "stdout",
     "output_type": "stream",
     "text": [
      " _findfont_cached1346|10: findfont: score(<Font 'Liberation Serif' (LiberationSerif-BoldItalic.ttf) italic normal 700 normal>) = 11.335 [font_manager.py04/22:10:06]\n"
     ]
    },
    {
     "name": "stderr",
     "output_type": "stream",
     "text": [
      " _findfont_cached1346|DEBUG: findfont: score(<Font 'Liberation Serif' (LiberationSerif-BoldItalic.ttf) italic normal 700 normal>) = 11.335 [font_manager.py04/22:10:06]\n"
     ]
    },
    {
     "name": "stdout",
     "output_type": "stream",
     "text": [
      " _findfont_cached1346|10: findfont: score(<Font 'Bernard MT Condensed' (BERNHC.TTF) normal normal 400 condensed>) = 10.25 [font_manager.py04/22:10:06]\n"
     ]
    },
    {
     "name": "stderr",
     "output_type": "stream",
     "text": [
      " _findfont_cached1346|DEBUG: findfont: score(<Font 'Bernard MT Condensed' (BERNHC.TTF) normal normal 400 condensed>) = 10.25 [font_manager.py04/22:10:06]\n"
     ]
    },
    {
     "name": "stdout",
     "output_type": "stream",
     "text": [
      " _findfont_cached1346|10: findfont: score(<Font 'Noto Mono' (NotoMono-Regular.ttf) normal normal 400 normal>) = 10.05 [font_manager.py04/22:10:06]\n"
     ]
    },
    {
     "name": "stderr",
     "output_type": "stream",
     "text": [
      " _findfont_cached1346|DEBUG: findfont: score(<Font 'Noto Mono' (NotoMono-Regular.ttf) normal normal 400 normal>) = 10.05 [font_manager.py04/22:10:06]\n"
     ]
    },
    {
     "name": "stdout",
     "output_type": "stream",
     "text": [
      " _findfont_cached1346|10: findfont: score(<Font 'Noto Sans Hebrew' (NotoSansHebrew-Regular.ttf) normal normal 400 normal>) = 10.05 [font_manager.py04/22:10:06]\n"
     ]
    },
    {
     "name": "stderr",
     "output_type": "stream",
     "text": [
      " _findfont_cached1346|DEBUG: findfont: score(<Font 'Noto Sans Hebrew' (NotoSansHebrew-Regular.ttf) normal normal 400 normal>) = 10.05 [font_manager.py04/22:10:06]\n"
     ]
    },
    {
     "name": "stdout",
     "output_type": "stream",
     "text": [
      " _findfont_cached1346|10: findfont: score(<Font 'Perpetua Titling MT' (PERTILI.TTF) normal normal 300 normal>) = 10.145 [font_manager.py04/22:10:06]\n"
     ]
    },
    {
     "name": "stderr",
     "output_type": "stream",
     "text": [
      " _findfont_cached1346|DEBUG: findfont: score(<Font 'Perpetua Titling MT' (PERTILI.TTF) normal normal 300 normal>) = 10.145 [font_manager.py04/22:10:06]\n"
     ]
    },
    {
     "name": "stdout",
     "output_type": "stream",
     "text": [
      " _findfont_cached1346|10: findfont: score(<Font 'Tw Cen MT Condensed Extra Bold' (TCCEB.TTF) normal normal 400 condensed>) = 10.25 [font_manager.py04/22:10:06]\n"
     ]
    },
    {
     "name": "stderr",
     "output_type": "stream",
     "text": [
      " _findfont_cached1346|DEBUG: findfont: score(<Font 'Tw Cen MT Condensed Extra Bold' (TCCEB.TTF) normal normal 400 condensed>) = 10.25 [font_manager.py04/22:10:06]\n"
     ]
    },
    {
     "name": "stdout",
     "output_type": "stream",
     "text": [
      " _findfont_cached1346|10: findfont: score(<Font 'Century Schoolbook' (CENSCBK.TTF) normal normal 400 normal>) = 10.05 [font_manager.py04/22:10:06]\n"
     ]
    },
    {
     "name": "stderr",
     "output_type": "stream",
     "text": [
      " _findfont_cached1346|DEBUG: findfont: score(<Font 'Century Schoolbook' (CENSCBK.TTF) normal normal 400 normal>) = 10.05 [font_manager.py04/22:10:06]\n"
     ]
    },
    {
     "name": "stdout",
     "output_type": "stream",
     "text": [
      " _findfont_cached1346|10: findfont: score(<Font 'Source Code Pro' (SourceCodePro-Medium.ttf) normal normal 500 normal>) = 10.145 [font_manager.py04/22:10:06]\n"
     ]
    },
    {
     "name": "stderr",
     "output_type": "stream",
     "text": [
      " _findfont_cached1346|DEBUG: findfont: score(<Font 'Source Code Pro' (SourceCodePro-Medium.ttf) normal normal 500 normal>) = 10.145 [font_manager.py04/22:10:06]\n"
     ]
    },
    {
     "name": "stdout",
     "output_type": "stream",
     "text": [
      " _findfont_cached1346|10: findfont: score(<Font 'Noto Sans' (NotoSans-Light.ttf) normal normal 300 normal>) = 10.145 [font_manager.py04/22:10:06]\n"
     ]
    },
    {
     "name": "stderr",
     "output_type": "stream",
     "text": [
      " _findfont_cached1346|DEBUG: findfont: score(<Font 'Noto Sans' (NotoSans-Light.ttf) normal normal 300 normal>) = 10.145 [font_manager.py04/22:10:06]\n"
     ]
    },
    {
     "name": "stdout",
     "output_type": "stream",
     "text": [
      " _findfont_cached1346|10: findfont: score(<Font 'Frank Ruehl CLM' (FrankRuehlCLM-MediumOblique.ttf) oblique normal 500 normal>) = 11.145 [font_manager.py04/22:10:06]\n"
     ]
    },
    {
     "name": "stderr",
     "output_type": "stream",
     "text": [
      " _findfont_cached1346|DEBUG: findfont: score(<Font 'Frank Ruehl CLM' (FrankRuehlCLM-MediumOblique.ttf) oblique normal 500 normal>) = 11.145 [font_manager.py04/22:10:06]\n"
     ]
    },
    {
     "name": "stdout",
     "output_type": "stream",
     "text": [
      " _findfont_cached1346|10: findfont: score(<Font 'Nirmala UI' (NirmalaS.ttf) normal normal 350 normal>) = 10.0975 [font_manager.py04/22:10:06]\n"
     ]
    },
    {
     "name": "stderr",
     "output_type": "stream",
     "text": [
      " _findfont_cached1346|DEBUG: findfont: score(<Font 'Nirmala UI' (NirmalaS.ttf) normal normal 350 normal>) = 10.0975 [font_manager.py04/22:10:06]\n"
     ]
    },
    {
     "name": "stdout",
     "output_type": "stream",
     "text": [
      " _findfont_cached1346|10: findfont: score(<Font 'DejaVu Serif' (DejaVuSerif-Bold.ttf) normal normal 700 normal>) = 10.335 [font_manager.py04/22:10:06]\n"
     ]
    },
    {
     "name": "stderr",
     "output_type": "stream",
     "text": [
      " _findfont_cached1346|DEBUG: findfont: score(<Font 'DejaVu Serif' (DejaVuSerif-Bold.ttf) normal normal 700 normal>) = 10.335 [font_manager.py04/22:10:06]\n"
     ]
    },
    {
     "name": "stdout",
     "output_type": "stream",
     "text": [
      " _findfont_cached1346|10: findfont: score(<Font 'Gentium Basic' (GenBasI.ttf) italic normal 400 normal>) = 11.05 [font_manager.py04/22:10:06]\n"
     ]
    },
    {
     "name": "stderr",
     "output_type": "stream",
     "text": [
      " _findfont_cached1346|DEBUG: findfont: score(<Font 'Gentium Basic' (GenBasI.ttf) italic normal 400 normal>) = 11.05 [font_manager.py04/22:10:06]\n"
     ]
    },
    {
     "name": "stdout",
     "output_type": "stream",
     "text": [
      " _findfont_cached1346|10: findfont: score(<Font 'Cambria' (cambriaz.ttf) italic normal 700 normal>) = 11.335 [font_manager.py04/22:10:06]\n"
     ]
    },
    {
     "name": "stderr",
     "output_type": "stream",
     "text": [
      " _findfont_cached1346|DEBUG: findfont: score(<Font 'Cambria' (cambriaz.ttf) italic normal 700 normal>) = 11.335 [font_manager.py04/22:10:06]\n"
     ]
    },
    {
     "name": "stdout",
     "output_type": "stream",
     "text": [
      " _findfont_cached1346|10: findfont: score(<Font 'Noto Serif Georgian' (NotoSerifGeorgian-Bold.ttf) normal normal 700 normal>) = 10.335 [font_manager.py04/22:10:06]\n"
     ]
    },
    {
     "name": "stderr",
     "output_type": "stream",
     "text": [
      " _findfont_cached1346|DEBUG: findfont: score(<Font 'Noto Serif Georgian' (NotoSerifGeorgian-Bold.ttf) normal normal 700 normal>) = 10.335 [font_manager.py04/22:10:06]\n"
     ]
    },
    {
     "name": "stdout",
     "output_type": "stream",
     "text": [
      " _findfont_cached1346|10: findfont: score(<Font 'Consolas' (consola.ttf) normal normal 400 normal>) = 10.05 [font_manager.py04/22:10:06]\n"
     ]
    },
    {
     "name": "stderr",
     "output_type": "stream",
     "text": [
      " _findfont_cached1346|DEBUG: findfont: score(<Font 'Consolas' (consola.ttf) normal normal 400 normal>) = 10.05 [font_manager.py04/22:10:06]\n"
     ]
    },
    {
     "name": "stdout",
     "output_type": "stream",
     "text": [
      " _findfont_cached1346|10: findfont: score(<Font 'Bodoni MT' (BOD_CR.TTF) normal normal 400 condensed>) = 10.25 [font_manager.py04/22:10:06]\n"
     ]
    },
    {
     "name": "stderr",
     "output_type": "stream",
     "text": [
      " _findfont_cached1346|DEBUG: findfont: score(<Font 'Bodoni MT' (BOD_CR.TTF) normal normal 400 condensed>) = 10.25 [font_manager.py04/22:10:06]\n"
     ]
    },
    {
     "name": "stdout",
     "output_type": "stream",
     "text": [
      " _findfont_cached1346|10: findfont: score(<Font 'Bodoni MT' (BOD_BLAI.TTF) italic normal 900 normal>) = 11.525 [font_manager.py04/22:10:06]\n"
     ]
    },
    {
     "name": "stderr",
     "output_type": "stream",
     "text": [
      " _findfont_cached1346|DEBUG: findfont: score(<Font 'Bodoni MT' (BOD_BLAI.TTF) italic normal 900 normal>) = 11.525 [font_manager.py04/22:10:06]\n"
     ]
    },
    {
     "name": "stdout",
     "output_type": "stream",
     "text": [
      " _findfont_cached1346|10: findfont: score(<Font 'Yu Gothic' (YuGothM.ttc) normal normal 500 normal>) = 10.145 [font_manager.py04/22:10:06]\n"
     ]
    },
    {
     "name": "stderr",
     "output_type": "stream",
     "text": [
      " _findfont_cached1346|DEBUG: findfont: score(<Font 'Yu Gothic' (YuGothM.ttc) normal normal 500 normal>) = 10.145 [font_manager.py04/22:10:06]\n"
     ]
    },
    {
     "name": "stdout",
     "output_type": "stream",
     "text": [
      " _findfont_cached1346|10: findfont: score(<Font 'Frank Ruehl CLM' (FrankRuehlCLM-Medium.ttf) normal normal 500 normal>) = 10.145 [font_manager.py04/22:10:06]\n"
     ]
    },
    {
     "name": "stderr",
     "output_type": "stream",
     "text": [
      " _findfont_cached1346|DEBUG: findfont: score(<Font 'Frank Ruehl CLM' (FrankRuehlCLM-Medium.ttf) normal normal 500 normal>) = 10.145 [font_manager.py04/22:10:06]\n"
     ]
    },
    {
     "name": "stdout",
     "output_type": "stream",
     "text": [
      " _findfont_cached1346|10: findfont: score(<Font 'DengXian' (Deng.ttf) normal normal 400 normal>) = 10.05 [font_manager.py04/22:10:06]\n"
     ]
    },
    {
     "name": "stderr",
     "output_type": "stream",
     "text": [
      " _findfont_cached1346|DEBUG: findfont: score(<Font 'DengXian' (Deng.ttf) normal normal 400 normal>) = 10.05 [font_manager.py04/22:10:06]\n"
     ]
    },
    {
     "name": "stdout",
     "output_type": "stream",
     "text": [
      " _findfont_cached1346|10: findfont: score(<Font 'Comic Sans MS' (comic.ttf) normal normal 400 normal>) = 10.05 [font_manager.py04/22:10:06]\n"
     ]
    },
    {
     "name": "stderr",
     "output_type": "stream",
     "text": [
      " _findfont_cached1346|DEBUG: findfont: score(<Font 'Comic Sans MS' (comic.ttf) normal normal 400 normal>) = 10.05 [font_manager.py04/22:10:06]\n"
     ]
    },
    {
     "name": "stdout",
     "output_type": "stream",
     "text": [
      " _findfont_cached1346|10: findfont: score(<Font 'QuickType II Mono' (QT2M_P.TTF) normal normal 400 normal>) = 10.05 [font_manager.py04/22:10:06]\n"
     ]
    },
    {
     "name": "stderr",
     "output_type": "stream",
     "text": [
      " _findfont_cached1346|DEBUG: findfont: score(<Font 'QuickType II Mono' (QT2M_P.TTF) normal normal 400 normal>) = 10.05 [font_manager.py04/22:10:06]\n"
     ]
    },
    {
     "name": "stdout",
     "output_type": "stream",
     "text": [
      " _findfont_cached1346|10: findfont: score(<Font 'Amiri Quran' (AmiriQuran.ttf) normal normal 400 normal>) = 10.05 [font_manager.py04/22:10:06]\n"
     ]
    },
    {
     "name": "stderr",
     "output_type": "stream",
     "text": [
      " _findfont_cached1346|DEBUG: findfont: score(<Font 'Amiri Quran' (AmiriQuran.ttf) normal normal 400 normal>) = 10.05 [font_manager.py04/22:10:06]\n"
     ]
    },
    {
     "name": "stdout",
     "output_type": "stream",
     "text": [
      " _findfont_cached1346|10: findfont: score(<Font 'Times New Roman' (timesi.ttf) italic normal 400 normal>) = 11.05 [font_manager.py04/22:10:06]\n"
     ]
    },
    {
     "name": "stderr",
     "output_type": "stream",
     "text": [
      " _findfont_cached1346|DEBUG: findfont: score(<Font 'Times New Roman' (timesi.ttf) italic normal 400 normal>) = 11.05 [font_manager.py04/22:10:06]\n"
     ]
    },
    {
     "name": "stdout",
     "output_type": "stream",
     "text": [
      " _findfont_cached1346|10: findfont: score(<Font 'Gill Sans MT Condensed' (GILC____.TTF) normal normal 400 condensed>) = 10.25 [font_manager.py04/22:10:06]\n"
     ]
    },
    {
     "name": "stderr",
     "output_type": "stream",
     "text": [
      " _findfont_cached1346|DEBUG: findfont: score(<Font 'Gill Sans MT Condensed' (GILC____.TTF) normal normal 400 condensed>) = 10.25 [font_manager.py04/22:10:06]\n"
     ]
    },
    {
     "name": "stdout",
     "output_type": "stream",
     "text": [
      " _findfont_cached1346|10: findfont: score(<Font 'Arial' (arialbi.ttf) italic normal 700 normal>) = 7.698636363636363 [font_manager.py04/22:10:06]\n"
     ]
    },
    {
     "name": "stderr",
     "output_type": "stream",
     "text": [
      " _findfont_cached1346|DEBUG: findfont: score(<Font 'Arial' (arialbi.ttf) italic normal 700 normal>) = 7.698636363636363 [font_manager.py04/22:10:06]\n"
     ]
    },
    {
     "name": "stdout",
     "output_type": "stream",
     "text": [
      " _findfont_cached1346|10: findfont: score(<Font 'Lucida Sans Typewriter' (LTYPEB.TTF) normal normal 600 normal>) = 10.24 [font_manager.py04/22:10:06]\n"
     ]
    },
    {
     "name": "stderr",
     "output_type": "stream",
     "text": [
      " _findfont_cached1346|DEBUG: findfont: score(<Font 'Lucida Sans Typewriter' (LTYPEB.TTF) normal normal 600 normal>) = 10.24 [font_manager.py04/22:10:06]\n"
     ]
    },
    {
     "name": "stdout",
     "output_type": "stream",
     "text": [
      " _findfont_cached1346|10: findfont: score(<Font 'Source Code Pro' (SourceCodePro-Medium.ttf) normal normal 500 normal>) = 10.145 [font_manager.py04/22:10:06]\n"
     ]
    },
    {
     "name": "stderr",
     "output_type": "stream",
     "text": [
      " _findfont_cached1346|DEBUG: findfont: score(<Font 'Source Code Pro' (SourceCodePro-Medium.ttf) normal normal 500 normal>) = 10.145 [font_manager.py04/22:10:06]\n"
     ]
    },
    {
     "name": "stdout",
     "output_type": "stream",
     "text": [
      " _findfont_cached1346|10: findfont: score(<Font 'Liberation Sans' (LiberationSans-Italic.ttf) italic normal 400 normal>) = 11.05 [font_manager.py04/22:10:06]\n"
     ]
    },
    {
     "name": "stderr",
     "output_type": "stream",
     "text": [
      " _findfont_cached1346|DEBUG: findfont: score(<Font 'Liberation Sans' (LiberationSans-Italic.ttf) italic normal 400 normal>) = 11.05 [font_manager.py04/22:10:06]\n"
     ]
    },
    {
     "name": "stdout",
     "output_type": "stream",
     "text": [
      " _findfont_cached1346|10: findfont: score(<Font 'Bodoni MT' (BOD_I.TTF) italic normal 400 normal>) = 11.05 [font_manager.py04/22:10:06]\n"
     ]
    },
    {
     "name": "stderr",
     "output_type": "stream",
     "text": [
      " _findfont_cached1346|DEBUG: findfont: score(<Font 'Bodoni MT' (BOD_I.TTF) italic normal 400 normal>) = 11.05 [font_manager.py04/22:10:06]\n"
     ]
    },
    {
     "name": "stdout",
     "output_type": "stream",
     "text": [
      " _findfont_cached1346|10: findfont: score(<Font 'QuickType II' (QT2_B.TTF) normal normal 700 normal>) = 10.335 [font_manager.py04/22:10:06]\n"
     ]
    },
    {
     "name": "stderr",
     "output_type": "stream",
     "text": [
      " _findfont_cached1346|DEBUG: findfont: score(<Font 'QuickType II' (QT2_B.TTF) normal normal 700 normal>) = 10.335 [font_manager.py04/22:10:06]\n"
     ]
    },
    {
     "name": "stdout",
     "output_type": "stream",
     "text": [
      " _findfont_cached1346|10: findfont: score(<Font 'Segoe UI' (segoeuiz.ttf) italic normal 700 normal>) = 11.335 [font_manager.py04/22:10:06]\n"
     ]
    },
    {
     "name": "stderr",
     "output_type": "stream",
     "text": [
      " _findfont_cached1346|DEBUG: findfont: score(<Font 'Segoe UI' (segoeuiz.ttf) italic normal 700 normal>) = 11.335 [font_manager.py04/22:10:06]\n"
     ]
    },
    {
     "name": "stdout",
     "output_type": "stream",
     "text": [
      " _findfont_cached1346|10: findfont: score(<Font 'Source Code Pro' (SourceCodePro-LightIt.ttf) italic normal 300 normal>) = 11.145 [font_manager.py04/22:10:06]\n"
     ]
    },
    {
     "name": "stderr",
     "output_type": "stream",
     "text": [
      " _findfont_cached1346|DEBUG: findfont: score(<Font 'Source Code Pro' (SourceCodePro-LightIt.ttf) italic normal 300 normal>) = 11.145 [font_manager.py04/22:10:06]\n"
     ]
    },
    {
     "name": "stdout",
     "output_type": "stream",
     "text": [
      " _findfont_cached1346|10: findfont: score(<Font 'Segoe UI' (seguibli.ttf) italic normal 900 normal>) = 11.525 [font_manager.py04/22:10:06]\n"
     ]
    },
    {
     "name": "stderr",
     "output_type": "stream",
     "text": [
      " _findfont_cached1346|DEBUG: findfont: score(<Font 'Segoe UI' (seguibli.ttf) italic normal 900 normal>) = 11.525 [font_manager.py04/22:10:06]\n"
     ]
    },
    {
     "name": "stdout",
     "output_type": "stream",
     "text": [
      " _findfont_cached1346|10: findfont: score(<Font 'Corbel' (corbell.ttf) normal normal 300 normal>) = 10.145 [font_manager.py04/22:10:06]\n"
     ]
    },
    {
     "name": "stderr",
     "output_type": "stream",
     "text": [
      " _findfont_cached1346|DEBUG: findfont: score(<Font 'Corbel' (corbell.ttf) normal normal 300 normal>) = 10.145 [font_manager.py04/22:10:06]\n"
     ]
    },
    {
     "name": "stdout",
     "output_type": "stream",
     "text": [
      " _findfont_cached1346|10: findfont: score(<Font 'Kunstler Script' (KUNSTLER.TTF) normal normal 400 normal>) = 10.05 [font_manager.py04/22:10:06]\n"
     ]
    },
    {
     "name": "stderr",
     "output_type": "stream",
     "text": [
      " _findfont_cached1346|DEBUG: findfont: score(<Font 'Kunstler Script' (KUNSTLER.TTF) normal normal 400 normal>) = 10.05 [font_manager.py04/22:10:06]\n"
     ]
    },
    {
     "name": "stdout",
     "output_type": "stream",
     "text": [
      " _findfont_cached1346|10: findfont: score(<Font 'Arial Unicode MS' (ARIALUNI.TTF) normal normal 400 normal>) = 10.05 [font_manager.py04/22:10:06]\n"
     ]
    },
    {
     "name": "stderr",
     "output_type": "stream",
     "text": [
      " _findfont_cached1346|DEBUG: findfont: score(<Font 'Arial Unicode MS' (ARIALUNI.TTF) normal normal 400 normal>) = 10.05 [font_manager.py04/22:10:06]\n"
     ]
    },
    {
     "name": "stdout",
     "output_type": "stream",
     "text": [
      " _findfont_cached1346|10: findfont: score(<Font 'Bradley Hand ITC' (BRADHITC.TTF) normal normal 400 normal>) = 10.05 [font_manager.py04/22:10:06]\n"
     ]
    },
    {
     "name": "stderr",
     "output_type": "stream",
     "text": [
      " _findfont_cached1346|DEBUG: findfont: score(<Font 'Bradley Hand ITC' (BRADHITC.TTF) normal normal 400 normal>) = 10.05 [font_manager.py04/22:10:06]\n"
     ]
    },
    {
     "name": "stdout",
     "output_type": "stream",
     "text": [
      " _findfont_cached1346|10: findfont: score(<Font 'David CLM' (DavidCLM-MediumItalic.ttf) italic normal 500 normal>) = 11.145 [font_manager.py04/22:10:06]\n"
     ]
    },
    {
     "name": "stderr",
     "output_type": "stream",
     "text": [
      " _findfont_cached1346|DEBUG: findfont: score(<Font 'David CLM' (DavidCLM-MediumItalic.ttf) italic normal 500 normal>) = 11.145 [font_manager.py04/22:10:06]\n"
     ]
    },
    {
     "name": "stdout",
     "output_type": "stream",
     "text": [
      " _findfont_cached1346|10: findfont: score(<Font 'Informal Roman' (INFROMAN.TTF) normal normal 400 normal>) = 10.05 [font_manager.py04/22:10:06]\n"
     ]
    },
    {
     "name": "stderr",
     "output_type": "stream",
     "text": [
      " _findfont_cached1346|DEBUG: findfont: score(<Font 'Informal Roman' (INFROMAN.TTF) normal normal 400 normal>) = 10.05 [font_manager.py04/22:10:06]\n"
     ]
    },
    {
     "name": "stdout",
     "output_type": "stream",
     "text": [
      " _findfont_cached1346|10: findfont: score(<Font 'Book Antiqua' (ANTQUABI.TTF) italic normal 700 normal>) = 11.335 [font_manager.py04/22:10:06]\n"
     ]
    },
    {
     "name": "stderr",
     "output_type": "stream",
     "text": [
      " _findfont_cached1346|DEBUG: findfont: score(<Font 'Book Antiqua' (ANTQUABI.TTF) italic normal 700 normal>) = 11.335 [font_manager.py04/22:10:06]\n"
     ]
    },
    {
     "name": "stdout",
     "output_type": "stream",
     "text": [
      " _findfont_cached1346|10: findfont: score(<Font 'Gentium Book Basic' (GenBkBasI.ttf) italic normal 400 normal>) = 11.05 [font_manager.py04/22:10:06]\n"
     ]
    },
    {
     "name": "stderr",
     "output_type": "stream",
     "text": [
      " _findfont_cached1346|DEBUG: findfont: score(<Font 'Gentium Book Basic' (GenBkBasI.ttf) italic normal 400 normal>) = 11.05 [font_manager.py04/22:10:06]\n"
     ]
    },
    {
     "name": "stdout",
     "output_type": "stream",
     "text": [
      " _findfont_cached1346|10: findfont: score(<Font 'Palatino Linotype' (pala.ttf) normal normal 400 normal>) = 10.05 [font_manager.py04/22:10:06]\n"
     ]
    },
    {
     "name": "stderr",
     "output_type": "stream",
     "text": [
      " _findfont_cached1346|DEBUG: findfont: score(<Font 'Palatino Linotype' (pala.ttf) normal normal 400 normal>) = 10.05 [font_manager.py04/22:10:06]\n"
     ]
    },
    {
     "name": "stdout",
     "output_type": "stream",
     "text": [
      " _findfont_cached1346|10: findfont: score(<Font 'Franklin Gothic Medium' (framd.ttf) normal normal 400 normal>) = 10.05 [font_manager.py04/22:10:06]\n"
     ]
    },
    {
     "name": "stderr",
     "output_type": "stream",
     "text": [
      " _findfont_cached1346|DEBUG: findfont: score(<Font 'Franklin Gothic Medium' (framd.ttf) normal normal 400 normal>) = 10.05 [font_manager.py04/22:10:06]\n"
     ]
    },
    {
     "name": "stdout",
     "output_type": "stream",
     "text": [
      " _findfont_cached1346|10: findfont: score(<Font 'DejaVu Sans' (DejaVuSansCondensed-Oblique.ttf) oblique normal 400 condensed>) = 1.25 [font_manager.py04/22:10:06]\n"
     ]
    },
    {
     "name": "stderr",
     "output_type": "stream",
     "text": [
      " _findfont_cached1346|DEBUG: findfont: score(<Font 'DejaVu Sans' (DejaVuSansCondensed-Oblique.ttf) oblique normal 400 condensed>) = 1.25 [font_manager.py04/22:10:06]\n"
     ]
    },
    {
     "name": "stdout",
     "output_type": "stream",
     "text": [
      " _findfont_cached1346|10: findfont: score(<Font 'Candara' (Candarali.ttf) italic normal 400 normal>) = 11.05 [font_manager.py04/22:10:06]\n"
     ]
    },
    {
     "name": "stderr",
     "output_type": "stream",
     "text": [
      " _findfont_cached1346|DEBUG: findfont: score(<Font 'Candara' (Candarali.ttf) italic normal 400 normal>) = 11.05 [font_manager.py04/22:10:06]\n"
     ]
    },
    {
     "name": "stdout",
     "output_type": "stream",
     "text": [
      " _findfont_cached1346|10: findfont: score(<Font 'Segoe UI' (seguili.ttf) italic normal 300 normal>) = 11.145 [font_manager.py04/22:10:06]\n"
     ]
    },
    {
     "name": "stderr",
     "output_type": "stream",
     "text": [
      " _findfont_cached1346|DEBUG: findfont: score(<Font 'Segoe UI' (seguili.ttf) italic normal 300 normal>) = 11.145 [font_manager.py04/22:10:06]\n"
     ]
    },
    {
     "name": "stdout",
     "output_type": "stream",
     "text": [
      " _findfont_cached1346|10: findfont: score(<Font 'Dubai' (DUBAI-BOLD.TTF) normal normal 700 normal>) = 10.335 [font_manager.py04/22:10:06]\n"
     ]
    },
    {
     "name": "stderr",
     "output_type": "stream",
     "text": [
      " _findfont_cached1346|DEBUG: findfont: score(<Font 'Dubai' (DUBAI-BOLD.TTF) normal normal 700 normal>) = 10.335 [font_manager.py04/22:10:06]\n"
     ]
    },
    {
     "name": "stdout",
     "output_type": "stream",
     "text": [
      " _findfont_cached1346|10: findfont: score(<Font 'OCR A Extended' (OCRAEXT.TTF) normal normal 400 expanded>) = 10.25 [font_manager.py04/22:10:06]\n"
     ]
    },
    {
     "name": "stderr",
     "output_type": "stream",
     "text": [
      " _findfont_cached1346|DEBUG: findfont: score(<Font 'OCR A Extended' (OCRAEXT.TTF) normal normal 400 expanded>) = 10.25 [font_manager.py04/22:10:06]\n"
     ]
    },
    {
     "name": "stdout",
     "output_type": "stream",
     "text": [
      " _findfont_cached1346|10: findfont: score(<Font 'Calisto MT' (CALISTB.TTF) normal normal 700 normal>) = 10.335 [font_manager.py04/22:10:06]\n"
     ]
    },
    {
     "name": "stderr",
     "output_type": "stream",
     "text": [
      " _findfont_cached1346|DEBUG: findfont: score(<Font 'Calisto MT' (CALISTB.TTF) normal normal 700 normal>) = 10.335 [font_manager.py04/22:10:06]\n"
     ]
    },
    {
     "name": "stdout",
     "output_type": "stream",
     "text": [
      " _findfont_cached1346|10: findfont: score(<Font 'Consolas' (consola.ttf) normal normal 400 normal>) = 10.05 [font_manager.py04/22:10:06]\n"
     ]
    },
    {
     "name": "stderr",
     "output_type": "stream",
     "text": [
      " _findfont_cached1346|DEBUG: findfont: score(<Font 'Consolas' (consola.ttf) normal normal 400 normal>) = 10.05 [font_manager.py04/22:10:06]\n"
     ]
    },
    {
     "name": "stdout",
     "output_type": "stream",
     "text": [
      " _findfont_cached1346|10: findfont: score(<Font 'Gentium Basic' (GenBasR.ttf) normal normal 400 normal>) = 10.05 [font_manager.py04/22:10:06]\n"
     ]
    },
    {
     "name": "stderr",
     "output_type": "stream",
     "text": [
      " _findfont_cached1346|DEBUG: findfont: score(<Font 'Gentium Basic' (GenBasR.ttf) normal normal 400 normal>) = 10.05 [font_manager.py04/22:10:06]\n"
     ]
    },
    {
     "name": "stdout",
     "output_type": "stream",
     "text": [
      " _findfont_cached1346|10: findfont: score(<Font 'Tw Cen MT Condensed' (TCCB____.TTF) normal normal 700 condensed>) = 10.535 [font_manager.py04/22:10:06]\n"
     ]
    },
    {
     "name": "stderr",
     "output_type": "stream",
     "text": [
      " _findfont_cached1346|DEBUG: findfont: score(<Font 'Tw Cen MT Condensed' (TCCB____.TTF) normal normal 700 condensed>) = 10.535 [font_manager.py04/22:10:06]\n"
     ]
    },
    {
     "name": "stdout",
     "output_type": "stream",
     "text": [
      " _findfont_cached1346|10: findfont: score(<Font 'Source Serif Pro' (SourceSerifPro-ExtraLightIt.ttf) italic normal 200 normal>) = 11.24 [font_manager.py04/22:10:06]\n"
     ]
    },
    {
     "name": "stderr",
     "output_type": "stream",
     "text": [
      " _findfont_cached1346|DEBUG: findfont: score(<Font 'Source Serif Pro' (SourceSerifPro-ExtraLightIt.ttf) italic normal 200 normal>) = 11.24 [font_manager.py04/22:10:06]\n"
     ]
    },
    {
     "name": "stdout",
     "output_type": "stream",
     "text": [
      " _findfont_cached1346|10: findfont: score(<Font 'Lucida Sans' (LSANSD.TTF) normal normal 600 normal>) = 10.24 [font_manager.py04/22:10:06]\n"
     ]
    },
    {
     "name": "stderr",
     "output_type": "stream",
     "text": [
      " _findfont_cached1346|DEBUG: findfont: score(<Font 'Lucida Sans' (LSANSD.TTF) normal normal 600 normal>) = 10.24 [font_manager.py04/22:10:06]\n"
     ]
    },
    {
     "name": "stdout",
     "output_type": "stream",
     "text": [
      " _findfont_cached1346|10: findfont: score(<Font 'Bodoni MT' (BOD_CI.TTF) italic normal 400 condensed>) = 11.25 [font_manager.py04/22:10:06]\n"
     ]
    },
    {
     "name": "stderr",
     "output_type": "stream",
     "text": [
      " _findfont_cached1346|DEBUG: findfont: score(<Font 'Bodoni MT' (BOD_CI.TTF) italic normal 400 condensed>) = 11.25 [font_manager.py04/22:10:06]\n"
     ]
    },
    {
     "name": "stdout",
     "output_type": "stream",
     "text": [
      " _findfont_cached1346|10: findfont: score(<Font 'Noto Serif' (NotoSerif-Light.ttf) normal normal 300 normal>) = 10.145 [font_manager.py04/22:10:06]\n"
     ]
    },
    {
     "name": "stderr",
     "output_type": "stream",
     "text": [
      " _findfont_cached1346|DEBUG: findfont: score(<Font 'Noto Serif' (NotoSerif-Light.ttf) normal normal 300 normal>) = 10.145 [font_manager.py04/22:10:06]\n"
     ]
    },
    {
     "name": "stdout",
     "output_type": "stream",
     "text": [
      " _findfont_cached1346|10: findfont: score(<Font 'QuickType II' (QT2_P.TTF) normal normal 400 normal>) = 10.05 [font_manager.py04/22:10:06]\n"
     ]
    },
    {
     "name": "stderr",
     "output_type": "stream",
     "text": [
      " _findfont_cached1346|DEBUG: findfont: score(<Font 'QuickType II' (QT2_P.TTF) normal normal 400 normal>) = 10.05 [font_manager.py04/22:10:06]\n"
     ]
    },
    {
     "name": "stdout",
     "output_type": "stream",
     "text": [
      " _findfont_cached1346|10: findfont: score(<Font 'FangSong' (simfang.ttf) normal normal 400 normal>) = 10.05 [font_manager.py04/22:10:06]\n"
     ]
    },
    {
     "name": "stderr",
     "output_type": "stream",
     "text": [
      " _findfont_cached1346|DEBUG: findfont: score(<Font 'FangSong' (simfang.ttf) normal normal 400 normal>) = 10.05 [font_manager.py04/22:10:06]\n"
     ]
    },
    {
     "name": "stdout",
     "output_type": "stream",
     "text": [
      " _findfont_cached1346|10: findfont: score(<Font 'Calibri' (calibriz.ttf) italic normal 700 normal>) = 11.335 [font_manager.py04/22:10:06]\n"
     ]
    },
    {
     "name": "stderr",
     "output_type": "stream",
     "text": [
      " _findfont_cached1346|DEBUG: findfont: score(<Font 'Calibri' (calibriz.ttf) italic normal 700 normal>) = 11.335 [font_manager.py04/22:10:06]\n"
     ]
    },
    {
     "name": "stdout",
     "output_type": "stream",
     "text": [
      " _findfont_cached1346|10: findfont: score(<Font 'Onyx' (ONYX.TTF) normal normal 400 normal>) = 10.05 [font_manager.py04/22:10:06]\n"
     ]
    },
    {
     "name": "stderr",
     "output_type": "stream",
     "text": [
      " _findfont_cached1346|DEBUG: findfont: score(<Font 'Onyx' (ONYX.TTF) normal normal 400 normal>) = 10.05 [font_manager.py04/22:10:06]\n"
     ]
    },
    {
     "name": "stdout",
     "output_type": "stream",
     "text": [
      " _findfont_cached1346|10: findfont: score(<Font 'Californian FB' (CALIFB.TTF) normal normal 700 normal>) = 10.335 [font_manager.py04/22:10:06]\n"
     ]
    },
    {
     "name": "stderr",
     "output_type": "stream",
     "text": [
      " _findfont_cached1346|DEBUG: findfont: score(<Font 'Californian FB' (CALIFB.TTF) normal normal 700 normal>) = 10.335 [font_manager.py04/22:10:06]\n"
     ]
    },
    {
     "name": "stdout",
     "output_type": "stream",
     "text": [
      " _findfont_cached1346|10: findfont: score(<Font 'Sitka Small' (SitkaB.ttc) normal normal 700 normal>) = 10.335 [font_manager.py04/22:10:06]\n"
     ]
    },
    {
     "name": "stderr",
     "output_type": "stream",
     "text": [
      " _findfont_cached1346|DEBUG: findfont: score(<Font 'Sitka Small' (SitkaB.ttc) normal normal 700 normal>) = 10.335 [font_manager.py04/22:10:06]\n"
     ]
    },
    {
     "name": "stdout",
     "output_type": "stream",
     "text": [
      " _findfont_cached1346|10: findfont: score(<Font 'Source Sans Pro' (SourceSansPro-ExtraLightIt.ttf) italic normal 200 normal>) = 11.24 [font_manager.py04/22:10:06]\n"
     ]
    },
    {
     "name": "stderr",
     "output_type": "stream",
     "text": [
      " _findfont_cached1346|DEBUG: findfont: score(<Font 'Source Sans Pro' (SourceSansPro-ExtraLightIt.ttf) italic normal 200 normal>) = 11.24 [font_manager.py04/22:10:06]\n"
     ]
    },
    {
     "name": "stdout",
     "output_type": "stream",
     "text": [
      " _findfont_cached1346|10: findfont: score(<Font 'Lucida Sans Typewriter' (LTYPEBO.TTF) oblique normal 600 normal>) = 11.24 [font_manager.py04/22:10:06]\n"
     ]
    },
    {
     "name": "stderr",
     "output_type": "stream",
     "text": [
      " _findfont_cached1346|DEBUG: findfont: score(<Font 'Lucida Sans Typewriter' (LTYPEBO.TTF) oblique normal 600 normal>) = 11.24 [font_manager.py04/22:10:06]\n"
     ]
    },
    {
     "name": "stdout",
     "output_type": "stream",
     "text": [
      " _findfont_cached1346|10: findfont: score(<Font 'SimHei' (simhei.ttf) normal normal 400 normal>) = 10.05 [font_manager.py04/22:10:06]\n"
     ]
    },
    {
     "name": "stderr",
     "output_type": "stream",
     "text": [
      " _findfont_cached1346|DEBUG: findfont: score(<Font 'SimHei' (simhei.ttf) normal normal 400 normal>) = 10.05 [font_manager.py04/22:10:06]\n"
     ]
    },
    {
     "name": "stdout",
     "output_type": "stream",
     "text": [
      " _findfont_cached1346|10: findfont: score(<Font 'Garamond' (GARA.TTF) normal normal 400 normal>) = 10.05 [font_manager.py04/22:10:06]\n"
     ]
    },
    {
     "name": "stderr",
     "output_type": "stream",
     "text": [
      " _findfont_cached1346|DEBUG: findfont: score(<Font 'Garamond' (GARA.TTF) normal normal 400 normal>) = 10.05 [font_manager.py04/22:10:06]\n"
     ]
    },
    {
     "name": "stdout",
     "output_type": "stream",
     "text": [
      " _findfont_cached1346|10: findfont: score(<Font 'Candara' (Candaral.ttf) normal normal 400 normal>) = 10.05 [font_manager.py04/22:10:06]\n"
     ]
    },
    {
     "name": "stderr",
     "output_type": "stream",
     "text": [
      " _findfont_cached1346|DEBUG: findfont: score(<Font 'Candara' (Candaral.ttf) normal normal 400 normal>) = 10.05 [font_manager.py04/22:10:06]\n"
     ]
    },
    {
     "name": "stdout",
     "output_type": "stream",
     "text": [
      " _findfont_cached1346|10: findfont: score(<Font 'Source Serif Pro' (SourceSerifPro-BlackIt.ttf) italic normal 900 normal>) = 11.525 [font_manager.py04/22:10:06]\n"
     ]
    },
    {
     "name": "stderr",
     "output_type": "stream",
     "text": [
      " _findfont_cached1346|DEBUG: findfont: score(<Font 'Source Serif Pro' (SourceSerifPro-BlackIt.ttf) italic normal 900 normal>) = 11.525 [font_manager.py04/22:10:06]\n"
     ]
    },
    {
     "name": "stdout",
     "output_type": "stream",
     "text": [
      " _findfont_cached1346|10: findfont: score(<Font 'Noto Sans Arabic UI' (NotoSansArabicUI-Regular.ttf) normal normal 400 normal>) = 10.05 [font_manager.py04/22:10:06]\n"
     ]
    },
    {
     "name": "stderr",
     "output_type": "stream",
     "text": [
      " _findfont_cached1346|DEBUG: findfont: score(<Font 'Noto Sans Arabic UI' (NotoSansArabicUI-Regular.ttf) normal normal 400 normal>) = 10.05 [font_manager.py04/22:10:06]\n"
     ]
    },
    {
     "name": "stdout",
     "output_type": "stream",
     "text": [
      " _findfont_cached1346|10: findfont: score(<Font 'kor_boot' (kor_boot.ttf) normal normal 400 normal>) = 10.05 [font_manager.py04/22:10:06]\n"
     ]
    },
    {
     "name": "stderr",
     "output_type": "stream",
     "text": [
      " _findfont_cached1346|DEBUG: findfont: score(<Font 'kor_boot' (kor_boot.ttf) normal normal 400 normal>) = 10.05 [font_manager.py04/22:10:06]\n"
     ]
    },
    {
     "name": "stdout",
     "output_type": "stream",
     "text": [
      " _findfont_cached1346|10: findfont: score(<Font 'Haettenschweiler' (HATTEN.TTF) normal normal 400 normal>) = 10.05 [font_manager.py04/22:10:06]\n"
     ]
    },
    {
     "name": "stderr",
     "output_type": "stream",
     "text": [
      " _findfont_cached1346|DEBUG: findfont: score(<Font 'Haettenschweiler' (HATTEN.TTF) normal normal 400 normal>) = 10.05 [font_manager.py04/22:10:06]\n"
     ]
    },
    {
     "name": "stdout",
     "output_type": "stream",
     "text": [
      " _findfont_cached1346|10: findfont: score(<Font 'Arial' (ariali.ttf) italic normal 400 normal>) = 7.413636363636363 [font_manager.py04/22:10:06]\n"
     ]
    },
    {
     "name": "stderr",
     "output_type": "stream",
     "text": [
      " _findfont_cached1346|DEBUG: findfont: score(<Font 'Arial' (ariali.ttf) italic normal 400 normal>) = 7.413636363636363 [font_manager.py04/22:10:06]\n"
     ]
    },
    {
     "name": "stdout",
     "output_type": "stream",
     "text": [
      " _findfont_cached1346|10: findfont: score(<Font 'Sylfaen' (sylfaen.ttf) normal normal 400 normal>) = 10.05 [font_manager.py04/22:10:06]\n"
     ]
    },
    {
     "name": "stderr",
     "output_type": "stream",
     "text": [
      " _findfont_cached1346|DEBUG: findfont: score(<Font 'Sylfaen' (sylfaen.ttf) normal normal 400 normal>) = 10.05 [font_manager.py04/22:10:06]\n"
     ]
    },
    {
     "name": "stdout",
     "output_type": "stream",
     "text": [
      " _findfont_cached1346|10: findfont: score(<Font 'Noto Naskh Arabic' (NotoNaskhArabic-Regular.ttf) normal normal 400 normal>) = 10.05 [font_manager.py04/22:10:06]\n"
     ]
    },
    {
     "name": "stderr",
     "output_type": "stream",
     "text": [
      " _findfont_cached1346|DEBUG: findfont: score(<Font 'Noto Naskh Arabic' (NotoNaskhArabic-Regular.ttf) normal normal 400 normal>) = 10.05 [font_manager.py04/22:10:06]\n"
     ]
    },
    {
     "name": "stdout",
     "output_type": "stream",
     "text": [
      " _findfont_cached1346|10: findfont: score(<Font 'Times New Roman' (timesbd.ttf) normal normal 700 normal>) = 10.335 [font_manager.py04/22:10:06]\n"
     ]
    },
    {
     "name": "stderr",
     "output_type": "stream",
     "text": [
      " _findfont_cached1346|DEBUG: findfont: score(<Font 'Times New Roman' (timesbd.ttf) normal normal 700 normal>) = 10.335 [font_manager.py04/22:10:06]\n"
     ]
    },
    {
     "name": "stdout",
     "output_type": "stream",
     "text": [
      " _findfont_cached1346|10: findfont: score(<Font 'Wide Latin' (LATINWD.TTF) normal normal 400 expanded>) = 10.25 [font_manager.py04/22:10:06]\n"
     ]
    },
    {
     "name": "stderr",
     "output_type": "stream",
     "text": [
      " _findfont_cached1346|DEBUG: findfont: score(<Font 'Wide Latin' (LATINWD.TTF) normal normal 400 expanded>) = 10.25 [font_manager.py04/22:10:06]\n"
     ]
    },
    {
     "name": "stdout",
     "output_type": "stream",
     "text": [
      " _findfont_cached1346|10: findfont: score(<Font 'DejaVu Math TeX Gyre' (DejaVuMathTeXGyre.ttf) normal normal 400 normal>) = 10.05 [font_manager.py04/22:10:06]\n"
     ]
    },
    {
     "name": "stderr",
     "output_type": "stream",
     "text": [
      " _findfont_cached1346|DEBUG: findfont: score(<Font 'DejaVu Math TeX Gyre' (DejaVuMathTeXGyre.ttf) normal normal 400 normal>) = 10.05 [font_manager.py04/22:10:06]\n"
     ]
    },
    {
     "name": "stdout",
     "output_type": "stream",
     "text": [
      " _findfont_cached1346|10: findfont: score(<Font 'Harrington' (HARNGTON.TTF) normal normal 400 normal>) = 10.05 [font_manager.py04/22:10:06]\n"
     ]
    },
    {
     "name": "stderr",
     "output_type": "stream",
     "text": [
      " _findfont_cached1346|DEBUG: findfont: score(<Font 'Harrington' (HARNGTON.TTF) normal normal 400 normal>) = 10.05 [font_manager.py04/22:10:06]\n"
     ]
    },
    {
     "name": "stdout",
     "output_type": "stream",
     "text": [
      " _findfont_cached1346|10: findfont: score(<Font 'Dubai' (DUBAI-REGULAR.TTF) normal normal 400 normal>) = 10.05 [font_manager.py04/22:10:06]\n"
     ]
    },
    {
     "name": "stderr",
     "output_type": "stream",
     "text": [
      " _findfont_cached1346|DEBUG: findfont: score(<Font 'Dubai' (DUBAI-REGULAR.TTF) normal normal 400 normal>) = 10.05 [font_manager.py04/22:10:06]\n"
     ]
    },
    {
     "name": "stdout",
     "output_type": "stream",
     "text": [
      " _findfont_cached1346|10: findfont: score(<Font 'SWGamekeys MT' (Swkeys1.ttf) normal normal 400 normal>) = 10.05 [font_manager.py04/22:10:06]\n"
     ]
    },
    {
     "name": "stderr",
     "output_type": "stream",
     "text": [
      " _findfont_cached1346|DEBUG: findfont: score(<Font 'SWGamekeys MT' (Swkeys1.ttf) normal normal 400 normal>) = 10.05 [font_manager.py04/22:10:06]\n"
     ]
    },
    {
     "name": "stdout",
     "output_type": "stream",
     "text": [
      " _findfont_cached1346|10: findfont: score(<Font 'Franklin Gothic Demi' (FRADMIT.TTF) italic normal 400 normal>) = 11.05 [font_manager.py04/22:10:06]\n"
     ]
    },
    {
     "name": "stderr",
     "output_type": "stream",
     "text": [
      " _findfont_cached1346|DEBUG: findfont: score(<Font 'Franklin Gothic Demi' (FRADMIT.TTF) italic normal 400 normal>) = 11.05 [font_manager.py04/22:10:06]\n"
     ]
    },
    {
     "name": "stdout",
     "output_type": "stream",
     "text": [
      " _findfont_cached1346|10: findfont: score(<Font 'Castellar' (CASTELAR.TTF) normal normal 400 normal>) = 10.05 [font_manager.py04/22:10:06]\n"
     ]
    },
    {
     "name": "stderr",
     "output_type": "stream",
     "text": [
      " _findfont_cached1346|DEBUG: findfont: score(<Font 'Castellar' (CASTELAR.TTF) normal normal 400 normal>) = 10.05 [font_manager.py04/22:10:06]\n"
     ]
    },
    {
     "name": "stdout",
     "output_type": "stream",
     "text": [
      " _findfont_cached1346|10: findfont: score(<Font 'OCR A Extended' (OCRAEXT.TTF) normal normal 400 expanded>) = 10.25 [font_manager.py04/22:10:06]\n"
     ]
    },
    {
     "name": "stderr",
     "output_type": "stream",
     "text": [
      " _findfont_cached1346|DEBUG: findfont: score(<Font 'OCR A Extended' (OCRAEXT.TTF) normal normal 400 expanded>) = 10.25 [font_manager.py04/22:10:06]\n"
     ]
    },
    {
     "name": "stdout",
     "output_type": "stream",
     "text": [
      " _findfont_cached1346|10: findfont: score(<Font 'Juice ITC' (JUICE___.TTF) normal normal 400 normal>) = 10.05 [font_manager.py04/22:10:06]\n"
     ]
    },
    {
     "name": "stderr",
     "output_type": "stream",
     "text": [
      " _findfont_cached1346|DEBUG: findfont: score(<Font 'Juice ITC' (JUICE___.TTF) normal normal 400 normal>) = 10.05 [font_manager.py04/22:10:06]\n"
     ]
    },
    {
     "name": "stdout",
     "output_type": "stream",
     "text": [
      " _findfont_cached1346|10: findfont: score(<Font 'Maiandra GD' (MAIAN.TTF) normal normal 400 normal>) = 10.05 [font_manager.py04/22:10:06]\n"
     ]
    },
    {
     "name": "stderr",
     "output_type": "stream",
     "text": [
      " _findfont_cached1346|DEBUG: findfont: score(<Font 'Maiandra GD' (MAIAN.TTF) normal normal 400 normal>) = 10.05 [font_manager.py04/22:10:06]\n"
     ]
    },
    {
     "name": "stdout",
     "output_type": "stream",
     "text": [
      " _findfont_cached1346|10: findfont: score(<Font 'Arial' (ariblk.ttf) normal normal 900 normal>) = 6.888636363636364 [font_manager.py04/22:10:06]\n"
     ]
    },
    {
     "name": "stderr",
     "output_type": "stream",
     "text": [
      " _findfont_cached1346|DEBUG: findfont: score(<Font 'Arial' (ariblk.ttf) normal normal 900 normal>) = 6.888636363636364 [font_manager.py04/22:10:06]\n"
     ]
    },
    {
     "name": "stdout",
     "output_type": "stream",
     "text": [
      " _findfont_cached1346|10: findfont: score(<Font 'DejaVu Serif' (DejaVuSerifCondensed-BoldItalic.ttf) italic normal 700 condensed>) = 11.535 [font_manager.py04/22:10:06]\n"
     ]
    },
    {
     "name": "stderr",
     "output_type": "stream",
     "text": [
      " _findfont_cached1346|DEBUG: findfont: score(<Font 'DejaVu Serif' (DejaVuSerifCondensed-BoldItalic.ttf) italic normal 700 condensed>) = 11.535 [font_manager.py04/22:10:06]\n"
     ]
    },
    {
     "name": "stdout",
     "output_type": "stream",
     "text": [
      " _findfont_cached1346|10: findfont: score(<Font 'Microsoft PhagsPa' (phagspa.ttf) normal normal 400 normal>) = 10.05 [font_manager.py04/22:10:06]\n"
     ]
    },
    {
     "name": "stderr",
     "output_type": "stream",
     "text": [
      " _findfont_cached1346|DEBUG: findfont: score(<Font 'Microsoft PhagsPa' (phagspa.ttf) normal normal 400 normal>) = 10.05 [font_manager.py04/22:10:06]\n"
     ]
    },
    {
     "name": "stdout",
     "output_type": "stream",
     "text": [
      " _findfont_cached1346|10: findfont: score(<Font 'Verdana' (verdana.ttf) normal normal 400 normal>) = 3.6863636363636365 [font_manager.py04/22:10:06]\n"
     ]
    },
    {
     "name": "stderr",
     "output_type": "stream",
     "text": [
      " _findfont_cached1346|DEBUG: findfont: score(<Font 'Verdana' (verdana.ttf) normal normal 400 normal>) = 3.6863636363636365 [font_manager.py04/22:10:06]\n"
     ]
    },
    {
     "name": "stdout",
     "output_type": "stream",
     "text": [
      " _findfont_cached1346|10: findfont: score(<Font 'Gadugi' (gadugi.ttf) normal normal 400 normal>) = 10.05 [font_manager.py04/22:10:06]\n"
     ]
    },
    {
     "name": "stderr",
     "output_type": "stream",
     "text": [
      " _findfont_cached1346|DEBUG: findfont: score(<Font 'Gadugi' (gadugi.ttf) normal normal 400 normal>) = 10.05 [font_manager.py04/22:10:06]\n"
     ]
    },
    {
     "name": "stdout",
     "output_type": "stream",
     "text": [
      " _findfont_cached1346|10: findfont: score(<Font 'Arial' (ariali.ttf) italic normal 400 normal>) = 7.413636363636363 [font_manager.py04/22:10:06]\n"
     ]
    },
    {
     "name": "stderr",
     "output_type": "stream",
     "text": [
      " _findfont_cached1346|DEBUG: findfont: score(<Font 'Arial' (ariali.ttf) italic normal 400 normal>) = 7.413636363636363 [font_manager.py04/22:10:06]\n"
     ]
    },
    {
     "name": "stdout",
     "output_type": "stream",
     "text": [
      " _findfont_cached1346|10: findfont: score(<Font 'Palace Script MT' (PALSCRI.TTF) normal normal 400 normal>) = 10.05 [font_manager.py04/22:10:06]\n"
     ]
    },
    {
     "name": "stderr",
     "output_type": "stream",
     "text": [
      " _findfont_cached1346|DEBUG: findfont: score(<Font 'Palace Script MT' (PALSCRI.TTF) normal normal 400 normal>) = 10.05 [font_manager.py04/22:10:06]\n"
     ]
    },
    {
     "name": "stdout",
     "output_type": "stream",
     "text": [
      " _findfont_cached1346|10: findfont: score(<Font 'Goudy Stout' (GOUDYSTO.TTF) normal normal 400 normal>) = 10.05 [font_manager.py04/22:10:06]\n"
     ]
    },
    {
     "name": "stderr",
     "output_type": "stream",
     "text": [
      " _findfont_cached1346|DEBUG: findfont: score(<Font 'Goudy Stout' (GOUDYSTO.TTF) normal normal 400 normal>) = 10.05 [font_manager.py04/22:10:06]\n"
     ]
    },
    {
     "name": "stdout",
     "output_type": "stream",
     "text": [
      " _findfont_cached1346|10: findfont: score(<Font 'MingLiU-ExtB' (mingliub.ttc) normal normal 400 normal>) = 10.05 [font_manager.py04/22:10:06]\n"
     ]
    },
    {
     "name": "stderr",
     "output_type": "stream",
     "text": [
      " _findfont_cached1346|DEBUG: findfont: score(<Font 'MingLiU-ExtB' (mingliub.ttc) normal normal 400 normal>) = 10.05 [font_manager.py04/22:10:06]\n"
     ]
    },
    {
     "name": "stdout",
     "output_type": "stream",
     "text": [
      " _findfont_cached1346|10: findfont: score(<Font 'Liberation Serif' (LiberationSerif-Bold.ttf) normal normal 700 normal>) = 10.335 [font_manager.py04/22:10:06]\n"
     ]
    },
    {
     "name": "stderr",
     "output_type": "stream",
     "text": [
      " _findfont_cached1346|DEBUG: findfont: score(<Font 'Liberation Serif' (LiberationSerif-Bold.ttf) normal normal 700 normal>) = 10.335 [font_manager.py04/22:10:06]\n"
     ]
    },
    {
     "name": "stdout",
     "output_type": "stream",
     "text": [
      " _findfont_cached1346|10: findfont: score(<Font 'Palatino Linotype' (palab.ttf) normal normal 700 normal>) = 10.335 [font_manager.py04/22:10:06]\n"
     ]
    },
    {
     "name": "stderr",
     "output_type": "stream",
     "text": [
      " _findfont_cached1346|DEBUG: findfont: score(<Font 'Palatino Linotype' (palab.ttf) normal normal 700 normal>) = 10.335 [font_manager.py04/22:10:06]\n"
     ]
    },
    {
     "name": "stdout",
     "output_type": "stream",
     "text": [
      " _findfont_cached1346|10: findfont: score(<Font 'DengXian' (Dengb.ttf) normal normal 700 normal>) = 10.335 [font_manager.py04/22:10:06]\n"
     ]
    },
    {
     "name": "stderr",
     "output_type": "stream",
     "text": [
      " _findfont_cached1346|DEBUG: findfont: score(<Font 'DengXian' (Dengb.ttf) normal normal 700 normal>) = 10.335 [font_manager.py04/22:10:06]\n"
     ]
    },
    {
     "name": "stdout",
     "output_type": "stream",
     "text": [
      " _findfont_cached1346|10: findfont: score(<Font 'Modern No. 20' (MOD20.TTF) normal normal 400 normal>) = 10.05 [font_manager.py04/22:10:06]\n"
     ]
    },
    {
     "name": "stderr",
     "output_type": "stream",
     "text": [
      " _findfont_cached1346|DEBUG: findfont: score(<Font 'Modern No. 20' (MOD20.TTF) normal normal 400 normal>) = 10.05 [font_manager.py04/22:10:06]\n"
     ]
    },
    {
     "name": "stdout",
     "output_type": "stream",
     "text": [
      " _findfont_cached1346|10: findfont: score(<Font 'Leelawadee UI' (LeelaUIb.ttf) normal normal 700 normal>) = 10.335 [font_manager.py04/22:10:06]\n"
     ]
    },
    {
     "name": "stderr",
     "output_type": "stream",
     "text": [
      " _findfont_cached1346|DEBUG: findfont: score(<Font 'Leelawadee UI' (LeelaUIb.ttf) normal normal 700 normal>) = 10.335 [font_manager.py04/22:10:06]\n"
     ]
    },
    {
     "name": "stdout",
     "output_type": "stream",
     "text": [
      " _findfont_cached1346|10: findfont: score(<Font 'Segoe UI' (segoeuii.ttf) italic normal 400 normal>) = 11.05 [font_manager.py04/22:10:06]\n"
     ]
    },
    {
     "name": "stderr",
     "output_type": "stream",
     "text": [
      " _findfont_cached1346|DEBUG: findfont: score(<Font 'Segoe UI' (segoeuii.ttf) italic normal 400 normal>) = 11.05 [font_manager.py04/22:10:06]\n"
     ]
    },
    {
     "name": "stdout",
     "output_type": "stream",
     "text": [
      " _findfont_cached1346|10: findfont: score(<Font 'Javanese Text' (javatext.ttf) normal normal 400 normal>) = 10.05 [font_manager.py04/22:10:06]\n"
     ]
    },
    {
     "name": "stderr",
     "output_type": "stream",
     "text": [
      " _findfont_cached1346|DEBUG: findfont: score(<Font 'Javanese Text' (javatext.ttf) normal normal 400 normal>) = 10.05 [font_manager.py04/22:10:06]\n"
     ]
    },
    {
     "name": "stdout",
     "output_type": "stream",
     "text": [
      " _findfont_cached1346|10: findfont: score(<Font 'Linux Libertine G' (LinLibertine_R_G.ttf) normal normal 400 normal>) = 10.05 [font_manager.py04/22:10:06]\n"
     ]
    },
    {
     "name": "stderr",
     "output_type": "stream",
     "text": [
      " _findfont_cached1346|DEBUG: findfont: score(<Font 'Linux Libertine G' (LinLibertine_R_G.ttf) normal normal 400 normal>) = 10.05 [font_manager.py04/22:10:06]\n"
     ]
    },
    {
     "name": "stdout",
     "output_type": "stream",
     "text": [
      " _findfont_cached1346|10: findfont: score(<Font 'Verdana' (verdanai.ttf) italic normal 400 normal>) = 4.6863636363636365 [font_manager.py04/22:10:06]\n"
     ]
    },
    {
     "name": "stderr",
     "output_type": "stream",
     "text": [
      " _findfont_cached1346|DEBUG: findfont: score(<Font 'Verdana' (verdanai.ttf) italic normal 400 normal>) = 4.6863636363636365 [font_manager.py04/22:10:06]\n"
     ]
    },
    {
     "name": "stdout",
     "output_type": "stream",
     "text": [
      " _findfont_cached1346|10: findfont: score(<Font 'Frank Ruhl Hofshi' (FrankRuhlHofshi-Bold.otf) normal normal 700 normal>) = 10.335 [font_manager.py04/22:10:06]\n"
     ]
    },
    {
     "name": "stderr",
     "output_type": "stream",
     "text": [
      " _findfont_cached1346|DEBUG: findfont: score(<Font 'Frank Ruhl Hofshi' (FrankRuhlHofshi-Bold.otf) normal normal 700 normal>) = 10.335 [font_manager.py04/22:10:06]\n"
     ]
    },
    {
     "name": "stdout",
     "output_type": "stream",
     "text": [
      " _findfont_cached1346|10: findfont: score(<Font 'Calisto MT' (CALISTBI.TTF) italic normal 700 normal>) = 11.335 [font_manager.py04/22:10:06]\n"
     ]
    },
    {
     "name": "stderr",
     "output_type": "stream",
     "text": [
      " _findfont_cached1346|DEBUG: findfont: score(<Font 'Calisto MT' (CALISTBI.TTF) italic normal 700 normal>) = 11.335 [font_manager.py04/22:10:06]\n"
     ]
    },
    {
     "name": "stdout",
     "output_type": "stream",
     "text": [
      " _findfont_cached1346|10: findfont: score(<Font 'David CLM' (DavidCLM-Medium.ttf) normal normal 500 normal>) = 10.145 [font_manager.py04/22:10:06]\n"
     ]
    },
    {
     "name": "stderr",
     "output_type": "stream",
     "text": [
      " _findfont_cached1346|DEBUG: findfont: score(<Font 'David CLM' (DavidCLM-Medium.ttf) normal normal 500 normal>) = 10.145 [font_manager.py04/22:10:06]\n"
     ]
    },
    {
     "name": "stdout",
     "output_type": "stream",
     "text": [
      " _findfont_cached1346|10: findfont: score(<Font 'Gill Sans MT' (GILI____.TTF) italic normal 400 normal>) = 11.05 [font_manager.py04/22:10:06]\n"
     ]
    },
    {
     "name": "stderr",
     "output_type": "stream",
     "text": [
      " _findfont_cached1346|DEBUG: findfont: score(<Font 'Gill Sans MT' (GILI____.TTF) italic normal 400 normal>) = 11.05 [font_manager.py04/22:10:06]\n"
     ]
    },
    {
     "name": "stdout",
     "output_type": "stream",
     "text": [
      " _findfont_cached1346|10: findfont: score(<Font 'Caladea' (Caladea-BoldItalic.ttf) italic normal 700 normal>) = 11.335 [font_manager.py04/22:10:06]\n"
     ]
    },
    {
     "name": "stderr",
     "output_type": "stream",
     "text": [
      " _findfont_cached1346|DEBUG: findfont: score(<Font 'Caladea' (Caladea-BoldItalic.ttf) italic normal 700 normal>) = 11.335 [font_manager.py04/22:10:06]\n"
     ]
    },
    {
     "name": "stdout",
     "output_type": "stream",
     "text": [
      " _findfont_cached1346|10: findfont: score(<Font 'Onyx' (ONYX.TTF) normal normal 400 normal>) = 10.05 [font_manager.py04/22:10:06]\n"
     ]
    },
    {
     "name": "stderr",
     "output_type": "stream",
     "text": [
      " _findfont_cached1346|DEBUG: findfont: score(<Font 'Onyx' (ONYX.TTF) normal normal 400 normal>) = 10.05 [font_manager.py04/22:10:06]\n"
     ]
    },
    {
     "name": "stdout",
     "output_type": "stream",
     "text": [
      " _findfont_cached1346|10: findfont: score(<Font 'Lucida Sans' (LSANSDI.TTF) italic normal 600 normal>) = 11.24 [font_manager.py04/22:10:06]\n"
     ]
    },
    {
     "name": "stderr",
     "output_type": "stream",
     "text": [
      " _findfont_cached1346|DEBUG: findfont: score(<Font 'Lucida Sans' (LSANSDI.TTF) italic normal 600 normal>) = 11.24 [font_manager.py04/22:10:06]\n"
     ]
    },
    {
     "name": "stdout",
     "output_type": "stream",
     "text": [
      " _findfont_cached1346|10: findfont: score(<Font 'Liberation Sans' (LiberationSans-BoldItalic.ttf) italic normal 700 normal>) = 11.335 [font_manager.py04/22:10:06]\n"
     ]
    },
    {
     "name": "stderr",
     "output_type": "stream",
     "text": [
      " _findfont_cached1346|DEBUG: findfont: score(<Font 'Liberation Sans' (LiberationSans-BoldItalic.ttf) italic normal 700 normal>) = 11.335 [font_manager.py04/22:10:06]\n"
     ]
    },
    {
     "name": "stdout",
     "output_type": "stream",
     "text": [
      " _findfont_cached1346|10: findfont: score(<Font 'Tahoma' (tahoma.ttf) normal normal 400 normal>) = 10.05 [font_manager.py04/22:10:06]\n"
     ]
    },
    {
     "name": "stderr",
     "output_type": "stream",
     "text": [
      " _findfont_cached1346|DEBUG: findfont: score(<Font 'Tahoma' (tahoma.ttf) normal normal 400 normal>) = 10.05 [font_manager.py04/22:10:06]\n"
     ]
    },
    {
     "name": "stdout",
     "output_type": "stream",
     "text": [
      " _findfont_cached1346|10: findfont: score(<Font 'Gabriola' (Gabriola.ttf) normal normal 400 normal>) = 10.05 [font_manager.py04/22:10:06]\n"
     ]
    },
    {
     "name": "stderr",
     "output_type": "stream",
     "text": [
      " _findfont_cached1346|DEBUG: findfont: score(<Font 'Gabriola' (Gabriola.ttf) normal normal 400 normal>) = 10.05 [font_manager.py04/22:10:06]\n"
     ]
    },
    {
     "name": "stdout",
     "output_type": "stream",
     "text": [
      " _findfont_cached1346|10: findfont: score(<Font 'Lucida Sans' (LSANSDI.TTF) italic normal 600 normal>) = 11.24 [font_manager.py04/22:10:06]\n"
     ]
    },
    {
     "name": "stderr",
     "output_type": "stream",
     "text": [
      " _findfont_cached1346|DEBUG: findfont: score(<Font 'Lucida Sans' (LSANSDI.TTF) italic normal 600 normal>) = 11.24 [font_manager.py04/22:10:06]\n"
     ]
    },
    {
     "name": "stdout",
     "output_type": "stream",
     "text": [
      " _findfont_cached1346|10: findfont: score(<Font 'Perpetua Titling MT' (PERTILI.TTF) normal normal 300 normal>) = 10.145 [font_manager.py04/22:10:06]\n"
     ]
    },
    {
     "name": "stderr",
     "output_type": "stream",
     "text": [
      " _findfont_cached1346|DEBUG: findfont: score(<Font 'Perpetua Titling MT' (PERTILI.TTF) normal normal 300 normal>) = 10.145 [font_manager.py04/22:10:06]\n"
     ]
    },
    {
     "name": "stdout",
     "output_type": "stream",
     "text": [
      " _findfont_cached1346|10: findfont: score(<Font 'Noto Serif' (NotoSerif-Bold.ttf) normal normal 700 normal>) = 10.335 [font_manager.py04/22:10:06]\n"
     ]
    },
    {
     "name": "stderr",
     "output_type": "stream",
     "text": [
      " _findfont_cached1346|DEBUG: findfont: score(<Font 'Noto Serif' (NotoSerif-Bold.ttf) normal normal 700 normal>) = 10.335 [font_manager.py04/22:10:06]\n"
     ]
    },
    {
     "name": "stdout",
     "output_type": "stream",
     "text": [
      " _findfont_cached1346|10: findfont: score(<Font 'Microsoft YaHei' (msyhbd.ttc) normal normal 700 normal>) = 10.335 [font_manager.py04/22:10:06]\n"
     ]
    },
    {
     "name": "stderr",
     "output_type": "stream",
     "text": [
      " _findfont_cached1346|DEBUG: findfont: score(<Font 'Microsoft YaHei' (msyhbd.ttc) normal normal 700 normal>) = 10.335 [font_manager.py04/22:10:06]\n"
     ]
    },
    {
     "name": "stdout",
     "output_type": "stream",
     "text": [
      " _findfont_cached1346|10: findfont: score(<Font 'Noto Sans' (NotoSans-Italic.ttf) italic normal 400 normal>) = 11.05 [font_manager.py04/22:10:06]\n"
     ]
    },
    {
     "name": "stderr",
     "output_type": "stream",
     "text": [
      " _findfont_cached1346|DEBUG: findfont: score(<Font 'Noto Sans' (NotoSans-Italic.ttf) italic normal 400 normal>) = 11.05 [font_manager.py04/22:10:06]\n"
     ]
    },
    {
     "name": "stdout",
     "output_type": "stream",
     "text": [
      " _findfont_cached1346|10: findfont: score(<Font 'Niagara Engraved' (NIAGENG.TTF) normal normal 400 normal>) = 10.05 [font_manager.py04/22:10:06]\n"
     ]
    },
    {
     "name": "stderr",
     "output_type": "stream",
     "text": [
      " _findfont_cached1346|DEBUG: findfont: score(<Font 'Niagara Engraved' (NIAGENG.TTF) normal normal 400 normal>) = 10.05 [font_manager.py04/22:10:06]\n"
     ]
    },
    {
     "name": "stdout",
     "output_type": "stream",
     "text": [
      " _findfont_cached1346|10: findfont: score(<Font 'Arial' (ARIALNBI.TTF) italic normal 700 condensed>) = 7.8986363636363635 [font_manager.py04/22:10:06]\n"
     ]
    },
    {
     "name": "stderr",
     "output_type": "stream",
     "text": [
      " _findfont_cached1346|DEBUG: findfont: score(<Font 'Arial' (ARIALNBI.TTF) italic normal 700 condensed>) = 7.8986363636363635 [font_manager.py04/22:10:06]\n"
     ]
    },
    {
     "name": "stdout",
     "output_type": "stream",
     "text": [
      " _findfont_cached1346|10: findfont: score(<Font 'Calibri' (calibrib.ttf) normal normal 700 normal>) = 10.335 [font_manager.py04/22:10:06]\n"
     ]
    },
    {
     "name": "stderr",
     "output_type": "stream",
     "text": [
      " _findfont_cached1346|DEBUG: findfont: score(<Font 'Calibri' (calibrib.ttf) normal normal 700 normal>) = 10.335 [font_manager.py04/22:10:06]\n"
     ]
    },
    {
     "name": "stdout",
     "output_type": "stream",
     "text": [
      " _findfont_cached1346|10: findfont: score(<Font 'Courier New' (cour.ttf) normal normal 400 normal>) = 10.05 [font_manager.py04/22:10:06]\n"
     ]
    },
    {
     "name": "stderr",
     "output_type": "stream",
     "text": [
      " _findfont_cached1346|DEBUG: findfont: score(<Font 'Courier New' (cour.ttf) normal normal 400 normal>) = 10.05 [font_manager.py04/22:10:06]\n"
     ]
    },
    {
     "name": "stdout",
     "output_type": "stream",
     "text": [
      " _findfont_cached1346|10: findfont: score(<Font 'Carlito' (Carlito-BoldItalic.ttf) italic normal 700 normal>) = 11.335 [font_manager.py04/22:10:06]\n"
     ]
    },
    {
     "name": "stderr",
     "output_type": "stream",
     "text": [
      " _findfont_cached1346|DEBUG: findfont: score(<Font 'Carlito' (Carlito-BoldItalic.ttf) italic normal 700 normal>) = 11.335 [font_manager.py04/22:10:06]\n"
     ]
    },
    {
     "name": "stdout",
     "output_type": "stream",
     "text": [
      " _findfont_cached1346|10: findfont: score(<Font 'Noto Sans Arabic' (NotoSansArabic-Bold.ttf) normal normal 700 normal>) = 10.335 [font_manager.py04/22:10:06]\n"
     ]
    },
    {
     "name": "stderr",
     "output_type": "stream",
     "text": [
      " _findfont_cached1346|DEBUG: findfont: score(<Font 'Noto Sans Arabic' (NotoSansArabic-Bold.ttf) normal normal 700 normal>) = 10.335 [font_manager.py04/22:10:06]\n"
     ]
    },
    {
     "name": "stdout",
     "output_type": "stream",
     "text": [
      " _findfont_cached1346|10: findfont: score(<Font 'Leelawadee UI' (LeelaUIb.ttf) normal normal 700 normal>) = 10.335 [font_manager.py04/22:10:06]\n"
     ]
    },
    {
     "name": "stderr",
     "output_type": "stream",
     "text": [
      " _findfont_cached1346|DEBUG: findfont: score(<Font 'Leelawadee UI' (LeelaUIb.ttf) normal normal 700 normal>) = 10.335 [font_manager.py04/22:10:06]\n"
     ]
    },
    {
     "name": "stdout",
     "output_type": "stream",
     "text": [
      " _findfont_cached1346|10: findfont: score(<Font 'Lucida Sans Unicode' (l_10646.ttf) normal normal 400 normal>) = 10.05 [font_manager.py04/22:10:06]\n"
     ]
    },
    {
     "name": "stderr",
     "output_type": "stream",
     "text": [
      " _findfont_cached1346|DEBUG: findfont: score(<Font 'Lucida Sans Unicode' (l_10646.ttf) normal normal 400 normal>) = 10.05 [font_manager.py04/22:10:06]\n"
     ]
    },
    {
     "name": "stdout",
     "output_type": "stream",
     "text": [
      " _findfont_cached1346|10: findfont: score(<Font 'Frank Ruehl CLM' (FrankRuehlCLM-Bold.ttf) normal normal 700 normal>) = 10.335 [font_manager.py04/22:10:06]\n"
     ]
    },
    {
     "name": "stderr",
     "output_type": "stream",
     "text": [
      " _findfont_cached1346|DEBUG: findfont: score(<Font 'Frank Ruehl CLM' (FrankRuehlCLM-Bold.ttf) normal normal 700 normal>) = 10.335 [font_manager.py04/22:10:06]\n"
     ]
    },
    {
     "name": "stdout",
     "output_type": "stream",
     "text": [
      " _findfont_cached1346|10: findfont: score(<Font 'Calisto MT' (CALIST.TTF) normal normal 400 normal>) = 10.05 [font_manager.py04/22:10:06]\n"
     ]
    },
    {
     "name": "stderr",
     "output_type": "stream",
     "text": [
      " _findfont_cached1346|DEBUG: findfont: score(<Font 'Calisto MT' (CALIST.TTF) normal normal 400 normal>) = 10.05 [font_manager.py04/22:10:06]\n"
     ]
    },
    {
     "name": "stdout",
     "output_type": "stream",
     "text": [
      " _findfont_cached1346|10: findfont: score(<Font 'Noto Serif Lao' (NotoSerifLao-Regular.ttf) normal normal 400 normal>) = 10.05 [font_manager.py04/22:10:06]\n"
     ]
    },
    {
     "name": "stderr",
     "output_type": "stream",
     "text": [
      " _findfont_cached1346|DEBUG: findfont: score(<Font 'Noto Serif Lao' (NotoSerifLao-Regular.ttf) normal normal 400 normal>) = 10.05 [font_manager.py04/22:10:06]\n"
     ]
    },
    {
     "name": "stdout",
     "output_type": "stream",
     "text": [
      " _findfont_cached1346|10: findfont: score(<Font 'UNAVAILABLE' (AvenirLT-Medium.ttf) normal normal 500 normal>) = 10.145 [font_manager.py04/22:10:06]\n"
     ]
    },
    {
     "name": "stderr",
     "output_type": "stream",
     "text": [
      " _findfont_cached1346|DEBUG: findfont: score(<Font 'UNAVAILABLE' (AvenirLT-Medium.ttf) normal normal 500 normal>) = 10.145 [font_manager.py04/22:10:06]\n"
     ]
    },
    {
     "name": "stdout",
     "output_type": "stream",
     "text": [
      " _findfont_cached1346|10: findfont: score(<Font 'Carlito' (Carlito-Regular.ttf) normal normal 400 normal>) = 10.05 [font_manager.py04/22:10:06]\n"
     ]
    },
    {
     "name": "stderr",
     "output_type": "stream",
     "text": [
      " _findfont_cached1346|DEBUG: findfont: score(<Font 'Carlito' (Carlito-Regular.ttf) normal normal 400 normal>) = 10.05 [font_manager.py04/22:10:06]\n"
     ]
    },
    {
     "name": "stdout",
     "output_type": "stream",
     "text": [
      " _findfont_cached1346|10: findfont: score(<Font 'Miriam Mono CLM' (MiriamMonoCLM-BoldOblique.ttf) oblique normal 700 normal>) = 11.335 [font_manager.py04/22:10:06]\n"
     ]
    },
    {
     "name": "stderr",
     "output_type": "stream",
     "text": [
      " _findfont_cached1346|DEBUG: findfont: score(<Font 'Miriam Mono CLM' (MiriamMonoCLM-BoldOblique.ttf) oblique normal 700 normal>) = 11.335 [font_manager.py04/22:10:06]\n"
     ]
    },
    {
     "name": "stdout",
     "output_type": "stream",
     "text": [
      " _findfont_cached1346|10: findfont: score(<Font 'Alef' (Alef-Bold.ttf) normal normal 700 normal>) = 10.335 [font_manager.py04/22:10:06]\n"
     ]
    },
    {
     "name": "stderr",
     "output_type": "stream",
     "text": [
      " _findfont_cached1346|DEBUG: findfont: score(<Font 'Alef' (Alef-Bold.ttf) normal normal 700 normal>) = 10.335 [font_manager.py04/22:10:06]\n"
     ]
    },
    {
     "name": "stdout",
     "output_type": "stream",
     "text": [
      " _findfont_cached1346|10: findfont: score(<Font 'Bodoni MT' (BOD_R.TTF) normal normal 400 normal>) = 10.05 [font_manager.py04/22:10:06]\n"
     ]
    },
    {
     "name": "stderr",
     "output_type": "stream",
     "text": [
      " _findfont_cached1346|DEBUG: findfont: score(<Font 'Bodoni MT' (BOD_R.TTF) normal normal 400 normal>) = 10.05 [font_manager.py04/22:10:06]\n"
     ]
    },
    {
     "name": "stdout",
     "output_type": "stream",
     "text": [
      " _findfont_cached1346|10: findfont: score(<Font 'Algerian' (ALGER.TTF) normal normal 400 normal>) = 10.05 [font_manager.py04/22:10:06]\n"
     ]
    },
    {
     "name": "stderr",
     "output_type": "stream",
     "text": [
      " _findfont_cached1346|DEBUG: findfont: score(<Font 'Algerian' (ALGER.TTF) normal normal 400 normal>) = 10.05 [font_manager.py04/22:10:06]\n"
     ]
    },
    {
     "name": "stdout",
     "output_type": "stream",
     "text": [
      " _findfont_cached1346|10: findfont: score(<Font 'Georgia' (georgiaz.ttf) italic normal 700 normal>) = 11.335 [font_manager.py04/22:10:06]\n"
     ]
    },
    {
     "name": "stderr",
     "output_type": "stream",
     "text": [
      " _findfont_cached1346|DEBUG: findfont: score(<Font 'Georgia' (georgiaz.ttf) italic normal 700 normal>) = 11.335 [font_manager.py04/22:10:06]\n"
     ]
    },
    {
     "name": "stdout",
     "output_type": "stream",
     "text": [
      " _findfont_cached1346|10: findfont: score(<Font 'Californian FB' (CALIFR.TTF) normal normal 400 normal>) = 10.05 [font_manager.py04/22:10:06]\n"
     ]
    },
    {
     "name": "stderr",
     "output_type": "stream",
     "text": [
      " _findfont_cached1346|DEBUG: findfont: score(<Font 'Californian FB' (CALIFR.TTF) normal normal 400 normal>) = 10.05 [font_manager.py04/22:10:06]\n"
     ]
    },
    {
     "name": "stdout",
     "output_type": "stream",
     "text": [
      " _findfont_cached1346|10: findfont: score(<Font 'Wingdings' (wingding.ttf) normal normal 400 normal>) = 10.05 [font_manager.py04/22:10:06]\n"
     ]
    },
    {
     "name": "stderr",
     "output_type": "stream",
     "text": [
      " _findfont_cached1346|DEBUG: findfont: score(<Font 'Wingdings' (wingding.ttf) normal normal 400 normal>) = 10.05 [font_manager.py04/22:10:06]\n"
     ]
    },
    {
     "name": "stdout",
     "output_type": "stream",
     "text": [
      " _findfont_cached1346|10: findfont: score(<Font 'Ebrima' (ebrimabd.ttf) normal normal 700 normal>) = 10.335 [font_manager.py04/22:10:06]\n"
     ]
    },
    {
     "name": "stderr",
     "output_type": "stream",
     "text": [
      " _findfont_cached1346|DEBUG: findfont: score(<Font 'Ebrima' (ebrimabd.ttf) normal normal 700 normal>) = 10.335 [font_manager.py04/22:10:06]\n"
     ]
    },
    {
     "name": "stdout",
     "output_type": "stream",
     "text": [
      " _findfont_cached1346|10: findfont: score(<Font 'Linux Libertine G' (LinLibertine_RZI_G.ttf) italic normal 600 normal>) = 11.24 [font_manager.py04/22:10:06]\n"
     ]
    },
    {
     "name": "stderr",
     "output_type": "stream",
     "text": [
      " _findfont_cached1346|DEBUG: findfont: score(<Font 'Linux Libertine G' (LinLibertine_RZI_G.ttf) italic normal 600 normal>) = 11.24 [font_manager.py04/22:10:06]\n"
     ]
    },
    {
     "name": "stdout",
     "output_type": "stream",
     "text": [
      " _findfont_cached1346|10: findfont: score(<Font 'Frank Ruhl Hofshi' (FrankRuhlHofshi-Regular.otf) normal normal 400 normal>) = 10.05 [font_manager.py04/22:10:06]\n"
     ]
    },
    {
     "name": "stderr",
     "output_type": "stream",
     "text": [
      " _findfont_cached1346|DEBUG: findfont: score(<Font 'Frank Ruhl Hofshi' (FrankRuhlHofshi-Regular.otf) normal normal 400 normal>) = 10.05 [font_manager.py04/22:10:06]\n"
     ]
    },
    {
     "name": "stdout",
     "output_type": "stream",
     "text": [
      " _findfont_cached1346|10: findfont: score(<Font 'Century Gothic' (GOTHICB.TTF) normal normal 700 normal>) = 10.335 [font_manager.py04/22:10:06]\n"
     ]
    },
    {
     "name": "stderr",
     "output_type": "stream",
     "text": [
      " _findfont_cached1346|DEBUG: findfont: score(<Font 'Century Gothic' (GOTHICB.TTF) normal normal 700 normal>) = 10.335 [font_manager.py04/22:10:06]\n"
     ]
    },
    {
     "name": "stdout",
     "output_type": "stream",
     "text": [
      " _findfont_cached1346|10: findfont: score(<Font 'Noto Serif Hebrew' (NotoSerifHebrew-Regular.ttf) normal normal 400 normal>) = 10.05 [font_manager.py04/22:10:06]\n"
     ]
    },
    {
     "name": "stderr",
     "output_type": "stream",
     "text": [
      " _findfont_cached1346|DEBUG: findfont: score(<Font 'Noto Serif Hebrew' (NotoSerifHebrew-Regular.ttf) normal normal 400 normal>) = 10.05 [font_manager.py04/22:10:06]\n"
     ]
    },
    {
     "name": "stdout",
     "output_type": "stream",
     "text": [
      " _findfont_cached1346|10: findfont: score(<Font 'Algerian' (ALGER.TTF) normal normal 400 normal>) = 10.05 [font_manager.py04/22:10:06]\n"
     ]
    },
    {
     "name": "stderr",
     "output_type": "stream",
     "text": [
      " _findfont_cached1346|DEBUG: findfont: score(<Font 'Algerian' (ALGER.TTF) normal normal 400 normal>) = 10.05 [font_manager.py04/22:10:06]\n"
     ]
    },
    {
     "name": "stdout",
     "output_type": "stream",
     "text": [
      " _findfont_cached1346|10: findfont: score(<Font 'Liberation Serif' (LiberationSerif-Italic.ttf) italic normal 400 normal>) = 11.05 [font_manager.py04/22:10:06]\n"
     ]
    },
    {
     "name": "stderr",
     "output_type": "stream",
     "text": [
      " _findfont_cached1346|DEBUG: findfont: score(<Font 'Liberation Serif' (LiberationSerif-Italic.ttf) italic normal 400 normal>) = 11.05 [font_manager.py04/22:10:06]\n"
     ]
    },
    {
     "name": "stdout",
     "output_type": "stream",
     "text": [
      " _findfont_cached1346|10: findfont: score(<Font 'Gill Sans MT Ext Condensed Bold' (GLSNECB.TTF) normal normal 400 condensed>) = 10.25 [font_manager.py04/22:10:06]\n"
     ]
    },
    {
     "name": "stderr",
     "output_type": "stream",
     "text": [
      " _findfont_cached1346|DEBUG: findfont: score(<Font 'Gill Sans MT Ext Condensed Bold' (GLSNECB.TTF) normal normal 400 condensed>) = 10.25 [font_manager.py04/22:10:06]\n"
     ]
    },
    {
     "name": "stdout",
     "output_type": "stream",
     "text": [
      " _findfont_cached1346|10: findfont: score(<Font 'Elephant' (ELEPHNT.TTF) normal normal 400 normal>) = 10.05 [font_manager.py04/22:10:06]\n"
     ]
    },
    {
     "name": "stderr",
     "output_type": "stream",
     "text": [
      " _findfont_cached1346|DEBUG: findfont: score(<Font 'Elephant' (ELEPHNT.TTF) normal normal 400 normal>) = 10.05 [font_manager.py04/22:10:06]\n"
     ]
    },
    {
     "name": "stdout",
     "output_type": "stream",
     "text": [
      " _findfont_cached1346|10: findfont: score(<Font 'Arial' (ARIALNB.TTF) normal normal 700 condensed>) = 6.8986363636363635 [font_manager.py04/22:10:06]\n"
     ]
    },
    {
     "name": "stderr",
     "output_type": "stream",
     "text": [
      " _findfont_cached1346|DEBUG: findfont: score(<Font 'Arial' (ARIALNB.TTF) normal normal 700 condensed>) = 6.8986363636363635 [font_manager.py04/22:10:06]\n"
     ]
    },
    {
     "name": "stdout",
     "output_type": "stream",
     "text": [
      " _findfont_cached1346|10: findfont: score(<Font 'Noto Sans Arabic' (NotoSansArabic-Regular.ttf) normal normal 400 normal>) = 10.05 [font_manager.py04/22:10:06]\n"
     ]
    },
    {
     "name": "stderr",
     "output_type": "stream",
     "text": [
      " _findfont_cached1346|DEBUG: findfont: score(<Font 'Noto Sans Arabic' (NotoSansArabic-Regular.ttf) normal normal 400 normal>) = 10.05 [font_manager.py04/22:10:06]\n"
     ]
    },
    {
     "name": "stdout",
     "output_type": "stream",
     "text": [
      " _findfont_cached1346|10: findfont: score(<Font 'Noto Naskh Arabic UI' (NotoNaskhArabicUI-Regular.ttf) normal normal 400 normal>) = 10.05 [font_manager.py04/22:10:06]\n"
     ]
    },
    {
     "name": "stderr",
     "output_type": "stream",
     "text": [
      " _findfont_cached1346|DEBUG: findfont: score(<Font 'Noto Naskh Arabic UI' (NotoNaskhArabicUI-Regular.ttf) normal normal 400 normal>) = 10.05 [font_manager.py04/22:10:06]\n"
     ]
    },
    {
     "name": "stdout",
     "output_type": "stream",
     "text": [
      " _findfont_cached1346|10: findfont: score(<Font 'Caladea' (Caladea-Italic.ttf) italic normal 400 normal>) = 11.05 [font_manager.py04/22:10:06]\n"
     ]
    },
    {
     "name": "stderr",
     "output_type": "stream",
     "text": [
      " _findfont_cached1346|DEBUG: findfont: score(<Font 'Caladea' (Caladea-Italic.ttf) italic normal 400 normal>) = 11.05 [font_manager.py04/22:10:06]\n"
     ]
    },
    {
     "name": "stdout",
     "output_type": "stream",
     "text": [
      " _findfont_cached1346|10: findfont: score(<Font 'Georgia' (georgia.ttf) normal normal 400 normal>) = 10.05 [font_manager.py04/22:10:06]\n"
     ]
    },
    {
     "name": "stderr",
     "output_type": "stream",
     "text": [
      " _findfont_cached1346|DEBUG: findfont: score(<Font 'Georgia' (georgia.ttf) normal normal 400 normal>) = 10.05 [font_manager.py04/22:10:06]\n"
     ]
    },
    {
     "name": "stdout",
     "output_type": "stream",
     "text": [
      " _findfont_cached1346|10: findfont: score(<Font 'Bauhaus 93' (BAUHS93.TTF) normal normal 400 normal>) = 10.05 [font_manager.py04/22:10:06]\n"
     ]
    },
    {
     "name": "stderr",
     "output_type": "stream",
     "text": [
      " _findfont_cached1346|DEBUG: findfont: score(<Font 'Bauhaus 93' (BAUHS93.TTF) normal normal 400 normal>) = 10.05 [font_manager.py04/22:10:06]\n"
     ]
    },
    {
     "name": "stdout",
     "output_type": "stream",
     "text": [
      " _findfont_cached1346|10: findfont: score(<Font 'Californian FB' (CALIFI.TTF) italic normal 400 normal>) = 11.05 [font_manager.py04/22:10:06]\n"
     ]
    },
    {
     "name": "stderr",
     "output_type": "stream",
     "text": [
      " _findfont_cached1346|DEBUG: findfont: score(<Font 'Californian FB' (CALIFI.TTF) italic normal 400 normal>) = 11.05 [font_manager.py04/22:10:06]\n"
     ]
    },
    {
     "name": "stdout",
     "output_type": "stream",
     "text": [
      " _findfont_cached1346|10: findfont: score(<Font 'Century Gothic' (GOTHICBI.TTF) italic normal 700 normal>) = 11.335 [font_manager.py04/22:10:06]\n"
     ]
    },
    {
     "name": "stderr",
     "output_type": "stream",
     "text": [
      " _findfont_cached1346|DEBUG: findfont: score(<Font 'Century Gothic' (GOTHICBI.TTF) italic normal 700 normal>) = 11.335 [font_manager.py04/22:10:06]\n"
     ]
    },
    {
     "name": "stdout",
     "output_type": "stream",
     "text": [
      " _findfont_cached1346|10: findfont: score(<Font 'Segoe Print' (segoeprb.ttf) normal normal 700 normal>) = 10.335 [font_manager.py04/22:10:06]\n"
     ]
    },
    {
     "name": "stderr",
     "output_type": "stream",
     "text": [
      " _findfont_cached1346|DEBUG: findfont: score(<Font 'Segoe Print' (segoeprb.ttf) normal normal 700 normal>) = 10.335 [font_manager.py04/22:10:06]\n"
     ]
    },
    {
     "name": "stdout",
     "output_type": "stream",
     "text": [
      " _findfont_cached1346|10: findfont: score(<Font 'Lucida Bright' (LBRITE.TTF) normal normal 400 normal>) = 10.05 [font_manager.py04/22:10:06]\n"
     ]
    },
    {
     "name": "stderr",
     "output_type": "stream",
     "text": [
      " _findfont_cached1346|DEBUG: findfont: score(<Font 'Lucida Bright' (LBRITE.TTF) normal normal 400 normal>) = 10.05 [font_manager.py04/22:10:06]\n"
     ]
    },
    {
     "name": "stdout",
     "output_type": "stream",
     "text": [
      " _findfont_cached1346|10: findfont: score(<Font 'DejaVu Sans' (DejaVuSansCondensed-Bold.ttf) normal normal 700 condensed>) = 0.5349999999999999 [font_manager.py04/22:10:06]\n"
     ]
    },
    {
     "name": "stderr",
     "output_type": "stream",
     "text": [
      " _findfont_cached1346|DEBUG: findfont: score(<Font 'DejaVu Sans' (DejaVuSansCondensed-Bold.ttf) normal normal 700 condensed>) = 0.5349999999999999 [font_manager.py04/22:10:06]\n"
     ]
    },
    {
     "name": "stdout",
     "output_type": "stream",
     "text": [
      " _findfont_cached1346|10: findfont: score(<Font 'Trebuchet MS' (trebucbi.ttf) italic normal 700 normal>) = 11.335 [font_manager.py04/22:10:06]\n"
     ]
    },
    {
     "name": "stderr",
     "output_type": "stream",
     "text": [
      " _findfont_cached1346|DEBUG: findfont: score(<Font 'Trebuchet MS' (trebucbi.ttf) italic normal 700 normal>) = 11.335 [font_manager.py04/22:10:06]\n"
     ]
    },
    {
     "name": "stdout",
     "output_type": "stream",
     "text": [
      " _findfont_cached1346|10: findfont: score(<Font 'Gadugi' (gadugib.ttf) normal normal 700 normal>) = 10.335 [font_manager.py04/22:10:06]\n"
     ]
    },
    {
     "name": "stderr",
     "output_type": "stream",
     "text": [
      " _findfont_cached1346|DEBUG: findfont: score(<Font 'Gadugi' (gadugib.ttf) normal normal 700 normal>) = 10.335 [font_manager.py04/22:10:06]\n"
     ]
    },
    {
     "name": "stdout",
     "output_type": "stream",
     "text": [
      " _findfont_cached1346|10: findfont: score(<Font 'EmojiOne Color' (EmojiOneColor-SVGinOT.ttf) normal normal 400 normal>) = 10.05 [font_manager.py04/22:10:06]\n"
     ]
    },
    {
     "name": "stderr",
     "output_type": "stream",
     "text": [
      " _findfont_cached1346|DEBUG: findfont: score(<Font 'EmojiOne Color' (EmojiOneColor-SVGinOT.ttf) normal normal 400 normal>) = 10.05 [font_manager.py04/22:10:06]\n"
     ]
    },
    {
     "name": "stdout",
     "output_type": "stream",
     "text": [
      " _findfont_cached1346|10: findfont: score(<Font 'Impact' (impact.ttf) normal normal 400 normal>) = 10.05 [font_manager.py04/22:10:06]\n"
     ]
    },
    {
     "name": "stderr",
     "output_type": "stream",
     "text": [
      " _findfont_cached1346|DEBUG: findfont: score(<Font 'Impact' (impact.ttf) normal normal 400 normal>) = 10.05 [font_manager.py04/22:10:06]\n"
     ]
    },
    {
     "name": "stdout",
     "output_type": "stream",
     "text": [
      " _findfont_cached1346|10: findfont: score(<Font 'Amiri' (Amiri-Regular.ttf) normal normal 400 normal>) = 10.05 [font_manager.py04/22:10:06]\n"
     ]
    },
    {
     "name": "stderr",
     "output_type": "stream",
     "text": [
      " _findfont_cached1346|DEBUG: findfont: score(<Font 'Amiri' (Amiri-Regular.ttf) normal normal 400 normal>) = 10.05 [font_manager.py04/22:10:06]\n"
     ]
    },
    {
     "name": "stdout",
     "output_type": "stream",
     "text": [
      " _findfont_cached1346|10: findfont: score(<Font 'Noto Serif' (NotoSerif-BoldItalic.ttf) italic normal 700 normal>) = 11.335 [font_manager.py04/22:10:06]\n"
     ]
    },
    {
     "name": "stderr",
     "output_type": "stream",
     "text": [
      " _findfont_cached1346|DEBUG: findfont: score(<Font 'Noto Serif' (NotoSerif-BoldItalic.ttf) italic normal 700 normal>) = 11.335 [font_manager.py04/22:10:06]\n"
     ]
    },
    {
     "name": "stdout",
     "output_type": "stream",
     "text": [
      " _findfont_cached1346|10: findfont: score(<Font 'UNAVAILABLE' (AvenirLT-Light.ttf) normal normal 300 normal>) = 10.145 [font_manager.py04/22:10:06]\n"
     ]
    },
    {
     "name": "stderr",
     "output_type": "stream",
     "text": [
      " _findfont_cached1346|DEBUG: findfont: score(<Font 'UNAVAILABLE' (AvenirLT-Light.ttf) normal normal 300 normal>) = 10.145 [font_manager.py04/22:10:06]\n"
     ]
    },
    {
     "name": "stdout",
     "output_type": "stream",
     "text": [
      " _findfont_cached1346|10: findfont: score(<Font 'DejaVu Sans' (DejaVuSansCondensed-BoldOblique.ttf) oblique normal 700 condensed>) = 1.535 [font_manager.py04/22:10:06]\n"
     ]
    },
    {
     "name": "stderr",
     "output_type": "stream",
     "text": [
      " _findfont_cached1346|DEBUG: findfont: score(<Font 'DejaVu Sans' (DejaVuSansCondensed-BoldOblique.ttf) oblique normal 700 condensed>) = 1.535 [font_manager.py04/22:10:06]\n"
     ]
    },
    {
     "name": "stdout",
     "output_type": "stream",
     "text": [
      " _findfont_cached1346|10: findfont: score(<Font 'HoloLens MDL2 Assets' (holomdl2.ttf) normal normal 400 normal>) = 10.05 [font_manager.py04/22:10:06]\n"
     ]
    },
    {
     "name": "stderr",
     "output_type": "stream",
     "text": [
      " _findfont_cached1346|DEBUG: findfont: score(<Font 'HoloLens MDL2 Assets' (holomdl2.ttf) normal normal 400 normal>) = 10.05 [font_manager.py04/22:10:06]\n"
     ]
    },
    {
     "name": "stdout",
     "output_type": "stream",
     "text": [
      " _findfont_cached1346|10: findfont: score(<Font 'Palatino Linotype' (palab.ttf) normal normal 700 normal>) = 10.335 [font_manager.py04/22:10:06]\n"
     ]
    },
    {
     "name": "stderr",
     "output_type": "stream",
     "text": [
      " _findfont_cached1346|DEBUG: findfont: score(<Font 'Palatino Linotype' (palab.ttf) normal normal 700 normal>) = 10.335 [font_manager.py04/22:10:06]\n"
     ]
    },
    {
     "name": "stdout",
     "output_type": "stream",
     "text": [
      " _findfont_cached1346|10: findfont: score(<Font 'Source Serif Pro' (SourceSerifPro-SemiboldIt.ttf) italic normal 600 normal>) = 11.24 [font_manager.py04/22:10:06]\n"
     ]
    },
    {
     "name": "stderr",
     "output_type": "stream",
     "text": [
      " _findfont_cached1346|DEBUG: findfont: score(<Font 'Source Serif Pro' (SourceSerifPro-SemiboldIt.ttf) italic normal 600 normal>) = 11.24 [font_manager.py04/22:10:06]\n"
     ]
    },
    {
     "name": "stdout",
     "output_type": "stream",
     "text": [
      " _findfont_cached1346|10: findfont: score(<Font 'Felix Titling' (FELIXTI.TTF) normal normal 400 normal>) = 10.05 [font_manager.py04/22:10:06]\n"
     ]
    },
    {
     "name": "stderr",
     "output_type": "stream",
     "text": [
      " _findfont_cached1346|DEBUG: findfont: score(<Font 'Felix Titling' (FELIXTI.TTF) normal normal 400 normal>) = 10.05 [font_manager.py04/22:10:06]\n"
     ]
    },
    {
     "name": "stdout",
     "output_type": "stream",
     "text": [
      " _findfont_cached1346|10: findfont: score(<Font 'MV Boli' (mvboli.ttf) normal normal 400 normal>) = 10.05 [font_manager.py04/22:10:06]\n"
     ]
    },
    {
     "name": "stderr",
     "output_type": "stream",
     "text": [
      " _findfont_cached1346|DEBUG: findfont: score(<Font 'MV Boli' (mvboli.ttf) normal normal 400 normal>) = 10.05 [font_manager.py04/22:10:06]\n"
     ]
    },
    {
     "name": "stdout",
     "output_type": "stream",
     "text": [
      " _findfont_cached1346|10: findfont: score(<Font 'Miriam CLM' (MiriamCLM-Book.ttf) normal normal 400 normal>) = 10.05 [font_manager.py04/22:10:06]\n"
     ]
    },
    {
     "name": "stderr",
     "output_type": "stream",
     "text": [
      " _findfont_cached1346|DEBUG: findfont: score(<Font 'Miriam CLM' (MiriamCLM-Book.ttf) normal normal 400 normal>) = 10.05 [font_manager.py04/22:10:06]\n"
     ]
    },
    {
     "name": "stdout",
     "output_type": "stream",
     "text": [
      " _findfont_cached1346|10: findfont: score(<Font 'David Libre' (DavidLibre-Bold.ttf) normal normal 700 normal>) = 10.335 [font_manager.py04/22:10:06]\n"
     ]
    },
    {
     "name": "stderr",
     "output_type": "stream",
     "text": [
      " _findfont_cached1346|DEBUG: findfont: score(<Font 'David Libre' (DavidLibre-Bold.ttf) normal normal 700 normal>) = 10.335 [font_manager.py04/22:10:06]\n"
     ]
    },
    {
     "name": "stdout",
     "output_type": "stream",
     "text": [
      " _findfont_cached1346|10: findfont: score(<Font 'Verdana' (verdanaz.ttf) italic normal 700 normal>) = 4.971363636363637 [font_manager.py04/22:10:06]\n"
     ]
    },
    {
     "name": "stderr",
     "output_type": "stream",
     "text": [
      " _findfont_cached1346|DEBUG: findfont: score(<Font 'Verdana' (verdanaz.ttf) italic normal 700 normal>) = 4.971363636363637 [font_manager.py04/22:10:06]\n"
     ]
    },
    {
     "name": "stdout",
     "output_type": "stream",
     "text": [
      " _findfont_cached1346|10: findfont: score(<Font 'Niagara Solid' (NIAGSOL.TTF) normal normal 400 normal>) = 10.05 [font_manager.py04/22:10:06]\n"
     ]
    },
    {
     "name": "stderr",
     "output_type": "stream",
     "text": [
      " _findfont_cached1346|DEBUG: findfont: score(<Font 'Niagara Solid' (NIAGSOL.TTF) normal normal 400 normal>) = 10.05 [font_manager.py04/22:10:06]\n"
     ]
    },
    {
     "name": "stdout",
     "output_type": "stream",
     "text": [
      " _findfont_cached1346|10: findfont: score(<Font 'Rage Italic' (RAGE.TTF) italic normal 400 normal>) = 11.05 [font_manager.py04/22:10:06]\n"
     ]
    },
    {
     "name": "stderr",
     "output_type": "stream",
     "text": [
      " _findfont_cached1346|DEBUG: findfont: score(<Font 'Rage Italic' (RAGE.TTF) italic normal 400 normal>) = 11.05 [font_manager.py04/22:10:06]\n"
     ]
    },
    {
     "name": "stdout",
     "output_type": "stream",
     "text": [
      " _findfont_cached1346|10: findfont: score(<Font 'Noto Serif' (NotoSerif-LightItalic.ttf) italic normal 300 normal>) = 11.145 [font_manager.py04/22:10:06]\n"
     ]
    },
    {
     "name": "stderr",
     "output_type": "stream",
     "text": [
      " _findfont_cached1346|DEBUG: findfont: score(<Font 'Noto Serif' (NotoSerif-LightItalic.ttf) italic normal 300 normal>) = 11.145 [font_manager.py04/22:10:06]\n"
     ]
    },
    {
     "name": "stdout",
     "output_type": "stream",
     "text": [
      " _findfont_cached1346|10: findfont: score(<Font 'Dubai' (DUBAI-MEDIUM.TTF) normal normal 500 normal>) = 10.145 [font_manager.py04/22:10:06]\n"
     ]
    },
    {
     "name": "stderr",
     "output_type": "stream",
     "text": [
      " _findfont_cached1346|DEBUG: findfont: score(<Font 'Dubai' (DUBAI-MEDIUM.TTF) normal normal 500 normal>) = 10.145 [font_manager.py04/22:10:06]\n"
     ]
    },
    {
     "name": "stdout",
     "output_type": "stream",
     "text": [
      " _findfont_cached1346|10: findfont: score(<Font 'Liberation Mono' (LiberationMono-Regular.ttf) normal normal 400 normal>) = 10.05 [font_manager.py04/22:10:06]\n"
     ]
    },
    {
     "name": "stderr",
     "output_type": "stream",
     "text": [
      " _findfont_cached1346|DEBUG: findfont: score(<Font 'Liberation Mono' (LiberationMono-Regular.ttf) normal normal 400 normal>) = 10.05 [font_manager.py04/22:10:06]\n"
     ]
    },
    {
     "name": "stdout",
     "output_type": "stream",
     "text": [
      " _findfont_cached1346|10: findfont: score(<Font 'Century Gothic' (GOTHICBI.TTF) italic normal 700 normal>) = 11.335 [font_manager.py04/22:10:06]\n"
     ]
    },
    {
     "name": "stderr",
     "output_type": "stream",
     "text": [
      " _findfont_cached1346|DEBUG: findfont: score(<Font 'Century Gothic' (GOTHICBI.TTF) italic normal 700 normal>) = 11.335 [font_manager.py04/22:10:06]\n"
     ]
    },
    {
     "name": "stdout",
     "output_type": "stream",
     "text": [
      " _findfont_cached1346|10: findfont: score(<Font 'Noto Sans Georgian' (NotoSansGeorgian-Regular.ttf) normal normal 400 normal>) = 10.05 [font_manager.py04/22:10:06]\n"
     ]
    },
    {
     "name": "stderr",
     "output_type": "stream",
     "text": [
      " _findfont_cached1346|DEBUG: findfont: score(<Font 'Noto Sans Georgian' (NotoSansGeorgian-Regular.ttf) normal normal 400 normal>) = 10.05 [font_manager.py04/22:10:06]\n"
     ]
    },
    {
     "name": "stdout",
     "output_type": "stream",
     "text": [
      " _findfont_cached1346|10: findfont: score(<Font 'Maiandra GD' (MAIAN.TTF) normal normal 400 normal>) = 10.05 [font_manager.py04/22:10:06]\n"
     ]
    },
    {
     "name": "stderr",
     "output_type": "stream",
     "text": [
      " _findfont_cached1346|DEBUG: findfont: score(<Font 'Maiandra GD' (MAIAN.TTF) normal normal 400 normal>) = 10.05 [font_manager.py04/22:10:06]\n"
     ]
    },
    {
     "name": "stdout",
     "output_type": "stream",
     "text": [
      " _findfont_cached1346|10: findfont: score(<Font 'Source Code Pro' (SourceCodePro-BlackIt.ttf) italic normal 900 normal>) = 11.525 [font_manager.py04/22:10:06]\n"
     ]
    },
    {
     "name": "stderr",
     "output_type": "stream",
     "text": [
      " _findfont_cached1346|DEBUG: findfont: score(<Font 'Source Code Pro' (SourceCodePro-BlackIt.ttf) italic normal 900 normal>) = 11.525 [font_manager.py04/22:10:06]\n"
     ]
    },
    {
     "name": "stdout",
     "output_type": "stream",
     "text": [
      " _findfont_cached1346|10: findfont: score(<Font 'DejaVu Sans' (DejaVuSans-ExtraLight.ttf) normal normal 200 normal>) = 0.24 [font_manager.py04/22:10:06]\n"
     ]
    },
    {
     "name": "stderr",
     "output_type": "stream",
     "text": [
      " _findfont_cached1346|DEBUG: findfont: score(<Font 'DejaVu Sans' (DejaVuSans-ExtraLight.ttf) normal normal 200 normal>) = 0.24 [font_manager.py04/22:10:06]\n"
     ]
    },
    {
     "name": "stdout",
     "output_type": "stream",
     "text": [
      " _findfont_cached1346|10: findfont: score(<Font 'Noto Sans' (NotoSans-CondensedItalic.ttf) italic normal 400 condensed>) = 11.25 [font_manager.py04/22:10:06]\n"
     ]
    },
    {
     "name": "stderr",
     "output_type": "stream",
     "text": [
      " _findfont_cached1346|DEBUG: findfont: score(<Font 'Noto Sans' (NotoSans-CondensedItalic.ttf) italic normal 400 condensed>) = 11.25 [font_manager.py04/22:10:06]\n"
     ]
    },
    {
     "name": "stdout",
     "output_type": "stream",
     "text": [
      " _findfont_cached1346|10: findfont: score(<Font 'Trebuchet MS' (trebucbd.ttf) normal normal 700 normal>) = 10.335 [font_manager.py04/22:10:06]\n"
     ]
    },
    {
     "name": "stderr",
     "output_type": "stream",
     "text": [
      " _findfont_cached1346|DEBUG: findfont: score(<Font 'Trebuchet MS' (trebucbd.ttf) normal normal 700 normal>) = 10.335 [font_manager.py04/22:10:06]\n"
     ]
    },
    {
     "name": "stdout",
     "output_type": "stream",
     "text": [
      " _findfont_cached1346|10: findfont: score(<Font 'Century Schoolbook' (SCHLBKI.TTF) italic normal 400 normal>) = 11.05 [font_manager.py04/22:10:06]\n"
     ]
    },
    {
     "name": "stderr",
     "output_type": "stream",
     "text": [
      " _findfont_cached1346|DEBUG: findfont: score(<Font 'Century Schoolbook' (SCHLBKI.TTF) italic normal 400 normal>) = 11.05 [font_manager.py04/22:10:06]\n"
     ]
    },
    {
     "name": "stdout",
     "output_type": "stream",
     "text": [
      " _findfont_cached1346|10: findfont: score(<Font 'Lucida Bright' (LBRITEDI.TTF) italic normal 600 normal>) = 11.24 [font_manager.py04/22:10:06]\n"
     ]
    },
    {
     "name": "stderr",
     "output_type": "stream",
     "text": [
      " _findfont_cached1346|DEBUG: findfont: score(<Font 'Lucida Bright' (LBRITEDI.TTF) italic normal 600 normal>) = 11.24 [font_manager.py04/22:10:06]\n"
     ]
    },
    {
     "name": "stdout",
     "output_type": "stream",
     "text": [
      " _findfont_cached1346|10: findfont: score(<Font 'Adobe Devanagari' (AdobeDevanagari-Bold.otf) normal normal 700 normal>) = 10.335 [font_manager.py04/22:10:06]\n"
     ]
    },
    {
     "name": "stderr",
     "output_type": "stream",
     "text": [
      " _findfont_cached1346|DEBUG: findfont: score(<Font 'Adobe Devanagari' (AdobeDevanagari-Bold.otf) normal normal 700 normal>) = 10.335 [font_manager.py04/22:10:06]\n"
     ]
    },
    {
     "name": "stdout",
     "output_type": "stream",
     "text": [
      " _findfont_cached1346|10: findfont: score(<Font 'Linux Biolinum G' (LinBiolinum_RI_G.ttf) italic normal 400 normal>) = 11.05 [font_manager.py04/22:10:06]\n"
     ]
    },
    {
     "name": "stderr",
     "output_type": "stream",
     "text": [
      " _findfont_cached1346|DEBUG: findfont: score(<Font 'Linux Biolinum G' (LinBiolinum_RI_G.ttf) italic normal 400 normal>) = 11.05 [font_manager.py04/22:10:06]\n"
     ]
    },
    {
     "name": "stdout",
     "output_type": "stream",
     "text": [
      " _findfont_cached1346|10: findfont: score(<Font 'Lucida Sans Typewriter' (LTYPEB.TTF) normal normal 600 normal>) = 10.24 [font_manager.py04/22:10:06]\n"
     ]
    },
    {
     "name": "stderr",
     "output_type": "stream",
     "text": [
      " _findfont_cached1346|DEBUG: findfont: score(<Font 'Lucida Sans Typewriter' (LTYPEB.TTF) normal normal 600 normal>) = 10.24 [font_manager.py04/22:10:06]\n"
     ]
    },
    {
     "name": "stdout",
     "output_type": "stream",
     "text": [
      " _findfont_cached1346|10: findfont: score(<Font 'Leelawadee UI' (LeelawUI.ttf) normal normal 400 normal>) = 10.05 [font_manager.py04/22:10:06]\n"
     ]
    },
    {
     "name": "stderr",
     "output_type": "stream",
     "text": [
      " _findfont_cached1346|DEBUG: findfont: score(<Font 'Leelawadee UI' (LeelawUI.ttf) normal normal 400 normal>) = 10.05 [font_manager.py04/22:10:06]\n"
     ]
    },
    {
     "name": "stdout",
     "output_type": "stream",
     "text": [
      " _findfont_cached1346|10: findfont: score(<Font 'Snap ITC' (SNAP____.TTF) normal normal 400 normal>) = 10.05 [font_manager.py04/22:10:06]\n"
     ]
    },
    {
     "name": "stderr",
     "output_type": "stream",
     "text": [
      " _findfont_cached1346|DEBUG: findfont: score(<Font 'Snap ITC' (SNAP____.TTF) normal normal 400 normal>) = 10.05 [font_manager.py04/22:10:06]\n"
     ]
    },
    {
     "name": "stdout",
     "output_type": "stream",
     "text": [
      " _findfont_cached1346|10: findfont: score(<Font 'Source Sans Pro' (SourceSansPro-Regular.ttf) normal normal 400 normal>) = 10.05 [font_manager.py04/22:10:06]\n"
     ]
    },
    {
     "name": "stderr",
     "output_type": "stream",
     "text": [
      " _findfont_cached1346|DEBUG: findfont: score(<Font 'Source Sans Pro' (SourceSansPro-Regular.ttf) normal normal 400 normal>) = 10.05 [font_manager.py04/22:10:06]\n"
     ]
    },
    {
     "name": "stdout",
     "output_type": "stream",
     "text": [
      " _findfont_cached1346|10: findfont: score(<Font 'Liberation Sans' (LiberationSans-Bold.ttf) normal normal 700 normal>) = 10.335 [font_manager.py04/22:10:06]\n"
     ]
    },
    {
     "name": "stderr",
     "output_type": "stream",
     "text": [
      " _findfont_cached1346|DEBUG: findfont: score(<Font 'Liberation Sans' (LiberationSans-Bold.ttf) normal normal 700 normal>) = 10.335 [font_manager.py04/22:10:06]\n"
     ]
    },
    {
     "name": "stdout",
     "output_type": "stream",
     "text": [
      " _findfont_cached1346|10: findfont: score(<Font 'Nirmala UI' (NirmalaS.ttf) normal normal 350 normal>) = 10.0975 [font_manager.py04/22:10:06]\n"
     ]
    },
    {
     "name": "stderr",
     "output_type": "stream",
     "text": [
      " _findfont_cached1346|DEBUG: findfont: score(<Font 'Nirmala UI' (NirmalaS.ttf) normal normal 350 normal>) = 10.0975 [font_manager.py04/22:10:06]\n"
     ]
    },
    {
     "name": "stdout",
     "output_type": "stream",
     "text": [
      " _findfont_cached1346|10: findfont: score(<Font 'Source Sans Pro' (SourceSansPro-It.ttf) italic normal 400 normal>) = 11.05 [font_manager.py04/22:10:06]\n"
     ]
    },
    {
     "name": "stderr",
     "output_type": "stream",
     "text": [
      " _findfont_cached1346|DEBUG: findfont: score(<Font 'Source Sans Pro' (SourceSansPro-It.ttf) italic normal 400 normal>) = 11.05 [font_manager.py04/22:10:06]\n"
     ]
    },
    {
     "name": "stdout",
     "output_type": "stream",
     "text": [
      " _findfont_cached1346|10: findfont: score(<Font 'Dubai' (DUBAI-MEDIUM.TTF) normal normal 500 normal>) = 10.145 [font_manager.py04/22:10:06]\n"
     ]
    },
    {
     "name": "stderr",
     "output_type": "stream",
     "text": [
      " _findfont_cached1346|DEBUG: findfont: score(<Font 'Dubai' (DUBAI-MEDIUM.TTF) normal normal 500 normal>) = 10.145 [font_manager.py04/22:10:06]\n"
     ]
    },
    {
     "name": "stdout",
     "output_type": "stream",
     "text": [
      " _findfont_cached1346|10: findfont: score(<Font 'Linux Libertine G' (LinLibertine_RBI_G.ttf) italic normal 700 normal>) = 11.335 [font_manager.py04/22:10:06]\n"
     ]
    },
    {
     "name": "stderr",
     "output_type": "stream",
     "text": [
      " _findfont_cached1346|DEBUG: findfont: score(<Font 'Linux Libertine G' (LinLibertine_RBI_G.ttf) italic normal 700 normal>) = 11.335 [font_manager.py04/22:10:06]\n"
     ]
    },
    {
     "name": "stdout",
     "output_type": "stream",
     "text": [
      " _findfont_cached1346|10: findfont: score(<Font 'Perpetua' (PERB____.TTF) normal normal 700 normal>) = 10.335 [font_manager.py04/22:10:06]\n"
     ]
    },
    {
     "name": "stderr",
     "output_type": "stream",
     "text": [
      " _findfont_cached1346|DEBUG: findfont: score(<Font 'Perpetua' (PERB____.TTF) normal normal 700 normal>) = 10.335 [font_manager.py04/22:10:06]\n"
     ]
    },
    {
     "name": "stdout",
     "output_type": "stream",
     "text": [
      " _findfont_cached1346|10: findfont: score(<Font 'Calibri' (calibrii.ttf) italic normal 400 normal>) = 11.05 [font_manager.py04/22:10:06]\n"
     ]
    },
    {
     "name": "stderr",
     "output_type": "stream",
     "text": [
      " _findfont_cached1346|DEBUG: findfont: score(<Font 'Calibri' (calibrii.ttf) italic normal 400 normal>) = 11.05 [font_manager.py04/22:10:06]\n"
     ]
    },
    {
     "name": "stdout",
     "output_type": "stream",
     "text": [
      " _findfont_cached1346|10: findfont: score(<Font 'Gentium Book Basic' (GenBkBasI.ttf) italic normal 400 normal>) = 11.05 [font_manager.py04/22:10:06]\n"
     ]
    },
    {
     "name": "stderr",
     "output_type": "stream",
     "text": [
      " _findfont_cached1346|DEBUG: findfont: score(<Font 'Gentium Book Basic' (GenBkBasI.ttf) italic normal 400 normal>) = 11.05 [font_manager.py04/22:10:06]\n"
     ]
    },
    {
     "name": "stdout",
     "output_type": "stream",
     "text": [
      " _findfont_cached1346|10: findfont: score(<Font 'Sitka Small' (SitkaB.ttc) normal normal 700 normal>) = 10.335 [font_manager.py04/22:10:06]\n"
     ]
    },
    {
     "name": "stderr",
     "output_type": "stream",
     "text": [
      " _findfont_cached1346|DEBUG: findfont: score(<Font 'Sitka Small' (SitkaB.ttc) normal normal 700 normal>) = 10.335 [font_manager.py04/22:10:06]\n"
     ]
    },
    {
     "name": "stdout",
     "output_type": "stream",
     "text": [
      " _findfont_cached1346|10: findfont: score(<Font 'Georgia' (georgia.ttf) normal normal 400 normal>) = 10.05 [font_manager.py04/22:10:06]\n"
     ]
    },
    {
     "name": "stderr",
     "output_type": "stream",
     "text": [
      " _findfont_cached1346|DEBUG: findfont: score(<Font 'Georgia' (georgia.ttf) normal normal 400 normal>) = 10.05 [font_manager.py04/22:10:06]\n"
     ]
    },
    {
     "name": "stdout",
     "output_type": "stream",
     "text": [
      " _findfont_cached1346|10: findfont: score(<Font 'Informal Roman' (INFROMAN.TTF) normal normal 400 normal>) = 10.05 [font_manager.py04/22:10:06]\n"
     ]
    },
    {
     "name": "stderr",
     "output_type": "stream",
     "text": [
      " _findfont_cached1346|DEBUG: findfont: score(<Font 'Informal Roman' (INFROMAN.TTF) normal normal 400 normal>) = 10.05 [font_manager.py04/22:10:06]\n"
     ]
    },
    {
     "name": "stdout",
     "output_type": "stream",
     "text": [
      " _findfont_cached1346|10: findfont: score(<Font 'Berlin Sans FB' (BRLNSR.TTF) normal normal 400 normal>) = 10.05 [font_manager.py04/22:10:06]\n"
     ]
    },
    {
     "name": "stderr",
     "output_type": "stream",
     "text": [
      " _findfont_cached1346|DEBUG: findfont: score(<Font 'Berlin Sans FB' (BRLNSR.TTF) normal normal 400 normal>) = 10.05 [font_manager.py04/22:10:06]\n"
     ]
    },
    {
     "name": "stdout",
     "output_type": "stream",
     "text": [
      " _findfont_cached1346|10: findfont: score(<Font 'Californian FB' (CALIFB.TTF) normal normal 700 normal>) = 10.335 [font_manager.py04/22:10:06]\n"
     ]
    },
    {
     "name": "stderr",
     "output_type": "stream",
     "text": [
      " _findfont_cached1346|DEBUG: findfont: score(<Font 'Californian FB' (CALIFB.TTF) normal normal 700 normal>) = 10.335 [font_manager.py04/22:10:06]\n"
     ]
    },
    {
     "name": "stdout",
     "output_type": "stream",
     "text": [
      " _findfont_cached1346|10: findfont: score(<Font 'Gentium Basic' (GenBasI.ttf) italic normal 400 normal>) = 11.05 [font_manager.py04/22:10:06]\n"
     ]
    },
    {
     "name": "stderr",
     "output_type": "stream",
     "text": [
      " _findfont_cached1346|DEBUG: findfont: score(<Font 'Gentium Basic' (GenBasI.ttf) italic normal 400 normal>) = 11.05 [font_manager.py04/22:10:06]\n"
     ]
    },
    {
     "name": "stdout",
     "output_type": "stream",
     "text": [
      " _findfont_cached1346|10: findfont: score(<Font 'Liberation Sans Narrow' (LiberationSansNarrow-Italic.ttf) italic normal 400 condensed>) = 11.25 [font_manager.py04/22:10:06]\n"
     ]
    },
    {
     "name": "stderr",
     "output_type": "stream",
     "text": [
      " _findfont_cached1346|DEBUG: findfont: score(<Font 'Liberation Sans Narrow' (LiberationSansNarrow-Italic.ttf) italic normal 400 condensed>) = 11.25 [font_manager.py04/22:10:06]\n"
     ]
    },
    {
     "name": "stdout",
     "output_type": "stream",
     "text": [
      " _findfont_cached1346|10: findfont: score(<Font 'Segoe UI' (seguibli.ttf) italic normal 900 normal>) = 11.525 [font_manager.py04/22:10:06]\n"
     ]
    },
    {
     "name": "stderr",
     "output_type": "stream",
     "text": [
      " _findfont_cached1346|DEBUG: findfont: score(<Font 'Segoe UI' (seguibli.ttf) italic normal 900 normal>) = 11.525 [font_manager.py04/22:10:06]\n"
     ]
    },
    {
     "name": "stdout",
     "output_type": "stream",
     "text": [
      " _findfont_cached1346|10: findfont: score(<Font 'DejaVu Sans' (DejaVuSans-BoldOblique.ttf) oblique normal 700 normal>) = 1.335 [font_manager.py04/22:10:06]\n"
     ]
    },
    {
     "name": "stderr",
     "output_type": "stream",
     "text": [
      " _findfont_cached1346|DEBUG: findfont: score(<Font 'DejaVu Sans' (DejaVuSans-BoldOblique.ttf) oblique normal 700 normal>) = 1.335 [font_manager.py04/22:10:06]\n"
     ]
    },
    {
     "name": "stdout",
     "output_type": "stream",
     "text": [
      " _findfont_cached1346|10: findfont: score(<Font 'Gentium Basic' (GenBasR.ttf) normal normal 400 normal>) = 10.05 [font_manager.py04/22:10:06]\n"
     ]
    },
    {
     "name": "stderr",
     "output_type": "stream",
     "text": [
      " _findfont_cached1346|DEBUG: findfont: score(<Font 'Gentium Basic' (GenBasR.ttf) normal normal 400 normal>) = 10.05 [font_manager.py04/22:10:06]\n"
     ]
    },
    {
     "name": "stdout",
     "output_type": "stream",
     "text": [
      " _findfont_cached1346|10: findfont: score(<Font 'Times New Roman' (times.ttf) normal normal 400 normal>) = 10.05 [font_manager.py04/22:10:06]\n"
     ]
    },
    {
     "name": "stderr",
     "output_type": "stream",
     "text": [
      " _findfont_cached1346|DEBUG: findfont: score(<Font 'Times New Roman' (times.ttf) normal normal 400 normal>) = 10.05 [font_manager.py04/22:10:06]\n"
     ]
    },
    {
     "name": "stdout",
     "output_type": "stream",
     "text": [
      " _findfont_cached1346|10: findfont: score(<Font 'Gigi' (GIGI.TTF) normal normal 400 normal>) = 10.05 [font_manager.py04/22:10:06]\n"
     ]
    },
    {
     "name": "stderr",
     "output_type": "stream",
     "text": [
      " _findfont_cached1346|DEBUG: findfont: score(<Font 'Gigi' (GIGI.TTF) normal normal 400 normal>) = 10.05 [font_manager.py04/22:10:06]\n"
     ]
    },
    {
     "name": "stdout",
     "output_type": "stream",
     "text": [
      " _findfont_cached1346|10: findfont: score(<Font 'Lucida Bright' (LBRITE.TTF) normal normal 400 normal>) = 10.05 [font_manager.py04/22:10:06]\n"
     ]
    },
    {
     "name": "stderr",
     "output_type": "stream",
     "text": [
      " _findfont_cached1346|DEBUG: findfont: score(<Font 'Lucida Bright' (LBRITE.TTF) normal normal 400 normal>) = 10.05 [font_manager.py04/22:10:06]\n"
     ]
    },
    {
     "name": "stdout",
     "output_type": "stream",
     "text": [
      " _findfont_cached1346|10: findfont: score(<Font 'Segoe Script' (segoescb.ttf) normal normal 700 normal>) = 10.335 [font_manager.py04/22:10:06]\n"
     ]
    },
    {
     "name": "stderr",
     "output_type": "stream",
     "text": [
      " _findfont_cached1346|DEBUG: findfont: score(<Font 'Segoe Script' (segoescb.ttf) normal normal 700 normal>) = 10.335 [font_manager.py04/22:10:06]\n"
     ]
    },
    {
     "name": "stdout",
     "output_type": "stream",
     "text": [
      " _findfont_cached1346|10: findfont: score(<Font 'David CLM' (DavidCLM-Bold.ttf) normal normal 700 normal>) = 10.335 [font_manager.py04/22:10:06]\n"
     ]
    },
    {
     "name": "stderr",
     "output_type": "stream",
     "text": [
      " _findfont_cached1346|DEBUG: findfont: score(<Font 'David CLM' (DavidCLM-Bold.ttf) normal normal 700 normal>) = 10.335 [font_manager.py04/22:10:06]\n"
     ]
    },
    {
     "name": "stdout",
     "output_type": "stream",
     "text": [
      " _findfont_cached1346|10: findfont: score(<Font 'Microsoft YaHei' (msyh.ttc) normal normal 400 normal>) = 10.05 [font_manager.py04/22:10:06]\n"
     ]
    },
    {
     "name": "stderr",
     "output_type": "stream",
     "text": [
      " _findfont_cached1346|DEBUG: findfont: score(<Font 'Microsoft YaHei' (msyh.ttc) normal normal 400 normal>) = 10.05 [font_manager.py04/22:10:06]\n"
     ]
    },
    {
     "name": "stdout",
     "output_type": "stream",
     "text": [
      " _findfont_cached1346|10: findfont: score(<Font 'Lucida Console' (lucon.ttf) normal normal 400 normal>) = 10.05 [font_manager.py04/22:10:06]\n"
     ]
    },
    {
     "name": "stderr",
     "output_type": "stream",
     "text": [
      " _findfont_cached1346|DEBUG: findfont: score(<Font 'Lucida Console' (lucon.ttf) normal normal 400 normal>) = 10.05 [font_manager.py04/22:10:06]\n"
     ]
    },
    {
     "name": "stdout",
     "output_type": "stream",
     "text": [
      " _findfont_cached1346|10: findfont: score(<Font 'DejaVu Serif' (DejaVuSerif.ttf) normal normal 400 normal>) = 10.05 [font_manager.py04/22:10:06]\n"
     ]
    },
    {
     "name": "stderr",
     "output_type": "stream",
     "text": [
      " _findfont_cached1346|DEBUG: findfont: score(<Font 'DejaVu Serif' (DejaVuSerif.ttf) normal normal 400 normal>) = 10.05 [font_manager.py04/22:10:06]\n"
     ]
    },
    {
     "name": "stdout",
     "output_type": "stream",
     "text": [
      " _findfont_cached1346|10: findfont: score(<Font 'Franklin Gothic Medium Cond' (FRAMDCN.TTF) normal normal 400 condensed>) = 10.25 [font_manager.py04/22:10:06]\n"
     ]
    },
    {
     "name": "stderr",
     "output_type": "stream",
     "text": [
      " _findfont_cached1346|DEBUG: findfont: score(<Font 'Franklin Gothic Medium Cond' (FRAMDCN.TTF) normal normal 400 condensed>) = 10.25 [font_manager.py04/22:10:06]\n"
     ]
    },
    {
     "name": "stdout",
     "output_type": "stream",
     "text": [
      " _findfont_cached1346|10: findfont: score(<Font 'Miriam Mono CLM' (MiriamMonoCLM-Bold.ttf) normal normal 700 normal>) = 10.335 [font_manager.py04/22:10:06]\n"
     ]
    },
    {
     "name": "stderr",
     "output_type": "stream",
     "text": [
      " _findfont_cached1346|DEBUG: findfont: score(<Font 'Miriam Mono CLM' (MiriamMonoCLM-Bold.ttf) normal normal 700 normal>) = 10.335 [font_manager.py04/22:10:06]\n"
     ]
    },
    {
     "name": "stdout",
     "output_type": "stream",
     "text": [
      " _findfont_cached1346|10: findfont: score(<Font 'DejaVu Serif' (DejaVuSerifCondensed-BoldItalic.ttf) italic normal 700 condensed>) = 11.535 [font_manager.py04/22:10:06]\n"
     ]
    },
    {
     "name": "stderr",
     "output_type": "stream",
     "text": [
      " _findfont_cached1346|DEBUG: findfont: score(<Font 'DejaVu Serif' (DejaVuSerifCondensed-BoldItalic.ttf) italic normal 700 condensed>) = 11.535 [font_manager.py04/22:10:06]\n"
     ]
    },
    {
     "name": "stdout",
     "output_type": "stream",
     "text": [
      " _findfont_cached1346|10: findfont: score(<Font 'Verdana' (verdana.ttf) normal normal 400 normal>) = 3.6863636363636365 [font_manager.py04/22:10:06]\n"
     ]
    },
    {
     "name": "stderr",
     "output_type": "stream",
     "text": [
      " _findfont_cached1346|DEBUG: findfont: score(<Font 'Verdana' (verdana.ttf) normal normal 400 normal>) = 3.6863636363636365 [font_manager.py04/22:10:06]\n"
     ]
    },
    {
     "name": "stdout",
     "output_type": "stream",
     "text": [
      " _findfont_cached1346|10: findfont: score(<Font 'Noto Naskh Arabic UI' (NotoNaskhArabicUI-Bold.ttf) normal normal 700 normal>) = 10.335 [font_manager.py04/22:10:06]\n"
     ]
    },
    {
     "name": "stderr",
     "output_type": "stream",
     "text": [
      " _findfont_cached1346|DEBUG: findfont: score(<Font 'Noto Naskh Arabic UI' (NotoNaskhArabicUI-Bold.ttf) normal normal 700 normal>) = 10.335 [font_manager.py04/22:10:06]\n"
     ]
    },
    {
     "name": "stdout",
     "output_type": "stream",
     "text": [
      " _findfont_cached1346|10: findfont: score(<Font 'Source Sans Pro' (SourceSansPro-Bold.ttf) normal normal 700 normal>) = 10.335 [font_manager.py04/22:10:06]\n"
     ]
    },
    {
     "name": "stderr",
     "output_type": "stream",
     "text": [
      " _findfont_cached1346|DEBUG: findfont: score(<Font 'Source Sans Pro' (SourceSansPro-Bold.ttf) normal normal 700 normal>) = 10.335 [font_manager.py04/22:10:06]\n"
     ]
    },
    {
     "name": "stdout",
     "output_type": "stream",
     "text": [
      " _findfont_cached1346|10: findfont: score(<Font 'Goudy Old Style' (GOUDOSB.TTF) normal normal 700 normal>) = 10.335 [font_manager.py04/22:10:06]\n"
     ]
    },
    {
     "name": "stderr",
     "output_type": "stream",
     "text": [
      " _findfont_cached1346|DEBUG: findfont: score(<Font 'Goudy Old Style' (GOUDOSB.TTF) normal normal 700 normal>) = 10.335 [font_manager.py04/22:10:06]\n"
     ]
    },
    {
     "name": "stdout",
     "output_type": "stream",
     "text": [
      " _findfont_cached1346|10: findfont: score(<Font 'Lucida Bright' (LBRITEDI.TTF) italic normal 600 normal>) = 11.24 [font_manager.py04/22:10:06]\n"
     ]
    },
    {
     "name": "stderr",
     "output_type": "stream",
     "text": [
      " _findfont_cached1346|DEBUG: findfont: score(<Font 'Lucida Bright' (LBRITEDI.TTF) italic normal 600 normal>) = 11.24 [font_manager.py04/22:10:06]\n"
     ]
    },
    {
     "name": "stdout",
     "output_type": "stream",
     "text": [
      " _findfont_cached1346|10: findfont: score(<Font 'Liberation Serif' (LiberationSerif-Italic.ttf) italic normal 400 normal>) = 11.05 [font_manager.py04/22:10:06]\n"
     ]
    },
    {
     "name": "stderr",
     "output_type": "stream",
     "text": [
      " _findfont_cached1346|DEBUG: findfont: score(<Font 'Liberation Serif' (LiberationSerif-Italic.ttf) italic normal 400 normal>) = 11.05 [font_manager.py04/22:10:06]\n"
     ]
    },
    {
     "name": "stdout",
     "output_type": "stream",
     "text": [
      " _findfont_cached1346|10: findfont: score(<Font 'Rubik' (Rubik-Bold.ttf) normal normal 700 normal>) = 10.335 [font_manager.py04/22:10:06]\n"
     ]
    },
    {
     "name": "stderr",
     "output_type": "stream",
     "text": [
      " _findfont_cached1346|DEBUG: findfont: score(<Font 'Rubik' (Rubik-Bold.ttf) normal normal 700 normal>) = 10.335 [font_manager.py04/22:10:06]\n"
     ]
    },
    {
     "name": "stdout",
     "output_type": "stream",
     "text": [
      " _findfont_cached1346|10: findfont: score(<Font 'Nachlieli CLM' (NachlieliCLM-Bold.otf) normal normal 600 normal>) = 10.24 [font_manager.py04/22:10:06]\n"
     ]
    },
    {
     "name": "stderr",
     "output_type": "stream",
     "text": [
      " _findfont_cached1346|DEBUG: findfont: score(<Font 'Nachlieli CLM' (NachlieliCLM-Bold.otf) normal normal 600 normal>) = 10.24 [font_manager.py04/22:10:06]\n"
     ]
    },
    {
     "name": "stdout",
     "output_type": "stream",
     "text": [
      " _findfont_cached1346|10: findfont: score(<Font 'Source Code Pro' (SourceCodePro-ExtraLight.ttf) normal normal 200 normal>) = 10.24 [font_manager.py04/22:10:06]\n"
     ]
    },
    {
     "name": "stderr",
     "output_type": "stream",
     "text": [
      " _findfont_cached1346|DEBUG: findfont: score(<Font 'Source Code Pro' (SourceCodePro-ExtraLight.ttf) normal normal 200 normal>) = 10.24 [font_manager.py04/22:10:06]\n"
     ]
    },
    {
     "name": "stdout",
     "output_type": "stream",
     "text": [
      " _findfont_cached1346|10: findfont: score(<Font 'Jokerman' (JOKERMAN.TTF) normal normal 400 normal>) = 10.05 [font_manager.py04/22:10:06]\n"
     ]
    },
    {
     "name": "stderr",
     "output_type": "stream",
     "text": [
      " _findfont_cached1346|DEBUG: findfont: score(<Font 'Jokerman' (JOKERMAN.TTF) normal normal 400 normal>) = 10.05 [font_manager.py04/22:10:06]\n"
     ]
    },
    {
     "name": "stdout",
     "output_type": "stream",
     "text": [
      " _findfont_cached1346|10: findfont: score(<Font 'Linux Libertine G' (LinLibertine_RI_G.ttf) italic normal 400 normal>) = 11.05 [font_manager.py04/22:10:06]\n"
     ]
    },
    {
     "name": "stderr",
     "output_type": "stream",
     "text": [
      " _findfont_cached1346|DEBUG: findfont: score(<Font 'Linux Libertine G' (LinLibertine_RI_G.ttf) italic normal 400 normal>) = 11.05 [font_manager.py04/22:10:06]\n"
     ]
    },
    {
     "name": "stdout",
     "output_type": "stream",
     "text": [
      " _findfont_cached1346|10: findfont: score(<Font 'Bauhaus 93' (BAUHS93.TTF) normal normal 400 normal>) = 10.05 [font_manager.py04/22:10:06]\n"
     ]
    },
    {
     "name": "stderr",
     "output_type": "stream",
     "text": [
      " _findfont_cached1346|DEBUG: findfont: score(<Font 'Bauhaus 93' (BAUHS93.TTF) normal normal 400 normal>) = 10.05 [font_manager.py04/22:10:06]\n"
     ]
    },
    {
     "name": "stdout",
     "output_type": "stream",
     "text": [
      " _findfont_cached1346|10: findfont: score(<Font 'Candara' (Candarab.ttf) normal normal 700 normal>) = 10.335 [font_manager.py04/22:10:06]\n"
     ]
    },
    {
     "name": "stderr",
     "output_type": "stream",
     "text": [
      " _findfont_cached1346|DEBUG: findfont: score(<Font 'Candara' (Candarab.ttf) normal normal 700 normal>) = 10.335 [font_manager.py04/22:10:06]\n"
     ]
    },
    {
     "name": "stdout",
     "output_type": "stream",
     "text": [
      " _findfont_cached1346|10: findfont: score(<Font 'Franklin Gothic Heavy' (FRAHVIT.TTF) italic normal 400 normal>) = 11.05 [font_manager.py04/22:10:06]\n"
     ]
    },
    {
     "name": "stderr",
     "output_type": "stream",
     "text": [
      " _findfont_cached1346|DEBUG: findfont: score(<Font 'Franklin Gothic Heavy' (FRAHVIT.TTF) italic normal 400 normal>) = 11.05 [font_manager.py04/22:10:06]\n"
     ]
    },
    {
     "name": "stdout",
     "output_type": "stream",
     "text": [
      " _findfont_cached1346|10: findfont: score(<Font 'Pristina' (PRISTINA.TTF) normal normal 400 normal>) = 10.05 [font_manager.py04/22:10:06]\n"
     ]
    },
    {
     "name": "stderr",
     "output_type": "stream",
     "text": [
      " _findfont_cached1346|DEBUG: findfont: score(<Font 'Pristina' (PRISTINA.TTF) normal normal 400 normal>) = 10.05 [font_manager.py04/22:10:06]\n"
     ]
    },
    {
     "name": "stdout",
     "output_type": "stream",
     "text": [
      " _findfont_cached1346|10: findfont: score(<Font 'Calibri' (calibri.ttf) normal normal 400 normal>) = 10.05 [font_manager.py04/22:10:06]\n"
     ]
    },
    {
     "name": "stderr",
     "output_type": "stream",
     "text": [
      " _findfont_cached1346|DEBUG: findfont: score(<Font 'Calibri' (calibri.ttf) normal normal 400 normal>) = 10.05 [font_manager.py04/22:10:06]\n"
     ]
    },
    {
     "name": "stdout",
     "output_type": "stream",
     "text": [
      " _findfont_cached1346|10: findfont: score(<Font 'Bodoni MT' (BOD_PSTC.TTF) normal normal 300 normal>) = 10.145 [font_manager.py04/22:10:06]\n"
     ]
    },
    {
     "name": "stderr",
     "output_type": "stream",
     "text": [
      " _findfont_cached1346|DEBUG: findfont: score(<Font 'Bodoni MT' (BOD_PSTC.TTF) normal normal 300 normal>) = 10.145 [font_manager.py04/22:10:06]\n"
     ]
    },
    {
     "name": "stdout",
     "output_type": "stream",
     "text": [
      " _findfont_cached1346|10: findfont: score(<Font 'Franklin Gothic Demi' (FRADM.TTF) normal normal 400 normal>) = 10.05 [font_manager.py04/22:10:06]\n"
     ]
    },
    {
     "name": "stderr",
     "output_type": "stream",
     "text": [
      " _findfont_cached1346|DEBUG: findfont: score(<Font 'Franklin Gothic Demi' (FRADM.TTF) normal normal 400 normal>) = 10.05 [font_manager.py04/22:10:06]\n"
     ]
    },
    {
     "name": "stdout",
     "output_type": "stream",
     "text": [
      " _findfont_cached1346|10: findfont: score(<Font 'Eras Demi ITC' (ERASDEMI.TTF) normal normal 400 normal>) = 10.05 [font_manager.py04/22:10:06]\n"
     ]
    },
    {
     "name": "stderr",
     "output_type": "stream",
     "text": [
      " _findfont_cached1346|DEBUG: findfont: score(<Font 'Eras Demi ITC' (ERASDEMI.TTF) normal normal 400 normal>) = 10.05 [font_manager.py04/22:10:06]\n"
     ]
    },
    {
     "name": "stdout",
     "output_type": "stream",
     "text": [
      " _findfont_cached1346|10: findfont: score(<Font 'Noto Serif Hebrew' (NotoSerifHebrew-Regular.ttf) normal normal 400 normal>) = 10.05 [font_manager.py04/22:10:06]\n"
     ]
    },
    {
     "name": "stderr",
     "output_type": "stream",
     "text": [
      " _findfont_cached1346|DEBUG: findfont: score(<Font 'Noto Serif Hebrew' (NotoSerifHebrew-Regular.ttf) normal normal 400 normal>) = 10.05 [font_manager.py04/22:10:06]\n"
     ]
    },
    {
     "name": "stdout",
     "output_type": "stream",
     "text": [
      " _findfont_cached1346|10: findfont: score(<Font 'Tw Cen MT' (TCM_____.TTF) normal normal 400 normal>) = 10.05 [font_manager.py04/22:10:06]\n"
     ]
    },
    {
     "name": "stderr",
     "output_type": "stream",
     "text": [
      " _findfont_cached1346|DEBUG: findfont: score(<Font 'Tw Cen MT' (TCM_____.TTF) normal normal 400 normal>) = 10.05 [font_manager.py04/22:10:06]\n"
     ]
    },
    {
     "name": "stdout",
     "output_type": "stream",
     "text": [
      " _findfont_cached1346|10: findfont: score(<Font 'Eras Light ITC' (ERASLGHT.TTF) normal normal 400 normal>) = 10.05 [font_manager.py04/22:10:06]\n"
     ]
    },
    {
     "name": "stderr",
     "output_type": "stream",
     "text": [
      " _findfont_cached1346|DEBUG: findfont: score(<Font 'Eras Light ITC' (ERASLGHT.TTF) normal normal 400 normal>) = 10.05 [font_manager.py04/22:10:06]\n"
     ]
    },
    {
     "name": "stdout",
     "output_type": "stream",
     "text": [
      " _findfont_cached1346|10: findfont: score(<Font 'Gill Sans MT' (GILB____.TTF) normal normal 700 normal>) = 10.335 [font_manager.py04/22:10:06]\n"
     ]
    },
    {
     "name": "stderr",
     "output_type": "stream",
     "text": [
      " _findfont_cached1346|DEBUG: findfont: score(<Font 'Gill Sans MT' (GILB____.TTF) normal normal 700 normal>) = 10.335 [font_manager.py04/22:10:06]\n"
     ]
    },
    {
     "name": "stdout",
     "output_type": "stream",
     "text": [
      " _findfont_cached1346|10: findfont: score(<Font 'DejaVu Sans Mono' (DejaVuSansMono-Oblique.ttf) oblique normal 400 normal>) = 11.05 [font_manager.py04/22:10:06]\n"
     ]
    },
    {
     "name": "stderr",
     "output_type": "stream",
     "text": [
      " _findfont_cached1346|DEBUG: findfont: score(<Font 'DejaVu Sans Mono' (DejaVuSansMono-Oblique.ttf) oblique normal 400 normal>) = 11.05 [font_manager.py04/22:10:06]\n"
     ]
    },
    {
     "name": "stdout",
     "output_type": "stream",
     "text": [
      " _findfont_cached1346|10: findfont: score(<Font 'jpn_boot' (jpn_boot.ttf) normal normal 400 normal>) = 10.05 [font_manager.py04/22:10:06]\n"
     ]
    },
    {
     "name": "stderr",
     "output_type": "stream",
     "text": [
      " _findfont_cached1346|DEBUG: findfont: score(<Font 'jpn_boot' (jpn_boot.ttf) normal normal 400 normal>) = 10.05 [font_manager.py04/22:10:06]\n"
     ]
    },
    {
     "name": "stdout",
     "output_type": "stream",
     "text": [
      " _findfont_cached1346|10: findfont: score(<Font 'Microsoft Sans Serif' (micross.ttf) normal normal 400 normal>) = 10.05 [font_manager.py04/22:10:06]\n"
     ]
    },
    {
     "name": "stderr",
     "output_type": "stream",
     "text": [
      " _findfont_cached1346|DEBUG: findfont: score(<Font 'Microsoft Sans Serif' (micross.ttf) normal normal 400 normal>) = 10.05 [font_manager.py04/22:10:06]\n"
     ]
    },
    {
     "name": "stdout",
     "output_type": "stream",
     "text": [
      " _findfont_cached1346|10: findfont: score(<Font 'Liberation Sans Narrow' (LiberationSansNarrow-Italic.ttf) italic normal 400 condensed>) = 11.25 [font_manager.py04/22:10:06]\n"
     ]
    },
    {
     "name": "stderr",
     "output_type": "stream",
     "text": [
      " _findfont_cached1346|DEBUG: findfont: score(<Font 'Liberation Sans Narrow' (LiberationSansNarrow-Italic.ttf) italic normal 400 condensed>) = 11.25 [font_manager.py04/22:10:06]\n"
     ]
    },
    {
     "name": "stdout",
     "output_type": "stream",
     "text": [
      " _findfont_cached1346|10: findfont: score(<Font 'Mongolian Baiti' (monbaiti.ttf) normal normal 400 normal>) = 10.05 [font_manager.py04/22:10:06]\n"
     ]
    },
    {
     "name": "stderr",
     "output_type": "stream",
     "text": [
      " _findfont_cached1346|DEBUG: findfont: score(<Font 'Mongolian Baiti' (monbaiti.ttf) normal normal 400 normal>) = 10.05 [font_manager.py04/22:10:06]\n"
     ]
    },
    {
     "name": "stdout",
     "output_type": "stream",
     "text": [
      " _findfont_cached1346|10: findfont: score(<Font 'Candara' (Candarali.ttf) italic normal 400 normal>) = 11.05 [font_manager.py04/22:10:06]\n"
     ]
    },
    {
     "name": "stderr",
     "output_type": "stream",
     "text": [
      " _findfont_cached1346|DEBUG: findfont: score(<Font 'Candara' (Candarali.ttf) italic normal 400 normal>) = 11.05 [font_manager.py04/22:10:06]\n"
     ]
    },
    {
     "name": "stdout",
     "output_type": "stream",
     "text": [
      " _findfont_cached1346|10: findfont: score(<Font 'Kristen ITC' (ITCKRIST.TTF) normal normal 400 normal>) = 10.05 [font_manager.py04/22:10:06]\n"
     ]
    },
    {
     "name": "stderr",
     "output_type": "stream",
     "text": [
      " _findfont_cached1346|DEBUG: findfont: score(<Font 'Kristen ITC' (ITCKRIST.TTF) normal normal 400 normal>) = 10.05 [font_manager.py04/22:10:06]\n"
     ]
    },
    {
     "name": "stdout",
     "output_type": "stream",
     "text": [
      " _findfont_cached1346|10: findfont: score(<Font 'Century Schoolbook' (SCHLBKBI.TTF) italic normal 700 normal>) = 11.335 [font_manager.py04/22:10:06]\n"
     ]
    },
    {
     "name": "stderr",
     "output_type": "stream",
     "text": [
      " _findfont_cached1346|DEBUG: findfont: score(<Font 'Century Schoolbook' (SCHLBKBI.TTF) italic normal 700 normal>) = 11.335 [font_manager.py04/22:10:06]\n"
     ]
    },
    {
     "name": "stdout",
     "output_type": "stream",
     "text": [
      " _findfont_cached1346|10: findfont: score(<Font 'Amiri Quran' (AmiriQuran.ttf) normal normal 400 normal>) = 10.05 [font_manager.py04/22:10:06]\n"
     ]
    },
    {
     "name": "stderr",
     "output_type": "stream",
     "text": [
      " _findfont_cached1346|DEBUG: findfont: score(<Font 'Amiri Quran' (AmiriQuran.ttf) normal normal 400 normal>) = 10.05 [font_manager.py04/22:10:06]\n"
     ]
    },
    {
     "name": "stdout",
     "output_type": "stream",
     "text": [
      " _findfont_cached1346|10: findfont: score(<Font 'Gill Sans MT' (GILBI___.TTF) italic normal 700 normal>) = 11.335 [font_manager.py04/22:10:06]\n"
     ]
    },
    {
     "name": "stderr",
     "output_type": "stream",
     "text": [
      " _findfont_cached1346|DEBUG: findfont: score(<Font 'Gill Sans MT' (GILBI___.TTF) italic normal 700 normal>) = 11.335 [font_manager.py04/22:10:06]\n"
     ]
    },
    {
     "name": "stdout",
     "output_type": "stream",
     "text": [
      " _findfont_cached1346|10: findfont: score(<Font 'Verdana' (verdanai.ttf) italic normal 400 normal>) = 4.6863636363636365 [font_manager.py04/22:10:06]\n"
     ]
    },
    {
     "name": "stderr",
     "output_type": "stream",
     "text": [
      " _findfont_cached1346|DEBUG: findfont: score(<Font 'Verdana' (verdanai.ttf) italic normal 400 normal>) = 4.6863636363636365 [font_manager.py04/22:10:06]\n"
     ]
    },
    {
     "name": "stdout",
     "output_type": "stream",
     "text": [
      " _findfont_cached1346|10: findfont: score(<Font 'Sylfaen' (sylfaen.ttf) normal normal 400 normal>) = 10.05 [font_manager.py04/22:10:06]\n"
     ]
    },
    {
     "name": "stderr",
     "output_type": "stream",
     "text": [
      " _findfont_cached1346|DEBUG: findfont: score(<Font 'Sylfaen' (sylfaen.ttf) normal normal 400 normal>) = 10.05 [font_manager.py04/22:10:06]\n"
     ]
    },
    {
     "name": "stdout",
     "output_type": "stream",
     "text": [
      " _findfont_cached1346|10: findfont: score(<Font 'Monotype Corsiva' (MTCORSVA.TTF) normal normal 400 normal>) = 10.05 [font_manager.py04/22:10:06]\n"
     ]
    },
    {
     "name": "stderr",
     "output_type": "stream",
     "text": [
      " _findfont_cached1346|DEBUG: findfont: score(<Font 'Monotype Corsiva' (MTCORSVA.TTF) normal normal 400 normal>) = 10.05 [font_manager.py04/22:10:06]\n"
     ]
    },
    {
     "name": "stdout",
     "output_type": "stream",
     "text": [
      " _findfont_cached1346|10: findfont: score(<Font 'Microsoft PhagsPa' (phagspa.ttf) normal normal 400 normal>) = 10.05 [font_manager.py04/22:10:06]\n"
     ]
    },
    {
     "name": "stderr",
     "output_type": "stream",
     "text": [
      " _findfont_cached1346|DEBUG: findfont: score(<Font 'Microsoft PhagsPa' (phagspa.ttf) normal normal 400 normal>) = 10.05 [font_manager.py04/22:10:06]\n"
     ]
    },
    {
     "name": "stdout",
     "output_type": "stream",
     "text": [
      " _findfont_cached1346|10: findfont: score(<Font 'Source Sans Pro' (SourceSansPro-Bold.ttf) normal normal 700 normal>) = 10.335 [font_manager.py04/22:10:06]\n"
     ]
    },
    {
     "name": "stderr",
     "output_type": "stream",
     "text": [
      " _findfont_cached1346|DEBUG: findfont: score(<Font 'Source Sans Pro' (SourceSansPro-Bold.ttf) normal normal 700 normal>) = 10.335 [font_manager.py04/22:10:06]\n"
     ]
    },
    {
     "name": "stdout",
     "output_type": "stream",
     "text": [
      " _findfont_cached1346|10: findfont: score(<Font 'Gentium Book Basic' (GenBkBasB.ttf) normal normal 700 normal>) = 10.335 [font_manager.py04/22:10:06]\n"
     ]
    },
    {
     "name": "stderr",
     "output_type": "stream",
     "text": [
      " _findfont_cached1346|DEBUG: findfont: score(<Font 'Gentium Book Basic' (GenBkBasB.ttf) normal normal 700 normal>) = 10.335 [font_manager.py04/22:10:06]\n"
     ]
    },
    {
     "name": "stdout",
     "output_type": "stream",
     "text": [
      " _findfont_cached1346|10: findfont: score(<Font 'Carlito' (Carlito-Italic.ttf) italic normal 400 normal>) = 11.05 [font_manager.py04/22:10:06]\n"
     ]
    },
    {
     "name": "stderr",
     "output_type": "stream",
     "text": [
      " _findfont_cached1346|DEBUG: findfont: score(<Font 'Carlito' (Carlito-Italic.ttf) italic normal 400 normal>) = 11.05 [font_manager.py04/22:10:06]\n"
     ]
    },
    {
     "name": "stdout",
     "output_type": "stream",
     "text": [
      " _findfont_cached1346|10: findfont: score(<Font 'Bookman Old Style' (BOOKOSBI.TTF) italic normal 600 normal>) = 11.24 [font_manager.py04/22:10:06]\n"
     ]
    },
    {
     "name": "stderr",
     "output_type": "stream",
     "text": [
      " _findfont_cached1346|DEBUG: findfont: score(<Font 'Bookman Old Style' (BOOKOSBI.TTF) italic normal 600 normal>) = 11.24 [font_manager.py04/22:10:06]\n"
     ]
    },
    {
     "name": "stdout",
     "output_type": "stream",
     "text": [
      " _findfont_cached1346|10: findfont: score(<Font 'Ebrima' (ebrima.ttf) normal normal 400 normal>) = 10.05 [font_manager.py04/22:10:06]\n"
     ]
    },
    {
     "name": "stderr",
     "output_type": "stream",
     "text": [
      " _findfont_cached1346|DEBUG: findfont: score(<Font 'Ebrima' (ebrima.ttf) normal normal 400 normal>) = 10.05 [font_manager.py04/22:10:06]\n"
     ]
    },
    {
     "name": "stdout",
     "output_type": "stream",
     "text": [
      " _findfont_cached1346|10: findfont: score(<Font 'FontAwesome' (fontawesome-webfont.ttf) normal normal 400 normal>) = 10.05 [font_manager.py04/22:10:06]\n"
     ]
    },
    {
     "name": "stderr",
     "output_type": "stream",
     "text": [
      " _findfont_cached1346|DEBUG: findfont: score(<Font 'FontAwesome' (fontawesome-webfont.ttf) normal normal 400 normal>) = 10.05 [font_manager.py04/22:10:06]\n"
     ]
    },
    {
     "name": "stdout",
     "output_type": "stream",
     "text": [
      " _findfont_cached1346|10: findfont: score(<Font 'Rubik' (Rubik-Italic.ttf) italic normal 400 normal>) = 11.05 [font_manager.py04/22:10:06]\n"
     ]
    },
    {
     "name": "stderr",
     "output_type": "stream",
     "text": [
      " _findfont_cached1346|DEBUG: findfont: score(<Font 'Rubik' (Rubik-Italic.ttf) italic normal 400 normal>) = 11.05 [font_manager.py04/22:10:06]\n"
     ]
    },
    {
     "name": "stdout",
     "output_type": "stream",
     "text": [
      " _findfont_cached1346|10: findfont: score(<Font 'Amiri' (Amiri-Slanted.ttf) italic normal 400 normal>) = 11.05 [font_manager.py04/22:10:06]\n"
     ]
    },
    {
     "name": "stderr",
     "output_type": "stream",
     "text": [
      " _findfont_cached1346|DEBUG: findfont: score(<Font 'Amiri' (Amiri-Slanted.ttf) italic normal 400 normal>) = 11.05 [font_manager.py04/22:10:06]\n"
     ]
    },
    {
     "name": "stdout",
     "output_type": "stream",
     "text": [
      " _findfont_cached1346|10: findfont: score(<Font 'Carlito' (Carlito-Bold.ttf) normal normal 700 normal>) = 10.335 [font_manager.py04/22:10:06]\n"
     ]
    },
    {
     "name": "stderr",
     "output_type": "stream",
     "text": [
      " _findfont_cached1346|DEBUG: findfont: score(<Font 'Carlito' (Carlito-Bold.ttf) normal normal 700 normal>) = 10.335 [font_manager.py04/22:10:06]\n"
     ]
    },
    {
     "name": "stdout",
     "output_type": "stream",
     "text": [
      " _findfont_cached1346|10: findfont: score(<Font 'Source Sans Pro' (SourceSansPro-BoldIt.ttf) italic normal 700 normal>) = 11.335 [font_manager.py04/22:10:06]\n"
     ]
    },
    {
     "name": "stderr",
     "output_type": "stream",
     "text": [
      " _findfont_cached1346|DEBUG: findfont: score(<Font 'Source Sans Pro' (SourceSansPro-BoldIt.ttf) italic normal 700 normal>) = 11.335 [font_manager.py04/22:10:06]\n"
     ]
    },
    {
     "name": "stdout",
     "output_type": "stream",
     "text": [
      " _findfont_cached1346|10: findfont: score(<Font 'Tahoma' (tahomabd.ttf) normal normal 700 normal>) = 10.335 [font_manager.py04/22:10:06]\n"
     ]
    },
    {
     "name": "stderr",
     "output_type": "stream",
     "text": [
      " _findfont_cached1346|DEBUG: findfont: score(<Font 'Tahoma' (tahomabd.ttf) normal normal 700 normal>) = 10.335 [font_manager.py04/22:10:06]\n"
     ]
    },
    {
     "name": "stdout",
     "output_type": "stream",
     "text": [
      " _findfont_cached1346|10: findfont: score(<Font 'Gadugi' (gadugib.ttf) normal normal 700 normal>) = 10.335 [font_manager.py04/22:10:06]\n"
     ]
    },
    {
     "name": "stderr",
     "output_type": "stream",
     "text": [
      " _findfont_cached1346|DEBUG: findfont: score(<Font 'Gadugi' (gadugib.ttf) normal normal 700 normal>) = 10.335 [font_manager.py04/22:10:06]\n"
     ]
    },
    {
     "name": "stdout",
     "output_type": "stream",
     "text": [
      " _findfont_cached1346|10: findfont: score(<Font 'Palatino Linotype' (pala.ttf) normal normal 400 normal>) = 10.05 [font_manager.py04/22:10:06]\n"
     ]
    },
    {
     "name": "stderr",
     "output_type": "stream",
     "text": [
      " _findfont_cached1346|DEBUG: findfont: score(<Font 'Palatino Linotype' (pala.ttf) normal normal 400 normal>) = 10.05 [font_manager.py04/22:10:06]\n"
     ]
    },
    {
     "name": "stdout",
     "output_type": "stream",
     "text": [
      " _findfont_cached1346|10: findfont: score(<Font 'Noto Sans' (NotoSans-LightItalic.ttf) italic normal 300 normal>) = 11.145 [font_manager.py04/22:10:06]\n"
     ]
    },
    {
     "name": "stderr",
     "output_type": "stream",
     "text": [
      " _findfont_cached1346|DEBUG: findfont: score(<Font 'Noto Sans' (NotoSans-LightItalic.ttf) italic normal 300 normal>) = 11.145 [font_manager.py04/22:10:06]\n"
     ]
    },
    {
     "name": "stdout",
     "output_type": "stream",
     "text": [
      " _findfont_cached1346|10: findfont: score(<Font 'David Libre' (DavidLibre-Bold.ttf) normal normal 700 normal>) = 10.335 [font_manager.py04/22:10:06]\n"
     ]
    },
    {
     "name": "stderr",
     "output_type": "stream",
     "text": [
      " _findfont_cached1346|DEBUG: findfont: score(<Font 'David Libre' (DavidLibre-Bold.ttf) normal normal 700 normal>) = 10.335 [font_manager.py04/22:10:06]\n"
     ]
    },
    {
     "name": "stdout",
     "output_type": "stream",
     "text": [
      " _findfont_cached1346|10: findfont: score(<Font 'Eras Medium ITC' (ERASMD.TTF) normal normal 400 normal>) = 10.05 [font_manager.py04/22:10:06]\n"
     ]
    },
    {
     "name": "stderr",
     "output_type": "stream",
     "text": [
      " _findfont_cached1346|DEBUG: findfont: score(<Font 'Eras Medium ITC' (ERASMD.TTF) normal normal 400 normal>) = 10.05 [font_manager.py04/22:10:06]\n"
     ]
    },
    {
     "name": "stdout",
     "output_type": "stream",
     "text": [
      " _findfont_cached1346|10: findfont: score(<Font 'Chiller' (CHILLER.TTF) normal normal 400 normal>) = 10.05 [font_manager.py04/22:10:06]\n"
     ]
    },
    {
     "name": "stderr",
     "output_type": "stream",
     "text": [
      " _findfont_cached1346|DEBUG: findfont: score(<Font 'Chiller' (CHILLER.TTF) normal normal 400 normal>) = 10.05 [font_manager.py04/22:10:06]\n"
     ]
    },
    {
     "name": "stdout",
     "output_type": "stream",
     "text": [
      " _findfont_cached1346|10: findfont: score(<Font 'Noto Sans' (NotoSans-CondensedBoldItalic.ttf) italic normal 700 condensed>) = 11.535 [font_manager.py04/22:10:06]\n"
     ]
    },
    {
     "name": "stderr",
     "output_type": "stream",
     "text": [
      " _findfont_cached1346|DEBUG: findfont: score(<Font 'Noto Sans' (NotoSans-CondensedBoldItalic.ttf) italic normal 700 condensed>) = 11.535 [font_manager.py04/22:10:06]\n"
     ]
    },
    {
     "name": "stdout",
     "output_type": "stream",
     "text": [
      " _findfont_cached1346|10: findfont: score(<Font 'Bell MT' (BELLI.TTF) italic normal 400 normal>) = 11.05 [font_manager.py04/22:10:06]\n"
     ]
    },
    {
     "name": "stderr",
     "output_type": "stream",
     "text": [
      " _findfont_cached1346|DEBUG: findfont: score(<Font 'Bell MT' (BELLI.TTF) italic normal 400 normal>) = 11.05 [font_manager.py04/22:10:06]\n"
     ]
    },
    {
     "name": "stdout",
     "output_type": "stream",
     "text": [
      " _findfont_cached1346|10: findfont: score(<Font 'Liberation Sans' (LiberationSans-Regular.ttf) normal normal 400 normal>) = 10.05 [font_manager.py04/22:10:06]\n"
     ]
    },
    {
     "name": "stderr",
     "output_type": "stream",
     "text": [
      " _findfont_cached1346|DEBUG: findfont: score(<Font 'Liberation Sans' (LiberationSans-Regular.ttf) normal normal 400 normal>) = 10.05 [font_manager.py04/22:10:06]\n"
     ]
    },
    {
     "name": "stdout",
     "output_type": "stream",
     "text": [
      " _findfont_cached1346|10: findfont: score(<Font 'Calibri' (calibril.ttf) normal normal 300 normal>) = 10.145 [font_manager.py04/22:10:06]\n"
     ]
    },
    {
     "name": "stderr",
     "output_type": "stream",
     "text": [
      " _findfont_cached1346|DEBUG: findfont: score(<Font 'Calibri' (calibril.ttf) normal normal 300 normal>) = 10.145 [font_manager.py04/22:10:06]\n"
     ]
    },
    {
     "name": "stdout",
     "output_type": "stream",
     "text": [
      " _findfont_cached1346|10: findfont: score(<Font 'Times New Roman' (times.ttf) normal normal 400 normal>) = 10.05 [font_manager.py04/22:10:06]\n"
     ]
    },
    {
     "name": "stderr",
     "output_type": "stream",
     "text": [
      " _findfont_cached1346|DEBUG: findfont: score(<Font 'Times New Roman' (times.ttf) normal normal 400 normal>) = 10.05 [font_manager.py04/22:10:06]\n"
     ]
    },
    {
     "name": "stdout",
     "output_type": "stream",
     "text": [
      " _findfont_cached1346|10: findfont: score(<Font 'Bell MT' (BELL.TTF) normal normal 400 normal>) = 10.05 [font_manager.py04/22:10:06]\n"
     ]
    },
    {
     "name": "stderr",
     "output_type": "stream",
     "text": [
      " _findfont_cached1346|DEBUG: findfont: score(<Font 'Bell MT' (BELL.TTF) normal normal 400 normal>) = 10.05 [font_manager.py04/22:10:06]\n"
     ]
    },
    {
     "name": "stdout",
     "output_type": "stream",
     "text": [
      " _findfont_cached1346|10: findfont: score(<Font 'Candara' (Candarab.ttf) normal normal 700 normal>) = 10.335 [font_manager.py04/22:10:06]\n"
     ]
    },
    {
     "name": "stderr",
     "output_type": "stream",
     "text": [
      " _findfont_cached1346|DEBUG: findfont: score(<Font 'Candara' (Candarab.ttf) normal normal 700 normal>) = 10.335 [font_manager.py04/22:10:06]\n"
     ]
    },
    {
     "name": "stdout",
     "output_type": "stream",
     "text": [
      " _findfont_cached1346|10: findfont: score(<Font 'SimSun' (simsun.ttc) normal normal 400 normal>) = 10.05 [font_manager.py04/22:10:06]\n"
     ]
    },
    {
     "name": "stderr",
     "output_type": "stream",
     "text": [
      " _findfont_cached1346|DEBUG: findfont: score(<Font 'SimSun' (simsun.ttc) normal normal 400 normal>) = 10.05 [font_manager.py04/22:10:06]\n"
     ]
    },
    {
     "name": "stdout",
     "output_type": "stream",
     "text": [
      " _findfont_cached1346|10: findfont: score(<Font 'DejaVu Serif' (DejaVuSerifCondensed-Bold.ttf) normal normal 700 condensed>) = 10.535 [font_manager.py04/22:10:06]\n"
     ]
    },
    {
     "name": "stderr",
     "output_type": "stream",
     "text": [
      " _findfont_cached1346|DEBUG: findfont: score(<Font 'DejaVu Serif' (DejaVuSerifCondensed-Bold.ttf) normal normal 700 condensed>) = 10.535 [font_manager.py04/22:10:06]\n"
     ]
    },
    {
     "name": "stdout",
     "output_type": "stream",
     "text": [
      " _findfont_cached1346|10: findfont: score(<Font 'Lucida Fax' (LFAX.TTF) normal normal 400 normal>) = 10.05 [font_manager.py04/22:10:06]\n"
     ]
    },
    {
     "name": "stderr",
     "output_type": "stream",
     "text": [
      " _findfont_cached1346|DEBUG: findfont: score(<Font 'Lucida Fax' (LFAX.TTF) normal normal 400 normal>) = 10.05 [font_manager.py04/22:10:06]\n"
     ]
    },
    {
     "name": "stdout",
     "output_type": "stream",
     "text": [
      " _findfont_cached1346|10: findfont: score(<Font 'Lucida Sans' (LSANS.TTF) normal normal 400 normal>) = 10.05 [font_manager.py04/22:10:06]\n"
     ]
    },
    {
     "name": "stderr",
     "output_type": "stream",
     "text": [
      " _findfont_cached1346|DEBUG: findfont: score(<Font 'Lucida Sans' (LSANS.TTF) normal normal 400 normal>) = 10.05 [font_manager.py04/22:10:06]\n"
     ]
    },
    {
     "name": "stdout",
     "output_type": "stream",
     "text": [
      " _findfont_cached1346|10: findfont: score(<Font 'Noto Serif Hebrew' (NotoSerifHebrew-Bold.ttf) normal normal 700 normal>) = 10.335 [font_manager.py04/22:10:06]\n"
     ]
    },
    {
     "name": "stderr",
     "output_type": "stream",
     "text": [
      " _findfont_cached1346|DEBUG: findfont: score(<Font 'Noto Serif Hebrew' (NotoSerifHebrew-Bold.ttf) normal normal 700 normal>) = 10.335 [font_manager.py04/22:10:06]\n"
     ]
    },
    {
     "name": "stdout",
     "output_type": "stream",
     "text": [
      " _findfont_cached1346|10: findfont: score(<Font 'Liberation Mono' (LiberationMono-Bold.ttf) normal normal 700 normal>) = 10.335 [font_manager.py04/22:10:06]\n"
     ]
    },
    {
     "name": "stderr",
     "output_type": "stream",
     "text": [
      " _findfont_cached1346|DEBUG: findfont: score(<Font 'Liberation Mono' (LiberationMono-Bold.ttf) normal normal 700 normal>) = 10.335 [font_manager.py04/22:10:06]\n"
     ]
    },
    {
     "name": "stdout",
     "output_type": "stream",
     "text": [
      " _findfont_cached1346|10: findfont: score(<Font 'Noto Sans Lao' (NotoSansLao-Regular.ttf) normal normal 400 normal>) = 10.05 [font_manager.py04/22:10:06]\n"
     ]
    },
    {
     "name": "stderr",
     "output_type": "stream",
     "text": [
      " _findfont_cached1346|DEBUG: findfont: score(<Font 'Noto Sans Lao' (NotoSansLao-Regular.ttf) normal normal 400 normal>) = 10.05 [font_manager.py04/22:10:06]\n"
     ]
    },
    {
     "name": "stdout",
     "output_type": "stream",
     "text": [
      " _findfont_cached1346|10: findfont: score(<Font 'Tw Cen MT' (TCB_____.TTF) normal normal 700 normal>) = 10.335 [font_manager.py04/22:10:06]\n"
     ]
    },
    {
     "name": "stderr",
     "output_type": "stream",
     "text": [
      " _findfont_cached1346|DEBUG: findfont: score(<Font 'Tw Cen MT' (TCB_____.TTF) normal normal 700 normal>) = 10.335 [font_manager.py04/22:10:06]\n"
     ]
    },
    {
     "name": "stdout",
     "output_type": "stream",
     "text": [
      " _findfont_cached1346|10: findfont: score(<Font 'DejaVu Sans' (DejaVuSansCondensed.ttf) normal normal 400 condensed>) = 0.25 [font_manager.py04/22:10:06]\n"
     ]
    },
    {
     "name": "stderr",
     "output_type": "stream",
     "text": [
      " _findfont_cached1346|DEBUG: findfont: score(<Font 'DejaVu Sans' (DejaVuSansCondensed.ttf) normal normal 400 condensed>) = 0.25 [font_manager.py04/22:10:06]\n"
     ]
    },
    {
     "name": "stdout",
     "output_type": "stream",
     "text": [
      " _findfont_cached1346|10: findfont: score(<Font 'Georgia' (georgiab.ttf) normal normal 700 normal>) = 10.335 [font_manager.py04/22:10:06]\n"
     ]
    },
    {
     "name": "stderr",
     "output_type": "stream",
     "text": [
      " _findfont_cached1346|DEBUG: findfont: score(<Font 'Georgia' (georgiab.ttf) normal normal 700 normal>) = 10.335 [font_manager.py04/22:10:06]\n"
     ]
    },
    {
     "name": "stdout",
     "output_type": "stream",
     "text": [
      " _findfont_cached1346|10: findfont: score(<Font 'Gill Sans MT Condensed' (GILC____.TTF) normal normal 400 condensed>) = 10.25 [font_manager.py04/22:10:06]\n"
     ]
    },
    {
     "name": "stderr",
     "output_type": "stream",
     "text": [
      " _findfont_cached1346|DEBUG: findfont: score(<Font 'Gill Sans MT Condensed' (GILC____.TTF) normal normal 400 condensed>) = 10.25 [font_manager.py04/22:10:06]\n"
     ]
    },
    {
     "name": "stdout",
     "output_type": "stream",
     "text": [
      " _findfont_cached1346|10: findfont: score(<Font 'Leelawadee UI' (LeelawUI.ttf) normal normal 400 normal>) = 10.05 [font_manager.py04/22:10:06]\n"
     ]
    },
    {
     "name": "stderr",
     "output_type": "stream",
     "text": [
      " _findfont_cached1346|DEBUG: findfont: score(<Font 'Leelawadee UI' (LeelawUI.ttf) normal normal 400 normal>) = 10.05 [font_manager.py04/22:10:06]\n"
     ]
    },
    {
     "name": "stdout",
     "output_type": "stream",
     "text": [
      " _findfont_cached1346|10: findfont: score(<Font 'DengXian' (Dengl.ttf) normal normal 300 normal>) = 10.145 [font_manager.py04/22:10:06]\n"
     ]
    },
    {
     "name": "stderr",
     "output_type": "stream",
     "text": [
      " _findfont_cached1346|DEBUG: findfont: score(<Font 'DengXian' (Dengl.ttf) normal normal 300 normal>) = 10.145 [font_manager.py04/22:10:06]\n"
     ]
    },
    {
     "name": "stdout",
     "output_type": "stream",
     "text": [
      " _findfont_cached1346|10: findfont: score(<Font 'Linux Libertine G' (LinLibertine_RBI_G.ttf) italic normal 700 normal>) = 11.335 [font_manager.py04/22:10:06]\n"
     ]
    },
    {
     "name": "stderr",
     "output_type": "stream",
     "text": [
      " _findfont_cached1346|DEBUG: findfont: score(<Font 'Linux Libertine G' (LinLibertine_RBI_G.ttf) italic normal 700 normal>) = 11.335 [font_manager.py04/22:10:06]\n"
     ]
    },
    {
     "name": "stdout",
     "output_type": "stream",
     "text": [
      " _findfont_cached1346|10: findfont: score(<Font 'Cambria' (cambriaz.ttf) italic normal 700 normal>) = 11.335 [font_manager.py04/22:10:06]\n"
     ]
    },
    {
     "name": "stderr",
     "output_type": "stream",
     "text": [
      " _findfont_cached1346|DEBUG: findfont: score(<Font 'Cambria' (cambriaz.ttf) italic normal 700 normal>) = 11.335 [font_manager.py04/22:10:06]\n"
     ]
    },
    {
     "name": "stdout",
     "output_type": "stream",
     "text": [
      " _findfont_cached1346|10: findfont: score(<Font 'KaiTi' (simkai.ttf) normal normal 400 normal>) = 10.05 [font_manager.py04/22:10:06]\n"
     ]
    },
    {
     "name": "stderr",
     "output_type": "stream",
     "text": [
      " _findfont_cached1346|DEBUG: findfont: score(<Font 'KaiTi' (simkai.ttf) normal normal 400 normal>) = 10.05 [font_manager.py04/22:10:06]\n"
     ]
    },
    {
     "name": "stdout",
     "output_type": "stream",
     "text": [
      " _findfont_cached1346|10: findfont: score(<Font 'Source Serif Pro' (SourceSerifPro-BlackIt.ttf) italic normal 900 normal>) = 11.525 [font_manager.py04/22:10:06]\n"
     ]
    },
    {
     "name": "stderr",
     "output_type": "stream",
     "text": [
      " _findfont_cached1346|DEBUG: findfont: score(<Font 'Source Serif Pro' (SourceSerifPro-BlackIt.ttf) italic normal 900 normal>) = 11.525 [font_manager.py04/22:10:06]\n"
     ]
    },
    {
     "name": "stdout",
     "output_type": "stream",
     "text": [
      " _findfont_cached1346|10: findfont: score(<Font 'Arial' (arialbi.ttf) italic normal 700 normal>) = 7.698636363636363 [font_manager.py04/22:10:06]\n"
     ]
    },
    {
     "name": "stderr",
     "output_type": "stream",
     "text": [
      " _findfont_cached1346|DEBUG: findfont: score(<Font 'Arial' (arialbi.ttf) italic normal 700 normal>) = 7.698636363636363 [font_manager.py04/22:10:06]\n"
     ]
    },
    {
     "name": "stdout",
     "output_type": "stream",
     "text": [
      " _findfont_cached1346|10: findfont: score(<Font 'Bodoni MT' (BOD_CBI.TTF) italic normal 700 condensed>) = 11.535 [font_manager.py04/22:10:06]\n"
     ]
    },
    {
     "name": "stderr",
     "output_type": "stream",
     "text": [
      " _findfont_cached1346|DEBUG: findfont: score(<Font 'Bodoni MT' (BOD_CBI.TTF) italic normal 700 condensed>) = 11.535 [font_manager.py04/22:10:06]\n"
     ]
    },
    {
     "name": "stdout",
     "output_type": "stream",
     "text": [
      " _findfont_cached1346|10: findfont: score(<Font 'Arial' (ARIALNBI.TTF) italic normal 700 condensed>) = 7.8986363636363635 [font_manager.py04/22:10:06]\n"
     ]
    },
    {
     "name": "stderr",
     "output_type": "stream",
     "text": [
      " _findfont_cached1346|DEBUG: findfont: score(<Font 'Arial' (ARIALNBI.TTF) italic normal 700 condensed>) = 7.8986363636363635 [font_manager.py04/22:10:06]\n"
     ]
    },
    {
     "name": "stdout",
     "output_type": "stream",
     "text": [
      " _findfont_cached1346|10: findfont: score(<Font 'Times New Roman' (timesbd.ttf) normal normal 700 normal>) = 10.335 [font_manager.py04/22:10:06]\n"
     ]
    },
    {
     "name": "stderr",
     "output_type": "stream",
     "text": [
      " _findfont_cached1346|DEBUG: findfont: score(<Font 'Times New Roman' (timesbd.ttf) normal normal 700 normal>) = 10.335 [font_manager.py04/22:10:06]\n"
     ]
    },
    {
     "name": "stdout",
     "output_type": "stream",
     "text": [
      " _findfont_cached1346|10: findfont: score(<Font 'Tw Cen MT Condensed' (TCCM____.TTF) normal normal 400 condensed>) = 10.25 [font_manager.py04/22:10:06]\n"
     ]
    },
    {
     "name": "stderr",
     "output_type": "stream",
     "text": [
      " _findfont_cached1346|DEBUG: findfont: score(<Font 'Tw Cen MT Condensed' (TCCM____.TTF) normal normal 400 condensed>) = 10.25 [font_manager.py04/22:10:06]\n"
     ]
    },
    {
     "name": "stdout",
     "output_type": "stream",
     "text": [
      " _findfont_cached1346|10: findfont: score(<Font 'Vivaldi' (VIVALDII.TTF) italic normal 400 normal>) = 11.05 [font_manager.py04/22:10:06]\n"
     ]
    },
    {
     "name": "stderr",
     "output_type": "stream",
     "text": [
      " _findfont_cached1346|DEBUG: findfont: score(<Font 'Vivaldi' (VIVALDII.TTF) italic normal 400 normal>) = 11.05 [font_manager.py04/22:10:06]\n"
     ]
    },
    {
     "name": "stdout",
     "output_type": "stream",
     "text": [
      " _findfont_cached1346|10: findfont: score(<Font 'Lucida Sans' (LSANSI.TTF) italic normal 400 normal>) = 11.05 [font_manager.py04/22:10:06]\n"
     ]
    },
    {
     "name": "stderr",
     "output_type": "stream",
     "text": [
      " _findfont_cached1346|DEBUG: findfont: score(<Font 'Lucida Sans' (LSANSI.TTF) italic normal 400 normal>) = 11.05 [font_manager.py04/22:10:06]\n"
     ]
    },
    {
     "name": "stdout",
     "output_type": "stream",
     "text": [
      " _findfont_cached1346|10: findfont: score(<Font 'Myanmar Text' (mmrtext.ttf) normal normal 400 normal>) = 10.05 [font_manager.py04/22:10:06]\n"
     ]
    },
    {
     "name": "stderr",
     "output_type": "stream",
     "text": [
      " _findfont_cached1346|DEBUG: findfont: score(<Font 'Myanmar Text' (mmrtext.ttf) normal normal 400 normal>) = 10.05 [font_manager.py04/22:10:06]\n"
     ]
    },
    {
     "name": "stdout",
     "output_type": "stream",
     "text": [
      " _findfont_cached1346|10: findfont: score(<Font 'Century Gothic' (GOTHICI.TTF) italic normal 400 normal>) = 11.05 [font_manager.py04/22:10:06]\n"
     ]
    },
    {
     "name": "stderr",
     "output_type": "stream",
     "text": [
      " _findfont_cached1346|DEBUG: findfont: score(<Font 'Century Gothic' (GOTHICI.TTF) italic normal 400 normal>) = 11.05 [font_manager.py04/22:10:06]\n"
     ]
    },
    {
     "name": "stdout",
     "output_type": "stream",
     "text": [
      " _findfont_cached1346|10: findfont: score(<Font 'Noto Serif' (NotoSerif-Regular.ttf) normal normal 400 normal>) = 10.05 [font_manager.py04/22:10:06]\n"
     ]
    },
    {
     "name": "stderr",
     "output_type": "stream",
     "text": [
      " _findfont_cached1346|DEBUG: findfont: score(<Font 'Noto Serif' (NotoSerif-Regular.ttf) normal normal 400 normal>) = 10.05 [font_manager.py04/22:10:06]\n"
     ]
    },
    {
     "name": "stdout",
     "output_type": "stream",
     "text": [
      " _findfont_cached1346|10: findfont: score(<Font 'Source Serif Pro' (SourceSerifPro-ExtraLightIt.ttf) italic normal 200 normal>) = 11.24 [font_manager.py04/22:10:06]\n"
     ]
    },
    {
     "name": "stderr",
     "output_type": "stream",
     "text": [
      " _findfont_cached1346|DEBUG: findfont: score(<Font 'Source Serif Pro' (SourceSerifPro-ExtraLightIt.ttf) italic normal 200 normal>) = 11.24 [font_manager.py04/22:10:06]\n"
     ]
    },
    {
     "name": "stdout",
     "output_type": "stream",
     "text": [
      " _findfont_cached1346|10: findfont: score(<Font 'Eras Medium ITC' (ERASMD.TTF) normal normal 400 normal>) = 10.05 [font_manager.py04/22:10:06]\n"
     ]
    },
    {
     "name": "stderr",
     "output_type": "stream",
     "text": [
      " _findfont_cached1346|DEBUG: findfont: score(<Font 'Eras Medium ITC' (ERASMD.TTF) normal normal 400 normal>) = 10.05 [font_manager.py04/22:10:06]\n"
     ]
    },
    {
     "name": "stdout",
     "output_type": "stream",
     "text": [
      " _findfont_cached1346|10: findfont: score(<Font 'Source Code Pro' (SourceCodePro-Bold.ttf) normal normal 700 normal>) = 10.335 [font_manager.py04/22:10:06]\n"
     ]
    },
    {
     "name": "stderr",
     "output_type": "stream",
     "text": [
      " _findfont_cached1346|DEBUG: findfont: score(<Font 'Source Code Pro' (SourceCodePro-Bold.ttf) normal normal 700 normal>) = 10.335 [font_manager.py04/22:10:06]\n"
     ]
    },
    {
     "name": "stdout",
     "output_type": "stream",
     "text": [
      " _findfont_cached1346|10: findfont: score(<Font 'Consolas' (consolai.ttf) italic normal 400 normal>) = 11.05 [font_manager.py04/22:10:06]\n"
     ]
    },
    {
     "name": "stderr",
     "output_type": "stream",
     "text": [
      " _findfont_cached1346|DEBUG: findfont: score(<Font 'Consolas' (consolai.ttf) italic normal 400 normal>) = 11.05 [font_manager.py04/22:10:06]\n"
     ]
    },
    {
     "name": "stdout",
     "output_type": "stream",
     "text": [
      " _findfont_cached1346|10: findfont: score(<Font 'Goudy Stout' (GOUDYSTO.TTF) normal normal 400 normal>) = 10.05 [font_manager.py04/22:10:06]\n"
     ]
    },
    {
     "name": "stderr",
     "output_type": "stream",
     "text": [
      " _findfont_cached1346|DEBUG: findfont: score(<Font 'Goudy Stout' (GOUDYSTO.TTF) normal normal 400 normal>) = 10.05 [font_manager.py04/22:10:06]\n"
     ]
    },
    {
     "name": "stdout",
     "output_type": "stream",
     "text": [
      " _findfont_cached1346|10: findfont: score(<Font 'Carlito' (Carlito-Italic.ttf) italic normal 400 normal>) = 11.05 [font_manager.py04/22:10:06]\n"
     ]
    },
    {
     "name": "stderr",
     "output_type": "stream",
     "text": [
      " _findfont_cached1346|DEBUG: findfont: score(<Font 'Carlito' (Carlito-Italic.ttf) italic normal 400 normal>) = 11.05 [font_manager.py04/22:10:06]\n"
     ]
    },
    {
     "name": "stdout",
     "output_type": "stream",
     "text": [
      " _findfont_cached1346|10: findfont: score(<Font 'Elephant' (ELEPHNT.TTF) normal normal 400 normal>) = 10.05 [font_manager.py04/22:10:06]\n"
     ]
    },
    {
     "name": "stderr",
     "output_type": "stream",
     "text": [
      " _findfont_cached1346|DEBUG: findfont: score(<Font 'Elephant' (ELEPHNT.TTF) normal normal 400 normal>) = 10.05 [font_manager.py04/22:10:06]\n"
     ]
    },
    {
     "name": "stdout",
     "output_type": "stream",
     "text": [
      " _findfont_cached1346|10: findfont: score(<Font 'Broadway' (BROADW.TTF) normal normal 400 normal>) = 10.05 [font_manager.py04/22:10:06]\n"
     ]
    },
    {
     "name": "stderr",
     "output_type": "stream",
     "text": [
      " _findfont_cached1346|DEBUG: findfont: score(<Font 'Broadway' (BROADW.TTF) normal normal 400 normal>) = 10.05 [font_manager.py04/22:10:06]\n"
     ]
    },
    {
     "name": "stdout",
     "output_type": "stream",
     "text": [
      " _findfont_cached1346|10: findfont: score(<Font 'Noto Sans' (NotoSans-CondensedBold.ttf) normal normal 700 condensed>) = 10.535 [font_manager.py04/22:10:06]\n"
     ]
    },
    {
     "name": "stderr",
     "output_type": "stream",
     "text": [
      " _findfont_cached1346|DEBUG: findfont: score(<Font 'Noto Sans' (NotoSans-CondensedBold.ttf) normal normal 700 condensed>) = 10.535 [font_manager.py04/22:10:06]\n"
     ]
    },
    {
     "name": "stdout",
     "output_type": "stream",
     "text": [
      " _findfont_cached1346|10: findfont: score(<Font 'Scheherazade' (Scheherazade-Regular.ttf) normal normal 400 normal>) = 10.05 [font_manager.py04/22:10:06]\n"
     ]
    },
    {
     "name": "stderr",
     "output_type": "stream",
     "text": [
      " _findfont_cached1346|DEBUG: findfont: score(<Font 'Scheherazade' (Scheherazade-Regular.ttf) normal normal 400 normal>) = 10.05 [font_manager.py04/22:10:06]\n"
     ]
    },
    {
     "name": "stdout",
     "output_type": "stream",
     "text": [
      " _findfont_cached1346|10: findfont: score(<Font 'Liberation Sans Narrow' (LiberationSansNarrow-Regular.ttf) normal normal 400 condensed>) = 10.25 [font_manager.py04/22:10:06]\n"
     ]
    },
    {
     "name": "stderr",
     "output_type": "stream",
     "text": [
      " _findfont_cached1346|DEBUG: findfont: score(<Font 'Liberation Sans Narrow' (LiberationSansNarrow-Regular.ttf) normal normal 400 condensed>) = 10.25 [font_manager.py04/22:10:06]\n"
     ]
    },
    {
     "name": "stdout",
     "output_type": "stream",
     "text": [
      " _findfont_cached1346|10: findfont: score(<Font 'KaiTi' (simkai.ttf) normal normal 400 normal>) = 10.05 [font_manager.py04/22:10:06]\n"
     ]
    },
    {
     "name": "stderr",
     "output_type": "stream",
     "text": [
      " _findfont_cached1346|DEBUG: findfont: score(<Font 'KaiTi' (simkai.ttf) normal normal 400 normal>) = 10.05 [font_manager.py04/22:10:06]\n"
     ]
    },
    {
     "name": "stdout",
     "output_type": "stream",
     "text": [
      " _findfont_cached1346|10: findfont: score(<Font 'Noto Serif' (NotoSerif-CondensedItalic.ttf) italic normal 400 condensed>) = 11.25 [font_manager.py04/22:10:06]\n"
     ]
    },
    {
     "name": "stderr",
     "output_type": "stream",
     "text": [
      " _findfont_cached1346|DEBUG: findfont: score(<Font 'Noto Serif' (NotoSerif-CondensedItalic.ttf) italic normal 400 condensed>) = 11.25 [font_manager.py04/22:10:06]\n"
     ]
    },
    {
     "name": "stdout",
     "output_type": "stream",
     "text": [
      " _findfont_cached1346|10: findfont: score(<Font 'Nachlieli CLM' (NachlieliCLM-BoldOblique.otf) oblique normal 600 normal>) = 11.24 [font_manager.py04/22:10:06]\n"
     ]
    },
    {
     "name": "stderr",
     "output_type": "stream",
     "text": [
      " _findfont_cached1346|DEBUG: findfont: score(<Font 'Nachlieli CLM' (NachlieliCLM-BoldOblique.otf) oblique normal 600 normal>) = 11.24 [font_manager.py04/22:10:06]\n"
     ]
    },
    {
     "name": "stdout",
     "output_type": "stream",
     "text": [
      " _findfont_cached1346|10: findfont: score(<Font 'Engravers MT' (ENGR.TTF) normal normal 500 normal>) = 10.145 [font_manager.py04/22:10:06]\n"
     ]
    },
    {
     "name": "stderr",
     "output_type": "stream",
     "text": [
      " _findfont_cached1346|DEBUG: findfont: score(<Font 'Engravers MT' (ENGR.TTF) normal normal 500 normal>) = 10.145 [font_manager.py04/22:10:06]\n"
     ]
    },
    {
     "name": "stdout",
     "output_type": "stream",
     "text": [
      " _findfont_cached1346|10: findfont: score(<Font 'Rockwell Extra Bold' (ROCKEB.TTF) normal normal 800 normal>) = 10.43 [font_manager.py04/22:10:06]\n"
     ]
    },
    {
     "name": "stderr",
     "output_type": "stream",
     "text": [
      " _findfont_cached1346|DEBUG: findfont: score(<Font 'Rockwell Extra Bold' (ROCKEB.TTF) normal normal 800 normal>) = 10.43 [font_manager.py04/22:10:06]\n"
     ]
    },
    {
     "name": "stdout",
     "output_type": "stream",
     "text": [
      " _findfont_cached1346|10: findfont: score(<Font 'Noto Serif' (NotoSerif-Bold.ttf) normal normal 700 normal>) = 10.335 [font_manager.py04/22:10:06]\n"
     ]
    },
    {
     "name": "stderr",
     "output_type": "stream",
     "text": [
      " _findfont_cached1346|DEBUG: findfont: score(<Font 'Noto Serif' (NotoSerif-Bold.ttf) normal normal 700 normal>) = 10.335 [font_manager.py04/22:10:06]\n"
     ]
    },
    {
     "name": "stdout",
     "output_type": "stream",
     "text": [
      " _findfont_cached1346|10: findfont: score(<Font 'Microsoft YaHei' (msyh.ttc) normal normal 400 normal>) = 10.05 [font_manager.py04/22:10:06]\n"
     ]
    },
    {
     "name": "stderr",
     "output_type": "stream",
     "text": [
      " _findfont_cached1346|DEBUG: findfont: score(<Font 'Microsoft YaHei' (msyh.ttc) normal normal 400 normal>) = 10.05 [font_manager.py04/22:10:06]\n"
     ]
    },
    {
     "name": "stdout",
     "output_type": "stream",
     "text": [
      " _findfont_cached1346|10: findfont: score(<Font 'Lucida Bright' (LBRITEI.TTF) italic normal 400 normal>) = 11.05 [font_manager.py04/22:10:06]\n"
     ]
    },
    {
     "name": "stderr",
     "output_type": "stream",
     "text": [
      " _findfont_cached1346|DEBUG: findfont: score(<Font 'Lucida Bright' (LBRITEI.TTF) italic normal 400 normal>) = 11.05 [font_manager.py04/22:10:06]\n"
     ]
    },
    {
     "name": "stdout",
     "output_type": "stream",
     "text": [
      " _findfont_cached1346|10: findfont: score(<Font 'Malgun Gothic' (malgunsl.ttf) normal normal 300 normal>) = 10.145 [font_manager.py04/22:10:06]\n"
     ]
    },
    {
     "name": "stderr",
     "output_type": "stream",
     "text": [
      " _findfont_cached1346|DEBUG: findfont: score(<Font 'Malgun Gothic' (malgunsl.ttf) normal normal 300 normal>) = 10.145 [font_manager.py04/22:10:06]\n"
     ]
    },
    {
     "name": "stdout",
     "output_type": "stream",
     "text": [
      " _findfont_cached1346|10: findfont: score(<Font 'MV Boli' (mvboli.ttf) normal normal 400 normal>) = 10.05 [font_manager.py04/22:10:06]\n"
     ]
    },
    {
     "name": "stderr",
     "output_type": "stream",
     "text": [
      " _findfont_cached1346|DEBUG: findfont: score(<Font 'MV Boli' (mvboli.ttf) normal normal 400 normal>) = 10.05 [font_manager.py04/22:10:06]\n"
     ]
    },
    {
     "name": "stdout",
     "output_type": "stream",
     "text": [
      " _findfont_cached1346|10: findfont: score(<Font 'Noto Serif Georgian' (NotoSerifGeorgian-Regular.ttf) normal normal 400 normal>) = 10.05 [font_manager.py04/22:10:06]\n"
     ]
    },
    {
     "name": "stderr",
     "output_type": "stream",
     "text": [
      " _findfont_cached1346|DEBUG: findfont: score(<Font 'Noto Serif Georgian' (NotoSerifGeorgian-Regular.ttf) normal normal 400 normal>) = 10.05 [font_manager.py04/22:10:06]\n"
     ]
    },
    {
     "name": "stdout",
     "output_type": "stream",
     "text": [
      " _findfont_cached1346|10: findfont: score(<Font 'DejaVu Sans' (DejaVuSans-Oblique.ttf) oblique normal 400 normal>) = 1.05 [font_manager.py04/22:10:06]\n"
     ]
    },
    {
     "name": "stderr",
     "output_type": "stream",
     "text": [
      " _findfont_cached1346|DEBUG: findfont: score(<Font 'DejaVu Sans' (DejaVuSans-Oblique.ttf) oblique normal 400 normal>) = 1.05 [font_manager.py04/22:10:06]\n"
     ]
    },
    {
     "name": "stdout",
     "output_type": "stream",
     "text": [
      " _findfont_cached1346|10: findfont: score(<Font 'Rockwell Condensed' (ROCCB___.TTF) normal normal 700 condensed>) = 10.535 [font_manager.py04/22:10:06]\n"
     ]
    },
    {
     "name": "stderr",
     "output_type": "stream",
     "text": [
      " _findfont_cached1346|DEBUG: findfont: score(<Font 'Rockwell Condensed' (ROCCB___.TTF) normal normal 700 condensed>) = 10.535 [font_manager.py04/22:10:06]\n"
     ]
    },
    {
     "name": "stdout",
     "output_type": "stream",
     "text": [
      " _findfont_cached1346|10: findfont: score(<Font 'Gill Sans MT Ext Condensed Bold' (GLSNECB.TTF) normal normal 400 condensed>) = 10.25 [font_manager.py04/22:10:06]\n"
     ]
    },
    {
     "name": "stderr",
     "output_type": "stream",
     "text": [
      " _findfont_cached1346|DEBUG: findfont: score(<Font 'Gill Sans MT Ext Condensed Bold' (GLSNECB.TTF) normal normal 400 condensed>) = 10.25 [font_manager.py04/22:10:06]\n"
     ]
    },
    {
     "name": "stdout",
     "output_type": "stream",
     "text": [
      " _findfont_cached1346|10: findfont: score(<Font 'Miriam Libre' (MiriamLibre-Bold.otf) normal normal 700 normal>) = 10.335 [font_manager.py04/22:10:06]\n"
     ]
    },
    {
     "name": "stderr",
     "output_type": "stream",
     "text": [
      " _findfont_cached1346|DEBUG: findfont: score(<Font 'Miriam Libre' (MiriamLibre-Bold.otf) normal normal 700 normal>) = 10.335 [font_manager.py04/22:10:06]\n"
     ]
    },
    {
     "name": "stdout",
     "output_type": "stream",
     "text": [
      " _findfont_cached1346|10: findfont: score(<Font 'Modern No. 20' (MOD20.TTF) normal normal 400 normal>) = 10.05 [font_manager.py04/22:10:06]\n"
     ]
    },
    {
     "name": "stderr",
     "output_type": "stream",
     "text": [
      " _findfont_cached1346|DEBUG: findfont: score(<Font 'Modern No. 20' (MOD20.TTF) normal normal 400 normal>) = 10.05 [font_manager.py04/22:10:06]\n"
     ]
    },
    {
     "name": "stdout",
     "output_type": "stream",
     "text": [
      " _findfont_cached1346|10: findfont: score(<Font 'Microsoft JhengHei' (msjhbd.ttc) normal normal 700 normal>) = 10.335 [font_manager.py04/22:10:06]\n"
     ]
    },
    {
     "name": "stderr",
     "output_type": "stream",
     "text": [
      " _findfont_cached1346|DEBUG: findfont: score(<Font 'Microsoft JhengHei' (msjhbd.ttc) normal normal 700 normal>) = 10.335 [font_manager.py04/22:10:06]\n"
     ]
    },
    {
     "name": "stdout",
     "output_type": "stream",
     "text": [
      " _findfont_cached1346|10: findfont: score(<Font 'Microsoft PhagsPa' (phagspab.ttf) normal normal 700 normal>) = 10.335 [font_manager.py04/22:10:06]\n"
     ]
    },
    {
     "name": "stderr",
     "output_type": "stream",
     "text": [
      " _findfont_cached1346|DEBUG: findfont: score(<Font 'Microsoft PhagsPa' (phagspab.ttf) normal normal 700 normal>) = 10.335 [font_manager.py04/22:10:06]\n"
     ]
    },
    {
     "name": "stdout",
     "output_type": "stream",
     "text": [
      " _findfont_cached1346|10: findfont: score(<Font 'Frank Ruehl CLM' (FrankRuehlCLM-Bold.ttf) normal normal 700 normal>) = 10.335 [font_manager.py04/22:10:06]\n"
     ]
    },
    {
     "name": "stderr",
     "output_type": "stream",
     "text": [
      " _findfont_cached1346|DEBUG: findfont: score(<Font 'Frank Ruehl CLM' (FrankRuehlCLM-Bold.ttf) normal normal 700 normal>) = 10.335 [font_manager.py04/22:10:06]\n"
     ]
    },
    {
     "name": "stdout",
     "output_type": "stream",
     "text": [
      " _findfont_cached1346|10: findfont: score(<Font 'Noto Kufi Arabic' (NotoKufiArabic-Bold.ttf) normal normal 700 normal>) = 10.335 [font_manager.py04/22:10:06]\n"
     ]
    },
    {
     "name": "stderr",
     "output_type": "stream",
     "text": [
      " _findfont_cached1346|DEBUG: findfont: score(<Font 'Noto Kufi Arabic' (NotoKufiArabic-Bold.ttf) normal normal 700 normal>) = 10.335 [font_manager.py04/22:10:06]\n"
     ]
    },
    {
     "name": "stdout",
     "output_type": "stream",
     "text": [
      " _findfont_cached1346|10: findfont: score(<Font 'HoloLens MDL2 Assets' (holomdl2.ttf) normal normal 400 normal>) = 10.05 [font_manager.py04/22:10:06]\n"
     ]
    },
    {
     "name": "stderr",
     "output_type": "stream",
     "text": [
      " _findfont_cached1346|DEBUG: findfont: score(<Font 'HoloLens MDL2 Assets' (holomdl2.ttf) normal normal 400 normal>) = 10.05 [font_manager.py04/22:10:06]\n"
     ]
    },
    {
     "name": "stdout",
     "output_type": "stream",
     "text": [
      " _findfont_cached1346|10: findfont: score(<Font 'David CLM' (DavidCLM-MediumItalic.ttf) italic normal 500 normal>) = 11.145 [font_manager.py04/22:10:06]\n"
     ]
    },
    {
     "name": "stderr",
     "output_type": "stream",
     "text": [
      " _findfont_cached1346|DEBUG: findfont: score(<Font 'David CLM' (DavidCLM-MediumItalic.ttf) italic normal 500 normal>) = 11.145 [font_manager.py04/22:10:06]\n"
     ]
    },
    {
     "name": "stdout",
     "output_type": "stream",
     "text": [
      " _findfont_cached1346|10: findfont: score(<Font 'Miriam Mono CLM' (MiriamMonoCLM-Bold.ttf) normal normal 700 normal>) = 10.335 [font_manager.py04/22:10:06]\n"
     ]
    },
    {
     "name": "stderr",
     "output_type": "stream",
     "text": [
      " _findfont_cached1346|DEBUG: findfont: score(<Font 'Miriam Mono CLM' (MiriamMonoCLM-Bold.ttf) normal normal 700 normal>) = 10.335 [font_manager.py04/22:10:06]\n"
     ]
    },
    {
     "name": "stdout",
     "output_type": "stream",
     "text": [
      " _findfont_cached1346|10: findfont: score(<Font 'Source Serif Pro' (SourceSerifPro-SemiboldIt.ttf) italic normal 600 normal>) = 11.24 [font_manager.py04/22:10:06]\n"
     ]
    },
    {
     "name": "stderr",
     "output_type": "stream",
     "text": [
      " _findfont_cached1346|DEBUG: findfont: score(<Font 'Source Serif Pro' (SourceSerifPro-SemiboldIt.ttf) italic normal 600 normal>) = 11.24 [font_manager.py04/22:10:06]\n"
     ]
    },
    {
     "name": "stdout",
     "output_type": "stream",
     "text": [
      " _findfont_cached1346|10: findfont: score(<Font 'Comic Sans MS' (comicz.ttf) italic normal 700 normal>) = 11.335 [font_manager.py04/22:10:06]\n"
     ]
    },
    {
     "name": "stderr",
     "output_type": "stream",
     "text": [
      " _findfont_cached1346|DEBUG: findfont: score(<Font 'Comic Sans MS' (comicz.ttf) italic normal 700 normal>) = 11.335 [font_manager.py04/22:10:06]\n"
     ]
    },
    {
     "name": "stdout",
     "output_type": "stream",
     "text": [
      " _findfont_cached1346|10: findfont: score(<Font 'Rockwell Condensed' (ROCCB___.TTF) normal normal 700 condensed>) = 10.535 [font_manager.py04/22:10:06]\n"
     ]
    },
    {
     "name": "stderr",
     "output_type": "stream",
     "text": [
      " _findfont_cached1346|DEBUG: findfont: score(<Font 'Rockwell Condensed' (ROCCB___.TTF) normal normal 700 condensed>) = 10.535 [font_manager.py04/22:10:06]\n"
     ]
    },
    {
     "name": "stdout",
     "output_type": "stream",
     "text": [
      " _findfont_cached1346|10: findfont: score(<Font 'Dubai' (DUBAI-REGULAR.TTF) normal normal 400 normal>) = 10.05 [font_manager.py04/22:10:06]\n"
     ]
    },
    {
     "name": "stderr",
     "output_type": "stream",
     "text": [
      " _findfont_cached1346|DEBUG: findfont: score(<Font 'Dubai' (DUBAI-REGULAR.TTF) normal normal 400 normal>) = 10.05 [font_manager.py04/22:10:06]\n"
     ]
    },
    {
     "name": "stdout",
     "output_type": "stream",
     "text": [
      " _findfont_cached1346|10: findfont: score(<Font 'Showcard Gothic' (SHOWG.TTF) normal normal 400 normal>) = 10.05 [font_manager.py04/22:10:06]\n"
     ]
    },
    {
     "name": "stderr",
     "output_type": "stream",
     "text": [
      " _findfont_cached1346|DEBUG: findfont: score(<Font 'Showcard Gothic' (SHOWG.TTF) normal normal 400 normal>) = 10.05 [font_manager.py04/22:10:06]\n"
     ]
    },
    {
     "name": "stdout",
     "output_type": "stream",
     "text": [
      " _findfont_cached1346|10: findfont: score(<Font 'chs_boot' (chs_boot.ttf) normal normal 400 normal>) = 10.05 [font_manager.py04/22:10:06]\n"
     ]
    },
    {
     "name": "stderr",
     "output_type": "stream",
     "text": [
      " _findfont_cached1346|DEBUG: findfont: score(<Font 'chs_boot' (chs_boot.ttf) normal normal 400 normal>) = 10.05 [font_manager.py04/22:10:06]\n"
     ]
    },
    {
     "name": "stdout",
     "output_type": "stream",
     "text": [
      " _findfont_cached1346|10: findfont: score(<Font 'Century Gothic' (GOTHIC.TTF) normal normal 400 normal>) = 10.05 [font_manager.py04/22:10:06]\n"
     ]
    },
    {
     "name": "stderr",
     "output_type": "stream",
     "text": [
      " _findfont_cached1346|DEBUG: findfont: score(<Font 'Century Gothic' (GOTHIC.TTF) normal normal 400 normal>) = 10.05 [font_manager.py04/22:10:06]\n"
     ]
    },
    {
     "name": "stdout",
     "output_type": "stream",
     "text": [
      " _findfont_cached1346|10: findfont: score(<Font 'Berlin Sans FB' (BRLNSB.TTF) normal normal 700 normal>) = 10.335 [font_manager.py04/22:10:06]\n"
     ]
    },
    {
     "name": "stderr",
     "output_type": "stream",
     "text": [
      " _findfont_cached1346|DEBUG: findfont: score(<Font 'Berlin Sans FB' (BRLNSB.TTF) normal normal 700 normal>) = 10.335 [font_manager.py04/22:10:06]\n"
     ]
    },
    {
     "name": "stdout",
     "output_type": "stream",
     "text": [
      " _findfont_cached1346|10: findfont: score(<Font 'Wingdings 2' (WINGDNG2.TTF) normal normal 400 normal>) = 10.05 [font_manager.py04/22:10:06]\n"
     ]
    },
    {
     "name": "stderr",
     "output_type": "stream",
     "text": [
      " _findfont_cached1346|DEBUG: findfont: score(<Font 'Wingdings 2' (WINGDNG2.TTF) normal normal 400 normal>) = 10.05 [font_manager.py04/22:10:06]\n"
     ]
    },
    {
     "name": "stdout",
     "output_type": "stream",
     "text": [
      " _findfont_cached1346|10: findfont: score(<Font 'Liberation Mono' (LiberationMono-Italic.ttf) italic normal 400 normal>) = 11.05 [font_manager.py04/22:10:06]\n"
     ]
    },
    {
     "name": "stderr",
     "output_type": "stream",
     "text": [
      " _findfont_cached1346|DEBUG: findfont: score(<Font 'Liberation Mono' (LiberationMono-Italic.ttf) italic normal 400 normal>) = 11.05 [font_manager.py04/22:10:06]\n"
     ]
    },
    {
     "name": "stdout",
     "output_type": "stream",
     "text": [
      " _findfont_cached1346|10: findfont: score(<Font 'Mistral' (MISTRAL.TTF) normal normal 400 normal>) = 10.05 [font_manager.py04/22:10:06]\n"
     ]
    },
    {
     "name": "stderr",
     "output_type": "stream",
     "text": [
      " _findfont_cached1346|DEBUG: findfont: score(<Font 'Mistral' (MISTRAL.TTF) normal normal 400 normal>) = 10.05 [font_manager.py04/22:10:06]\n"
     ]
    },
    {
     "name": "stdout",
     "output_type": "stream",
     "text": [
      " _findfont_cached1346|10: findfont: score(<Font 'Segoe MDL2 Assets' (segmdl2.ttf) normal normal 400 normal>) = 10.05 [font_manager.py04/22:10:06]\n"
     ]
    },
    {
     "name": "stderr",
     "output_type": "stream",
     "text": [
      " _findfont_cached1346|DEBUG: findfont: score(<Font 'Segoe MDL2 Assets' (segmdl2.ttf) normal normal 400 normal>) = 10.05 [font_manager.py04/22:10:06]\n"
     ]
    },
    {
     "name": "stdout",
     "output_type": "stream",
     "text": [
      " _findfont_cached1346|10: findfont: score(<Font 'Linux Libertine G' (LinLibertine_RZI_G.ttf) italic normal 600 normal>) = 11.24 [font_manager.py04/22:10:06]\n"
     ]
    },
    {
     "name": "stderr",
     "output_type": "stream",
     "text": [
      " _findfont_cached1346|DEBUG: findfont: score(<Font 'Linux Libertine G' (LinLibertine_RZI_G.ttf) italic normal 600 normal>) = 11.24 [font_manager.py04/22:10:06]\n"
     ]
    },
    {
     "name": "stdout",
     "output_type": "stream",
     "text": [
      " _findfont_cached1346|10: findfont: score(<Font 'Scheherazade' (Scheherazade-Regular.ttf) normal normal 400 normal>) = 10.05 [font_manager.py04/22:10:06]\n"
     ]
    },
    {
     "name": "stderr",
     "output_type": "stream",
     "text": [
      " _findfont_cached1346|DEBUG: findfont: score(<Font 'Scheherazade' (Scheherazade-Regular.ttf) normal normal 400 normal>) = 10.05 [font_manager.py04/22:10:06]\n"
     ]
    },
    {
     "name": "stdout",
     "output_type": "stream",
     "text": [
      " _findfont_cached1346|10: findfont: score(<Font 'DejaVu Serif' (DejaVuSerifCondensed.ttf) normal normal 400 condensed>) = 10.25 [font_manager.py04/22:10:06]\n"
     ]
    },
    {
     "name": "stderr",
     "output_type": "stream",
     "text": [
      " _findfont_cached1346|DEBUG: findfont: score(<Font 'DejaVu Serif' (DejaVuSerifCondensed.ttf) normal normal 400 condensed>) = 10.25 [font_manager.py04/22:10:06]\n"
     ]
    },
    {
     "name": "stdout",
     "output_type": "stream",
     "text": [
      " _findfont_cached1346|10: findfont: score(<Font 'Gill Sans Ultra Bold' (GILSANUB.TTF) normal normal 400 normal>) = 10.05 [font_manager.py04/22:10:06]\n"
     ]
    },
    {
     "name": "stderr",
     "output_type": "stream",
     "text": [
      " _findfont_cached1346|DEBUG: findfont: score(<Font 'Gill Sans Ultra Bold' (GILSANUB.TTF) normal normal 400 normal>) = 10.05 [font_manager.py04/22:10:06]\n"
     ]
    },
    {
     "name": "stdout",
     "output_type": "stream",
     "text": [
      " _findfont_cached1346|10: findfont: score(<Font 'Showcard Gothic' (SHOWG.TTF) normal normal 400 normal>) = 10.05 [font_manager.py04/22:10:06]\n"
     ]
    },
    {
     "name": "stderr",
     "output_type": "stream",
     "text": [
      " _findfont_cached1346|DEBUG: findfont: score(<Font 'Showcard Gothic' (SHOWG.TTF) normal normal 400 normal>) = 10.05 [font_manager.py04/22:10:06]\n"
     ]
    },
    {
     "name": "stdout",
     "output_type": "stream",
     "text": [
      " _findfont_cached1346|10: findfont: score(<Font 'Noto Sans Armenian' (NotoSansArmenian-Regular.ttf) normal normal 400 normal>) = 10.05 [font_manager.py04/22:10:06]\n"
     ]
    },
    {
     "name": "stderr",
     "output_type": "stream",
     "text": [
      " _findfont_cached1346|DEBUG: findfont: score(<Font 'Noto Sans Armenian' (NotoSansArmenian-Regular.ttf) normal normal 400 normal>) = 10.05 [font_manager.py04/22:10:06]\n"
     ]
    },
    {
     "name": "stdout",
     "output_type": "stream",
     "text": [
      " _findfont_cached1346|10: findfont: score(<Font 'Source Code Pro' (SourceCodePro-ExtraLightIt.ttf) italic normal 200 normal>) = 11.24 [font_manager.py04/22:10:06]\n"
     ]
    },
    {
     "name": "stderr",
     "output_type": "stream",
     "text": [
      " _findfont_cached1346|DEBUG: findfont: score(<Font 'Source Code Pro' (SourceCodePro-ExtraLightIt.ttf) italic normal 200 normal>) = 11.24 [font_manager.py04/22:10:06]\n"
     ]
    },
    {
     "name": "stdout",
     "output_type": "stream",
     "text": [
      " _findfont_cached1346|10: findfont: score(<Font 'Corbel' (corbel.ttf) normal normal 400 normal>) = 10.05 [font_manager.py04/22:10:06]\n"
     ]
    },
    {
     "name": "stderr",
     "output_type": "stream",
     "text": [
      " _findfont_cached1346|DEBUG: findfont: score(<Font 'Corbel' (corbel.ttf) normal normal 400 normal>) = 10.05 [font_manager.py04/22:10:06]\n"
     ]
    },
    {
     "name": "stdout",
     "output_type": "stream",
     "text": [
      " _findfont_cached1346|10: findfont: score(<Font 'Amiri' (Amiri-Regular.ttf) normal normal 400 normal>) = 10.05 [font_manager.py04/22:10:06]\n"
     ]
    },
    {
     "name": "stderr",
     "output_type": "stream",
     "text": [
      " _findfont_cached1346|DEBUG: findfont: score(<Font 'Amiri' (Amiri-Regular.ttf) normal normal 400 normal>) = 10.05 [font_manager.py04/22:10:06]\n"
     ]
    },
    {
     "name": "stdout",
     "output_type": "stream",
     "text": [
      " _findfont_cached1346|10: findfont: score(<Font 'Linux Libertine G' (LinLibertine_RB_G.ttf) normal normal 700 normal>) = 10.335 [font_manager.py04/22:10:06]\n"
     ]
    },
    {
     "name": "stderr",
     "output_type": "stream",
     "text": [
      " _findfont_cached1346|DEBUG: findfont: score(<Font 'Linux Libertine G' (LinLibertine_RB_G.ttf) normal normal 700 normal>) = 10.335 [font_manager.py04/22:10:06]\n"
     ]
    },
    {
     "name": "stdout",
     "output_type": "stream",
     "text": [
      " _findfont_cached1346|10: findfont: score(<Font 'Courier New' (courbd.ttf) normal normal 700 normal>) = 10.335 [font_manager.py04/22:10:06]\n"
     ]
    },
    {
     "name": "stderr",
     "output_type": "stream",
     "text": [
      " _findfont_cached1346|DEBUG: findfont: score(<Font 'Courier New' (courbd.ttf) normal normal 700 normal>) = 10.335 [font_manager.py04/22:10:06]\n"
     ]
    },
    {
     "name": "stdout",
     "output_type": "stream",
     "text": [
      " _findfont_cached1346|10: findfont: score(<Font 'Rubik' (Rubik-Regular.ttf) normal normal 400 normal>) = 10.05 [font_manager.py04/22:10:06]\n"
     ]
    },
    {
     "name": "stderr",
     "output_type": "stream",
     "text": [
      " _findfont_cached1346|DEBUG: findfont: score(<Font 'Rubik' (Rubik-Regular.ttf) normal normal 400 normal>) = 10.05 [font_manager.py04/22:10:06]\n"
     ]
    },
    {
     "name": "stdout",
     "output_type": "stream",
     "text": [
      " _findfont_cached1346|10: findfont: score(<Font 'Source Code Pro' (SourceCodePro-Regular.ttf) normal normal 400 normal>) = 10.05 [font_manager.py04/22:10:06]\n"
     ]
    },
    {
     "name": "stderr",
     "output_type": "stream",
     "text": [
      " _findfont_cached1346|DEBUG: findfont: score(<Font 'Source Code Pro' (SourceCodePro-Regular.ttf) normal normal 400 normal>) = 10.05 [font_manager.py04/22:10:06]\n"
     ]
    },
    {
     "name": "stdout",
     "output_type": "stream",
     "text": [
      " _findfont_cached1346|10: findfont: score(<Font 'Miriam CLM' (MiriamCLM-Book.ttf) normal normal 400 normal>) = 10.05 [font_manager.py04/22:10:06]\n"
     ]
    },
    {
     "name": "stderr",
     "output_type": "stream",
     "text": [
      " _findfont_cached1346|DEBUG: findfont: score(<Font 'Miriam CLM' (MiriamCLM-Book.ttf) normal normal 400 normal>) = 10.05 [font_manager.py04/22:10:06]\n"
     ]
    },
    {
     "name": "stdout",
     "output_type": "stream",
     "text": [
      " _findfont_cached1346|10: findfont: score(<Font 'Noto Serif' (NotoSerif-CondensedBold.ttf) normal normal 700 condensed>) = 10.535 [font_manager.py04/22:10:06]\n"
     ]
    },
    {
     "name": "stderr",
     "output_type": "stream",
     "text": [
      " _findfont_cached1346|DEBUG: findfont: score(<Font 'Noto Serif' (NotoSerif-CondensedBold.ttf) normal normal 700 condensed>) = 10.535 [font_manager.py04/22:10:06]\n"
     ]
    },
    {
     "name": "stdout",
     "output_type": "stream",
     "text": [
      " _findfont_cached1346|10: findfont: score(<Font 'Liberation Serif' (LiberationSerif-Regular.ttf) normal normal 400 normal>) = 10.05 [font_manager.py04/22:10:06]\n"
     ]
    },
    {
     "name": "stderr",
     "output_type": "stream",
     "text": [
      " _findfont_cached1346|DEBUG: findfont: score(<Font 'Liberation Serif' (LiberationSerif-Regular.ttf) normal normal 400 normal>) = 10.05 [font_manager.py04/22:10:06]\n"
     ]
    },
    {
     "name": "stdout",
     "output_type": "stream",
     "text": [
      " _findfont_cached1346|10: findfont: score(<Font 'Source Serif Pro' (SourceSerifPro-ExtraLight.ttf) normal normal 200 normal>) = 10.24 [font_manager.py04/22:10:06]\n"
     ]
    },
    {
     "name": "stderr",
     "output_type": "stream",
     "text": [
      " _findfont_cached1346|DEBUG: findfont: score(<Font 'Source Serif Pro' (SourceSerifPro-ExtraLight.ttf) normal normal 200 normal>) = 10.24 [font_manager.py04/22:10:06]\n"
     ]
    },
    {
     "name": "stdout",
     "output_type": "stream",
     "text": [
      " _findfont_cached1346|10: findfont: score(<Font 'DejaVu Sans' (DejaVuSansCondensed-Oblique.ttf) oblique normal 400 condensed>) = 1.25 [font_manager.py04/22:10:06]\n"
     ]
    },
    {
     "name": "stderr",
     "output_type": "stream",
     "text": [
      " _findfont_cached1346|DEBUG: findfont: score(<Font 'DejaVu Sans' (DejaVuSansCondensed-Oblique.ttf) oblique normal 400 condensed>) = 1.25 [font_manager.py04/22:10:06]\n"
     ]
    },
    {
     "name": "stdout",
     "output_type": "stream",
     "text": [
      " _findfont_cached1346|10: findfont: score(<Font 'Tw Cen MT' (TCB_____.TTF) normal normal 700 normal>) = 10.335 [font_manager.py04/22:10:06]\n"
     ]
    },
    {
     "name": "stderr",
     "output_type": "stream",
     "text": [
      " _findfont_cached1346|DEBUG: findfont: score(<Font 'Tw Cen MT' (TCB_____.TTF) normal normal 700 normal>) = 10.335 [font_manager.py04/22:10:06]\n"
     ]
    },
    {
     "name": "stdout",
     "output_type": "stream",
     "text": [
      " _findfont_cached1346|10: findfont: score(<Font 'Gill Sans Ultra Bold Condensed' (GILLUBCD.TTF) normal normal 400 condensed>) = 10.25 [font_manager.py04/22:10:06]\n"
     ]
    },
    {
     "name": "stderr",
     "output_type": "stream",
     "text": [
      " _findfont_cached1346|DEBUG: findfont: score(<Font 'Gill Sans Ultra Bold Condensed' (GILLUBCD.TTF) normal normal 400 condensed>) = 10.25 [font_manager.py04/22:10:06]\n"
     ]
    },
    {
     "name": "stdout",
     "output_type": "stream",
     "text": [
      " _findfont_cached1346|10: findfont: score(<Font 'Gill Sans MT' (GIL_____.TTF) normal normal 400 normal>) = 10.05 [font_manager.py04/22:10:06]\n"
     ]
    },
    {
     "name": "stderr",
     "output_type": "stream",
     "text": [
      " _findfont_cached1346|DEBUG: findfont: score(<Font 'Gill Sans MT' (GIL_____.TTF) normal normal 400 normal>) = 10.05 [font_manager.py04/22:10:06]\n"
     ]
    },
    {
     "name": "stdout",
     "output_type": "stream",
     "text": [
      " _findfont_cached1346|10: findfont: score(<Font 'Goudy Old Style' (GOUDOS.TTF) normal normal 400 normal>) = 10.05 [font_manager.py04/22:10:06]\n"
     ]
    },
    {
     "name": "stderr",
     "output_type": "stream",
     "text": [
      " _findfont_cached1346|DEBUG: findfont: score(<Font 'Goudy Old Style' (GOUDOS.TTF) normal normal 400 normal>) = 10.05 [font_manager.py04/22:10:06]\n"
     ]
    },
    {
     "name": "stdout",
     "output_type": "stream",
     "text": [
      " _findfont_cached1346|10: findfont: score(<Font 'Segoe UI Symbol' (seguisym.ttf) normal normal 400 normal>) = 10.05 [font_manager.py04/22:10:06]\n"
     ]
    },
    {
     "name": "stderr",
     "output_type": "stream",
     "text": [
      " _findfont_cached1346|DEBUG: findfont: score(<Font 'Segoe UI Symbol' (seguisym.ttf) normal normal 400 normal>) = 10.05 [font_manager.py04/22:10:06]\n"
     ]
    },
    {
     "name": "stdout",
     "output_type": "stream",
     "text": [
      " _findfont_cached1346|10: findfont: score(<Font 'Lucida Sans Unicode' (l_10646.ttf) normal normal 400 normal>) = 10.05 [font_manager.py04/22:10:06]\n"
     ]
    },
    {
     "name": "stderr",
     "output_type": "stream",
     "text": [
      " _findfont_cached1346|DEBUG: findfont: score(<Font 'Lucida Sans Unicode' (l_10646.ttf) normal normal 400 normal>) = 10.05 [font_manager.py04/22:10:06]\n"
     ]
    },
    {
     "name": "stdout",
     "output_type": "stream",
     "text": [
      " _findfont_cached1346|10: findfont: score(<Font 'Microsoft Himalaya' (himalaya.ttf) normal normal 400 normal>) = 10.05 [font_manager.py04/22:10:06]\n"
     ]
    },
    {
     "name": "stderr",
     "output_type": "stream",
     "text": [
      " _findfont_cached1346|DEBUG: findfont: score(<Font 'Microsoft Himalaya' (himalaya.ttf) normal normal 400 normal>) = 10.05 [font_manager.py04/22:10:06]\n"
     ]
    },
    {
     "name": "stdout",
     "output_type": "stream",
     "text": [
      " _findfont_cached1346|10: findfont: score(<Font 'Ravie' (RAVIE.TTF) normal normal 400 normal>) = 10.05 [font_manager.py04/22:10:06]\n"
     ]
    },
    {
     "name": "stderr",
     "output_type": "stream",
     "text": [
      " _findfont_cached1346|DEBUG: findfont: score(<Font 'Ravie' (RAVIE.TTF) normal normal 400 normal>) = 10.05 [font_manager.py04/22:10:06]\n"
     ]
    },
    {
     "name": "stdout",
     "output_type": "stream",
     "text": [
      " _findfont_cached1346|10: findfont: score(<Font 'Noto Serif' (NotoSerif-Condensed.ttf) normal normal 400 condensed>) = 10.25 [font_manager.py04/22:10:06]\n"
     ]
    },
    {
     "name": "stderr",
     "output_type": "stream",
     "text": [
      " _findfont_cached1346|DEBUG: findfont: score(<Font 'Noto Serif' (NotoSerif-Condensed.ttf) normal normal 400 condensed>) = 10.25 [font_manager.py04/22:10:06]\n"
     ]
    },
    {
     "name": "stdout",
     "output_type": "stream",
     "text": [
      " _findfont_cached1346|10: findfont: score(<Font 'Bell MT' (BELL.TTF) normal normal 400 normal>) = 10.05 [font_manager.py04/22:10:06]\n"
     ]
    },
    {
     "name": "stderr",
     "output_type": "stream",
     "text": [
      " _findfont_cached1346|DEBUG: findfont: score(<Font 'Bell MT' (BELL.TTF) normal normal 400 normal>) = 10.05 [font_manager.py04/22:10:06]\n"
     ]
    },
    {
     "name": "stdout",
     "output_type": "stream",
     "text": [
      " _findfont_cached1346|10: findfont: score(<Font 'Amiri' (Amiri-Bold.ttf) normal normal 700 normal>) = 10.335 [font_manager.py04/22:10:06]\n"
     ]
    },
    {
     "name": "stderr",
     "output_type": "stream",
     "text": [
      " _findfont_cached1346|DEBUG: findfont: score(<Font 'Amiri' (Amiri-Bold.ttf) normal normal 700 normal>) = 10.335 [font_manager.py04/22:10:06]\n"
     ]
    },
    {
     "name": "stdout",
     "output_type": "stream",
     "text": [
      " _findfont_cached1346|10: findfont: score(<Font 'Linux Libertine G' (LinLibertine_RI_G.ttf) italic normal 400 normal>) = 11.05 [font_manager.py04/22:10:06]\n"
     ]
    },
    {
     "name": "stderr",
     "output_type": "stream",
     "text": [
      " _findfont_cached1346|DEBUG: findfont: score(<Font 'Linux Libertine G' (LinLibertine_RI_G.ttf) italic normal 400 normal>) = 11.05 [font_manager.py04/22:10:06]\n"
     ]
    },
    {
     "name": "stdout",
     "output_type": "stream",
     "text": [
      " _findfont_cached1346|10: findfont: score(<Font 'Bahnschrift' (bahnschrift.ttf) normal normal 400 normal>) = 10.05 [font_manager.py04/22:10:06]\n"
     ]
    },
    {
     "name": "stderr",
     "output_type": "stream",
     "text": [
      " _findfont_cached1346|DEBUG: findfont: score(<Font 'Bahnschrift' (bahnschrift.ttf) normal normal 400 normal>) = 10.05 [font_manager.py04/22:10:06]\n"
     ]
    },
    {
     "name": "stdout",
     "output_type": "stream",
     "text": [
      " _findfont_cached1346|10: findfont: score(<Font 'Kunstler Script' (KUNSTLER.TTF) normal normal 400 normal>) = 10.05 [font_manager.py04/22:10:06]\n"
     ]
    },
    {
     "name": "stderr",
     "output_type": "stream",
     "text": [
      " _findfont_cached1346|DEBUG: findfont: score(<Font 'Kunstler Script' (KUNSTLER.TTF) normal normal 400 normal>) = 10.05 [font_manager.py04/22:10:06]\n"
     ]
    },
    {
     "name": "stdout",
     "output_type": "stream",
     "text": [
      " _findfont_cached1346|10: findfont: score(<Font 'Microsoft Tai Le' (taile.ttf) normal normal 400 normal>) = 10.05 [font_manager.py04/22:10:06]\n"
     ]
    },
    {
     "name": "stderr",
     "output_type": "stream",
     "text": [
      " _findfont_cached1346|DEBUG: findfont: score(<Font 'Microsoft Tai Le' (taile.ttf) normal normal 400 normal>) = 10.05 [font_manager.py04/22:10:06]\n"
     ]
    },
    {
     "name": "stdout",
     "output_type": "stream",
     "text": [
      " _findfont_cached1346|10: findfont: score(<Font 'Alef' (Alef-Regular.ttf) normal normal 400 normal>) = 10.05 [font_manager.py04/22:10:06]\n"
     ]
    },
    {
     "name": "stderr",
     "output_type": "stream",
     "text": [
      " _findfont_cached1346|DEBUG: findfont: score(<Font 'Alef' (Alef-Regular.ttf) normal normal 400 normal>) = 10.05 [font_manager.py04/22:10:06]\n"
     ]
    },
    {
     "name": "stdout",
     "output_type": "stream",
     "text": [
      " _findfont_cached1346|10: findfont: score(<Font 'Rage Italic' (RAGE.TTF) italic normal 400 normal>) = 11.05 [font_manager.py04/22:10:06]\n"
     ]
    },
    {
     "name": "stderr",
     "output_type": "stream",
     "text": [
      " _findfont_cached1346|DEBUG: findfont: score(<Font 'Rage Italic' (RAGE.TTF) italic normal 400 normal>) = 11.05 [font_manager.py04/22:10:06]\n"
     ]
    },
    {
     "name": "stdout",
     "output_type": "stream",
     "text": [
      " _findfont_cached1346|10: findfont: score(<Font 'Calisto MT' (CALISTI.TTF) italic normal 400 normal>) = 11.05 [font_manager.py04/22:10:06]\n"
     ]
    },
    {
     "name": "stderr",
     "output_type": "stream",
     "text": [
      " _findfont_cached1346|DEBUG: findfont: score(<Font 'Calisto MT' (CALISTI.TTF) italic normal 400 normal>) = 11.05 [font_manager.py04/22:10:06]\n"
     ]
    },
    {
     "name": "stdout",
     "output_type": "stream",
     "text": [
      " _findfont_cached1346|10: findfont: score(<Font 'Ink Free' (Inkfree.ttf) normal normal 400 normal>) = 10.05 [font_manager.py04/22:10:06]\n"
     ]
    },
    {
     "name": "stderr",
     "output_type": "stream",
     "text": [
      " _findfont_cached1346|DEBUG: findfont: score(<Font 'Ink Free' (Inkfree.ttf) normal normal 400 normal>) = 10.05 [font_manager.py04/22:10:06]\n"
     ]
    },
    {
     "name": "stdout",
     "output_type": "stream",
     "text": [
      " _findfont_cached1346|10: findfont: score(<Font 'Miriam Libre' (MiriamLibre-Bold.otf) normal normal 700 normal>) = 10.335 [font_manager.py04/22:10:06]\n"
     ]
    },
    {
     "name": "stderr",
     "output_type": "stream",
     "text": [
      " _findfont_cached1346|DEBUG: findfont: score(<Font 'Miriam Libre' (MiriamLibre-Bold.otf) normal normal 700 normal>) = 10.335 [font_manager.py04/22:10:06]\n"
     ]
    },
    {
     "name": "stdout",
     "output_type": "stream",
     "text": [
      " _findfont_cached1346|10: findfont: score(<Font 'Sitka Small' (SitkaZ.ttc) italic normal 700 normal>) = 11.335 [font_manager.py04/22:10:06]\n"
     ]
    },
    {
     "name": "stderr",
     "output_type": "stream",
     "text": [
      " _findfont_cached1346|DEBUG: findfont: score(<Font 'Sitka Small' (SitkaZ.ttc) italic normal 700 normal>) = 11.335 [font_manager.py04/22:10:06]\n"
     ]
    },
    {
     "name": "stdout",
     "output_type": "stream",
     "text": [
      " _findfont_cached1346|10: findfont: score(<Font 'Source Code Pro' (SourceCodePro-Bold.ttf) normal normal 700 normal>) = 10.335 [font_manager.py04/22:10:06]\n"
     ]
    },
    {
     "name": "stderr",
     "output_type": "stream",
     "text": [
      " _findfont_cached1346|DEBUG: findfont: score(<Font 'Source Code Pro' (SourceCodePro-Bold.ttf) normal normal 700 normal>) = 10.335 [font_manager.py04/22:10:06]\n"
     ]
    },
    {
     "name": "stdout",
     "output_type": "stream",
     "text": [
      " _findfont_cached1346|10: findfont: score(<Font 'Tw Cen MT' (TCMI____.TTF) italic normal 400 normal>) = 11.05 [font_manager.py04/22:10:06]\n"
     ]
    },
    {
     "name": "stderr",
     "output_type": "stream",
     "text": [
      " _findfont_cached1346|DEBUG: findfont: score(<Font 'Tw Cen MT' (TCMI____.TTF) italic normal 400 normal>) = 11.05 [font_manager.py04/22:10:06]\n"
     ]
    },
    {
     "name": "stdout",
     "output_type": "stream",
     "text": [
      " _findfont_cached1346|10: findfont: score(<Font 'Segoe Print' (segoeprb.ttf) normal normal 700 normal>) = 10.335 [font_manager.py04/22:10:06]\n"
     ]
    },
    {
     "name": "stderr",
     "output_type": "stream",
     "text": [
      " _findfont_cached1346|DEBUG: findfont: score(<Font 'Segoe Print' (segoeprb.ttf) normal normal 700 normal>) = 10.335 [font_manager.py04/22:10:06]\n"
     ]
    },
    {
     "name": "stdout",
     "output_type": "stream",
     "text": [
      " _findfont_cached1346|10: findfont: score(<Font 'Source Sans Pro' (SourceSansPro-SemiboldIt.ttf) italic normal 600 normal>) = 11.24 [font_manager.py04/22:10:06]\n"
     ]
    },
    {
     "name": "stderr",
     "output_type": "stream",
     "text": [
      " _findfont_cached1346|DEBUG: findfont: score(<Font 'Source Sans Pro' (SourceSansPro-SemiboldIt.ttf) italic normal 600 normal>) = 11.24 [font_manager.py04/22:10:06]\n"
     ]
    },
    {
     "name": "stdout",
     "output_type": "stream",
     "text": [
      " _findfont_cached1346|10: findfont: score(<Font 'Noto Serif Lao' (NotoSerifLao-Bold.ttf) normal normal 700 normal>) = 10.335 [font_manager.py04/22:10:06]\n"
     ]
    },
    {
     "name": "stderr",
     "output_type": "stream",
     "text": [
      " _findfont_cached1346|DEBUG: findfont: score(<Font 'Noto Serif Lao' (NotoSerifLao-Bold.ttf) normal normal 700 normal>) = 10.335 [font_manager.py04/22:10:06]\n"
     ]
    },
    {
     "name": "stdout",
     "output_type": "stream",
     "text": [
      " _findfont_cached1346|10: findfont: score(<Font 'Footlight MT Light' (FTLTLT.TTF) normal normal 300 normal>) = 10.145 [font_manager.py04/22:10:06]\n"
     ]
    },
    {
     "name": "stderr",
     "output_type": "stream",
     "text": [
      " _findfont_cached1346|DEBUG: findfont: score(<Font 'Footlight MT Light' (FTLTLT.TTF) normal normal 300 normal>) = 10.145 [font_manager.py04/22:10:06]\n"
     ]
    },
    {
     "name": "stdout",
     "output_type": "stream",
     "text": [
      " _findfont_cached1346|10: findfont: score(<Font 'Garamond' (GARABD.TTF) normal normal 700 normal>) = 10.335 [font_manager.py04/22:10:06]\n"
     ]
    },
    {
     "name": "stderr",
     "output_type": "stream",
     "text": [
      " _findfont_cached1346|DEBUG: findfont: score(<Font 'Garamond' (GARABD.TTF) normal normal 700 normal>) = 10.335 [font_manager.py04/22:10:06]\n"
     ]
    },
    {
     "name": "stdout",
     "output_type": "stream",
     "text": [
      " _findfont_cached1346|10: findfont: score(<Font 'Amiri' (Amiri-BoldSlanted.ttf) italic normal 700 normal>) = 11.335 [font_manager.py04/22:10:06]\n"
     ]
    },
    {
     "name": "stderr",
     "output_type": "stream",
     "text": [
      " _findfont_cached1346|DEBUG: findfont: score(<Font 'Amiri' (Amiri-BoldSlanted.ttf) italic normal 700 normal>) = 11.335 [font_manager.py04/22:10:06]\n"
     ]
    },
    {
     "name": "stdout",
     "output_type": "stream",
     "text": [
      " _findfont_cached1346|10: findfont: score(<Font 'Noto Sans' (NotoSans-Bold.ttf) normal normal 700 normal>) = 10.335 [font_manager.py04/22:10:06]\n"
     ]
    },
    {
     "name": "stderr",
     "output_type": "stream",
     "text": [
      " _findfont_cached1346|DEBUG: findfont: score(<Font 'Noto Sans' (NotoSans-Bold.ttf) normal normal 700 normal>) = 10.335 [font_manager.py04/22:10:06]\n"
     ]
    },
    {
     "name": "stdout",
     "output_type": "stream",
     "text": [
      " _findfont_cached1346|10: findfont: score(<Font 'Nirmala UI' (NirmalaB.ttf) normal normal 700 normal>) = 10.335 [font_manager.py04/22:10:06]\n"
     ]
    },
    {
     "name": "stderr",
     "output_type": "stream",
     "text": [
      " _findfont_cached1346|DEBUG: findfont: score(<Font 'Nirmala UI' (NirmalaB.ttf) normal normal 700 normal>) = 10.335 [font_manager.py04/22:10:06]\n"
     ]
    },
    {
     "name": "stdout",
     "output_type": "stream",
     "text": [
      " _findfont_cached1346|10: findfont: score(<Font 'Microsoft Yi Baiti' (msyi.ttf) normal normal 400 normal>) = 10.05 [font_manager.py04/22:10:06]\n"
     ]
    },
    {
     "name": "stderr",
     "output_type": "stream",
     "text": [
      " _findfont_cached1346|DEBUG: findfont: score(<Font 'Microsoft Yi Baiti' (msyi.ttf) normal normal 400 normal>) = 10.05 [font_manager.py04/22:10:06]\n"
     ]
    },
    {
     "name": "stdout",
     "output_type": "stream",
     "text": [
      " _findfont_cached1346|10: findfont: score(<Font 'Calibri' (calibril.ttf) normal normal 300 normal>) = 10.145 [font_manager.py04/22:10:06]\n"
     ]
    },
    {
     "name": "stderr",
     "output_type": "stream",
     "text": [
      " _findfont_cached1346|DEBUG: findfont: score(<Font 'Calibri' (calibril.ttf) normal normal 300 normal>) = 10.145 [font_manager.py04/22:10:06]\n"
     ]
    },
    {
     "name": "stdout",
     "output_type": "stream",
     "text": [
      " _findfont_cached1346|10: findfont: score(<Font 'Nachlieli CLM' (NachlieliCLM-BoldOblique.otf) oblique normal 600 normal>) = 11.24 [font_manager.py04/22:10:06]\n"
     ]
    },
    {
     "name": "stderr",
     "output_type": "stream",
     "text": [
      " _findfont_cached1346|DEBUG: findfont: score(<Font 'Nachlieli CLM' (NachlieliCLM-BoldOblique.otf) oblique normal 600 normal>) = 11.24 [font_manager.py04/22:10:06]\n"
     ]
    },
    {
     "name": "stdout",
     "output_type": "stream",
     "text": [
      " _findfont_cached1346|10: findfont: score(<Font 'Noto Serif Georgian' (NotoSerifGeorgian-Regular.ttf) normal normal 400 normal>) = 10.05 [font_manager.py04/22:10:06]\n"
     ]
    },
    {
     "name": "stderr",
     "output_type": "stream",
     "text": [
      " _findfont_cached1346|DEBUG: findfont: score(<Font 'Noto Serif Georgian' (NotoSerifGeorgian-Regular.ttf) normal normal 400 normal>) = 10.05 [font_manager.py04/22:10:06]\n"
     ]
    },
    {
     "name": "stdout",
     "output_type": "stream",
     "text": [
      " _findfont_cached1346|10: findfont: score(<Font 'David CLM' (DavidCLM-BoldItalic.ttf) italic normal 700 normal>) = 11.335 [font_manager.py04/22:10:06]\n"
     ]
    },
    {
     "name": "stderr",
     "output_type": "stream",
     "text": [
      " _findfont_cached1346|DEBUG: findfont: score(<Font 'David CLM' (DavidCLM-BoldItalic.ttf) italic normal 700 normal>) = 11.335 [font_manager.py04/22:10:06]\n"
     ]
    },
    {
     "name": "stdout",
     "output_type": "stream",
     "text": [
      " _findfont_cached1346|10: findfont: score(<Font 'Consolas' (consolai.ttf) italic normal 400 normal>) = 11.05 [font_manager.py04/22:10:06]\n"
     ]
    },
    {
     "name": "stderr",
     "output_type": "stream",
     "text": [
      " _findfont_cached1346|DEBUG: findfont: score(<Font 'Consolas' (consolai.ttf) italic normal 400 normal>) = 11.05 [font_manager.py04/22:10:06]\n"
     ]
    },
    {
     "name": "stdout",
     "output_type": "stream",
     "text": [
      " _findfont_cached1346|10: findfont: score(<Font 'Pristina' (PRISTINA.TTF) normal normal 400 normal>) = 10.05 [font_manager.py04/22:10:06]\n"
     ]
    },
    {
     "name": "stderr",
     "output_type": "stream",
     "text": [
      " _findfont_cached1346|DEBUG: findfont: score(<Font 'Pristina' (PRISTINA.TTF) normal normal 400 normal>) = 10.05 [font_manager.py04/22:10:06]\n"
     ]
    },
    {
     "name": "stdout",
     "output_type": "stream",
     "text": [
      " _findfont_cached1346|10: findfont: score(<Font 'Noto Sans Arabic' (NotoSansArabic-Bold.ttf) normal normal 700 normal>) = 10.335 [font_manager.py04/22:10:06]\n"
     ]
    },
    {
     "name": "stderr",
     "output_type": "stream",
     "text": [
      " _findfont_cached1346|DEBUG: findfont: score(<Font 'Noto Sans Arabic' (NotoSansArabic-Bold.ttf) normal normal 700 normal>) = 10.335 [font_manager.py04/22:10:06]\n"
     ]
    },
    {
     "name": "stdout",
     "output_type": "stream",
     "text": [
      " _findfont_cached1346|10: findfont: score(<Font 'Carlito' (Carlito-BoldItalic.ttf) italic normal 700 normal>) = 11.335 [font_manager.py04/22:10:06]\n"
     ]
    },
    {
     "name": "stderr",
     "output_type": "stream",
     "text": [
      " _findfont_cached1346|DEBUG: findfont: score(<Font 'Carlito' (Carlito-BoldItalic.ttf) italic normal 700 normal>) = 11.335 [font_manager.py04/22:10:06]\n"
     ]
    },
    {
     "name": "stdout",
     "output_type": "stream",
     "text": [
      " _findfont_cached1346|10: findfont: score(<Font 'Segoe MDL2 Assets' (segmdl2.ttf) normal normal 400 normal>) = 10.05 [font_manager.py04/22:10:06]\n"
     ]
    },
    {
     "name": "stderr",
     "output_type": "stream",
     "text": [
      " _findfont_cached1346|DEBUG: findfont: score(<Font 'Segoe MDL2 Assets' (segmdl2.ttf) normal normal 400 normal>) = 10.05 [font_manager.py04/22:10:06]\n"
     ]
    },
    {
     "name": "stdout",
     "output_type": "stream",
     "text": [
      " _findfont_cached1346|10: findfont: score(<Font 'Corbel' (corbelz.ttf) italic normal 700 normal>) = 11.335 [font_manager.py04/22:10:06]\n"
     ]
    },
    {
     "name": "stderr",
     "output_type": "stream",
     "text": [
      " _findfont_cached1346|DEBUG: findfont: score(<Font 'Corbel' (corbelz.ttf) italic normal 700 normal>) = 11.335 [font_manager.py04/22:10:06]\n"
     ]
    },
    {
     "name": "stdout",
     "output_type": "stream",
     "text": [
      " _findfont_cached1346|10: findfont: score(<Font 'Noto Serif' (NotoSerif-CondensedBoldItalic.ttf) italic normal 700 condensed>) = 11.535 [font_manager.py04/22:10:06]\n"
     ]
    },
    {
     "name": "stderr",
     "output_type": "stream",
     "text": [
      " _findfont_cached1346|DEBUG: findfont: score(<Font 'Noto Serif' (NotoSerif-CondensedBoldItalic.ttf) italic normal 700 condensed>) = 11.535 [font_manager.py04/22:10:06]\n"
     ]
    },
    {
     "name": "stdout",
     "output_type": "stream",
     "text": [
      " _findfont_cached1346|10: findfont: score(<Font 'Tempus Sans ITC' (TEMPSITC.TTF) normal normal 400 normal>) = 10.05 [font_manager.py04/22:10:06]\n"
     ]
    },
    {
     "name": "stderr",
     "output_type": "stream",
     "text": [
      " _findfont_cached1346|DEBUG: findfont: score(<Font 'Tempus Sans ITC' (TEMPSITC.TTF) normal normal 400 normal>) = 10.05 [font_manager.py04/22:10:06]\n"
     ]
    },
    {
     "name": "stdout",
     "output_type": "stream",
     "text": [
      " _findfont_cached1346|10: findfont: score(<Font 'MS Gothic' (msgothic.ttc) normal normal 400 normal>) = 10.05 [font_manager.py04/22:10:06]\n"
     ]
    },
    {
     "name": "stderr",
     "output_type": "stream",
     "text": [
      " _findfont_cached1346|DEBUG: findfont: score(<Font 'MS Gothic' (msgothic.ttc) normal normal 400 normal>) = 10.05 [font_manager.py04/22:10:06]\n"
     ]
    },
    {
     "name": "stdout",
     "output_type": "stream",
     "text": [
      " _findfont_cached1346|10: findfont: score(<Font 'Candara' (Candaraz.ttf) italic normal 700 normal>) = 11.335 [font_manager.py04/22:10:06]\n"
     ]
    },
    {
     "name": "stderr",
     "output_type": "stream",
     "text": [
      " _findfont_cached1346|DEBUG: findfont: score(<Font 'Candara' (Candaraz.ttf) italic normal 700 normal>) = 11.335 [font_manager.py04/22:10:06]\n"
     ]
    },
    {
     "name": "stdout",
     "output_type": "stream",
     "text": [
      " _findfont_cached1346|10: findfont: score(<Font 'Mongolian Baiti' (monbaiti.ttf) normal normal 400 normal>) = 10.05 [font_manager.py04/22:10:06]\n"
     ]
    },
    {
     "name": "stderr",
     "output_type": "stream",
     "text": [
      " _findfont_cached1346|DEBUG: findfont: score(<Font 'Mongolian Baiti' (monbaiti.ttf) normal normal 400 normal>) = 10.05 [font_manager.py04/22:10:06]\n"
     ]
    },
    {
     "name": "stdout",
     "output_type": "stream",
     "text": [
      " _findfont_cached1346|10: findfont: score(<Font 'Britannic Bold' (BRITANIC.TTF) normal normal 400 normal>) = 10.05 [font_manager.py04/22:10:06]\n"
     ]
    },
    {
     "name": "stderr",
     "output_type": "stream",
     "text": [
      " _findfont_cached1346|DEBUG: findfont: score(<Font 'Britannic Bold' (BRITANIC.TTF) normal normal 400 normal>) = 10.05 [font_manager.py04/22:10:06]\n"
     ]
    },
    {
     "name": "stdout",
     "output_type": "stream",
     "text": [
      " _findfont_cached1346|10: findfont: score(<Font 'Microsoft YaHei' (msyhbd.ttc) normal normal 700 normal>) = 10.335 [font_manager.py04/22:10:06]\n"
     ]
    },
    {
     "name": "stderr",
     "output_type": "stream",
     "text": [
      " _findfont_cached1346|DEBUG: findfont: score(<Font 'Microsoft YaHei' (msyhbd.ttc) normal normal 700 normal>) = 10.335 [font_manager.py04/22:10:06]\n"
     ]
    },
    {
     "name": "stdout",
     "output_type": "stream",
     "text": [
      " _findfont_cached1346|10: findfont: score(<Font 'Lucida Fax' (LFAX.TTF) normal normal 400 normal>) = 10.05 [font_manager.py04/22:10:06]\n"
     ]
    },
    {
     "name": "stderr",
     "output_type": "stream",
     "text": [
      " _findfont_cached1346|DEBUG: findfont: score(<Font 'Lucida Fax' (LFAX.TTF) normal normal 400 normal>) = 10.05 [font_manager.py04/22:10:06]\n"
     ]
    },
    {
     "name": "stdout",
     "output_type": "stream",
     "text": [
      " _findfont_cached1346|10: findfont: score(<Font 'DejaVu Sans' (DejaVuSansCondensed-Bold.ttf) normal normal 700 condensed>) = 0.5349999999999999 [font_manager.py04/22:10:06]\n"
     ]
    },
    {
     "name": "stderr",
     "output_type": "stream",
     "text": [
      " _findfont_cached1346|DEBUG: findfont: score(<Font 'DejaVu Sans' (DejaVuSansCondensed-Bold.ttf) normal normal 700 condensed>) = 0.5349999999999999 [font_manager.py04/22:10:06]\n"
     ]
    },
    {
     "name": "stdout",
     "output_type": "stream",
     "text": [
      " _findfont_cached1346|10: findfont: score(<Font 'Corbel' (corbell.ttf) normal normal 300 normal>) = 10.145 [font_manager.py04/22:10:06]\n"
     ]
    },
    {
     "name": "stderr",
     "output_type": "stream",
     "text": [
      " _findfont_cached1346|DEBUG: findfont: score(<Font 'Corbel' (corbell.ttf) normal normal 300 normal>) = 10.145 [font_manager.py04/22:10:06]\n"
     ]
    },
    {
     "name": "stdout",
     "output_type": "stream",
     "text": [
      " _findfont_cached1346|10: findfont: score(<Font 'Perpetua' (PERBI___.TTF) italic normal 700 normal>) = 11.335 [font_manager.py04/22:10:06]\n"
     ]
    },
    {
     "name": "stderr",
     "output_type": "stream",
     "text": [
      " _findfont_cached1346|DEBUG: findfont: score(<Font 'Perpetua' (PERBI___.TTF) italic normal 700 normal>) = 11.335 [font_manager.py04/22:10:06]\n"
     ]
    },
    {
     "name": "stdout",
     "output_type": "stream",
     "text": [
      " _findfont_cached1346|10: findfont: score(<Font 'Corbel' (corbel.ttf) normal normal 400 normal>) = 10.05 [font_manager.py04/22:10:06]\n"
     ]
    },
    {
     "name": "stderr",
     "output_type": "stream",
     "text": [
      " _findfont_cached1346|DEBUG: findfont: score(<Font 'Corbel' (corbel.ttf) normal normal 400 normal>) = 10.05 [font_manager.py04/22:10:06]\n"
     ]
    },
    {
     "name": "stdout",
     "output_type": "stream",
     "text": [
      " _findfont_cached1346|10: findfont: score(<Font 'Candara' (Candara.ttf) normal normal 400 normal>) = 10.05 [font_manager.py04/22:10:06]\n"
     ]
    },
    {
     "name": "stderr",
     "output_type": "stream",
     "text": [
      " _findfont_cached1346|DEBUG: findfont: score(<Font 'Candara' (Candara.ttf) normal normal 400 normal>) = 10.05 [font_manager.py04/22:10:06]\n"
     ]
    },
    {
     "name": "stdout",
     "output_type": "stream",
     "text": [
      " _findfont_cached1346|10: findfont: score(<Font 'Segoe UI' (segoeuib.ttf) normal normal 700 normal>) = 10.335 [font_manager.py04/22:10:06]\n"
     ]
    },
    {
     "name": "stderr",
     "output_type": "stream",
     "text": [
      " _findfont_cached1346|DEBUG: findfont: score(<Font 'Segoe UI' (segoeuib.ttf) normal normal 700 normal>) = 10.335 [font_manager.py04/22:10:06]\n"
     ]
    },
    {
     "name": "stdout",
     "output_type": "stream",
     "text": [
      " _findfont_cached1346|10: findfont: score(<Font 'Perpetua' (PERBI___.TTF) italic normal 700 normal>) = 11.335 [font_manager.py04/22:10:06]\n"
     ]
    },
    {
     "name": "stderr",
     "output_type": "stream",
     "text": [
      " _findfont_cached1346|DEBUG: findfont: score(<Font 'Perpetua' (PERBI___.TTF) italic normal 700 normal>) = 11.335 [font_manager.py04/22:10:06]\n"
     ]
    },
    {
     "name": "stdout",
     "output_type": "stream",
     "text": [
      " _findfont_cached1346|10: findfont: score(<Font 'Nirmala UI' (Nirmala.ttf) normal normal 400 normal>) = 10.05 [font_manager.py04/22:10:06]\n"
     ]
    },
    {
     "name": "stderr",
     "output_type": "stream",
     "text": [
      " _findfont_cached1346|DEBUG: findfont: score(<Font 'Nirmala UI' (Nirmala.ttf) normal normal 400 normal>) = 10.05 [font_manager.py04/22:10:06]\n"
     ]
    },
    {
     "name": "stdout",
     "output_type": "stream",
     "text": [
      " _findfont_cached1346|10: findfont: score(<Font 'Franklin Gothic Demi' (FRADM.TTF) normal normal 400 normal>) = 10.05 [font_manager.py04/22:10:06]\n"
     ]
    },
    {
     "name": "stderr",
     "output_type": "stream",
     "text": [
      " _findfont_cached1346|DEBUG: findfont: score(<Font 'Franklin Gothic Demi' (FRADM.TTF) normal normal 400 normal>) = 10.05 [font_manager.py04/22:10:06]\n"
     ]
    },
    {
     "name": "stdout",
     "output_type": "stream",
     "text": [
      " _findfont_cached1346|10: findfont: score(<Font 'Arial' (ARIALN.TTF) normal normal 400 condensed>) = 6.613636363636363 [font_manager.py04/22:10:06]\n"
     ]
    },
    {
     "name": "stderr",
     "output_type": "stream",
     "text": [
      " _findfont_cached1346|DEBUG: findfont: score(<Font 'Arial' (ARIALN.TTF) normal normal 400 condensed>) = 6.613636363636363 [font_manager.py04/22:10:06]\n"
     ]
    },
    {
     "name": "stdout",
     "output_type": "stream",
     "text": [
      " _findfont_cached1346|10: findfont: score(<Font 'DejaVu Serif' (DejaVuSerifCondensed-Italic.ttf) italic normal 400 condensed>) = 11.25 [font_manager.py04/22:10:06]\n"
     ]
    },
    {
     "name": "stderr",
     "output_type": "stream",
     "text": [
      " _findfont_cached1346|DEBUG: findfont: score(<Font 'DejaVu Serif' (DejaVuSerifCondensed-Italic.ttf) italic normal 400 condensed>) = 11.25 [font_manager.py04/22:10:06]\n"
     ]
    },
    {
     "name": "stdout",
     "output_type": "stream",
     "text": [
      " _findfont_cached1346|10: findfont: score(<Font 'Dubai' (DUBAI-LIGHT.TTF) normal normal 300 normal>) = 10.145 [font_manager.py04/22:10:06]\n"
     ]
    },
    {
     "name": "stderr",
     "output_type": "stream",
     "text": [
      " _findfont_cached1346|DEBUG: findfont: score(<Font 'Dubai' (DUBAI-LIGHT.TTF) normal normal 300 normal>) = 10.145 [font_manager.py04/22:10:06]\n"
     ]
    },
    {
     "name": "stdout",
     "output_type": "stream",
     "text": [
      " _findfont_cached1346|10: findfont: score(<Font 'QuickType II Condensed' (QT2C_B.TTF) normal normal 700 condensed>) = 10.535 [font_manager.py04/22:10:06]\n"
     ]
    },
    {
     "name": "stderr",
     "output_type": "stream",
     "text": [
      " _findfont_cached1346|DEBUG: findfont: score(<Font 'QuickType II Condensed' (QT2C_B.TTF) normal normal 700 condensed>) = 10.535 [font_manager.py04/22:10:06]\n"
     ]
    },
    {
     "name": "stdout",
     "output_type": "stream",
     "text": [
      " _findfont_cached1346|10: findfont: score(<Font 'Lucida Fax' (LFAXD.TTF) normal normal 600 normal>) = 10.24 [font_manager.py04/22:10:06]\n"
     ]
    },
    {
     "name": "stderr",
     "output_type": "stream",
     "text": [
      " _findfont_cached1346|DEBUG: findfont: score(<Font 'Lucida Fax' (LFAXD.TTF) normal normal 600 normal>) = 10.24 [font_manager.py04/22:10:06]\n"
     ]
    },
    {
     "name": "stdout",
     "output_type": "stream",
     "text": [
      " _findfont_cached1346|10: findfont: score(<Font 'Source Serif Pro' (SourceSerifPro-Light.ttf) normal normal 300 normal>) = 10.145 [font_manager.py04/22:10:06]\n"
     ]
    },
    {
     "name": "stderr",
     "output_type": "stream",
     "text": [
      " _findfont_cached1346|DEBUG: findfont: score(<Font 'Source Serif Pro' (SourceSerifPro-Light.ttf) normal normal 300 normal>) = 10.145 [font_manager.py04/22:10:06]\n"
     ]
    },
    {
     "name": "stdout",
     "output_type": "stream",
     "text": [
      " _findfont_cached1346|10: findfont: score(<Font 'Miriam Mono CLM' (MiriamMonoCLM-BookOblique.ttf) oblique normal 400 normal>) = 11.05 [font_manager.py04/22:10:06]\n"
     ]
    },
    {
     "name": "stderr",
     "output_type": "stream",
     "text": [
      " _findfont_cached1346|DEBUG: findfont: score(<Font 'Miriam Mono CLM' (MiriamMonoCLM-BookOblique.ttf) oblique normal 400 normal>) = 11.05 [font_manager.py04/22:10:06]\n"
     ]
    },
    {
     "name": "stdout",
     "output_type": "stream",
     "text": [
      " _findfont_cached1346|10: findfont: score(<Font 'Tw Cen MT' (TCMI____.TTF) italic normal 400 normal>) = 11.05 [font_manager.py04/22:10:06]\n"
     ]
    },
    {
     "name": "stderr",
     "output_type": "stream",
     "text": [
      " _findfont_cached1346|DEBUG: findfont: score(<Font 'Tw Cen MT' (TCMI____.TTF) italic normal 400 normal>) = 11.05 [font_manager.py04/22:10:06]\n"
     ]
    },
    {
     "name": "stdout",
     "output_type": "stream",
     "text": [
      " _findfont_cached1346|10: findfont: score(<Font 'Miriam Mono CLM' (MiriamMonoCLM-Book.ttf) normal normal 400 normal>) = 10.05 [font_manager.py04/22:10:06]\n"
     ]
    },
    {
     "name": "stderr",
     "output_type": "stream",
     "text": [
      " _findfont_cached1346|DEBUG: findfont: score(<Font 'Miriam Mono CLM' (MiriamMonoCLM-Book.ttf) normal normal 400 normal>) = 10.05 [font_manager.py04/22:10:06]\n"
     ]
    },
    {
     "name": "stdout",
     "output_type": "stream",
     "text": [
      " _findfont_cached1346|10: findfont: score(<Font 'Source Code Pro' (SourceCodePro-BoldIt.ttf) italic normal 700 normal>) = 11.335 [font_manager.py04/22:10:06]\n"
     ]
    },
    {
     "name": "stderr",
     "output_type": "stream",
     "text": [
      " _findfont_cached1346|DEBUG: findfont: score(<Font 'Source Code Pro' (SourceCodePro-BoldIt.ttf) italic normal 700 normal>) = 11.335 [font_manager.py04/22:10:06]\n"
     ]
    },
    {
     "name": "stdout",
     "output_type": "stream",
     "text": [
      " _findfont_cached1346|10: findfont: score(<Font 'Goudy Old Style' (GOUDOSI.TTF) italic normal 400 normal>) = 11.05 [font_manager.py04/22:10:06]\n"
     ]
    },
    {
     "name": "stderr",
     "output_type": "stream",
     "text": [
      " _findfont_cached1346|DEBUG: findfont: score(<Font 'Goudy Old Style' (GOUDOSI.TTF) italic normal 400 normal>) = 11.05 [font_manager.py04/22:10:06]\n"
     ]
    },
    {
     "name": "stdout",
     "output_type": "stream",
     "text": [
      " _findfont_cached1346|10: findfont: score(<Font 'Noto Sans Hebrew' (NotoSansHebrew-Bold.ttf) normal normal 700 normal>) = 10.335 [font_manager.py04/22:10:06]\n"
     ]
    },
    {
     "name": "stderr",
     "output_type": "stream",
     "text": [
      " _findfont_cached1346|DEBUG: findfont: score(<Font 'Noto Sans Hebrew' (NotoSansHebrew-Bold.ttf) normal normal 700 normal>) = 10.335 [font_manager.py04/22:10:06]\n"
     ]
    },
    {
     "name": "stdout",
     "output_type": "stream",
     "text": [
      " _findfont_cached1346|10: findfont: score(<Font 'DejaVu Serif' (DejaVuSerif-Italic.ttf) italic normal 400 normal>) = 11.05 [font_manager.py04/22:10:06]\n"
     ]
    },
    {
     "name": "stderr",
     "output_type": "stream",
     "text": [
      " _findfont_cached1346|DEBUG: findfont: score(<Font 'DejaVu Serif' (DejaVuSerif-Italic.ttf) italic normal 400 normal>) = 11.05 [font_manager.py04/22:10:06]\n"
     ]
    },
    {
     "name": "stdout",
     "output_type": "stream",
     "text": [
      " _findfont_cached1346|10: findfont: score(<Font 'Rockwell' (ROCKI.TTF) italic normal 400 normal>) = 11.05 [font_manager.py04/22:10:06]\n"
     ]
    },
    {
     "name": "stderr",
     "output_type": "stream",
     "text": [
      " _findfont_cached1346|DEBUG: findfont: score(<Font 'Rockwell' (ROCKI.TTF) italic normal 400 normal>) = 11.05 [font_manager.py04/22:10:06]\n"
     ]
    },
    {
     "name": "stdout",
     "output_type": "stream",
     "text": [
      " _findfont_cached1346|10: findfont: score(<Font 'Caladea' (Caladea-Bold.ttf) normal normal 700 normal>) = 10.335 [font_manager.py04/22:10:06]\n"
     ]
    },
    {
     "name": "stderr",
     "output_type": "stream",
     "text": [
      " _findfont_cached1346|DEBUG: findfont: score(<Font 'Caladea' (Caladea-Bold.ttf) normal normal 700 normal>) = 10.335 [font_manager.py04/22:10:06]\n"
     ]
    },
    {
     "name": "stdout",
     "output_type": "stream",
     "text": [
      " _findfont_cached1346|10: findfont: score(<Font 'Miriam Mono CLM' (MiriamMonoCLM-Book.ttf) normal normal 400 normal>) = 10.05 [font_manager.py04/22:10:06]\n"
     ]
    },
    {
     "name": "stderr",
     "output_type": "stream",
     "text": [
      " _findfont_cached1346|DEBUG: findfont: score(<Font 'Miriam Mono CLM' (MiriamMonoCLM-Book.ttf) normal normal 400 normal>) = 10.05 [font_manager.py04/22:10:06]\n"
     ]
    },
    {
     "name": "stdout",
     "output_type": "stream",
     "text": [
      " _findfont_cached1346|10: findfont: score(<Font 'Source Sans Pro' (SourceSansPro-ExtraLightIt.ttf) italic normal 200 normal>) = 11.24 [font_manager.py04/22:10:06]\n"
     ]
    },
    {
     "name": "stderr",
     "output_type": "stream",
     "text": [
      " _findfont_cached1346|DEBUG: findfont: score(<Font 'Source Sans Pro' (SourceSansPro-ExtraLightIt.ttf) italic normal 200 normal>) = 11.24 [font_manager.py04/22:10:06]\n"
     ]
    },
    {
     "name": "stdout",
     "output_type": "stream",
     "text": [
      " _findfont_cached1346|10: findfont: score(<Font 'Rockwell' (ROCK.TTF) normal normal 400 normal>) = 10.05 [font_manager.py04/22:10:06]\n"
     ]
    },
    {
     "name": "stderr",
     "output_type": "stream",
     "text": [
      " _findfont_cached1346|DEBUG: findfont: score(<Font 'Rockwell' (ROCK.TTF) normal normal 400 normal>) = 10.05 [font_manager.py04/22:10:06]\n"
     ]
    },
    {
     "name": "stdout",
     "output_type": "stream",
     "text": [
      " _findfont_cached1346|10: findfont: score(<Font 'Comic Sans MS' (comici.ttf) italic normal 400 normal>) = 11.05 [font_manager.py04/22:10:06]\n"
     ]
    },
    {
     "name": "stderr",
     "output_type": "stream",
     "text": [
      " _findfont_cached1346|DEBUG: findfont: score(<Font 'Comic Sans MS' (comici.ttf) italic normal 400 normal>) = 11.05 [font_manager.py04/22:10:06]\n"
     ]
    },
    {
     "name": "stdout",
     "output_type": "stream",
     "text": [
      " _findfont_cached1346|10: findfont: score(<Font 'Segoe UI' (seguibl.ttf) normal normal 900 normal>) = 10.525 [font_manager.py04/22:10:06]\n"
     ]
    },
    {
     "name": "stderr",
     "output_type": "stream",
     "text": [
      " _findfont_cached1346|DEBUG: findfont: score(<Font 'Segoe UI' (seguibl.ttf) normal normal 900 normal>) = 10.525 [font_manager.py04/22:10:06]\n"
     ]
    },
    {
     "name": "stdout",
     "output_type": "stream",
     "text": [
      " _findfont_cached1346|10: findfont: score(<Font 'Cambria' (cambriai.ttf) italic normal 400 normal>) = 11.05 [font_manager.py04/22:10:06]\n"
     ]
    },
    {
     "name": "stderr",
     "output_type": "stream",
     "text": [
      " _findfont_cached1346|DEBUG: findfont: score(<Font 'Cambria' (cambriai.ttf) italic normal 400 normal>) = 11.05 [font_manager.py04/22:10:06]\n"
     ]
    },
    {
     "name": "stdout",
     "output_type": "stream",
     "text": [
      " _findfont_cached1346|10: findfont: score(<Font 'DejaVu Serif' (DejaVuSerif-BoldItalic.ttf) italic normal 700 normal>) = 11.335 [font_manager.py04/22:10:06]\n"
     ]
    },
    {
     "name": "stderr",
     "output_type": "stream",
     "text": [
      " _findfont_cached1346|DEBUG: findfont: score(<Font 'DejaVu Serif' (DejaVuSerif-BoldItalic.ttf) italic normal 700 normal>) = 11.335 [font_manager.py04/22:10:06]\n"
     ]
    },
    {
     "name": "stdout",
     "output_type": "stream",
     "text": [
      " _findfont_cached1346|10: findfont: score(<Font 'Lucida Calligraphy' (LCALLIG.TTF) italic normal 400 normal>) = 11.05 [font_manager.py04/22:10:06]\n"
     ]
    },
    {
     "name": "stderr",
     "output_type": "stream",
     "text": [
      " _findfont_cached1346|DEBUG: findfont: score(<Font 'Lucida Calligraphy' (LCALLIG.TTF) italic normal 400 normal>) = 11.05 [font_manager.py04/22:10:06]\n"
     ]
    },
    {
     "name": "stdout",
     "output_type": "stream",
     "text": [
      " _findfont_cached1346|10: findfont: score(<Font 'Microsoft YaHei' (msyhl.ttc) normal normal 290 normal>) = 10.1545 [font_manager.py04/22:10:06]\n"
     ]
    },
    {
     "name": "stderr",
     "output_type": "stream",
     "text": [
      " _findfont_cached1346|DEBUG: findfont: score(<Font 'Microsoft YaHei' (msyhl.ttc) normal normal 290 normal>) = 10.1545 [font_manager.py04/22:10:06]\n"
     ]
    },
    {
     "name": "stdout",
     "output_type": "stream",
     "text": [
      " _findfont_cached1346|10: findfont: score(<Font 'Century Schoolbook' (SCHLBKB.TTF) normal normal 700 normal>) = 10.335 [font_manager.py04/22:10:06]\n"
     ]
    },
    {
     "name": "stderr",
     "output_type": "stream",
     "text": [
      " _findfont_cached1346|DEBUG: findfont: score(<Font 'Century Schoolbook' (SCHLBKB.TTF) normal normal 700 normal>) = 10.335 [font_manager.py04/22:10:06]\n"
     ]
    },
    {
     "name": "stdout",
     "output_type": "stream",
     "text": [
      " _findfont_cached1346|10: findfont: score(<Font 'Segoe UI' (segoeui.ttf) normal normal 400 normal>) = 10.05 [font_manager.py04/22:10:06]\n"
     ]
    },
    {
     "name": "stderr",
     "output_type": "stream",
     "text": [
      " _findfont_cached1346|DEBUG: findfont: score(<Font 'Segoe UI' (segoeui.ttf) normal normal 400 normal>) = 10.05 [font_manager.py04/22:10:06]\n"
     ]
    },
    {
     "name": "stdout",
     "output_type": "stream",
     "text": [
      " _findfont_cached1346|10: findfont: score(<Font 'Trebuchet MS' (trebucit.ttf) italic normal 400 normal>) = 11.05 [font_manager.py04/22:10:06]\n"
     ]
    },
    {
     "name": "stderr",
     "output_type": "stream",
     "text": [
      " _findfont_cached1346|DEBUG: findfont: score(<Font 'Trebuchet MS' (trebucit.ttf) italic normal 400 normal>) = 11.05 [font_manager.py04/22:10:06]\n"
     ]
    },
    {
     "name": "stdout",
     "output_type": "stream",
     "text": [
      " _findfont_cached1346|10: findfont: score(<Font 'Noto Kufi Arabic' (NotoKufiArabic-Regular.ttf) normal normal 400 normal>) = 10.05 [font_manager.py04/22:10:06]\n"
     ]
    },
    {
     "name": "stderr",
     "output_type": "stream",
     "text": [
      " _findfont_cached1346|DEBUG: findfont: score(<Font 'Noto Kufi Arabic' (NotoKufiArabic-Regular.ttf) normal normal 400 normal>) = 10.05 [font_manager.py04/22:10:06]\n"
     ]
    },
    {
     "name": "stdout",
     "output_type": "stream",
     "text": [
      " _findfont_cached1346|10: findfont: score(<Font 'Microsoft New Tai Lue' (ntailub.ttf) normal normal 700 normal>) = 10.335 [font_manager.py04/22:10:06]\n"
     ]
    },
    {
     "name": "stderr",
     "output_type": "stream",
     "text": [
      " _findfont_cached1346|DEBUG: findfont: score(<Font 'Microsoft New Tai Lue' (ntailub.ttf) normal normal 700 normal>) = 10.335 [font_manager.py04/22:10:06]\n"
     ]
    },
    {
     "name": "stdout",
     "output_type": "stream",
     "text": [
      " _findfont_cached1346|10: findfont: score(<Font 'Colonna MT' (COLONNA.TTF) normal normal 400 normal>) = 10.05 [font_manager.py04/22:10:06]\n"
     ]
    },
    {
     "name": "stderr",
     "output_type": "stream",
     "text": [
      " _findfont_cached1346|DEBUG: findfont: score(<Font 'Colonna MT' (COLONNA.TTF) normal normal 400 normal>) = 10.05 [font_manager.py04/22:10:06]\n"
     ]
    },
    {
     "name": "stdout",
     "output_type": "stream",
     "text": [
      " _findfont_cached1346|10: findfont: score(<Font 'Nachlieli CLM' (NachlieliCLM-Bold.otf) normal normal 600 normal>) = 10.24 [font_manager.py04/22:10:06]\n"
     ]
    },
    {
     "name": "stderr",
     "output_type": "stream",
     "text": [
      " _findfont_cached1346|DEBUG: findfont: score(<Font 'Nachlieli CLM' (NachlieliCLM-Bold.otf) normal normal 600 normal>) = 10.24 [font_manager.py04/22:10:06]\n"
     ]
    },
    {
     "name": "stdout",
     "output_type": "stream",
     "text": [
      " _findfont_cached1346|10: findfont: score(<Font 'Yu Gothic' (YuGothB.ttc) normal normal 700 normal>) = 10.335 [font_manager.py04/22:10:06]\n"
     ]
    },
    {
     "name": "stderr",
     "output_type": "stream",
     "text": [
      " _findfont_cached1346|DEBUG: findfont: score(<Font 'Yu Gothic' (YuGothB.ttc) normal normal 700 normal>) = 10.335 [font_manager.py04/22:10:06]\n"
     ]
    },
    {
     "name": "stdout",
     "output_type": "stream",
     "text": [
      " _findfont_cached1346|10: findfont: score(<Font 'Malgun Gothic' (malgunsl.ttf) normal normal 300 normal>) = 10.145 [font_manager.py04/22:10:06]\n"
     ]
    },
    {
     "name": "stderr",
     "output_type": "stream",
     "text": [
      " _findfont_cached1346|DEBUG: findfont: score(<Font 'Malgun Gothic' (malgunsl.ttf) normal normal 300 normal>) = 10.145 [font_manager.py04/22:10:06]\n"
     ]
    },
    {
     "name": "stdout",
     "output_type": "stream",
     "text": [
      " _findfont_cached1346|10: findfont: score(<Font 'Miriam CLM' (MiriamCLM-Bold.ttf) normal normal 700 normal>) = 10.335 [font_manager.py04/22:10:06]\n"
     ]
    },
    {
     "name": "stderr",
     "output_type": "stream",
     "text": [
      " _findfont_cached1346|DEBUG: findfont: score(<Font 'Miriam CLM' (MiriamCLM-Bold.ttf) normal normal 700 normal>) = 10.335 [font_manager.py04/22:10:06]\n"
     ]
    },
    {
     "name": "stdout",
     "output_type": "stream",
     "text": [
      " _findfont_cached1346|10: findfont: score(<Font 'Source Sans Pro' (SourceSansPro-It.ttf) italic normal 400 normal>) = 11.05 [font_manager.py04/22:10:06]\n"
     ]
    },
    {
     "name": "stderr",
     "output_type": "stream",
     "text": [
      " _findfont_cached1346|DEBUG: findfont: score(<Font 'Source Sans Pro' (SourceSansPro-It.ttf) italic normal 400 normal>) = 11.05 [font_manager.py04/22:10:06]\n"
     ]
    },
    {
     "name": "stdout",
     "output_type": "stream",
     "text": [
      " _findfont_cached1346|10: findfont: score(<Font 'MT Extra' (MTEXTRA.TTF) normal normal 400 normal>) = 10.05 [font_manager.py04/22:10:06]\n"
     ]
    },
    {
     "name": "stderr",
     "output_type": "stream",
     "text": [
      " _findfont_cached1346|DEBUG: findfont: score(<Font 'MT Extra' (MTEXTRA.TTF) normal normal 400 normal>) = 10.05 [font_manager.py04/22:10:06]\n"
     ]
    },
    {
     "name": "stdout",
     "output_type": "stream",
     "text": [
      " _findfont_cached1346|10: findfont: score(<Font 'Segoe UI' (seguisbi.ttf) italic normal 600 normal>) = 11.24 [font_manager.py04/22:10:06]\n"
     ]
    },
    {
     "name": "stderr",
     "output_type": "stream",
     "text": [
      " _findfont_cached1346|DEBUG: findfont: score(<Font 'Segoe UI' (seguisbi.ttf) italic normal 600 normal>) = 11.24 [font_manager.py04/22:10:06]\n"
     ]
    },
    {
     "name": "stdout",
     "output_type": "stream",
     "text": [
      " _findfont_cached1346|10: findfont: score(<Font 'Bradley Hand ITC' (BRADHITC.TTF) normal normal 400 normal>) = 10.05 [font_manager.py04/22:10:06]\n"
     ]
    },
    {
     "name": "stderr",
     "output_type": "stream",
     "text": [
      " _findfont_cached1346|DEBUG: findfont: score(<Font 'Bradley Hand ITC' (BRADHITC.TTF) normal normal 400 normal>) = 10.05 [font_manager.py04/22:10:06]\n"
     ]
    },
    {
     "name": "stdout",
     "output_type": "stream",
     "text": [
      " _findfont_cached1346|10: findfont: score(<Font 'SimSun-ExtB' (simsunb.ttf) normal normal 400 normal>) = 10.05 [font_manager.py04/22:10:06]\n"
     ]
    },
    {
     "name": "stderr",
     "output_type": "stream",
     "text": [
      " _findfont_cached1346|DEBUG: findfont: score(<Font 'SimSun-ExtB' (simsunb.ttf) normal normal 400 normal>) = 10.05 [font_manager.py04/22:10:06]\n"
     ]
    },
    {
     "name": "stdout",
     "output_type": "stream",
     "text": [
      " _findfont_cached1346|10: findfont: score(<Font 'Edwardian Script ITC' (ITCEDSCR.TTF) normal normal 400 normal>) = 10.05 [font_manager.py04/22:10:06]\n"
     ]
    },
    {
     "name": "stderr",
     "output_type": "stream",
     "text": [
      " _findfont_cached1346|DEBUG: findfont: score(<Font 'Edwardian Script ITC' (ITCEDSCR.TTF) normal normal 400 normal>) = 10.05 [font_manager.py04/22:10:06]\n"
     ]
    },
    {
     "name": "stdout",
     "output_type": "stream",
     "text": [
      " _findfont_cached1346|10: findfont: score(<Font 'Myanmar Text' (mmrtextb.ttf) normal normal 700 normal>) = 10.335 [font_manager.py04/22:10:06]\n"
     ]
    },
    {
     "name": "stderr",
     "output_type": "stream",
     "text": [
      " _findfont_cached1346|DEBUG: findfont: score(<Font 'Myanmar Text' (mmrtextb.ttf) normal normal 700 normal>) = 10.335 [font_manager.py04/22:10:06]\n"
     ]
    },
    {
     "name": "stdout",
     "output_type": "stream",
     "text": [
      " _findfont_cached1346|10: findfont: score(<Font 'Rockwell' (ROCKI.TTF) italic normal 400 normal>) = 11.05 [font_manager.py04/22:10:06]\n"
     ]
    },
    {
     "name": "stderr",
     "output_type": "stream",
     "text": [
      " _findfont_cached1346|DEBUG: findfont: score(<Font 'Rockwell' (ROCKI.TTF) italic normal 400 normal>) = 11.05 [font_manager.py04/22:10:06]\n"
     ]
    },
    {
     "name": "stdout",
     "output_type": "stream",
     "text": [
      " _findfont_cached1346|10: findfont: score(<Font 'Book Antiqua' (BKANT.TTF) normal normal 400 normal>) = 10.05 [font_manager.py04/22:10:06]\n"
     ]
    },
    {
     "name": "stderr",
     "output_type": "stream",
     "text": [
      " _findfont_cached1346|DEBUG: findfont: score(<Font 'Book Antiqua' (BKANT.TTF) normal normal 400 normal>) = 10.05 [font_manager.py04/22:10:06]\n"
     ]
    },
    {
     "name": "stdout",
     "output_type": "stream",
     "text": [
      " _findfont_cached1346|10: findfont: score(<Font 'Liberation Sans' (LiberationSans-Bold.ttf) normal normal 700 normal>) = 10.335 [font_manager.py04/22:10:06]\n"
     ]
    },
    {
     "name": "stderr",
     "output_type": "stream",
     "text": [
      " _findfont_cached1346|DEBUG: findfont: score(<Font 'Liberation Sans' (LiberationSans-Bold.ttf) normal normal 700 normal>) = 10.335 [font_manager.py04/22:10:06]\n"
     ]
    },
    {
     "name": "stdout",
     "output_type": "stream",
     "text": [
      " _findfont_cached1346|10: findfont: score(<Font 'Franklin Gothic Heavy' (FRAHVIT.TTF) italic normal 400 normal>) = 11.05 [font_manager.py04/22:10:06]\n"
     ]
    },
    {
     "name": "stderr",
     "output_type": "stream",
     "text": [
      " _findfont_cached1346|DEBUG: findfont: score(<Font 'Franklin Gothic Heavy' (FRAHVIT.TTF) italic normal 400 normal>) = 11.05 [font_manager.py04/22:10:06]\n"
     ]
    },
    {
     "name": "stdout",
     "output_type": "stream",
     "text": [
      " _findfont_cached1346|10: findfont: score(<Font 'Microsoft Yi Baiti' (msyi.ttf) normal normal 400 normal>) = 10.05 [font_manager.py04/22:10:06]\n"
     ]
    },
    {
     "name": "stderr",
     "output_type": "stream",
     "text": [
      " _findfont_cached1346|DEBUG: findfont: score(<Font 'Microsoft Yi Baiti' (msyi.ttf) normal normal 400 normal>) = 10.05 [font_manager.py04/22:10:06]\n"
     ]
    },
    {
     "name": "stdout",
     "output_type": "stream",
     "text": [
      " _findfont_cached1346|10: findfont: score(<Font 'Source Code Pro' (SourceCodePro-Black.ttf) normal normal 900 normal>) = 10.525 [font_manager.py04/22:10:06]\n"
     ]
    },
    {
     "name": "stderr",
     "output_type": "stream",
     "text": [
      " _findfont_cached1346|DEBUG: findfont: score(<Font 'Source Code Pro' (SourceCodePro-Black.ttf) normal normal 900 normal>) = 10.525 [font_manager.py04/22:10:06]\n"
     ]
    },
    {
     "name": "stdout",
     "output_type": "stream",
     "text": [
      " _findfont_cached1346|10: findfont: score(<Font 'Source Sans Pro' (SourceSansPro-Black.ttf) normal normal 900 normal>) = 10.525 [font_manager.py04/22:10:06]\n"
     ]
    },
    {
     "name": "stderr",
     "output_type": "stream",
     "text": [
      " _findfont_cached1346|DEBUG: findfont: score(<Font 'Source Sans Pro' (SourceSansPro-Black.ttf) normal normal 900 normal>) = 10.525 [font_manager.py04/22:10:06]\n"
     ]
    },
    {
     "name": "stdout",
     "output_type": "stream",
     "text": [
      " _findfont_cached1346|10: findfont: score(<Font 'DejaVu Serif' (DejaVuSerifCondensed-Bold.ttf) normal normal 700 condensed>) = 10.535 [font_manager.py04/22:10:06]\n"
     ]
    },
    {
     "name": "stderr",
     "output_type": "stream",
     "text": [
      " _findfont_cached1346|DEBUG: findfont: score(<Font 'DejaVu Serif' (DejaVuSerifCondensed-Bold.ttf) normal normal 700 condensed>) = 10.535 [font_manager.py04/22:10:06]\n"
     ]
    },
    {
     "name": "stdout",
     "output_type": "stream",
     "text": [
      " _findfont_cached1346|10: findfont: score(<Font 'Ebrima' (ebrimabd.ttf) normal normal 700 normal>) = 10.335 [font_manager.py04/22:10:06]\n"
     ]
    },
    {
     "name": "stderr",
     "output_type": "stream",
     "text": [
      " _findfont_cached1346|DEBUG: findfont: score(<Font 'Ebrima' (ebrimabd.ttf) normal normal 700 normal>) = 10.335 [font_manager.py04/22:10:06]\n"
     ]
    },
    {
     "name": "stdout",
     "output_type": "stream",
     "text": [
      " _findfont_cached1346|10: findfont: score(<Font 'Bookman Old Style' (BOOKOSB.TTF) normal normal 600 normal>) = 10.24 [font_manager.py04/22:10:06]\n"
     ]
    },
    {
     "name": "stderr",
     "output_type": "stream",
     "text": [
      " _findfont_cached1346|DEBUG: findfont: score(<Font 'Bookman Old Style' (BOOKOSB.TTF) normal normal 600 normal>) = 10.24 [font_manager.py04/22:10:06]\n"
     ]
    },
    {
     "name": "stdout",
     "output_type": "stream",
     "text": [
      " _findfont_cached1346|10: findfont: score(<Font 'Nirmala UI' (Nirmala.ttf) normal normal 400 normal>) = 10.05 [font_manager.py04/22:10:06]\n"
     ]
    },
    {
     "name": "stderr",
     "output_type": "stream",
     "text": [
      " _findfont_cached1346|DEBUG: findfont: score(<Font 'Nirmala UI' (Nirmala.ttf) normal normal 400 normal>) = 10.05 [font_manager.py04/22:10:06]\n"
     ]
    },
    {
     "name": "stdout",
     "output_type": "stream",
     "text": [
      " _findfont_cached1346|10: findfont: score(<Font 'Curlz MT' (CURLZ___.TTF) normal normal 400 normal>) = 10.05 [font_manager.py04/22:10:06]\n"
     ]
    },
    {
     "name": "stderr",
     "output_type": "stream",
     "text": [
      " _findfont_cached1346|DEBUG: findfont: score(<Font 'Curlz MT' (CURLZ___.TTF) normal normal 400 normal>) = 10.05 [font_manager.py04/22:10:06]\n"
     ]
    },
    {
     "name": "stdout",
     "output_type": "stream",
     "text": [
      " _findfont_cached1346|10: findfont: score(<Font 'Centaur' (CENTAUR.TTF) normal normal 400 normal>) = 10.05 [font_manager.py04/22:10:06]\n"
     ]
    },
    {
     "name": "stderr",
     "output_type": "stream",
     "text": [
      " _findfont_cached1346|DEBUG: findfont: score(<Font 'Centaur' (CENTAUR.TTF) normal normal 400 normal>) = 10.05 [font_manager.py04/22:10:06]\n"
     ]
    },
    {
     "name": "stdout",
     "output_type": "stream",
     "text": [
      " _findfont_cached1346|10: findfont: score(<Font 'Century' (CENTURY.TTF) normal normal 400 normal>) = 10.05 [font_manager.py04/22:10:06]\n"
     ]
    },
    {
     "name": "stderr",
     "output_type": "stream",
     "text": [
      " _findfont_cached1346|DEBUG: findfont: score(<Font 'Century' (CENTURY.TTF) normal normal 400 normal>) = 10.05 [font_manager.py04/22:10:06]\n"
     ]
    },
    {
     "name": "stdout",
     "output_type": "stream",
     "text": [
      " _findfont_cached1346|10: findfont: score(<Font 'Caladea' (Caladea-Bold.ttf) normal normal 700 normal>) = 10.335 [font_manager.py04/22:10:06]\n"
     ]
    },
    {
     "name": "stderr",
     "output_type": "stream",
     "text": [
      " _findfont_cached1346|DEBUG: findfont: score(<Font 'Caladea' (Caladea-Bold.ttf) normal normal 700 normal>) = 10.335 [font_manager.py04/22:10:06]\n"
     ]
    },
    {
     "name": "stdout",
     "output_type": "stream",
     "text": [
      " _findfont_cached1346|10: findfont: score(<Font 'MS Reference Sans Serif' (REFSAN.TTF) normal normal 400 normal>) = 10.05 [font_manager.py04/22:10:06]\n"
     ]
    },
    {
     "name": "stderr",
     "output_type": "stream",
     "text": [
      " _findfont_cached1346|DEBUG: findfont: score(<Font 'MS Reference Sans Serif' (REFSAN.TTF) normal normal 400 normal>) = 10.05 [font_manager.py04/22:10:06]\n"
     ]
    },
    {
     "name": "stdout",
     "output_type": "stream",
     "text": [
      " _findfont_cached1346|10: findfont: score(<Font 'Constantia' (constanb.ttf) normal normal 700 normal>) = 10.335 [font_manager.py04/22:10:06]\n"
     ]
    },
    {
     "name": "stderr",
     "output_type": "stream",
     "text": [
      " _findfont_cached1346|DEBUG: findfont: score(<Font 'Constantia' (constanb.ttf) normal normal 700 normal>) = 10.335 [font_manager.py04/22:10:06]\n"
     ]
    },
    {
     "name": "stdout",
     "output_type": "stream",
     "text": [
      " _findfont_cached1346|10: findfont: score(<Font 'Franklin Gothic Heavy' (FRAHV.TTF) normal normal 400 normal>) = 10.05 [font_manager.py04/22:10:06]\n"
     ]
    },
    {
     "name": "stderr",
     "output_type": "stream",
     "text": [
      " _findfont_cached1346|DEBUG: findfont: score(<Font 'Franklin Gothic Heavy' (FRAHV.TTF) normal normal 400 normal>) = 10.05 [font_manager.py04/22:10:06]\n"
     ]
    },
    {
     "name": "stdout",
     "output_type": "stream",
     "text": [
      " _findfont_cached1346|10: findfont: score(<Font 'Elephant' (ELEPHNTI.TTF) italic normal 400 normal>) = 11.05 [font_manager.py04/22:10:06]\n"
     ]
    },
    {
     "name": "stderr",
     "output_type": "stream",
     "text": [
      " _findfont_cached1346|DEBUG: findfont: score(<Font 'Elephant' (ELEPHNTI.TTF) italic normal 400 normal>) = 11.05 [font_manager.py04/22:10:06]\n"
     ]
    },
    {
     "name": "stdout",
     "output_type": "stream",
     "text": [
      " _findfont_cached1346|10: findfont: score(<Font 'Californian FB' (CALIFR.TTF) normal normal 400 normal>) = 10.05 [font_manager.py04/22:10:06]\n"
     ]
    },
    {
     "name": "stderr",
     "output_type": "stream",
     "text": [
      " _findfont_cached1346|DEBUG: findfont: score(<Font 'Californian FB' (CALIFR.TTF) normal normal 400 normal>) = 10.05 [font_manager.py04/22:10:06]\n"
     ]
    },
    {
     "name": "stdout",
     "output_type": "stream",
     "text": [
      " _findfont_cached1346|10: findfont: score(<Font 'Segoe UI' (seguili.ttf) italic normal 300 normal>) = 11.145 [font_manager.py04/22:10:06]\n"
     ]
    },
    {
     "name": "stderr",
     "output_type": "stream",
     "text": [
      " _findfont_cached1346|DEBUG: findfont: score(<Font 'Segoe UI' (seguili.ttf) italic normal 300 normal>) = 11.145 [font_manager.py04/22:10:06]\n"
     ]
    },
    {
     "name": "stdout",
     "output_type": "stream",
     "text": [
      " _findfont_cached1346|10: findfont: score(<Font 'Segoe UI' (segoeuil.ttf) normal normal 300 normal>) = 10.145 [font_manager.py04/22:10:06]\n"
     ]
    },
    {
     "name": "stderr",
     "output_type": "stream",
     "text": [
      " _findfont_cached1346|DEBUG: findfont: score(<Font 'Segoe UI' (segoeuil.ttf) normal normal 300 normal>) = 10.145 [font_manager.py04/22:10:06]\n"
     ]
    },
    {
     "name": "stdout",
     "output_type": "stream",
     "text": [
      " _findfont_cached1346|10: findfont: score(<Font 'Liberation Mono' (LiberationMono-BoldItalic.ttf) italic normal 700 normal>) = 11.335 [font_manager.py04/22:10:06]\n"
     ]
    },
    {
     "name": "stderr",
     "output_type": "stream",
     "text": [
      " _findfont_cached1346|DEBUG: findfont: score(<Font 'Liberation Mono' (LiberationMono-BoldItalic.ttf) italic normal 700 normal>) = 11.335 [font_manager.py04/22:10:06]\n"
     ]
    },
    {
     "name": "stdout",
     "output_type": "stream",
     "text": [
      " _findfont_cached1346|10: findfont: score(<Font 'Sitka Small' (Sitka.ttc) normal normal 400 normal>) = 10.05 [font_manager.py04/22:10:06]\n"
     ]
    },
    {
     "name": "stderr",
     "output_type": "stream",
     "text": [
      " _findfont_cached1346|DEBUG: findfont: score(<Font 'Sitka Small' (Sitka.ttc) normal normal 400 normal>) = 10.05 [font_manager.py04/22:10:06]\n"
     ]
    },
    {
     "name": "stdout",
     "output_type": "stream",
     "text": [
      " _findfont_cached1346|10: findfont: score(<Font 'Sitka Small' (SitkaZ.ttc) italic normal 700 normal>) = 11.335 [font_manager.py04/22:10:06]\n"
     ]
    },
    {
     "name": "stderr",
     "output_type": "stream",
     "text": [
      " _findfont_cached1346|DEBUG: findfont: score(<Font 'Sitka Small' (SitkaZ.ttc) italic normal 700 normal>) = 11.335 [font_manager.py04/22:10:06]\n"
     ]
    },
    {
     "name": "stdout",
     "output_type": "stream",
     "text": [
      " _findfont_cached1346|10: findfont: score(<Font 'Noto Naskh Arabic' (NotoNaskhArabic-Bold.ttf) normal normal 700 normal>) = 10.335 [font_manager.py04/22:10:06]\n"
     ]
    },
    {
     "name": "stderr",
     "output_type": "stream",
     "text": [
      " _findfont_cached1346|DEBUG: findfont: score(<Font 'Noto Naskh Arabic' (NotoNaskhArabic-Bold.ttf) normal normal 700 normal>) = 10.335 [font_manager.py04/22:10:06]\n"
     ]
    },
    {
     "name": "stdout",
     "output_type": "stream",
     "text": [
      " _findfont_cached1346|10: findfont: score(<Font 'SimHei' (simhei.ttf) normal normal 400 normal>) = 10.05 [font_manager.py04/22:10:06]\n"
     ]
    },
    {
     "name": "stderr",
     "output_type": "stream",
     "text": [
      " _findfont_cached1346|DEBUG: findfont: score(<Font 'SimHei' (simhei.ttf) normal normal 400 normal>) = 10.05 [font_manager.py04/22:10:06]\n"
     ]
    },
    {
     "name": "stdout",
     "output_type": "stream",
     "text": [
      " _findfont_cached1346|10: findfont: score(<Font 'Consolas' (consolab.ttf) normal normal 700 normal>) = 10.335 [font_manager.py04/22:10:06]\n"
     ]
    },
    {
     "name": "stderr",
     "output_type": "stream",
     "text": [
      " _findfont_cached1346|DEBUG: findfont: score(<Font 'Consolas' (consolab.ttf) normal normal 700 normal>) = 10.335 [font_manager.py04/22:10:06]\n"
     ]
    },
    {
     "name": "stdout",
     "output_type": "stream",
     "text": [
      " _findfont_cached1346|10: findfont: score(<Font 'Bodoni MT' (BOD_CB.TTF) normal normal 700 condensed>) = 10.535 [font_manager.py04/22:10:06]\n"
     ]
    },
    {
     "name": "stderr",
     "output_type": "stream",
     "text": [
      " _findfont_cached1346|DEBUG: findfont: score(<Font 'Bodoni MT' (BOD_CB.TTF) normal normal 700 condensed>) = 10.535 [font_manager.py04/22:10:06]\n"
     ]
    },
    {
     "name": "stdout",
     "output_type": "stream",
     "text": [
      " _findfont_cached1346|10: findfont: score(<Font 'Source Code Pro' (SourceCodePro-It.ttf) italic normal 400 normal>) = 11.05 [font_manager.py04/22:10:06]\n"
     ]
    },
    {
     "name": "stderr",
     "output_type": "stream",
     "text": [
      " _findfont_cached1346|DEBUG: findfont: score(<Font 'Source Code Pro' (SourceCodePro-It.ttf) italic normal 400 normal>) = 11.05 [font_manager.py04/22:10:06]\n"
     ]
    },
    {
     "name": "stdout",
     "output_type": "stream",
     "text": [
      " _findfont_cached1346|10: findfont: score(<Font 'DejaVu Sans Mono' (DejaVuSansMono-Bold.ttf) normal normal 700 normal>) = 10.335 [font_manager.py04/22:10:06]\n"
     ]
    },
    {
     "name": "stderr",
     "output_type": "stream",
     "text": [
      " _findfont_cached1346|DEBUG: findfont: score(<Font 'DejaVu Sans Mono' (DejaVuSansMono-Bold.ttf) normal normal 700 normal>) = 10.335 [font_manager.py04/22:10:06]\n"
     ]
    },
    {
     "name": "stdout",
     "output_type": "stream",
     "text": [
      " _findfont_cached1346|10: findfont: score(<Font 'Liberation Sans' (LiberationSans-Regular.ttf) normal normal 400 normal>) = 10.05 [font_manager.py04/22:10:06]\n"
     ]
    },
    {
     "name": "stderr",
     "output_type": "stream",
     "text": [
      " _findfont_cached1346|DEBUG: findfont: score(<Font 'Liberation Sans' (LiberationSans-Regular.ttf) normal normal 400 normal>) = 10.05 [font_manager.py04/22:10:06]\n"
     ]
    },
    {
     "name": "stdout",
     "output_type": "stream",
     "text": [
      " _findfont_cached1346|10: findfont: score(<Font 'High Tower Text' (HTOWERT.TTF) normal normal 400 normal>) = 10.05 [font_manager.py04/22:10:06]\n"
     ]
    },
    {
     "name": "stderr",
     "output_type": "stream",
     "text": [
      " _findfont_cached1346|DEBUG: findfont: score(<Font 'High Tower Text' (HTOWERT.TTF) normal normal 400 normal>) = 10.05 [font_manager.py04/22:10:06]\n"
     ]
    },
    {
     "name": "stdout",
     "output_type": "stream",
     "text": [
      " _findfont_cached1346|10: findfont: score(<Font 'Noto Naskh Arabic UI' (NotoNaskhArabicUI-Regular.ttf) normal normal 400 normal>) = 10.05 [font_manager.py04/22:10:06]\n"
     ]
    },
    {
     "name": "stderr",
     "output_type": "stream",
     "text": [
      " _findfont_cached1346|DEBUG: findfont: score(<Font 'Noto Naskh Arabic UI' (NotoNaskhArabicUI-Regular.ttf) normal normal 400 normal>) = 10.05 [font_manager.py04/22:10:06]\n"
     ]
    },
    {
     "name": "stdout",
     "output_type": "stream",
     "text": [
      " _findfont_cached1346|10: findfont: score(<Font 'SimSun-ExtB' (simsunb.ttf) normal normal 400 normal>) = 10.05 [font_manager.py04/22:10:06]\n"
     ]
    },
    {
     "name": "stderr",
     "output_type": "stream",
     "text": [
      " _findfont_cached1346|DEBUG: findfont: score(<Font 'SimSun-ExtB' (simsunb.ttf) normal normal 400 normal>) = 10.05 [font_manager.py04/22:10:06]\n"
     ]
    },
    {
     "name": "stdout",
     "output_type": "stream",
     "text": [
      " _findfont_cached1346|10: findfont: score(<Font 'Source Code Pro' (SourceCodePro-BoldIt.ttf) italic normal 700 normal>) = 11.335 [font_manager.py04/22:10:06]\n"
     ]
    },
    {
     "name": "stderr",
     "output_type": "stream",
     "text": [
      " _findfont_cached1346|DEBUG: findfont: score(<Font 'Source Code Pro' (SourceCodePro-BoldIt.ttf) italic normal 700 normal>) = 11.335 [font_manager.py04/22:10:06]\n"
     ]
    },
    {
     "name": "stdout",
     "output_type": "stream",
     "text": [
      " _findfont_cached1346|10: findfont: score(<Font 'Perpetua' (PER_____.TTF) normal normal 400 normal>) = 10.05 [font_manager.py04/22:10:06]\n"
     ]
    },
    {
     "name": "stderr",
     "output_type": "stream",
     "text": [
      " _findfont_cached1346|DEBUG: findfont: score(<Font 'Perpetua' (PER_____.TTF) normal normal 400 normal>) = 10.05 [font_manager.py04/22:10:06]\n"
     ]
    },
    {
     "name": "stdout",
     "output_type": "stream",
     "text": [
      " _findfont_cached1346|10: findfont: score(<Font 'Chiller' (CHILLER.TTF) normal normal 400 normal>) = 10.05 [font_manager.py04/22:10:06]\n"
     ]
    },
    {
     "name": "stderr",
     "output_type": "stream",
     "text": [
      " _findfont_cached1346|DEBUG: findfont: score(<Font 'Chiller' (CHILLER.TTF) normal normal 400 normal>) = 10.05 [font_manager.py04/22:10:06]\n"
     ]
    },
    {
     "name": "stdout",
     "output_type": "stream",
     "text": [
      " _findfont_cached1346|10: findfont: score(<Font 'DejaVu Serif' (DejaVuSerif.ttf) normal normal 400 normal>) = 10.05 [font_manager.py04/22:10:06]\n"
     ]
    },
    {
     "name": "stderr",
     "output_type": "stream",
     "text": [
      " _findfont_cached1346|DEBUG: findfont: score(<Font 'DejaVu Serif' (DejaVuSerif.ttf) normal normal 400 normal>) = 10.05 [font_manager.py04/22:10:06]\n"
     ]
    },
    {
     "name": "stdout",
     "output_type": "stream",
     "text": [
      " _findfont_cached1346|10: findfont: score(<Font 'Frank Ruehl CLM' (FrankRuehlCLM-Medium.ttf) normal normal 500 normal>) = 10.145 [font_manager.py04/22:10:06]\n"
     ]
    },
    {
     "name": "stderr",
     "output_type": "stream",
     "text": [
      " _findfont_cached1346|DEBUG: findfont: score(<Font 'Frank Ruehl CLM' (FrankRuehlCLM-Medium.ttf) normal normal 500 normal>) = 10.145 [font_manager.py04/22:10:06]\n"
     ]
    },
    {
     "name": "stdout",
     "output_type": "stream",
     "text": [
      " _findfont_cached1346|10: findfont: score(<Font 'Bookman Old Style' (BOOKOSB.TTF) normal normal 600 normal>) = 10.24 [font_manager.py04/22:10:06]\n"
     ]
    },
    {
     "name": "stderr",
     "output_type": "stream",
     "text": [
      " _findfont_cached1346|DEBUG: findfont: score(<Font 'Bookman Old Style' (BOOKOSB.TTF) normal normal 600 normal>) = 10.24 [font_manager.py04/22:10:06]\n"
     ]
    },
    {
     "name": "stdout",
     "output_type": "stream",
     "text": [
      " _findfont_cached1346|10: findfont: score(<Font 'Perpetua Titling MT' (PERTIBD.TTF) normal normal 700 normal>) = 10.335 [font_manager.py04/22:10:06]\n"
     ]
    },
    {
     "name": "stderr",
     "output_type": "stream",
     "text": [
      " _findfont_cached1346|DEBUG: findfont: score(<Font 'Perpetua Titling MT' (PERTIBD.TTF) normal normal 700 normal>) = 10.335 [font_manager.py04/22:10:06]\n"
     ]
    },
    {
     "name": "stdout",
     "output_type": "stream",
     "text": [
      " _findfont_cached1346|10: findfont: score(<Font 'Frank Ruhl Hofshi' (FrankRuhlHofshi-Bold.otf) normal normal 700 normal>) = 10.335 [font_manager.py04/22:10:06]\n"
     ]
    },
    {
     "name": "stderr",
     "output_type": "stream",
     "text": [
      " _findfont_cached1346|DEBUG: findfont: score(<Font 'Frank Ruhl Hofshi' (FrankRuhlHofshi-Bold.otf) normal normal 700 normal>) = 10.335 [font_manager.py04/22:10:06]\n"
     ]
    },
    {
     "name": "stdout",
     "output_type": "stream",
     "text": [
      " _findfont_cached1346|10: findfont: score(<Font 'Curlz MT' (CURLZ___.TTF) normal normal 400 normal>) = 10.05 [font_manager.py04/22:10:06]\n"
     ]
    },
    {
     "name": "stderr",
     "output_type": "stream",
     "text": [
      " _findfont_cached1346|DEBUG: findfont: score(<Font 'Curlz MT' (CURLZ___.TTF) normal normal 400 normal>) = 10.05 [font_manager.py04/22:10:06]\n"
     ]
    },
    {
     "name": "stdout",
     "output_type": "stream",
     "text": [
      " _findfont_cached1346|10: findfont: score(<Font 'Perpetua' (PERI____.TTF) italic normal 400 normal>) = 11.05 [font_manager.py04/22:10:06]\n"
     ]
    },
    {
     "name": "stderr",
     "output_type": "stream",
     "text": [
      " _findfont_cached1346|DEBUG: findfont: score(<Font 'Perpetua' (PERI____.TTF) italic normal 400 normal>) = 11.05 [font_manager.py04/22:10:06]\n"
     ]
    },
    {
     "name": "stdout",
     "output_type": "stream",
     "text": [
      " _findfont_cached1346|10: findfont: score(<Font 'Goudy Old Style' (GOUDOSI.TTF) italic normal 400 normal>) = 11.05 [font_manager.py04/22:10:06]\n"
     ]
    },
    {
     "name": "stderr",
     "output_type": "stream",
     "text": [
      " _findfont_cached1346|DEBUG: findfont: score(<Font 'Goudy Old Style' (GOUDOSI.TTF) italic normal 400 normal>) = 11.05 [font_manager.py04/22:10:06]\n"
     ]
    },
    {
     "name": "stdout",
     "output_type": "stream",
     "text": [
      " _findfont_cached1346|10: findfont: score(<Font 'Papyrus' (PAPYRUS.TTF) normal normal 400 normal>) = 10.05 [font_manager.py04/22:10:06]\n"
     ]
    },
    {
     "name": "stderr",
     "output_type": "stream",
     "text": [
      " _findfont_cached1346|DEBUG: findfont: score(<Font 'Papyrus' (PAPYRUS.TTF) normal normal 400 normal>) = 10.05 [font_manager.py04/22:10:06]\n"
     ]
    },
    {
     "name": "stdout",
     "output_type": "stream",
     "text": [
      " _findfont_cached1346|10: findfont: score(<Font 'Lucida Sans Typewriter' (LTYPEO.TTF) oblique normal 400 normal>) = 11.05 [font_manager.py04/22:10:06]\n"
     ]
    },
    {
     "name": "stderr",
     "output_type": "stream",
     "text": [
      " _findfont_cached1346|DEBUG: findfont: score(<Font 'Lucida Sans Typewriter' (LTYPEO.TTF) oblique normal 400 normal>) = 11.05 [font_manager.py04/22:10:06]\n"
     ]
    },
    {
     "name": "stdout",
     "output_type": "stream",
     "text": [
      " _findfont_cached1346|10: findfont: score(<Font 'Britannic Bold' (BRITANIC.TTF) normal normal 400 normal>) = 10.05 [font_manager.py04/22:10:06]\n"
     ]
    },
    {
     "name": "stderr",
     "output_type": "stream",
     "text": [
      " _findfont_cached1346|DEBUG: findfont: score(<Font 'Britannic Bold' (BRITANIC.TTF) normal normal 400 normal>) = 10.05 [font_manager.py04/22:10:06]\n"
     ]
    },
    {
     "name": "stdout",
     "output_type": "stream",
     "text": [
      " _findfont_cached1346|10: findfont: score(<Font 'Mistral' (MISTRAL.TTF) normal normal 400 normal>) = 10.05 [font_manager.py04/22:10:06]\n"
     ]
    },
    {
     "name": "stderr",
     "output_type": "stream",
     "text": [
      " _findfont_cached1346|DEBUG: findfont: score(<Font 'Mistral' (MISTRAL.TTF) normal normal 400 normal>) = 10.05 [font_manager.py04/22:10:06]\n"
     ]
    },
    {
     "name": "stdout",
     "output_type": "stream",
     "text": [
      " _findfont_cached1346|10: findfont: score(<Font 'Bodoni MT' (BOD_BLAR.TTF) normal normal 900 normal>) = 10.525 [font_manager.py04/22:10:06]\n"
     ]
    },
    {
     "name": "stderr",
     "output_type": "stream",
     "text": [
      " _findfont_cached1346|DEBUG: findfont: score(<Font 'Bodoni MT' (BOD_BLAR.TTF) normal normal 900 normal>) = 10.525 [font_manager.py04/22:10:06]\n"
     ]
    },
    {
     "name": "stdout",
     "output_type": "stream",
     "text": [
      " _findfont_cached1346|10: findfont: score(<Font 'Lucida Sans' (LSANSI.TTF) italic normal 400 normal>) = 11.05 [font_manager.py04/22:10:06]\n"
     ]
    },
    {
     "name": "stderr",
     "output_type": "stream",
     "text": [
      " _findfont_cached1346|DEBUG: findfont: score(<Font 'Lucida Sans' (LSANSI.TTF) italic normal 400 normal>) = 11.05 [font_manager.py04/22:10:06]\n"
     ]
    },
    {
     "name": "stdout",
     "output_type": "stream",
     "text": [
      " _findfont_cached1346|10: findfont: score(<Font 'DengXian' (Dengb.ttf) normal normal 700 normal>) = 10.335 [font_manager.py04/22:10:06]\n"
     ]
    },
    {
     "name": "stderr",
     "output_type": "stream",
     "text": [
      " _findfont_cached1346|DEBUG: findfont: score(<Font 'DengXian' (Dengb.ttf) normal normal 700 normal>) = 10.335 [font_manager.py04/22:10:06]\n"
     ]
    },
    {
     "name": "stdout",
     "output_type": "stream",
     "text": [
      " _findfont_cached1346|10: findfont: score(<Font 'Gentium Basic' (GenBasB.ttf) normal normal 700 normal>) = 10.335 [font_manager.py04/22:10:06]\n"
     ]
    },
    {
     "name": "stderr",
     "output_type": "stream",
     "text": [
      " _findfont_cached1346|DEBUG: findfont: score(<Font 'Gentium Basic' (GenBasB.ttf) normal normal 700 normal>) = 10.335 [font_manager.py04/22:10:06]\n"
     ]
    },
    {
     "name": "stdout",
     "output_type": "stream",
     "text": [
      " _findfont_cached1346|10: findfont: score(<Font 'Copperplate Gothic Light' (COPRGTL.TTF) normal normal 400 normal>) = 10.05 [font_manager.py04/22:10:06]\n"
     ]
    },
    {
     "name": "stderr",
     "output_type": "stream",
     "text": [
      " _findfont_cached1346|DEBUG: findfont: score(<Font 'Copperplate Gothic Light' (COPRGTL.TTF) normal normal 400 normal>) = 10.05 [font_manager.py04/22:10:06]\n"
     ]
    },
    {
     "name": "stdout",
     "output_type": "stream",
     "text": [
      " _findfont_cached1346|10: findfont: score(<Font 'Blackadder ITC' (ITCBLKAD.TTF) normal normal 400 normal>) = 10.05 [font_manager.py04/22:10:06]\n"
     ]
    },
    {
     "name": "stderr",
     "output_type": "stream",
     "text": [
      " _findfont_cached1346|DEBUG: findfont: score(<Font 'Blackadder ITC' (ITCBLKAD.TTF) normal normal 400 normal>) = 10.05 [font_manager.py04/22:10:06]\n"
     ]
    },
    {
     "name": "stdout",
     "output_type": "stream",
     "text": [
      " _findfont_cached1346|10: findfont: score(<Font 'Noto Sans Lao' (NotoSansLao-Bold.ttf) normal normal 700 normal>) = 10.335 [font_manager.py04/22:10:06]\n"
     ]
    },
    {
     "name": "stderr",
     "output_type": "stream",
     "text": [
      " _findfont_cached1346|DEBUG: findfont: score(<Font 'Noto Sans Lao' (NotoSansLao-Bold.ttf) normal normal 700 normal>) = 10.335 [font_manager.py04/22:10:06]\n"
     ]
    },
    {
     "name": "stdout",
     "output_type": "stream",
     "text": [
      " _findfont_cached1346|10: findfont: score(<Font 'Tahoma' (tahomabd.ttf) normal normal 700 normal>) = 10.335 [font_manager.py04/22:10:06]\n"
     ]
    },
    {
     "name": "stderr",
     "output_type": "stream",
     "text": [
      " _findfont_cached1346|DEBUG: findfont: score(<Font 'Tahoma' (tahomabd.ttf) normal normal 700 normal>) = 10.335 [font_manager.py04/22:10:06]\n"
     ]
    },
    {
     "name": "stdout",
     "output_type": "stream",
     "text": [
      " _findfont_cached1346|10: findfont: score(<Font 'Segoe Print' (segoepr.ttf) normal normal 400 normal>) = 10.05 [font_manager.py04/22:10:06]\n"
     ]
    },
    {
     "name": "stderr",
     "output_type": "stream",
     "text": [
      " _findfont_cached1346|DEBUG: findfont: score(<Font 'Segoe Print' (segoepr.ttf) normal normal 400 normal>) = 10.05 [font_manager.py04/22:10:06]\n"
     ]
    },
    {
     "name": "stdout",
     "output_type": "stream",
     "text": [
      " _findfont_cached1346|10: findfont: score(<Font 'Calisto MT' (CALIST.TTF) normal normal 400 normal>) = 10.05 [font_manager.py04/22:10:06]\n"
     ]
    },
    {
     "name": "stderr",
     "output_type": "stream",
     "text": [
      " _findfont_cached1346|DEBUG: findfont: score(<Font 'Calisto MT' (CALIST.TTF) normal normal 400 normal>) = 10.05 [font_manager.py04/22:10:06]\n"
     ]
    },
    {
     "name": "stdout",
     "output_type": "stream",
     "text": [
      " _findfont_cached1346|10: findfont: score(<Font 'Constantia' (constani.ttf) italic normal 400 normal>) = 11.05 [font_manager.py04/22:10:06]\n"
     ]
    },
    {
     "name": "stderr",
     "output_type": "stream",
     "text": [
      " _findfont_cached1346|DEBUG: findfont: score(<Font 'Constantia' (constani.ttf) italic normal 400 normal>) = 11.05 [font_manager.py04/22:10:06]\n"
     ]
    },
    {
     "name": "stdout",
     "output_type": "stream",
     "text": [
      " _findfont_cached1346|10: findfont: score(<Font 'Copperplate Gothic Bold' (COPRGTB.TTF) normal normal 400 normal>) = 10.05 [font_manager.py04/22:10:06]\n"
     ]
    },
    {
     "name": "stderr",
     "output_type": "stream",
     "text": [
      " _findfont_cached1346|DEBUG: findfont: score(<Font 'Copperplate Gothic Bold' (COPRGTB.TTF) normal normal 400 normal>) = 10.05 [font_manager.py04/22:10:06]\n"
     ]
    },
    {
     "name": "stdout",
     "output_type": "stream",
     "text": [
      " _findfont_cached1346|10: findfont: score(<Font 'Linux Libertine Display G' (LinLibertine_DR_G.ttf) normal normal 400 normal>) = 10.05 [font_manager.py04/22:10:06]\n"
     ]
    },
    {
     "name": "stderr",
     "output_type": "stream",
     "text": [
      " _findfont_cached1346|DEBUG: findfont: score(<Font 'Linux Libertine Display G' (LinLibertine_DR_G.ttf) normal normal 400 normal>) = 10.05 [font_manager.py04/22:10:06]\n"
     ]
    },
    {
     "name": "stdout",
     "output_type": "stream",
     "text": [
      " _findfont_cached1346|10: findfont: score(<Font 'David Libre' (DavidLibre-Regular.ttf) normal normal 400 normal>) = 10.05 [font_manager.py04/22:10:06]\n"
     ]
    },
    {
     "name": "stderr",
     "output_type": "stream",
     "text": [
      " _findfont_cached1346|DEBUG: findfont: score(<Font 'David Libre' (DavidLibre-Regular.ttf) normal normal 400 normal>) = 10.05 [font_manager.py04/22:10:06]\n"
     ]
    },
    {
     "name": "stdout",
     "output_type": "stream",
     "text": [
      " _findfont_cached1346|10: findfont: score(<Font 'Liberation Serif' (LiberationSerif-Regular.ttf) normal normal 400 normal>) = 10.05 [font_manager.py04/22:10:06]\n"
     ]
    },
    {
     "name": "stderr",
     "output_type": "stream",
     "text": [
      " _findfont_cached1346|DEBUG: findfont: score(<Font 'Liberation Serif' (LiberationSerif-Regular.ttf) normal normal 400 normal>) = 10.05 [font_manager.py04/22:10:06]\n"
     ]
    },
    {
     "name": "stdout",
     "output_type": "stream",
     "text": [
      " _findfont_cached1346|10: findfont: score(<Font 'MS Reference Specialty' (REFSPCL.TTF) normal normal 400 normal>) = 10.05 [font_manager.py04/22:10:06]\n"
     ]
    },
    {
     "name": "stderr",
     "output_type": "stream",
     "text": [
      " _findfont_cached1346|DEBUG: findfont: score(<Font 'MS Reference Specialty' (REFSPCL.TTF) normal normal 400 normal>) = 10.05 [font_manager.py04/22:10:06]\n"
     ]
    },
    {
     "name": "stdout",
     "output_type": "stream",
     "text": [
      " _findfont_cached1346|10: findfont: score(<Font 'SWGamekeys MT' (Swkeys1.ttf) normal normal 400 normal>) = 10.05 [font_manager.py04/22:10:06]\n"
     ]
    },
    {
     "name": "stderr",
     "output_type": "stream",
     "text": [
      " _findfont_cached1346|DEBUG: findfont: score(<Font 'SWGamekeys MT' (Swkeys1.ttf) normal normal 400 normal>) = 10.05 [font_manager.py04/22:10:06]\n"
     ]
    },
    {
     "name": "stdout",
     "output_type": "stream",
     "text": [
      " _findfont_cached1346|10: findfont: score(<Font 'Noto Naskh Arabic' (NotoNaskhArabic-Regular.ttf) normal normal 400 normal>) = 10.05 [font_manager.py04/22:10:06]\n"
     ]
    },
    {
     "name": "stderr",
     "output_type": "stream",
     "text": [
      " _findfont_cached1346|DEBUG: findfont: score(<Font 'Noto Naskh Arabic' (NotoNaskhArabic-Regular.ttf) normal normal 400 normal>) = 10.05 [font_manager.py04/22:10:06]\n"
     ]
    },
    {
     "name": "stdout",
     "output_type": "stream",
     "text": [
      " _findfont_cached1346|10: findfont: score(<Font 'Rubik' (Rubik-Regular.ttf) normal normal 400 normal>) = 10.05 [font_manager.py04/22:10:06]\n"
     ]
    },
    {
     "name": "stderr",
     "output_type": "stream",
     "text": [
      " _findfont_cached1346|DEBUG: findfont: score(<Font 'Rubik' (Rubik-Regular.ttf) normal normal 400 normal>) = 10.05 [font_manager.py04/22:10:06]\n"
     ]
    },
    {
     "name": "stdout",
     "output_type": "stream",
     "text": [
      " _findfont_cached1346|10: findfont: score(<Font 'MS Outlook' (OUTLOOK.TTF) normal normal 400 normal>) = 10.05 [font_manager.py04/22:10:06]\n"
     ]
    },
    {
     "name": "stderr",
     "output_type": "stream",
     "text": [
      " _findfont_cached1346|DEBUG: findfont: score(<Font 'MS Outlook' (OUTLOOK.TTF) normal normal 400 normal>) = 10.05 [font_manager.py04/22:10:06]\n"
     ]
    },
    {
     "name": "stdout",
     "output_type": "stream",
     "text": [
      " _findfont_cached1346|10: findfont: score(<Font 'Noto Serif' (NotoSerif-LightItalic.ttf) italic normal 300 normal>) = 11.145 [font_manager.py04/22:10:06]\n"
     ]
    },
    {
     "name": "stderr",
     "output_type": "stream",
     "text": [
      " _findfont_cached1346|DEBUG: findfont: score(<Font 'Noto Serif' (NotoSerif-LightItalic.ttf) italic normal 300 normal>) = 11.145 [font_manager.py04/22:10:06]\n"
     ]
    },
    {
     "name": "stdout",
     "output_type": "stream",
     "text": [
      " _findfont_cached1346|10: findfont: score(<Font 'Source Serif Pro' (SourceSerifPro-LightIt.ttf) italic normal 300 normal>) = 11.145 [font_manager.py04/22:10:06]\n"
     ]
    },
    {
     "name": "stderr",
     "output_type": "stream",
     "text": [
      " _findfont_cached1346|DEBUG: findfont: score(<Font 'Source Serif Pro' (SourceSerifPro-LightIt.ttf) italic normal 300 normal>) = 11.145 [font_manager.py04/22:10:06]\n"
     ]
    },
    {
     "name": "stdout",
     "output_type": "stream",
     "text": [
      " _findfont_cached1346|10: findfont: score(<Font 'Frank Ruehl CLM' (FrankRuehlCLM-BoldOblique.ttf) oblique normal 700 normal>) = 11.335 [font_manager.py04/22:10:06]\n"
     ]
    },
    {
     "name": "stderr",
     "output_type": "stream",
     "text": [
      " _findfont_cached1346|DEBUG: findfont: score(<Font 'Frank Ruehl CLM' (FrankRuehlCLM-BoldOblique.ttf) oblique normal 700 normal>) = 11.335 [font_manager.py04/22:10:06]\n"
     ]
    },
    {
     "name": "stdout",
     "output_type": "stream",
     "text": [
      " _findfont_cached1346|10: findfont: score(<Font 'Calibri' (calibri.ttf) normal normal 400 normal>) = 10.05 [font_manager.py04/22:10:06]\n"
     ]
    },
    {
     "name": "stderr",
     "output_type": "stream",
     "text": [
      " _findfont_cached1346|DEBUG: findfont: score(<Font 'Calibri' (calibri.ttf) normal normal 400 normal>) = 10.05 [font_manager.py04/22:10:06]\n"
     ]
    },
    {
     "name": "stdout",
     "output_type": "stream",
     "text": [
      " _findfont_cached1346|10: findfont: score(<Font 'Gill Sans MT' (GILB____.TTF) normal normal 700 normal>) = 10.335 [font_manager.py04/22:10:06]\n"
     ]
    },
    {
     "name": "stderr",
     "output_type": "stream",
     "text": [
      " _findfont_cached1346|DEBUG: findfont: score(<Font 'Gill Sans MT' (GILB____.TTF) normal normal 700 normal>) = 10.335 [font_manager.py04/22:10:06]\n"
     ]
    },
    {
     "name": "stdout",
     "output_type": "stream",
     "text": [
      " _findfont_cached1346|10: findfont: score(<Font 'OCR-A II' (OCRA2_P.TTF) normal normal 400 normal>) = 10.05 [font_manager.py04/22:10:06]\n"
     ]
    },
    {
     "name": "stderr",
     "output_type": "stream",
     "text": [
      " _findfont_cached1346|DEBUG: findfont: score(<Font 'OCR-A II' (OCRA2_P.TTF) normal normal 400 normal>) = 10.05 [font_manager.py04/22:10:06]\n"
     ]
    },
    {
     "name": "stdout",
     "output_type": "stream",
     "text": [
      " _findfont_cached1346|10: findfont: score(<Font 'DejaVu Sans Mono' (DejaVuSansMono.ttf) normal normal 400 normal>) = 10.05 [font_manager.py04/22:10:06]\n"
     ]
    },
    {
     "name": "stderr",
     "output_type": "stream",
     "text": [
      " _findfont_cached1346|DEBUG: findfont: score(<Font 'DejaVu Sans Mono' (DejaVuSansMono.ttf) normal normal 400 normal>) = 10.05 [font_manager.py04/22:10:06]\n"
     ]
    },
    {
     "name": "stdout",
     "output_type": "stream",
     "text": [
      " _findfont_cached1346|10: findfont: score(<Font 'Adobe Devanagari' (AdobeDevanagari-BoldItalic.otf) italic normal 700 normal>) = 11.335 [font_manager.py04/22:10:06]\n"
     ]
    },
    {
     "name": "stderr",
     "output_type": "stream",
     "text": [
      " _findfont_cached1346|DEBUG: findfont: score(<Font 'Adobe Devanagari' (AdobeDevanagari-BoldItalic.otf) italic normal 700 normal>) = 11.335 [font_manager.py04/22:10:06]\n"
     ]
    },
    {
     "name": "stdout",
     "output_type": "stream",
     "text": [
      " _findfont_cached1346|10: findfont: score(<Font 'Lucida Handwriting' (LHANDW.TTF) italic normal 400 normal>) = 11.05 [font_manager.py04/22:10:06]\n"
     ]
    },
    {
     "name": "stderr",
     "output_type": "stream",
     "text": [
      " _findfont_cached1346|DEBUG: findfont: score(<Font 'Lucida Handwriting' (LHANDW.TTF) italic normal 400 normal>) = 11.05 [font_manager.py04/22:10:06]\n"
     ]
    },
    {
     "name": "stdout",
     "output_type": "stream",
     "text": [
      " _findfont_cached1346|10: findfont: score(<Font 'Source Sans Pro' (SourceSansPro-Light.ttf) normal normal 300 normal>) = 10.145 [font_manager.py04/22:10:06]\n"
     ]
    },
    {
     "name": "stderr",
     "output_type": "stream",
     "text": [
      " _findfont_cached1346|DEBUG: findfont: score(<Font 'Source Sans Pro' (SourceSansPro-Light.ttf) normal normal 300 normal>) = 10.145 [font_manager.py04/22:10:06]\n"
     ]
    },
    {
     "name": "stdout",
     "output_type": "stream",
     "text": [
      " _findfont_cached1346|10: findfont: score(<Font 'DejaVu Sans' (DejaVuSans-Bold.ttf) normal normal 700 normal>) = 0.33499999999999996 [font_manager.py04/22:10:06]\n"
     ]
    },
    {
     "name": "stderr",
     "output_type": "stream",
     "text": [
      " _findfont_cached1346|DEBUG: findfont: score(<Font 'DejaVu Sans' (DejaVuSans-Bold.ttf) normal normal 700 normal>) = 0.33499999999999996 [font_manager.py04/22:10:06]\n"
     ]
    },
    {
     "name": "stdout",
     "output_type": "stream",
     "text": [
      " _findfont_cached1346|10: findfont: score(<Font 'Book Antiqua' (ANTQUAB.TTF) normal normal 700 normal>) = 10.335 [font_manager.py04/22:10:06]\n"
     ]
    },
    {
     "name": "stderr",
     "output_type": "stream",
     "text": [
      " _findfont_cached1346|DEBUG: findfont: score(<Font 'Book Antiqua' (ANTQUAB.TTF) normal normal 700 normal>) = 10.335 [font_manager.py04/22:10:06]\n"
     ]
    },
    {
     "name": "stdout",
     "output_type": "stream",
     "text": [
      " _findfont_cached1346|10: findfont: score(<Font 'Source Code Pro' (SourceCodePro-SemiboldIt.ttf) italic normal 600 normal>) = 11.24 [font_manager.py04/22:10:06]\n"
     ]
    },
    {
     "name": "stderr",
     "output_type": "stream",
     "text": [
      " _findfont_cached1346|DEBUG: findfont: score(<Font 'Source Code Pro' (SourceCodePro-SemiboldIt.ttf) italic normal 600 normal>) = 11.24 [font_manager.py04/22:10:06]\n"
     ]
    },
    {
     "name": "stdout",
     "output_type": "stream",
     "text": [
      " _findfont_cached1346|10: findfont: score(<Font 'Juice ITC' (JUICE___.TTF) normal normal 400 normal>) = 10.05 [font_manager.py04/22:10:06]\n"
     ]
    },
    {
     "name": "stderr",
     "output_type": "stream",
     "text": [
      " _findfont_cached1346|DEBUG: findfont: score(<Font 'Juice ITC' (JUICE___.TTF) normal normal 400 normal>) = 10.05 [font_manager.py04/22:10:06]\n"
     ]
    },
    {
     "name": "stdout",
     "output_type": "stream",
     "text": [
      " _findfont_cached1346|10: findfont: score(<Font 'QuickType II Mono' (QT2M_P.TTF) normal normal 400 normal>) = 10.05 [font_manager.py04/22:10:06]\n"
     ]
    },
    {
     "name": "stderr",
     "output_type": "stream",
     "text": [
      " _findfont_cached1346|DEBUG: findfont: score(<Font 'QuickType II Mono' (QT2M_P.TTF) normal normal 400 normal>) = 10.05 [font_manager.py04/22:10:06]\n"
     ]
    },
    {
     "name": "stdout",
     "output_type": "stream",
     "text": [
      " _findfont_cached1346|10: findfont: score(<Font 'Lucida Fax' (LFAXDI.TTF) italic normal 600 normal>) = 11.24 [font_manager.py04/22:10:06]\n"
     ]
    },
    {
     "name": "stderr",
     "output_type": "stream",
     "text": [
      " _findfont_cached1346|DEBUG: findfont: score(<Font 'Lucida Fax' (LFAXDI.TTF) italic normal 600 normal>) = 11.24 [font_manager.py04/22:10:06]\n"
     ]
    },
    {
     "name": "stdout",
     "output_type": "stream",
     "text": [
      " _findfont_cached1346|10: findfont: score(<Font 'DejaVu Sans' (DejaVuSans-Oblique.ttf) oblique normal 400 normal>) = 1.05 [font_manager.py04/22:10:06]\n"
     ]
    },
    {
     "name": "stderr",
     "output_type": "stream",
     "text": [
      " _findfont_cached1346|DEBUG: findfont: score(<Font 'DejaVu Sans' (DejaVuSans-Oblique.ttf) oblique normal 400 normal>) = 1.05 [font_manager.py04/22:10:06]\n"
     ]
    },
    {
     "name": "stdout",
     "output_type": "stream",
     "text": [
      " _findfont_cached1346|10: findfont: score(<Font 'Gentium Book Basic' (GenBkBasBI.ttf) italic normal 700 normal>) = 11.335 [font_manager.py04/22:10:06]\n"
     ]
    },
    {
     "name": "stderr",
     "output_type": "stream",
     "text": [
      " _findfont_cached1346|DEBUG: findfont: score(<Font 'Gentium Book Basic' (GenBkBasBI.ttf) italic normal 700 normal>) = 11.335 [font_manager.py04/22:10:06]\n"
     ]
    },
    {
     "name": "stdout",
     "output_type": "stream",
     "text": [
      " _findfont_cached1346|10: findfont: score(<Font 'Century Schoolbook' (SCHLBKB.TTF) normal normal 700 normal>) = 10.335 [font_manager.py04/22:10:06]\n"
     ]
    },
    {
     "name": "stderr",
     "output_type": "stream",
     "text": [
      " _findfont_cached1346|DEBUG: findfont: score(<Font 'Century Schoolbook' (SCHLBKB.TTF) normal normal 700 normal>) = 10.335 [font_manager.py04/22:10:06]\n"
     ]
    },
    {
     "name": "stdout",
     "output_type": "stream",
     "text": [
      " _findfont_cached1346|10: findfont: score(<Font 'Segoe Script' (segoescb.ttf) normal normal 700 normal>) = 10.335 [font_manager.py04/22:10:06]\n"
     ]
    },
    {
     "name": "stderr",
     "output_type": "stream",
     "text": [
      " _findfont_cached1346|DEBUG: findfont: score(<Font 'Segoe Script' (segoescb.ttf) normal normal 700 normal>) = 10.335 [font_manager.py04/22:10:06]\n"
     ]
    },
    {
     "name": "stdout",
     "output_type": "stream",
     "text": [
      " _findfont_cached1346|10: findfont: score(<Font 'Arial' (ARIALNI.TTF) italic normal 400 condensed>) = 7.613636363636363 [font_manager.py04/22:10:06]\n"
     ]
    },
    {
     "name": "stderr",
     "output_type": "stream",
     "text": [
      " _findfont_cached1346|DEBUG: findfont: score(<Font 'Arial' (ARIALNI.TTF) italic normal 400 condensed>) = 7.613636363636363 [font_manager.py04/22:10:06]\n"
     ]
    },
    {
     "name": "stdout",
     "output_type": "stream",
     "text": [
      " _findfont_cached1346|10: findfont: score(<Font 'Perpetua Titling MT' (PERTIBD.TTF) normal normal 700 normal>) = 10.335 [font_manager.py04/22:10:06]\n"
     ]
    },
    {
     "name": "stderr",
     "output_type": "stream",
     "text": [
      " _findfont_cached1346|DEBUG: findfont: score(<Font 'Perpetua Titling MT' (PERTIBD.TTF) normal normal 700 normal>) = 10.335 [font_manager.py04/22:10:06]\n"
     ]
    },
    {
     "name": "stdout",
     "output_type": "stream",
     "text": [
      " _findfont_cached1346|10: findfont: score(<Font 'Bernard MT Condensed' (BERNHC.TTF) normal normal 400 condensed>) = 10.25 [font_manager.py04/22:10:06]\n"
     ]
    },
    {
     "name": "stderr",
     "output_type": "stream",
     "text": [
      " _findfont_cached1346|DEBUG: findfont: score(<Font 'Bernard MT Condensed' (BERNHC.TTF) normal normal 400 condensed>) = 10.25 [font_manager.py04/22:10:06]\n"
     ]
    },
    {
     "name": "stdout",
     "output_type": "stream",
     "text": [
      " _findfont_cached1346|10: findfont: score(<Font 'Microsoft PhagsPa' (phagspab.ttf) normal normal 700 normal>) = 10.335 [font_manager.py04/22:10:06]\n"
     ]
    },
    {
     "name": "stderr",
     "output_type": "stream",
     "text": [
      " _findfont_cached1346|DEBUG: findfont: score(<Font 'Microsoft PhagsPa' (phagspab.ttf) normal normal 700 normal>) = 10.335 [font_manager.py04/22:10:06]\n"
     ]
    },
    {
     "name": "stdout",
     "output_type": "stream",
     "text": [
      " _findfont_cached1346|10: findfont: score(<Font 'Gentium Basic' (GenBasBI.ttf) italic normal 700 normal>) = 11.335 [font_manager.py04/22:10:06]\n"
     ]
    },
    {
     "name": "stderr",
     "output_type": "stream",
     "text": [
      " _findfont_cached1346|DEBUG: findfont: score(<Font 'Gentium Basic' (GenBasBI.ttf) italic normal 700 normal>) = 11.335 [font_manager.py04/22:10:06]\n"
     ]
    },
    {
     "name": "stdout",
     "output_type": "stream",
     "text": [
      " _findfont_cached1346|10: findfont: score(<Font 'Book Antiqua' (ANTQUABI.TTF) italic normal 700 normal>) = 11.335 [font_manager.py04/22:10:06]\n"
     ]
    },
    {
     "name": "stderr",
     "output_type": "stream",
     "text": [
      " _findfont_cached1346|DEBUG: findfont: score(<Font 'Book Antiqua' (ANTQUABI.TTF) italic normal 700 normal>) = 11.335 [font_manager.py04/22:10:06]\n"
     ]
    },
    {
     "name": "stdout",
     "output_type": "stream",
     "text": [
      " _findfont_cached1346|10: findfont: score(<Font 'Yu Gothic' (YuGothL.ttc) normal normal 300 normal>) = 10.145 [font_manager.py04/22:10:06]\n"
     ]
    },
    {
     "name": "stderr",
     "output_type": "stream",
     "text": [
      " _findfont_cached1346|DEBUG: findfont: score(<Font 'Yu Gothic' (YuGothL.ttc) normal normal 300 normal>) = 10.145 [font_manager.py04/22:10:06]\n"
     ]
    },
    {
     "name": "stdout",
     "output_type": "stream",
     "text": [
      " _findfont_cached1346|10: findfont: score(<Font 'Imprint MT Shadow' (IMPRISHA.TTF) normal normal 400 normal>) = 10.05 [font_manager.py04/22:10:06]\n"
     ]
    },
    {
     "name": "stderr",
     "output_type": "stream",
     "text": [
      " _findfont_cached1346|DEBUG: findfont: score(<Font 'Imprint MT Shadow' (IMPRISHA.TTF) normal normal 400 normal>) = 10.05 [font_manager.py04/22:10:06]\n"
     ]
    },
    {
     "name": "stdout",
     "output_type": "stream",
     "text": [
      " _findfont_cached1346|10: findfont: score(<Font 'Linux Libertine G' (LinLibertine_RB_G.ttf) normal normal 700 normal>) = 10.335 [font_manager.py04/22:10:06]\n"
     ]
    },
    {
     "name": "stderr",
     "output_type": "stream",
     "text": [
      " _findfont_cached1346|DEBUG: findfont: score(<Font 'Linux Libertine G' (LinLibertine_RB_G.ttf) normal normal 700 normal>) = 10.335 [font_manager.py04/22:10:06]\n"
     ]
    },
    {
     "name": "stdout",
     "output_type": "stream",
     "text": [
      " _findfont_cached1346|10: findfont: score(<Font 'Segoe Script' (segoesc.ttf) normal normal 400 normal>) = 10.05 [font_manager.py04/22:10:06]\n"
     ]
    },
    {
     "name": "stderr",
     "output_type": "stream",
     "text": [
      " _findfont_cached1346|DEBUG: findfont: score(<Font 'Segoe Script' (segoesc.ttf) normal normal 400 normal>) = 10.05 [font_manager.py04/22:10:06]\n"
     ]
    },
    {
     "name": "stdout",
     "output_type": "stream",
     "text": [
      " _findfont_cached1346|10: findfont: score(<Font 'Noto Serif' (NotoSerif-CondensedBold.ttf) normal normal 700 condensed>) = 10.535 [font_manager.py04/22:10:06]\n"
     ]
    },
    {
     "name": "stderr",
     "output_type": "stream",
     "text": [
      " _findfont_cached1346|DEBUG: findfont: score(<Font 'Noto Serif' (NotoSerif-CondensedBold.ttf) normal normal 700 condensed>) = 10.535 [font_manager.py04/22:10:06]\n"
     ]
    },
    {
     "name": "stdout",
     "output_type": "stream",
     "text": [
      " _findfont_cached1346|10: findfont: score(<Font 'Candara' (Candaraz.ttf) italic normal 700 normal>) = 11.335 [font_manager.py04/22:10:06]\n"
     ]
    },
    {
     "name": "stderr",
     "output_type": "stream",
     "text": [
      " _findfont_cached1346|DEBUG: findfont: score(<Font 'Candara' (Candaraz.ttf) italic normal 700 normal>) = 11.335 [font_manager.py04/22:10:06]\n"
     ]
    },
    {
     "name": "stdout",
     "output_type": "stream",
     "text": [
      " _findfont_cached1346|10: findfont: score(<Font 'Noto Sans' (NotoSans-Regular.ttf) normal normal 400 normal>) = 10.05 [font_manager.py04/22:10:06]\n"
     ]
    },
    {
     "name": "stderr",
     "output_type": "stream",
     "text": [
      " _findfont_cached1346|DEBUG: findfont: score(<Font 'Noto Sans' (NotoSans-Regular.ttf) normal normal 400 normal>) = 10.05 [font_manager.py04/22:10:06]\n"
     ]
    },
    {
     "name": "stdout",
     "output_type": "stream",
     "text": [
      " _findfont_cached1346|10: findfont: score(<Font 'DengXian' (Dengl.ttf) normal normal 300 normal>) = 10.145 [font_manager.py04/22:10:06]\n"
     ]
    },
    {
     "name": "stderr",
     "output_type": "stream",
     "text": [
      " _findfont_cached1346|DEBUG: findfont: score(<Font 'DengXian' (Dengl.ttf) normal normal 300 normal>) = 10.145 [font_manager.py04/22:10:06]\n"
     ]
    },
    {
     "name": "stdout",
     "output_type": "stream",
     "text": [
      " _findfont_cached1346|10: findfont: score(<Font 'Source Serif Pro' (SourceSerifPro-Semibold.ttf) normal normal 600 normal>) = 10.24 [font_manager.py04/22:10:06]\n"
     ]
    },
    {
     "name": "stderr",
     "output_type": "stream",
     "text": [
      " _findfont_cached1346|DEBUG: findfont: score(<Font 'Source Serif Pro' (SourceSerifPro-Semibold.ttf) normal normal 600 normal>) = 10.24 [font_manager.py04/22:10:06]\n"
     ]
    },
    {
     "name": "stdout",
     "output_type": "stream",
     "text": [
      " _findfont_cached1346|10: findfont: score(<Font 'Liberation Mono' (LiberationMono-Italic.ttf) italic normal 400 normal>) = 11.05 [font_manager.py04/22:10:06]\n"
     ]
    },
    {
     "name": "stderr",
     "output_type": "stream",
     "text": [
      " _findfont_cached1346|DEBUG: findfont: score(<Font 'Liberation Mono' (LiberationMono-Italic.ttf) italic normal 400 normal>) = 11.05 [font_manager.py04/22:10:06]\n"
     ]
    },
    {
     "name": "stdout",
     "output_type": "stream",
     "text": [
      " _findfont_cached1346|10: findfont: score(<Font 'Linux Biolinum G' (LinBiolinum_RI_G.ttf) italic normal 400 normal>) = 11.05 [font_manager.py04/22:10:06]\n"
     ]
    },
    {
     "name": "stderr",
     "output_type": "stream",
     "text": [
      " _findfont_cached1346|DEBUG: findfont: score(<Font 'Linux Biolinum G' (LinBiolinum_RI_G.ttf) italic normal 400 normal>) = 11.05 [font_manager.py04/22:10:06]\n"
     ]
    },
    {
     "name": "stdout",
     "output_type": "stream",
     "text": [
      " _findfont_cached1346|10: findfont: score(<Font 'Poor Richard' (POORICH.TTF) normal normal 400 normal>) = 10.05 [font_manager.py04/22:10:06]\n"
     ]
    },
    {
     "name": "stderr",
     "output_type": "stream",
     "text": [
      " _findfont_cached1346|DEBUG: findfont: score(<Font 'Poor Richard' (POORICH.TTF) normal normal 400 normal>) = 10.05 [font_manager.py04/22:10:06]\n"
     ]
    },
    {
     "name": "stdout",
     "output_type": "stream",
     "text": [
      " _findfont_cached1346|10: findfont: score(<Font 'Nachlieli CLM' (NachlieliCLM-Light.otf) normal normal 300 normal>) = 10.145 [font_manager.py04/22:10:06]\n"
     ]
    },
    {
     "name": "stderr",
     "output_type": "stream",
     "text": [
      " _findfont_cached1346|DEBUG: findfont: score(<Font 'Nachlieli CLM' (NachlieliCLM-Light.otf) normal normal 300 normal>) = 10.145 [font_manager.py04/22:10:06]\n"
     ]
    },
    {
     "name": "stdout",
     "output_type": "stream",
     "text": [
      " _findfont_cached1346|10: findfont: score(<Font 'Dubai' (DUBAI-BOLD.TTF) normal normal 700 normal>) = 10.335 [font_manager.py04/22:10:06]\n"
     ]
    },
    {
     "name": "stderr",
     "output_type": "stream",
     "text": [
      " _findfont_cached1346|DEBUG: findfont: score(<Font 'Dubai' (DUBAI-BOLD.TTF) normal normal 700 normal>) = 10.335 [font_manager.py04/22:10:06]\n"
     ]
    },
    {
     "name": "stdout",
     "output_type": "stream",
     "text": [
      " _findfont_cached1346|10: findfont: score(<Font 'Liberation Sans Narrow' (LiberationSansNarrow-Bold.ttf) normal normal 700 condensed>) = 10.535 [font_manager.py04/22:10:06]\n"
     ]
    },
    {
     "name": "stderr",
     "output_type": "stream",
     "text": [
      " _findfont_cached1346|DEBUG: findfont: score(<Font 'Liberation Sans Narrow' (LiberationSansNarrow-Bold.ttf) normal normal 700 condensed>) = 10.535 [font_manager.py04/22:10:06]\n"
     ]
    },
    {
     "name": "stdout",
     "output_type": "stream",
     "text": [
      " _findfont_cached1346|10: findfont: score(<Font 'Berlin Sans FB Demi' (BRLNSDB.TTF) normal normal 700 normal>) = 10.335 [font_manager.py04/22:10:06]\n"
     ]
    },
    {
     "name": "stderr",
     "output_type": "stream",
     "text": [
      " _findfont_cached1346|DEBUG: findfont: score(<Font 'Berlin Sans FB Demi' (BRLNSDB.TTF) normal normal 700 normal>) = 10.335 [font_manager.py04/22:10:06]\n"
     ]
    },
    {
     "name": "stdout",
     "output_type": "stream",
     "text": [
      " _findfont_cached1346|10: findfont: score(<Font 'Calisto MT' (CALISTBI.TTF) italic normal 700 normal>) = 11.335 [font_manager.py04/22:10:06]\n"
     ]
    },
    {
     "name": "stderr",
     "output_type": "stream",
     "text": [
      " _findfont_cached1346|DEBUG: findfont: score(<Font 'Calisto MT' (CALISTBI.TTF) italic normal 700 normal>) = 11.335 [font_manager.py04/22:10:06]\n"
     ]
    },
    {
     "name": "stdout",
     "output_type": "stream",
     "text": [
      " _findfont_cached1346|10: findfont: score(<Font 'Californian FB' (CALIFI.TTF) italic normal 400 normal>) = 11.05 [font_manager.py04/22:10:06]\n"
     ]
    },
    {
     "name": "stderr",
     "output_type": "stream",
     "text": [
      " _findfont_cached1346|DEBUG: findfont: score(<Font 'Californian FB' (CALIFI.TTF) italic normal 400 normal>) = 11.05 [font_manager.py04/22:10:06]\n"
     ]
    },
    {
     "name": "stdout",
     "output_type": "stream",
     "text": [
      " _findfont_cached1346|10: findfont: score(<Font 'Noto Serif Lao' (NotoSerifLao-Bold.ttf) normal normal 700 normal>) = 10.335 [font_manager.py04/22:10:06]\n"
     ]
    },
    {
     "name": "stderr",
     "output_type": "stream",
     "text": [
      " _findfont_cached1346|DEBUG: findfont: score(<Font 'Noto Serif Lao' (NotoSerifLao-Bold.ttf) normal normal 700 normal>) = 10.335 [font_manager.py04/22:10:06]\n"
     ]
    },
    {
     "name": "stdout",
     "output_type": "stream",
     "text": [
      " _findfont_cached1346|10: findfont: score(<Font 'Century Gothic' (GOTHIC.TTF) normal normal 400 normal>) = 10.05 [font_manager.py04/22:10:06]\n"
     ]
    },
    {
     "name": "stderr",
     "output_type": "stream",
     "text": [
      " _findfont_cached1346|DEBUG: findfont: score(<Font 'Century Gothic' (GOTHIC.TTF) normal normal 400 normal>) = 10.05 [font_manager.py04/22:10:06]\n"
     ]
    },
    {
     "name": "stdout",
     "output_type": "stream",
     "text": [
      " _findfont_cached1346|10: findfont: score(<Font 'Tw Cen MT Condensed' (TCCM____.TTF) normal normal 400 condensed>) = 10.25 [font_manager.py04/22:10:06]\n"
     ]
    },
    {
     "name": "stderr",
     "output_type": "stream",
     "text": [
      " _findfont_cached1346|DEBUG: findfont: score(<Font 'Tw Cen MT Condensed' (TCCM____.TTF) normal normal 400 condensed>) = 10.25 [font_manager.py04/22:10:06]\n"
     ]
    },
    {
     "name": "stdout",
     "output_type": "stream",
     "text": [
      " _findfont_cached1346|10: findfont: score(<Font 'Segoe UI' (segoeuib.ttf) normal normal 700 normal>) = 10.335 [font_manager.py04/22:10:06]\n"
     ]
    },
    {
     "name": "stderr",
     "output_type": "stream",
     "text": [
      " _findfont_cached1346|DEBUG: findfont: score(<Font 'Segoe UI' (segoeuib.ttf) normal normal 700 normal>) = 10.335 [font_manager.py04/22:10:06]\n"
     ]
    },
    {
     "name": "stdout",
     "output_type": "stream",
     "text": [
      " _findfont_cached1346|10: findfont: score(<Font 'Comic Sans MS' (comicbd.ttf) normal normal 700 normal>) = 10.335 [font_manager.py04/22:10:06]\n"
     ]
    },
    {
     "name": "stderr",
     "output_type": "stream",
     "text": [
      " _findfont_cached1346|DEBUG: findfont: score(<Font 'Comic Sans MS' (comicbd.ttf) normal normal 700 normal>) = 10.335 [font_manager.py04/22:10:06]\n"
     ]
    },
    {
     "name": "stdout",
     "output_type": "stream",
     "text": [
      " _findfont_cached1346|10: findfont: score(<Font 'Symbol' (symbol.ttf) normal normal 400 normal>) = 10.05 [font_manager.py04/22:10:06]\n"
     ]
    },
    {
     "name": "stderr",
     "output_type": "stream",
     "text": [
      " _findfont_cached1346|DEBUG: findfont: score(<Font 'Symbol' (symbol.ttf) normal normal 400 normal>) = 10.05 [font_manager.py04/22:10:06]\n"
     ]
    },
    {
     "name": "stdout",
     "output_type": "stream",
     "text": [
      " _findfont_cached1346|10: findfont: score(<Font 'OCR B MT' (OCRBMT.TTF) normal normal 400 normal>) = 10.05 [font_manager.py04/22:10:06]\n"
     ]
    },
    {
     "name": "stderr",
     "output_type": "stream",
     "text": [
      " _findfont_cached1346|DEBUG: findfont: score(<Font 'OCR B MT' (OCRBMT.TTF) normal normal 400 normal>) = 10.05 [font_manager.py04/22:10:06]\n"
     ]
    },
    {
     "name": "stdout",
     "output_type": "stream",
     "text": [
      " _findfont_cached1346|10: findfont: score(<Font 'Arial' (ARIALNI.TTF) italic normal 400 condensed>) = 7.613636363636363 [font_manager.py04/22:10:06]\n"
     ]
    },
    {
     "name": "stderr",
     "output_type": "stream",
     "text": [
      " _findfont_cached1346|DEBUG: findfont: score(<Font 'Arial' (ARIALNI.TTF) italic normal 400 condensed>) = 7.613636363636363 [font_manager.py04/22:10:06]\n"
     ]
    },
    {
     "name": "stdout",
     "output_type": "stream",
     "text": [
      " _findfont_cached1346|10: findfont: score(<Font 'DejaVu Serif' (DejaVuSerif-BoldItalic.ttf) italic normal 700 normal>) = 11.335 [font_manager.py04/22:10:06]\n"
     ]
    },
    {
     "name": "stderr",
     "output_type": "stream",
     "text": [
      " _findfont_cached1346|DEBUG: findfont: score(<Font 'DejaVu Serif' (DejaVuSerif-BoldItalic.ttf) italic normal 700 normal>) = 11.335 [font_manager.py04/22:10:06]\n"
     ]
    },
    {
     "name": "stdout",
     "output_type": "stream",
     "text": [
      " _findfont_cached1346|10: findfont: score(<Font 'Matura MT Script Capitals' (MATURASC.TTF) normal normal 400 normal>) = 10.05 [font_manager.py04/22:10:06]\n"
     ]
    },
    {
     "name": "stderr",
     "output_type": "stream",
     "text": [
      " _findfont_cached1346|DEBUG: findfont: score(<Font 'Matura MT Script Capitals' (MATURASC.TTF) normal normal 400 normal>) = 10.05 [font_manager.py04/22:10:06]\n"
     ]
    },
    {
     "name": "stdout",
     "output_type": "stream",
     "text": [
      " _findfont_cached1346|10: findfont: score(<Font 'Calibri' (calibriz.ttf) italic normal 700 normal>) = 11.335 [font_manager.py04/22:10:06]\n"
     ]
    },
    {
     "name": "stderr",
     "output_type": "stream",
     "text": [
      " _findfont_cached1346|DEBUG: findfont: score(<Font 'Calibri' (calibriz.ttf) italic normal 700 normal>) = 11.335 [font_manager.py04/22:10:06]\n"
     ]
    },
    {
     "name": "stdout",
     "output_type": "stream",
     "text": [
      " _findfont_cached1346|10: findfont: score(<Font 'Corbel' (corbeli.ttf) italic normal 400 normal>) = 11.05 [font_manager.py04/22:10:06]\n"
     ]
    },
    {
     "name": "stderr",
     "output_type": "stream",
     "text": [
      " _findfont_cached1346|DEBUG: findfont: score(<Font 'Corbel' (corbeli.ttf) italic normal 400 normal>) = 11.05 [font_manager.py04/22:10:06]\n"
     ]
    },
    {
     "name": "stdout",
     "output_type": "stream",
     "text": [
      " _findfont_cached1346|10: findfont: score(<Font 'Franklin Gothic Demi' (FRADMIT.TTF) italic normal 400 normal>) = 11.05 [font_manager.py04/22:10:06]\n"
     ]
    },
    {
     "name": "stderr",
     "output_type": "stream",
     "text": [
      " _findfont_cached1346|DEBUG: findfont: score(<Font 'Franklin Gothic Demi' (FRADMIT.TTF) italic normal 400 normal>) = 11.05 [font_manager.py04/22:10:06]\n"
     ]
    },
    {
     "name": "stdout",
     "output_type": "stream",
     "text": [
      " _findfont_cached1346|10: findfont: score(<Font 'Source Code Pro' (SourceCodePro-Black.ttf) normal normal 900 normal>) = 10.525 [font_manager.py04/22:10:06]\n"
     ]
    },
    {
     "name": "stderr",
     "output_type": "stream",
     "text": [
      " _findfont_cached1346|DEBUG: findfont: score(<Font 'Source Code Pro' (SourceCodePro-Black.ttf) normal normal 900 normal>) = 10.525 [font_manager.py04/22:10:06]\n"
     ]
    },
    {
     "name": "stdout",
     "output_type": "stream",
     "text": [
      " _findfont_cached1346|10: findfont: score(<Font 'Microsoft YaHei' (msyhl.ttc) normal normal 290 normal>) = 10.1545 [font_manager.py04/22:10:06]\n"
     ]
    },
    {
     "name": "stderr",
     "output_type": "stream",
     "text": [
      " _findfont_cached1346|DEBUG: findfont: score(<Font 'Microsoft YaHei' (msyhl.ttc) normal normal 290 normal>) = 10.1545 [font_manager.py04/22:10:06]\n"
     ]
    },
    {
     "name": "stdout",
     "output_type": "stream",
     "text": [
      " _findfont_cached1346|10: findfont: score(<Font 'Times New Roman' (timesbi.ttf) italic normal 700 normal>) = 11.335 [font_manager.py04/22:10:06]\n"
     ]
    },
    {
     "name": "stderr",
     "output_type": "stream",
     "text": [
      " _findfont_cached1346|DEBUG: findfont: score(<Font 'Times New Roman' (timesbi.ttf) italic normal 700 normal>) = 11.335 [font_manager.py04/22:10:06]\n"
     ]
    },
    {
     "name": "stdout",
     "output_type": "stream",
     "text": [
      " _findfont_cached1346|10: findfont: score(<Font 'Script MT Bold' (SCRIPTBL.TTF) normal normal 700 normal>) = 10.335 [font_manager.py04/22:10:06]\n"
     ]
    },
    {
     "name": "stderr",
     "output_type": "stream",
     "text": [
      " _findfont_cached1346|DEBUG: findfont: score(<Font 'Script MT Bold' (SCRIPTBL.TTF) normal normal 700 normal>) = 10.335 [font_manager.py04/22:10:06]\n"
     ]
    },
    {
     "name": "stdout",
     "output_type": "stream",
     "text": [
      " _findfont_cached1346|10: findfont: score(<Font 'Arial' (ARIALN.TTF) normal normal 400 condensed>) = 6.613636363636363 [font_manager.py04/22:10:06]\n"
     ]
    },
    {
     "name": "stderr",
     "output_type": "stream",
     "text": [
      " _findfont_cached1346|DEBUG: findfont: score(<Font 'Arial' (ARIALN.TTF) normal normal 400 condensed>) = 6.613636363636363 [font_manager.py04/22:10:06]\n"
     ]
    },
    {
     "name": "stdout",
     "output_type": "stream",
     "text": [
      " _findfont_cached1346|10: findfont: score(<Font 'UNAVAILABLE' (AvenirLT-Roman.ttf) normal normal 400 normal>) = 10.05 [font_manager.py04/22:10:06]\n"
     ]
    },
    {
     "name": "stderr",
     "output_type": "stream",
     "text": [
      " _findfont_cached1346|DEBUG: findfont: score(<Font 'UNAVAILABLE' (AvenirLT-Roman.ttf) normal normal 400 normal>) = 10.05 [font_manager.py04/22:10:06]\n"
     ]
    },
    {
     "name": "stdout",
     "output_type": "stream",
     "text": [
      " _findfont_cached1346|10: findfont: score(<Font 'Constantia' (constanb.ttf) normal normal 700 normal>) = 10.335 [font_manager.py04/22:10:06]\n"
     ]
    },
    {
     "name": "stderr",
     "output_type": "stream",
     "text": [
      " _findfont_cached1346|DEBUG: findfont: score(<Font 'Constantia' (constanb.ttf) normal normal 700 normal>) = 10.335 [font_manager.py04/22:10:06]\n"
     ]
    },
    {
     "name": "stdout",
     "output_type": "stream",
     "text": [
      " _findfont_cached1346|10: findfont: score(<Font 'Noto Sans Hebrew' (NotoSansHebrew-Regular.ttf) normal normal 400 normal>) = 10.05 [font_manager.py04/22:10:06]\n"
     ]
    },
    {
     "name": "stderr",
     "output_type": "stream",
     "text": [
      " _findfont_cached1346|DEBUG: findfont: score(<Font 'Noto Sans Hebrew' (NotoSansHebrew-Regular.ttf) normal normal 400 normal>) = 10.05 [font_manager.py04/22:10:06]\n"
     ]
    },
    {
     "name": "stdout",
     "output_type": "stream",
     "text": [
      " _findfont_cached1346|10: findfont: score(<Font 'Noto Serif' (NotoSerif-CondensedBoldItalic.ttf) italic normal 700 condensed>) = 11.535 [font_manager.py04/22:10:06]\n"
     ]
    },
    {
     "name": "stderr",
     "output_type": "stream",
     "text": [
      " _findfont_cached1346|DEBUG: findfont: score(<Font 'Noto Serif' (NotoSerif-CondensedBoldItalic.ttf) italic normal 700 condensed>) = 11.535 [font_manager.py04/22:10:06]\n"
     ]
    },
    {
     "name": "stdout",
     "output_type": "stream",
     "text": [
      " _findfont_cached1346|10: findfont: score(<Font 'Segoe UI' (seguisbi.ttf) italic normal 600 normal>) = 11.24 [font_manager.py04/22:10:06]\n"
     ]
    },
    {
     "name": "stderr",
     "output_type": "stream",
     "text": [
      " _findfont_cached1346|DEBUG: findfont: score(<Font 'Segoe UI' (seguisbi.ttf) italic normal 600 normal>) = 11.24 [font_manager.py04/22:10:06]\n"
     ]
    },
    {
     "name": "stdout",
     "output_type": "stream",
     "text": [
      " _findfont_cached1346|10: findfont: score(<Font 'QuickType II' (QT2_I.TTF) italic normal 400 normal>) = 11.05 [font_manager.py04/22:10:06]\n"
     ]
    },
    {
     "name": "stderr",
     "output_type": "stream",
     "text": [
      " _findfont_cached1346|DEBUG: findfont: score(<Font 'QuickType II' (QT2_I.TTF) italic normal 400 normal>) = 11.05 [font_manager.py04/22:10:06]\n"
     ]
    },
    {
     "name": "stdout",
     "output_type": "stream",
     "text": [
      " _findfont_cached1346|10: findfont: score(<Font 'Berlin Sans FB Demi' (BRLNSDB.TTF) normal normal 700 normal>) = 10.335 [font_manager.py04/22:10:06]\n"
     ]
    },
    {
     "name": "stderr",
     "output_type": "stream",
     "text": [
      " _findfont_cached1346|DEBUG: findfont: score(<Font 'Berlin Sans FB Demi' (BRLNSDB.TTF) normal normal 700 normal>) = 10.335 [font_manager.py04/22:10:06]\n"
     ]
    },
    {
     "name": "stdout",
     "output_type": "stream",
     "text": [
      " _findfont_cached1346|10: findfont: score(<Font 'Comic Sans MS' (comic.ttf) normal normal 400 normal>) = 10.05 [font_manager.py04/22:10:06]\n"
     ]
    },
    {
     "name": "stderr",
     "output_type": "stream",
     "text": [
      " _findfont_cached1346|DEBUG: findfont: score(<Font 'Comic Sans MS' (comic.ttf) normal normal 400 normal>) = 10.05 [font_manager.py04/22:10:06]\n"
     ]
    },
    {
     "name": "stdout",
     "output_type": "stream",
     "text": [
      " _findfont_cached1346|10: findfont: score(<Font 'Linux Libertine Display G' (LinLibertine_DR_G.ttf) normal normal 400 normal>) = 10.05 [font_manager.py04/22:10:06]\n"
     ]
    },
    {
     "name": "stderr",
     "output_type": "stream",
     "text": [
      " _findfont_cached1346|DEBUG: findfont: score(<Font 'Linux Libertine Display G' (LinLibertine_DR_G.ttf) normal normal 400 normal>) = 10.05 [font_manager.py04/22:10:06]\n"
     ]
    },
    {
     "name": "stdout",
     "output_type": "stream",
     "text": [
      " _findfont_cached1346|10: findfont: score(<Font 'Franklin Gothic Book' (FRABK.TTF) normal normal 400 normal>) = 10.05 [font_manager.py04/22:10:06]\n"
     ]
    },
    {
     "name": "stderr",
     "output_type": "stream",
     "text": [
      " _findfont_cached1346|DEBUG: findfont: score(<Font 'Franklin Gothic Book' (FRABK.TTF) normal normal 400 normal>) = 10.05 [font_manager.py04/22:10:06]\n"
     ]
    },
    {
     "name": "stdout",
     "output_type": "stream",
     "text": [
      " _findfont_cached1346|10: findfont: score(<Font 'Times New Roman' (timesi.ttf) italic normal 400 normal>) = 11.05 [font_manager.py04/22:10:06]\n"
     ]
    },
    {
     "name": "stderr",
     "output_type": "stream",
     "text": [
      " _findfont_cached1346|DEBUG: findfont: score(<Font 'Times New Roman' (timesi.ttf) italic normal 400 normal>) = 11.05 [font_manager.py04/22:10:06]\n"
     ]
    },
    {
     "name": "stdout",
     "output_type": "stream",
     "text": [
      " _findfont_cached1346|10: findfont: score(<Font 'Segoe UI' (seguisb.ttf) normal normal 600 normal>) = 10.24 [font_manager.py04/22:10:06]\n"
     ]
    },
    {
     "name": "stderr",
     "output_type": "stream",
     "text": [
      " _findfont_cached1346|DEBUG: findfont: score(<Font 'Segoe UI' (seguisb.ttf) normal normal 600 normal>) = 10.24 [font_manager.py04/22:10:06]\n"
     ]
    },
    {
     "name": "stdout",
     "output_type": "stream",
     "text": [
      " _findfont_cached1346|10: findfont: score(<Font 'Noto Serif' (NotoSerif-Light.ttf) normal normal 300 normal>) = 10.145 [font_manager.py04/22:10:06]\n"
     ]
    },
    {
     "name": "stderr",
     "output_type": "stream",
     "text": [
      " _findfont_cached1346|DEBUG: findfont: score(<Font 'Noto Serif' (NotoSerif-Light.ttf) normal normal 300 normal>) = 10.145 [font_manager.py04/22:10:06]\n"
     ]
    },
    {
     "name": "stdout",
     "output_type": "stream",
     "text": [
      " _findfont_cached1346|10: findfont: score(<Font 'Rockwell' (ROCKB.TTF) normal normal 700 normal>) = 10.335 [font_manager.py04/22:10:06]\n"
     ]
    },
    {
     "name": "stderr",
     "output_type": "stream",
     "text": [
      " _findfont_cached1346|DEBUG: findfont: score(<Font 'Rockwell' (ROCKB.TTF) normal normal 700 normal>) = 10.335 [font_manager.py04/22:10:06]\n"
     ]
    },
    {
     "name": "stdout",
     "output_type": "stream",
     "text": [
      " _findfont_cached1346|10: findfont: score(<Font 'Rubik' (Rubik-Bold.ttf) normal normal 700 normal>) = 10.335 [font_manager.py04/22:10:06]\n"
     ]
    },
    {
     "name": "stderr",
     "output_type": "stream",
     "text": [
      " _findfont_cached1346|DEBUG: findfont: score(<Font 'Rubik' (Rubik-Bold.ttf) normal normal 700 normal>) = 10.335 [font_manager.py04/22:10:06]\n"
     ]
    },
    {
     "name": "stdout",
     "output_type": "stream",
     "text": [
      " _findfont_cached1346|10: findfont: score(<Font 'Rockwell' (ROCKB.TTF) normal normal 700 normal>) = 10.335 [font_manager.py04/22:10:06]\n"
     ]
    },
    {
     "name": "stderr",
     "output_type": "stream",
     "text": [
      " _findfont_cached1346|DEBUG: findfont: score(<Font 'Rockwell' (ROCKB.TTF) normal normal 700 normal>) = 10.335 [font_manager.py04/22:10:06]\n"
     ]
    },
    {
     "name": "stdout",
     "output_type": "stream",
     "text": [
      " _findfont_cached1346|10: findfont: score(<Font 'Parchment' (PARCHM.TTF) normal normal 400 normal>) = 10.05 [font_manager.py04/22:10:06]\n"
     ]
    },
    {
     "name": "stderr",
     "output_type": "stream",
     "text": [
      " _findfont_cached1346|DEBUG: findfont: score(<Font 'Parchment' (PARCHM.TTF) normal normal 400 normal>) = 10.05 [font_manager.py04/22:10:06]\n"
     ]
    },
    {
     "name": "stdout",
     "output_type": "stream",
     "text": [
      " _findfont_cached1346|10: findfont: score(<Font 'Palace Script MT' (PALSCRI.TTF) normal normal 400 normal>) = 10.05 [font_manager.py04/22:10:06]\n"
     ]
    },
    {
     "name": "stderr",
     "output_type": "stream",
     "text": [
      " _findfont_cached1346|DEBUG: findfont: score(<Font 'Palace Script MT' (PALSCRI.TTF) normal normal 400 normal>) = 10.05 [font_manager.py04/22:10:06]\n"
     ]
    },
    {
     "name": "stdout",
     "output_type": "stream",
     "text": [
      " _findfont_cached1346|10: findfont: score(<Font 'Cambria' (cambriab.ttf) normal normal 700 normal>) = 10.335 [font_manager.py04/22:10:06]\n"
     ]
    },
    {
     "name": "stderr",
     "output_type": "stream",
     "text": [
      " _findfont_cached1346|DEBUG: findfont: score(<Font 'Cambria' (cambriab.ttf) normal normal 700 normal>) = 10.335 [font_manager.py04/22:10:06]\n"
     ]
    },
    {
     "name": "stdout",
     "output_type": "stream",
     "text": [
      " _findfont_cached1346|10: findfont: score(<Font 'Reem Kufi' (ReemKufi-Regular.ttf) normal normal 400 normal>) = 10.05 [font_manager.py04/22:10:06]\n"
     ]
    },
    {
     "name": "stderr",
     "output_type": "stream",
     "text": [
      " _findfont_cached1346|DEBUG: findfont: score(<Font 'Reem Kufi' (ReemKufi-Regular.ttf) normal normal 400 normal>) = 10.05 [font_manager.py04/22:10:06]\n"
     ]
    },
    {
     "name": "stdout",
     "output_type": "stream",
     "text": [
      " _findfont_cached1346|10: findfont: score(<Font 'Bodoni MT' (BOD_I.TTF) italic normal 400 normal>) = 11.05 [font_manager.py04/22:10:06]\n"
     ]
    },
    {
     "name": "stderr",
     "output_type": "stream",
     "text": [
      " _findfont_cached1346|DEBUG: findfont: score(<Font 'Bodoni MT' (BOD_I.TTF) italic normal 400 normal>) = 11.05 [font_manager.py04/22:10:06]\n"
     ]
    },
    {
     "name": "stdout",
     "output_type": "stream",
     "text": [
      " _findfont_cached1346|10: findfont: score(<Font 'Noto Sans Hebrew' (NotoSansHebrew-Bold.ttf) normal normal 700 normal>) = 10.335 [font_manager.py04/22:10:06]\n"
     ]
    },
    {
     "name": "stderr",
     "output_type": "stream",
     "text": [
      " _findfont_cached1346|DEBUG: findfont: score(<Font 'Noto Sans Hebrew' (NotoSansHebrew-Bold.ttf) normal normal 700 normal>) = 10.335 [font_manager.py04/22:10:06]\n"
     ]
    },
    {
     "name": "stdout",
     "output_type": "stream",
     "text": [
      " _findfont_cached1346|10: findfont: score(<Font 'KacstOffice' (KacstOffice.ttf) normal normal 500 normal>) = 10.145 [font_manager.py04/22:10:06]\n"
     ]
    },
    {
     "name": "stderr",
     "output_type": "stream",
     "text": [
      " _findfont_cached1346|DEBUG: findfont: score(<Font 'KacstOffice' (KacstOffice.ttf) normal normal 500 normal>) = 10.145 [font_manager.py04/22:10:06]\n"
     ]
    },
    {
     "name": "stdout",
     "output_type": "stream",
     "text": [
      " _findfont_cached1346|10: findfont: score(<Font 'Segoe Script' (segoesc.ttf) normal normal 400 normal>) = 10.05 [font_manager.py04/22:10:06]\n"
     ]
    },
    {
     "name": "stderr",
     "output_type": "stream",
     "text": [
      " _findfont_cached1346|DEBUG: findfont: score(<Font 'Segoe Script' (segoesc.ttf) normal normal 400 normal>) = 10.05 [font_manager.py04/22:10:06]\n"
     ]
    },
    {
     "name": "stdout",
     "output_type": "stream",
     "text": [
      " _findfont_cached1346|10: findfont: score(<Font 'Copperplate Gothic Bold' (COPRGTB.TTF) normal normal 400 normal>) = 10.05 [font_manager.py04/22:10:06]\n"
     ]
    },
    {
     "name": "stderr",
     "output_type": "stream",
     "text": [
      " _findfont_cached1346|DEBUG: findfont: score(<Font 'Copperplate Gothic Bold' (COPRGTB.TTF) normal normal 400 normal>) = 10.05 [font_manager.py04/22:10:06]\n"
     ]
    },
    {
     "name": "stdout",
     "output_type": "stream",
     "text": [
      " _findfont_cached1346|10: findfont: score(<Font 'Source Sans Pro' (SourceSansPro-BlackIt.ttf) italic normal 900 normal>) = 11.525 [font_manager.py04/22:10:06]\n"
     ]
    },
    {
     "name": "stderr",
     "output_type": "stream",
     "text": [
      " _findfont_cached1346|DEBUG: findfont: score(<Font 'Source Sans Pro' (SourceSansPro-BlackIt.ttf) italic normal 900 normal>) = 11.525 [font_manager.py04/22:10:06]\n"
     ]
    },
    {
     "name": "stdout",
     "output_type": "stream",
     "text": [
      " _findfont_cached1346|10: findfont: score(<Font 'Gill Sans MT' (GILBI___.TTF) italic normal 700 normal>) = 11.335 [font_manager.py04/22:10:06]\n"
     ]
    },
    {
     "name": "stderr",
     "output_type": "stream",
     "text": [
      " _findfont_cached1346|DEBUG: findfont: score(<Font 'Gill Sans MT' (GILBI___.TTF) italic normal 700 normal>) = 11.335 [font_manager.py04/22:10:06]\n"
     ]
    },
    {
     "name": "stdout",
     "output_type": "stream",
     "text": [
      " _findfont_cached1346|10: findfont: score(<Font 'Liberation Mono' (LiberationMono-Regular.ttf) normal normal 400 normal>) = 10.05 [font_manager.py04/22:10:06]\n"
     ]
    },
    {
     "name": "stderr",
     "output_type": "stream",
     "text": [
      " _findfont_cached1346|DEBUG: findfont: score(<Font 'Liberation Mono' (LiberationMono-Regular.ttf) normal normal 400 normal>) = 10.05 [font_manager.py04/22:10:06]\n"
     ]
    },
    {
     "name": "stdout",
     "output_type": "stream",
     "text": [
      " _findfont_cached1346|10: findfont: score(<Font 'Gentium Book Basic' (GenBkBasR.ttf) normal normal 400 normal>) = 10.05 [font_manager.py04/22:10:06]\n"
     ]
    },
    {
     "name": "stderr",
     "output_type": "stream",
     "text": [
      " _findfont_cached1346|DEBUG: findfont: score(<Font 'Gentium Book Basic' (GenBkBasR.ttf) normal normal 400 normal>) = 10.05 [font_manager.py04/22:10:06]\n"
     ]
    },
    {
     "name": "stdout",
     "output_type": "stream",
     "text": [
      " _findfont_cached1346|10: findfont: score(<Font 'Copperplate Gothic Light' (COPRGTL.TTF) normal normal 400 normal>) = 10.05 [font_manager.py04/22:10:06]\n"
     ]
    },
    {
     "name": "stderr",
     "output_type": "stream",
     "text": [
      " _findfont_cached1346|DEBUG: findfont: score(<Font 'Copperplate Gothic Light' (COPRGTL.TTF) normal normal 400 normal>) = 10.05 [font_manager.py04/22:10:06]\n"
     ]
    },
    {
     "name": "stdout",
     "output_type": "stream",
     "text": [
      " _findfont_cached1346|10: findfont: score(<Font 'Cambria' (cambria.ttc) normal normal 400 normal>) = 10.05 [font_manager.py04/22:10:06]\n"
     ]
    },
    {
     "name": "stderr",
     "output_type": "stream",
     "text": [
      " _findfont_cached1346|DEBUG: findfont: score(<Font 'Cambria' (cambria.ttc) normal normal 400 normal>) = 10.05 [font_manager.py04/22:10:06]\n"
     ]
    },
    {
     "name": "stdout",
     "output_type": "stream",
     "text": [
      " _findfont_cached1346|10: findfont: score(<Font 'Alef' (Alef-Regular.ttf) normal normal 400 normal>) = 10.05 [font_manager.py04/22:10:06]\n"
     ]
    },
    {
     "name": "stderr",
     "output_type": "stream",
     "text": [
      " _findfont_cached1346|DEBUG: findfont: score(<Font 'Alef' (Alef-Regular.ttf) normal normal 400 normal>) = 10.05 [font_manager.py04/22:10:06]\n"
     ]
    },
    {
     "name": "stdout",
     "output_type": "stream",
     "text": [
      " _findfont_cached1346|10: findfont: score(<Font 'Lucida Fax' (LFAXI.TTF) italic normal 400 normal>) = 11.05 [font_manager.py04/22:10:06]\n"
     ]
    },
    {
     "name": "stderr",
     "output_type": "stream",
     "text": [
      " _findfont_cached1346|DEBUG: findfont: score(<Font 'Lucida Fax' (LFAXI.TTF) italic normal 400 normal>) = 11.05 [font_manager.py04/22:10:06]\n"
     ]
    },
    {
     "name": "stdout",
     "output_type": "stream",
     "text": [
      " _findfont_cached1346|10: findfont: score(<Font 'Microsoft New Tai Lue' (ntailu.ttf) normal normal 400 normal>) = 10.05 [font_manager.py04/22:10:06]\n"
     ]
    },
    {
     "name": "stderr",
     "output_type": "stream",
     "text": [
      " _findfont_cached1346|DEBUG: findfont: score(<Font 'Microsoft New Tai Lue' (ntailu.ttf) normal normal 400 normal>) = 10.05 [font_manager.py04/22:10:06]\n"
     ]
    },
    {
     "name": "stdout",
     "output_type": "stream",
     "text": [
      " _findfont_cached1346|10: findfont: score(<Font 'Ravie' (RAVIE.TTF) normal normal 400 normal>) = 10.05 [font_manager.py04/22:10:06]\n"
     ]
    },
    {
     "name": "stderr",
     "output_type": "stream",
     "text": [
      " _findfont_cached1346|DEBUG: findfont: score(<Font 'Ravie' (RAVIE.TTF) normal normal 400 normal>) = 10.05 [font_manager.py04/22:10:06]\n"
     ]
    },
    {
     "name": "stdout",
     "output_type": "stream",
     "text": [
      " _findfont_cached1346|10: findfont: score(<Font 'Source Sans Pro' (SourceSansPro-Semibold.ttf) normal normal 600 normal>) = 10.24 [font_manager.py04/22:10:06]\n"
     ]
    },
    {
     "name": "stderr",
     "output_type": "stream",
     "text": [
      " _findfont_cached1346|DEBUG: findfont: score(<Font 'Source Sans Pro' (SourceSansPro-Semibold.ttf) normal normal 600 normal>) = 10.24 [font_manager.py04/22:10:06]\n"
     ]
    },
    {
     "name": "stdout",
     "output_type": "stream",
     "text": [
      " _findfont_cached1346|10: findfont: score(<Font 'Arial' (arialbd.ttf) normal normal 700 normal>) = 6.698636363636363 [font_manager.py04/22:10:06]\n"
     ]
    },
    {
     "name": "stderr",
     "output_type": "stream",
     "text": [
      " _findfont_cached1346|DEBUG: findfont: score(<Font 'Arial' (arialbd.ttf) normal normal 700 normal>) = 6.698636363636363 [font_manager.py04/22:10:06]\n"
     ]
    },
    {
     "name": "stdout",
     "output_type": "stream",
     "text": [
      " _findfont_cached1346|10: findfont: score(<Font 'Magneto' (MAGNETOB.TTF) normal normal 700 normal>) = 10.335 [font_manager.py04/22:10:06]\n"
     ]
    },
    {
     "name": "stderr",
     "output_type": "stream",
     "text": [
      " _findfont_cached1346|DEBUG: findfont: score(<Font 'Magneto' (MAGNETOB.TTF) normal normal 700 normal>) = 10.335 [font_manager.py04/22:10:06]\n"
     ]
    },
    {
     "name": "stdout",
     "output_type": "stream",
     "text": [
      " _findfont_cached1346|10: findfont: score(<Font 'Haettenschweiler' (HATTEN.TTF) normal normal 400 normal>) = 10.05 [font_manager.py04/22:10:06]\n"
     ]
    },
    {
     "name": "stderr",
     "output_type": "stream",
     "text": [
      " _findfont_cached1346|DEBUG: findfont: score(<Font 'Haettenschweiler' (HATTEN.TTF) normal normal 400 normal>) = 10.05 [font_manager.py04/22:10:06]\n"
     ]
    },
    {
     "name": "stdout",
     "output_type": "stream",
     "text": [
      " _findfont_cached1346|10: findfont: score(<Font 'Bell MT' (BELLB.TTF) normal normal 700 normal>) = 10.335 [font_manager.py04/22:10:06]\n"
     ]
    },
    {
     "name": "stderr",
     "output_type": "stream",
     "text": [
      " _findfont_cached1346|DEBUG: findfont: score(<Font 'Bell MT' (BELLB.TTF) normal normal 700 normal>) = 10.335 [font_manager.py04/22:10:06]\n"
     ]
    },
    {
     "name": "stdout",
     "output_type": "stream",
     "text": [
      " _findfont_cached1346|10: findfont: score(<Font 'Segoe UI' (segoeuii.ttf) italic normal 400 normal>) = 11.05 [font_manager.py04/22:10:06]\n"
     ]
    },
    {
     "name": "stderr",
     "output_type": "stream",
     "text": [
      " _findfont_cached1346|DEBUG: findfont: score(<Font 'Segoe UI' (segoeuii.ttf) italic normal 400 normal>) = 11.05 [font_manager.py04/22:10:06]\n"
     ]
    },
    {
     "name": "stdout",
     "output_type": "stream",
     "text": [
      " _findfont_cached1346|10: findfont: score(<Font 'High Tower Text' (HTOWERT.TTF) normal normal 400 normal>) = 10.05 [font_manager.py04/22:10:06]\n"
     ]
    },
    {
     "name": "stderr",
     "output_type": "stream",
     "text": [
      " _findfont_cached1346|DEBUG: findfont: score(<Font 'High Tower Text' (HTOWERT.TTF) normal normal 400 normal>) = 10.05 [font_manager.py04/22:10:06]\n"
     ]
    },
    {
     "name": "stdout",
     "output_type": "stream",
     "text": [
      " _findfont_cached1346|10: findfont: score(<Font 'Berlin Sans FB' (BRLNSR.TTF) normal normal 400 normal>) = 10.05 [font_manager.py04/22:10:06]\n"
     ]
    },
    {
     "name": "stderr",
     "output_type": "stream",
     "text": [
      " _findfont_cached1346|DEBUG: findfont: score(<Font 'Berlin Sans FB' (BRLNSR.TTF) normal normal 400 normal>) = 10.05 [font_manager.py04/22:10:06]\n"
     ]
    },
    {
     "name": "stdout",
     "output_type": "stream",
     "text": [
      " _findfont_cached1346|10: findfont: score(<Font 'Franklin Gothic Medium' (framdit.ttf) italic normal 400 normal>) = 11.05 [font_manager.py04/22:10:06]\n"
     ]
    },
    {
     "name": "stderr",
     "output_type": "stream",
     "text": [
      " _findfont_cached1346|DEBUG: findfont: score(<Font 'Franklin Gothic Medium' (framdit.ttf) italic normal 400 normal>) = 11.05 [font_manager.py04/22:10:06]\n"
     ]
    },
    {
     "name": "stdout",
     "output_type": "stream",
     "text": [
      " _findfont_cached1346|10: findfont: score(<Font 'Lucida Fax' (LFAXD.TTF) normal normal 600 normal>) = 10.24 [font_manager.py04/22:10:06]\n"
     ]
    },
    {
     "name": "stderr",
     "output_type": "stream",
     "text": [
      " _findfont_cached1346|DEBUG: findfont: score(<Font 'Lucida Fax' (LFAXD.TTF) normal normal 600 normal>) = 10.24 [font_manager.py04/22:10:06]\n"
     ]
    },
    {
     "name": "stdout",
     "output_type": "stream",
     "text": [
      " _findfont_cached1346|10: findfont: score(<Font 'MS Gothic' (msgothic.ttc) normal normal 400 normal>) = 10.05 [font_manager.py04/22:10:06]\n"
     ]
    },
    {
     "name": "stderr",
     "output_type": "stream",
     "text": [
      " _findfont_cached1346|DEBUG: findfont: score(<Font 'MS Gothic' (msgothic.ttc) normal normal 400 normal>) = 10.05 [font_manager.py04/22:10:06]\n"
     ]
    },
    {
     "name": "stdout",
     "output_type": "stream",
     "text": [
      " _findfont_cached1346|10: findfont: score(<Font 'Vivaldi' (VIVALDII.TTF) italic normal 400 normal>) = 11.05 [font_manager.py04/22:10:06]\n"
     ]
    },
    {
     "name": "stderr",
     "output_type": "stream",
     "text": [
      " _findfont_cached1346|DEBUG: findfont: score(<Font 'Vivaldi' (VIVALDII.TTF) italic normal 400 normal>) = 11.05 [font_manager.py04/22:10:06]\n"
     ]
    },
    {
     "name": "stdout",
     "output_type": "stream",
     "text": [
      " _findfont_cached1346|10: findfont: score(<Font 'DejaVu Sans' (DejaVuSans-ExtraLight.ttf) normal normal 200 normal>) = 0.24 [font_manager.py04/22:10:06]\n"
     ]
    },
    {
     "name": "stderr",
     "output_type": "stream",
     "text": [
      " _findfont_cached1346|DEBUG: findfont: score(<Font 'DejaVu Sans' (DejaVuSans-ExtraLight.ttf) normal normal 200 normal>) = 0.24 [font_manager.py04/22:10:06]\n"
     ]
    },
    {
     "name": "stdout",
     "output_type": "stream",
     "text": [
      " _findfont_cached1346|10: findfont: score(<Font 'Carlito' (Carlito-Bold.ttf) normal normal 700 normal>) = 10.335 [font_manager.py04/22:10:06]\n"
     ]
    },
    {
     "name": "stderr",
     "output_type": "stream",
     "text": [
      " _findfont_cached1346|DEBUG: findfont: score(<Font 'Carlito' (Carlito-Bold.ttf) normal normal 700 normal>) = 10.335 [font_manager.py04/22:10:06]\n"
     ]
    },
    {
     "name": "stdout",
     "output_type": "stream",
     "text": [
      " _findfont_cached1346|10: findfont: score(<Font 'Source Serif Pro' (SourceSerifPro-Light.ttf) normal normal 300 normal>) = 10.145 [font_manager.py04/22:10:06]\n"
     ]
    },
    {
     "name": "stderr",
     "output_type": "stream",
     "text": [
      " _findfont_cached1346|DEBUG: findfont: score(<Font 'Source Serif Pro' (SourceSerifPro-Light.ttf) normal normal 300 normal>) = 10.145 [font_manager.py04/22:10:06]\n"
     ]
    },
    {
     "name": "stdout",
     "output_type": "stream",
     "text": [
      " _findfont_cached1346|10: findfont: score(<Font 'Niagara Engraved' (NIAGENG.TTF) normal normal 400 normal>) = 10.05 [font_manager.py04/22:10:06]\n"
     ]
    },
    {
     "name": "stderr",
     "output_type": "stream",
     "text": [
      " _findfont_cached1346|DEBUG: findfont: score(<Font 'Niagara Engraved' (NIAGENG.TTF) normal normal 400 normal>) = 10.05 [font_manager.py04/22:10:06]\n"
     ]
    },
    {
     "name": "stdout",
     "output_type": "stream",
     "text": [
      " _findfont_cached1346|10: findfont: score(<Font 'Georgia' (georgiaz.ttf) italic normal 700 normal>) = 11.335 [font_manager.py04/22:10:06]\n"
     ]
    },
    {
     "name": "stderr",
     "output_type": "stream",
     "text": [
      " _findfont_cached1346|DEBUG: findfont: score(<Font 'Georgia' (georgiaz.ttf) italic normal 700 normal>) = 11.335 [font_manager.py04/22:10:06]\n"
     ]
    },
    {
     "name": "stdout",
     "output_type": "stream",
     "text": [
      " _findfont_cached1346|10: findfont: score(<Font 'MingLiU-ExtB' (mingliub.ttc) normal normal 400 normal>) = 10.05 [font_manager.py04/22:10:06]\n"
     ]
    },
    {
     "name": "stderr",
     "output_type": "stream",
     "text": [
      " _findfont_cached1346|DEBUG: findfont: score(<Font 'MingLiU-ExtB' (mingliub.ttc) normal normal 400 normal>) = 10.05 [font_manager.py04/22:10:06]\n"
     ]
    },
    {
     "name": "stdout",
     "output_type": "stream",
     "text": [
      " _findfont_cached1346|10: findfont: score(<Font 'Elephant' (ELEPHNTI.TTF) italic normal 400 normal>) = 11.05 [font_manager.py04/22:10:06]\n"
     ]
    },
    {
     "name": "stderr",
     "output_type": "stream",
     "text": [
      " _findfont_cached1346|DEBUG: findfont: score(<Font 'Elephant' (ELEPHNTI.TTF) italic normal 400 normal>) = 11.05 [font_manager.py04/22:10:06]\n"
     ]
    },
    {
     "name": "stdout",
     "output_type": "stream",
     "text": [
      " _findfont_cached1346|10: findfont: score(<Font 'Arial Rounded MT Bold' (ARLRDBD.TTF) normal normal 400 normal>) = 10.05 [font_manager.py04/22:10:06]\n"
     ]
    },
    {
     "name": "stderr",
     "output_type": "stream",
     "text": [
      " _findfont_cached1346|DEBUG: findfont: score(<Font 'Arial Rounded MT Bold' (ARLRDBD.TTF) normal normal 400 normal>) = 10.05 [font_manager.py04/22:10:06]\n"
     ]
    },
    {
     "name": "stdout",
     "output_type": "stream",
     "text": [
      " _findfont_cached1346|10: findfont: score(<Font 'Gentium Basic' (GenBasB.ttf) normal normal 700 normal>) = 10.335 [font_manager.py04/22:10:06]\n"
     ]
    },
    {
     "name": "stderr",
     "output_type": "stream",
     "text": [
      " _findfont_cached1346|DEBUG: findfont: score(<Font 'Gentium Basic' (GenBasB.ttf) normal normal 700 normal>) = 10.335 [font_manager.py04/22:10:06]\n"
     ]
    },
    {
     "name": "stdout",
     "output_type": "stream",
     "text": [
      " _findfont_cached1346|10: findfont: score(<Font 'DejaVu Sans' (DejaVuSans.ttf) normal normal 400 normal>) = 0.05 [font_manager.py04/22:10:06]\n"
     ]
    },
    {
     "name": "stderr",
     "output_type": "stream",
     "text": [
      " _findfont_cached1346|DEBUG: findfont: score(<Font 'DejaVu Sans' (DejaVuSans.ttf) normal normal 400 normal>) = 0.05 [font_manager.py04/22:10:06]\n"
     ]
    },
    {
     "name": "stdout",
     "output_type": "stream",
     "text": [
      " _findfont_cached1346|10: findfont: score(<Font 'Scheherazade' (Scheherazade-Bold.ttf) normal normal 700 normal>) = 10.335 [font_manager.py04/22:10:06]\n"
     ]
    },
    {
     "name": "stderr",
     "output_type": "stream",
     "text": [
      " _findfont_cached1346|DEBUG: findfont: score(<Font 'Scheherazade' (Scheherazade-Bold.ttf) normal normal 700 normal>) = 10.335 [font_manager.py04/22:10:06]\n"
     ]
    },
    {
     "name": "stdout",
     "output_type": "stream",
     "text": [
      " _findfont_cached1346|10: findfont: score(<Font 'Source Serif Pro' (SourceSerifPro-BoldIt.ttf) italic normal 700 normal>) = 11.335 [font_manager.py04/22:10:06]\n"
     ]
    },
    {
     "name": "stderr",
     "output_type": "stream",
     "text": [
      " _findfont_cached1346|DEBUG: findfont: score(<Font 'Source Serif Pro' (SourceSerifPro-BoldIt.ttf) italic normal 700 normal>) = 11.335 [font_manager.py04/22:10:06]\n"
     ]
    },
    {
     "name": "stdout",
     "output_type": "stream",
     "text": [
      " _findfont_cached1346|10: findfont: score(<Font 'Eras Bold ITC' (ERASBD.TTF) normal normal 400 normal>) = 10.05 [font_manager.py04/22:10:06]\n"
     ]
    },
    {
     "name": "stderr",
     "output_type": "stream",
     "text": [
      " _findfont_cached1346|DEBUG: findfont: score(<Font 'Eras Bold ITC' (ERASBD.TTF) normal normal 400 normal>) = 10.05 [font_manager.py04/22:10:06]\n"
     ]
    },
    {
     "name": "stdout",
     "output_type": "stream",
     "text": [
      " _findfont_cached1346|10: findfont: score(<Font 'Lucida Bright' (LBRITED.TTF) normal normal 600 normal>) = 10.24 [font_manager.py04/22:10:06]\n"
     ]
    },
    {
     "name": "stderr",
     "output_type": "stream",
     "text": [
      " _findfont_cached1346|DEBUG: findfont: score(<Font 'Lucida Bright' (LBRITED.TTF) normal normal 600 normal>) = 10.24 [font_manager.py04/22:10:06]\n"
     ]
    },
    {
     "name": "stdout",
     "output_type": "stream",
     "text": [
      " _findfont_cached1346|10: findfont: score(<Font 'Caladea' (Caladea-Italic.ttf) italic normal 400 normal>) = 11.05 [font_manager.py04/22:10:06]\n"
     ]
    },
    {
     "name": "stderr",
     "output_type": "stream",
     "text": [
      " _findfont_cached1346|DEBUG: findfont: score(<Font 'Caladea' (Caladea-Italic.ttf) italic normal 400 normal>) = 11.05 [font_manager.py04/22:10:06]\n"
     ]
    },
    {
     "name": "stdout",
     "output_type": "stream",
     "text": [
      " _findfont_cached1346|10: findfont: score(<Font 'Bookman Old Style' (BOOKOSBI.TTF) italic normal 600 normal>) = 11.24 [font_manager.py04/22:10:06]\n"
     ]
    },
    {
     "name": "stderr",
     "output_type": "stream",
     "text": [
      " _findfont_cached1346|DEBUG: findfont: score(<Font 'Bookman Old Style' (BOOKOSBI.TTF) italic normal 600 normal>) = 11.24 [font_manager.py04/22:10:06]\n"
     ]
    },
    {
     "name": "stdout",
     "output_type": "stream",
     "text": [
      " _findfont_cached1346|10: findfont: score(<Font 'Agency FB' (AGENCYR.TTF) normal normal 400 normal>) = 10.05 [font_manager.py04/22:10:06]\n"
     ]
    },
    {
     "name": "stderr",
     "output_type": "stream",
     "text": [
      " _findfont_cached1346|DEBUG: findfont: score(<Font 'Agency FB' (AGENCYR.TTF) normal normal 400 normal>) = 10.05 [font_manager.py04/22:10:06]\n"
     ]
    },
    {
     "name": "stdout",
     "output_type": "stream",
     "text": [
      " _findfont_cached1346|10: findfont: score(<Font 'Calibri' (calibrii.ttf) italic normal 400 normal>) = 11.05 [font_manager.py04/22:10:06]\n"
     ]
    },
    {
     "name": "stderr",
     "output_type": "stream",
     "text": [
      " _findfont_cached1346|DEBUG: findfont: score(<Font 'Calibri' (calibrii.ttf) italic normal 400 normal>) = 11.05 [font_manager.py04/22:10:06]\n"
     ]
    },
    {
     "name": "stdout",
     "output_type": "stream",
     "text": [
      " _findfont_cached1346|10: findfont: score(<Font 'Adobe Devanagari' (AdobeDevanagari-Regular.otf) normal normal 400 normal>) = 10.05 [font_manager.py04/22:10:06]\n"
     ]
    },
    {
     "name": "stderr",
     "output_type": "stream",
     "text": [
      " _findfont_cached1346|DEBUG: findfont: score(<Font 'Adobe Devanagari' (AdobeDevanagari-Regular.otf) normal normal 400 normal>) = 10.05 [font_manager.py04/22:10:06]\n"
     ]
    },
    {
     "name": "stdout",
     "output_type": "stream",
     "text": [
      " _findfont_cached1346|10: findfont: score(<Font 'Noto Serif' (NotoSerif-Italic.ttf) italic normal 400 normal>) = 11.05 [font_manager.py04/22:10:06]\n"
     ]
    },
    {
     "name": "stderr",
     "output_type": "stream",
     "text": [
      " _findfont_cached1346|DEBUG: findfont: score(<Font 'Noto Serif' (NotoSerif-Italic.ttf) italic normal 400 normal>) = 11.05 [font_manager.py04/22:10:06]\n"
     ]
    },
    {
     "name": "stdout",
     "output_type": "stream",
     "text": [
      " _findfont_cached1346|10: findfont: score(<Font 'NI Vision' (NI_Vision.ttf) normal normal 400 normal>) = 10.05 [font_manager.py04/22:10:06]\n"
     ]
    },
    {
     "name": "stderr",
     "output_type": "stream",
     "text": [
      " _findfont_cached1346|DEBUG: findfont: score(<Font 'NI Vision' (NI_Vision.ttf) normal normal 400 normal>) = 10.05 [font_manager.py04/22:10:06]\n"
     ]
    },
    {
     "name": "stdout",
     "output_type": "stream",
     "text": [
      " _findfont_cached1346|10: findfont: score(<Font 'Segoe UI Symbol' (seguisym.ttf) normal normal 400 normal>) = 10.05 [font_manager.py04/22:10:06]\n"
     ]
    },
    {
     "name": "stderr",
     "output_type": "stream",
     "text": [
      " _findfont_cached1346|DEBUG: findfont: score(<Font 'Segoe UI Symbol' (seguisym.ttf) normal normal 400 normal>) = 10.05 [font_manager.py04/22:10:06]\n"
     ]
    },
    {
     "name": "stdout",
     "output_type": "stream",
     "text": [
      " _findfont_cached1346|10: findfont: score(<Font 'Liberation Sans' (LiberationSans-Italic.ttf) italic normal 400 normal>) = 11.05 [font_manager.py04/22:10:06]\n"
     ]
    },
    {
     "name": "stderr",
     "output_type": "stream",
     "text": [
      " _findfont_cached1346|DEBUG: findfont: score(<Font 'Liberation Sans' (LiberationSans-Italic.ttf) italic normal 400 normal>) = 11.05 [font_manager.py04/22:10:06]\n"
     ]
    },
    {
     "name": "stdout",
     "output_type": "stream",
     "text": [
      " _findfont_cached1346|10: findfont: score(<Font 'Microsoft Sans Serif' (micross.ttf) normal normal 400 normal>) = 10.05 [font_manager.py04/22:10:06]\n"
     ]
    },
    {
     "name": "stderr",
     "output_type": "stream",
     "text": [
      " _findfont_cached1346|DEBUG: findfont: score(<Font 'Microsoft Sans Serif' (micross.ttf) normal normal 400 normal>) = 10.05 [font_manager.py04/22:10:06]\n"
     ]
    },
    {
     "name": "stdout",
     "output_type": "stream",
     "text": [
      " _findfont_cached1346|10: findfont: score(<Font 'Source Code Pro' (SourceCodePro-LightIt.ttf) italic normal 300 normal>) = 11.145 [font_manager.py04/22:10:06]\n"
     ]
    },
    {
     "name": "stderr",
     "output_type": "stream",
     "text": [
      " _findfont_cached1346|DEBUG: findfont: score(<Font 'Source Code Pro' (SourceCodePro-LightIt.ttf) italic normal 300 normal>) = 11.145 [font_manager.py04/22:10:06]\n"
     ]
    },
    {
     "name": "stdout",
     "output_type": "stream",
     "text": [
      " _findfont_cached1346|10: findfont: score(<Font 'Source Sans Pro' (SourceSansPro-LightIt.ttf) italic normal 300 normal>) = 11.145 [font_manager.py04/22:10:06]\n"
     ]
    },
    {
     "name": "stderr",
     "output_type": "stream",
     "text": [
      " _findfont_cached1346|DEBUG: findfont: score(<Font 'Source Sans Pro' (SourceSansPro-LightIt.ttf) italic normal 300 normal>) = 11.145 [font_manager.py04/22:10:06]\n"
     ]
    },
    {
     "name": "stdout",
     "output_type": "stream",
     "text": [
      " _findfont_cached1346|10: findfont: score(<Font 'Source Code Pro' (SourceCodePro-MediumIt.ttf) italic normal 500 normal>) = 11.145 [font_manager.py04/22:10:06]\n"
     ]
    },
    {
     "name": "stderr",
     "output_type": "stream",
     "text": [
      " _findfont_cached1346|DEBUG: findfont: score(<Font 'Source Code Pro' (SourceCodePro-MediumIt.ttf) italic normal 500 normal>) = 11.145 [font_manager.py04/22:10:06]\n"
     ]
    },
    {
     "name": "stdout",
     "output_type": "stream",
     "text": [
      " _findfont_cached1346|10: findfont: score(<Font 'Cambria' (cambriab.ttf) normal normal 700 normal>) = 10.335 [font_manager.py04/22:10:06]\n"
     ]
    },
    {
     "name": "stderr",
     "output_type": "stream",
     "text": [
      " _findfont_cached1346|DEBUG: findfont: score(<Font 'Cambria' (cambriab.ttf) normal normal 700 normal>) = 10.335 [font_manager.py04/22:10:06]\n"
     ]
    },
    {
     "name": "stdout",
     "output_type": "stream",
     "text": [
      " _findfont_cached1346|10: findfont: score(<Font 'Bookman Old Style' (BOOKOS.TTF) normal normal 300 normal>) = 10.145 [font_manager.py04/22:10:06]\n"
     ]
    },
    {
     "name": "stderr",
     "output_type": "stream",
     "text": [
      " _findfont_cached1346|DEBUG: findfont: score(<Font 'Bookman Old Style' (BOOKOS.TTF) normal normal 300 normal>) = 10.145 [font_manager.py04/22:10:06]\n"
     ]
    },
    {
     "name": "stdout",
     "output_type": "stream",
     "text": [
      " _findfont_cached1346|10: findfont: score(<Font 'Arial' (ARIALNB.TTF) normal normal 700 condensed>) = 6.8986363636363635 [font_manager.py04/22:10:06]\n"
     ]
    },
    {
     "name": "stderr",
     "output_type": "stream",
     "text": [
      " _findfont_cached1346|DEBUG: findfont: score(<Font 'Arial' (ARIALNB.TTF) normal normal 700 condensed>) = 6.8986363636363635 [font_manager.py04/22:10:06]\n"
     ]
    },
    {
     "name": "stdout",
     "output_type": "stream",
     "text": [
      " _findfont_cached1346|10: findfont: score(<Font 'Century Gothic' (GOTHICI.TTF) italic normal 400 normal>) = 11.05 [font_manager.py04/22:10:06]\n"
     ]
    },
    {
     "name": "stderr",
     "output_type": "stream",
     "text": [
      " _findfont_cached1346|DEBUG: findfont: score(<Font 'Century Gothic' (GOTHICI.TTF) italic normal 400 normal>) = 11.05 [font_manager.py04/22:10:06]\n"
     ]
    },
    {
     "name": "stdout",
     "output_type": "stream",
     "text": [
      " _findfont_cached1346|10: findfont: score(<Font 'Edwardian Script ITC' (ITCEDSCR.TTF) normal normal 400 normal>) = 10.05 [font_manager.py04/22:10:06]\n"
     ]
    },
    {
     "name": "stderr",
     "output_type": "stream",
     "text": [
      " _findfont_cached1346|DEBUG: findfont: score(<Font 'Edwardian Script ITC' (ITCEDSCR.TTF) normal normal 400 normal>) = 10.05 [font_manager.py04/22:10:06]\n"
     ]
    },
    {
     "name": "stdout",
     "output_type": "stream",
     "text": [
      " _findfont_cached1346|10: findfont: score(<Font 'Marlett' (marlett.ttf) normal normal 500 normal>) = 10.145 [font_manager.py04/22:10:06]\n"
     ]
    },
    {
     "name": "stderr",
     "output_type": "stream",
     "text": [
      " _findfont_cached1346|DEBUG: findfont: score(<Font 'Marlett' (marlett.ttf) normal normal 500 normal>) = 10.145 [font_manager.py04/22:10:06]\n"
     ]
    },
    {
     "name": "stdout",
     "output_type": "stream",
     "text": [
      " _findfont_cached1346|10: findfont: score(<Font 'Webdings' (webdings.ttf) normal normal 400 normal>) = 10.05 [font_manager.py04/22:10:06]\n"
     ]
    },
    {
     "name": "stderr",
     "output_type": "stream",
     "text": [
      " _findfont_cached1346|DEBUG: findfont: score(<Font 'Webdings' (webdings.ttf) normal normal 400 normal>) = 10.05 [font_manager.py04/22:10:06]\n"
     ]
    },
    {
     "name": "stdout",
     "output_type": "stream",
     "text": [
      " _findfont_cached1346|10: findfont: score(<Font 'Book Antiqua' (BKANT.TTF) normal normal 400 normal>) = 10.05 [font_manager.py04/22:10:06]\n"
     ]
    },
    {
     "name": "stderr",
     "output_type": "stream",
     "text": [
      " _findfont_cached1346|DEBUG: findfont: score(<Font 'Book Antiqua' (BKANT.TTF) normal normal 400 normal>) = 10.05 [font_manager.py04/22:10:06]\n"
     ]
    },
    {
     "name": "stdout",
     "output_type": "stream",
     "text": [
      " _findfont_cached1346|10: findfont: score(<Font 'Parchment' (PARCHM.TTF) normal normal 400 normal>) = 10.05 [font_manager.py04/22:10:06]\n"
     ]
    },
    {
     "name": "stderr",
     "output_type": "stream",
     "text": [
      " _findfont_cached1346|DEBUG: findfont: score(<Font 'Parchment' (PARCHM.TTF) normal normal 400 normal>) = 10.05 [font_manager.py04/22:10:06]\n"
     ]
    },
    {
     "name": "stdout",
     "output_type": "stream",
     "text": [
      " _findfont_cached1346|10: findfont: score(<Font 'Kristen ITC' (ITCKRIST.TTF) normal normal 400 normal>) = 10.05 [font_manager.py04/22:10:06]\n"
     ]
    },
    {
     "name": "stderr",
     "output_type": "stream",
     "text": [
      " _findfont_cached1346|DEBUG: findfont: score(<Font 'Kristen ITC' (ITCKRIST.TTF) normal normal 400 normal>) = 10.05 [font_manager.py04/22:10:06]\n"
     ]
    },
    {
     "name": "stdout",
     "output_type": "stream",
     "text": [
      " _findfont_cached1346|10: findfont: score(<Font 'Palatino Linotype' (palai.ttf) italic normal 400 normal>) = 11.05 [font_manager.py04/22:10:06]\n"
     ]
    },
    {
     "name": "stderr",
     "output_type": "stream",
     "text": [
      " _findfont_cached1346|DEBUG: findfont: score(<Font 'Palatino Linotype' (palai.ttf) italic normal 400 normal>) = 11.05 [font_manager.py04/22:10:06]\n"
     ]
    },
    {
     "name": "stdout",
     "output_type": "stream",
     "text": [
      " _findfont_cached1346|10: findfont: score(<Font 'Monotype Corsiva' (MTCORSVA.TTF) normal normal 400 normal>) = 10.05 [font_manager.py04/22:10:06]\n"
     ]
    },
    {
     "name": "stderr",
     "output_type": "stream",
     "text": [
      " _findfont_cached1346|DEBUG: findfont: score(<Font 'Monotype Corsiva' (MTCORSVA.TTF) normal normal 400 normal>) = 10.05 [font_manager.py04/22:10:06]\n"
     ]
    },
    {
     "name": "stdout",
     "output_type": "stream",
     "text": [
      " _findfont_cached1346|10: findfont: score(<Font 'QuickType II' (QT2_P.TTF) normal normal 400 normal>) = 10.05 [font_manager.py04/22:10:06]\n"
     ]
    },
    {
     "name": "stderr",
     "output_type": "stream",
     "text": [
      " _findfont_cached1346|DEBUG: findfont: score(<Font 'QuickType II' (QT2_P.TTF) normal normal 400 normal>) = 10.05 [font_manager.py04/22:10:06]\n"
     ]
    },
    {
     "name": "stdout",
     "output_type": "stream",
     "text": [
      " _findfont_cached1346|10: findfont: score(<Font 'Garamond' (GARAIT.TTF) italic normal 400 normal>) = 11.05 [font_manager.py04/22:10:06]\n"
     ]
    },
    {
     "name": "stderr",
     "output_type": "stream",
     "text": [
      " _findfont_cached1346|DEBUG: findfont: score(<Font 'Garamond' (GARAIT.TTF) italic normal 400 normal>) = 11.05 [font_manager.py04/22:10:06]\n"
     ]
    },
    {
     "name": "stdout",
     "output_type": "stream",
     "text": [
      " _findfont_cached1346|10: findfont: score(<Font 'Trebuchet MS' (trebucbd.ttf) normal normal 700 normal>) = 10.335 [font_manager.py04/22:10:06]\n"
     ]
    },
    {
     "name": "stderr",
     "output_type": "stream",
     "text": [
      " _findfont_cached1346|DEBUG: findfont: score(<Font 'Trebuchet MS' (trebucbd.ttf) normal normal 700 normal>) = 10.335 [font_manager.py04/22:10:06]\n"
     ]
    },
    {
     "name": "stdout",
     "output_type": "stream",
     "text": [
      " _findfont_cached1346|10: findfont: score(<Font 'Bookman Old Style' (BOOKOS.TTF) normal normal 300 normal>) = 10.145 [font_manager.py04/22:10:06]\n"
     ]
    },
    {
     "name": "stderr",
     "output_type": "stream",
     "text": [
      " _findfont_cached1346|DEBUG: findfont: score(<Font 'Bookman Old Style' (BOOKOS.TTF) normal normal 300 normal>) = 10.145 [font_manager.py04/22:10:06]\n"
     ]
    },
    {
     "name": "stdout",
     "output_type": "stream",
     "text": [
      " _findfont_cached1346|10: findfont: score(<Font 'Stencil' (STENCIL.TTF) normal normal 400 normal>) = 10.05 [font_manager.py04/22:10:06]\n"
     ]
    },
    {
     "name": "stderr",
     "output_type": "stream",
     "text": [
      " _findfont_cached1346|DEBUG: findfont: score(<Font 'Stencil' (STENCIL.TTF) normal normal 400 normal>) = 10.05 [font_manager.py04/22:10:06]\n"
     ]
    },
    {
     "name": "stdout",
     "output_type": "stream",
     "text": [
      " _findfont_cached1346|10: findfont: score(<Font 'Eras Demi ITC' (ERASDEMI.TTF) normal normal 400 normal>) = 10.05 [font_manager.py04/22:10:06]\n"
     ]
    },
    {
     "name": "stderr",
     "output_type": "stream",
     "text": [
      " _findfont_cached1346|DEBUG: findfont: score(<Font 'Eras Demi ITC' (ERASDEMI.TTF) normal normal 400 normal>) = 10.05 [font_manager.py04/22:10:06]\n"
     ]
    },
    {
     "name": "stdout",
     "output_type": "stream",
     "text": [
      " _findfont_cached1346|10: findfont: score(<Font 'Franklin Gothic Book' (FRABKIT.TTF) italic normal 400 normal>) = 11.05 [font_manager.py04/22:10:06]\n"
     ]
    },
    {
     "name": "stderr",
     "output_type": "stream",
     "text": [
      " _findfont_cached1346|DEBUG: findfont: score(<Font 'Franklin Gothic Book' (FRABKIT.TTF) italic normal 400 normal>) = 11.05 [font_manager.py04/22:10:06]\n"
     ]
    },
    {
     "name": "stdout",
     "output_type": "stream",
     "text": [
      " _findfont_cached1346|10: findfont: score(<Font 'Noto Naskh Arabic' (NotoNaskhArabic-Bold.ttf) normal normal 700 normal>) = 10.335 [font_manager.py04/22:10:06]\n"
     ]
    },
    {
     "name": "stderr",
     "output_type": "stream",
     "text": [
      " _findfont_cached1346|DEBUG: findfont: score(<Font 'Noto Naskh Arabic' (NotoNaskhArabic-Bold.ttf) normal normal 700 normal>) = 10.335 [font_manager.py04/22:10:06]\n"
     ]
    },
    {
     "name": "stdout",
     "output_type": "stream",
     "text": [
      " _findfont_cached1346|10: findfont: score(<Font 'Segoe UI Historic' (seguihis.ttf) normal normal 400 normal>) = 10.05 [font_manager.py04/22:10:06]\n"
     ]
    },
    {
     "name": "stderr",
     "output_type": "stream",
     "text": [
      " _findfont_cached1346|DEBUG: findfont: score(<Font 'Segoe UI Historic' (seguihis.ttf) normal normal 400 normal>) = 10.05 [font_manager.py04/22:10:06]\n"
     ]
    },
    {
     "name": "stdout",
     "output_type": "stream",
     "text": [
      " _findfont_cached1346|10: findfont: score(<Font 'Source Serif Pro' (SourceSerifPro-It.ttf) italic normal 400 normal>) = 11.05 [font_manager.py04/22:10:06]\n"
     ]
    },
    {
     "name": "stderr",
     "output_type": "stream",
     "text": [
      " _findfont_cached1346|DEBUG: findfont: score(<Font 'Source Serif Pro' (SourceSerifPro-It.ttf) italic normal 400 normal>) = 11.05 [font_manager.py04/22:10:06]\n"
     ]
    },
    {
     "name": "stdout",
     "output_type": "stream",
     "text": [
      " _findfont_cached1346|10: findfont: score(<Font 'Century Schoolbook' (SCHLBKBI.TTF) italic normal 700 normal>) = 11.335 [font_manager.py04/22:10:06]\n"
     ]
    },
    {
     "name": "stderr",
     "output_type": "stream",
     "text": [
      " _findfont_cached1346|DEBUG: findfont: score(<Font 'Century Schoolbook' (SCHLBKBI.TTF) italic normal 700 normal>) = 11.335 [font_manager.py04/22:10:06]\n"
     ]
    },
    {
     "name": "stdout",
     "output_type": "stream",
     "text": [
      " _findfont_cached1346|10: findfont: score(<Font 'Sitka Small' (Sitka.ttc) normal normal 400 normal>) = 10.05 [font_manager.py04/22:10:06]\n"
     ]
    },
    {
     "name": "stderr",
     "output_type": "stream",
     "text": [
      " _findfont_cached1346|DEBUG: findfont: score(<Font 'Sitka Small' (Sitka.ttc) normal normal 400 normal>) = 10.05 [font_manager.py04/22:10:06]\n"
     ]
    },
    {
     "name": "stdout",
     "output_type": "stream",
     "text": [
      " _findfont_cached1346|10: findfont: score(<Font 'Symbol' (symbol.ttf) normal normal 400 normal>) = 10.05 [font_manager.py04/22:10:06]\n"
     ]
    },
    {
     "name": "stderr",
     "output_type": "stream",
     "text": [
      " _findfont_cached1346|DEBUG: findfont: score(<Font 'Symbol' (symbol.ttf) normal normal 400 normal>) = 10.05 [font_manager.py04/22:10:06]\n"
     ]
    },
    {
     "name": "stdout",
     "output_type": "stream",
     "text": [
      " _findfont_cached1346|10: findfont: score(<Font 'Old English Text MT' (OLDENGL.TTF) normal normal 400 normal>) = 10.05 [font_manager.py04/22:10:06]\n"
     ]
    },
    {
     "name": "stderr",
     "output_type": "stream",
     "text": [
      " _findfont_cached1346|DEBUG: findfont: score(<Font 'Old English Text MT' (OLDENGL.TTF) normal normal 400 normal>) = 10.05 [font_manager.py04/22:10:06]\n"
     ]
    },
    {
     "name": "stdout",
     "output_type": "stream",
     "text": [
      " _findfont_cached1346|10: findfont: score(<Font 'Cooper Black' (COOPBL.TTF) normal normal 400 normal>) = 10.05 [font_manager.py04/22:10:06]\n"
     ]
    },
    {
     "name": "stderr",
     "output_type": "stream",
     "text": [
      " _findfont_cached1346|DEBUG: findfont: score(<Font 'Cooper Black' (COOPBL.TTF) normal normal 400 normal>) = 10.05 [font_manager.py04/22:10:06]\n"
     ]
    },
    {
     "name": "stdout",
     "output_type": "stream",
     "text": [
      " _findfont_cached1346|10: findfont: score(<Font 'Noto Sans Arabic' (NotoSansArabic-Regular.ttf) normal normal 400 normal>) = 10.05 [font_manager.py04/22:10:06]\n"
     ]
    },
    {
     "name": "stderr",
     "output_type": "stream",
     "text": [
      " _findfont_cached1346|DEBUG: findfont: score(<Font 'Noto Sans Arabic' (NotoSansArabic-Regular.ttf) normal normal 400 normal>) = 10.05 [font_manager.py04/22:10:06]\n"
     ]
    },
    {
     "name": "stdout",
     "output_type": "stream",
     "text": [
      " _findfont_cached1346|10: findfont: score(<Font 'Noto Serif' (NotoSerif-CondensedItalic.ttf) italic normal 400 condensed>) = 11.25 [font_manager.py04/22:10:06]\n"
     ]
    },
    {
     "name": "stderr",
     "output_type": "stream",
     "text": [
      " _findfont_cached1346|DEBUG: findfont: score(<Font 'Noto Serif' (NotoSerif-CondensedItalic.ttf) italic normal 400 condensed>) = 11.25 [font_manager.py04/22:10:06]\n"
     ]
    },
    {
     "name": "stdout",
     "output_type": "stream",
     "text": [
      " _findfont_cached1346|10: findfont: score(<Font 'Dubai' (DUBAI-LIGHT.TTF) normal normal 300 normal>) = 10.145 [font_manager.py04/22:10:06]\n"
     ]
    },
    {
     "name": "stderr",
     "output_type": "stream",
     "text": [
      " _findfont_cached1346|DEBUG: findfont: score(<Font 'Dubai' (DUBAI-LIGHT.TTF) normal normal 300 normal>) = 10.145 [font_manager.py04/22:10:06]\n"
     ]
    },
    {
     "name": "stdout",
     "output_type": "stream",
     "text": [
      " _findfont_cached1346|10: findfont: score(<Font 'Linux Biolinum G' (LinBiolinum_RB_G.ttf) normal normal 700 normal>) = 10.335 [font_manager.py04/22:10:06]\n"
     ]
    },
    {
     "name": "stderr",
     "output_type": "stream",
     "text": [
      " _findfont_cached1346|DEBUG: findfont: score(<Font 'Linux Biolinum G' (LinBiolinum_RB_G.ttf) normal normal 700 normal>) = 10.335 [font_manager.py04/22:10:06]\n"
     ]
    },
    {
     "name": "stdout",
     "output_type": "stream",
     "text": [
      " _findfont_cached1346|10: findfont: score(<Font 'Lucida Sans Typewriter' (LTYPEO.TTF) oblique normal 400 normal>) = 11.05 [font_manager.py04/22:10:06]\n"
     ]
    },
    {
     "name": "stderr",
     "output_type": "stream",
     "text": [
      " _findfont_cached1346|DEBUG: findfont: score(<Font 'Lucida Sans Typewriter' (LTYPEO.TTF) oblique normal 400 normal>) = 11.05 [font_manager.py04/22:10:06]\n"
     ]
    },
    {
     "name": "stdout",
     "output_type": "stream",
     "text": [
      " _findfont_cached1346|10: findfont: score(<Font 'Century Schoolbook' (SCHLBKI.TTF) italic normal 400 normal>) = 11.05 [font_manager.py04/22:10:06]\n"
     ]
    },
    {
     "name": "stderr",
     "output_type": "stream",
     "text": [
      " _findfont_cached1346|DEBUG: findfont: score(<Font 'Century Schoolbook' (SCHLBKI.TTF) italic normal 400 normal>) = 11.05 [font_manager.py04/22:10:06]\n"
     ]
    },
    {
     "name": "stdout",
     "output_type": "stream",
     "text": [
      " _findfont_cached1346|10: findfont: score(<Font 'Trebuchet MS' (trebuc.ttf) normal normal 400 normal>) = 10.05 [font_manager.py04/22:10:06]\n"
     ]
    },
    {
     "name": "stderr",
     "output_type": "stream",
     "text": [
      " _findfont_cached1346|DEBUG: findfont: score(<Font 'Trebuchet MS' (trebuc.ttf) normal normal 400 normal>) = 10.05 [font_manager.py04/22:10:06]\n"
     ]
    },
    {
     "name": "stdout",
     "output_type": "stream",
     "text": [
      " _findfont_cached1346|10: findfont: score(<Font 'KacstOffice' (KacstOffice.ttf) normal normal 500 normal>) = 10.145 [font_manager.py04/22:10:06]\n"
     ]
    },
    {
     "name": "stderr",
     "output_type": "stream",
     "text": [
      " _findfont_cached1346|DEBUG: findfont: score(<Font 'KacstOffice' (KacstOffice.ttf) normal normal 500 normal>) = 10.145 [font_manager.py04/22:10:06]\n"
     ]
    },
    {
     "name": "stdout",
     "output_type": "stream",
     "text": [
      " _findfont_cached1346|10: findfont: score(<Font 'Nachlieli CLM' (NachlieliCLM-Light.otf) normal normal 300 normal>) = 10.145 [font_manager.py04/22:10:06]\n"
     ]
    },
    {
     "name": "stderr",
     "output_type": "stream",
     "text": [
      " _findfont_cached1346|DEBUG: findfont: score(<Font 'Nachlieli CLM' (NachlieliCLM-Light.otf) normal normal 300 normal>) = 10.145 [font_manager.py04/22:10:06]\n"
     ]
    },
    {
     "name": "stdout",
     "output_type": "stream",
     "text": [
      " _findfont_cached1346|10: findfont: score(<Font 'DejaVu Serif' (DejaVuSerifCondensed-Italic.ttf) italic normal 400 condensed>) = 11.25 [font_manager.py04/22:10:06]\n"
     ]
    },
    {
     "name": "stderr",
     "output_type": "stream",
     "text": [
      " _findfont_cached1346|DEBUG: findfont: score(<Font 'DejaVu Serif' (DejaVuSerifCondensed-Italic.ttf) italic normal 400 condensed>) = 11.25 [font_manager.py04/22:10:06]\n"
     ]
    },
    {
     "name": "stdout",
     "output_type": "stream",
     "text": [
      " _findfont_cached1346|10: findfont: score(<Font 'Miriam CLM' (MiriamCLM-Bold.ttf) normal normal 700 normal>) = 10.335 [font_manager.py04/22:10:06]\n"
     ]
    },
    {
     "name": "stderr",
     "output_type": "stream",
     "text": [
      " _findfont_cached1346|DEBUG: findfont: score(<Font 'Miriam CLM' (MiriamCLM-Bold.ttf) normal normal 700 normal>) = 10.335 [font_manager.py04/22:10:06]\n"
     ]
    },
    {
     "name": "stdout",
     "output_type": "stream",
     "text": [
      " _findfont_cached1346|10: findfont: score(<Font 'Gill Sans Ultra Bold Condensed' (GILLUBCD.TTF) normal normal 400 condensed>) = 10.25 [font_manager.py04/22:10:06]\n"
     ]
    },
    {
     "name": "stderr",
     "output_type": "stream",
     "text": [
      " _findfont_cached1346|DEBUG: findfont: score(<Font 'Gill Sans Ultra Bold Condensed' (GILLUBCD.TTF) normal normal 400 condensed>) = 10.25 [font_manager.py04/22:10:06]\n"
     ]
    },
    {
     "name": "stdout",
     "output_type": "stream",
     "text": [
      " _findfont_cached1346|10: findfont: score(<Font 'Noto Sans Georgian' (NotoSansGeorgian-Regular.ttf) normal normal 400 normal>) = 10.05 [font_manager.py04/22:10:06]\n"
     ]
    },
    {
     "name": "stderr",
     "output_type": "stream",
     "text": [
      " _findfont_cached1346|DEBUG: findfont: score(<Font 'Noto Sans Georgian' (NotoSansGeorgian-Regular.ttf) normal normal 400 normal>) = 10.05 [font_manager.py04/22:10:06]\n"
     ]
    },
    {
     "name": "stdout",
     "output_type": "stream",
     "text": [
      " _findfont_cached1346|10: findfont: score(<Font 'Garamond' (GARAIT.TTF) italic normal 400 normal>) = 11.05 [font_manager.py04/22:10:06]\n"
     ]
    },
    {
     "name": "stderr",
     "output_type": "stream",
     "text": [
      " _findfont_cached1346|DEBUG: findfont: score(<Font 'Garamond' (GARAIT.TTF) italic normal 400 normal>) = 11.05 [font_manager.py04/22:10:06]\n"
     ]
    },
    {
     "name": "stdout",
     "output_type": "stream",
     "text": [
      " _findfont_cached1346|10: findfont: score(<Font 'Lucida Sans Typewriter' (LTYPE.TTF) normal normal 400 normal>) = 10.05 [font_manager.py04/22:10:06]\n"
     ]
    },
    {
     "name": "stderr",
     "output_type": "stream",
     "text": [
      " _findfont_cached1346|DEBUG: findfont: score(<Font 'Lucida Sans Typewriter' (LTYPE.TTF) normal normal 400 normal>) = 10.05 [font_manager.py04/22:10:06]\n"
     ]
    },
    {
     "name": "stdout",
     "output_type": "stream",
     "text": [
      " _findfont_cached1346|10: findfont: score(<Font 'Lucida Console' (lucon.ttf) normal normal 400 normal>) = 10.05 [font_manager.py04/22:10:06]\n"
     ]
    },
    {
     "name": "stderr",
     "output_type": "stream",
     "text": [
      " _findfont_cached1346|DEBUG: findfont: score(<Font 'Lucida Console' (lucon.ttf) normal normal 400 normal>) = 10.05 [font_manager.py04/22:10:06]\n"
     ]
    },
    {
     "name": "stdout",
     "output_type": "stream",
     "text": [
      " _findfont_cached1346|10: findfont: score(<Font 'Agency FB' (AGENCYB.TTF) normal normal 700 normal>) = 10.335 [font_manager.py04/22:10:06]\n"
     ]
    },
    {
     "name": "stderr",
     "output_type": "stream",
     "text": [
      " _findfont_cached1346|DEBUG: findfont: score(<Font 'Agency FB' (AGENCYB.TTF) normal normal 700 normal>) = 10.335 [font_manager.py04/22:10:06]\n"
     ]
    },
    {
     "name": "stdout",
     "output_type": "stream",
     "text": [
      " _findfont_cached1346|10: findfont: score(<Font 'Courier New' (courbi.ttf) italic normal 700 normal>) = 11.335 [font_manager.py04/22:10:06]\n"
     ]
    },
    {
     "name": "stderr",
     "output_type": "stream",
     "text": [
      " _findfont_cached1346|DEBUG: findfont: score(<Font 'Courier New' (courbi.ttf) italic normal 700 normal>) = 11.335 [font_manager.py04/22:10:06]\n"
     ]
    },
    {
     "name": "stdout",
     "output_type": "stream",
     "text": [
      " _findfont_cached1346|10: findfont: score(<Font 'Sitka Small' (SitkaI.ttc) italic normal 400 normal>) = 11.05 [font_manager.py04/22:10:06]\n"
     ]
    },
    {
     "name": "stderr",
     "output_type": "stream",
     "text": [
      " _findfont_cached1346|DEBUG: findfont: score(<Font 'Sitka Small' (SitkaI.ttc) italic normal 400 normal>) = 11.05 [font_manager.py04/22:10:06]\n"
     ]
    },
    {
     "name": "stdout",
     "output_type": "stream",
     "text": [
      " _findfont_cached1346|10: findfont: score(<Font 'Goudy Old Style' (GOUDOS.TTF) normal normal 400 normal>) = 10.05 [font_manager.py04/22:10:06]\n"
     ]
    },
    {
     "name": "stderr",
     "output_type": "stream",
     "text": [
      " _findfont_cached1346|DEBUG: findfont: score(<Font 'Goudy Old Style' (GOUDOS.TTF) normal normal 400 normal>) = 10.05 [font_manager.py04/22:10:06]\n"
     ]
    },
    {
     "name": "stdout",
     "output_type": "stream",
     "text": [
      " _findfont_cached1346|10: findfont: score(<Font 'Candara' (Candaral.ttf) normal normal 400 normal>) = 10.05 [font_manager.py04/22:10:06]\n"
     ]
    },
    {
     "name": "stderr",
     "output_type": "stream",
     "text": [
      " _findfont_cached1346|DEBUG: findfont: score(<Font 'Candara' (Candaral.ttf) normal normal 400 normal>) = 10.05 [font_manager.py04/22:10:06]\n"
     ]
    },
    {
     "name": "stdout",
     "output_type": "stream",
     "text": [
      " _findfont_cached1346|10: findfont: score(<Font 'OCR-A II' (OCRA2_P.TTF) normal normal 400 normal>) = 10.05 [font_manager.py04/22:10:06]\n"
     ]
    },
    {
     "name": "stderr",
     "output_type": "stream",
     "text": [
      " _findfont_cached1346|DEBUG: findfont: score(<Font 'OCR-A II' (OCRA2_P.TTF) normal normal 400 normal>) = 10.05 [font_manager.py04/22:10:06]\n"
     ]
    },
    {
     "name": "stdout",
     "output_type": "stream",
     "text": [
      " _findfont_cached1346|10: findfont: score(<Font 'Franklin Gothic Medium' (framdit.ttf) italic normal 400 normal>) = 11.05 [font_manager.py04/22:10:06]\n"
     ]
    },
    {
     "name": "stderr",
     "output_type": "stream",
     "text": [
      " _findfont_cached1346|DEBUG: findfont: score(<Font 'Franklin Gothic Medium' (framdit.ttf) italic normal 400 normal>) = 11.05 [font_manager.py04/22:10:06]\n"
     ]
    },
    {
     "name": "stdout",
     "output_type": "stream",
     "text": [
      " _findfont_cached1346|10: findfont: score(<Font 'Noto Serif Lao' (NotoSerifLao-Regular.ttf) normal normal 400 normal>) = 10.05 [font_manager.py04/22:10:06]\n"
     ]
    },
    {
     "name": "stderr",
     "output_type": "stream",
     "text": [
      " _findfont_cached1346|DEBUG: findfont: score(<Font 'Noto Serif Lao' (NotoSerifLao-Regular.ttf) normal normal 400 normal>) = 10.05 [font_manager.py04/22:10:06]\n"
     ]
    },
    {
     "name": "stdout",
     "output_type": "stream",
     "text": [
      " _findfont_cached1346|10: findfont: score(<Font 'Perpetua' (PERI____.TTF) italic normal 400 normal>) = 11.05 [font_manager.py04/22:10:06]\n"
     ]
    },
    {
     "name": "stderr",
     "output_type": "stream",
     "text": [
      " _findfont_cached1346|DEBUG: findfont: score(<Font 'Perpetua' (PERI____.TTF) italic normal 400 normal>) = 11.05 [font_manager.py04/22:10:06]\n"
     ]
    },
    {
     "name": "stdout",
     "output_type": "stream",
     "text": [
      " _findfont_cached1346|10: findfont: score(<Font 'Malgun Gothic' (malgun.ttf) normal normal 400 normal>) = 10.05 [font_manager.py04/22:10:06]\n"
     ]
    },
    {
     "name": "stderr",
     "output_type": "stream",
     "text": [
      " _findfont_cached1346|DEBUG: findfont: score(<Font 'Malgun Gothic' (malgun.ttf) normal normal 400 normal>) = 10.05 [font_manager.py04/22:10:06]\n"
     ]
    },
    {
     "name": "stdout",
     "output_type": "stream",
     "text": [
      " _findfont_cached1346|10: findfont: score(<Font 'Bookshelf Symbol 7' (BSSYM7.TTF) normal normal 400 normal>) = 10.05 [font_manager.py04/22:10:06]\n"
     ]
    },
    {
     "name": "stderr",
     "output_type": "stream",
     "text": [
      " _findfont_cached1346|DEBUG: findfont: score(<Font 'Bookshelf Symbol 7' (BSSYM7.TTF) normal normal 400 normal>) = 10.05 [font_manager.py04/22:10:06]\n"
     ]
    },
    {
     "name": "stdout",
     "output_type": "stream",
     "text": [
      " _findfont_cached1346|10: findfont: score(<Font 'Gigi' (GIGI.TTF) normal normal 400 normal>) = 10.05 [font_manager.py04/22:10:06]\n"
     ]
    },
    {
     "name": "stderr",
     "output_type": "stream",
     "text": [
      " _findfont_cached1346|DEBUG: findfont: score(<Font 'Gigi' (GIGI.TTF) normal normal 400 normal>) = 10.05 [font_manager.py04/22:10:06]\n"
     ]
    },
    {
     "name": "stdout",
     "output_type": "stream",
     "text": [
      " _findfont_cached1346|10: findfont: score(<Font 'Wingdings 2' (WINGDNG2.TTF) normal normal 400 normal>) = 10.05 [font_manager.py04/22:10:06]\n"
     ]
    },
    {
     "name": "stderr",
     "output_type": "stream",
     "text": [
      " _findfont_cached1346|DEBUG: findfont: score(<Font 'Wingdings 2' (WINGDNG2.TTF) normal normal 400 normal>) = 10.05 [font_manager.py04/22:10:06]\n"
     ]
    },
    {
     "name": "stdout",
     "output_type": "stream",
     "text": [
      " _findfont_cached1346|10: findfont: score(<Font 'Corbel' (corbelb.ttf) normal normal 700 normal>) = 10.335 [font_manager.py04/22:10:06]\n"
     ]
    },
    {
     "name": "stderr",
     "output_type": "stream",
     "text": [
      " _findfont_cached1346|DEBUG: findfont: score(<Font 'Corbel' (corbelb.ttf) normal normal 700 normal>) = 10.335 [font_manager.py04/22:10:06]\n"
     ]
    },
    {
     "name": "stdout",
     "output_type": "stream",
     "text": [
      " _findfont_cached1346|10: findfont: score(<Font 'Courier New' (courbi.ttf) italic normal 700 normal>) = 11.335 [font_manager.py04/22:10:06]\n"
     ]
    },
    {
     "name": "stderr",
     "output_type": "stream",
     "text": [
      " _findfont_cached1346|DEBUG: findfont: score(<Font 'Courier New' (courbi.ttf) italic normal 700 normal>) = 11.335 [font_manager.py04/22:10:06]\n"
     ]
    },
    {
     "name": "stdout",
     "output_type": "stream",
     "text": [
      " _findfont_cached1346|10: findfont: score(<Font 'NI Vision' (NI_Vision.ttf) normal normal 400 normal>) = 10.05 [font_manager.py04/22:10:06]\n"
     ]
    },
    {
     "name": "stderr",
     "output_type": "stream",
     "text": [
      " _findfont_cached1346|DEBUG: findfont: score(<Font 'NI Vision' (NI_Vision.ttf) normal normal 400 normal>) = 10.05 [font_manager.py04/22:10:06]\n"
     ]
    },
    {
     "name": "stdout",
     "output_type": "stream",
     "text": [
      " _findfont_cached1346|10: findfont: score(<Font 'Franklin Gothic Book' (FRABK.TTF) normal normal 400 normal>) = 10.05 [font_manager.py04/22:10:06]\n"
     ]
    },
    {
     "name": "stderr",
     "output_type": "stream",
     "text": [
      " _findfont_cached1346|DEBUG: findfont: score(<Font 'Franklin Gothic Book' (FRABK.TTF) normal normal 400 normal>) = 10.05 [font_manager.py04/22:10:06]\n"
     ]
    },
    {
     "name": "stdout",
     "output_type": "stream",
     "text": [
      " _findfont_cached1346|10: findfont: score(<Font 'Noto Kufi Arabic' (NotoKufiArabic-Bold.ttf) normal normal 700 normal>) = 10.335 [font_manager.py04/22:10:06]\n"
     ]
    },
    {
     "name": "stderr",
     "output_type": "stream",
     "text": [
      " _findfont_cached1346|DEBUG: findfont: score(<Font 'Noto Kufi Arabic' (NotoKufiArabic-Bold.ttf) normal normal 700 normal>) = 10.335 [font_manager.py04/22:10:06]\n"
     ]
    },
    {
     "name": "stdout",
     "output_type": "stream",
     "text": [
      " _findfont_cached1346|10: findfont: score(<Font 'Adobe Devanagari' (AdobeDevanagari-Italic.otf) italic normal 400 normal>) = 11.05 [font_manager.py04/22:10:06]\n"
     ]
    },
    {
     "name": "stderr",
     "output_type": "stream",
     "text": [
      " _findfont_cached1346|DEBUG: findfont: score(<Font 'Adobe Devanagari' (AdobeDevanagari-Italic.otf) italic normal 400 normal>) = 11.05 [font_manager.py04/22:10:06]\n"
     ]
    },
    {
     "name": "stdout",
     "output_type": "stream",
     "text": [
      " _findfont_cached1346|10: findfont: score(<Font 'Noto Sans Georgian' (NotoSansGeorgian-Bold.ttf) normal normal 700 normal>) = 10.335 [font_manager.py04/22:10:06]\n"
     ]
    },
    {
     "name": "stderr",
     "output_type": "stream",
     "text": [
      " _findfont_cached1346|DEBUG: findfont: score(<Font 'Noto Sans Georgian' (NotoSansGeorgian-Bold.ttf) normal normal 700 normal>) = 10.335 [font_manager.py04/22:10:06]\n"
     ]
    },
    {
     "name": "stdout",
     "output_type": "stream",
     "text": [
      " _findfont_cached1346|10: findfont: score(<Font 'OpenSymbol' (opens___.ttf) normal normal 400 normal>) = 10.05 [font_manager.py04/22:10:06]\n"
     ]
    },
    {
     "name": "stderr",
     "output_type": "stream",
     "text": [
      " _findfont_cached1346|DEBUG: findfont: score(<Font 'OpenSymbol' (opens___.ttf) normal normal 400 normal>) = 10.05 [font_manager.py04/22:10:06]\n"
     ]
    },
    {
     "name": "stdout",
     "output_type": "stream",
     "text": [
      " _findfont_cached1346|10: findfont: score(<Font 'Segoe UI' (segoeuisl.ttf) normal normal 350 normal>) = 10.0975 [font_manager.py04/22:10:06]\n"
     ]
    },
    {
     "name": "stderr",
     "output_type": "stream",
     "text": [
      " _findfont_cached1346|DEBUG: findfont: score(<Font 'Segoe UI' (segoeuisl.ttf) normal normal 350 normal>) = 10.0975 [font_manager.py04/22:10:06]\n"
     ]
    },
    {
     "name": "stdout",
     "output_type": "stream",
     "text": [
      " _findfont_cached1346|10: findfont: score(<Font 'Miriam Mono CLM' (MiriamMonoCLM-BoldOblique.ttf) oblique normal 700 normal>) = 11.335 [font_manager.py04/22:10:06]\n"
     ]
    },
    {
     "name": "stderr",
     "output_type": "stream",
     "text": [
      " _findfont_cached1346|DEBUG: findfont: score(<Font 'Miriam Mono CLM' (MiriamMonoCLM-BoldOblique.ttf) oblique normal 700 normal>) = 11.335 [font_manager.py04/22:10:06]\n"
     ]
    },
    {
     "name": "stdout",
     "output_type": "stream",
     "text": [
      " _findfont_cached1346|10: findfont: score(<Font 'Segoe UI' (segoeuiz.ttf) italic normal 700 normal>) = 11.335 [font_manager.py04/22:10:06]\n"
     ]
    },
    {
     "name": "stderr",
     "output_type": "stream",
     "text": [
      " _findfont_cached1346|DEBUG: findfont: score(<Font 'Segoe UI' (segoeuiz.ttf) italic normal 700 normal>) = 11.335 [font_manager.py04/22:10:06]\n"
     ]
    },
    {
     "name": "stdout",
     "output_type": "stream",
     "text": [
      " _findfont_cached1346|10: findfont: score(<Font 'Segoe UI' (seguibl.ttf) normal normal 900 normal>) = 10.525 [font_manager.py04/22:10:06]\n"
     ]
    },
    {
     "name": "stderr",
     "output_type": "stream",
     "text": [
      " _findfont_cached1346|DEBUG: findfont: score(<Font 'Segoe UI' (seguibl.ttf) normal normal 900 normal>) = 10.525 [font_manager.py04/22:10:06]\n"
     ]
    },
    {
     "name": "stdout",
     "output_type": "stream",
     "text": [
      " _findfont_cached1346|10: findfont: score(<Font 'Noto Sans' (NotoSans-Italic.ttf) italic normal 400 normal>) = 11.05 [font_manager.py04/22:10:06]\n"
     ]
    },
    {
     "name": "stderr",
     "output_type": "stream",
     "text": [
      " _findfont_cached1346|DEBUG: findfont: score(<Font 'Noto Sans' (NotoSans-Italic.ttf) italic normal 400 normal>) = 11.05 [font_manager.py04/22:10:06]\n"
     ]
    },
    {
     "name": "stdout",
     "output_type": "stream",
     "text": [
      " _findfont_cached1346|10: findfont: score(<Font 'Lucida Bright' (LBRITEI.TTF) italic normal 400 normal>) = 11.05 [font_manager.py04/22:10:06]\n"
     ]
    },
    {
     "name": "stderr",
     "output_type": "stream",
     "text": [
      " _findfont_cached1346|DEBUG: findfont: score(<Font 'Lucida Bright' (LBRITEI.TTF) italic normal 400 normal>) = 11.05 [font_manager.py04/22:10:06]\n"
     ]
    },
    {
     "name": "stdout",
     "output_type": "stream",
     "text": [
      " _findfont_cached1346|10: findfont: score(<Font 'Noto Serif' (NotoSerif-Italic.ttf) italic normal 400 normal>) = 11.05 [font_manager.py04/22:10:06]\n"
     ]
    },
    {
     "name": "stderr",
     "output_type": "stream",
     "text": [
      " _findfont_cached1346|DEBUG: findfont: score(<Font 'Noto Serif' (NotoSerif-Italic.ttf) italic normal 400 normal>) = 11.05 [font_manager.py04/22:10:06]\n"
     ]
    },
    {
     "name": "stdout",
     "output_type": "stream",
     "text": [
      " _findfont_cached1346|10: findfont: score(<Font 'DejaVu Sans' (DejaVuSansCondensed.ttf) normal normal 400 condensed>) = 0.25 [font_manager.py04/22:10:06]\n"
     ]
    },
    {
     "name": "stderr",
     "output_type": "stream",
     "text": [
      " _findfont_cached1346|DEBUG: findfont: score(<Font 'DejaVu Sans' (DejaVuSansCondensed.ttf) normal normal 400 condensed>) = 0.25 [font_manager.py04/22:10:06]\n"
     ]
    },
    {
     "name": "stdout",
     "output_type": "stream",
     "text": [
      " _findfont_cached1346|10: findfont: score(<Font 'Baskerville Old Face' (BASKVILL.TTF) normal normal 400 normal>) = 10.05 [font_manager.py04/22:10:06]\n"
     ]
    },
    {
     "name": "stderr",
     "output_type": "stream",
     "text": [
      " _findfont_cached1346|DEBUG: findfont: score(<Font 'Baskerville Old Face' (BASKVILL.TTF) normal normal 400 normal>) = 10.05 [font_manager.py04/22:10:06]\n"
     ]
    },
    {
     "name": "stdout",
     "output_type": "stream",
     "text": [
      " _findfont_cached1346|10: findfont: score(<Font 'MS Reference Sans Serif' (REFSAN.TTF) normal normal 400 normal>) = 10.05 [font_manager.py04/22:10:06]\n"
     ]
    },
    {
     "name": "stderr",
     "output_type": "stream",
     "text": [
      " _findfont_cached1346|DEBUG: findfont: score(<Font 'MS Reference Sans Serif' (REFSAN.TTF) normal normal 400 normal>) = 10.05 [font_manager.py04/22:10:06]\n"
     ]
    },
    {
     "name": "stdout",
     "output_type": "stream",
     "text": [
      " _findfont_cached1346|10: findfont: score(<Font 'DejaVu Sans' (DejaVuSans-BoldOblique.ttf) oblique normal 700 normal>) = 1.335 [font_manager.py04/22:10:06]\n"
     ]
    },
    {
     "name": "stderr",
     "output_type": "stream",
     "text": [
      " _findfont_cached1346|DEBUG: findfont: score(<Font 'DejaVu Sans' (DejaVuSans-BoldOblique.ttf) oblique normal 700 normal>) = 1.335 [font_manager.py04/22:10:06]\n"
     ]
    },
    {
     "name": "stdout",
     "output_type": "stream",
     "text": [
      " _findfont_cached1346|10: findfont: score(<Font 'Liberation Sans Narrow' (LiberationSansNarrow-BoldItalic.ttf) italic normal 700 condensed>) = 11.535 [font_manager.py04/22:10:06]\n"
     ]
    },
    {
     "name": "stderr",
     "output_type": "stream",
     "text": [
      " _findfont_cached1346|DEBUG: findfont: score(<Font 'Liberation Sans Narrow' (LiberationSansNarrow-BoldItalic.ttf) italic normal 700 condensed>) = 11.535 [font_manager.py04/22:10:06]\n"
     ]
    },
    {
     "name": "stdout",
     "output_type": "stream",
     "text": [
      " _findfont_cached1346|10: findfont: score(<Font 'Book Antiqua' (ANTQUAI.TTF) italic normal 400 normal>) = 11.05 [font_manager.py04/22:10:06]\n"
     ]
    },
    {
     "name": "stderr",
     "output_type": "stream",
     "text": [
      " _findfont_cached1346|DEBUG: findfont: score(<Font 'Book Antiqua' (ANTQUAI.TTF) italic normal 400 normal>) = 11.05 [font_manager.py04/22:10:06]\n"
     ]
    },
    {
     "name": "stdout",
     "output_type": "stream",
     "text": [
      " _findfont_cached1346|10: findfont: score(<Font 'KacstBook' (KacstBook.ttf) normal normal 500 normal>) = 10.145 [font_manager.py04/22:10:06]\n"
     ]
    },
    {
     "name": "stderr",
     "output_type": "stream",
     "text": [
      " _findfont_cached1346|DEBUG: findfont: score(<Font 'KacstBook' (KacstBook.ttf) normal normal 500 normal>) = 10.145 [font_manager.py04/22:10:06]\n"
     ]
    },
    {
     "name": "stdout",
     "output_type": "stream",
     "text": [
      " _findfont_cached1346|10: findfont: score(<Font 'Noto Sans' (NotoSans-CondensedItalic.ttf) italic normal 400 condensed>) = 11.25 [font_manager.py04/22:10:06]\n"
     ]
    },
    {
     "name": "stderr",
     "output_type": "stream",
     "text": [
      " _findfont_cached1346|DEBUG: findfont: score(<Font 'Noto Sans' (NotoSans-CondensedItalic.ttf) italic normal 400 condensed>) = 11.25 [font_manager.py04/22:10:06]\n"
     ]
    },
    {
     "name": "stdout",
     "output_type": "stream",
     "text": [
      " _findfont_cached1346|10: findfont: score(<Font 'Microsoft Tai Le' (taile.ttf) normal normal 400 normal>) = 10.05 [font_manager.py04/22:10:06]\n"
     ]
    },
    {
     "name": "stderr",
     "output_type": "stream",
     "text": [
      " _findfont_cached1346|DEBUG: findfont: score(<Font 'Microsoft Tai Le' (taile.ttf) normal normal 400 normal>) = 10.05 [font_manager.py04/22:10:06]\n"
     ]
    },
    {
     "name": "stdout",
     "output_type": "stream",
     "text": [
      " _findfont_cached1346|10: findfont: score(<Font 'Gloucester MT Extra Condensed' (GLECB.TTF) normal normal 400 condensed>) = 10.25 [font_manager.py04/22:10:06]\n"
     ]
    },
    {
     "name": "stderr",
     "output_type": "stream",
     "text": [
      " _findfont_cached1346|DEBUG: findfont: score(<Font 'Gloucester MT Extra Condensed' (GLECB.TTF) normal normal 400 condensed>) = 10.25 [font_manager.py04/22:10:06]\n"
     ]
    },
    {
     "name": "stdout",
     "output_type": "stream",
     "text": [
      " _findfont_cached1346|10: findfont: score(<Font 'Source Code Pro' (SourceCodePro-ExtraLightIt.ttf) italic normal 200 normal>) = 11.24 [font_manager.py04/22:10:06]\n"
     ]
    },
    {
     "name": "stderr",
     "output_type": "stream",
     "text": [
      " _findfont_cached1346|DEBUG: findfont: score(<Font 'Source Code Pro' (SourceCodePro-ExtraLightIt.ttf) italic normal 200 normal>) = 11.24 [font_manager.py04/22:10:06]\n"
     ]
    },
    {
     "name": "stdout",
     "output_type": "stream",
     "text": [
      " _findfont_cached1346|10: findfont: score(<Font 'Consolas' (consolaz.ttf) italic normal 700 normal>) = 11.335 [font_manager.py04/22:10:06]\n"
     ]
    },
    {
     "name": "stderr",
     "output_type": "stream",
     "text": [
      " _findfont_cached1346|DEBUG: findfont: score(<Font 'Consolas' (consolaz.ttf) italic normal 700 normal>) = 11.335 [font_manager.py04/22:10:06]\n"
     ]
    },
    {
     "name": "stdout",
     "output_type": "stream",
     "text": [
      " _findfont_cached1346|10: findfont: score(<Font 'Source Serif Pro' (SourceSerifPro-ExtraLight.ttf) normal normal 200 normal>) = 10.24 [font_manager.py04/22:10:06]\n"
     ]
    },
    {
     "name": "stderr",
     "output_type": "stream",
     "text": [
      " _findfont_cached1346|DEBUG: findfont: score(<Font 'Source Serif Pro' (SourceSerifPro-ExtraLight.ttf) normal normal 200 normal>) = 10.24 [font_manager.py04/22:10:06]\n"
     ]
    },
    {
     "name": "stdout",
     "output_type": "stream",
     "text": [
      " _findfont_cached1346|10: findfont: score(<Font 'Linux Biolinum G' (LinBiolinum_R_G.ttf) normal normal 400 normal>) = 10.05 [font_manager.py04/22:10:06]\n"
     ]
    },
    {
     "name": "stderr",
     "output_type": "stream",
     "text": [
      " _findfont_cached1346|DEBUG: findfont: score(<Font 'Linux Biolinum G' (LinBiolinum_R_G.ttf) normal normal 400 normal>) = 10.05 [font_manager.py04/22:10:06]\n"
     ]
    },
    {
     "name": "stdout",
     "output_type": "stream",
     "text": [
      " _findfont_cached1346|10: findfont: score(<Font 'QuickType II Pi' (QT2PI_P.TTF) normal normal 400 normal>) = 10.05 [font_manager.py04/22:10:06]\n"
     ]
    },
    {
     "name": "stderr",
     "output_type": "stream",
     "text": [
      " _findfont_cached1346|DEBUG: findfont: score(<Font 'QuickType II Pi' (QT2PI_P.TTF) normal normal 400 normal>) = 10.05 [font_manager.py04/22:10:06]\n"
     ]
    },
    {
     "name": "stdout",
     "output_type": "stream",
     "text": [
      " _findfont_cached1346|10: findfont: score(<Font 'Consolas' (consolab.ttf) normal normal 700 normal>) = 10.335 [font_manager.py04/22:10:06]\n"
     ]
    },
    {
     "name": "stderr",
     "output_type": "stream",
     "text": [
      " _findfont_cached1346|DEBUG: findfont: score(<Font 'Consolas' (consolab.ttf) normal normal 700 normal>) = 10.335 [font_manager.py04/22:10:06]\n"
     ]
    },
    {
     "name": "stdout",
     "output_type": "stream",
     "text": [
      " _findfont_cached1346|10: findfont: score(<Font 'Tw Cen MT Condensed' (TCCB____.TTF) normal normal 700 condensed>) = 10.535 [font_manager.py04/22:10:06]\n"
     ]
    },
    {
     "name": "stderr",
     "output_type": "stream",
     "text": [
      " _findfont_cached1346|DEBUG: findfont: score(<Font 'Tw Cen MT Condensed' (TCCB____.TTF) normal normal 700 condensed>) = 10.535 [font_manager.py04/22:10:06]\n"
     ]
    },
    {
     "name": "stdout",
     "output_type": "stream",
     "text": [
      " _findfont_cached1346|10: findfont: score(<Font 'Bookman Old Style' (BOOKOSI.TTF) italic normal 300 normal>) = 11.145 [font_manager.py04/22:10:06]\n"
     ]
    },
    {
     "name": "stderr",
     "output_type": "stream",
     "text": [
      " _findfont_cached1346|DEBUG: findfont: score(<Font 'Bookman Old Style' (BOOKOSI.TTF) italic normal 300 normal>) = 11.145 [font_manager.py04/22:10:06]\n"
     ]
    },
    {
     "name": "stdout",
     "output_type": "stream",
     "text": [
      " _findfont_cached1346|10: findfont: score(<Font 'Bodoni MT' (BOD_BI.TTF) italic normal 700 normal>) = 11.335 [font_manager.py04/22:10:06]\n"
     ]
    },
    {
     "name": "stderr",
     "output_type": "stream",
     "text": [
      " _findfont_cached1346|DEBUG: findfont: score(<Font 'Bodoni MT' (BOD_BI.TTF) italic normal 700 normal>) = 11.335 [font_manager.py04/22:10:06]\n"
     ]
    },
    {
     "name": "stdout",
     "output_type": "stream",
     "text": [
      " _findfont_cached1346|10: findfont: score(<Font 'Gill Sans Ultra Bold' (GILSANUB.TTF) normal normal 400 normal>) = 10.05 [font_manager.py04/22:10:06]\n"
     ]
    },
    {
     "name": "stderr",
     "output_type": "stream",
     "text": [
      " _findfont_cached1346|DEBUG: findfont: score(<Font 'Gill Sans Ultra Bold' (GILSANUB.TTF) normal normal 400 normal>) = 10.05 [font_manager.py04/22:10:06]\n"
     ]
    },
    {
     "name": "stdout",
     "output_type": "stream",
     "text": [
      " _findfont_cached1346|10: findfont: score(<Font 'Calisto MT' (CALISTB.TTF) normal normal 700 normal>) = 10.335 [font_manager.py04/22:10:06]\n"
     ]
    },
    {
     "name": "stderr",
     "output_type": "stream",
     "text": [
      " _findfont_cached1346|DEBUG: findfont: score(<Font 'Calisto MT' (CALISTB.TTF) normal normal 700 normal>) = 10.335 [font_manager.py04/22:10:06]\n"
     ]
    },
    {
     "name": "stdout",
     "output_type": "stream",
     "text": [
      " _findfont_cached1346|10: findfont: score(<Font 'Perpetua' (PERB____.TTF) normal normal 700 normal>) = 10.335 [font_manager.py04/22:10:06]\n"
     ]
    },
    {
     "name": "stderr",
     "output_type": "stream",
     "text": [
      " _findfont_cached1346|DEBUG: findfont: score(<Font 'Perpetua' (PERB____.TTF) normal normal 700 normal>) = 10.335 [font_manager.py04/22:10:06]\n"
     ]
    },
    {
     "name": "stdout",
     "output_type": "stream",
     "text": [
      " _findfont_cached1346|10: findfont: score(<Font 'Arial Unicode MS' (ARIALUNI.TTF) normal normal 400 normal>) = 10.05 [font_manager.py04/22:10:06]\n"
     ]
    },
    {
     "name": "stderr",
     "output_type": "stream",
     "text": [
      " _findfont_cached1346|DEBUG: findfont: score(<Font 'Arial Unicode MS' (ARIALUNI.TTF) normal normal 400 normal>) = 10.05 [font_manager.py04/22:10:06]\n"
     ]
    },
    {
     "name": "stdout",
     "output_type": "stream",
     "text": [
      " _findfont_cached1346|10: findfont: score(<Font 'Microsoft Tai Le' (taileb.ttf) normal normal 700 normal>) = 10.335 [font_manager.py04/22:10:06]\n"
     ]
    },
    {
     "name": "stderr",
     "output_type": "stream",
     "text": [
      " _findfont_cached1346|DEBUG: findfont: score(<Font 'Microsoft Tai Le' (taileb.ttf) normal normal 700 normal>) = 10.335 [font_manager.py04/22:10:06]\n"
     ]
    },
    {
     "name": "stdout",
     "output_type": "stream",
     "text": [
      " _findfont_cached1346|10: findfont: score(<Font 'Source Sans Pro' (SourceSansPro-Light.ttf) normal normal 300 normal>) = 10.145 [font_manager.py04/22:10:06]\n"
     ]
    },
    {
     "name": "stderr",
     "output_type": "stream",
     "text": [
      " _findfont_cached1346|DEBUG: findfont: score(<Font 'Source Sans Pro' (SourceSansPro-Light.ttf) normal normal 300 normal>) = 10.145 [font_manager.py04/22:10:06]\n"
     ]
    },
    {
     "name": "stdout",
     "output_type": "stream",
     "text": [
      " _findfont_cached1346|10: findfont: score(<Font 'Yu Gothic' (YuGothM.ttc) normal normal 500 normal>) = 10.145 [font_manager.py04/22:10:06]\n"
     ]
    },
    {
     "name": "stderr",
     "output_type": "stream",
     "text": [
      " _findfont_cached1346|DEBUG: findfont: score(<Font 'Yu Gothic' (YuGothM.ttc) normal normal 500 normal>) = 10.145 [font_manager.py04/22:10:06]\n"
     ]
    },
    {
     "name": "stdout",
     "output_type": "stream",
     "text": [
      " _findfont_cached1346|10: findfont: score(<Font 'Times New Roman' (timesbi.ttf) italic normal 700 normal>) = 11.335 [font_manager.py04/22:10:06]\n"
     ]
    },
    {
     "name": "stderr",
     "output_type": "stream",
     "text": [
      " _findfont_cached1346|DEBUG: findfont: score(<Font 'Times New Roman' (timesbi.ttf) italic normal 700 normal>) = 11.335 [font_manager.py04/22:10:06]\n"
     ]
    },
    {
     "name": "stdout",
     "output_type": "stream",
     "text": [
      " _findfont_cached1346|10: findfont: score(<Font 'Trebuchet MS' (trebucbi.ttf) italic normal 700 normal>) = 11.335 [font_manager.py04/22:10:06]\n"
     ]
    },
    {
     "name": "stderr",
     "output_type": "stream",
     "text": [
      " _findfont_cached1346|DEBUG: findfont: score(<Font 'Trebuchet MS' (trebucbi.ttf) italic normal 700 normal>) = 11.335 [font_manager.py04/22:10:06]\n"
     ]
    },
    {
     "name": "stdout",
     "output_type": "stream",
     "text": [
      " _findfont_cached1346|10: findfont: score(<Font 'David CLM' (DavidCLM-Bold.ttf) normal normal 700 normal>) = 10.335 [font_manager.py04/22:10:06]\n"
     ]
    },
    {
     "name": "stderr",
     "output_type": "stream",
     "text": [
      " _findfont_cached1346|DEBUG: findfont: score(<Font 'David CLM' (DavidCLM-Bold.ttf) normal normal 700 normal>) = 10.335 [font_manager.py04/22:10:06]\n"
     ]
    },
    {
     "name": "stdout",
     "output_type": "stream",
     "text": [
      " _findfont_cached1346|10: findfont: score(<Font 'Segoe UI' (seguisli.ttf) italic normal 350 normal>) = 11.0975 [font_manager.py04/22:10:06]\n"
     ]
    },
    {
     "name": "stderr",
     "output_type": "stream",
     "text": [
      " _findfont_cached1346|DEBUG: findfont: score(<Font 'Segoe UI' (seguisli.ttf) italic normal 350 normal>) = 11.0975 [font_manager.py04/22:10:06]\n"
     ]
    },
    {
     "name": "stdout",
     "output_type": "stream",
     "text": [
      " _findfont_cached1346|10: findfont: score(<Font 'Microsoft JhengHei' (msjhl.ttc) normal normal 290 normal>) = 10.1545 [font_manager.py04/22:10:06]\n"
     ]
    },
    {
     "name": "stderr",
     "output_type": "stream",
     "text": [
      " _findfont_cached1346|DEBUG: findfont: score(<Font 'Microsoft JhengHei' (msjhl.ttc) normal normal 290 normal>) = 10.1545 [font_manager.py04/22:10:06]\n"
     ]
    },
    {
     "name": "stdout",
     "output_type": "stream",
     "text": [
      " _findfont_cached1346|10: findfont: score(<Font 'Arial' (ariblk.ttf) normal normal 900 normal>) = 6.888636363636364 [font_manager.py04/22:10:06]\n"
     ]
    },
    {
     "name": "stderr",
     "output_type": "stream",
     "text": [
      " _findfont_cached1346|DEBUG: findfont: score(<Font 'Arial' (ariblk.ttf) normal normal 900 normal>) = 6.888636363636364 [font_manager.py04/22:10:06]\n"
     ]
    },
    {
     "name": "stdout",
     "output_type": "stream",
     "text": [
      " _findfont_cached1346|10: findfont: score(<Font 'Malgun Gothic' (malgun.ttf) normal normal 400 normal>) = 10.05 [font_manager.py04/22:10:06]\n"
     ]
    },
    {
     "name": "stderr",
     "output_type": "stream",
     "text": [
      " _findfont_cached1346|DEBUG: findfont: score(<Font 'Malgun Gothic' (malgun.ttf) normal normal 400 normal>) = 10.05 [font_manager.py04/22:10:06]\n"
     ]
    },
    {
     "name": "stdout",
     "output_type": "stream",
     "text": [
      " _findfont_cached1346|10: findfont: score(<Font 'Poor Richard' (POORICH.TTF) normal normal 400 normal>) = 10.05 [font_manager.py04/22:10:06]\n"
     ]
    },
    {
     "name": "stderr",
     "output_type": "stream",
     "text": [
      " _findfont_cached1346|DEBUG: findfont: score(<Font 'Poor Richard' (POORICH.TTF) normal normal 400 normal>) = 10.05 [font_manager.py04/22:10:06]\n"
     ]
    },
    {
     "name": "stdout",
     "output_type": "stream",
     "text": [
      " _findfont_cached1346|10: findfont: score(<Font 'Broadway' (BROADW.TTF) normal normal 400 normal>) = 10.05 [font_manager.py04/22:10:06]\n"
     ]
    },
    {
     "name": "stderr",
     "output_type": "stream",
     "text": [
      " _findfont_cached1346|DEBUG: findfont: score(<Font 'Broadway' (BROADW.TTF) normal normal 400 normal>) = 10.05 [font_manager.py04/22:10:06]\n"
     ]
    },
    {
     "name": "stdout",
     "output_type": "stream",
     "text": [
      " _findfont_cached1346|10: findfont: score(<Font 'Courier New' (couri.ttf) italic normal 400 normal>) = 11.05 [font_manager.py04/22:10:06]\n"
     ]
    },
    {
     "name": "stderr",
     "output_type": "stream",
     "text": [
      " _findfont_cached1346|DEBUG: findfont: score(<Font 'Courier New' (couri.ttf) italic normal 400 normal>) = 11.05 [font_manager.py04/22:10:06]\n"
     ]
    },
    {
     "name": "stdout",
     "output_type": "stream",
     "text": [
      " _findfont_cached1346|10: findfont: score(<Font 'Harrington' (HARNGTON.TTF) normal normal 400 normal>) = 10.05 [font_manager.py04/22:10:06]\n"
     ]
    },
    {
     "name": "stderr",
     "output_type": "stream",
     "text": [
      " _findfont_cached1346|DEBUG: findfont: score(<Font 'Harrington' (HARNGTON.TTF) normal normal 400 normal>) = 10.05 [font_manager.py04/22:10:06]\n"
     ]
    },
    {
     "name": "stdout",
     "output_type": "stream",
     "text": [
      " _findfont_cached1346|10: findfont: score(<Font 'Blackadder ITC' (ITCBLKAD.TTF) normal normal 400 normal>) = 10.05 [font_manager.py04/22:10:06]\n"
     ]
    },
    {
     "name": "stderr",
     "output_type": "stream",
     "text": [
      " _findfont_cached1346|DEBUG: findfont: score(<Font 'Blackadder ITC' (ITCBLKAD.TTF) normal normal 400 normal>) = 10.05 [font_manager.py04/22:10:06]\n"
     ]
    },
    {
     "name": "stdout",
     "output_type": "stream",
     "text": [
      " _findfont_cached1346|10: findfont: score(<Font 'Noto Serif Armenian' (NotoSerifArmenian-Regular.ttf) normal normal 400 normal>) = 10.05 [font_manager.py04/22:10:06]\n"
     ]
    },
    {
     "name": "stderr",
     "output_type": "stream",
     "text": [
      " _findfont_cached1346|DEBUG: findfont: score(<Font 'Noto Serif Armenian' (NotoSerifArmenian-Regular.ttf) normal normal 400 normal>) = 10.05 [font_manager.py04/22:10:06]\n"
     ]
    },
    {
     "name": "stdout",
     "output_type": "stream",
     "text": [
      " _findfont_cached1346|10: findfont: score(<Font 'Source Sans Pro' (SourceSansPro-ExtraLight.ttf) normal normal 200 normal>) = 10.24 [font_manager.py04/22:10:06]\n"
     ]
    },
    {
     "name": "stderr",
     "output_type": "stream",
     "text": [
      " _findfont_cached1346|DEBUG: findfont: score(<Font 'Source Sans Pro' (SourceSansPro-ExtraLight.ttf) normal normal 200 normal>) = 10.24 [font_manager.py04/22:10:06]\n"
     ]
    },
    {
     "name": "stdout",
     "output_type": "stream",
     "text": [
      " _findfont_cached1346|10: findfont: score(<Font 'tt-icon-font' (tt-icon-font.ttf) normal normal 400 normal>) = 10.05 [font_manager.py04/22:10:06]\n"
     ]
    },
    {
     "name": "stderr",
     "output_type": "stream",
     "text": [
      " _findfont_cached1346|DEBUG: findfont: score(<Font 'tt-icon-font' (tt-icon-font.ttf) normal normal 400 normal>) = 10.05 [font_manager.py04/22:10:06]\n"
     ]
    },
    {
     "name": "stdout",
     "output_type": "stream",
     "text": [
      " _findfont_cached1346|10: findfont: score(<Font 'Noto Sans' (NotoSans-Condensed.ttf) normal normal 400 condensed>) = 10.25 [font_manager.py04/22:10:06]\n"
     ]
    },
    {
     "name": "stderr",
     "output_type": "stream",
     "text": [
      " _findfont_cached1346|DEBUG: findfont: score(<Font 'Noto Sans' (NotoSans-Condensed.ttf) normal normal 400 condensed>) = 10.25 [font_manager.py04/22:10:06]\n"
     ]
    },
    {
     "name": "stdout",
     "output_type": "stream",
     "text": [
      " _findfont_cached1346|10: findfont: score(<Font 'Microsoft Tai Le' (taileb.ttf) normal normal 700 normal>) = 10.335 [font_manager.py04/22:10:06]\n"
     ]
    },
    {
     "name": "stderr",
     "output_type": "stream",
     "text": [
      " _findfont_cached1346|DEBUG: findfont: score(<Font 'Microsoft Tai Le' (taileb.ttf) normal normal 700 normal>) = 10.335 [font_manager.py04/22:10:06]\n"
     ]
    },
    {
     "name": "stdout",
     "output_type": "stream",
     "text": [
      " _findfont_cached1346|10: findfont: score(<Font 'MS Reference Specialty' (REFSPCL.TTF) normal normal 400 normal>) = 10.05 [font_manager.py04/22:10:06]\n"
     ]
    },
    {
     "name": "stderr",
     "output_type": "stream",
     "text": [
      " _findfont_cached1346|DEBUG: findfont: score(<Font 'MS Reference Specialty' (REFSPCL.TTF) normal normal 400 normal>) = 10.05 [font_manager.py04/22:10:06]\n"
     ]
    },
    {
     "name": "stdout",
     "output_type": "stream",
     "text": [
      " _findfont_cached1346|10: findfont: score(<Font 'Corbel' (corbelli.ttf) italic normal 300 normal>) = 11.145 [font_manager.py04/22:10:06]\n"
     ]
    },
    {
     "name": "stderr",
     "output_type": "stream",
     "text": [
      " _findfont_cached1346|DEBUG: findfont: score(<Font 'Corbel' (corbelli.ttf) italic normal 300 normal>) = 11.145 [font_manager.py04/22:10:06]\n"
     ]
    },
    {
     "name": "stdout",
     "output_type": "stream",
     "text": [
      " _findfont_cached1346|10: findfont: score(<Font 'Cooper Black' (COOPBL.TTF) normal normal 400 normal>) = 10.05 [font_manager.py04/22:10:06]\n"
     ]
    },
    {
     "name": "stderr",
     "output_type": "stream",
     "text": [
      " _findfont_cached1346|DEBUG: findfont: score(<Font 'Cooper Black' (COOPBL.TTF) normal normal 400 normal>) = 10.05 [font_manager.py04/22:10:06]\n"
     ]
    },
    {
     "name": "stdout",
     "output_type": "stream",
     "text": [
      " _findfont_cached1346|10: findfont: score(<Font 'Lucida Sans' (LSANS.TTF) normal normal 400 normal>) = 10.05 [font_manager.py04/22:10:06]\n"
     ]
    },
    {
     "name": "stderr",
     "output_type": "stream",
     "text": [
      " _findfont_cached1346|DEBUG: findfont: score(<Font 'Lucida Sans' (LSANS.TTF) normal normal 400 normal>) = 10.05 [font_manager.py04/22:10:06]\n"
     ]
    },
    {
     "name": "stdout",
     "output_type": "stream",
     "text": [
      " _findfont_cached1346|10: findfont: score(<Font 'Brush Script MT' (BRUSHSCI.TTF) italic normal 400 normal>) = 11.05 [font_manager.py04/22:10:06]\n"
     ]
    },
    {
     "name": "stderr",
     "output_type": "stream",
     "text": [
      " _findfont_cached1346|DEBUG: findfont: score(<Font 'Brush Script MT' (BRUSHSCI.TTF) italic normal 400 normal>) = 11.05 [font_manager.py04/22:10:06]\n"
     ]
    },
    {
     "name": "stdout",
     "output_type": "stream",
     "text": [
      " _findfont_cached1346|10: findfont: score(<Font 'Viner Hand ITC' (VINERITC.TTF) normal normal 400 normal>) = 10.05 [font_manager.py04/22:10:06]\n"
     ]
    },
    {
     "name": "stderr",
     "output_type": "stream",
     "text": [
      " _findfont_cached1346|DEBUG: findfont: score(<Font 'Viner Hand ITC' (VINERITC.TTF) normal normal 400 normal>) = 10.05 [font_manager.py04/22:10:06]\n"
     ]
    },
    {
     "name": "stdout",
     "output_type": "stream",
     "text": [
      " _findfont_cached1346|10: findfont: score(<Font 'Noto Sans' (NotoSans-Regular.ttf) normal normal 400 normal>) = 10.05 [font_manager.py04/22:10:06]\n"
     ]
    },
    {
     "name": "stderr",
     "output_type": "stream",
     "text": [
      " _findfont_cached1346|DEBUG: findfont: score(<Font 'Noto Sans' (NotoSans-Regular.ttf) normal normal 400 normal>) = 10.05 [font_manager.py04/22:10:06]\n"
     ]
    },
    {
     "name": "stdout",
     "output_type": "stream",
     "text": [
      " _findfont_cached1346|10: findfont: score(<Font 'DejaVu Math TeX Gyre' (DejaVuMathTeXGyre.ttf) normal normal 400 normal>) = 10.05 [font_manager.py04/22:10:06]\n"
     ]
    },
    {
     "name": "stderr",
     "output_type": "stream",
     "text": [
      " _findfont_cached1346|DEBUG: findfont: score(<Font 'DejaVu Math TeX Gyre' (DejaVuMathTeXGyre.ttf) normal normal 400 normal>) = 10.05 [font_manager.py04/22:10:06]\n"
     ]
    },
    {
     "name": "stdout",
     "output_type": "stream",
     "text": [
      " _findfont_cached1346|10: findfont: score(<Font 'Source Serif Pro' (SourceSerifPro-Regular.ttf) normal normal 400 normal>) = 10.05 [font_manager.py04/22:10:06]\n"
     ]
    },
    {
     "name": "stderr",
     "output_type": "stream",
     "text": [
      " _findfont_cached1346|DEBUG: findfont: score(<Font 'Source Serif Pro' (SourceSerifPro-Regular.ttf) normal normal 400 normal>) = 10.05 [font_manager.py04/22:10:06]\n"
     ]
    },
    {
     "name": "stdout",
     "output_type": "stream",
     "text": [
      " _findfont_cached1346|10: findfont: score(<Font 'Ink Free' (Inkfree.ttf) normal normal 400 normal>) = 10.05 [font_manager.py04/22:10:06]\n"
     ]
    },
    {
     "name": "stderr",
     "output_type": "stream",
     "text": [
      " _findfont_cached1346|DEBUG: findfont: score(<Font 'Ink Free' (Inkfree.ttf) normal normal 400 normal>) = 10.05 [font_manager.py04/22:10:06]\n"
     ]
    },
    {
     "name": "stdout",
     "output_type": "stream",
     "text": [
      " _findfont_cached1346|10: findfont: score(<Font 'Playbill' (PLAYBILL.TTF) normal normal 400 normal>) = 10.05 [font_manager.py04/22:10:06]\n"
     ]
    },
    {
     "name": "stderr",
     "output_type": "stream",
     "text": [
      " _findfont_cached1346|DEBUG: findfont: score(<Font 'Playbill' (PLAYBILL.TTF) normal normal 400 normal>) = 10.05 [font_manager.py04/22:10:06]\n"
     ]
    },
    {
     "name": "stdout",
     "output_type": "stream",
     "text": [
      " _findfont_cached1346|10: findfont: score(<Font 'Bodoni MT' (BOD_CB.TTF) normal normal 700 condensed>) = 10.535 [font_manager.py04/22:10:06]\n"
     ]
    },
    {
     "name": "stderr",
     "output_type": "stream",
     "text": [
      " _findfont_cached1346|DEBUG: findfont: score(<Font 'Bodoni MT' (BOD_CB.TTF) normal normal 700 condensed>) = 10.535 [font_manager.py04/22:10:06]\n"
     ]
    },
    {
     "name": "stdout",
     "output_type": "stream",
     "text": [
      " _findfont_cached1346|10: findfont: score(<Font 'Amiri' (Amiri-Bold.ttf) normal normal 700 normal>) = 10.335 [font_manager.py04/22:10:06]\n"
     ]
    },
    {
     "name": "stderr",
     "output_type": "stream",
     "text": [
      " _findfont_cached1346|DEBUG: findfont: score(<Font 'Amiri' (Amiri-Bold.ttf) normal normal 700 normal>) = 10.335 [font_manager.py04/22:10:06]\n"
     ]
    },
    {
     "name": "stdout",
     "output_type": "stream",
     "text": [
      " _findfont_cached1346|10: findfont: score(<Font 'Yu Gothic' (YuGothB.ttc) normal normal 700 normal>) = 10.335 [font_manager.py04/22:10:06]\n"
     ]
    },
    {
     "name": "stderr",
     "output_type": "stream",
     "text": [
      " _findfont_cached1346|DEBUG: findfont: score(<Font 'Yu Gothic' (YuGothB.ttc) normal normal 700 normal>) = 10.335 [font_manager.py04/22:10:06]\n"
     ]
    },
    {
     "name": "stdout",
     "output_type": "stream",
     "text": [
      " _findfont_cached1346|10: findfont: score(<Font 'Source Serif Pro' (SourceSerifPro-Black.ttf) normal normal 900 normal>) = 10.525 [font_manager.py04/22:10:06]\n"
     ]
    },
    {
     "name": "stderr",
     "output_type": "stream",
     "text": [
      " _findfont_cached1346|DEBUG: findfont: score(<Font 'Source Serif Pro' (SourceSerifPro-Black.ttf) normal normal 900 normal>) = 10.525 [font_manager.py04/22:10:06]\n"
     ]
    },
    {
     "name": "stdout",
     "output_type": "stream",
     "text": [
      " _findfont_cached1346|10: findfont: score(<Font 'Script MT Bold' (SCRIPTBL.TTF) normal normal 700 normal>) = 10.335 [font_manager.py04/22:10:06]\n"
     ]
    },
    {
     "name": "stderr",
     "output_type": "stream",
     "text": [
      " _findfont_cached1346|DEBUG: findfont: score(<Font 'Script MT Bold' (SCRIPTBL.TTF) normal normal 700 normal>) = 10.335 [font_manager.py04/22:10:06]\n"
     ]
    },
    {
     "name": "stdout",
     "output_type": "stream",
     "text": [
      " _findfont_cached1346|10: findfont: score(<Font 'French Script MT' (FRSCRIPT.TTF) normal normal 400 normal>) = 10.05 [font_manager.py04/22:10:06]\n"
     ]
    },
    {
     "name": "stderr",
     "output_type": "stream",
     "text": [
      " _findfont_cached1346|DEBUG: findfont: score(<Font 'French Script MT' (FRSCRIPT.TTF) normal normal 400 normal>) = 10.05 [font_manager.py04/22:10:06]\n"
     ]
    },
    {
     "name": "stdout",
     "output_type": "stream",
     "text": [
      " _findfont_cached1346|10: findfont: score(<Font 'Microsoft JhengHei' (msjh.ttc) normal normal 400 normal>) = 10.05 [font_manager.py04/22:10:06]\n"
     ]
    },
    {
     "name": "stderr",
     "output_type": "stream",
     "text": [
      " _findfont_cached1346|DEBUG: findfont: score(<Font 'Microsoft JhengHei' (msjh.ttc) normal normal 400 normal>) = 10.05 [font_manager.py04/22:10:06]\n"
     ]
    },
    {
     "name": "stdout",
     "output_type": "stream",
     "text": [
      " _findfont_cached1346|10: findfont: score(<Font 'Source Sans Pro' (SourceSansPro-Regular.ttf) normal normal 400 normal>) = 10.05 [font_manager.py04/22:10:06]\n"
     ]
    },
    {
     "name": "stderr",
     "output_type": "stream",
     "text": [
      " _findfont_cached1346|DEBUG: findfont: score(<Font 'Source Sans Pro' (SourceSansPro-Regular.ttf) normal normal 400 normal>) = 10.05 [font_manager.py04/22:10:06]\n"
     ]
    },
    {
     "name": "stdout",
     "output_type": "stream",
     "text": [
      " _findfont_cached1346|10: findfont: score(<Font 'Engravers MT' (ENGR.TTF) normal normal 500 normal>) = 10.145 [font_manager.py04/22:10:06]\n"
     ]
    },
    {
     "name": "stderr",
     "output_type": "stream",
     "text": [
      " _findfont_cached1346|DEBUG: findfont: score(<Font 'Engravers MT' (ENGR.TTF) normal normal 500 normal>) = 10.145 [font_manager.py04/22:10:06]\n"
     ]
    },
    {
     "name": "stdout",
     "output_type": "stream",
     "text": [
      " _findfont_cached1346|10: findfont: score(<Font 'Amiri' (Amiri-BoldSlanted.ttf) italic normal 700 normal>) = 11.335 [font_manager.py04/22:10:06]\n"
     ]
    },
    {
     "name": "stderr",
     "output_type": "stream",
     "text": [
      " _findfont_cached1346|DEBUG: findfont: score(<Font 'Amiri' (Amiri-BoldSlanted.ttf) italic normal 700 normal>) = 11.335 [font_manager.py04/22:10:06]\n"
     ]
    },
    {
     "name": "stdout",
     "output_type": "stream",
     "text": [
      " _findfont_cached1346|10: findfont: score(<Font 'Comic Sans MS' (comicz.ttf) italic normal 700 normal>) = 11.335 [font_manager.py04/22:10:06]\n"
     ]
    },
    {
     "name": "stderr",
     "output_type": "stream",
     "text": [
      " _findfont_cached1346|DEBUG: findfont: score(<Font 'Comic Sans MS' (comicz.ttf) italic normal 700 normal>) = 11.335 [font_manager.py04/22:10:06]\n"
     ]
    },
    {
     "name": "stdout",
     "output_type": "stream",
     "text": [
      " _findfont_cached1346|10: findfont: score(<Font 'Rubik' (Rubik-Italic.ttf) italic normal 400 normal>) = 11.05 [font_manager.py04/22:10:06]\n"
     ]
    },
    {
     "name": "stderr",
     "output_type": "stream",
     "text": [
      " _findfont_cached1346|DEBUG: findfont: score(<Font 'Rubik' (Rubik-Italic.ttf) italic normal 400 normal>) = 11.05 [font_manager.py04/22:10:06]\n"
     ]
    },
    {
     "name": "stdout",
     "output_type": "stream",
     "text": [
      " _findfont_cached1346|10: findfont: score(<Font 'Tempus Sans ITC' (TEMPSITC.TTF) normal normal 400 normal>) = 10.05 [font_manager.py04/22:10:06]\n"
     ]
    },
    {
     "name": "stderr",
     "output_type": "stream",
     "text": [
      " _findfont_cached1346|DEBUG: findfont: score(<Font 'Tempus Sans ITC' (TEMPSITC.TTF) normal normal 400 normal>) = 10.05 [font_manager.py04/22:10:06]\n"
     ]
    },
    {
     "name": "stdout",
     "output_type": "stream",
     "text": [
      " _findfont_cached1346|10: findfont: score(<Font 'Bookman Old Style' (BOOKOSI.TTF) italic normal 300 normal>) = 11.145 [font_manager.py04/22:10:06]\n"
     ]
    },
    {
     "name": "stderr",
     "output_type": "stream",
     "text": [
      " _findfont_cached1346|DEBUG: findfont: score(<Font 'Bookman Old Style' (BOOKOSI.TTF) italic normal 300 normal>) = 11.145 [font_manager.py04/22:10:06]\n"
     ]
    },
    {
     "name": "stdout",
     "output_type": "stream",
     "text": [
      " _findfont_cached1346|10: findfont: score(<Font 'Noto Sans' (NotoSans-Bold.ttf) normal normal 700 normal>) = 10.335 [font_manager.py04/22:10:06]\n"
     ]
    },
    {
     "name": "stderr",
     "output_type": "stream",
     "text": [
      " _findfont_cached1346|DEBUG: findfont: score(<Font 'Noto Sans' (NotoSans-Bold.ttf) normal normal 700 normal>) = 10.335 [font_manager.py04/22:10:06]\n"
     ]
    },
    {
     "name": "stdout",
     "output_type": "stream",
     "text": [
      " _findfont_cached1346|10: findfont: score(<Font 'Noto Sans' (NotoSans-BoldItalic.ttf) italic normal 700 normal>) = 11.335 [font_manager.py04/22:10:06]\n"
     ]
    },
    {
     "name": "stderr",
     "output_type": "stream",
     "text": [
      " _findfont_cached1346|DEBUG: findfont: score(<Font 'Noto Sans' (NotoSans-BoldItalic.ttf) italic normal 700 normal>) = 11.335 [font_manager.py04/22:10:06]\n"
     ]
    },
    {
     "name": "stdout",
     "output_type": "stream",
     "text": [
      " _findfont_cached1346|10: findfont: score(<Font 'Vladimir Script' (VLADIMIR.TTF) normal normal 400 normal>) = 10.05 [font_manager.py04/22:10:06]\n"
     ]
    },
    {
     "name": "stderr",
     "output_type": "stream",
     "text": [
      " _findfont_cached1346|DEBUG: findfont: score(<Font 'Vladimir Script' (VLADIMIR.TTF) normal normal 400 normal>) = 10.05 [font_manager.py04/22:10:06]\n"
     ]
    },
    {
     "name": "stdout",
     "output_type": "stream",
     "text": [
      " _findfont_cached1346|10: findfont: score(<Font 'David Libre' (DavidLibre-Regular.ttf) normal normal 400 normal>) = 10.05 [font_manager.py04/22:10:06]\n"
     ]
    },
    {
     "name": "stderr",
     "output_type": "stream",
     "text": [
      " _findfont_cached1346|DEBUG: findfont: score(<Font 'David Libre' (DavidLibre-Regular.ttf) normal normal 400 normal>) = 10.05 [font_manager.py04/22:10:06]\n"
     ]
    },
    {
     "name": "stdout",
     "output_type": "stream",
     "text": [
      " _findfont_cached1346|10: findfont: score(<Font 'Agency FB' (AGENCYB.TTF) normal normal 700 normal>) = 10.335 [font_manager.py04/22:10:06]\n"
     ]
    },
    {
     "name": "stderr",
     "output_type": "stream",
     "text": [
      " _findfont_cached1346|DEBUG: findfont: score(<Font 'Agency FB' (AGENCYB.TTF) normal normal 700 normal>) = 10.335 [font_manager.py04/22:10:06]\n"
     ]
    },
    {
     "name": "stdout",
     "output_type": "stream",
     "text": [
      " _findfont_cached1346|10: findfont: score(<Font 'Noto Sans Lisu' (NotoSansLisu-Regular.ttf) normal normal 400 normal>) = 10.05 [font_manager.py04/22:10:06]\n"
     ]
    },
    {
     "name": "stderr",
     "output_type": "stream",
     "text": [
      " _findfont_cached1346|DEBUG: findfont: score(<Font 'Noto Sans Lisu' (NotoSansLisu-Regular.ttf) normal normal 400 normal>) = 10.05 [font_manager.py04/22:10:06]\n"
     ]
    },
    {
     "name": "stdout",
     "output_type": "stream",
     "text": [
      " _findfont_cached1346|10: findfont: score(<Font 'Lucida Fax' (LFAXI.TTF) italic normal 400 normal>) = 11.05 [font_manager.py04/22:10:06]\n"
     ]
    },
    {
     "name": "stderr",
     "output_type": "stream",
     "text": [
      " _findfont_cached1346|DEBUG: findfont: score(<Font 'Lucida Fax' (LFAXI.TTF) italic normal 400 normal>) = 11.05 [font_manager.py04/22:10:06]\n"
     ]
    },
    {
     "name": "stdout",
     "output_type": "stream",
     "text": [
      " _findfont_cached1346|10: findfont: score(<Font 'Noto Serif Armenian' (NotoSerifArmenian-Bold.ttf) normal normal 700 normal>) = 10.335 [font_manager.py04/22:10:06]\n"
     ]
    },
    {
     "name": "stderr",
     "output_type": "stream",
     "text": [
      " _findfont_cached1346|DEBUG: findfont: score(<Font 'Noto Serif Armenian' (NotoSerifArmenian-Bold.ttf) normal normal 700 normal>) = 10.335 [font_manager.py04/22:10:06]\n"
     ]
    },
    {
     "name": "stdout",
     "output_type": "stream",
     "text": [
      " _findfont_cached1346|10: findfont: score(<Font 'Wingdings' (wingding.ttf) normal normal 400 normal>) = 10.05 [font_manager.py04/22:10:06]\n"
     ]
    },
    {
     "name": "stderr",
     "output_type": "stream",
     "text": [
      " _findfont_cached1346|DEBUG: findfont: score(<Font 'Wingdings' (wingding.ttf) normal normal 400 normal>) = 10.05 [font_manager.py04/22:10:06]\n"
     ]
    },
    {
     "name": "stdout",
     "output_type": "stream",
     "text": [
      " _findfont_cached1346|10: findfont: score(<Font 'Source Serif Pro' (SourceSerifPro-Semibold.ttf) normal normal 600 normal>) = 10.24 [font_manager.py04/22:10:06]\n"
     ]
    },
    {
     "name": "stderr",
     "output_type": "stream",
     "text": [
      " _findfont_cached1346|DEBUG: findfont: score(<Font 'Source Serif Pro' (SourceSerifPro-Semibold.ttf) normal normal 600 normal>) = 10.24 [font_manager.py04/22:10:06]\n"
     ]
    },
    {
     "name": "stdout",
     "output_type": "stream",
     "text": [
      " _findfont_cached1346|10: findfont: score(<Font 'Arial' (arial.ttf) normal normal 400 normal>) = 6.413636363636363 [font_manager.py04/22:10:06]\n"
     ]
    },
    {
     "name": "stderr",
     "output_type": "stream",
     "text": [
      " _findfont_cached1346|DEBUG: findfont: score(<Font 'Arial' (arial.ttf) normal normal 400 normal>) = 6.413636363636363 [font_manager.py04/22:10:06]\n"
     ]
    },
    {
     "name": "stdout",
     "output_type": "stream",
     "text": [
      " _findfont_cached1346|10: findfont: score(<Font 'Rubik' (Rubik-BoldItalic.ttf) italic normal 700 normal>) = 11.335 [font_manager.py04/22:10:06]\n"
     ]
    },
    {
     "name": "stderr",
     "output_type": "stream",
     "text": [
      " _findfont_cached1346|DEBUG: findfont: score(<Font 'Rubik' (Rubik-BoldItalic.ttf) italic normal 700 normal>) = 11.335 [font_manager.py04/22:10:06]\n"
     ]
    },
    {
     "name": "stdout",
     "output_type": "stream",
     "text": [
      " _findfont_cached1346|10: findfont: score(<Font 'Comic Sans MS' (comici.ttf) italic normal 400 normal>) = 11.05 [font_manager.py04/22:10:06]\n"
     ]
    },
    {
     "name": "stderr",
     "output_type": "stream",
     "text": [
      " _findfont_cached1346|DEBUG: findfont: score(<Font 'Comic Sans MS' (comici.ttf) italic normal 400 normal>) = 11.05 [font_manager.py04/22:10:06]\n"
     ]
    },
    {
     "name": "stdout",
     "output_type": "stream",
     "text": [
      " _findfont_cached1346|10: findfont: score(<Font 'Eras Light ITC' (ERASLGHT.TTF) normal normal 400 normal>) = 10.05 [font_manager.py04/22:10:06]\n"
     ]
    },
    {
     "name": "stderr",
     "output_type": "stream",
     "text": [
      " _findfont_cached1346|DEBUG: findfont: score(<Font 'Eras Light ITC' (ERASLGHT.TTF) normal normal 400 normal>) = 10.05 [font_manager.py04/22:10:06]\n"
     ]
    },
    {
     "name": "stdout",
     "output_type": "stream",
     "text": [
      " _findfont_cached1346|10: findfont: score(<Font 'Century Gothic' (GOTHICB.TTF) normal normal 700 normal>) = 10.335 [font_manager.py04/22:10:06]\n"
     ]
    },
    {
     "name": "stderr",
     "output_type": "stream",
     "text": [
      " _findfont_cached1346|DEBUG: findfont: score(<Font 'Century Gothic' (GOTHICB.TTF) normal normal 700 normal>) = 10.335 [font_manager.py04/22:10:06]\n"
     ]
    },
    {
     "name": "stdout",
     "output_type": "stream",
     "text": [
      " _findfont_cached1346|10: findfont: score(<Font 'Playbill' (PLAYBILL.TTF) normal normal 400 normal>) = 10.05 [font_manager.py04/22:10:06]\n"
     ]
    },
    {
     "name": "stderr",
     "output_type": "stream",
     "text": [
      " _findfont_cached1346|DEBUG: findfont: score(<Font 'Playbill' (PLAYBILL.TTF) normal normal 400 normal>) = 10.05 [font_manager.py04/22:10:06]\n"
     ]
    },
    {
     "name": "stdout",
     "output_type": "stream",
     "text": [
      " _findfont_cached1346|10: findfont: score(<Font 'Noto Serif Georgian' (NotoSerifGeorgian-Bold.ttf) normal normal 700 normal>) = 10.335 [font_manager.py04/22:10:06]\n"
     ]
    },
    {
     "name": "stderr",
     "output_type": "stream",
     "text": [
      " _findfont_cached1346|DEBUG: findfont: score(<Font 'Noto Serif Georgian' (NotoSerifGeorgian-Bold.ttf) normal normal 700 normal>) = 10.335 [font_manager.py04/22:10:06]\n"
     ]
    },
    {
     "name": "stdout",
     "output_type": "stream",
     "text": [
      " _findfont_cached1346|10: findfont: score(<Font 'Noto Sans' (NotoSans-BoldItalic.ttf) italic normal 700 normal>) = 11.335 [font_manager.py04/22:10:06]\n"
     ]
    },
    {
     "name": "stderr",
     "output_type": "stream",
     "text": [
      " _findfont_cached1346|DEBUG: findfont: score(<Font 'Noto Sans' (NotoSans-BoldItalic.ttf) italic normal 700 normal>) = 11.335 [font_manager.py04/22:10:06]\n"
     ]
    },
    {
     "name": "stdout",
     "output_type": "stream",
     "text": [
      " _findfont_cached1346|10: findfont: score(<Font 'Rockwell' (ROCK.TTF) normal normal 400 normal>) = 10.05 [font_manager.py04/22:10:06]\n"
     ]
    },
    {
     "name": "stderr",
     "output_type": "stream",
     "text": [
      " _findfont_cached1346|DEBUG: findfont: score(<Font 'Rockwell' (ROCK.TTF) normal normal 400 normal>) = 10.05 [font_manager.py04/22:10:06]\n"
     ]
    },
    {
     "name": "stdout",
     "output_type": "stream",
     "text": [
      " _findfont_cached1346|10: findfont: score(<Font 'Tw Cen MT' (TCBI____.TTF) italic normal 700 normal>) = 11.335 [font_manager.py04/22:10:06]\n"
     ]
    },
    {
     "name": "stderr",
     "output_type": "stream",
     "text": [
      " _findfont_cached1346|DEBUG: findfont: score(<Font 'Tw Cen MT' (TCBI____.TTF) italic normal 700 normal>) = 11.335 [font_manager.py04/22:10:06]\n"
     ]
    },
    {
     "name": "stdout",
     "output_type": "stream",
     "text": [
      " _findfont_cached1346|10: findfont: score(<Font 'Wingdings 3' (WINGDNG3.TTF) normal normal 400 normal>) = 10.05 [font_manager.py04/22:10:06]\n"
     ]
    },
    {
     "name": "stderr",
     "output_type": "stream",
     "text": [
      " _findfont_cached1346|DEBUG: findfont: score(<Font 'Wingdings 3' (WINGDNG3.TTF) normal normal 400 normal>) = 10.05 [font_manager.py04/22:10:06]\n"
     ]
    },
    {
     "name": "stdout",
     "output_type": "stream",
     "text": [
      " _findfont_cached1346|10: findfont: score(<Font 'Bodoni MT' (BOD_CBI.TTF) italic normal 700 condensed>) = 11.535 [font_manager.py04/22:10:06]\n"
     ]
    },
    {
     "name": "stderr",
     "output_type": "stream",
     "text": [
      " _findfont_cached1346|DEBUG: findfont: score(<Font 'Bodoni MT' (BOD_CBI.TTF) italic normal 700 condensed>) = 11.535 [font_manager.py04/22:10:06]\n"
     ]
    },
    {
     "name": "stdout",
     "output_type": "stream",
     "text": [
      " _findfont_cached1346|10: findfont: score(<Font 'Corbel' (corbeli.ttf) italic normal 400 normal>) = 11.05 [font_manager.py04/22:10:06]\n"
     ]
    },
    {
     "name": "stderr",
     "output_type": "stream",
     "text": [
      " _findfont_cached1346|DEBUG: findfont: score(<Font 'Corbel' (corbeli.ttf) italic normal 400 normal>) = 11.05 [font_manager.py04/22:10:06]\n"
     ]
    },
    {
     "name": "stdout",
     "output_type": "stream",
     "text": [
      " _findfont_cached1346|10: findfont: score(<Font 'Malgun Gothic' (malgunbd.ttf) normal normal 700 normal>) = 10.335 [font_manager.py04/22:10:06]\n"
     ]
    },
    {
     "name": "stderr",
     "output_type": "stream",
     "text": [
      " _findfont_cached1346|DEBUG: findfont: score(<Font 'Malgun Gothic' (malgunbd.ttf) normal normal 700 normal>) = 10.335 [font_manager.py04/22:10:06]\n"
     ]
    },
    {
     "name": "stdout",
     "output_type": "stream",
     "text": [
      " _findfont_cached1346|10: findfont: score(<Font 'Microsoft JhengHei' (msjhbd.ttc) normal normal 700 normal>) = 10.335 [font_manager.py04/22:10:06]\n"
     ]
    },
    {
     "name": "stderr",
     "output_type": "stream",
     "text": [
      " _findfont_cached1346|DEBUG: findfont: score(<Font 'Microsoft JhengHei' (msjhbd.ttc) normal normal 700 normal>) = 10.335 [font_manager.py04/22:10:06]\n"
     ]
    },
    {
     "name": "stdout",
     "output_type": "stream",
     "text": [
      " _findfont_cached1346|10: findfont: score(<Font 'Frank Ruehl CLM' (FrankRuehlCLM-MediumOblique.ttf) oblique normal 500 normal>) = 11.145 [font_manager.py04/22:10:06]\n"
     ]
    },
    {
     "name": "stderr",
     "output_type": "stream",
     "text": [
      " _findfont_cached1346|DEBUG: findfont: score(<Font 'Frank Ruehl CLM' (FrankRuehlCLM-MediumOblique.ttf) oblique normal 500 normal>) = 11.145 [font_manager.py04/22:10:06]\n"
     ]
    },
    {
     "name": "stdout",
     "output_type": "stream",
     "text": [
      " _findfont_cached1346|10: findfont: score(<Font 'DejaVu Serif' (DejaVuSerif-Bold.ttf) normal normal 700 normal>) = 10.335 [font_manager.py04/22:10:06]\n"
     ]
    },
    {
     "name": "stderr",
     "output_type": "stream",
     "text": [
      " _findfont_cached1346|DEBUG: findfont: score(<Font 'DejaVu Serif' (DejaVuSerif-Bold.ttf) normal normal 700 normal>) = 10.335 [font_manager.py04/22:10:06]\n"
     ]
    },
    {
     "name": "stdout",
     "output_type": "stream",
     "text": [
      " _findfont_cached1346|10: findfont: score(<Font 'Brush Script MT' (BRUSHSCI.TTF) italic normal 400 normal>) = 11.05 [font_manager.py04/22:10:06]\n"
     ]
    },
    {
     "name": "stderr",
     "output_type": "stream",
     "text": [
      " _findfont_cached1346|DEBUG: findfont: score(<Font 'Brush Script MT' (BRUSHSCI.TTF) italic normal 400 normal>) = 11.05 [font_manager.py04/22:10:06]\n"
     ]
    },
    {
     "name": "stdout",
     "output_type": "stream",
     "text": [
      " _findfont_cached1346|10: findfont: score(<Font 'Gentium Book Basic' (GenBkBasR.ttf) normal normal 400 normal>) = 10.05 [font_manager.py04/22:10:06]\n"
     ]
    },
    {
     "name": "stderr",
     "output_type": "stream",
     "text": [
      " _findfont_cached1346|DEBUG: findfont: score(<Font 'Gentium Book Basic' (GenBkBasR.ttf) normal normal 400 normal>) = 10.05 [font_manager.py04/22:10:06]\n"
     ]
    },
    {
     "name": "stdout",
     "output_type": "stream",
     "text": [
      " _findfont_cached1346|10: findfont: score(<Font 'Myanmar Text' (mmrtextb.ttf) normal normal 700 normal>) = 10.335 [font_manager.py04/22:10:06]\n"
     ]
    },
    {
     "name": "stderr",
     "output_type": "stream",
     "text": [
      " _findfont_cached1346|DEBUG: findfont: score(<Font 'Myanmar Text' (mmrtextb.ttf) normal normal 700 normal>) = 10.335 [font_manager.py04/22:10:06]\n"
     ]
    },
    {
     "name": "stdout",
     "output_type": "stream",
     "text": [
      " _findfont_cached1346|10: findfont: score(<Font 'Forte' (FORTE.TTF) normal normal 400 normal>) = 10.05 [font_manager.py04/22:10:06]\n"
     ]
    },
    {
     "name": "stderr",
     "output_type": "stream",
     "text": [
      " _findfont_cached1346|DEBUG: findfont: score(<Font 'Forte' (FORTE.TTF) normal normal 400 normal>) = 10.05 [font_manager.py04/22:10:06]\n"
     ]
    },
    {
     "name": "stdout",
     "output_type": "stream",
     "text": [
      " _findfont_cached1346|10: findfont: score(<Font 'Microsoft JhengHei' (msjh.ttc) normal normal 400 normal>) = 10.05 [font_manager.py04/22:10:06]\n"
     ]
    },
    {
     "name": "stderr",
     "output_type": "stream",
     "text": [
      " _findfont_cached1346|DEBUG: findfont: score(<Font 'Microsoft JhengHei' (msjh.ttc) normal normal 400 normal>) = 10.05 [font_manager.py04/22:10:06]\n"
     ]
    },
    {
     "name": "stdout",
     "output_type": "stream",
     "text": [
      " _findfont_cached1346|10: findfont: score(<Font 'Leelawadee UI' (LeelUIsl.ttf) normal normal 350 normal>) = 10.0975 [font_manager.py04/22:10:06]\n"
     ]
    },
    {
     "name": "stderr",
     "output_type": "stream",
     "text": [
      " _findfont_cached1346|DEBUG: findfont: score(<Font 'Leelawadee UI' (LeelUIsl.ttf) normal normal 350 normal>) = 10.0975 [font_manager.py04/22:10:06]\n"
     ]
    },
    {
     "name": "stdout",
     "output_type": "stream",
     "text": [
      " _findfont_cached1346|10: findfont: score(<Font 'Franklin Gothic Book' (FRABKIT.TTF) italic normal 400 normal>) = 11.05 [font_manager.py04/22:10:06]\n"
     ]
    },
    {
     "name": "stderr",
     "output_type": "stream",
     "text": [
      " _findfont_cached1346|DEBUG: findfont: score(<Font 'Franklin Gothic Book' (FRABKIT.TTF) italic normal 400 normal>) = 11.05 [font_manager.py04/22:10:06]\n"
     ]
    },
    {
     "name": "stdout",
     "output_type": "stream",
     "text": [
      " _findfont_cached1346|10: findfont: score(<Font 'Calisto MT' (CALISTI.TTF) italic normal 400 normal>) = 11.05 [font_manager.py04/22:10:06]\n"
     ]
    },
    {
     "name": "stderr",
     "output_type": "stream",
     "text": [
      " _findfont_cached1346|DEBUG: findfont: score(<Font 'Calisto MT' (CALISTI.TTF) italic normal 400 normal>) = 11.05 [font_manager.py04/22:10:06]\n"
     ]
    },
    {
     "name": "stdout",
     "output_type": "stream",
     "text": [
      " _findfont_cached1346|10: findfont: score(<Font 'Freestyle Script' (FREESCPT.TTF) normal normal 400 normal>) = 10.05 [font_manager.py04/22:10:06]\n"
     ]
    },
    {
     "name": "stderr",
     "output_type": "stream",
     "text": [
      " _findfont_cached1346|DEBUG: findfont: score(<Font 'Freestyle Script' (FREESCPT.TTF) normal normal 400 normal>) = 10.05 [font_manager.py04/22:10:06]\n"
     ]
    },
    {
     "name": "stdout",
     "output_type": "stream",
     "text": [
      " _findfont_cached1346|10: findfont: score(<Font 'Harlow Solid Italic' (HARLOWSI.TTF) italic normal 400 normal>) = 11.05 [font_manager.py04/22:10:06]\n"
     ]
    },
    {
     "name": "stderr",
     "output_type": "stream",
     "text": [
      " _findfont_cached1346|DEBUG: findfont: score(<Font 'Harlow Solid Italic' (HARLOWSI.TTF) italic normal 400 normal>) = 11.05 [font_manager.py04/22:10:06]\n"
     ]
    },
    {
     "name": "stdout",
     "output_type": "stream",
     "text": [
      " _findfont_cached1346|10: findfont: score(<Font 'Lucida Handwriting' (LHANDW.TTF) italic normal 400 normal>) = 11.05 [font_manager.py04/22:10:06]\n"
     ]
    },
    {
     "name": "stderr",
     "output_type": "stream",
     "text": [
      " _findfont_cached1346|DEBUG: findfont: score(<Font 'Lucida Handwriting' (LHANDW.TTF) italic normal 400 normal>) = 11.05 [font_manager.py04/22:10:06]\n"
     ]
    },
    {
     "name": "stdout",
     "output_type": "stream",
     "text": [
      " _findfont_cached1346|10: findfont: score(<Font 'Segoe UI Emoji' (seguiemj.ttf) normal normal 400 normal>) = 10.05 [font_manager.py04/22:10:06]\n"
     ]
    },
    {
     "name": "stderr",
     "output_type": "stream",
     "text": [
      " _findfont_cached1346|DEBUG: findfont: score(<Font 'Segoe UI Emoji' (seguiemj.ttf) normal normal 400 normal>) = 10.05 [font_manager.py04/22:10:06]\n"
     ]
    },
    {
     "name": "stdout",
     "output_type": "stream",
     "text": [
      " _findfont_cached1346|10: findfont: score(<Font 'Yu Gothic' (YuGothL.ttc) normal normal 300 normal>) = 10.145 [font_manager.py04/22:10:06]\n"
     ]
    },
    {
     "name": "stderr",
     "output_type": "stream",
     "text": [
      " _findfont_cached1346|DEBUG: findfont: score(<Font 'Yu Gothic' (YuGothL.ttc) normal normal 300 normal>) = 10.145 [font_manager.py04/22:10:06]\n"
     ]
    },
    {
     "name": "stdout",
     "output_type": "stream",
     "text": [
      " _findfont_cached1346|10: findfont: score(<Font 'Segoe UI' (seguisb.ttf) normal normal 600 normal>) = 10.24 [font_manager.py04/22:10:06]\n"
     ]
    },
    {
     "name": "stderr",
     "output_type": "stream",
     "text": [
      " _findfont_cached1346|DEBUG: findfont: score(<Font 'Segoe UI' (seguisb.ttf) normal normal 600 normal>) = 10.24 [font_manager.py04/22:10:06]\n"
     ]
    },
    {
     "name": "stdout",
     "output_type": "stream",
     "text": [
      " _findfont_cached1346|10: findfont: score(<Font 'Noto Sans' (NotoSans-Light.ttf) normal normal 300 normal>) = 10.145 [font_manager.py04/22:10:06]\n"
     ]
    },
    {
     "name": "stderr",
     "output_type": "stream",
     "text": [
      " _findfont_cached1346|DEBUG: findfont: score(<Font 'Noto Sans' (NotoSans-Light.ttf) normal normal 300 normal>) = 10.145 [font_manager.py04/22:10:06]\n"
     ]
    },
    {
     "name": "stdout",
     "output_type": "stream",
     "text": [
      " _findfont_cached1346|10: findfont: score(<Font 'SimSun' (simsun.ttc) normal normal 400 normal>) = 10.05 [font_manager.py04/22:10:06]\n"
     ]
    },
    {
     "name": "stderr",
     "output_type": "stream",
     "text": [
      " _findfont_cached1346|DEBUG: findfont: score(<Font 'SimSun' (simsun.ttc) normal normal 400 normal>) = 10.05 [font_manager.py04/22:10:06]\n"
     ]
    },
    {
     "name": "stdout",
     "output_type": "stream",
     "text": [
      " _findfont_cached1346|10: findfont: score(<Font 'Alef' (Alef-Bold.ttf) normal normal 700 normal>) = 10.335 [font_manager.py04/22:10:06]\n"
     ]
    },
    {
     "name": "stderr",
     "output_type": "stream",
     "text": [
      " _findfont_cached1346|DEBUG: findfont: score(<Font 'Alef' (Alef-Bold.ttf) normal normal 700 normal>) = 10.335 [font_manager.py04/22:10:06]\n"
     ]
    },
    {
     "name": "stdout",
     "output_type": "stream",
     "text": [
      " _findfont_cached1346|10: findfont: score(<Font 'Lucida Calligraphy' (LCALLIG.TTF) italic normal 400 normal>) = 11.05 [font_manager.py04/22:10:06]\n"
     ]
    },
    {
     "name": "stderr",
     "output_type": "stream",
     "text": [
      " _findfont_cached1346|DEBUG: findfont: score(<Font 'Lucida Calligraphy' (LCALLIG.TTF) italic normal 400 normal>) = 11.05 [font_manager.py04/22:10:06]\n"
     ]
    },
    {
     "name": "stdout",
     "output_type": "stream",
     "text": [
      " _findfont_cached1346|10: findfont: score(<Font 'Liberation Sans Narrow' (LiberationSansNarrow-Regular.ttf) normal normal 400 condensed>) = 10.25 [font_manager.py04/22:10:06]\n"
     ]
    },
    {
     "name": "stderr",
     "output_type": "stream",
     "text": [
      " _findfont_cached1346|DEBUG: findfont: score(<Font 'Liberation Sans Narrow' (LiberationSansNarrow-Regular.ttf) normal normal 400 condensed>) = 10.25 [font_manager.py04/22:10:06]\n"
     ]
    },
    {
     "name": "stdout",
     "output_type": "stream",
     "text": [
      " _findfont_cached1346|10: findfont: score(<Font 'Noto Serif Hebrew' (NotoSerifHebrew-Bold.ttf) normal normal 700 normal>) = 10.335 [font_manager.py04/22:10:06]\n"
     ]
    },
    {
     "name": "stderr",
     "output_type": "stream",
     "text": [
      " _findfont_cached1346|DEBUG: findfont: score(<Font 'Noto Serif Hebrew' (NotoSerifHebrew-Bold.ttf) normal normal 700 normal>) = 10.335 [font_manager.py04/22:10:06]\n"
     ]
    },
    {
     "name": "stdout",
     "output_type": "stream",
     "text": [
      " _findfont_cached1346|10: findfont: score(<Font 'Freestyle Script' (FREESCPT.TTF) normal normal 400 normal>) = 10.05 [font_manager.py04/22:10:06]\n"
     ]
    },
    {
     "name": "stderr",
     "output_type": "stream",
     "text": [
      " _findfont_cached1346|DEBUG: findfont: score(<Font 'Freestyle Script' (FREESCPT.TTF) normal normal 400 normal>) = 10.05 [font_manager.py04/22:10:06]\n"
     ]
    },
    {
     "name": "stdout",
     "output_type": "stream",
     "text": [
      " _findfont_cached1346|10: findfont: score(<Font 'Constantia' (constan.ttf) normal normal 400 normal>) = 10.05 [font_manager.py04/22:10:06]\n"
     ]
    },
    {
     "name": "stderr",
     "output_type": "stream",
     "text": [
      " _findfont_cached1346|DEBUG: findfont: score(<Font 'Constantia' (constan.ttf) normal normal 400 normal>) = 10.05 [font_manager.py04/22:10:06]\n"
     ]
    },
    {
     "name": "stdout",
     "output_type": "stream",
     "text": [
      " _findfont_cached1346|10: findfont: score(<Font 'DejaVu Sans Mono' (DejaVuSansMono-BoldOblique.ttf) oblique normal 700 normal>) = 11.335 [font_manager.py04/22:10:06]\n"
     ]
    },
    {
     "name": "stderr",
     "output_type": "stream",
     "text": [
      " _findfont_cached1346|DEBUG: findfont: score(<Font 'DejaVu Sans Mono' (DejaVuSansMono-BoldOblique.ttf) oblique normal 700 normal>) = 11.335 [font_manager.py04/22:10:06]\n"
     ]
    },
    {
     "name": "stdout",
     "output_type": "stream",
     "text": [
      " _findfont_cached1346|10: findfont: score(<Font 'Source Serif Pro' (SourceSerifPro-BoldIt.ttf) italic normal 700 normal>) = 11.335 [font_manager.py04/22:10:06]\n"
     ]
    },
    {
     "name": "stderr",
     "output_type": "stream",
     "text": [
      " _findfont_cached1346|DEBUG: findfont: score(<Font 'Source Serif Pro' (SourceSerifPro-BoldIt.ttf) italic normal 700 normal>) = 11.335 [font_manager.py04/22:10:06]\n"
     ]
    },
    {
     "name": "stdout",
     "output_type": "stream",
     "text": [
      " _findfont_cached1346|10: findfont: score(<Font 'Comic Sans MS' (comicbd.ttf) normal normal 700 normal>) = 10.335 [font_manager.py04/22:10:06]\n"
     ]
    },
    {
     "name": "stderr",
     "output_type": "stream",
     "text": [
      " _findfont_cached1346|DEBUG: findfont: score(<Font 'Comic Sans MS' (comicbd.ttf) normal normal 700 normal>) = 10.335 [font_manager.py04/22:10:06]\n"
     ]
    },
    {
     "name": "stdout",
     "output_type": "stream",
     "text": [
      " _findfont_cached1346|10: findfont: score(<Font 'Felix Titling' (FELIXTI.TTF) normal normal 400 normal>) = 10.05 [font_manager.py04/22:10:06]\n"
     ]
    },
    {
     "name": "stderr",
     "output_type": "stream",
     "text": [
      " _findfont_cached1346|DEBUG: findfont: score(<Font 'Felix Titling' (FELIXTI.TTF) normal normal 400 normal>) = 10.05 [font_manager.py04/22:10:06]\n"
     ]
    },
    {
     "name": "stdout",
     "output_type": "stream",
     "text": [
      " _findfont_cached1346|10: findfont: score(<Font 'Caladea' (Caladea-Regular.ttf) normal normal 400 normal>) = 10.05 [font_manager.py04/22:10:06]\n"
     ]
    },
    {
     "name": "stderr",
     "output_type": "stream",
     "text": [
      " _findfont_cached1346|DEBUG: findfont: score(<Font 'Caladea' (Caladea-Regular.ttf) normal normal 400 normal>) = 10.05 [font_manager.py04/22:10:06]\n"
     ]
    },
    {
     "name": "stdout",
     "output_type": "stream",
     "text": [
      " _findfont_cached1346|10: findfont: score(<Font 'Source Sans Pro' (SourceSansPro-ExtraLight.ttf) normal normal 200 normal>) = 10.24 [font_manager.py04/22:10:06]\n"
     ]
    },
    {
     "name": "stderr",
     "output_type": "stream",
     "text": [
      " _findfont_cached1346|DEBUG: findfont: score(<Font 'Source Sans Pro' (SourceSansPro-ExtraLight.ttf) normal normal 200 normal>) = 10.24 [font_manager.py04/22:10:06]\n"
     ]
    },
    {
     "name": "stdout",
     "output_type": "stream",
     "text": [
      " _findfont_cached1346|10: findfont: score(<Font 'Source Serif Pro' (SourceSerifPro-Bold.ttf) normal normal 700 normal>) = 10.335 [font_manager.py04/22:10:06]\n"
     ]
    },
    {
     "name": "stderr",
     "output_type": "stream",
     "text": [
      " _findfont_cached1346|DEBUG: findfont: score(<Font 'Source Serif Pro' (SourceSerifPro-Bold.ttf) normal normal 700 normal>) = 10.335 [font_manager.py04/22:10:06]\n"
     ]
    },
    {
     "name": "stdout",
     "output_type": "stream",
     "text": [
      " _findfont_cached1346|10: findfont: score(<Font 'Bodoni MT' (BOD_BLAR.TTF) normal normal 900 normal>) = 10.525 [font_manager.py04/22:10:06]\n"
     ]
    },
    {
     "name": "stderr",
     "output_type": "stream",
     "text": [
      " _findfont_cached1346|DEBUG: findfont: score(<Font 'Bodoni MT' (BOD_BLAR.TTF) normal normal 900 normal>) = 10.525 [font_manager.py04/22:10:06]\n"
     ]
    },
    {
     "name": "stdout",
     "output_type": "stream",
     "text": [
      " _findfont_cached1346|10: findfont: score(<Font 'QuickType II Condensed' (QT2C_I.TTF) italic normal 400 condensed>) = 11.25 [font_manager.py04/22:10:06]\n"
     ]
    },
    {
     "name": "stderr",
     "output_type": "stream",
     "text": [
      " _findfont_cached1346|DEBUG: findfont: score(<Font 'QuickType II Condensed' (QT2C_I.TTF) italic normal 400 condensed>) = 11.25 [font_manager.py04/22:10:06]\n"
     ]
    },
    {
     "name": "stdout",
     "output_type": "stream",
     "text": [
      " _findfont_cached1346|10: findfont: score(<Font 'Liberation Serif' (LiberationSerif-Bold.ttf) normal normal 700 normal>) = 10.335 [font_manager.py04/22:10:06]\n"
     ]
    },
    {
     "name": "stderr",
     "output_type": "stream",
     "text": [
      " _findfont_cached1346|DEBUG: findfont: score(<Font 'Liberation Serif' (LiberationSerif-Bold.ttf) normal normal 700 normal>) = 10.335 [font_manager.py04/22:10:06]\n"
     ]
    },
    {
     "name": "stdout",
     "output_type": "stream",
     "text": [
      " _findfont_cached1346|10: findfont: score(<Font 'Linux Libertine G' (LinLibertine_RZ_G.ttf) normal normal 600 normal>) = 10.24 [font_manager.py04/22:10:06]\n"
     ]
    },
    {
     "name": "stderr",
     "output_type": "stream",
     "text": [
      " _findfont_cached1346|DEBUG: findfont: score(<Font 'Linux Libertine G' (LinLibertine_RZ_G.ttf) normal normal 600 normal>) = 10.24 [font_manager.py04/22:10:06]\n"
     ]
    },
    {
     "name": "stdout",
     "output_type": "stream",
     "text": [
      " _findfont_cached1346|10: findfont: score(<Font 'Rockwell' (ROCKBI.TTF) italic normal 700 normal>) = 11.335 [font_manager.py04/22:10:06]\n"
     ]
    },
    {
     "name": "stderr",
     "output_type": "stream",
     "text": [
      " _findfont_cached1346|DEBUG: findfont: score(<Font 'Rockwell' (ROCKBI.TTF) italic normal 700 normal>) = 11.335 [font_manager.py04/22:10:06]\n"
     ]
    },
    {
     "name": "stdout",
     "output_type": "stream",
     "text": [
      " _findfont_cached1346|10: findfont: score(<Font 'Carlito' (Carlito-Regular.ttf) normal normal 400 normal>) = 10.05 [font_manager.py04/22:10:06]\n"
     ]
    },
    {
     "name": "stderr",
     "output_type": "stream",
     "text": [
      " _findfont_cached1346|DEBUG: findfont: score(<Font 'Carlito' (Carlito-Regular.ttf) normal normal 400 normal>) = 10.05 [font_manager.py04/22:10:06]\n"
     ]
    },
    {
     "name": "stdout",
     "output_type": "stream",
     "text": [
      " _findfont_cached1346|10: findfont: score(<Font 'Wide Latin' (LATINWD.TTF) normal normal 400 expanded>) = 10.25 [font_manager.py04/22:10:06]\n"
     ]
    },
    {
     "name": "stderr",
     "output_type": "stream",
     "text": [
      " _findfont_cached1346|DEBUG: findfont: score(<Font 'Wide Latin' (LATINWD.TTF) normal normal 400 expanded>) = 10.25 [font_manager.py04/22:10:06]\n"
     ]
    },
    {
     "name": "stdout",
     "output_type": "stream",
     "text": [
      " _findfont_cached1346|10: findfont: score(<Font 'QuickType II Condensed' (QT2C_I.TTF) italic normal 400 condensed>) = 11.25 [font_manager.py04/22:10:06]\n"
     ]
    },
    {
     "name": "stderr",
     "output_type": "stream",
     "text": [
      " _findfont_cached1346|DEBUG: findfont: score(<Font 'QuickType II Condensed' (QT2C_I.TTF) italic normal 400 condensed>) = 11.25 [font_manager.py04/22:10:06]\n"
     ]
    },
    {
     "name": "stdout",
     "output_type": "stream",
     "text": [
      " _findfont_cached1346|10: findfont: score(<Font 'Eras Bold ITC' (ERASBD.TTF) normal normal 400 normal>) = 10.05 [font_manager.py04/22:10:06]\n"
     ]
    },
    {
     "name": "stderr",
     "output_type": "stream",
     "text": [
      " _findfont_cached1346|DEBUG: findfont: score(<Font 'Eras Bold ITC' (ERASBD.TTF) normal normal 400 normal>) = 10.05 [font_manager.py04/22:10:06]\n"
     ]
    },
    {
     "name": "stdout",
     "output_type": "stream",
     "text": [
      " _findfont_cached1346|10: findfont: score(<Font 'Gill Sans MT' (GIL_____.TTF) normal normal 400 normal>) = 10.05 [font_manager.py04/22:10:06]\n"
     ]
    },
    {
     "name": "stderr",
     "output_type": "stream",
     "text": [
      " _findfont_cached1346|DEBUG: findfont: score(<Font 'Gill Sans MT' (GIL_____.TTF) normal normal 400 normal>) = 10.05 [font_manager.py04/22:10:06]\n"
     ]
    },
    {
     "name": "stdout",
     "output_type": "stream",
     "text": [
      " _findfont_cached1346|10: findfont: score(<Font 'Baskerville Old Face' (BASKVILL.TTF) normal normal 400 normal>) = 10.05 [font_manager.py04/22:10:06]\n"
     ]
    },
    {
     "name": "stderr",
     "output_type": "stream",
     "text": [
      " _findfont_cached1346|DEBUG: findfont: score(<Font 'Baskerville Old Face' (BASKVILL.TTF) normal normal 400 normal>) = 10.05 [font_manager.py04/22:10:06]\n"
     ]
    },
    {
     "name": "stdout",
     "output_type": "stream",
     "text": [
      " _findfont_cached1346|10: findfont: score(<Font 'Source Code Pro' (SourceCodePro-Semibold.ttf) normal normal 600 normal>) = 10.24 [font_manager.py04/22:10:06]\n"
     ]
    },
    {
     "name": "stderr",
     "output_type": "stream",
     "text": [
      " _findfont_cached1346|DEBUG: findfont: score(<Font 'Source Code Pro' (SourceCodePro-Semibold.ttf) normal normal 600 normal>) = 10.24 [font_manager.py04/22:10:06]\n"
     ]
    },
    {
     "name": "stdout",
     "output_type": "stream",
     "text": [
      " _findfont_cached1346|10: findfont: score(<Font 'Noto Sans Lao' (NotoSansLao-Regular.ttf) normal normal 400 normal>) = 10.05 [font_manager.py04/22:10:06]\n"
     ]
    },
    {
     "name": "stderr",
     "output_type": "stream",
     "text": [
      " _findfont_cached1346|DEBUG: findfont: score(<Font 'Noto Sans Lao' (NotoSansLao-Regular.ttf) normal normal 400 normal>) = 10.05 [font_manager.py04/22:10:06]\n"
     ]
    },
    {
     "name": "stdout",
     "output_type": "stream",
     "text": [
      " _findfont_cached1346|10: findfont: score(<Font 'Bell MT' (BELLB.TTF) normal normal 700 normal>) = 10.335 [font_manager.py04/22:10:06]\n"
     ]
    },
    {
     "name": "stderr",
     "output_type": "stream",
     "text": [
      " _findfont_cached1346|DEBUG: findfont: score(<Font 'Bell MT' (BELLB.TTF) normal normal 700 normal>) = 10.335 [font_manager.py04/22:10:06]\n"
     ]
    },
    {
     "name": "stdout",
     "output_type": "stream",
     "text": [
      " _findfont_cached1346|10: findfont: score(<Font 'Candara' (Candarai.ttf) italic normal 400 normal>) = 11.05 [font_manager.py04/22:10:06]\n"
     ]
    },
    {
     "name": "stderr",
     "output_type": "stream",
     "text": [
      " _findfont_cached1346|DEBUG: findfont: score(<Font 'Candara' (Candarai.ttf) italic normal 400 normal>) = 11.05 [font_manager.py04/22:10:06]\n"
     ]
    },
    {
     "name": "stdout",
     "output_type": "stream",
     "text": [
      " _findfont_cached1346|10: findfont: score(<Font 'Noto Naskh Arabic UI' (NotoNaskhArabicUI-Bold.ttf) normal normal 700 normal>) = 10.335 [font_manager.py04/22:10:06]\n"
     ]
    },
    {
     "name": "stderr",
     "output_type": "stream",
     "text": [
      " _findfont_cached1346|DEBUG: findfont: score(<Font 'Noto Naskh Arabic UI' (NotoNaskhArabicUI-Bold.ttf) normal normal 700 normal>) = 10.335 [font_manager.py04/22:10:06]\n"
     ]
    },
    {
     "name": "stdout",
     "output_type": "stream",
     "text": [
      " _findfont_cached1346|10: findfont: score(<Font 'Noto Serif Armenian' (NotoSerifArmenian-Bold.ttf) normal normal 700 normal>) = 10.335 [font_manager.py04/22:10:06]\n"
     ]
    },
    {
     "name": "stderr",
     "output_type": "stream",
     "text": [
      " _findfont_cached1346|DEBUG: findfont: score(<Font 'Noto Serif Armenian' (NotoSerifArmenian-Bold.ttf) normal normal 700 normal>) = 10.335 [font_manager.py04/22:10:06]\n"
     ]
    },
    {
     "name": "stdout",
     "output_type": "stream",
     "text": [
      " _findfont_cached1346|10: findfont: score(<Font 'Caladea' (Caladea-BoldItalic.ttf) italic normal 700 normal>) = 11.335 [font_manager.py04/22:10:06]\n"
     ]
    },
    {
     "name": "stderr",
     "output_type": "stream",
     "text": [
      " _findfont_cached1346|DEBUG: findfont: score(<Font 'Caladea' (Caladea-BoldItalic.ttf) italic normal 700 normal>) = 11.335 [font_manager.py04/22:10:06]\n"
     ]
    },
    {
     "name": "stdout",
     "output_type": "stream",
     "text": [
      " _findfont_cached1346|10: findfont: score(<Font 'Noto Serif Armenian' (NotoSerifArmenian-Regular.ttf) normal normal 400 normal>) = 10.05 [font_manager.py04/22:10:06]\n"
     ]
    },
    {
     "name": "stderr",
     "output_type": "stream",
     "text": [
      " _findfont_cached1346|DEBUG: findfont: score(<Font 'Noto Serif Armenian' (NotoSerifArmenian-Regular.ttf) normal normal 400 normal>) = 10.05 [font_manager.py04/22:10:06]\n"
     ]
    },
    {
     "name": "stdout",
     "output_type": "stream",
     "text": [
      " _findfont_cached1346|10: findfont: score(<Font 'Noto Sans' (NotoSans-Condensed.ttf) normal normal 400 condensed>) = 10.25 [font_manager.py04/22:10:06]\n"
     ]
    },
    {
     "name": "stderr",
     "output_type": "stream",
     "text": [
      " _findfont_cached1346|DEBUG: findfont: score(<Font 'Noto Sans' (NotoSans-Condensed.ttf) normal normal 400 condensed>) = 10.25 [font_manager.py04/22:10:06]\n"
     ]
    },
    {
     "name": "stdout",
     "output_type": "stream",
     "text": [
      " _findfont_cached1346|10: findfont: score(<Font 'Scheherazade' (Scheherazade-Bold.ttf) normal normal 700 normal>) = 10.335 [font_manager.py04/22:10:06]\n"
     ]
    },
    {
     "name": "stderr",
     "output_type": "stream",
     "text": [
      " _findfont_cached1346|DEBUG: findfont: score(<Font 'Scheherazade' (Scheherazade-Bold.ttf) normal normal 700 normal>) = 10.335 [font_manager.py04/22:10:06]\n"
     ]
    },
    {
     "name": "stdout",
     "output_type": "stream",
     "text": [
      " _findfont_cached1346|10: findfont: score(<Font 'Source Code Pro' (SourceCodePro-Light.ttf) normal normal 300 normal>) = 10.145 [font_manager.py04/22:10:06]\n"
     ]
    },
    {
     "name": "stderr",
     "output_type": "stream",
     "text": [
      " _findfont_cached1346|DEBUG: findfont: score(<Font 'Source Code Pro' (SourceCodePro-Light.ttf) normal normal 300 normal>) = 10.145 [font_manager.py04/22:10:06]\n"
     ]
    },
    {
     "name": "stdout",
     "output_type": "stream",
     "text": [
      " _findfont_cached1346|10: findfont: score(<Font 'Noto Sans Armenian' (NotoSansArmenian-Regular.ttf) normal normal 400 normal>) = 10.05 [font_manager.py04/22:10:06]\n"
     ]
    },
    {
     "name": "stderr",
     "output_type": "stream",
     "text": [
      " _findfont_cached1346|DEBUG: findfont: score(<Font 'Noto Sans Armenian' (NotoSansArmenian-Regular.ttf) normal normal 400 normal>) = 10.05 [font_manager.py04/22:10:06]\n"
     ]
    },
    {
     "name": "stdout",
     "output_type": "stream",
     "text": [
      " _findfont_cached1346|10: findfont: score(<Font 'Source Sans Pro' (SourceSansPro-BoldIt.ttf) italic normal 700 normal>) = 11.335 [font_manager.py04/22:10:06]\n"
     ]
    },
    {
     "name": "stderr",
     "output_type": "stream",
     "text": [
      " _findfont_cached1346|DEBUG: findfont: score(<Font 'Source Sans Pro' (SourceSansPro-BoldIt.ttf) italic normal 700 normal>) = 11.335 [font_manager.py04/22:10:06]\n"
     ]
    },
    {
     "name": "stdout",
     "output_type": "stream",
     "text": [
      " _findfont_cached1346|10: findfont: score(<Font 'Noto Sans Lisu' (NotoSansLisu-Regular.ttf) normal normal 400 normal>) = 10.05 [font_manager.py04/22:10:06]\n"
     ]
    },
    {
     "name": "stderr",
     "output_type": "stream",
     "text": [
      " _findfont_cached1346|DEBUG: findfont: score(<Font 'Noto Sans Lisu' (NotoSansLisu-Regular.ttf) normal normal 400 normal>) = 10.05 [font_manager.py04/22:10:06]\n"
     ]
    },
    {
     "name": "stdout",
     "output_type": "stream",
     "text": [
      " _findfont_cached1346|10: findfont: score(<Font 'Trebuchet MS' (trebucit.ttf) italic normal 400 normal>) = 11.05 [font_manager.py04/22:10:06]\n"
     ]
    },
    {
     "name": "stderr",
     "output_type": "stream",
     "text": [
      " _findfont_cached1346|DEBUG: findfont: score(<Font 'Trebuchet MS' (trebucit.ttf) italic normal 400 normal>) = 11.05 [font_manager.py04/22:10:06]\n"
     ]
    },
    {
     "name": "stdout",
     "output_type": "stream",
     "text": [
      " _findfont_cached1346|10: findfont: score(<Font 'Book Antiqua' (ANTQUAB.TTF) normal normal 700 normal>) = 10.335 [font_manager.py04/22:10:06]\n"
     ]
    },
    {
     "name": "stderr",
     "output_type": "stream",
     "text": [
      " _findfont_cached1346|DEBUG: findfont: score(<Font 'Book Antiqua' (ANTQUAB.TTF) normal normal 700 normal>) = 10.335 [font_manager.py04/22:10:06]\n"
     ]
    },
    {
     "name": "stdout",
     "output_type": "stream",
     "text": [
      " _findfont_cached1346|10: findfont: score(<Font 'Calibri' (calibrib.ttf) normal normal 700 normal>) = 10.335 [font_manager.py04/22:10:06]\n"
     ]
    },
    {
     "name": "stderr",
     "output_type": "stream",
     "text": [
      " _findfont_cached1346|DEBUG: findfont: score(<Font 'Calibri' (calibrib.ttf) normal normal 700 normal>) = 10.335 [font_manager.py04/22:10:06]\n"
     ]
    },
    {
     "name": "stdout",
     "output_type": "stream",
     "text": [
      " _findfont_cached1346|10: findfont: score(<Font 'Cambria' (cambria.ttc) normal normal 400 normal>) = 10.05 [font_manager.py04/22:10:06]\n"
     ]
    },
    {
     "name": "stderr",
     "output_type": "stream",
     "text": [
      " _findfont_cached1346|DEBUG: findfont: score(<Font 'Cambria' (cambria.ttc) normal normal 400 normal>) = 10.05 [font_manager.py04/22:10:06]\n"
     ]
    },
    {
     "name": "stdout",
     "output_type": "stream",
     "text": [
      " _findfont_cached1346|10: findfont: score(<Font 'Source Sans Pro' (SourceSansPro-Black.ttf) normal normal 900 normal>) = 10.525 [font_manager.py04/22:10:06]\n"
     ]
    },
    {
     "name": "stderr",
     "output_type": "stream",
     "text": [
      " _findfont_cached1346|DEBUG: findfont: score(<Font 'Source Sans Pro' (SourceSansPro-Black.ttf) normal normal 900 normal>) = 10.525 [font_manager.py04/22:10:06]\n"
     ]
    },
    {
     "name": "stdout",
     "output_type": "stream",
     "text": [
      " _findfont_cached1346|10: findfont: score(<Font 'UNAVAILABLE' (AvenirLT-Heavy.ttf) normal normal 700 normal>) = 10.335 [font_manager.py04/22:10:06]\n"
     ]
    },
    {
     "name": "stderr",
     "output_type": "stream",
     "text": [
      " _findfont_cached1346|DEBUG: findfont: score(<Font 'UNAVAILABLE' (AvenirLT-Heavy.ttf) normal normal 700 normal>) = 10.335 [font_manager.py04/22:10:06]\n"
     ]
    },
    {
     "name": "stdout",
     "output_type": "stream",
     "text": [
      " _findfont_cached1346|10: findfont: score(<Font 'QuickType II Condensed' (QT2C_P.TTF) normal normal 400 condensed>) = 10.25 [font_manager.py04/22:10:06]\n"
     ]
    },
    {
     "name": "stderr",
     "output_type": "stream",
     "text": [
      " _findfont_cached1346|DEBUG: findfont: score(<Font 'QuickType II Condensed' (QT2C_P.TTF) normal normal 400 condensed>) = 10.25 [font_manager.py04/22:10:06]\n"
     ]
    },
    {
     "name": "stdout",
     "output_type": "stream",
     "text": [
      " _findfont_cached1346|10: findfont: score(<Font 'Tw Cen MT' (TCM_____.TTF) normal normal 400 normal>) = 10.05 [font_manager.py04/22:10:06]\n"
     ]
    },
    {
     "name": "stderr",
     "output_type": "stream",
     "text": [
      " _findfont_cached1346|DEBUG: findfont: score(<Font 'Tw Cen MT' (TCM_____.TTF) normal normal 400 normal>) = 10.05 [font_manager.py04/22:10:06]\n"
     ]
    },
    {
     "name": "stdout",
     "output_type": "stream",
     "text": [
      " _findfont_cached1346|10: findfont: score(<Font 'Noto Sans Arabic UI' (NotoSansArabicUI-Bold.ttf) normal normal 700 normal>) = 10.335 [font_manager.py04/22:10:06]\n"
     ]
    },
    {
     "name": "stderr",
     "output_type": "stream",
     "text": [
      " _findfont_cached1346|DEBUG: findfont: score(<Font 'Noto Sans Arabic UI' (NotoSansArabicUI-Bold.ttf) normal normal 700 normal>) = 10.335 [font_manager.py04/22:10:06]\n"
     ]
    },
    {
     "name": "stdout",
     "output_type": "stream",
     "text": [
      " _findfont_cached1346|10: findfont: score(<Font 'Microsoft JhengHei' (msjhl.ttc) normal normal 290 normal>) = 10.1545 [font_manager.py04/22:10:06]\n"
     ]
    },
    {
     "name": "stderr",
     "output_type": "stream",
     "text": [
      " _findfont_cached1346|DEBUG: findfont: score(<Font 'Microsoft JhengHei' (msjhl.ttc) normal normal 290 normal>) = 10.1545 [font_manager.py04/22:10:06]\n"
     ]
    },
    {
     "name": "stdout",
     "output_type": "stream",
     "text": [
      " _findfont_cached1346|10: findfont: score(<Font 'Rockwell' (ROCKBI.TTF) italic normal 700 normal>) = 11.335 [font_manager.py04/22:10:06]\n"
     ]
    },
    {
     "name": "stderr",
     "output_type": "stream",
     "text": [
      " _findfont_cached1346|DEBUG: findfont: score(<Font 'Rockwell' (ROCKBI.TTF) italic normal 700 normal>) = 11.335 [font_manager.py04/22:10:06]\n"
     ]
    },
    {
     "name": "stdout",
     "output_type": "stream",
     "text": [
      " _findfont_cached1346|10: findfont: score(<Font 'Franklin Gothic Medium Cond' (FRAMDCN.TTF) normal normal 400 condensed>) = 10.25 [font_manager.py04/22:10:06]\n"
     ]
    },
    {
     "name": "stderr",
     "output_type": "stream",
     "text": [
      " _findfont_cached1346|DEBUG: findfont: score(<Font 'Franklin Gothic Medium Cond' (FRAMDCN.TTF) normal normal 400 condensed>) = 10.25 [font_manager.py04/22:10:06]\n"
     ]
    },
    {
     "name": "stdout",
     "output_type": "stream",
     "text": [
      " _findfont_cached1346|10: findfont: score(<Font 'Papyrus' (PAPYRUS.TTF) normal normal 400 normal>) = 10.05 [font_manager.py04/22:10:06]\n"
     ]
    },
    {
     "name": "stderr",
     "output_type": "stream",
     "text": [
      " _findfont_cached1346|DEBUG: findfont: score(<Font 'Papyrus' (PAPYRUS.TTF) normal normal 400 normal>) = 10.05 [font_manager.py04/22:10:06]\n"
     ]
    },
    {
     "name": "stdout",
     "output_type": "stream",
     "text": [
      " _findfont_cached1346|10: findfont: score(<Font 'KacstBook' (KacstBook.ttf) normal normal 500 normal>) = 10.145 [font_manager.py04/22:10:06]\n"
     ]
    },
    {
     "name": "stderr",
     "output_type": "stream",
     "text": [
      " _findfont_cached1346|DEBUG: findfont: score(<Font 'KacstBook' (KacstBook.ttf) normal normal 500 normal>) = 10.145 [font_manager.py04/22:10:06]\n"
     ]
    },
    {
     "name": "stdout",
     "output_type": "stream",
     "text": [
      " _findfont_cached1346|10: findfont: score(<Font 'Lucida Sans' (LSANSD.TTF) normal normal 600 normal>) = 10.24 [font_manager.py04/22:10:06]\n"
     ]
    },
    {
     "name": "stderr",
     "output_type": "stream",
     "text": [
      " _findfont_cached1346|DEBUG: findfont: score(<Font 'Lucida Sans' (LSANSD.TTF) normal normal 600 normal>) = 10.24 [font_manager.py04/22:10:06]\n"
     ]
    },
    {
     "name": "stdout",
     "output_type": "stream",
     "text": [
      " _findfont_cached1346|10: findfont: score(<Font 'Calibri' (calibrili.ttf) italic normal 300 normal>) = 11.145 [font_manager.py04/22:10:06]\n"
     ]
    },
    {
     "name": "stderr",
     "output_type": "stream",
     "text": [
      " _findfont_cached1346|DEBUG: findfont: score(<Font 'Calibri' (calibrili.ttf) italic normal 300 normal>) = 11.145 [font_manager.py04/22:10:06]\n"
     ]
    },
    {
     "name": "stdout",
     "output_type": "stream",
     "text": [
      " _findfont_cached1346|10: findfont: score(<Font 'Noto Sans Georgian' (NotoSansGeorgian-Bold.ttf) normal normal 700 normal>) = 10.335 [font_manager.py04/22:10:06]\n"
     ]
    },
    {
     "name": "stderr",
     "output_type": "stream",
     "text": [
      " _findfont_cached1346|DEBUG: findfont: score(<Font 'Noto Sans Georgian' (NotoSansGeorgian-Bold.ttf) normal normal 700 normal>) = 10.335 [font_manager.py04/22:10:06]\n"
     ]
    },
    {
     "name": "stdout",
     "output_type": "stream",
     "text": [
      " _findfont_cached1346|10: findfont: score(<Font 'Linux Biolinum G' (LinBiolinum_R_G.ttf) normal normal 400 normal>) = 10.05 [font_manager.py04/22:10:06]\n"
     ]
    },
    {
     "name": "stderr",
     "output_type": "stream",
     "text": [
      " _findfont_cached1346|DEBUG: findfont: score(<Font 'Linux Biolinum G' (LinBiolinum_R_G.ttf) normal normal 400 normal>) = 10.05 [font_manager.py04/22:10:06]\n"
     ]
    },
    {
     "name": "stdout",
     "output_type": "stream",
     "text": [
      " _findfont_cached1346|10: findfont: score(<Font 'Bodoni MT' (BOD_BI.TTF) italic normal 700 normal>) = 11.335 [font_manager.py04/22:10:06]\n"
     ]
    },
    {
     "name": "stderr",
     "output_type": "stream",
     "text": [
      " _findfont_cached1346|DEBUG: findfont: score(<Font 'Bodoni MT' (BOD_BI.TTF) italic normal 700 normal>) = 11.335 [font_manager.py04/22:10:06]\n"
     ]
    },
    {
     "name": "stdout",
     "output_type": "stream",
     "text": [
      " _findfont_cached1346|10: findfont: score(<Font 'Tahoma' (tahoma.ttf) normal normal 400 normal>) = 10.05 [font_manager.py04/22:10:06]\n"
     ]
    },
    {
     "name": "stderr",
     "output_type": "stream",
     "text": [
      " _findfont_cached1346|DEBUG: findfont: score(<Font 'Tahoma' (tahoma.ttf) normal normal 400 normal>) = 10.05 [font_manager.py04/22:10:06]\n"
     ]
    },
    {
     "name": "stdout",
     "output_type": "stream",
     "text": [
      " _findfont_cached1346|10: findfont: score(<Font 'Source Code Pro' (SourceCodePro-Light.ttf) normal normal 300 normal>) = 10.145 [font_manager.py04/22:10:06]\n"
     ]
    },
    {
     "name": "stderr",
     "output_type": "stream",
     "text": [
      " _findfont_cached1346|DEBUG: findfont: score(<Font 'Source Code Pro' (SourceCodePro-Light.ttf) normal normal 300 normal>) = 10.145 [font_manager.py04/22:10:06]\n"
     ]
    },
    {
     "name": "stdout",
     "output_type": "stream",
     "text": [
      " _findfont_cached1346|10: findfont: score(<Font 'Segoe UI Emoji' (seguiemj.ttf) normal normal 400 normal>) = 10.05 [font_manager.py04/22:10:06]\n"
     ]
    },
    {
     "name": "stderr",
     "output_type": "stream",
     "text": [
      " _findfont_cached1346|DEBUG: findfont: score(<Font 'Segoe UI Emoji' (seguiemj.ttf) normal normal 400 normal>) = 10.05 [font_manager.py04/22:10:06]\n"
     ]
    },
    {
     "name": "stdout",
     "output_type": "stream",
     "text": [
      " _findfont_cached1346|10: findfont: score(<Font 'DejaVu Sans Mono' (DejaVuSansMono-Oblique.ttf) oblique normal 400 normal>) = 11.05 [font_manager.py04/22:10:06]\n"
     ]
    },
    {
     "name": "stderr",
     "output_type": "stream",
     "text": [
      " _findfont_cached1346|DEBUG: findfont: score(<Font 'DejaVu Sans Mono' (DejaVuSansMono-Oblique.ttf) oblique normal 400 normal>) = 11.05 [font_manager.py04/22:10:06]\n"
     ]
    },
    {
     "name": "stdout",
     "output_type": "stream",
     "text": [
      " _findfont_cached1346|10: findfont: score(<Font 'Ebrima' (ebrima.ttf) normal normal 400 normal>) = 10.05 [font_manager.py04/22:10:06]\n"
     ]
    },
    {
     "name": "stderr",
     "output_type": "stream",
     "text": [
      " _findfont_cached1346|DEBUG: findfont: score(<Font 'Ebrima' (ebrima.ttf) normal normal 400 normal>) = 10.05 [font_manager.py04/22:10:06]\n"
     ]
    },
    {
     "name": "stdout",
     "output_type": "stream",
     "text": [
      " _findfont_cached1346|10: findfont: score(<Font 'Source Code Pro' (SourceCodePro-MediumIt.ttf) italic normal 500 normal>) = 11.145 [font_manager.py04/22:10:06]\n"
     ]
    },
    {
     "name": "stderr",
     "output_type": "stream",
     "text": [
      " _findfont_cached1346|DEBUG: findfont: score(<Font 'Source Code Pro' (SourceCodePro-MediumIt.ttf) italic normal 500 normal>) = 11.145 [font_manager.py04/22:10:06]\n"
     ]
    },
    {
     "name": "stdout",
     "output_type": "stream",
     "text": [
      " _findfont_cached1346|10: findfont: score(<Font 'wgl4_boot' (wgl4_boot.ttf) normal normal 400 normal>) = 10.05 [font_manager.py04/22:10:06]\n"
     ]
    },
    {
     "name": "stderr",
     "output_type": "stream",
     "text": [
      " _findfont_cached1346|DEBUG: findfont: score(<Font 'wgl4_boot' (wgl4_boot.ttf) normal normal 400 normal>) = 10.05 [font_manager.py04/22:10:06]\n"
     ]
    },
    {
     "name": "stdout",
     "output_type": "stream",
     "text": [
      " _findfont_cached1346|10: findfont: score(<Font 'Caladea' (Caladea-Regular.ttf) normal normal 400 normal>) = 10.05 [font_manager.py04/22:10:06]\n"
     ]
    },
    {
     "name": "stderr",
     "output_type": "stream",
     "text": [
      " _findfont_cached1346|DEBUG: findfont: score(<Font 'Caladea' (Caladea-Regular.ttf) normal normal 400 normal>) = 10.05 [font_manager.py04/22:10:06]\n"
     ]
    },
    {
     "name": "stdout",
     "output_type": "stream",
     "text": [
      " _findfont_cached1346|10: findfont: score(<Font 'Forte' (FORTE.TTF) normal normal 400 normal>) = 10.05 [font_manager.py04/22:10:06]\n"
     ]
    },
    {
     "name": "stderr",
     "output_type": "stream",
     "text": [
      " _findfont_cached1346|DEBUG: findfont: score(<Font 'Forte' (FORTE.TTF) normal normal 400 normal>) = 10.05 [font_manager.py04/22:10:06]\n"
     ]
    },
    {
     "name": "stdout",
     "output_type": "stream",
     "text": [
      " _findfont_cached1346|10: findfont: score(<Font 'Constantia' (constan.ttf) normal normal 400 normal>) = 10.05 [font_manager.py04/22:10:06]\n"
     ]
    },
    {
     "name": "stderr",
     "output_type": "stream",
     "text": [
      " _findfont_cached1346|DEBUG: findfont: score(<Font 'Constantia' (constan.ttf) normal normal 400 normal>) = 10.05 [font_manager.py04/22:10:06]\n"
     ]
    },
    {
     "name": "stdout",
     "output_type": "stream",
     "text": [
      " _findfont_cached1346|10: findfont: score(<Font 'Perpetua' (PER_____.TTF) normal normal 400 normal>) = 10.05 [font_manager.py04/22:10:06]\n"
     ]
    },
    {
     "name": "stderr",
     "output_type": "stream",
     "text": [
      " _findfont_cached1346|DEBUG: findfont: score(<Font 'Perpetua' (PER_____.TTF) normal normal 400 normal>) = 10.05 [font_manager.py04/22:10:06]\n"
     ]
    },
    {
     "name": "stdout",
     "output_type": "stream",
     "text": [
      " _findfont_cached1346|10: findfont: score(<Font 'Segoe UI' (seguisli.ttf) italic normal 350 normal>) = 11.0975 [font_manager.py04/22:10:06]\n"
     ]
    },
    {
     "name": "stderr",
     "output_type": "stream",
     "text": [
      " _findfont_cached1346|DEBUG: findfont: score(<Font 'Segoe UI' (seguisli.ttf) italic normal 350 normal>) = 11.0975 [font_manager.py04/22:10:06]\n"
     ]
    },
    {
     "name": "stdout",
     "output_type": "stream",
     "text": [
      " _findfont_cached1346|10: findfont: score(<Font 'Source Code Pro' (SourceCodePro-ExtraLight.ttf) normal normal 200 normal>) = 10.24 [font_manager.py04/22:10:06]\n"
     ]
    },
    {
     "name": "stderr",
     "output_type": "stream",
     "text": [
      " _findfont_cached1346|DEBUG: findfont: score(<Font 'Source Code Pro' (SourceCodePro-ExtraLight.ttf) normal normal 200 normal>) = 10.24 [font_manager.py04/22:10:06]\n"
     ]
    },
    {
     "name": "stdout",
     "output_type": "stream",
     "text": [
      " _findfont_cached1346|10: findfont: score(<Font 'Stencil' (STENCIL.TTF) normal normal 400 normal>) = 10.05 [font_manager.py04/22:10:06]\n"
     ]
    },
    {
     "name": "stderr",
     "output_type": "stream",
     "text": [
      " _findfont_cached1346|DEBUG: findfont: score(<Font 'Stencil' (STENCIL.TTF) normal normal 400 normal>) = 10.05 [font_manager.py04/22:10:06]\n"
     ]
    },
    {
     "name": "stdout",
     "output_type": "stream",
     "text": [
      " _findfont_cached1346|10: findfont: score(<Font 'Noto Serif' (NotoSerif-BoldItalic.ttf) italic normal 700 normal>) = 11.335 [font_manager.py04/22:10:06]\n"
     ]
    },
    {
     "name": "stderr",
     "output_type": "stream",
     "text": [
      " _findfont_cached1346|DEBUG: findfont: score(<Font 'Noto Serif' (NotoSerif-BoldItalic.ttf) italic normal 700 normal>) = 11.335 [font_manager.py04/22:10:06]\n"
     ]
    },
    {
     "name": "stdout",
     "output_type": "stream",
     "text": [
      " _findfont_cached1346|10: findfont: score(<Font 'Gentium Basic' (GenBasBI.ttf) italic normal 700 normal>) = 11.335 [font_manager.py04/22:10:06]\n"
     ]
    },
    {
     "name": "stderr",
     "output_type": "stream",
     "text": [
      " _findfont_cached1346|DEBUG: findfont: score(<Font 'Gentium Basic' (GenBasBI.ttf) italic normal 700 normal>) = 11.335 [font_manager.py04/22:10:06]\n"
     ]
    },
    {
     "name": "stdout",
     "output_type": "stream",
     "text": [
      " _findfont_cached1346|10: findfont: score(<Font 'Nirmala UI' (NirmalaB.ttf) normal normal 700 normal>) = 10.335 [font_manager.py04/22:10:06]\n"
     ]
    },
    {
     "name": "stderr",
     "output_type": "stream",
     "text": [
      " _findfont_cached1346|DEBUG: findfont: score(<Font 'Nirmala UI' (NirmalaB.ttf) normal normal 700 normal>) = 10.335 [font_manager.py04/22:10:06]\n"
     ]
    },
    {
     "name": "stdout",
     "output_type": "stream",
     "text": [
      " _findfont_cached1346|10: findfont: score(<Font 'Linux Libertine G' (LinLibertine_R_G.ttf) normal normal 400 normal>) = 10.05 [font_manager.py04/22:10:06]\n"
     ]
    },
    {
     "name": "stderr",
     "output_type": "stream",
     "text": [
      " _findfont_cached1346|DEBUG: findfont: score(<Font 'Linux Libertine G' (LinLibertine_R_G.ttf) normal normal 400 normal>) = 10.05 [font_manager.py04/22:10:06]\n"
     ]
    },
    {
     "name": "stdout",
     "output_type": "stream",
     "text": [
      " _findfont_cached1346|10: findfont: score(<Font 'Noto Sans Armenian' (NotoSansArmenian-Bold.ttf) normal normal 700 normal>) = 10.335 [font_manager.py04/22:10:06]\n"
     ]
    },
    {
     "name": "stderr",
     "output_type": "stream",
     "text": [
      " _findfont_cached1346|DEBUG: findfont: score(<Font 'Noto Sans Armenian' (NotoSansArmenian-Bold.ttf) normal normal 700 normal>) = 10.335 [font_manager.py04/22:10:06]\n"
     ]
    },
    {
     "name": "stdout",
     "output_type": "stream",
     "text": [
      " _findfont_cached1346|10: findfont: score(<Font 'Corbel' (corbelb.ttf) normal normal 700 normal>) = 10.335 [font_manager.py04/22:10:06]\n"
     ]
    },
    {
     "name": "stderr",
     "output_type": "stream",
     "text": [
      " _findfont_cached1346|DEBUG: findfont: score(<Font 'Corbel' (corbelb.ttf) normal normal 700 normal>) = 10.335 [font_manager.py04/22:10:06]\n"
     ]
    },
    {
     "name": "stdout",
     "output_type": "stream",
     "text": [
      " _findfont_cached1346|10: findfont: score(<Font 'DejaVu Sans Mono' (DejaVuSansMono.ttf) normal normal 400 normal>) = 10.05 [font_manager.py04/22:10:06]\n"
     ]
    },
    {
     "name": "stderr",
     "output_type": "stream",
     "text": [
      " _findfont_cached1346|DEBUG: findfont: score(<Font 'DejaVu Sans Mono' (DejaVuSansMono.ttf) normal normal 400 normal>) = 10.05 [font_manager.py04/22:10:06]\n"
     ]
    },
    {
     "name": "stdout",
     "output_type": "stream",
     "text": [
      " _findfont_cached1346|10: findfont: score(<Font 'Source Serif Pro' (SourceSerifPro-Regular.ttf) normal normal 400 normal>) = 10.05 [font_manager.py04/22:10:06]\n"
     ]
    },
    {
     "name": "stderr",
     "output_type": "stream",
     "text": [
      " _findfont_cached1346|DEBUG: findfont: score(<Font 'Source Serif Pro' (SourceSerifPro-Regular.ttf) normal normal 400 normal>) = 10.05 [font_manager.py04/22:10:06]\n"
     ]
    },
    {
     "name": "stdout",
     "output_type": "stream",
     "text": [
      " _findfont_cached1346|10: findfont: score(<Font 'Source Code Pro' (SourceCodePro-BlackIt.ttf) italic normal 900 normal>) = 11.525 [font_manager.py04/22:10:06]\n"
     ]
    },
    {
     "name": "stderr",
     "output_type": "stream",
     "text": [
      " _findfont_cached1346|DEBUG: findfont: score(<Font 'Source Code Pro' (SourceCodePro-BlackIt.ttf) italic normal 900 normal>) = 11.525 [font_manager.py04/22:10:06]\n"
     ]
    },
    {
     "name": "stdout",
     "output_type": "stream",
     "text": [
      " _findfont_cached1346|10: findfont: score(<Font 'Noto Sans Armenian' (NotoSansArmenian-Bold.ttf) normal normal 700 normal>) = 10.335 [font_manager.py04/22:10:06]\n"
     ]
    },
    {
     "name": "stderr",
     "output_type": "stream",
     "text": [
      " _findfont_cached1346|DEBUG: findfont: score(<Font 'Noto Sans Armenian' (NotoSansArmenian-Bold.ttf) normal normal 700 normal>) = 10.335 [font_manager.py04/22:10:06]\n"
     ]
    },
    {
     "name": "stdout",
     "output_type": "stream",
     "text": [
      " _findfont_cached1346|10: findfont: score(<Font 'Calibri' (calibrili.ttf) italic normal 300 normal>) = 11.145 [font_manager.py04/22:10:06]\n"
     ]
    },
    {
     "name": "stderr",
     "output_type": "stream",
     "text": [
      " _findfont_cached1346|DEBUG: findfont: score(<Font 'Calibri' (calibrili.ttf) italic normal 300 normal>) = 11.145 [font_manager.py04/22:10:06]\n"
     ]
    },
    {
     "name": "stdout",
     "output_type": "stream",
     "text": [
      " _findfont_cached1346|10: findfont: score(<Font 'Source Code Pro' (SourceCodePro-It.ttf) italic normal 400 normal>) = 11.05 [font_manager.py04/22:10:06]\n"
     ]
    },
    {
     "name": "stderr",
     "output_type": "stream",
     "text": [
      " _findfont_cached1346|DEBUG: findfont: score(<Font 'Source Code Pro' (SourceCodePro-It.ttf) italic normal 400 normal>) = 11.05 [font_manager.py04/22:10:06]\n"
     ]
    },
    {
     "name": "stdout",
     "output_type": "stream",
     "text": [
      " _findfont_cached1346|10: findfont: score(<Font 'Rockwell Condensed' (ROCC____.TTF) normal normal 400 condensed>) = 10.25 [font_manager.py04/22:10:06]\n"
     ]
    },
    {
     "name": "stderr",
     "output_type": "stream",
     "text": [
      " _findfont_cached1346|DEBUG: findfont: score(<Font 'Rockwell Condensed' (ROCC____.TTF) normal normal 400 condensed>) = 10.25 [font_manager.py04/22:10:06]\n"
     ]
    },
    {
     "name": "stdout",
     "output_type": "stream",
     "text": [
      " _findfont_cached1346|10: findfont: score(<Font 'Gadugi' (gadugi.ttf) normal normal 400 normal>) = 10.05 [font_manager.py04/22:10:06]\n"
     ]
    },
    {
     "name": "stderr",
     "output_type": "stream",
     "text": [
      " _findfont_cached1346|DEBUG: findfont: score(<Font 'Gadugi' (gadugi.ttf) normal normal 400 normal>) = 10.05 [font_manager.py04/22:10:06]\n"
     ]
    },
    {
     "name": "stdout",
     "output_type": "stream",
     "text": [
      " _findfont_cached1346|10: findfont: score(<Font 'Gentium Book Basic' (GenBkBasBI.ttf) italic normal 700 normal>) = 11.335 [font_manager.py04/22:10:06]\n"
     ]
    },
    {
     "name": "stderr",
     "output_type": "stream",
     "text": [
      " _findfont_cached1346|DEBUG: findfont: score(<Font 'Gentium Book Basic' (GenBkBasBI.ttf) italic normal 700 normal>) = 11.335 [font_manager.py04/22:10:06]\n"
     ]
    },
    {
     "name": "stdout",
     "output_type": "stream",
     "text": [
      " _findfont_cached1346|10: findfont: score(<Font 'GLYPHICONS Halflings' (glyphicons-halflings-regular.ttf) normal normal 400 normal>) = 10.05 [font_manager.py04/22:10:06]\n"
     ]
    },
    {
     "name": "stderr",
     "output_type": "stream",
     "text": [
      " _findfont_cached1346|DEBUG: findfont: score(<Font 'GLYPHICONS Halflings' (glyphicons-halflings-regular.ttf) normal normal 400 normal>) = 10.05 [font_manager.py04/22:10:06]\n"
     ]
    },
    {
     "name": "stdout",
     "output_type": "stream",
     "text": [
      " _findfont_cached1346|10: findfont: score(<Font 'Bodoni MT' (BOD_B.TTF) normal normal 700 normal>) = 10.335 [font_manager.py04/22:10:06]\n"
     ]
    },
    {
     "name": "stderr",
     "output_type": "stream",
     "text": [
      " _findfont_cached1346|DEBUG: findfont: score(<Font 'Bodoni MT' (BOD_B.TTF) normal normal 700 normal>) = 10.335 [font_manager.py04/22:10:06]\n"
     ]
    },
    {
     "name": "stdout",
     "output_type": "stream",
     "text": [
      " _findfont_cached1346|10: findfont: score(<Font 'DejaVu Serif' (DejaVuSerifCondensed.ttf) normal normal 400 condensed>) = 10.25 [font_manager.py04/22:10:06]\n"
     ]
    },
    {
     "name": "stderr",
     "output_type": "stream",
     "text": [
      " _findfont_cached1346|DEBUG: findfont: score(<Font 'DejaVu Serif' (DejaVuSerifCondensed.ttf) normal normal 400 condensed>) = 10.25 [font_manager.py04/22:10:06]\n"
     ]
    },
    {
     "name": "stdout",
     "output_type": "stream",
     "text": [
      " _findfont_cached1346|10: findfont: score(<Font 'Palatino Linotype' (palai.ttf) italic normal 400 normal>) = 11.05 [font_manager.py04/22:10:06]\n"
     ]
    },
    {
     "name": "stderr",
     "output_type": "stream",
     "text": [
      " _findfont_cached1346|DEBUG: findfont: score(<Font 'Palatino Linotype' (palai.ttf) italic normal 400 normal>) = 11.05 [font_manager.py04/22:10:06]\n"
     ]
    },
    {
     "name": "stdout",
     "output_type": "stream",
     "text": [
      " _findfont_cached1346|10: findfont: score(<Font 'Colonna MT' (COLONNA.TTF) normal normal 400 normal>) = 10.05 [font_manager.py04/22:10:06]\n"
     ]
    },
    {
     "name": "stderr",
     "output_type": "stream",
     "text": [
      " _findfont_cached1346|DEBUG: findfont: score(<Font 'Colonna MT' (COLONNA.TTF) normal normal 400 normal>) = 10.05 [font_manager.py04/22:10:06]\n"
     ]
    },
    {
     "name": "stdout",
     "output_type": "stream",
     "text": [
      " _findfont_cached1346|10: findfont: score(<Font 'Corbel' (corbelz.ttf) italic normal 700 normal>) = 11.335 [font_manager.py04/22:10:06]\n"
     ]
    },
    {
     "name": "stderr",
     "output_type": "stream",
     "text": [
      " _findfont_cached1346|DEBUG: findfont: score(<Font 'Corbel' (corbelz.ttf) italic normal 700 normal>) = 11.335 [font_manager.py04/22:10:06]\n"
     ]
    },
    {
     "name": "stdout",
     "output_type": "stream",
     "text": [
      " _findfont_cached1346|10: findfont: score(<Font 'DejaVu Sans' (DejaVuSans-Bold.ttf) normal normal 700 normal>) = 0.33499999999999996 [font_manager.py04/22:10:06]\n"
     ]
    },
    {
     "name": "stderr",
     "output_type": "stream",
     "text": [
      " _findfont_cached1346|DEBUG: findfont: score(<Font 'DejaVu Sans' (DejaVuSans-Bold.ttf) normal normal 700 normal>) = 0.33499999999999996 [font_manager.py04/22:10:06]\n"
     ]
    },
    {
     "name": "stdout",
     "output_type": "stream",
     "text": [
      " _findfont_cached1346|10: findfont: score(<Font 'Bell MT' (BELLI.TTF) italic normal 400 normal>) = 11.05 [font_manager.py04/22:10:06]\n"
     ]
    },
    {
     "name": "stderr",
     "output_type": "stream",
     "text": [
      " _findfont_cached1346|DEBUG: findfont: score(<Font 'Bell MT' (BELLI.TTF) italic normal 400 normal>) = 11.05 [font_manager.py04/22:10:06]\n"
     ]
    },
    {
     "name": "stdout",
     "output_type": "stream",
     "text": [
      " _findfont_cached1346|10: findfont: score(<Font 'Amiri' (Amiri-Slanted.ttf) italic normal 400 normal>) = 11.05 [font_manager.py04/22:10:06]\n"
     ]
    },
    {
     "name": "stderr",
     "output_type": "stream",
     "text": [
      " _findfont_cached1346|DEBUG: findfont: score(<Font 'Amiri' (Amiri-Slanted.ttf) italic normal 400 normal>) = 11.05 [font_manager.py04/22:10:06]\n"
     ]
    },
    {
     "name": "stdout",
     "output_type": "stream",
     "text": [
      " _findfont_cached1346|10: findfont: score(<Font 'FangSong' (simfang.ttf) normal normal 400 normal>) = 10.05 [font_manager.py04/22:10:06]\n"
     ]
    },
    {
     "name": "stderr",
     "output_type": "stream",
     "text": [
      " _findfont_cached1346|DEBUG: findfont: score(<Font 'FangSong' (simfang.ttf) normal normal 400 normal>) = 10.05 [font_manager.py04/22:10:06]\n"
     ]
    },
    {
     "name": "stdout",
     "output_type": "stream",
     "text": [
      " _findfont_cached1346|10: findfont: score(<Font 'Bodoni MT' (BOD_R.TTF) normal normal 400 normal>) = 10.05 [font_manager.py04/22:10:06]\n"
     ]
    },
    {
     "name": "stderr",
     "output_type": "stream",
     "text": [
      " _findfont_cached1346|DEBUG: findfont: score(<Font 'Bodoni MT' (BOD_R.TTF) normal normal 400 normal>) = 10.05 [font_manager.py04/22:10:06]\n"
     ]
    },
    {
     "name": "stdout",
     "output_type": "stream",
     "text": [
      " _findfont_cached1346|10: findfont: score(<Font 'Source Code Pro' (SourceCodePro-Semibold.ttf) normal normal 600 normal>) = 10.24 [font_manager.py04/22:10:06]\n"
     ]
    },
    {
     "name": "stderr",
     "output_type": "stream",
     "text": [
      " _findfont_cached1346|DEBUG: findfont: score(<Font 'Source Code Pro' (SourceCodePro-Semibold.ttf) normal normal 600 normal>) = 10.24 [font_manager.py04/22:10:06]\n"
     ]
    },
    {
     "name": "stdout",
     "output_type": "stream",
     "text": [
      " _findfont_cached1346|10: findfont: score(<Font 'Leelawadee UI' (LeelUIsl.ttf) normal normal 350 normal>) = 10.0975 [font_manager.py04/22:10:06]\n"
     ]
    },
    {
     "name": "stderr",
     "output_type": "stream",
     "text": [
      " _findfont_cached1346|DEBUG: findfont: score(<Font 'Leelawadee UI' (LeelUIsl.ttf) normal normal 350 normal>) = 10.0975 [font_manager.py04/22:10:06]\n"
     ]
    },
    {
     "name": "stdout",
     "output_type": "stream",
     "text": [
      " _findfont_cached1346|10: findfont: score(<Font 'Lucida Sans Typewriter' (LTYPE.TTF) normal normal 400 normal>) = 10.05 [font_manager.py04/22:10:06]\n"
     ]
    },
    {
     "name": "stderr",
     "output_type": "stream",
     "text": [
      " _findfont_cached1346|DEBUG: findfont: score(<Font 'Lucida Sans Typewriter' (LTYPE.TTF) normal normal 400 normal>) = 10.05 [font_manager.py04/22:10:06]\n"
     ]
    },
    {
     "name": "stdout",
     "output_type": "stream",
     "text": [
      " _findfont_cached1346|10: findfont: score(<Font 'Verdana' (verdanab.ttf) normal normal 700 normal>) = 3.9713636363636367 [font_manager.py04/22:10:06]\n"
     ]
    },
    {
     "name": "stderr",
     "output_type": "stream",
     "text": [
      " _findfont_cached1346|DEBUG: findfont: score(<Font 'Verdana' (verdanab.ttf) normal normal 700 normal>) = 3.9713636363636367 [font_manager.py04/22:10:06]\n"
     ]
    },
    {
     "name": "stdout",
     "output_type": "stream",
     "text": [
      " _findfont_cached1346|10: findfont: score(<Font 'Franklin Gothic Medium' (framd.ttf) normal normal 400 normal>) = 10.05 [font_manager.py04/22:10:06]\n"
     ]
    },
    {
     "name": "stderr",
     "output_type": "stream",
     "text": [
      " _findfont_cached1346|DEBUG: findfont: score(<Font 'Franklin Gothic Medium' (framd.ttf) normal normal 400 normal>) = 10.05 [font_manager.py04/22:10:06]\n"
     ]
    },
    {
     "name": "stdout",
     "output_type": "stream",
     "text": [
      " _findfont_cached1346|10: findfont: score(<Font 'Century Schoolbook' (CENSCBK.TTF) normal normal 400 normal>) = 10.05 [font_manager.py04/22:10:06]\n"
     ]
    },
    {
     "name": "stderr",
     "output_type": "stream",
     "text": [
      " _findfont_cached1346|DEBUG: findfont: score(<Font 'Century Schoolbook' (CENSCBK.TTF) normal normal 400 normal>) = 10.05 [font_manager.py04/22:10:06]\n"
     ]
    },
    {
     "name": "stdout",
     "output_type": "stream",
     "text": [
      " _findfont_cached1346|10: findfont: score(<Font 'Rockwell Extra Bold' (ROCKEB.TTF) normal normal 800 normal>) = 10.43 [font_manager.py04/22:10:06]\n"
     ]
    },
    {
     "name": "stderr",
     "output_type": "stream",
     "text": [
      " _findfont_cached1346|DEBUG: findfont: score(<Font 'Rockwell Extra Bold' (ROCKEB.TTF) normal normal 800 normal>) = 10.43 [font_manager.py04/22:10:06]\n"
     ]
    },
    {
     "name": "stdout",
     "output_type": "stream",
     "text": [
      " _findfont_cached1346|10: findfont: score(<Font 'Harlow Solid Italic' (HARLOWSI.TTF) italic normal 400 normal>) = 11.05 [font_manager.py04/22:10:06]\n"
     ]
    },
    {
     "name": "stderr",
     "output_type": "stream",
     "text": [
      " _findfont_cached1346|DEBUG: findfont: score(<Font 'Harlow Solid Italic' (HARLOWSI.TTF) italic normal 400 normal>) = 11.05 [font_manager.py04/22:10:06]\n"
     ]
    },
    {
     "name": "stdout",
     "output_type": "stream",
     "text": [
      " _findfont_cached1346|10: findfont: score(<Font 'Palatino Linotype' (palabi.ttf) italic normal 700 normal>) = 11.335 [font_manager.py04/22:10:06]\n"
     ]
    },
    {
     "name": "stderr",
     "output_type": "stream",
     "text": [
      " _findfont_cached1346|DEBUG: findfont: score(<Font 'Palatino Linotype' (palabi.ttf) italic normal 700 normal>) = 11.335 [font_manager.py04/22:10:06]\n"
     ]
    },
    {
     "name": "stdout",
     "output_type": "stream",
     "text": [
      " _findfont_cached1346|10: findfont: score(<Font 'Source Sans Pro' (SourceSansPro-Semibold.ttf) normal normal 600 normal>) = 10.24 [font_manager.py04/22:10:06]\n"
     ]
    },
    {
     "name": "stderr",
     "output_type": "stream",
     "text": [
      " _findfont_cached1346|DEBUG: findfont: score(<Font 'Source Sans Pro' (SourceSansPro-Semibold.ttf) normal normal 600 normal>) = 10.24 [font_manager.py04/22:10:06]\n"
     ]
    },
    {
     "name": "stdout",
     "output_type": "stream",
     "text": [
      " _findfont_cached1346|10: findfont: score(<Font 'Viner Hand ITC' (VINERITC.TTF) normal normal 400 normal>) = 10.05 [font_manager.py04/22:10:06]\n"
     ]
    },
    {
     "name": "stderr",
     "output_type": "stream",
     "text": [
      " _findfont_cached1346|DEBUG: findfont: score(<Font 'Viner Hand ITC' (VINERITC.TTF) normal normal 400 normal>) = 10.05 [font_manager.py04/22:10:06]\n"
     ]
    },
    {
     "name": "stdout",
     "output_type": "stream",
     "text": [
      " _findfont_cached1346|10: findfont: score(<Font 'Yu Gothic' (YuGothR.ttc) normal normal 400 normal>) = 10.05 [font_manager.py04/22:10:06]\n"
     ]
    },
    {
     "name": "stderr",
     "output_type": "stream",
     "text": [
      " _findfont_cached1346|DEBUG: findfont: score(<Font 'Yu Gothic' (YuGothR.ttc) normal normal 400 normal>) = 10.05 [font_manager.py04/22:10:06]\n"
     ]
    },
    {
     "name": "stdout",
     "output_type": "stream",
     "text": [
      " _findfont_cached1346|10: findfont: score(<Font 'Goudy Old Style' (GOUDOSB.TTF) normal normal 700 normal>) = 10.335 [font_manager.py04/22:10:06]\n"
     ]
    },
    {
     "name": "stderr",
     "output_type": "stream",
     "text": [
      " _findfont_cached1346|DEBUG: findfont: score(<Font 'Goudy Old Style' (GOUDOSB.TTF) normal normal 700 normal>) = 10.335 [font_manager.py04/22:10:06]\n"
     ]
    },
    {
     "name": "stdout",
     "output_type": "stream",
     "text": [
      " _findfont_cached1346|10: findfont: score(<Font 'QuickType II Condensed' (QT2C_P.TTF) normal normal 400 condensed>) = 10.25 [font_manager.py04/22:10:06]\n"
     ]
    },
    {
     "name": "stderr",
     "output_type": "stream",
     "text": [
      " _findfont_cached1346|DEBUG: findfont: score(<Font 'QuickType II Condensed' (QT2C_P.TTF) normal normal 400 condensed>) = 10.25 [font_manager.py04/22:10:06]\n"
     ]
    },
    {
     "name": "stdout",
     "output_type": "stream",
     "text": [
      " _findfont_cached1346|10: findfont: score(<Font 'High Tower Text' (HTOWERTI.TTF) italic normal 400 normal>) = 11.05 [font_manager.py04/22:10:06]\n"
     ]
    },
    {
     "name": "stderr",
     "output_type": "stream",
     "text": [
      " _findfont_cached1346|DEBUG: findfont: score(<Font 'High Tower Text' (HTOWERTI.TTF) italic normal 400 normal>) = 11.05 [font_manager.py04/22:10:06]\n"
     ]
    },
    {
     "name": "stdout",
     "output_type": "stream",
     "text": [
      " _findfont_cached1346|10: findfont: score(<Font 'Bodoni MT' (BOD_CI.TTF) italic normal 400 condensed>) = 11.25 [font_manager.py04/22:10:06]\n"
     ]
    },
    {
     "name": "stderr",
     "output_type": "stream",
     "text": [
      " _findfont_cached1346|DEBUG: findfont: score(<Font 'Bodoni MT' (BOD_CI.TTF) italic normal 400 condensed>) = 11.25 [font_manager.py04/22:10:06]\n"
     ]
    },
    {
     "name": "stdout",
     "output_type": "stream",
     "text": [
      " _findfont_cached1346|10: findfont: score(<Font 'Snap ITC' (SNAP____.TTF) normal normal 400 normal>) = 10.05 [font_manager.py04/22:10:06]\n"
     ]
    },
    {
     "name": "stderr",
     "output_type": "stream",
     "text": [
      " _findfont_cached1346|DEBUG: findfont: score(<Font 'Snap ITC' (SNAP____.TTF) normal normal 400 normal>) = 10.05 [font_manager.py04/22:10:06]\n"
     ]
    },
    {
     "name": "stdout",
     "output_type": "stream",
     "text": [
      " _findfont_cached1346|10: findfont: score(<Font 'Consolas' (consolaz.ttf) italic normal 700 normal>) = 11.335 [font_manager.py04/22:10:06]\n"
     ]
    },
    {
     "name": "stderr",
     "output_type": "stream",
     "text": [
      " _findfont_cached1346|DEBUG: findfont: score(<Font 'Consolas' (consolaz.ttf) italic normal 700 normal>) = 11.335 [font_manager.py04/22:10:06]\n"
     ]
    },
    {
     "name": "stdout",
     "output_type": "stream",
     "text": [
      " _findfont_cached1346|10: findfont: score(<Font 'Nachlieli CLM' (NachlieliCLM-LightOblique.otf) oblique normal 300 normal>) = 11.145 [font_manager.py04/22:10:06]\n"
     ]
    },
    {
     "name": "stderr",
     "output_type": "stream",
     "text": [
      " _findfont_cached1346|DEBUG: findfont: score(<Font 'Nachlieli CLM' (NachlieliCLM-LightOblique.otf) oblique normal 300 normal>) = 11.145 [font_manager.py04/22:10:06]\n"
     ]
    },
    {
     "name": "stdout",
     "output_type": "stream",
     "text": [
      " _findfont_cached1346|10: findfont: score(<Font 'Javanese Text' (javatext.ttf) normal normal 400 normal>) = 10.05 [font_manager.py04/22:10:06]\n"
     ]
    },
    {
     "name": "stderr",
     "output_type": "stream",
     "text": [
      " _findfont_cached1346|DEBUG: findfont: score(<Font 'Javanese Text' (javatext.ttf) normal normal 400 normal>) = 10.05 [font_manager.py04/22:10:06]\n"
     ]
    },
    {
     "name": "stdout",
     "output_type": "stream",
     "text": [
      " _findfont_cached1346|10: findfont: score(<Font 'Franklin Gothic Heavy' (FRAHV.TTF) normal normal 400 normal>) = 10.05 [font_manager.py04/22:10:06]\n"
     ]
    },
    {
     "name": "stderr",
     "output_type": "stream",
     "text": [
      " _findfont_cached1346|DEBUG: findfont: score(<Font 'Franklin Gothic Heavy' (FRAHV.TTF) normal normal 400 normal>) = 10.05 [font_manager.py04/22:10:06]\n"
     ]
    },
    {
     "name": "stdout",
     "output_type": "stream",
     "text": [
      " _findfont_cached1346|10: findfont: score(<Font 'Segoe UI' (segoeuil.ttf) normal normal 300 normal>) = 10.145 [font_manager.py04/22:10:06]\n"
     ]
    },
    {
     "name": "stderr",
     "output_type": "stream",
     "text": [
      " _findfont_cached1346|DEBUG: findfont: score(<Font 'Segoe UI' (segoeuil.ttf) normal normal 300 normal>) = 10.145 [font_manager.py04/22:10:06]\n"
     ]
    },
    {
     "name": "stdout",
     "output_type": "stream",
     "text": [
      " _findfont_cached1346|10: findfont: score(<Font 'Vladimir Script' (VLADIMIR.TTF) normal normal 400 normal>) = 10.05 [font_manager.py04/22:10:06]\n"
     ]
    },
    {
     "name": "stderr",
     "output_type": "stream",
     "text": [
      " _findfont_cached1346|DEBUG: findfont: score(<Font 'Vladimir Script' (VLADIMIR.TTF) normal normal 400 normal>) = 10.05 [font_manager.py04/22:10:06]\n"
     ]
    },
    {
     "name": "stdout",
     "output_type": "stream",
     "text": [
      " _findfont_cached1346|10: findfont: score(<Font 'DejaVu Sans' (DejaVuSans.ttf) normal normal 400 normal>) = 0.05 [font_manager.py04/22:10:06]\n"
     ]
    },
    {
     "name": "stderr",
     "output_type": "stream",
     "text": [
      " _findfont_cached1346|DEBUG: findfont: score(<Font 'DejaVu Sans' (DejaVuSans.ttf) normal normal 400 normal>) = 0.05 [font_manager.py04/22:10:06]\n"
     ]
    },
    {
     "name": "stdout",
     "output_type": "stream",
     "text": [
      " _findfont_cached1346|10: findfont: score(<Font 'Bodoni MT' (BOD_BLAI.TTF) italic normal 900 normal>) = 11.525 [font_manager.py04/22:10:06]\n"
     ]
    },
    {
     "name": "stderr",
     "output_type": "stream",
     "text": [
      " _findfont_cached1346|DEBUG: findfont: score(<Font 'Bodoni MT' (BOD_BLAI.TTF) italic normal 900 normal>) = 11.525 [font_manager.py04/22:10:06]\n"
     ]
    },
    {
     "name": "stdout",
     "output_type": "stream",
     "text": [
      " _findfont_cached1346|10: findfont: score(<Font 'Myanmar Text' (mmrtext.ttf) normal normal 400 normal>) = 10.05 [font_manager.py04/22:10:06]\n"
     ]
    },
    {
     "name": "stderr",
     "output_type": "stream",
     "text": [
      " _findfont_cached1346|DEBUG: findfont: score(<Font 'Myanmar Text' (mmrtext.ttf) normal normal 400 normal>) = 10.05 [font_manager.py04/22:10:06]\n"
     ]
    },
    {
     "name": "stdout",
     "output_type": "stream",
     "text": [
      " _findfont_cached1346|10: findfont: score(<Font 'Noto Sans' (NotoSans-LightItalic.ttf) italic normal 300 normal>) = 11.145 [font_manager.py04/22:10:06]\n"
     ]
    },
    {
     "name": "stderr",
     "output_type": "stream",
     "text": [
      " _findfont_cached1346|DEBUG: findfont: score(<Font 'Noto Sans' (NotoSans-LightItalic.ttf) italic normal 300 normal>) = 11.145 [font_manager.py04/22:10:06]\n"
     ]
    },
    {
     "name": "stdout",
     "output_type": "stream",
     "text": [
      " _findfont_cached1346|10: findfont: score(<Font 'Noto Sans' (NotoSans-CondensedBoldItalic.ttf) italic normal 700 condensed>) = 11.535 [font_manager.py04/22:10:06]\n"
     ]
    },
    {
     "name": "stderr",
     "output_type": "stream",
     "text": [
      " _findfont_cached1346|DEBUG: findfont: score(<Font 'Noto Sans' (NotoSans-CondensedBoldItalic.ttf) italic normal 700 condensed>) = 11.535 [font_manager.py04/22:10:06]\n"
     ]
    },
    {
     "name": "stdout",
     "output_type": "stream",
     "text": [
      " _findfont_cached1346|10: findfont: score(<Font 'Wingdings 3' (WINGDNG3.TTF) normal normal 400 normal>) = 10.05 [font_manager.py04/22:10:06]\n"
     ]
    },
    {
     "name": "stderr",
     "output_type": "stream",
     "text": [
      " _findfont_cached1346|DEBUG: findfont: score(<Font 'Wingdings 3' (WINGDNG3.TTF) normal normal 400 normal>) = 10.05 [font_manager.py04/22:10:06]\n"
     ]
    },
    {
     "name": "stdout",
     "output_type": "stream",
     "text": [
      " _findfont_cached1346|10: findfont: score(<Font 'Source Serif Pro' (SourceSerifPro-Black.ttf) normal normal 900 normal>) = 10.525 [font_manager.py04/22:10:06]\n"
     ]
    },
    {
     "name": "stderr",
     "output_type": "stream",
     "text": [
      " _findfont_cached1346|DEBUG: findfont: score(<Font 'Source Serif Pro' (SourceSerifPro-Black.ttf) normal normal 900 normal>) = 10.525 [font_manager.py04/22:10:06]\n"
     ]
    },
    {
     "name": "stdout",
     "output_type": "stream",
     "text": [
      " _findfont_cached1346|10: findfont: score(<Font 'Constantia' (constanz.ttf) italic normal 700 normal>) = 11.335 [font_manager.py04/22:10:06]\n"
     ]
    },
    {
     "name": "stderr",
     "output_type": "stream",
     "text": [
      " _findfont_cached1346|DEBUG: findfont: score(<Font 'Constantia' (constanz.ttf) italic normal 700 normal>) = 11.335 [font_manager.py04/22:10:06]\n"
     ]
    },
    {
     "name": "stdout",
     "output_type": "stream",
     "text": [
      " _findfont_cached1346|10: findfont: score(<Font 'Gloucester MT Extra Condensed' (GLECB.TTF) normal normal 400 condensed>) = 10.25 [font_manager.py04/22:10:06]\n"
     ]
    },
    {
     "name": "stderr",
     "output_type": "stream",
     "text": [
      " _findfont_cached1346|DEBUG: findfont: score(<Font 'Gloucester MT Extra Condensed' (GLECB.TTF) normal normal 400 condensed>) = 10.25 [font_manager.py04/22:10:06]\n"
     ]
    },
    {
     "name": "stdout",
     "output_type": "stream",
     "text": [
      " _findfont_cached1346|10: findfont: score(<Font 'Noto Sans Arabic UI' (NotoSansArabicUI-Regular.ttf) normal normal 400 normal>) = 10.05 [font_manager.py04/22:10:06]\n"
     ]
    },
    {
     "name": "stderr",
     "output_type": "stream",
     "text": [
      " _findfont_cached1346|DEBUG: findfont: score(<Font 'Noto Sans Arabic UI' (NotoSansArabicUI-Regular.ttf) normal normal 400 normal>) = 10.05 [font_manager.py04/22:10:06]\n"
     ]
    },
    {
     "name": "stdout",
     "output_type": "stream",
     "text": [
      " _findfont_cached1346|10: findfont: score(<Font 'Segoe UI' (segoeui.ttf) normal normal 400 normal>) = 10.05 [font_manager.py04/22:10:06]\n"
     ]
    },
    {
     "name": "stderr",
     "output_type": "stream",
     "text": [
      " _findfont_cached1346|DEBUG: findfont: score(<Font 'Segoe UI' (segoeui.ttf) normal normal 400 normal>) = 10.05 [font_manager.py04/22:10:06]\n"
     ]
    },
    {
     "name": "stdout",
     "output_type": "stream",
     "text": [
      " _findfont_cached1346|10: findfont: score(<Font 'Source Code Pro' (SourceCodePro-SemiboldIt.ttf) italic normal 600 normal>) = 11.24 [font_manager.py04/22:10:06]\n"
     ]
    },
    {
     "name": "stderr",
     "output_type": "stream",
     "text": [
      " _findfont_cached1346|DEBUG: findfont: score(<Font 'Source Code Pro' (SourceCodePro-SemiboldIt.ttf) italic normal 600 normal>) = 11.24 [font_manager.py04/22:10:06]\n"
     ]
    },
    {
     "name": "stdout",
     "output_type": "stream",
     "text": [
      " _findfont_cached1346|10: findfont: score(<Font 'Gill Sans MT' (GILI____.TTF) italic normal 400 normal>) = 11.05 [font_manager.py04/22:10:06]\n"
     ]
    },
    {
     "name": "stderr",
     "output_type": "stream",
     "text": [
      " _findfont_cached1346|DEBUG: findfont: score(<Font 'Gill Sans MT' (GILI____.TTF) italic normal 400 normal>) = 11.05 [font_manager.py04/22:10:06]\n"
     ]
    },
    {
     "name": "stdout",
     "output_type": "stream",
     "text": [
      " _findfont_cached1346|10: findfont: score(<Font 'Liberation Mono' (LiberationMono-Bold.ttf) normal normal 700 normal>) = 10.335 [font_manager.py04/22:10:06]\n"
     ]
    },
    {
     "name": "stderr",
     "output_type": "stream",
     "text": [
      " _findfont_cached1346|DEBUG: findfont: score(<Font 'Liberation Mono' (LiberationMono-Bold.ttf) normal normal 700 normal>) = 10.335 [font_manager.py04/22:10:06]\n"
     ]
    },
    {
     "name": "stdout",
     "output_type": "stream",
     "text": [
      " _findfont_cached1346|10: findfont: score(<Font 'Arial' (arial.ttf) normal normal 400 normal>) = 6.413636363636363 [font_manager.py04/22:10:06]\n"
     ]
    },
    {
     "name": "stderr",
     "output_type": "stream",
     "text": [
      " _findfont_cached1346|DEBUG: findfont: score(<Font 'Arial' (arial.ttf) normal normal 400 normal>) = 6.413636363636363 [font_manager.py04/22:10:06]\n"
     ]
    },
    {
     "name": "stdout",
     "output_type": "stream",
     "text": [
      " _findfont_cached1346|10: findfont: score(<Font 'Source Serif Pro' (SourceSerifPro-Bold.ttf) normal normal 700 normal>) = 10.335 [font_manager.py04/22:10:06]\n"
     ]
    },
    {
     "name": "stderr",
     "output_type": "stream",
     "text": [
      " _findfont_cached1346|DEBUG: findfont: score(<Font 'Source Serif Pro' (SourceSerifPro-Bold.ttf) normal normal 700 normal>) = 10.335 [font_manager.py04/22:10:06]\n"
     ]
    },
    {
     "name": "stdout",
     "output_type": "stream",
     "text": [
      " _findfont_cached1346|10: findfont: score(<Font 'Agency FB' (AGENCYR.TTF) normal normal 400 normal>) = 10.05 [font_manager.py04/22:10:06]\n"
     ]
    },
    {
     "name": "stderr",
     "output_type": "stream",
     "text": [
      " _findfont_cached1346|DEBUG: findfont: score(<Font 'Agency FB' (AGENCYR.TTF) normal normal 400 normal>) = 10.05 [font_manager.py04/22:10:06]\n"
     ]
    },
    {
     "name": "stdout",
     "output_type": "stream",
     "text": [
      " _findfont_cached1346|10: findfont: score(<Font 'cht_boot' (cht_boot.ttf) normal normal 400 normal>) = 10.05 [font_manager.py04/22:10:06]\n"
     ]
    },
    {
     "name": "stderr",
     "output_type": "stream",
     "text": [
      " _findfont_cached1346|DEBUG: findfont: score(<Font 'cht_boot' (cht_boot.ttf) normal normal 400 normal>) = 10.05 [font_manager.py04/22:10:06]\n"
     ]
    },
    {
     "name": "stdout",
     "output_type": "stream",
     "text": [
      " _findfont_cached1346|10: findfont: score(<Font 'Webdings' (webdings.ttf) normal normal 400 normal>) = 10.05 [font_manager.py04/22:10:06]\n"
     ]
    },
    {
     "name": "stderr",
     "output_type": "stream",
     "text": [
      " _findfont_cached1346|DEBUG: findfont: score(<Font 'Webdings' (webdings.ttf) normal normal 400 normal>) = 10.05 [font_manager.py04/22:10:06]\n"
     ]
    },
    {
     "name": "stdout",
     "output_type": "stream",
     "text": [
      " _findfont_cached1346|10: findfont: score(<Font 'Century' (CENTURY.TTF) normal normal 400 normal>) = 10.05 [font_manager.py04/22:10:06]\n"
     ]
    },
    {
     "name": "stderr",
     "output_type": "stream",
     "text": [
      " _findfont_cached1346|DEBUG: findfont: score(<Font 'Century' (CENTURY.TTF) normal normal 400 normal>) = 10.05 [font_manager.py04/22:10:06]\n"
     ]
    },
    {
     "name": "stdout",
     "output_type": "stream",
     "text": [
      " _findfont_cached1346|10: findfont: score(<Font 'Bodoni MT' (BOD_CR.TTF) normal normal 400 condensed>) = 10.25 [font_manager.py04/22:10:06]\n"
     ]
    },
    {
     "name": "stderr",
     "output_type": "stream",
     "text": [
      " _findfont_cached1346|DEBUG: findfont: score(<Font 'Bodoni MT' (BOD_CR.TTF) normal normal 400 condensed>) = 10.25 [font_manager.py04/22:10:06]\n"
     ]
    },
    {
     "name": "stdout",
     "output_type": "stream",
     "text": [
      " _findfont_cached1346|10: findfont: score(<Font 'Georgia' (georgiai.ttf) italic normal 400 normal>) = 11.05 [font_manager.py04/22:10:06]\n"
     ]
    },
    {
     "name": "stderr",
     "output_type": "stream",
     "text": [
      " _findfont_cached1346|DEBUG: findfont: score(<Font 'Georgia' (georgiai.ttf) italic normal 400 normal>) = 11.05 [font_manager.py04/22:10:06]\n"
     ]
    },
    {
     "name": "stdout",
     "output_type": "stream",
     "text": [
      " _findfont_cached1346|10: findfont: score(<Font 'Liberation Sans Narrow' (LiberationSansNarrow-Bold.ttf) normal normal 700 condensed>) = 10.535 [font_manager.py04/22:10:06]\n"
     ]
    },
    {
     "name": "stderr",
     "output_type": "stream",
     "text": [
      " _findfont_cached1346|DEBUG: findfont: score(<Font 'Liberation Sans Narrow' (LiberationSansNarrow-Bold.ttf) normal normal 700 condensed>) = 10.535 [font_manager.py04/22:10:06]\n"
     ]
    },
    {
     "name": "stdout",
     "output_type": "stream",
     "text": [
      " _findfont_cached1346|10: findfont: score(<Font 'Georgia' (georgiab.ttf) normal normal 700 normal>) = 10.335 [font_manager.py04/22:10:06]\n"
     ]
    },
    {
     "name": "stderr",
     "output_type": "stream",
     "text": [
      " _findfont_cached1346|DEBUG: findfont: score(<Font 'Georgia' (georgiab.ttf) normal normal 700 normal>) = 10.335 [font_manager.py04/22:10:06]\n"
     ]
    },
    {
     "name": "stdout",
     "output_type": "stream",
     "text": [
      " _findfont_cached1346|10: findfont: score(<Font 'Noto Serif' (NotoSerif-Condensed.ttf) normal normal 400 condensed>) = 10.25 [font_manager.py04/22:10:06]\n"
     ]
    },
    {
     "name": "stderr",
     "output_type": "stream",
     "text": [
      " _findfont_cached1346|DEBUG: findfont: score(<Font 'Noto Serif' (NotoSerif-Condensed.ttf) normal normal 400 condensed>) = 10.25 [font_manager.py04/22:10:06]\n"
     ]
    },
    {
     "name": "stdout",
     "output_type": "stream",
     "text": [
      " _findfont_cached1346|10: findfont: score(<Font 'DejaVu Sans' (DejaVuSansCondensed-BoldOblique.ttf) oblique normal 700 condensed>) = 1.535 [font_manager.py04/22:10:06]\n"
     ]
    },
    {
     "name": "stderr",
     "output_type": "stream",
     "text": [
      " _findfont_cached1346|DEBUG: findfont: score(<Font 'DejaVu Sans' (DejaVuSansCondensed-BoldOblique.ttf) oblique normal 700 condensed>) = 1.535 [font_manager.py04/22:10:06]\n"
     ]
    },
    {
     "name": "stdout",
     "output_type": "stream",
     "text": [
      " _findfont_cached1346|10: findfont: score(<Font 'Rubik' (Rubik-BoldItalic.ttf) italic normal 700 normal>) = 11.335 [font_manager.py04/22:10:06]\n"
     ]
    },
    {
     "name": "stderr",
     "output_type": "stream",
     "text": [
      " _findfont_cached1346|DEBUG: findfont: score(<Font 'Rubik' (Rubik-BoldItalic.ttf) italic normal 700 normal>) = 11.335 [font_manager.py04/22:10:06]\n"
     ]
    },
    {
     "name": "stdout",
     "output_type": "stream",
     "text": [
      " _findfont_cached1346|10: findfont: score(<Font 'Bodoni MT' (BOD_PSTC.TTF) normal normal 300 normal>) = 10.145 [font_manager.py04/22:10:06]\n"
     ]
    },
    {
     "name": "stderr",
     "output_type": "stream",
     "text": [
      " _findfont_cached1346|DEBUG: findfont: score(<Font 'Bodoni MT' (BOD_PSTC.TTF) normal normal 300 normal>) = 10.145 [font_manager.py04/22:10:06]\n"
     ]
    },
    {
     "name": "stdout",
     "output_type": "stream",
     "text": [
      " _findfont_cached1346|10: findfont: score(<Font 'Bodoni MT' (BOD_B.TTF) normal normal 700 normal>) = 10.335 [font_manager.py04/22:10:06]\n"
     ]
    },
    {
     "name": "stderr",
     "output_type": "stream",
     "text": [
      " _findfont_cached1346|DEBUG: findfont: score(<Font 'Bodoni MT' (BOD_B.TTF) normal normal 700 normal>) = 10.335 [font_manager.py04/22:10:06]\n"
     ]
    },
    {
     "name": "stdout",
     "output_type": "stream",
     "text": [
      " _findfont_cached1346|10: findfont: score(<Font 'Gentium Book Basic' (GenBkBasB.ttf) normal normal 700 normal>) = 10.335 [font_manager.py04/22:10:06]\n"
     ]
    },
    {
     "name": "stderr",
     "output_type": "stream",
     "text": [
      " _findfont_cached1346|DEBUG: findfont: score(<Font 'Gentium Book Basic' (GenBkBasB.ttf) normal normal 700 normal>) = 10.335 [font_manager.py04/22:10:06]\n"
     ]
    },
    {
     "name": "stdout",
     "output_type": "stream",
     "text": [
      " _findfont_cached1346|10: findfont: score(<Font 'Liberation Mono' (LiberationMono-BoldItalic.ttf) italic normal 700 normal>) = 11.335 [font_manager.py04/22:10:06]\n"
     ]
    },
    {
     "name": "stderr",
     "output_type": "stream",
     "text": [
      " _findfont_cached1346|DEBUG: findfont: score(<Font 'Liberation Mono' (LiberationMono-BoldItalic.ttf) italic normal 700 normal>) = 11.335 [font_manager.py04/22:10:06]\n"
     ]
    },
    {
     "name": "stdout",
     "output_type": "stream",
     "text": [
      " _findfont_cached1346|10: findfont: score(<Font 'OpenSymbol' (opens___.ttf) normal normal 400 normal>) = 10.05 [font_manager.py04/22:10:06]\n"
     ]
    },
    {
     "name": "stderr",
     "output_type": "stream",
     "text": [
      " _findfont_cached1346|DEBUG: findfont: score(<Font 'OpenSymbol' (opens___.ttf) normal normal 400 normal>) = 10.05 [font_manager.py04/22:10:06]\n"
     ]
    },
    {
     "name": "stdout",
     "output_type": "stream",
     "text": [
      " _findfont_cached1346|10: findfont: score(<Font 'Source Sans Pro' (SourceSansPro-LightIt.ttf) italic normal 300 normal>) = 11.145 [font_manager.py04/22:10:06]\n"
     ]
    },
    {
     "name": "stderr",
     "output_type": "stream",
     "text": [
      " _findfont_cached1346|DEBUG: findfont: score(<Font 'Source Sans Pro' (SourceSansPro-LightIt.ttf) italic normal 300 normal>) = 11.145 [font_manager.py04/22:10:06]\n"
     ]
    },
    {
     "name": "stdout",
     "output_type": "stream",
     "text": [
      " _findfont_cached1346|10: findfont: score(<Font 'Arial Rounded MT Bold' (ARLRDBD.TTF) normal normal 400 normal>) = 10.05 [font_manager.py04/22:10:06]\n"
     ]
    },
    {
     "name": "stderr",
     "output_type": "stream",
     "text": [
      " _findfont_cached1346|DEBUG: findfont: score(<Font 'Arial Rounded MT Bold' (ARLRDBD.TTF) normal normal 400 normal>) = 10.05 [font_manager.py04/22:10:06]\n"
     ]
    },
    {
     "name": "stdout",
     "output_type": "stream",
     "text": [
      " _findfont_cached1346|10: findfont: score(<Font 'Courier New' (couri.ttf) italic normal 400 normal>) = 11.05 [font_manager.py04/22:10:06]\n"
     ]
    },
    {
     "name": "stderr",
     "output_type": "stream",
     "text": [
      " _findfont_cached1346|DEBUG: findfont: score(<Font 'Courier New' (couri.ttf) italic normal 400 normal>) = 11.05 [font_manager.py04/22:10:06]\n"
     ]
    },
    {
     "name": "stdout",
     "output_type": "stream",
     "text": [
      " _findfont_cached1346|10: findfont: score(<Font 'Microsoft New Tai Lue' (ntailub.ttf) normal normal 700 normal>) = 10.335 [font_manager.py04/22:10:06]\n"
     ]
    },
    {
     "name": "stderr",
     "output_type": "stream",
     "text": [
      " _findfont_cached1346|DEBUG: findfont: score(<Font 'Microsoft New Tai Lue' (ntailub.ttf) normal normal 700 normal>) = 10.335 [font_manager.py04/22:10:06]\n"
     ]
    },
    {
     "name": "stdout",
     "output_type": "stream",
     "text": [
      " _findfont_cached1346|10: findfont: score(<Font 'Noto Sans' (NotoSans-CondensedBold.ttf) normal normal 700 condensed>) = 10.535 [font_manager.py04/22:10:06]\n"
     ]
    },
    {
     "name": "stderr",
     "output_type": "stream",
     "text": [
      " _findfont_cached1346|DEBUG: findfont: score(<Font 'Noto Sans' (NotoSans-CondensedBold.ttf) normal normal 700 condensed>) = 10.535 [font_manager.py04/22:10:06]\n"
     ]
    },
    {
     "name": "stdout",
     "output_type": "stream",
     "text": [
      " _findfont_cached1346|10: findfont: score(<Font 'Constantia' (constani.ttf) italic normal 400 normal>) = 11.05 [font_manager.py04/22:10:06]\n"
     ]
    },
    {
     "name": "stderr",
     "output_type": "stream",
     "text": [
      " _findfont_cached1346|DEBUG: findfont: score(<Font 'Constantia' (constani.ttf) italic normal 400 normal>) = 11.05 [font_manager.py04/22:10:06]\n"
     ]
    },
    {
     "name": "stdout",
     "output_type": "stream",
     "text": [
      " _findfont_cached1346|10: findfont: score(<Font 'Noto Sans Arabic UI' (NotoSansArabicUI-Bold.ttf) normal normal 700 normal>) = 10.335 [font_manager.py04/22:10:06]\n"
     ]
    },
    {
     "name": "stderr",
     "output_type": "stream",
     "text": [
      " _findfont_cached1346|DEBUG: findfont: score(<Font 'Noto Sans Arabic UI' (NotoSansArabicUI-Bold.ttf) normal normal 700 normal>) = 10.335 [font_manager.py04/22:10:06]\n"
     ]
    },
    {
     "name": "stdout",
     "output_type": "stream",
     "text": [
      " _findfont_cached1346|10: findfont: score(<Font 'Source Sans Pro' (SourceSansPro-BlackIt.ttf) italic normal 900 normal>) = 11.525 [font_manager.py04/22:10:06]\n"
     ]
    },
    {
     "name": "stderr",
     "output_type": "stream",
     "text": [
      " _findfont_cached1346|DEBUG: findfont: score(<Font 'Source Sans Pro' (SourceSansPro-BlackIt.ttf) italic normal 900 normal>) = 11.525 [font_manager.py04/22:10:06]\n"
     ]
    },
    {
     "name": "stdout",
     "output_type": "stream",
     "text": [
      " _findfont_cached1346|10: findfont: score(<Font 'Franklin Gothic Demi Cond' (FRADMCN.TTF) normal normal 400 condensed>) = 10.25 [font_manager.py04/22:10:06]\n"
     ]
    },
    {
     "name": "stderr",
     "output_type": "stream",
     "text": [
      " _findfont_cached1346|DEBUG: findfont: score(<Font 'Franklin Gothic Demi Cond' (FRADMCN.TTF) normal normal 400 condensed>) = 10.25 [font_manager.py04/22:10:06]\n"
     ]
    },
    {
     "name": "stdout",
     "output_type": "stream",
     "text": [
      " _findfont_cached1346|10: findfont: score(<Font 'Imprint MT Shadow' (IMPRISHA.TTF) normal normal 400 normal>) = 10.05 [font_manager.py04/22:10:06]\n"
     ]
    },
    {
     "name": "stderr",
     "output_type": "stream",
     "text": [
      " _findfont_cached1346|DEBUG: findfont: score(<Font 'Imprint MT Shadow' (IMPRISHA.TTF) normal normal 400 normal>) = 10.05 [font_manager.py04/22:10:06]\n"
     ]
    },
    {
     "name": "stdout",
     "output_type": "stream",
     "text": [
      " _findfont_cached1346|10: findfont: score(<Font 'Source Code Pro' (SourceCodePro-Regular.ttf) normal normal 400 normal>) = 10.05 [font_manager.py04/22:10:06]\n"
     ]
    },
    {
     "name": "stderr",
     "output_type": "stream",
     "text": [
      " _findfont_cached1346|DEBUG: findfont: score(<Font 'Source Code Pro' (SourceCodePro-Regular.ttf) normal normal 400 normal>) = 10.05 [font_manager.py04/22:10:06]\n"
     ]
    },
    {
     "name": "stdout",
     "output_type": "stream",
     "text": [
      " _findfont_cached1346|10: findfont: score(<Font 'Reem Kufi' (ReemKufi-Regular.ttf) normal normal 400 normal>) = 10.05 [font_manager.py04/22:10:06]\n"
     ]
    },
    {
     "name": "stderr",
     "output_type": "stream",
     "text": [
      " _findfont_cached1346|DEBUG: findfont: score(<Font 'Reem Kufi' (ReemKufi-Regular.ttf) normal normal 400 normal>) = 10.05 [font_manager.py04/22:10:06]\n"
     ]
    },
    {
     "name": "stdout",
     "output_type": "stream",
     "text": [
      " _findfont_cached1346|10: findfont: score(<Font 'Berlin Sans FB' (BRLNSB.TTF) normal normal 700 normal>) = 10.335 [font_manager.py04/22:10:06]\n"
     ]
    },
    {
     "name": "stderr",
     "output_type": "stream",
     "text": [
      " _findfont_cached1346|DEBUG: findfont: score(<Font 'Berlin Sans FB' (BRLNSB.TTF) normal normal 700 normal>) = 10.335 [font_manager.py04/22:10:06]\n"
     ]
    },
    {
     "name": "stdout",
     "output_type": "stream",
     "text": [
      " _findfont_cached1346|10: findfont: score(<Font 'Noto Sans Lao' (NotoSansLao-Bold.ttf) normal normal 700 normal>) = 10.335 [font_manager.py04/22:10:06]\n"
     ]
    },
    {
     "name": "stderr",
     "output_type": "stream",
     "text": [
      " _findfont_cached1346|DEBUG: findfont: score(<Font 'Noto Sans Lao' (NotoSansLao-Bold.ttf) normal normal 700 normal>) = 10.335 [font_manager.py04/22:10:06]\n"
     ]
    },
    {
     "name": "stdout",
     "output_type": "stream",
     "text": [
      " _findfont_cached1346|10: findfont: score(<Font 'Noto Serif' (NotoSerif-Regular.ttf) normal normal 400 normal>) = 10.05 [font_manager.py04/22:10:06]\n"
     ]
    },
    {
     "name": "stderr",
     "output_type": "stream",
     "text": [
      " _findfont_cached1346|DEBUG: findfont: score(<Font 'Noto Serif' (NotoSerif-Regular.ttf) normal normal 400 normal>) = 10.05 [font_manager.py04/22:10:06]\n"
     ]
    },
    {
     "name": "stdout",
     "output_type": "stream",
     "text": [
      " _findfont_cached1346|10: findfont: score(<Font 'Noto Mono' (NotoMono-Regular.ttf) normal normal 400 normal>) = 10.05 [font_manager.py04/22:10:06]\n"
     ]
    },
    {
     "name": "stderr",
     "output_type": "stream",
     "text": [
      " _findfont_cached1346|DEBUG: findfont: score(<Font 'Noto Mono' (NotoMono-Regular.ttf) normal normal 400 normal>) = 10.05 [font_manager.py04/22:10:06]\n"
     ]
    },
    {
     "name": "stdout",
     "output_type": "stream",
     "text": [
      " _findfont_cached1346|10: findfont: score(<Font 'Miriam Mono CLM' (MiriamMonoCLM-BookOblique.ttf) oblique normal 400 normal>) = 11.05 [font_manager.py04/22:10:06]\n"
     ]
    },
    {
     "name": "stderr",
     "output_type": "stream",
     "text": [
      " _findfont_cached1346|DEBUG: findfont: score(<Font 'Miriam Mono CLM' (MiriamMonoCLM-BookOblique.ttf) oblique normal 400 normal>) = 11.05 [font_manager.py04/22:10:06]\n"
     ]
    },
    {
     "name": "stdout",
     "output_type": "stream",
     "text": [
      " _findfont_cached1346|10: findfont: score(<Font 'Bookshelf Symbol 7' (BSSYM7.TTF) normal normal 400 normal>) = 10.05 [font_manager.py04/22:10:06]\n"
     ]
    },
    {
     "name": "stderr",
     "output_type": "stream",
     "text": [
      " _findfont_cached1346|DEBUG: findfont: score(<Font 'Bookshelf Symbol 7' (BSSYM7.TTF) normal normal 400 normal>) = 10.05 [font_manager.py04/22:10:06]\n"
     ]
    },
    {
     "name": "stdout",
     "output_type": "stream",
     "text": [
      " _findfont_cached1346|10: findfont: score(<Font 'Source Serif Pro' (SourceSerifPro-LightIt.ttf) italic normal 300 normal>) = 11.145 [font_manager.py04/22:10:06]\n"
     ]
    },
    {
     "name": "stderr",
     "output_type": "stream",
     "text": [
      " _findfont_cached1346|DEBUG: findfont: score(<Font 'Source Serif Pro' (SourceSerifPro-LightIt.ttf) italic normal 300 normal>) = 11.145 [font_manager.py04/22:10:06]\n"
     ]
    },
    {
     "name": "stdout",
     "output_type": "stream",
     "text": [
      " _findfont_cached1346|10: findfont: score(<Font 'Noto Kufi Arabic' (NotoKufiArabic-Regular.ttf) normal normal 400 normal>) = 10.05 [font_manager.py04/22:10:06]\n"
     ]
    },
    {
     "name": "stderr",
     "output_type": "stream",
     "text": [
      " _findfont_cached1346|DEBUG: findfont: score(<Font 'Noto Kufi Arabic' (NotoKufiArabic-Regular.ttf) normal normal 400 normal>) = 10.05 [font_manager.py04/22:10:06]\n"
     ]
    },
    {
     "name": "stdout",
     "output_type": "stream",
     "text": [
      " _findfont_cached1346|10: findfont: score(<Font 'Cambria' (cambriai.ttf) italic normal 400 normal>) = 11.05 [font_manager.py04/22:10:06]\n"
     ]
    },
    {
     "name": "stderr",
     "output_type": "stream",
     "text": [
      " _findfont_cached1346|DEBUG: findfont: score(<Font 'Cambria' (cambriai.ttf) italic normal 400 normal>) = 11.05 [font_manager.py04/22:10:06]\n"
     ]
    },
    {
     "name": "stdout",
     "output_type": "stream",
     "text": [
      " _findfont_cached1346|10: findfont: score(<Font 'Liberation Sans Narrow' (LiberationSansNarrow-BoldItalic.ttf) italic normal 700 condensed>) = 11.535 [font_manager.py04/22:10:06]\n"
     ]
    },
    {
     "name": "stderr",
     "output_type": "stream",
     "text": [
      " _findfont_cached1346|DEBUG: findfont: score(<Font 'Liberation Sans Narrow' (LiberationSansNarrow-BoldItalic.ttf) italic normal 700 condensed>) = 11.535 [font_manager.py04/22:10:06]\n"
     ]
    },
    {
     "name": "stdout",
     "output_type": "stream",
     "text": [
      " _findfont_cached1346|10: findfont: score(<Font 'DejaVu Sans Mono' (DejaVuSansMono-Bold.ttf) normal normal 700 normal>) = 10.335 [font_manager.py04/22:10:06]\n"
     ]
    },
    {
     "name": "stderr",
     "output_type": "stream",
     "text": [
      " _findfont_cached1346|DEBUG: findfont: score(<Font 'DejaVu Sans Mono' (DejaVuSansMono-Bold.ttf) normal normal 700 normal>) = 10.335 [font_manager.py04/22:10:06]\n"
     ]
    },
    {
     "name": "stdout",
     "output_type": "stream",
     "text": [
      " _findfont_cached1346|10: findfont: score(<Font 'DengXian' (Deng.ttf) normal normal 400 normal>) = 10.05 [font_manager.py04/22:10:06]\n"
     ]
    },
    {
     "name": "stderr",
     "output_type": "stream",
     "text": [
      " _findfont_cached1346|DEBUG: findfont: score(<Font 'DengXian' (Deng.ttf) normal normal 400 normal>) = 10.05 [font_manager.py04/22:10:06]\n"
     ]
    },
    {
     "name": "stdout",
     "output_type": "stream",
     "text": [
      " _findfont_cached1346|10: findfont: score(<Font 'David CLM' (DavidCLM-BoldItalic.ttf) italic normal 700 normal>) = 11.335 [font_manager.py04/22:10:06]\n"
     ]
    },
    {
     "name": "stderr",
     "output_type": "stream",
     "text": [
      " _findfont_cached1346|DEBUG: findfont: score(<Font 'David CLM' (DavidCLM-BoldItalic.ttf) italic normal 700 normal>) = 11.335 [font_manager.py04/22:10:06]\n"
     ]
    },
    {
     "name": "stdout",
     "output_type": "stream",
     "text": [
      " _findfont_cached1346|10: findfont: score(<Font 'Microsoft New Tai Lue' (ntailu.ttf) normal normal 400 normal>) = 10.05 [font_manager.py04/22:10:06]\n"
     ]
    }
   ],
   "source": [
    "# test code\r\n",
    "\r\n",
    "from unittest import TestCase\r\n",
    "import yfinance as yf\r\n",
    "import pandas as pd\r\n",
    "#wait:from yTA_Cal import set_technical_indicators, Company\r\n",
    "#wait:from yTA_Plot import TA_chart_plotter\r\n",
    "\r\n",
    "\r\n",
    "## for a TA function \r\n",
    "## tadf=add_all_ta_features(df1, open='open', high='high', low='low', close='close', volume='volume', fillna=True) \r\n",
    "config={}\r\n",
    "yGoog=Company('GOOG')\r\n",
    "yGoog.prices=  yf.Ticker(yGoog.symbol).history(period='1y')['Close']\r\n",
    "\r\n",
    "#print('----------GooG')\r\n",
    "#print(yGoog.prices)\r\n",
    "#yGoog.prices=yDSTDA  #w yf.Ticker(yGoog.symbol).history(period='1y')['Close']\r\n",
    "\r\n",
    "\r\n",
    "yTestCo=Company('TEST_Co')\r\n",
    "###############################################################\r\n",
    "DF2=pd.read_csv(r'C:\\Users\\bt\\Documents\\GitHub\\SigmaCodingBTC\\TDAAPI\\historical_data\\a_Debug\\GOOG_TDA_raw.csv')\r\n",
    "DF2['Date']= pd.to_datetime(DF2['datetime'], unit='ms')  # datetime is timestamp /Epoch, Date is py datetime obj  \r\n",
    "#DF2.rename(columns={'close':'Close'})\r\n",
    "yTestCo.prices= pd.Series(DF2['close'].values, index=DF2['Date']) #price is PD series, with datetimeindex obj \r\n",
    "\r\n",
    "# yTestCo.name='Close'   #give PD series a name, not to any effect\r\n",
    "\r\n",
    "###############################################################\r\n",
    "\r\n",
    "\r\n",
    "#select between two different sources \r\n",
    "# from yahoo with pd ds with column \"Close\" and datetime item as index \r\n",
    "yTestCo=yGoog\r\n",
    "\r\n",
    "set_technical_indicators(config, yTestCo)\r\n",
    "\r\n",
    "#print(yTestCo.technical_indicators)\r\n",
    "#print (yGoog.technical_indicators)\r\n",
    "\r\n",
    "tacp=TechnicalIndicatorsChartPlotter() \r\n",
    "tacp.plot_macd(yTestCo)\r\n",
    "tacp.plot_rsi(yTestCo)\r\n",
    "tacp.plot_bollinger_bands(yTestCo)\r\n",
    "tacp.plot_sma(yTestCo) \r\n",
    "\r\n",
    "#print('----------- TestCo')\r\n",
    "#print(\"testco.prices type=\", type(yTestCo.prices))\r\n",
    "#print(\"testco.prices index type\", type(yTestCo.prices.index))\r\n",
    "#print(\"testco.prices index type\", yTestCo.prices.dtypes)\r\n",
    "\r\n",
    "\r\n",
    "#print('--------------')\r\n",
    "#print ('DF2 type=', type(DF2))\r\n",
    "#print(\"index type\", type(DF2.index))\r\n",
    "# print (' testo.tech ind =', DF2)\r\n",
    "\r\n",
    "\r\n",
    "#print('--------------')\r\n",
    "#print ('testco technical indicator type=', type(yTestCo.technical_indicators))\r\n",
    "#print(\"testco.tech ind index type\", type(yTestCo.technical_indicators.index))\r\n",
    "#print (' testo.tech ind =', yTestCo.technical_indicators)"
   ]
  }
 ],
 "metadata": {
  "kernelspec": {
   "display_name": "Python 3.8.5 64-bit ('base': conda)",
   "name": "python385jvsc74a57bd0fbcc98f29df8cf9b9ae119083eac20ad9d652359dc0d984cfbfec4588cc47e33"
  },
  "language_info": {
   "codemirror_mode": {
    "name": "ipython",
    "version": 3
   },
   "file_extension": ".py",
   "mimetype": "text/x-python",
   "name": "python",
   "nbconvert_exporter": "python",
   "pygments_lexer": "ipython3",
   "version": "3.8.5"
  },
  "metadata": {
   "interpreter": {
    "hash": "63fd5069d213b44bf678585dea6b12cceca9941eaf7f819626cde1f2670de90d"
   }
  },
  "orig_nbformat": 2
 },
 "nbformat": 4,
 "nbformat_minor": 2
}