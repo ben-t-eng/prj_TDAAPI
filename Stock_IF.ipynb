{
 "cells": [
  {
   "cell_type": "code",
   "execution_count": 1,
   "metadata": {},
   "outputs": [],
   "source": [
    "############MM\n",
    "## imports\n",
    "##############\n",
    "import sys\n",
    "sys.path.append ('..\\TDAAPI')\n",
    "import a_TDA_IF \n",
    "import a_utils\n",
    "import talib\n",
    "import pandas as pd\n",
    "import numpy as np\n",
    "import datetime"
   ]
  },
  {
   "cell_type": "code",
   "execution_count": 3,
   "metadata": {},
   "outputs": [],
   "source": [
    "###################################\n",
    "class Stock:\n",
    "    \n",
    "    def __init__(self, Symbol, Company=''):\n",
    "        self.CompanyNm = Company\n",
    "        self.Status= 0\n",
    "        self.Symbol= Symbol\n",
    "        self.Sector=''\n",
    "        self.Industry=''\n",
    "        self.StockBeta=1\n",
    "\n",
    "        self.SMADays=10\n",
    "        self.SMAAlert=0\n",
    "        self.SMAState=0 # above or below\n",
    "        self.SMA=0\n",
    "        self.SMADate=None  #datetime obj\n",
    "        \n",
    "        self.Broker=''\n",
    "        self.Shares=0\n",
    "        self.HistDF=None   #dataframe\n",
    "        self.HistStartDate=0 # Epoc second\n",
    "        self.Price=0\n",
    "        self.Volume=0\n",
    "        self.HistEndDate=0 # Epoc second\n",
    "        self.PriceDate=None  # datetime obj\n",
    "\n",
    "        self.Comment='' # for collecting all changes, warnings\n",
    "    \n",
    "\n",
    "    def GetHist(self):\n",
    "    # get market data\n",
    "        print(\"get symbol market data, ok\")\n",
    "\n",
    "        #print ('end date', yEDate)\n",
    "        #print ('start Date', ySDate)\n",
    "\n",
    "        ###################self.HistDF=a_TDA_IF.TDA_Price_Hist (Symbol=self.Symbol, StartDTStamp=self.HistStartDate, EndDTStamp=self.HistEndDate )\n",
    "        yDF2=pd.read_csv(r'C:\\Users\\bt\\Documents\\GitHub\\SigmaCodingBTC\\TDAAPI\\historical_data\\a_Debug\\GOOG_TDA_raw.csv')\n",
    "        self.HistDF= yDF2.iloc[:, 1:]\n",
    "\n",
    "        \n",
    "        self.Comment=self.Comment + \"got quote update, \" + str(type(self.HistDF)) + str(self.HistDF.shape) +'; ' \n",
    "\n",
    "        self.UpdateTA()\n",
    "\n",
    "        self.SaveHist()\n",
    "\n",
    "    def UpdateTA(self):\n",
    "        print('update stock technical indicators')\n",
    "        \n",
    "        #\n",
    "\n",
    "        SMAPeriod=self.SMADays\n",
    "        if SMAPeriod > 100 or SMAPeriod < 1 :\n",
    "            SMAPeriod =10 \n",
    "            self.Comment=self.Comment + \"SMADays is out of range of 1 to 100, reset to 10; \" \n",
    "\n",
    "        #https://www.geeksforgeeks.org/adding-new-column-to-existing-dataframe-in-pandas/\n",
    "        ySMA=talib.SMA(self.HistDF['close'].values, timeperiod=SMAPeriod)\n",
    "\n",
    "        # df1[\"SMA\"]=ySMA ##works   \n",
    "        self.HistDF.insert(5,\"SMA\",  ySMA, True) #works too \n",
    "        \n",
    "        # other new value for OLI fields\n",
    "        # find the lastest data\n",
    "\n",
    "        self.Price=self.HistDF.iloc[-1, 4]\n",
    "        self.Volume=self.HistDF.iloc[-1,6]\n",
    "        self.PriceDate= a_utils.TDAepoch2DT(self.HistDF.iloc[-1,7] )\n",
    "\n",
    "        self.Comment=self.Comment + \"updated price=\" + str(self.Price) +' volume=' +str(self.Volume) + ' date=' + str(self.PriceDate) +'; '\n",
    "\n",
    "        self.SMA=self.HistDF.iloc[-1,5]  # column 5 is sma \n",
    "        if self.SMAState==1 and self.SMA >= self.Price:\n",
    "            self.SMAAlert = -1\n",
    "            self.SMAState =0  \n",
    "            self.SMADate=self.PriceDate\n",
    "            self.Comment=self.Comment + \"SMA Alert: price dropped below SMA\" +'; '\n",
    "        elif self.SMAState==0 and self.SMA < self.Price:\n",
    "            self.SMAAlert = 1\n",
    "            self.SMAState =1 \n",
    "            self.SMADate=self.PriceDate\n",
    "            self.Comment=self.Comment + \"SMA Alert: price rose above SMA\"+'; '\n",
    "        else:\n",
    "            self.SMAAlert = 0 \n",
    "            self.Comment=self.Comment + \"SMA Alert reset since no change since last update\" +'; ' \n",
    "\n",
    "    def SaveHist(self):\n",
    "        print('save stock data to file')\n",
    "\n",
    "        cdir=self.Symbol\n",
    "        pdir=r'C:\\Users\\bt\\Documents\\GitHub\\SigmaCodingBTC\\TDAAPI\\historical_data\\a_Debug'\n",
    "        path= a_utils.addDir(pdir, cdir)\n",
    "\n",
    "        path=a_utils.DF2CSV(self.HistDF, path, self.Symbol, '')\n",
    "\n",
    "        self.Comment=self.Comment + \"; Update saved to \" + str(path) +'; '\n",
    "\n",
    "\n",
    "\n",
    "    "
   ]
  },
  {
   "cell_type": "code",
   "execution_count": 1,
   "metadata": {},
   "outputs": [
    {
     "ename": "NameError",
     "evalue": "name 'Stock' is not defined",
     "output_type": "error",
     "traceback": [
      "\u001b[1;31m---------------------------------------------------------------------------\u001b[0m",
      "\u001b[1;31mNameError\u001b[0m                                 Traceback (most recent call last)",
      "\u001b[1;32m<ipython-input-1-d831819c5ba8>\u001b[0m in \u001b[0;36m<module>\u001b[1;34m\u001b[0m\n\u001b[0;32m      1\u001b[0m \u001b[1;31m#testng class Stock\u001b[0m\u001b[1;33m\u001b[0m\u001b[1;33m\u001b[0m\u001b[1;33m\u001b[0m\u001b[0m\n\u001b[1;32m----> 2\u001b[1;33m \u001b[0myStock\u001b[0m\u001b[1;33m=\u001b[0m\u001b[0mStock\u001b[0m\u001b[1;33m(\u001b[0m\u001b[0mSymbol\u001b[0m\u001b[1;33m=\u001b[0m\u001b[1;34m'AMD'\u001b[0m\u001b[1;33m)\u001b[0m\u001b[1;33m\u001b[0m\u001b[1;33m\u001b[0m\u001b[0m\n\u001b[0m\u001b[0;32m      3\u001b[0m \u001b[1;33m\u001b[0m\u001b[0m\n\u001b[0;32m      4\u001b[0m \u001b[0myStock\u001b[0m\u001b[1;33m.\u001b[0m\u001b[0mHistEndDate\u001b[0m\u001b[1;33m=\u001b[0m\u001b[0ma_utils\u001b[0m\u001b[1;33m.\u001b[0m\u001b[0mepoch_date_stamp\u001b[0m\u001b[1;33m(\u001b[0m\u001b[1;33m)\u001b[0m\u001b[1;33m\u001b[0m\u001b[1;33m\u001b[0m\u001b[0m\n\u001b[0;32m      5\u001b[0m \u001b[0myStock\u001b[0m\u001b[1;33m.\u001b[0m\u001b[0mHistStartDate\u001b[0m\u001b[1;33m=\u001b[0m\u001b[0ma_utils\u001b[0m\u001b[1;33m.\u001b[0m\u001b[0mepoch_from_today\u001b[0m\u001b[1;33m(\u001b[0m \u001b[0mYr\u001b[0m\u001b[1;33m=\u001b[0m\u001b[1;36m0\u001b[0m\u001b[1;33m,\u001b[0m \u001b[0mMo\u001b[0m\u001b[1;33m=\u001b[0m\u001b[1;36m0\u001b[0m\u001b[1;33m,\u001b[0m \u001b[0mDay\u001b[0m\u001b[1;33m=\u001b[0m\u001b[1;36m15\u001b[0m\u001b[1;33m)\u001b[0m\u001b[1;33m\u001b[0m\u001b[1;33m\u001b[0m\u001b[0m\n",
      "\u001b[1;31mNameError\u001b[0m: name 'Stock' is not defined"
     ]
    }
   ],
   "source": [
    "#testng class Stock\n",
    "yStock=Stock(Symbol='AMD')\n",
    "\n",
    "yStock.HistEndDate=a_utils.epoch_date_stamp()\n",
    "yStock.HistStartDate=a_utils.epoch_from_today( Yr=0, Mo=0, Day=15) \n",
    "\n",
    "yStock.GetHist()\n",
    "\n",
    "print (yStock.HistDF)\n",
    "print (yStock.HistDF.iloc[-1,7])\n",
    "print (yStock.Price)\n",
    "print   (yStock.Volume)\n",
    "print    (yStock.PriceDate) \n",
    "print   (type(yStock.PriceDate))\n",
    "print (yStock.Comment)"
   ]
  },
  {
   "cell_type": "code",
   "execution_count": null,
   "metadata": {},
   "outputs": [
    {
     "name": "stdout",
     "output_type": "stream",
     "text": [
      "(3, 3) <class 'pandas.core.frame.DataFrame'>\n",
      "6\n"
     ]
    }
   ],
   "source": [
    "df7 = pd.DataFrame(\n",
    "{\"a\" : [4 ,5, 6], \n",
    "\"b\" : [7, 8, 9], \n",
    "\"c\" : [10, 11, 12]},    \n",
    "index = [1, 2, 3])\n",
    "\n",
    "print (df7.shape, type(df7))\n",
    "print (df7.iloc[-1, 0])"
   ]
  }
 ],
 "metadata": {
  "interpreter": {
   "hash": "1a0f06cb1a880a29a61cd3b4900bc102c451047753172d99c0045eaf439f8772"
  },
  "kernelspec": {
   "display_name": "Python 3.8.5 64-bit ('base': conda)",
   "language": "python",
   "name": "python3"
  },
  "language_info": {
   "codemirror_mode": {
    "name": "ipython",
    "version": 3
   },
   "file_extension": ".py",
   "mimetype": "text/x-python",
   "name": "python",
   "nbconvert_exporter": "python",
   "pygments_lexer": "ipython3",
   "version": "3.8.5"
  },
  "metadata": {
   "interpreter": {
    "hash": "63fd5069d213b44bf678585dea6b12cceca9941eaf7f819626cde1f2670de90d"
   }
  },
  "orig_nbformat": 2
 },
 "nbformat": 4,
 "nbformat_minor": 2
}
