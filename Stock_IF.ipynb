{
 "cells": [
  {
   "cell_type": "code",
   "execution_count": 1,
   "metadata": {},
   "outputs": [],
   "source": [
    "############MM\r\n",
    "## imports\r\n",
    "##############\r\n",
    "import sys\r\n",
    "sys.path.append ('..\\TDAAPI')\r\n",
    "import a_TDA_IF \r\n",
    "import a_utils\r\n",
    "import talib\r\n",
    "import pandas as pd\r\n",
    "import numpy as np\r\n",
    "import datetime"
   ]
  },
  {
   "cell_type": "code",
   "execution_count": 3,
   "metadata": {},
   "outputs": [],
   "source": [
    "###################################\r\n",
    "class Stock:\r\n",
    "    \r\n",
    "    def __init__(self, Symbol, Company=''):\r\n",
    "        self.CompanyNm = Company\r\n",
    "        self.Status= 0\r\n",
    "        self.Symbol= Symbol\r\n",
    "        self.Sector=''\r\n",
    "        self.Industry=''\r\n",
    "        self.StockBeta=1\r\n",
    "\r\n",
    "        self.SMADays=10\r\n",
    "        self.SMAAlert=0\r\n",
    "        self.SMAState=0 # above or below\r\n",
    "        self.SMA=0\r\n",
    "        self.SMADate=None  #datetime obj\r\n",
    "        \r\n",
    "        self.Broker=''\r\n",
    "        self.Shares=0\r\n",
    "        self.HistDF=None   #dataframe\r\n",
    "        self.HistStartDate=0 # Epoc second\r\n",
    "        self.Price=0\r\n",
    "        self.Volume=0\r\n",
    "        self.HistEndDate=0 # Epoc second\r\n",
    "        self.PriceDate=None  # datetime obj\r\n",
    "\r\n",
    "        self.Comment='' # for collecting all changes, warnings\r\n",
    "    \r\n",
    "\r\n",
    "    def GetHist(self):\r\n",
    "    # get market data\r\n",
    "        print(\"get symbol market data, ok\")\r\n",
    "\r\n",
    "        #print ('end date', yEDate)\r\n",
    "        #print ('start Date', ySDate)\r\n",
    "\r\n",
    "        ###################self.HistDF=a_TDA_IF.TDA_Price_Hist (Symbol=self.Symbol, StartDTStamp=self.HistStartDate, EndDTStamp=self.HistEndDate )\r\n",
    "        yDF2=pd.read_csv(r'C:\\Users\\bt\\Documents\\GitHub\\SigmaCodingBTC\\TDAAPI\\historical_data\\a_Debug\\GOOG_TDA_raw.csv')\r\n",
    "        self.HistDF= yDF2.iloc[:, 1:]\r\n",
    "\r\n",
    "        \r\n",
    "        self.Comment=self.Comment + \"got quote update, \" + str(type(self.HistDF)) + str(self.HistDF.shape) +'; ' \r\n",
    "\r\n",
    "        self.UpdateTA()\r\n",
    "\r\n",
    "        self.SaveHist()\r\n",
    "\r\n",
    "    def UpdateTA(self):\r\n",
    "        print('update stock technical indicators')\r\n",
    "        \r\n",
    "        #\r\n",
    "\r\n",
    "        SMAPeriod=self.SMADays\r\n",
    "        if SMAPeriod > 100 or SMAPeriod < 1 :\r\n",
    "            SMAPeriod =10 \r\n",
    "            self.Comment=self.Comment + \"SMADays is out of range of 1 to 100, reset to 10; \" \r\n",
    "\r\n",
    "        #https://www.geeksforgeeks.org/adding-new-column-to-existing-dataframe-in-pandas/\r\n",
    "        ySMA=talib.SMA(self.HistDF['close'].values, timeperiod=SMAPeriod)\r\n",
    "\r\n",
    "        # df1[\"SMA\"]=ySMA ##works   \r\n",
    "        self.HistDF.insert(5,\"SMA\",  ySMA, True) #works too \r\n",
    "        \r\n",
    "        # other new value for OLI fields\r\n",
    "        # find the lastest data\r\n",
    "\r\n",
    "        self.Price=self.HistDF.iloc[-1, 4]\r\n",
    "        self.Volume=self.HistDF.iloc[-1,6]\r\n",
    "        self.PriceDate= a_utils.TDAepoch2DT(self.HistDF.iloc[-1,7] )\r\n",
    "\r\n",
    "        self.Comment=self.Comment + \"updated price=\" + str(self.Price) +' volume=' +str(self.Volume) + ' date=' + str(self.PriceDate) +'; '\r\n",
    "\r\n",
    "        self.SMA=self.HistDF.iloc[-1,5]  # column 5 is sma \r\n",
    "        if self.SMAState==1 and self.SMA >= self.Price:\r\n",
    "            self.SMAAlert = -1\r\n",
    "            self.SMAState =0  \r\n",
    "            self.SMADate=self.PriceDate\r\n",
    "            self.Comment=self.Comment + \"SMA Alert: price dropped below SMA\" +'; '\r\n",
    "        elif self.SMAState==0 and self.SMA < self.Price:\r\n",
    "            self.SMAAlert = 1\r\n",
    "            self.SMAState =1 \r\n",
    "            self.SMADate=self.PriceDate\r\n",
    "            self.Comment=self.Comment + \"SMA Alert: price rose above SMA\"+'; '\r\n",
    "        else:\r\n",
    "            self.SMAAlert = 0 \r\n",
    "            self.Comment=self.Comment + \"SMA Alert reset since no change since last update\" +'; ' \r\n",
    "\r\n",
    "    def SaveHist(self):\r\n",
    "        print('save stock data to file')\r\n",
    "\r\n",
    "        cdir=self.Symbol\r\n",
    "        pdir=r'C:\\Users\\bt\\Documents\\GitHub\\SigmaCodingBTC\\TDAAPI\\historical_data\\a_Debug'\r\n",
    "        path= a_utils.addDir(pdir, cdir)\r\n",
    "\r\n",
    "        path=a_utils.DF2CSV(self.HistDF, path, self.Symbol, '')\r\n",
    "\r\n",
    "        self.Comment=self.Comment + \"; Update saved to \" + str(path) +'; '\r\n",
    "\r\n",
    "\r\n",
    "\r\n",
    "    "
   ]
  },
  {
   "cell_type": "code",
   "execution_count": 4,
   "metadata": {},
   "outputs": [
    {
     "ename": "NameError",
     "evalue": "name 'a_utils' is not defined",
     "output_type": "error",
     "traceback": [
      "\u001b[1;31m---------------------------------------------------------------------------\u001b[0m",
      "\u001b[1;31mNameError\u001b[0m                                 Traceback (most recent call last)",
      "\u001b[1;32m<ipython-input-4-81f22de948cc>\u001b[0m in \u001b[0;36m<module>\u001b[1;34m\u001b[0m\n\u001b[0;32m      2\u001b[0m \u001b[0myStock\u001b[0m\u001b[1;33m=\u001b[0m\u001b[0mStock\u001b[0m\u001b[1;33m(\u001b[0m\u001b[0mSymbol\u001b[0m\u001b[1;33m=\u001b[0m\u001b[1;34m'AMD'\u001b[0m\u001b[1;33m)\u001b[0m\u001b[1;33m\u001b[0m\u001b[1;33m\u001b[0m\u001b[0m\n\u001b[0;32m      3\u001b[0m \u001b[1;33m\u001b[0m\u001b[0m\n\u001b[1;32m----> 4\u001b[1;33m \u001b[0myStock\u001b[0m\u001b[1;33m.\u001b[0m\u001b[0mHistEndDate\u001b[0m\u001b[1;33m=\u001b[0m\u001b[0ma_utils\u001b[0m\u001b[1;33m.\u001b[0m\u001b[0mepoch_date_stamp\u001b[0m\u001b[1;33m(\u001b[0m\u001b[1;33m)\u001b[0m\u001b[1;33m\u001b[0m\u001b[1;33m\u001b[0m\u001b[0m\n\u001b[0m\u001b[0;32m      5\u001b[0m \u001b[0myStock\u001b[0m\u001b[1;33m.\u001b[0m\u001b[0mHistStartDate\u001b[0m\u001b[1;33m=\u001b[0m\u001b[0ma_utils\u001b[0m\u001b[1;33m.\u001b[0m\u001b[0mepoch_from_today\u001b[0m\u001b[1;33m(\u001b[0m \u001b[0mYr\u001b[0m\u001b[1;33m=\u001b[0m\u001b[1;36m0\u001b[0m\u001b[1;33m,\u001b[0m \u001b[0mMo\u001b[0m\u001b[1;33m=\u001b[0m\u001b[1;36m0\u001b[0m\u001b[1;33m,\u001b[0m \u001b[0mDay\u001b[0m\u001b[1;33m=\u001b[0m\u001b[1;36m15\u001b[0m\u001b[1;33m)\u001b[0m\u001b[1;33m\u001b[0m\u001b[1;33m\u001b[0m\u001b[0m\n\u001b[0;32m      6\u001b[0m \u001b[1;33m\u001b[0m\u001b[0m\n",
      "\u001b[1;31mNameError\u001b[0m: name 'a_utils' is not defined"
     ]
    }
   ],
   "source": [
    "#testng class Stock\r\n",
    "yStock=Stock(Symbol='AMD')\r\n",
    "\r\n",
    "yStock.HistEndDate=a_utils.epoch_date_stamp()\r\n",
    "yStock.HistStartDate=a_utils.epoch_from_today( Yr=0, Mo=0, Day=15) \r\n",
    "\r\n",
    "yStock.GetHist()\r\n",
    "\r\n",
    "print (yStock.HistDF)\r\n",
    "print (yStock.HistDF.iloc[-1,7])\r\n",
    "print (yStock.Price)\r\n",
    "print   (yStock.Volume)\r\n",
    "print    (yStock.PriceDate) \r\n",
    "print   (type(yStock.PriceDate))\r\n",
    "print (yStock.Comment)"
   ]
  },
  {
   "cell_type": "code",
   "execution_count": null,
   "metadata": {},
   "outputs": [
    {
     "name": "stdout",
     "output_type": "stream",
     "text": [
      "(3, 3) <class 'pandas.core.frame.DataFrame'>\n",
      "6\n"
     ]
    }
   ],
   "source": [
    "df7 = pd.DataFrame(\r\n",
    "{\"a\" : [4 ,5, 6], \r\n",
    "\"b\" : [7, 8, 9], \r\n",
    "\"c\" : [10, 11, 12]},    \r\n",
    "index = [1, 2, 3])\r\n",
    "\r\n",
    "print (df7.shape, type(df7))\r\n",
    "print (df7.iloc[-1, 0])"
   ]
  }
 ],
 "metadata": {
  "kernelspec": {
   "display_name": "Python 3.8.5 64-bit ('base': conda)",
   "name": "python385jvsc74a57bd0fbcc98f29df8cf9b9ae119083eac20ad9d652359dc0d984cfbfec4588cc47e33"
  },
  "language_info": {
   "codemirror_mode": {
    "name": "ipython",
    "version": 3
   },
   "file_extension": ".py",
   "mimetype": "text/x-python",
   "name": "python",
   "nbconvert_exporter": "python",
   "pygments_lexer": "ipython3",
   "version": "3.8.5"
  },
  "metadata": {
   "interpreter": {
    "hash": "63fd5069d213b44bf678585dea6b12cceca9941eaf7f819626cde1f2670de90d"
   }
  },
  "orig_nbformat": 2
 },
 "nbformat": 4,
 "nbformat_minor": 2
}