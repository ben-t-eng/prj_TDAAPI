{
 "cells": [
  {
   "cell_type": "code",
   "execution_count": null,
   "metadata": {},
   "outputs": [],
   "source": [
    "#################\r\n",
    "# import and status session\r\n",
    "#################\r\n",
    "#\r\n",
    "\r\n",
    "\r\n",
    "\r\n"
   ]
  },
  {
   "cell_type": "code",
   "execution_count": 5,
   "metadata": {},
   "outputs": [
    {
     "data": {
      "text/plain": "'osAmmt59C17kefWI6AfViU4tEUW65Y60c3MJQZtX6npS5zRwyAjxv5Qs8UN27furKW3+ksEpaVYcAMqn83HCZsEhYcpeRUZUtJbC9c9S0Xs5B5TMsX7HeGNKohlYcWr1svBfkjnasHpclBOpGcPbCqPPa/n3QluMnH9mzwfYCWMA50ZwIChJHnVLffqh+wJv4IwajG90kTQ7E3Y4tD2LD9EdYWnL/X+MzWt9wEV5wOby8MeT8v/uktEUuhGBrVrChZFaq+tkNDSFmjQIzx9umhyiff83Lcvdukn51PWD13YJapD6tCAS1gBwR3wVcgOOCVDX6LtSl39Gcb25K58p5nn16ZOAKjY39KD8Tfo771qaha+Te678/uYGFmGgQuLXRbmm+ypEpgt+eFBa0UUKopfW1oo94Y72lL6Gi2++f+2IB9MV5znutozG6WA100MQuG4LYrgoVi/JHHvlAY4XEDKn8ut5SwPrDjf26vN9WVgX8Nv6psymOMzvjvuVzv5qmgRZ5qmu7gZnH7Q6JvKqpyJeQD93boeAsOKP7P9ICwyVS7PREmHepzL3KBu54TrVgsfyuIf36/WaKMoKHfb/Cx4J+PzaFR+8547vkkrc+BcHTH+G7T635dv+NLpTfYdY1rotTPjdXfjNdTnIEBDDsnCS2nW6NbmBvReRfQXS75d0+Gyz3n9eRlQr0/r658Vd0VSyeUKpINXnTqk873tMfMz7cRWQsh+krf+pjsmgj1SnpKDGzblrDXBoE5/ob1h4jubqRKEhA7pYS7OAOba/owukBgnmM8oGESAwYejDF7Kb5lB8ESoHYIJuppbAUywnfRc3f+FgBFucdnadcJ3jI9Y5EDtIo2BmBZOvT5bpE+anwn1r1/dl8ydpcecyBeDyrEMUDQwaj1A=212FD3x19z9sWBHDJACbC00B75E'"
     },
     "execution_count": 5,
     "metadata": {},
     "output_type": "execute_result"
    }
   ],
   "source": [
    "# just to convert  escape char to UTF-8 \r\n",
    "\r\n",
    "from urllib.parse import urlparse\r\n",
    "from urllib.parse import unquote\r\n",
    "\r\n",
    "#input=\"\"\" https://auth.tdameritrade.com/auth?response_type=code&redirect_uri=http%3A%2F%2Flocalhost%2Ftest&client_id=K4OAZ0RGJBLI4VEBPOXZFUNFACKWPNNF%40AMER.OAUTHAP\"\"\"\r\n",
    "\r\n",
    "input=\"\"\"osAmmt59C17kefWI6AfViU4tEUW65Y60c3MJQZtX6npS5zRwyAjxv5Qs8UN27furKW3%2BksEpaVYcAMqn83HCZsEhYcpeRUZUtJbC9c9S0Xs5B5TMsX7HeGNKohlYcWr1svBfkjnasHpclBOpGcPbCqPPa%2Fn3QluMnH9mzwfYCWMA50ZwIChJHnVLffqh%2BwJv4IwajG90kTQ7E3Y4tD2LD9EdYWnL%2FX%2BMzWt9wEV5wOby8MeT8v%2FuktEUuhGBrVrChZFaq%2BtkNDSFmjQIzx9umhyiff83Lcvdukn51PWD13YJapD6tCAS1gBwR3wVcgOOCVDX6LtSl39Gcb25K58p5nn16ZOAKjY39KD8Tfo771qaha%2BTe678%2FuYGFmGgQuLXRbmm%2BypEpgt%2BeFBa0UUKopfW1oo94Y72lL6Gi2%2B%2Bf%2B2IB9MV5znutozG6WA100MQuG4LYrgoVi%2FJHHvlAY4XEDKn8ut5SwPrDjf26vN9WVgX8Nv6psymOMzvjvuVzv5qmgRZ5qmu7gZnH7Q6JvKqpyJeQD93boeAsOKP7P9ICwyVS7PREmHepzL3KBu54TrVgsfyuIf36%2FWaKMoKHfb%2FCx4J%2BPzaFR%2B8547vkkrc%2BBcHTH%2BG7T635dv%2BNLpTfYdY1rotTPjdXfjNdTnIEBDDsnCS2nW6NbmBvReRfQXS75d0%2BGyz3n9eRlQr0%2Fr658Vd0VSyeUKpINXnTqk873tMfMz7cRWQsh%2Bkrf%2Bpjsmgj1SnpKDGzblrDXBoE5%2Fob1h4jubqRKEhA7pYS7OAOba%2FowukBgnmM8oGESAwYejDF7Kb5lB8ESoHYIJuppbAUywnfRc3f%2BFgBFucdnadcJ3jI9Y5EDtIo2BmBZOvT5bpE%2Banwn1r1%2Fdl8ydpcecyBeDyrEMUDQwaj1A%3D212FD3x19z9sWBHDJACbC00B75E\"\"\"\r\n",
    "o = unquote(input)\r\n",
    "# 0327/2021, works well just to convert escape character back to UTF-8 coding \r\n",
    "# \r\n",
    "o   "
   ]
  },
  {
   "cell_type": "code",
   "execution_count": 8,
   "metadata": {},
   "outputs": [
    {
     "ename": "SyntaxError",
     "evalue": "invalid syntax (<ipython-input-8-c093968ca902>, line 2)",
     "output_type": "error",
     "traceback": [
      "\u001b[1;36m  File \u001b[1;32m\"<ipython-input-8-c093968ca902>\"\u001b[1;36m, line \u001b[1;32m2\u001b[0m\n\u001b[1;33m    https://technical-analysis-library-in-python.readthedocs.io/en/latest/\u001b[0m\n\u001b[1;37m          ^\u001b[0m\n\u001b[1;31mSyntaxError\u001b[0m\u001b[1;31m:\u001b[0m invalid syntax\n"
     ]
    }
   ],
   "source": [
    "# \r\n",
    "https://technical-analysis-library-in-python.readthedocs.io/en/latest/\r\n",
    "from ta import add_all_ta_features \r\n",
    "from ta.utils import dropna"
   ]
  },
  {
   "cell_type": "code",
   "execution_count": 9,
   "metadata": {},
   "outputs": [
    {
     "data": {
      "text/plain": "{'QQQ': {'assetType': 'ETF',\n  'assetMainType': 'EQUITY',\n  'cusip': '46090E103',\n  'assetSubType': 'ETF',\n  'symbol': 'QQQ',\n  'description': 'Invesco QQQ Trust, Series 1',\n  'bidPrice': 338.81,\n  'bidSize': 600,\n  'bidId': 'Q',\n  'askPrice': 338.83,\n  'askSize': 100,\n  'askId': 'P',\n  'lastPrice': 338.83,\n  'lastSize': 0,\n  'lastId': 'P',\n  'openPrice': 340.39,\n  'highPrice': 341.58,\n  'lowPrice': 336.9016,\n  'bidTick': ' ',\n  'closePrice': 342.01,\n  'netChange': -3.18,\n  'totalVolume': 34454496,\n  'quoteTimeInLong': 1618870933588,\n  'tradeTimeInLong': 1618870929608,\n  'mark': 338.83,\n  'exchange': 'q',\n  'exchangeName': 'NASD',\n  'marginable': True,\n  'shortable': True,\n  'volatility': 0.007,\n  'digits': 4,\n  '52WkHigh': 342.23,\n  '52WkLow': 203.63,\n  'nAV': 0.0,\n  'peRatio': 0.0,\n  'divAmount': 1.7685,\n  'divYield': 0.52,\n  'divDate': '2021-03-22 00:00:00.000',\n  'securityStatus': 'Normal',\n  'regularMarketLastPrice': 338.88,\n  'regularMarketLastSize': 2171,\n  'regularMarketNetChange': -3.13,\n  'regularMarketTradeTimeInLong': 1618862400660,\n  'netPercentChangeInDouble': -0.9298,\n  'markChangeInDouble': -3.18,\n  'markPercentChangeInDouble': -0.9298,\n  'regularMarketPercentChangeInDouble': -0.9152,\n  'delayed': True,\n  'realtimeEntitled': False}}"
     },
     "execution_count": 9,
     "metadata": {},
     "output_type": "execute_result"
    }
   ],
   "source": [
    "#w 041721, just an example\r\n",
    "import requests\r\n",
    "yAPIk='K4OAZ0RGJBLI4VEBPOXZFUNFACKWPNNF'\r\n",
    "yAccessid=\"\"\"OLq4cWAGeV3Ivv3QDNFcQpllfQpzFay2xlzSDyHsViYUH4Ls8A1Vu42lKzUK6bck09QoHS4nOyT0EYA7upCc/EO4Io1QOoNmvu5do0DE2zjA4gaUqA5Kth39lNjRieKceqp7nYLSN1mrW1kMxTBJrqXBWzx5EAL0Z55Ur3wOraDxr0dme3jYBw4yg0WSJOSARGB+XciwmA5J6FyHi0GFQ8NipM7dJYbC2icJMU/LlhdkRtthdd3uKxsmGtf+v+knnFw968zEfWPaD3sKbmIrH3gk/66oQQWXDQv9BbNtaHgoYjDjMFUrXyAXEIsJAax7lqGQHRqXhAxQ2AiaYwk1MZwxf4eTeZYEAQ8RfsZECKuN1n9UPpEEnzCDZhK8xFMq6R03RfhifjaH/zDyjoz4goO+4/wCIt0HmbpTHt6oU/tXl9ExI2DMcqSq0NaHp46d0j45264pMeT53ZcpmrZ3iML6tuW57HqcqBVHZjnkdLvqBB3wHC2K9t3ATaeoozkaKpr/FgiI/BLTJAg3bm6oPFehBXrcMhKRyMNd3100MQuG4LYrgoVi/JHHvl4qWI0Y7/J7/mRFpNUOO5k+c30o5g5LLWOE19+YytBlANFeNP0Ea5MF94Zu6amXMIXpW/A6vbABrg3wbQrud0VaHoJ/Go+KOtlL33TlGxs0wJJgJ6JxJVm0mV5od/Hb63nLXx52UkbEUomGJsglsfv6FJeULSJRMe4ZtbS4aN7D9qt1QQZ5SHgKe4TlAUFCbyc4D6b9Ob669TftqvRoczKg3gsIxF7DOU8nrgozX9w2oEYILN0BGnua/4CZRLDHNVdN/7N+gtDrG467RH2LYz5Fub8YUYSpPEWzW+m1Ni3xR9aWAGyQ8dXj+OQuiy0egA3re/8jWTQ6EB7G00ksfkBF7Ypurr0JGOiypLh8oaTUv9mB5JYaaQbNmNU2KBRdhv8atMGR+KnWf7OBxB2FjlutTyVjcudDiGhrGU9IvtfmlgIidAFPj7hZwM76qkeHMWfX4IrJTHcqz/5wdbRPqRzgvd/pi1hQSZBOknaLseNxe4YJ+J6V8R655uKgcJ5IePYiohC5Jhe/CCYjY+gWj2rrJ30fGTNPwjLmp+nl212FD3x19z9sWBHDJACbC00B75E\"\"\"\r\n",
    "\r\n",
    "ep=r\"https://api.tdameritrade.com/v1/marketdata/{}/quotes\".format('qqq')\r\n",
    "pl={'apikey': yAPIk}\r\n",
    "\r\n",
    "content=requests.get(url=ep,params=pl)\r\n",
    "content\r\n",
    "data=content.json()\r\n",
    "data"
   ]
  },
  {
   "cell_type": "code",
   "execution_count": null,
   "metadata": {},
   "outputs": [],
   "source": [
    "# works on 4/6\r\n",
    "import requests\r\n",
    "yAPIk='K4OAZ0RGJBLI4VEBPOXZFUNFACKWPNNF'\r\n",
    "\r\n",
    "ep=r\"https://api.tdameritrade.com/v1/marketdata/quotes\"\r\n",
    "pl={'apikey': yAPIk,\r\n",
    "     'symbol':'GOOG,MSFT,AAPL,PINS'}\r\n",
    "\r\n",
    "content=requests.get(url=ep,params=pl)\r\n",
    "content\r\n",
    "data=content.json()\r\n",
    "data"
   ]
  },
  {
   "cell_type": "code",
   "execution_count": 10,
   "metadata": {},
   "outputs": [
    {
     "name": "stdout",
     "output_type": "stream",
     "text": [
      "current time is 2021-04-19 18:25:53.070567\n",
      "18:25:53\n",
      "04/19/21\n",
      "Timestamp: 1618881953.070567\n",
      "01/01/10\n",
      "yD2: 1262332800000\n",
      "yDT: 2010-01-01 00:00:00\n",
      "yD2 to strftime: 01/01/10  \n"
     ]
    }
   ],
   "source": [
    "# for  time string \r\n",
    "import time\r\n",
    "import datetime\r\n",
    "#https://www.w3schools.com/python/python_datetime.asp\r\n",
    "\r\n",
    "def epoch_date( yYr=0, yMo=1, yDate=1):\r\n",
    "     if yYr >1980 and yMo >0 and yMo <13 and yDate >0 and yDate<31  :\r\n",
    "         yDate=datetime.datetime(yYr,yMo, yDate)\r\n",
    "     else :\r\n",
    "         yDate=datetime.datetime.now()\r\n",
    "\r\n",
    "     print (yDate.strftime(\"%x\"))\r\n",
    "     return round(yDate.timestamp()* 1000)\r\n",
    "\r\n",
    "\r\n",
    "yTime=datetime.datetime.now(); \r\n",
    "print(\"current time is {}\".format(yTime) )\r\n",
    "print( yTime.strftime(\"%H:%M:%S\" ) )\r\n",
    "print (yTime.strftime(\"%x\"))\r\n",
    "\r\n",
    "\r\n",
    "yTS=yTime.timestamp()\r\n",
    "print(\"Timestamp:\", yTS)\r\n",
    "yD2=epoch_date(2010)\r\n",
    "print(\"yD2:\", yD2)\r\n",
    "\r\n",
    "\r\n",
    "yDT=datetime.datetime.fromtimestamp(yD2/1000)\r\n",
    "print(\"yDT:\", yDT)\r\n",
    "\r\n",
    "print(\"yD2 to strftime: {}  \".format(yDT.strftime('%x') ))"
   ]
  },
  {
   "cell_type": "code",
   "execution_count": 65,
   "metadata": {},
   "outputs": [],
   "source": [
    "### working this on 4/18 as class and functions \r\n",
    "import requests\r\n",
    "import numpy as np\r\n",
    "import pandas as pd \r\n",
    "import a_utils\r\n",
    "\r\n",
    "class StockInfoBroker: \r\n",
    "     def __init__(self, broker_nm):\r\n",
    "        self.brokernm = broker_nm\r\n",
    "        self.usernm = None\r\n",
    "        self.userpwd = None\r\n",
    "        self.apiURL=None\r\n",
    "        self.accesskey=None\r\n",
    "\r\n",
    "\r\n",
    "\r\n",
    "def t_TDA_Price_Hist ( APIK='', PlayLoad='', APIURL='', Symbol='', StartDTStamp=0, EndDTStamp=0 ): \r\n",
    "# epoch time in ms, typically requires *1000 \r\n",
    "\r\n",
    "     if StartDTStamp==0:\r\n",
    "          StartDTStamp=1577865600  #2020/1/1\r\n",
    "\r\n",
    "\r\n",
    "     if EndDTStamp==0:\r\n",
    "          EndDTStamp=datetime.datetime.today().timestamp()\r\n",
    "\r\n",
    "     StartDTStamp =StartDTStamp*1000\r\n",
    "     EndDTStamp =EndDTStamp*1000\r\n",
    "     \r\n",
    "     if APIK=='' : \r\n",
    "          APIK='K4OAZ0RGJBLI4VEBPOXZFUNFACKWPNNF'\r\n",
    "        #  yAPIk='K4OAZ0RGJBLI4VEBPOXZFUNFACKWPNNF'\r\n",
    "     if PlayLoad=='' : \r\n",
    "          PlayLoad={'apikey': APIK,\r\n",
    "               'periodType':'month',\r\n",
    "               'period':'1',\r\n",
    "               \"frequencyType\":'daily',\r\n",
    "               'frequency':'1',\r\n",
    "               'endDate':EndDTStamp,\r\n",
    "               'startDate':StartDTStamp,\r\n",
    "               'needExtendedHoursDat':'false'\r\n",
    "               }\r\n",
    "\r\n",
    "     if Symbol=='':\r\n",
    "          Symbol='AMD'\r\n",
    "\r\n",
    "     #print( 'Symbol=',Symbol,'APIURL=', APIURL)\r\n",
    "     if APIURL=='':\r\n",
    "          APIURL=\"https://api.tdameritrade.com/v1/marketdata/{}/pricehistory\".format(Symbol)\r\n",
    "\r\n",
    "\r\n",
    "     #print( 'Symbol=',Symbol,'APIURL=', APIURL, 'pl=', PlayLoad)\r\n",
    "     content=requests.get(url=APIURL,params=PlayLoad)\r\n",
    "     hist_data=content.json()\r\n",
    "     \r\n",
    "     hist_df=pd.json_normalize(hist_data, record_path= ['candles'], meta=[\"symbol\", 'empty'])\r\n",
    "\r\n",
    "     #shuffle dataframe a bit\r\n",
    "     df_cols=hist_df.columns.tolist() \r\n",
    "     df_cols=df_cols[-2:-1]+df_cols[:-2]  # omitting \"empty column\"\r\n",
    "\r\n",
    "     hist_df=hist_df[df_cols]\r\n",
    "\r\n",
    "     return hist_df\r\n",
    "\r\n"
   ]
  },
  {
   "cell_type": "code",
   "execution_count": 68,
   "metadata": {},
   "outputs": [
    {
     "name": "stdout",
     "output_type": "stream",
     "text": [
      "04/18/21\n",
      "<built-in method timestamp of datetime.datetime object at 0x00000296DF754930>\n",
      "end date 1618807883\n",
      "start Date 1587271883\n"
     ]
    },
    {
     "data": {
      "text/html": "<div>\n<style scoped>\n    .dataframe tbody tr th:only-of-type {\n        vertical-align: middle;\n    }\n\n    .dataframe tbody tr th {\n        vertical-align: top;\n    }\n\n    .dataframe thead th {\n        text-align: right;\n    }\n</style>\n<table border=\"1\" class=\"dataframe\">\n  <thead>\n    <tr style=\"text-align: right;\">\n      <th></th>\n      <th>symbol</th>\n      <th>open</th>\n      <th>high</th>\n      <th>low</th>\n      <th>close</th>\n      <th>volume</th>\n      <th>datetime</th>\n    </tr>\n  </thead>\n  <tbody>\n    <tr>\n      <th>0</th>\n      <td>AMZN</td>\n      <td>2389.950</td>\n      <td>2444.9800</td>\n      <td>2386.05</td>\n      <td>2393.61</td>\n      <td>5770694</td>\n      <td>1587358800000</td>\n    </tr>\n    <tr>\n      <th>1</th>\n      <td>AMZN</td>\n      <td>2416.610</td>\n      <td>2428.3099</td>\n      <td>2279.66</td>\n      <td>2328.12</td>\n      <td>7476679</td>\n      <td>1587445200000</td>\n    </tr>\n    <tr>\n      <th>2</th>\n      <td>AMZN</td>\n      <td>2369.000</td>\n      <td>2394.0000</td>\n      <td>2351.00</td>\n      <td>2363.49</td>\n      <td>4218295</td>\n      <td>1587531600000</td>\n    </tr>\n    <tr>\n      <th>3</th>\n      <td>AMZN</td>\n      <td>2399.980</td>\n      <td>2424.2200</td>\n      <td>2382.08</td>\n      <td>2399.45</td>\n      <td>5066552</td>\n      <td>1587618000000</td>\n    </tr>\n    <tr>\n      <th>4</th>\n      <td>AMZN</td>\n      <td>2417.000</td>\n      <td>2420.4332</td>\n      <td>2382.00</td>\n      <td>2410.22</td>\n      <td>3831797</td>\n      <td>1587704400000</td>\n    </tr>\n    <tr>\n      <th>...</th>\n      <td>...</td>\n      <td>...</td>\n      <td>...</td>\n      <td>...</td>\n      <td>...</td>\n      <td>...</td>\n      <td>...</td>\n    </tr>\n    <tr>\n      <th>246</th>\n      <td>AMZN</td>\n      <td>3355.210</td>\n      <td>3395.0400</td>\n      <td>3351.15</td>\n      <td>3379.39</td>\n      <td>3281798</td>\n      <td>1618203600000</td>\n    </tr>\n    <tr>\n      <th>247</th>\n      <td>AMZN</td>\n      <td>3400.845</td>\n      <td>3432.0000</td>\n      <td>3395.63</td>\n      <td>3400.00</td>\n      <td>3315837</td>\n      <td>1618290000000</td>\n    </tr>\n    <tr>\n      <th>248</th>\n      <td>AMZN</td>\n      <td>3404.040</td>\n      <td>3404.1300</td>\n      <td>3326.00</td>\n      <td>3333.00</td>\n      <td>3145204</td>\n      <td>1618376400000</td>\n    </tr>\n    <tr>\n      <th>249</th>\n      <td>AMZN</td>\n      <td>3371.000</td>\n      <td>3396.9999</td>\n      <td>3352.00</td>\n      <td>3379.09</td>\n      <td>3233580</td>\n      <td>1618462800000</td>\n    </tr>\n    <tr>\n      <th>250</th>\n      <td>AMZN</td>\n      <td>3380.000</td>\n      <td>3406.8000</td>\n      <td>3355.59</td>\n      <td>3399.44</td>\n      <td>3186049</td>\n      <td>1618549200000</td>\n    </tr>\n  </tbody>\n</table>\n<p>251 rows × 7 columns</p>\n</div>",
      "text/plain": "    symbol      open       high      low    close   volume       datetime\n0     AMZN  2389.950  2444.9800  2386.05  2393.61  5770694  1587358800000\n1     AMZN  2416.610  2428.3099  2279.66  2328.12  7476679  1587445200000\n2     AMZN  2369.000  2394.0000  2351.00  2363.49  4218295  1587531600000\n3     AMZN  2399.980  2424.2200  2382.08  2399.45  5066552  1587618000000\n4     AMZN  2417.000  2420.4332  2382.00  2410.22  3831797  1587704400000\n..     ...       ...        ...      ...      ...      ...            ...\n246   AMZN  3355.210  3395.0400  3351.15  3379.39  3281798  1618203600000\n247   AMZN  3400.845  3432.0000  3395.63  3400.00  3315837  1618290000000\n248   AMZN  3404.040  3404.1300  3326.00  3333.00  3145204  1618376400000\n249   AMZN  3371.000  3396.9999  3352.00  3379.09  3233580  1618462800000\n250   AMZN  3380.000  3406.8000  3355.59  3399.44  3186049  1618549200000\n\n[251 rows x 7 columns]"
     },
     "execution_count": 68,
     "metadata": {},
     "output_type": "execute_result"
    }
   ],
   "source": [
    "### testing  TDA_Price_Hist ( APIK='', PlayLoad='', APIURL='', Symbol='', StartDTStamp=0, EndDTStamp=0 ): \r\n",
    "\r\n",
    "yEDate=a_utils.epoch_date_stamp()\r\n",
    "ySDate=a_utils.epoch_from_today( Yr=1, Mo=0, Day=0) \r\n",
    "\r\n",
    "print ('end date', yEDate)\r\n",
    "print ('start Date', ySDate)\r\n",
    "\r\n",
    "co=\"AMZN\"\r\n",
    "\r\n",
    "hist_df =TDA_Price_Hist (Symbol=co, StartDTStamp=ySDate, EndDTStamp=yEDate ) \r\n",
    "hist_df"
   ]
  },
  {
   "cell_type": "code",
   "execution_count": 66,
   "metadata": {},
   "outputs": [
    {
     "name": "stdout",
     "output_type": "stream",
     "text": [
      "04/18/21\n",
      "<built-in method timestamp of datetime.datetime object at 0x00000296DF754ED0>\n",
      "end date 1618807834\n",
      "start Date 1587271834\n"
     ]
    },
    {
     "data": {
      "text/html": "<div>\n<style scoped>\n    .dataframe tbody tr th:only-of-type {\n        vertical-align: middle;\n    }\n\n    .dataframe tbody tr th {\n        vertical-align: top;\n    }\n\n    .dataframe thead th {\n        text-align: right;\n    }\n</style>\n<table border=\"1\" class=\"dataframe\">\n  <thead>\n    <tr style=\"text-align: right;\">\n      <th></th>\n      <th>symbol</th>\n      <th>open</th>\n      <th>high</th>\n      <th>low</th>\n      <th>close</th>\n      <th>volume</th>\n      <th>datetime</th>\n    </tr>\n  </thead>\n  <tbody>\n    <tr>\n      <th>0</th>\n      <td>F</td>\n      <td>5.01</td>\n      <td>5.090</td>\n      <td>4.910</td>\n      <td>4.98</td>\n      <td>71079442</td>\n      <td>1587358800000</td>\n    </tr>\n    <tr>\n      <th>1</th>\n      <td>F</td>\n      <td>4.89</td>\n      <td>4.920</td>\n      <td>4.720</td>\n      <td>4.77</td>\n      <td>82400209</td>\n      <td>1587445200000</td>\n    </tr>\n    <tr>\n      <th>2</th>\n      <td>F</td>\n      <td>4.87</td>\n      <td>4.890</td>\n      <td>4.750</td>\n      <td>4.77</td>\n      <td>62398608</td>\n      <td>1587531600000</td>\n    </tr>\n    <tr>\n      <th>3</th>\n      <td>F</td>\n      <td>4.80</td>\n      <td>4.980</td>\n      <td>4.770</td>\n      <td>4.89</td>\n      <td>61959760</td>\n      <td>1587618000000</td>\n    </tr>\n    <tr>\n      <th>4</th>\n      <td>F</td>\n      <td>4.93</td>\n      <td>4.960</td>\n      <td>4.800</td>\n      <td>4.87</td>\n      <td>54352479</td>\n      <td>1587704400000</td>\n    </tr>\n    <tr>\n      <th>...</th>\n      <td>...</td>\n      <td>...</td>\n      <td>...</td>\n      <td>...</td>\n      <td>...</td>\n      <td>...</td>\n      <td>...</td>\n    </tr>\n    <tr>\n      <th>246</th>\n      <td>F</td>\n      <td>12.50</td>\n      <td>12.550</td>\n      <td>12.320</td>\n      <td>12.38</td>\n      <td>40422762</td>\n      <td>1618203600000</td>\n    </tr>\n    <tr>\n      <th>247</th>\n      <td>F</td>\n      <td>12.39</td>\n      <td>12.445</td>\n      <td>12.100</td>\n      <td>12.20</td>\n      <td>51555966</td>\n      <td>1618290000000</td>\n    </tr>\n    <tr>\n      <th>248</th>\n      <td>F</td>\n      <td>12.20</td>\n      <td>12.490</td>\n      <td>12.200</td>\n      <td>12.24</td>\n      <td>49877492</td>\n      <td>1618376400000</td>\n    </tr>\n    <tr>\n      <th>249</th>\n      <td>F</td>\n      <td>12.30</td>\n      <td>12.320</td>\n      <td>12.125</td>\n      <td>12.24</td>\n      <td>38209311</td>\n      <td>1618462800000</td>\n    </tr>\n    <tr>\n      <th>250</th>\n      <td>F</td>\n      <td>12.32</td>\n      <td>12.360</td>\n      <td>12.190</td>\n      <td>12.23</td>\n      <td>33132872</td>\n      <td>1618549200000</td>\n    </tr>\n  </tbody>\n</table>\n<p>251 rows × 7 columns</p>\n</div>",
      "text/plain": "    symbol   open    high     low  close    volume       datetime\n0        F   5.01   5.090   4.910   4.98  71079442  1587358800000\n1        F   4.89   4.920   4.720   4.77  82400209  1587445200000\n2        F   4.87   4.890   4.750   4.77  62398608  1587531600000\n3        F   4.80   4.980   4.770   4.89  61959760  1587618000000\n4        F   4.93   4.960   4.800   4.87  54352479  1587704400000\n..     ...    ...     ...     ...    ...       ...            ...\n246      F  12.50  12.550  12.320  12.38  40422762  1618203600000\n247      F  12.39  12.445  12.100  12.20  51555966  1618290000000\n248      F  12.20  12.490  12.200  12.24  49877492  1618376400000\n249      F  12.30  12.320  12.125  12.24  38209311  1618462800000\n250      F  12.32  12.360  12.190  12.23  33132872  1618549200000\n\n[251 rows x 7 columns]"
     },
     "execution_count": 66,
     "metadata": {},
     "output_type": "execute_result"
    }
   ],
   "source": [
    "# testing TDA_Price_Hist ( APIK='', PlayLoad='', APIURL='', Symbol='', StartDTStamp=0, EndDTStamp=0 ):  in py file \r\n",
    "import a_TDA_IF \r\n",
    "\r\n",
    "yEDate=a_utils.epoch_date_stamp()\r\n",
    "ySDate=a_utils.epoch_from_today( Yr=1, Mo=0, Day=0) \r\n",
    "\r\n",
    "print ('end date', yEDate)\r\n",
    "print ('start Date', ySDate)\r\n",
    "\r\n",
    "co=\"F\"\r\n",
    "\r\n",
    "hist_df =a_TDA_IF.TDA_Price_Hist (Symbol=co, StartDTStamp=ySDate, EndDTStamp=yEDate ) \r\n",
    "hist_df\r\n",
    "\r\n"
   ]
  },
  {
   "cell_type": "code",
   "execution_count": null,
   "metadata": {},
   "outputs": [],
   "source": [
    "### working this on 4/18\r\n",
    "import requests\r\n",
    "import numpy as np\r\n",
    "import pandas as pd \r\n",
    "import a_utils\r\n",
    "\r\n",
    "\r\n",
    "#https://technical-analysis-library-in-python.readthedocs.io/en/latest/\r\n",
    "from ta import add_all_ta_features \r\n",
    "from ta.utils import dropna\r\n",
    "\r\n",
    "\r\n",
    "yAPIk='K4OAZ0RGJBLI4VEBPOXZFUNFACKWPNNF'\r\n",
    "\r\n",
    "yEDate=str(a_utils.epoch_date_stamp()*1000)\r\n",
    "ySDate=str(a_utils.epoch_from_today( Yr=1, Mo=0, Day=0)*1000) \r\n",
    "\r\n",
    "print ('end date', yEDate)\r\n",
    "print ('start Date', ySDate)\r\n",
    "\r\n",
    "co=\"AMD\"\r\n",
    "ep=r\"https://api.tdameritrade.com/v1/marketdata/{}/pricehistory\".format(co)\r\n",
    "\r\n",
    "print ('ep=', ep )\r\n",
    "pl={'apikey': yAPIk,\r\n",
    "     'periodType':'month',\r\n",
    "     'period':'1',\r\n",
    "    \"frequencyType\":'daily',\r\n",
    "    'frequency':'1',\r\n",
    "    'endDate':yEDate,\r\n",
    "    'startDate':ySDate,\r\n",
    "     'needExtendedHoursDat':'false'\r\n",
    "     }\r\n",
    "\r\n",
    "content=requests.get(url=ep,params=pl)\r\n",
    "print (content) \r\n",
    "\r\n",
    "hist_data=content.json()\r\n",
    "\r\n",
    "# \r\n",
    "#https://towardsdatascience.com/all-pandas-json-normalize-you-should-know-for-flattening-json-13eae1dfb7dd\r\n",
    "hist_df=pd.json_normalize(hist_data, record_path= ['candles'], meta=[\"symbol\", 'empty'])\r\n",
    "hist_df\r\n",
    "\r\n",
    "df_cols=hist_df.columns.tolist() \r\n",
    "df_cols=df_cols[-2:-1]+df_cols[:-2]  # omitting \"empty column\"\r\n",
    "hist_df=hist_df[df_cols]\r\n",
    "hist_df \r\n",
    "\r\n",
    "df1=dropna(hist_df)\r\n",
    "\r\n",
    "hist_df\r\n",
    "\r\n"
   ]
  },
  {
   "cell_type": "code",
   "execution_count": null,
   "metadata": {},
   "outputs": [],
   "source": [
    "### works on 4/6\r\n",
    "import requests\r\n",
    "import numpy as np\r\n",
    "import pandas as pd \r\n",
    "#from a_utils import epoch_date_stamp as EDStamp\r\n",
    "import a_utils\r\n",
    "#utils.epoch_date_stamp( yYr=0, yMo=1, yDate=1)\r\n",
    "\r\n",
    "#https://technical-analysis-library-in-python.readthedocs.io/en/latest/\r\n",
    "from ta import add_all_ta_features \r\n",
    "from ta.utils import dropna\r\n",
    "\r\n",
    "\r\n",
    "#a_utils.DF2CSV(df1, 'path', 'filenm', tmstr='a')\r\n",
    "a_utils.epoch_date_stamp(2021,2,1)\r\n",
    "\r\n",
    "#yTS=a_utils.epoch_date_stamp(2021,1,1)\r\n",
    "\r\n",
    "yAPIk='K4OAZ0RGJBLI4VEBPOXZFUNFACKWPNNF'\r\n",
    "ySDate=str(a_utils.epoch_date_stamp(2021,1,1))\r\n",
    "yEDate=str(a_utils.epoch_date_stamp(0)) \r\n",
    "\r\n",
    "ep=r\"https://api.tdameritrade.com/v1/marketdata/{}/pricehistory\".format('GOOG')\r\n",
    "pl={'apikey': yAPIk,\r\n",
    "     'periodType':'month',\r\n",
    "     'period':'1',\r\n",
    "    \"frequencyType\":'daily',\r\n",
    "    'frequency':'1',\r\n",
    "    'endDate':yEDate,\r\n",
    "    'startDate':ySDate,\r\n",
    "     'needExtendedHoursDat':'false'\r\n",
    "     }\r\n",
    "\r\n",
    "content=requests.get(url=ep,params=pl)\r\n",
    "content\r\n",
    "hist_data=content.json()\r\n",
    "\r\n",
    "# 4/08 continue\r\n",
    "#https://towardsdatascience.com/all-pandas-json-normalize-you-should-know-for-flattening-json-13eae1dfb7dd\r\n",
    "hist_df=pd.json_normalize(hist_data, record_path= ['candles'], meta=[\"symbol\", 'empty'])\r\n",
    "hist_df\r\n",
    "\r\n",
    "df_cols=hist_df.columns.tolist() \r\n",
    "df_cols=df_cols[-2:-1]+df_cols[:-2]  # omitting \"empty column\"\r\n",
    "hist_df=hist_df[df_cols]\r\n",
    "hist_df \r\n",
    "\r\n",
    "df1=dropna(hist_df)\r\n",
    "\r\n",
    "df1\r\n",
    "\r\n"
   ]
  },
  {
   "cell_type": "code",
   "execution_count": 2,
   "metadata": {},
   "outputs": [
    {
     "ename": "NameError",
     "evalue": "name 'df1' is not defined",
     "output_type": "error",
     "traceback": [
      "\u001b[1;31m---------------------------------------------------------------------------\u001b[0m",
      "\u001b[1;31mNameError\u001b[0m                                 Traceback (most recent call last)",
      "\u001b[1;32m<ipython-input-2-555b7ac4b72e>\u001b[0m in \u001b[0;36m<module>\u001b[1;34m\u001b[0m\n\u001b[0;32m      3\u001b[0m \u001b[1;33m\u001b[0m\u001b[0m\n\u001b[0;32m      4\u001b[0m \u001b[1;31m#https://www.geeksforgeeks.org/adding-new-column-to-existing-dataframe-in-pandas/\u001b[0m\u001b[1;33m\u001b[0m\u001b[1;33m\u001b[0m\u001b[1;33m\u001b[0m\u001b[0m\n\u001b[1;32m----> 5\u001b[1;33m \u001b[0mySMA\u001b[0m\u001b[1;33m=\u001b[0m\u001b[0mtalib\u001b[0m\u001b[1;33m.\u001b[0m\u001b[0mSMA\u001b[0m\u001b[1;33m(\u001b[0m\u001b[0mdf1\u001b[0m\u001b[1;33m[\u001b[0m\u001b[1;34m'close'\u001b[0m\u001b[1;33m]\u001b[0m\u001b[1;33m.\u001b[0m\u001b[0mvalues\u001b[0m\u001b[1;33m,\u001b[0m \u001b[0mtimeperiod\u001b[0m\u001b[1;33m=\u001b[0m\u001b[1;36m10\u001b[0m\u001b[1;33m)\u001b[0m\u001b[1;33m\u001b[0m\u001b[1;33m\u001b[0m\u001b[0m\n\u001b[0m\u001b[0;32m      6\u001b[0m \u001b[1;33m\u001b[0m\u001b[0m\n\u001b[0;32m      7\u001b[0m \u001b[1;31m# df1[\"SMA\"]=ySMA ##works\u001b[0m\u001b[1;33m\u001b[0m\u001b[1;33m\u001b[0m\u001b[1;33m\u001b[0m\u001b[0m\n",
      "\u001b[1;31mNameError\u001b[0m: name 'df1' is not defined"
     ]
    }
   ],
   "source": [
    "import talib\n",
    "\n",
    "\n",
    "#https://www.geeksforgeeks.org/adding-new-column-to-existing-dataframe-in-pandas/\n",
    "ySMA=talib.SMA(df1['close'].values, timeperiod=10)\n",
    "\n",
    "# df1[\"SMA\"]=ySMA ##works   \n",
    "df1.insert(5,\"SMA\",  ySMA, True) #works too \n",
    "df1\n"
   ]
  },
  {
   "cell_type": "code",
   "execution_count": 1,
   "metadata": {},
   "outputs": [
    {
     "ename": "NameError",
     "evalue": "name 'df1' is not defined",
     "output_type": "error",
     "traceback": [
      "\u001b[1;31m---------------------------------------------------------------------------\u001b[0m",
      "\u001b[1;31mNameError\u001b[0m                                 Traceback (most recent call last)",
      "\u001b[1;32m<ipython-input-1-c3022226fa28>\u001b[0m in \u001b[0;36m<module>\u001b[1;34m\u001b[0m\n\u001b[1;32m----> 1\u001b[1;33m \u001b[0mprint\u001b[0m \u001b[1;33m(\u001b[0m\u001b[0mdf1\u001b[0m\u001b[1;33m[\u001b[0m\u001b[1;34m'datetime'\u001b[0m\u001b[1;33m]\u001b[0m\u001b[1;33m.\u001b[0m\u001b[0mdtype\u001b[0m\u001b[1;33m)\u001b[0m\u001b[1;33m\u001b[0m\u001b[1;33m\u001b[0m\u001b[0m\n\u001b[0m\u001b[0;32m      2\u001b[0m \u001b[1;33m\u001b[0m\u001b[0m\n\u001b[0;32m      3\u001b[0m \u001b[0mdf1\u001b[0m\u001b[1;33m[\u001b[0m\u001b[1;34m'Date'\u001b[0m\u001b[1;33m]\u001b[0m\u001b[1;33m=\u001b[0m \u001b[0mpd\u001b[0m\u001b[1;33m.\u001b[0m\u001b[0mto_datetime\u001b[0m\u001b[1;33m(\u001b[0m\u001b[0mdf1\u001b[0m\u001b[1;33m[\u001b[0m\u001b[1;34m'datetime'\u001b[0m\u001b[1;33m]\u001b[0m\u001b[1;33m,\u001b[0m \u001b[0munit\u001b[0m\u001b[1;33m=\u001b[0m\u001b[1;34m'ms'\u001b[0m\u001b[1;33m)\u001b[0m  \u001b[1;31m#wk , input is EPOC 13 digit decimal fomrat, e.g. 1609740000000\u001b[0m\u001b[1;33m\u001b[0m\u001b[1;33m\u001b[0m\u001b[0m\n\u001b[0;32m      4\u001b[0m \u001b[1;33m\u001b[0m\u001b[0m\n\u001b[0;32m      5\u001b[0m \u001b[0mprint\u001b[0m\u001b[1;33m(\u001b[0m \u001b[0mdf1\u001b[0m\u001b[1;33m[\u001b[0m\u001b[1;34m'Date'\u001b[0m\u001b[1;33m]\u001b[0m\u001b[1;33m.\u001b[0m\u001b[0mdtype\u001b[0m\u001b[1;33m)\u001b[0m\u001b[1;33m\u001b[0m\u001b[1;33m\u001b[0m\u001b[0m\n",
      "\u001b[1;31mNameError\u001b[0m: name 'df1' is not defined"
     ]
    }
   ],
   "source": [
    "print (df1['datetime'].dtype)\r\n",
    "\r\n",
    "df1['Date']= pd.to_datetime(df1['datetime'], unit='ms')  #wk , input is EPOC 13 digit decimal fomrat, e.g. 1609740000000\r\n",
    "\r\n",
    "print( df1['Date'].dtype)\r\n",
    "df1.iLoc[-1,6]\r\n",
    " "
   ]
  },
  {
   "cell_type": "code",
   "execution_count": null,
   "metadata": {},
   "outputs": [],
   "source": [
    "# new way, (from timestamp to string ) to convert DF to np index to pydatetime\r\n",
    "#df2=df1\r\n",
    "df1['date1'] =df1['Date'].dt.strftime('%x')  # %x ='%m/%d/%y'\r\n",
    "# df. series. range. which is a datetime obj will have strftime function\r\n",
    "# https://docs.python.org/3/library/datetime.html#strftime-and-strptime-behavior\r\n",
    "\r\n",
    "\r\n",
    "df1\r\n",
    "df_TDA=df1\r\n",
    "yDSTDA=pd.Series(df_TDA['close'].values, index=df_TDA['Date'])\r\n",
    "type(yDSTDA.index)\r\n",
    "\r\n",
    "\r\n",
    "# works with TechnicalIndicatorsChartPlotter: "
   ]
  },
  {
   "cell_type": "code",
   "execution_count": null,
   "metadata": {},
   "outputs": [],
   "source": [
    "#df1 to np array can convery pd datetime to np timestamp, timestamp is good for matloplib\r\n",
    "\r\n",
    "\r\n",
    "yNPA= df1.to_numpy()\r\n",
    "print('yNPA shape=', yNPA.shape) \r\n",
    "\r\n",
    "#print (yNPA[:,8].dtype.name) \r\n",
    "#print (yNPA[:,8]) \r\n",
    "#print (yNPA[:,7].dtype.name)  #object\r\n",
    "#print (yNPA[:,7]) \r\n",
    "\r\n",
    "#yNpA1=np.array(yNPA[:,7]) \r\n",
    "\r\n",
    "#yNpA2=np.datetime_as_string(yNpA1)\r\n",
    "#print (yNpA1.dtype.name)  \r\n",
    "#print (yNpA1)\r\n",
    "\r\n",
    "#yNpA1=yNpA1.astype(\"int64\")  # before is an object \r\n",
    "# print (yNpA1.dtype.name)   \r\n",
    "\r\n",
    "#nw np.datetime_as_string( yNPA[:,7], unit='D')\r\n",
    "#yNPA[:, 9]\r\n",
    "#print (yNPA)\r\n",
    "# print (yNpDT)\r\n",
    "# print (yNPA[:,7])\r\n",
    "\r\n",
    "#n/w: yNpA2=datetime.datetime.fromtimestamp (yNpDT /1000)\r\n",
    "# yNpA2=(yNpDT /1000)\r\n",
    "#yNpA2=np.datetime_as_string(yNpDT)\r\n",
    "#print (yNPA)\r\n",
    "\r\n",
    "print (\" type: \",yNPA[1:,8].dtype.name) \r\n",
    "print ( yNPA [0:5 , :] )"
   ]
  }
 ],
 "metadata": {
  "kernelspec": {
   "display_name": "Python 3.8.5 64-bit ('base': conda)",
   "name": "python385jvsc74a57bd0fbcc98f29df8cf9b9ae119083eac20ad9d652359dc0d984cfbfec4588cc47e33"
  },
  "language_info": {
   "codemirror_mode": {
    "name": "ipython",
    "version": 3
   },
   "file_extension": ".py",
   "mimetype": "text/x-python",
   "name": "python",
   "nbconvert_exporter": "python",
   "pygments_lexer": "ipython3",
   "version": "3.8.5"
  },
  "metadata": {
   "interpreter": {
    "hash": "63fd5069d213b44bf678585dea6b12cceca9941eaf7f819626cde1f2670de90d"
   }
  },
  "orig_nbformat": 2
 },
 "nbformat": 4,
 "nbformat_minor": 2
}