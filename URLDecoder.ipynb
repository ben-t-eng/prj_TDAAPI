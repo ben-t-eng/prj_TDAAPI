{
 "metadata": {
  "language_info": {
   "codemirror_mode": {
    "name": "ipython",
    "version": 3
   },
   "file_extension": ".py",
   "mimetype": "text/x-python",
   "name": "python",
   "nbconvert_exporter": "python",
   "pygments_lexer": "ipython3",
   "version": "3.8.5-final"
  },
  "orig_nbformat": 2,
  "kernelspec": {
   "name": "python3",
   "display_name": "Python 3",
   "language": "python"
  }
 },
 "nbformat": 4,
 "nbformat_minor": 2,
 "cells": [
  {
   "source": [
    "\n",
    "\n",
    "#OL1:\\BTHm\\1Career\\18Prj\\Prj_TDAAPI\\  [prj: TD ameritrade API ] rsv:03/26/2021 00:01 frm:b123h  \n",
    "\n",
    "OL1:\\BTHm\\1Career\\18Prj\\Prj_TDAAPI\\  [prj: TD ameritrade API ] rsv:03/26/2021 00:01 frm:b123h  \n"
   ],
   "cell_type": "markdown",
   "metadata": {}
  },
  {
   "cell_type": "code",
   "execution_count": null,
   "metadata": {},
   "outputs": [],
   "source": [
    "from IPython.core.interactiveshell import InteractiveShell\n",
    "InteractiveShell.ast_node_interactivity = \"all\"\n"
   ]
  },
  {
   "cell_type": "code",
   "execution_count": null,
   "metadata": {},
   "outputs": [],
   "source": [
    "import pythoncom\n",
    "\n",
    "yCtx=pythoncom.CreateBindCtx(0)\n",
    "\n",
    "running_coms=pythoncom.GetRunningObjectTable() \n",
    "\n",
    "#help(running_coms)\n",
    "\n",
    "yMnks=running_coms.EnumRunning()\n",
    "\n",
    "for yMnk in yMnks:\n",
    "    print('-'*10)\n",
    "    print(yMnk.GetDisplayName(yCtx,yMnk))\n",
    "\n",
    "    print(yMnk.Hash())\n",
    "    print(yMnk.IsSystemMoniker)\n"
   ]
  },
  {
   "cell_type": "code",
   "execution_count": null,
   "metadata": {},
   "outputs": [],
   "source": [
    "#https://stackoverflow.com/questions/36786722/how-to-display-full-output-in-jupyter-not-only-last-result\n",
    "from IPython.core.interactiveshell import InteractiveShell\n",
    "InteractiveShell.ast_node_interactivity = \"all\"\n"
   ]
  },
  {
   "cell_type": "code",
   "execution_count": null,
   "metadata": {},
   "outputs": [],
   "source": [
    "import pythoncom\n",
    "\n",
    "xlDpch=pythoncom.connect('Excel.Application')\n",
    "xlDpch\n",
    "help(xlDpch)\n"
   ]
  },
  {
   "cell_type": "code",
   "execution_count": null,
   "metadata": {},
   "outputs": [],
   "source": []
  },
  {
   "cell_type": "code",
   "execution_count": null,
   "metadata": {},
   "outputs": [],
   "source": [
    "from urllib.parse import urlparse\n",
    "from urllib.parse import unquote\n",
    "\n",
    "#input=\"\"\" https://auth.tdameritrade.com/auth?response_type=code&redirect_uri=http%3A%2F%2Flocalhost%2Ftest&client_id=K4OAZ0RGJBLI4VEBPOXZFUNFACKWPNNF%40AMER.OAUTHAP\"\"\"\n",
    "\n",
    "input=\"\"\"osAmmt59C17kefWI6AfViU4tEUW65Y60c3MJQZtX6npS5zRwyAjxv5Qs8UN27furKW3%2BksEpaVYcAMqn83HCZsEhYcpeRUZUtJbC9c9S0Xs5B5TMsX7HeGNKohlYcWr1svBfkjnasHpclBOpGcPbCqPPa%2Fn3QluMnH9mzwfYCWMA50ZwIChJHnVLffqh%2BwJv4IwajG90kTQ7E3Y4tD2LD9EdYWnL%2FX%2BMzWt9wEV5wOby8MeT8v%2FuktEUuhGBrVrChZFaq%2BtkNDSFmjQIzx9umhyiff83Lcvdukn51PWD13YJapD6tCAS1gBwR3wVcgOOCVDX6LtSl39Gcb25K58p5nn16ZOAKjY39KD8Tfo771qaha%2BTe678%2FuYGFmGgQuLXRbmm%2BypEpgt%2BeFBa0UUKopfW1oo94Y72lL6Gi2%2B%2Bf%2B2IB9MV5znutozG6WA100MQuG4LYrgoVi%2FJHHvlAY4XEDKn8ut5SwPrDjf26vN9WVgX8Nv6psymOMzvjvuVzv5qmgRZ5qmu7gZnH7Q6JvKqpyJeQD93boeAsOKP7P9ICwyVS7PREmHepzL3KBu54TrVgsfyuIf36%2FWaKMoKHfb%2FCx4J%2BPzaFR%2B8547vkkrc%2BBcHTH%2BG7T635dv%2BNLpTfYdY1rotTPjdXfjNdTnIEBDDsnCS2nW6NbmBvReRfQXS75d0%2BGyz3n9eRlQr0%2Fr658Vd0VSyeUKpINXnTqk873tMfMz7cRWQsh%2Bkrf%2Bpjsmgj1SnpKDGzblrDXBoE5%2Fob1h4jubqRKEhA7pYS7OAOba%2FowukBgnmM8oGESAwYejDF7Kb5lB8ESoHYIJuppbAUywnfRc3f%2BFgBFucdnadcJ3jI9Y5EDtIo2BmBZOvT5bpE%2Banwn1r1%2Fdl8ydpcecyBeDyrEMUDQwaj1A%3D212FD3x19z9sWBHDJACbC00B75E\"\"\"\n",
    "o = unquote(input)\n",
    "# 0327/2021, works well just to convert escape character back to UTF-8 coding \n",
    "# \n",
    "o   "
   ]
  },
  {
   "cell_type": "code",
   "execution_count": null,
   "metadata": {},
   "outputs": [],
   "source": [
    "import requests\n",
    "yAPIk='K4OAZ0RGJBLI4VEBPOXZFUNFACKWPNNF'\n",
    "yAccessid=\"\"\"OLq4cWAGeV3Ivv3QDNFcQpllfQpzFay2xlzSDyHsViYUH4Ls8A1Vu42lKzUK6bck09QoHS4nOyT0EYA7upCc/EO4Io1QOoNmvu5do0DE2zjA4gaUqA5Kth39lNjRieKceqp7nYLSN1mrW1kMxTBJrqXBWzx5EAL0Z55Ur3wOraDxr0dme3jYBw4yg0WSJOSARGB+XciwmA5J6FyHi0GFQ8NipM7dJYbC2icJMU/LlhdkRtthdd3uKxsmGtf+v+knnFw968zEfWPaD3sKbmIrH3gk/66oQQWXDQv9BbNtaHgoYjDjMFUrXyAXEIsJAax7lqGQHRqXhAxQ2AiaYwk1MZwxf4eTeZYEAQ8RfsZECKuN1n9UPpEEnzCDZhK8xFMq6R03RfhifjaH/zDyjoz4goO+4/wCIt0HmbpTHt6oU/tXl9ExI2DMcqSq0NaHp46d0j45264pMeT53ZcpmrZ3iML6tuW57HqcqBVHZjnkdLvqBB3wHC2K9t3ATaeoozkaKpr/FgiI/BLTJAg3bm6oPFehBXrcMhKRyMNd3100MQuG4LYrgoVi/JHHvl4qWI0Y7/J7/mRFpNUOO5k+c30o5g5LLWOE19+YytBlANFeNP0Ea5MF94Zu6amXMIXpW/A6vbABrg3wbQrud0VaHoJ/Go+KOtlL33TlGxs0wJJgJ6JxJVm0mV5od/Hb63nLXx52UkbEUomGJsglsfv6FJeULSJRMe4ZtbS4aN7D9qt1QQZ5SHgKe4TlAUFCbyc4D6b9Ob669TftqvRoczKg3gsIxF7DOU8nrgozX9w2oEYILN0BGnua/4CZRLDHNVdN/7N+gtDrG467RH2LYz5Fub8YUYSpPEWzW+m1Ni3xR9aWAGyQ8dXj+OQuiy0egA3re/8jWTQ6EB7G00ksfkBF7Ypurr0JGOiypLh8oaTUv9mB5JYaaQbNmNU2KBRdhv8atMGR+KnWf7OBxB2FjlutTyVjcudDiGhrGU9IvtfmlgIidAFPj7hZwM76qkeHMWfX4IrJTHcqz/5wdbRPqRzgvd/pi1hQSZBOknaLseNxe4YJ+J6V8R655uKgcJ5IePYiohC5Jhe/CCYjY+gWj2rrJ30fGTNPwjLmp+nl212FD3x19z9sWBHDJACbC00B75E\"\"\"\n",
    "\n",
    "ep=r\"https://api.tdameritrade.com/v1/marketdata/{}/quotes\".format('qqq')\n",
    "pl={'apikey': yAPIk}\n",
    "\n",
    "content=requests.get(url=ep,params=pl)\n",
    "content\n",
    "data=content.json()\n",
    "data"
   ]
  },
  {
   "cell_type": "code",
   "execution_count": null,
   "metadata": {},
   "outputs": [],
   "source": [
    "import requests\n",
    "yAPIk='K4OAZ0RGJBLI4VEBPOXZFUNFACKWPNNF'\n",
    "\n",
    "\n",
    "ep=r\"https://api.tdameritrade.com/v1/marketdata/quotes\"\n",
    "pl={'apikey': yAPIk,\n",
    "     'symbol':'GOOG,MSFT,AAPL,PINS'}\n",
    "\n",
    "content=requests.get(url=ep,params=pl)\n",
    "content\n",
    "data=content.json()\n",
    "data"
   ]
  },
  {
   "cell_type": "code",
   "execution_count": 103,
   "metadata": {},
   "outputs": [
    {
     "output_type": "execute_result",
     "data": {
      "text/plain": [
       "'txbcam123'"
      ]
     },
     "metadata": {},
     "execution_count": 103
    }
   ],
   "source": [
    "import time\n",
    "from splinter import Browser\n",
    "from selenium import webdriver\n",
    "from login import username, password\n",
    "username\n"
   ]
  },
  {
   "cell_type": "code",
   "execution_count": 104,
   "metadata": {},
   "outputs": [],
   "source": [
    "# 4/4: splinter to interact with websits programmatically \n",
    "#chrome/firefox  driver\n",
    "#select the same ver as you current chrome browser \n",
    "#Google Chrome is up to date\n",
    "#Version 89.0.4389.114 (Official Build) (64-bit)\n",
    "# exec_path= {'executable_path':''}\n",
    "# https://chromedriver.chromium.org/downloads\n",
    "\n",
    "# exec_path={'executable_path':r\"C:\\Users\\bt\\Downloads\\chromedriver_win32\"}\n",
    "# e.g. driver = webdriver.Chrome(executable_path=r'C:/path/to/chromedriver.exe')\n",
    "# from https://stackoverflow.com/questions/47148872/webdrivers-executable-may-have-wrong-permissions-please-see-https-sites-goo\n",
    "exec_path={'executable_path':r\"C:/Users/bt/Downloads/chromedriver_win32/chromedriver.exe\"}\n",
    "\n",
    "yWebsite='https://accounts.google.com/'\n",
    "yYahoo=\"https://login.yahoo.com//\"\n",
    "\n",
    "\n"
   ]
  },
  {
   "cell_type": "code",
   "execution_count": 105,
   "metadata": {},
   "outputs": [],
   "source": [
    "\n",
    "\n",
    "#  set default behavior for browser\n",
    "yOptions=webdriver.ChromeOptions()\n",
    "\n",
    "yOptions.add_argument(\"--start-maximized\")\n",
    "yOptions.add_argument(\"--disable-notifications\")\n",
    "yOptions.add_argument(\"--disable-web-security\")\n",
    "yOptions.add_argument(\"--allow-running-insecure-content\")\n",
    "#yOptions.add_argument(\"--user-data-dir\")\n",
    "\n",
    "# headless makes browsers not visible\n",
    "yBsr=Browser('chrome', **exec_path, headless=False, options=yOptions)\n",
    "\n",
    "yBsr.visit(yYahoo)\n",
    "\n",
    "# works as 11:16am \n",
    "# yBsr.visit(yWebsite)"
   ]
  },
  {
   "cell_type": "code",
   "execution_count": 106,
   "metadata": {},
   "outputs": [],
   "source": [
    "# this is for c or\n",
    "# https://stackoverflow.com/questions/45953043/selenium-test-scripts-to-login-into-google-account-through-new-ajax-login-form\n",
    "#yBsr.find_by_id(\"identifierId\").fill(username) # \"email\" did not work, but \"identifierID\" OK\n",
    "#yBsr.find_by_id(\"identifierNext\").click()\n",
    "# google claims this login is not sure \n",
    "\n",
    "# try yahoo\n",
    "yBsr.find_by_id(\"login-username\").fill(\"txb321@yahoo.com\")\n",
    "time.sleep(0.5)\n",
    "yBsr.find_by_id(\"login-signin\").click()\n",
    "\n",
    "time.sleep(1)\n",
    "\n",
    "yBsr.find_by_id(\"login-passwd\").fill(\"pwd4yh002\")\n",
    "time.sleep(0.5)\n",
    "yBsr.find_by_id(\"login-signin\").click()"
   ]
  },
  {
   "cell_type": "code",
   "execution_count": 107,
   "metadata": {},
   "outputs": [],
   "source": [
    "# try yahoo \n"
   ]
  }
 ]
}