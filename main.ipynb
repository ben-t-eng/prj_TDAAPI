{
 "cells": [
  {
   "cell_type": "code",
   "execution_count": 1,
   "metadata": {},
   "outputs": [],
   "source": [
    "###############\n",
    "# main.ipynb is where you test run and put everything together \n",
    "# released classes, functions with  test code are converted to \n",
    "#         1.  a_nnn.py as modules to use,  and \n",
    "#         2.     nnn.ipynb for further development\n",
    "#\n",
    "#  ipynb is by nature for testing codes\n",
    "#  py is for usage ( allow import of def and etc.)\n",
    "#  \n",
    "# add import session to top cell of all py and ipynb files \n",
    "# add status and date to  2nd top cell of all py and ipynb files \n",
    "# \n",
    "# #nw: no working \n",
    "# ## temporary try  \n",
    "# "
   ]
  },
  {
   "cell_type": "markdown",
   "metadata": {},
   "source": [
    "python modules to install\n",
    "\n",
    "pip install selenium"
   ]
  },
  {
   "cell_type": "code",
   "execution_count": 2,
   "metadata": {},
   "outputs": [
    {
     "ename": "ModuleNotFoundError",
     "evalue": "No module named 'cvs'",
     "output_type": "error",
     "traceback": [
      "\u001b[1;31m---------------------------------------------------------------------------\u001b[0m",
      "\u001b[1;31mModuleNotFoundError\u001b[0m                       Traceback (most recent call last)",
      "\u001b[1;32mc:\\BTFiles\\btgithub1b\\TDAAPI\\main.ipynb Cell 3'\u001b[0m in \u001b[0;36m<module>\u001b[1;34m\u001b[0m\n\u001b[0;32m     <a href='vscode-notebook-cell:/c%3A/BTFiles/btgithub1b/TDAAPI/main.ipynb#ch0000002?line=11'>12</a>\u001b[0m \u001b[39mimport\u001b[39;00m \u001b[39msys\u001b[39;00m \n\u001b[0;32m     <a href='vscode-notebook-cell:/c%3A/BTFiles/btgithub1b/TDAAPI/main.ipynb#ch0000002?line=12'>13</a>\u001b[0m \u001b[39mimport\u001b[39;00m \u001b[39mdatetime\u001b[39;00m\n\u001b[1;32m---> <a href='vscode-notebook-cell:/c%3A/BTFiles/btgithub1b/TDAAPI/main.ipynb#ch0000002?line=13'>14</a>\u001b[0m \u001b[39mimport\u001b[39;00m \u001b[39ma_utils\u001b[39;00m\n\u001b[0;32m     <a href='vscode-notebook-cell:/c%3A/BTFiles/btgithub1b/TDAAPI/main.ipynb#ch0000002?line=14'>15</a>\u001b[0m \u001b[39m################\u001b[39;00m\n\u001b[0;32m     <a href='vscode-notebook-cell:/c%3A/BTFiles/btgithub1b/TDAAPI/main.ipynb#ch0000002?line=15'>16</a>\u001b[0m \u001b[39mimport\u001b[39;00m \u001b[39ma_Stock_IF\u001b[39;00m\n",
      "File \u001b[1;32mc:\\BTFiles\\btgithub1b\\TDAAPI\\a_utils.py:56\u001b[0m, in \u001b[0;36m<module>\u001b[1;34m\u001b[0m\n\u001b[0;32m     <a href='file:///c%3A/BTFiles/btgithub1b/TDAAPI/a_utils.py?line=53'>54</a>\u001b[0m \u001b[39mimport\u001b[39;00m \u001b[39mnumpy\u001b[39;00m \u001b[39mas\u001b[39;00m \u001b[39mnp\u001b[39;00m \n\u001b[0;32m     <a href='file:///c%3A/BTFiles/btgithub1b/TDAAPI/a_utils.py?line=54'>55</a>\u001b[0m \u001b[39mimport\u001b[39;00m \u001b[39mpandas\u001b[39;00m \u001b[39mas\u001b[39;00m \u001b[39mpd\u001b[39;00m\n\u001b[1;32m---> <a href='file:///c%3A/BTFiles/btgithub1b/TDAAPI/a_utils.py?line=55'>56</a>\u001b[0m \u001b[39mimport\u001b[39;00m \u001b[39mcvs\u001b[39;00m\n\u001b[0;32m     <a href='file:///c%3A/BTFiles/btgithub1b/TDAAPI/a_utils.py?line=58'>59</a>\u001b[0m \u001b[39mdef\u001b[39;00m \u001b[39mDF2CSV\u001b[39m(PD_DF, path, filenm, tmstr\u001b[39m=\u001b[39m\u001b[39m'\u001b[39m\u001b[39m'\u001b[39m):\n\u001b[0;32m     <a href='file:///c%3A/BTFiles/btgithub1b/TDAAPI/a_utils.py?line=59'>60</a>\u001b[0m     \u001b[39m# add time string to filename    \u001b[39;00m\n\u001b[0;32m     <a href='file:///c%3A/BTFiles/btgithub1b/TDAAPI/a_utils.py?line=60'>61</a>\u001b[0m     \u001b[39mif\u001b[39;00m tmstr\u001b[39m==\u001b[39m\u001b[39m'\u001b[39m\u001b[39m'\u001b[39m:\n\u001b[0;32m     <a href='file:///c%3A/BTFiles/btgithub1b/TDAAPI/a_utils.py?line=61'>62</a>\u001b[0m         \u001b[39m# colnm =\"SMA-\" + datetime.datetime.now().strftime(\"%m-%d-%Y-%H-%M-%S\")\u001b[39;00m\n\u001b[0;32m     <a href='file:///c%3A/BTFiles/btgithub1b/TDAAPI/a_utils.py?line=62'>63</a>\u001b[0m         \u001b[39m##tmstr=datetime.datetime.now().strftime(\"%x\")\u001b[39;00m\n\u001b[0;32m     <a href='file:///c%3A/BTFiles/btgithub1b/TDAAPI/a_utils.py?line=63'>64</a>\u001b[0m         \u001b[39m##tmstr=tmstr.replace('/','_')\u001b[39;00m\n",
      "\u001b[1;31mModuleNotFoundError\u001b[0m: No module named 'cvs'"
     ]
    }
   ],
   "source": [
    "##############\n",
    "# all the imports\n",
    "##### for logging \n",
    "import logging\n",
    "from logging import debug as lgd\n",
    "from logging import info as lgi\n",
    "from logging import error as lge\n",
    "from logging import warning as lgw\n",
    "from logging import critical as lgc\n",
    "from io import StringIO\n",
    "#####################\n",
    "import sys \n",
    "import datetime\n",
    "import a_utils\n",
    "################\n",
    "import a_Stock_IF\n",
    "#################\n",
    "import a_OL_IF\n",
    "import win32com.client as win32\n",
    "from win32com.client import constants as C\n",
    "################# TA1_plt.py\n",
    "from ta.momentum import RSIIndicator\n",
    "from ta.trend import MACD\n",
    "import numpy as np\n",
    "import pandas as pd\n",
    "from ta.volatility import BollingerBands\n",
    "import talib\n",
    "#############\n",
    "import os\n",
    "from matplotlib import pyplot as plt\n",
    "import numpy as np\n",
    "import a_TA1_Plt"
   ]
  },
  {
   "cell_type": "code",
   "execution_count": null,
   "metadata": {},
   "outputs": [
    {
     "name": "stdout",
     "output_type": "stream",
     "text": [
      ">INFO[a_utils.py[253[__init__[ logging started at:02/20/22 [02/20:09:03 41\n"
     ]
    }
   ],
   "source": [
    "# logging for debugging \n",
    "#\n",
    "#yfilter=a_utils.LevelFilter((logging.CRITICAL,logging.INFO, logging.WARNING, logging.DEBUG))\n",
    "yfilter=(a_utils.LevelFilter((logging.INFO, logging.CRITICAL, logging.DEBUG)) , a_utils.LevelFilter((logging.INFO, logging.CRITICAL, logging.DEBUG)))\n",
    "yfilter2=(a_utils.LevelFilter((logging.INFO, logging.DEBUG, logging.ERROR)) , a_utils.FileFilter())\n",
    "yfilter3=(a_utils.LevelFilter((logging.INFO,)) , a_utils.FileFilter())\n",
    "yfilter1=a_utils.LevelFilter((logging.WARNING, logging.INFO, logging.DEBUG))  # have to have two items , even if the same\n",
    "global lg\n",
    "lg=a_utils.BTLogger( stdout_filter=yfilter2, stream_filter=yfilter3)"
   ]
  },
  {
   "cell_type": "code",
   "execution_count": 3,
   "metadata": {},
   "outputs": [
    {
     "ename": "NameError",
     "evalue": "name 'win32' is not defined",
     "output_type": "error",
     "traceback": [
      "\u001b[1;31m---------------------------------------------------------------------------\u001b[0m",
      "\u001b[1;31mNameError\u001b[0m                                 Traceback (most recent call last)",
      "\u001b[1;32mc:\\BTFiles\\btgithub1b\\TDAAPI\\main.ipynb Cell 5'\u001b[0m in \u001b[0;36m<module>\u001b[1;34m\u001b[0m\n\u001b[0;32m      <a href='vscode-notebook-cell:/c%3A/BTFiles/btgithub1b/TDAAPI/main.ipynb#ch0000004?line=2'>3</a>\u001b[0m only_exclamation\u001b[39m=\u001b[39m\u001b[39m1\u001b[39m  \u001b[39m# only those outlook exclamation marked items are updated\u001b[39;00m\n\u001b[0;32m      <a href='vscode-notebook-cell:/c%3A/BTFiles/btgithub1b/TDAAPI/main.ipynb#ch0000004?line=6'>7</a>\u001b[0m \u001b[39m# start from Outlook \u001b[39;00m\n\u001b[1;32m----> <a href='vscode-notebook-cell:/c%3A/BTFiles/btgithub1b/TDAAPI/main.ipynb#ch0000004?line=7'>8</a>\u001b[0m yWD\u001b[39m=\u001b[39m win32\u001b[39m.\u001b[39mgencache\u001b[39m.\u001b[39mEnsureDispatch(\u001b[39m\"\u001b[39m\u001b[39mWord.Application\u001b[39m\u001b[39m\"\u001b[39m)  \u001b[39m# gencache.EnsureDispatch for wdConstant enumeration\u001b[39;00m\n\u001b[0;32m      <a href='vscode-notebook-cell:/c%3A/BTFiles/btgithub1b/TDAAPI/main.ipynb#ch0000004?line=8'>9</a>\u001b[0m yOL \u001b[39m=\u001b[39m win32\u001b[39m.\u001b[39mgencache\u001b[39m.\u001b[39mEnsureDispatch(\u001b[39m\"\u001b[39m\u001b[39mOutlook.Application\u001b[39m\u001b[39m\"\u001b[39m)  \u001b[39m#w, needed for importing constants:\u001b[39;00m\n\u001b[0;32m     <a href='vscode-notebook-cell:/c%3A/BTFiles/btgithub1b/TDAAPI/main.ipynb#ch0000004?line=9'>10</a>\u001b[0m yNS \u001b[39m=\u001b[39m yOL\u001b[39m.\u001b[39mGetNamespace(\u001b[39m\"\u001b[39m\u001b[39mMAPI\u001b[39m\u001b[39m\"\u001b[39m)\n",
      "\u001b[1;31mNameError\u001b[0m: name 'win32' is not defined"
     ]
    }
   ],
   "source": [
    "# getting data from file or from web \n",
    "testrun=1 #20220220 due to a bug, data file in \"C:\\BTFiles\\btgithub1b\\TDAAPI\\HistoricalData\\Debug\\TSLA_02_19_22.csv\" should not have SMA1 column name \n",
    "only_exclamation=1  # only those outlook exclamation marked items are updated\n",
    "\n",
    "\n",
    "\n",
    "# start from Outlook \n",
    "yWD= win32.gencache.EnsureDispatch(\"Word.Application\")  # gencache.EnsureDispatch for wdConstant enumeration\n",
    "yOL = win32.gencache.EnsureDispatch(\"Outlook.Application\")  #w, needed for importing constants:\n",
    "yNS = yOL.GetNamespace(\"MAPI\")\n",
    "yFolder = yNS.Folders['BXSelfCurrent'].Folders['BTHM'].Folders['0-outlook usage'].Folders['Test Run Outlook Usage'].Folders['Securities']\n",
    "\n",
    "for yOLI in yFolder.Items:\n",
    "    \n",
    "\n",
    "    print('-------------------------------------------------------------')\n",
    "    # flush the string_io for next security\n",
    "    lg.FlushStringIO()\n",
    "\n",
    "    yO_S=a_OL_IF.OLI_Stock(yOLI,lg)\n",
    "    yO_S.InitStock()\n",
    "\n",
    "    #only go further for those are marked \"Test\" in OLI subject field\n",
    "    if testrun==1  and yOLI.Subject  !='Test': continue\n",
    "\n",
    "    #https://docs.microsoft.com/en-us/office/vba/api/outlook.olimportance\n",
    "    #https://docs.microsoft.com/en-us/office/vba/api/outlook.mailitem.importance\n",
    "    if only_exclamation==1  and yOLI.Importance!= 2: continue\n",
    "    \n",
    "    yO_S.Stock.GetHist(testrun)  # 20220218 , changed from 1 to 0 ; 1 for testing, 0 for getting data from TDA \n",
    "\n",
    "    yTA3=a_TA1_Plt.TA1(yO_S.Stock) \n",
    "    yTA3.createPriceDS() \n",
    "\n",
    "    yTA3.set_TAs()\n",
    "\n",
    "    # #print(\"ta3=\", yTA3.TAs)\n",
    "    yPlt=a_TA1_Plt.TA1_Plt()    \n",
    "\n",
    "\n",
    "    yPlt.plt_all(yTA3)\n",
    "\n",
    "    # lgi(\" before Updating OLI\")\n",
    "    yO_S.UpdateOLI()\n",
    "    \n",
    "    yOLI.Save()\n",
    "    yOLI.Close(0)  #! save the outlook item, error means something wrong in wrtingt to OLI \n",
    "\n",
    "   \n",
    "    \n",
    "    \n",
    "yWD=None\n",
    "yOL=None"
   ]
  },
  {
   "cell_type": "code",
   "execution_count": null,
   "metadata": {},
   "outputs": [],
   "source": [
    "d=datetime.datetime.now()\n",
    "d.strftime(\"%m-%d-%Y-%H-%M-%S\")\n"
   ]
  },
  {
   "cell_type": "code",
   "execution_count": null,
   "metadata": {},
   "outputs": [],
   "source": [
    "import a_login_data\n",
    "\n",
    "a_login_data.password1"
   ]
  },
  {
   "cell_type": "code",
   "execution_count": null,
   "metadata": {},
   "outputs": [],
   "source": [
    "import a_Settings \n",
    "\n",
    "a_Settings.URL_hist_data_file\n",
    "\n"
   ]
  },
  {
   "cell_type": "code",
   "execution_count": null,
   "metadata": {},
   "outputs": [],
   "source": [
    "d2=\"SMA-\" +datetime.datetime.now().strftime(\"%m-%d-%Y-%H-%M-%S\")\n",
    "d2"
   ]
  },
  {
   "cell_type": "code",
   "execution_count": 8,
   "metadata": {},
   "outputs": [
    {
     "data": {
      "text/plain": [
       "'c:\\\\BTFiles\\\\btgithub1b\\\\TDAAPI'"
      ]
     },
     "execution_count": 8,
     "metadata": {},
     "output_type": "execute_result"
    }
   ],
   "source": [
    "os.getcwd()\n"
   ]
  },
  {
   "cell_type": "code",
   "execution_count": 9,
   "metadata": {},
   "outputs": [
    {
     "data": {
      "text/plain": [
       "'c:\\\\BTFiles\\\\btgithub1b\\\\TDAAPI\\\\HistoricalData'"
      ]
     },
     "execution_count": 9,
     "metadata": {},
     "output_type": "execute_result"
    }
   ],
   "source": [
    "URL_hist_data_file=r'\\HistoricalData\\Debug\\TSLA_02_19_22.csv'\n",
    "URL_CVS_file=r'\\HistoricalData'\n",
    "URL_plt_path=r\"\\HistoricalData\"\n",
    "\n",
    "\n",
    "absolute_path=os.getcwd()\n",
    "\n",
    "URL_hist_data_file=absolute_path+r'\\HistoricalData\\Debug\\TSLA_02_19_22.csv'\n",
    "URL_CVS_file=absolute_path+r'\\HistoricalData'\n",
    "URL_plt_path=absolute_path+r\"\\HistoricalData\"\n",
    "\n",
    "URL_plt_path"
   ]
  }
 ],
 "metadata": {
  "interpreter": {
   "hash": "1a0f06cb1a880a29a61cd3b4900bc102c451047753172d99c0045eaf439f8772"
  },
  "kernelspec": {
   "display_name": "Python 3.8.5 64-bit ('base': conda)",
   "language": "python",
   "name": "python3"
  },
  "language_info": {
   "codemirror_mode": {
    "name": "ipython",
    "version": 3
   },
   "file_extension": ".py",
   "mimetype": "text/x-python",
   "name": "python",
   "nbconvert_exporter": "python",
   "pygments_lexer": "ipython3",
   "version": "3.8.5"
  },
  "orig_nbformat": 2
 },
 "nbformat": 4,
 "nbformat_minor": 2
}
