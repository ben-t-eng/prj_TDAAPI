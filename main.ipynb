{
 "cells": [
  {
   "cell_type": "code",
   "execution_count": 5,
   "metadata": {},
   "outputs": [],
   "source": [
    "###############\n",
    "# main.ipynb is where you test run and put everything together \n",
    "# released classes, functions with  test code are converted to \n",
    "#         1.  a_nnn.py as modules to use,  and \n",
    "#         2.     nnn.ipynb for further development\n",
    "#\n",
    "#  ipynb is by nature for testing codes\n",
    "#  py is for usage ( allow import of def and etc.)\n",
    "#  \n",
    "# add import session to top cell of all py and ipynb files \n",
    "# add status and date to  2nd top cell of all py and ipynb files \n",
    "# \n",
    "# #nw: no working \n",
    "# ## temporary try  \n",
    "# "
   ]
  },
  {
   "cell_type": "markdown",
   "metadata": {},
   "source": [
    "python modules to install\n",
    "\n",
    "pip install selenium"
   ]
  },
  {
   "cell_type": "code",
   "execution_count": 6,
   "metadata": {},
   "outputs": [
    {
     "name": "stdout",
     "output_type": "stream",
     "text": [
      "test not done\n"
     ]
    }
   ],
   "source": [
    "##############\n",
    "# all the imports\n",
    "##### for logging \n",
    "import logging\n",
    "from logging import debug as lgd\n",
    "from logging import info as lgi\n",
    "from logging import error as lge\n",
    "from logging import warning as lgw\n",
    "from logging import critical as lgc\n",
    "from io import StringIO\n",
    "#####################\n",
    "import sys \n",
    "import datetime\n",
    "import a_utils\n",
    "################\n",
    "import a_Stock_IF\n",
    "#################\n",
    "import a_OL_IF\n",
    "import win32com.client as win32\n",
    "from win32com.client import constants as C\n",
    "################# TA1_plt.py\n",
    "from ta.momentum import RSIIndicator\n",
    "from ta.trend import MACD\n",
    "import numpy as np\n",
    "import pandas as pd\n",
    "from ta.volatility import BollingerBands\n",
    "import talib\n",
    "#############\n",
    "import os\n",
    "from matplotlib import pyplot as plt\n",
    "import numpy as np\n",
    "import a_TA1_Plt"
   ]
  },
  {
   "cell_type": "code",
   "execution_count": 7,
   "metadata": {},
   "outputs": [
    {
     "name": "stdout",
     "output_type": "stream",
     "text": [
      "+__init__\\247|INFO: logging started at:02/18/22 [a_utils.py 02/18:11:59 20]\n"
     ]
    }
   ],
   "source": [
    "# logging for debugging \n",
    "#\n",
    "#yfilter=a_utils.LevelFilter((logging.CRITICAL,logging.INFO, logging.WARNING, logging.DEBUG))\n",
    "yfilter=(a_utils.LevelFilter((logging.INFO, logging.CRITICAL, logging.DEBUG)) , a_utils.LevelFilter((logging.INFO, logging.CRITICAL, logging.DEBUG)))\n",
    "yfilter2=(a_utils.LevelFilter((logging.INFO, logging.DEBUG, logging.ERROR)) , a_utils.FileFilter())\n",
    "yfilter3=(a_utils.LevelFilter((logging.INFO,)) , a_utils.FileFilter())\n",
    "yfilter1=a_utils.LevelFilter((logging.WARNING, logging.INFO, logging.DEBUG))  # have to have two items , even if the same\n",
    "global lg\n",
    "lg=a_utils.BTLogger( stdout_filter=yfilter2, stream_filter=yfilter3)"
   ]
  },
  {
   "cell_type": "code",
   "execution_count": 8,
   "metadata": {},
   "outputs": [
    {
     "name": "stdout",
     "output_type": "stream",
     "text": [
      "-------------------------------------------------------------\n"
     ]
    }
   ],
   "source": [
    "# start from Outlook \n",
    "yWD= win32.gencache.EnsureDispatch(\"Word.Application\")  # gencache.EnsureDispatch for wdConstant enumeration\n",
    "yOL = win32.gencache.EnsureDispatch(\"Outlook.Application\")  #w, needed for importing constants:\n",
    "yNS = yOL.GetNamespace(\"MAPI\")\n",
    "yFolder = yNS.Folders['BXSelfCurrent'].Folders['BTHM'].Folders['0-outlook usage'].Folders['Test Run Outlook Usage'].Folders['Securities']\n",
    "\n",
    "for yOLI in yFolder.Items:\n",
    "    print('-------------------------------------------------------------')\n",
    "    # flush the string_io for next security\n",
    "    lg.FlushStringIO()\n",
    "\n",
    "    yO_S=a_OL_IF.OLI_Stock(yOLI,lg)\n",
    "    yO_S.InitStock()\n",
    "    yO_S.Stock.GetHist(0)  # 20220218 , changed from 1 to 0 \n",
    "\n",
    "    yTA3=a_TA1_Plt.TA1(yO_S.Stock) \n",
    "    yTA3.createPriceDS() \n",
    "\n",
    "    yTA3.set_TAs()\n",
    "\n",
    "    # #print(\"ta3=\", yTA3.TAs)\n",
    "    yPlt=a_TA1_Plt.TA1_Plt()    \n",
    "\n",
    "\n",
    "    yPlt.plt_all(yTA3)\n",
    "\n",
    "    # lgi(\" before Updating OLI\")\n",
    "    yO_S.UpdateOLI()\n",
    "    \n",
    "    yOLI.Save()\n",
    "    yOLI.Close(0)  #! save the outlook item, error means something wrong in wrtingt to OLI \n",
    "   \n",
    "    \n",
    "    \n",
    "yWD=None\n",
    "yOL=None"
   ]
  }
 ],
 "metadata": {
  "interpreter": {
   "hash": "1a0f06cb1a880a29a61cd3b4900bc102c451047753172d99c0045eaf439f8772"
  },
  "kernelspec": {
   "display_name": "Python 3.8.5 64-bit ('base': conda)",
   "language": "python",
   "name": "python3"
  },
  "language_info": {
   "codemirror_mode": {
    "name": "ipython",
    "version": 3
   },
   "file_extension": ".py",
   "mimetype": "text/x-python",
   "name": "python",
   "nbconvert_exporter": "python",
   "pygments_lexer": "ipython3",
   "version": "3.8.5"
  },
  "orig_nbformat": 2
 },
 "nbformat": 4,
 "nbformat_minor": 2
}
