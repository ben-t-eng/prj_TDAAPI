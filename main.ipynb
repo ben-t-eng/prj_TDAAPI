{
 "cells": [
  {
   "cell_type": "code",
   "execution_count": 1,
   "metadata": {},
   "outputs": [],
   "source": [
    "###############\n",
    "# main.ipynb is where you test run and put everything together \n",
    "# released classes, functions with  test code are converted to \n",
    "#         1.  a_nnn.py as modules to use,  and \n",
    "#         2.     nnn.ipynb for further development\n",
    "#\n",
    "#  ipynb is by nature for testing codes\n",
    "#  py is for usage ( allow import of def and etc.)\n",
    "#  \n",
    "# add import session to top cell of all py and ipynb files \n",
    "# add status and date to  2nd top cell of all py and ipynb files \n",
    "# \n",
    "# #nw: no working \n",
    "# ## temporary try  \n",
    "# "
   ]
  },
  {
   "cell_type": "markdown",
   "metadata": {},
   "source": [
    "python modules to install\n",
    "\n",
    "pip install selenium"
   ]
  },
  {
   "cell_type": "code",
   "execution_count": 2,
   "metadata": {},
   "outputs": [
    {
     "name": "stderr",
     "output_type": "stream",
     "text": [
      "ERROR:root:FinViz plt not saved to: c:\\BTFiles\\btgithub1b\\prj_TDAAPI\\HistoricalData\\Debug\\goog\\goog_FinViz_2022_04_09-20_59\n"
     ]
    },
    {
     "name": "stdout",
     "output_type": "stream",
     "text": [
      "test not done\n"
     ]
    }
   ],
   "source": [
    "##############\n",
    "# all the imports\n",
    "##### for logging \n",
    "import logging\n",
    "from logging import debug as lgd\n",
    "from logging import info as lgi\n",
    "from logging import error as lge\n",
    "from logging import warning as lgw\n",
    "from logging import critical as lgc\n",
    "from io import StringIO\n",
    "#####################\n",
    "import sys \n",
    "import datetime\n",
    "import a_utils\n",
    "################\n",
    "import a_Stock_IF\n",
    "#################\n",
    "import a_OL_IF\n",
    "import win32com.client as win32\n",
    "from win32com.client import constants as C\n",
    "################# TA1_plt.py\n",
    "from ta.momentum import RSIIndicator\n",
    "from ta.trend import MACD\n",
    "import numpy as np\n",
    "import pandas as pd\n",
    "from ta.volatility import BollingerBands\n",
    "import talib\n",
    "#############\n",
    "import os\n",
    "from matplotlib import pyplot as plt\n",
    "import numpy as np\n",
    "import a_TA1_Plt\n",
    "import a_FinViz"
   ]
  },
  {
   "cell_type": "code",
   "execution_count": 3,
   "metadata": {},
   "outputs": [],
   "source": [
    "# logging for debugging \n",
    "#\n",
    "#yfilter=a_utils.LevelFilter((logging.CRITICAL,logging.INFO, logging.WARNING, logging.DEBUG))\n",
    "yfilter=(a_utils.LevelFilter((logging.INFO, logging.CRITICAL, logging.DEBUG)) , a_utils.LevelFilter((logging.INFO, logging.CRITICAL, logging.DEBUG)))\n",
    "yfilter2=(a_utils.LevelFilter((logging.INFO, logging.DEBUG, logging.ERROR)) , a_utils.FileFilter())\n",
    "yfilter3=(a_utils.LevelFilter((logging.INFO,)) , a_utils.FileFilter())\n",
    "yfilter1=a_utils.LevelFilter((logging.WARNING, logging.INFO, logging.DEBUG))  # have to have two items , even if the same\n",
    "global lg\n",
    "lg=a_utils.BTLogger( stdout_filter=yfilter2, stream_filter=yfilter3)"
   ]
  },
  {
   "cell_type": "code",
   "execution_count": 5,
   "metadata": {},
   "outputs": [
    {
     "name": "stdout",
     "output_type": "stream",
     "text": [
      "-------------------------------------------------------------\n",
      ">ERROR[a_FinViz.py[51[getChart[ FinViz plt not saved toc:\\BTFiles\\btgithub1b\\prj_TDAAPI\\HistoricalData\\GOOG\\GOOG_FinViz_2022_04_09-19_32 [04/09:07:32 11\n",
      ">ERROR[a_OL_IF.py[182[UpdateOLI[  ! exception  [04/09:07:32 12\n",
      "-------------------------------------------------------------\n",
      ">ERROR[a_FinViz.py[51[getChart[ FinViz plt not saved toc:\\BTFiles\\btgithub1b\\prj_TDAAPI\\HistoricalData\\FB\\FB_FinViz_2022_04_09-19_32 [04/09:07:32 23\n",
      "-------------------------------------------------------------\n",
      ">ERROR[a_FinViz.py[51[getChart[ FinViz plt not saved toc:\\BTFiles\\btgithub1b\\prj_TDAAPI\\HistoricalData\\AMZN\\AMZN_FinViz_2022_04_09-19_32 [04/09:07:32 39\n",
      "-------------------------------------------------------------\n",
      ">ERROR[a_FinViz.py[51[getChart[ FinViz plt not saved toc:\\BTFiles\\btgithub1b\\prj_TDAAPI\\HistoricalData\\AMD\\AMD_FinViz_2022_04_09-19_32 [04/09:07:32 55\n",
      "-------------------------------------------------------------\n",
      ">ERROR[a_FinViz.py[51[getChart[ FinViz plt not saved toc:\\BTFiles\\btgithub1b\\prj_TDAAPI\\HistoricalData\\TSLA\\TSLA_FinViz_2022_04_09-19_33 [04/09:07:33 12\n",
      "-------------------------------------------------------------\n",
      ">ERROR[a_FinViz.py[51[getChart[ FinViz plt not saved toc:\\BTFiles\\btgithub1b\\prj_TDAAPI\\HistoricalData\\NVDA\\NVDA_FinViz_2022_04_09-19_33 [04/09:07:33 27\n",
      "-------------------------------------------------------------\n",
      ">ERROR[a_FinViz.py[51[getChart[ FinViz plt not saved toc:\\BTFiles\\btgithub1b\\prj_TDAAPI\\HistoricalData\\USO\\USO_FinViz_2022_04_09-19_33 [04/09:07:33 42\n",
      "-------------------------------------------------------------\n",
      ">ERROR[a_FinViz.py[51[getChart[ FinViz plt not saved toc:\\BTFiles\\btgithub1b\\prj_TDAAPI\\HistoricalData\\GLD\\GLD_FinViz_2022_04_09-19_33 [04/09:07:33 56\n",
      "-------------------------------------------------------------\n",
      ">ERROR[a_FinViz.py[51[getChart[ FinViz plt not saved toc:\\BTFiles\\btgithub1b\\prj_TDAAPI\\HistoricalData\\QQQ\\QQQ_FinViz_2022_04_09-19_34 [04/09:07:34 10\n",
      "-------------------------------------------------------------\n",
      ">ERROR[a_FinViz.py[51[getChart[ FinViz plt not saved toc:\\BTFiles\\btgithub1b\\prj_TDAAPI\\HistoricalData\\CRM\\CRM_FinViz_2022_04_09-19_34 [04/09:07:34 24\n"
     ]
    }
   ],
   "source": [
    "# getting data from file or from web \n",
    "testrun=0 #20220220 due to a bug, data file in \"C:\\BTFiles\\btgithub1b\\TDAAPI\\HistoricalData\\Debug\\TSLA_02_19_22.csv\" should not have SMA1 column name \n",
    "only_exclamation=0  # only those outlook exclamation marked items are updated\n",
    "\n",
    "\n",
    "\n",
    "# start from Outlook \n",
    "yWD= win32.gencache.EnsureDispatch(\"Word.Application\")  # gencache.EnsureDispatch for wdConstant enumeration\n",
    "yOL = win32.gencache.EnsureDispatch(\"Outlook.Application\")  #w, needed for importing constants:\n",
    "yNS = yOL.GetNamespace(\"MAPI\")\n",
    "yFolder = yNS.Folders['BXSelfCurrent'].Folders['BTHM'].Folders['0-outlook usage'].Folders['Test Run Outlook Usage'].Folders['Securities']\n",
    "\n",
    "for yOLI in yFolder.Items:\n",
    "    \n",
    "\n",
    "    print('-------------------------------------------------------------')\n",
    "    # flush the string_io for next security\n",
    "    lg.FlushStringIO()\n",
    "\n",
    "    yO_S=a_OL_IF.OLI_Stock(yOLI,lg)\n",
    "    yO_S.InitStock()\n",
    "\n",
    "    #only go further for those are marked \"Test\" in OLI subject field\n",
    "    yMsg=''\n",
    "    if testrun==1  and yOLI.Subject  !='Test':\n",
    "        continue\n",
    "    elif testrun==1 :\n",
    "        yMsg=\" -------> Using Test Data <-------\" \n",
    "\n",
    "\n",
    "\n",
    "        \n",
    "    #https://docs.microsoft.com/en-us/office/vba/api/outlook.olimportance\n",
    "    #https://docs.microsoft.com/en-us/office/vba/api/outlook.mailitem.importance\n",
    "    if only_exclamation==1  and yOLI.Importance!= 2: continue\n",
    "    \n",
    "    yO_S.Stock.GetHist(testrun)  # 20220218 , changed from 1 to 0 ; 1 for testing, 0 for getting data from TDA \n",
    "\n",
    "    yTA3=a_TA1_Plt.TA1(yO_S.Stock) \n",
    "    yTA3.createPriceDS() \n",
    "\n",
    "    yTA3.set_TAs()\n",
    "\n",
    "    # #print(\"ta3=\", yTA3.TAs)\n",
    "    yPlt=a_TA1_Plt.TA1_Plt()    \n",
    "\n",
    "\n",
    "    yPlt.plt_all(yTA3)\n",
    "\n",
    "\n",
    "    #get plot from FinViz.com\n",
    "    yFV=a_FinViz.FinViz()\n",
    "    yFV.getChart(yO_S.Stock)\n",
    "\n",
    "\n",
    "\n",
    "    # lgi(\" before Updating OLI\")\n",
    "\n",
    "    yO_S.UpdateOLI(yMsg)\n",
    "    \n",
    "    yOLI.Save()\n",
    "    yOLI.Close(0)  #! save the outlook item, error means something wrong in wrtingt to OLI \n",
    "\n",
    "   \n",
    "    \n",
    "    \n",
    "yWD=None\n",
    "yOL=None"
   ]
  },
  {
   "cell_type": "code",
   "execution_count": null,
   "metadata": {},
   "outputs": [],
   "source": [
    "d=datetime.datetime.now()\n",
    "d.strftime(\"%m-%d-%Y-%H-%M-%S\")\n"
   ]
  },
  {
   "cell_type": "code",
   "execution_count": null,
   "metadata": {},
   "outputs": [],
   "source": [
    "import a_login_data\n",
    "\n",
    "a_login_data.password1"
   ]
  },
  {
   "cell_type": "code",
   "execution_count": null,
   "metadata": {},
   "outputs": [],
   "source": [
    "import a_Settings \n",
    "\n",
    "a_Settings.URL_hist_data_file\n",
    "\n"
   ]
  },
  {
   "cell_type": "code",
   "execution_count": null,
   "metadata": {},
   "outputs": [],
   "source": [
    "d2=\"SMA-\" +datetime.datetime.now().strftime(\"%m-%d-%Y-%H-%M-%S\")\n",
    "d2"
   ]
  },
  {
   "cell_type": "code",
   "execution_count": null,
   "metadata": {},
   "outputs": [],
   "source": [
    "os.getcwd()\n"
   ]
  },
  {
   "cell_type": "code",
   "execution_count": null,
   "metadata": {},
   "outputs": [],
   "source": [
    "URL_hist_data_file=r'\\HistoricalData\\Debug\\TSLA_02_19_22.csv'\n",
    "URL_CVS_file=r'\\HistoricalData'\n",
    "URL_plt_path=r\"\\HistoricalData\"\n",
    "\n",
    "\n",
    "absolute_path=os.getcwd()\n",
    "\n",
    "URL_hist_data_file=absolute_path+r'\\HistoricalData\\Debug\\TSLA_02_19_22.csv'\n",
    "URL_CVS_file=absolute_path+r'\\HistoricalData'\n",
    "URL_plt_path=absolute_path+r\"\\HistoricalData\"\n",
    "\n",
    "URL_plt_path"
   ]
  },
  {
   "cell_type": "code",
   "execution_count": null,
   "metadata": {},
   "outputs": [],
   "source": [
    "# this file is for setting \n",
    "import os\n",
    "\n",
    "URL_debug_data_file=r'\\HistoricalData\\Debug\\GOOG_2022_02_20-21_03.csv\"'\n",
    "URL_CVS_file=r'\\HistoricalData'\n",
    "URL_plt_path=r\"\\HistoricalData\"\n",
    "\n",
    "# Outlook image insertion requires absolute path while Pandas CVS write does not \n",
    "absolute_path=os.getcwd()\n",
    "\n",
    "URL_debug_data_file=absolute_path+URL_debug_data_file\n",
    "URL_CVS_file=absolute_path+URL_CVS_file\n",
    "URL_plt_path=absolute_path+URL_plt_path\n",
    "\n",
    "URL_debug_data_file"
   ]
  },
  {
   "cell_type": "code",
   "execution_count": null,
   "metadata": {},
   "outputs": [],
   "source": [
    "r\"C:\\BTFiles\\btgithub1b\\TDAAPI\\HistoricalData\\Debug\\GOOG_2022_02_20-21_03.csv\""
   ]
  }
 ],
 "metadata": {
  "interpreter": {
   "hash": "1a0f06cb1a880a29a61cd3b4900bc102c451047753172d99c0045eaf439f8772"
  },
  "kernelspec": {
   "display_name": "Python 3.8.5 64-bit ('base': conda)",
   "language": "python",
   "name": "python3"
  },
  "language_info": {
   "codemirror_mode": {
    "name": "ipython",
    "version": 3
   },
   "file_extension": ".py",
   "mimetype": "text/x-python",
   "name": "python",
   "nbconvert_exporter": "python",
   "pygments_lexer": "ipython3",
   "version": "3.8.5"
  },
  "orig_nbformat": 2
 },
 "nbformat": 4,
 "nbformat_minor": 2
}
