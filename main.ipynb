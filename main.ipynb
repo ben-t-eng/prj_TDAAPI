{
 "cells": [
  {
   "cell_type": "code",
   "execution_count": 1,
   "metadata": {},
   "outputs": [],
   "source": [
    "###############\r\n",
    "# main.ipynb is where you test run and put everything together \r\n",
    "# released classes, functions with  test code are converted to \r\n",
    "#         1.  a_nnn.py as modules to use,  and \r\n",
    "#         2.     nnn.ipynb for further development\r\n",
    "#\r\n",
    "#  ipynb is by nature for testing codes\r\n",
    "#  ps is for usage ( allow import of def and etc.)\r\n",
    "#  \r\n",
    "# add import session to top cell of all py and ipynb files \r\n",
    "# add status and date to  2nd top cell of all py and ipynb files \r\n",
    "# \r\n",
    "# #nw: no working \r\n",
    "# ## temporary try  \r\n",
    "# "
   ]
  },
  {
   "cell_type": "code",
   "execution_count": 1,
   "metadata": {},
   "outputs": [],
   "source": [
    "##############\r\n",
    "# all the imports\r\n",
    "##### for logging \r\n",
    "import logging\r\n",
    "import sys \r\n",
    "from io import StringIO\r\n",
    "import datetime\r\n",
    "import a_utils\r\n",
    "from a_utils import lgc,lge,lgi,lgw,lgd\r\n",
    "################\r\n",
    "import a_Stock_IF\r\n"
   ]
  },
  {
   "cell_type": "code",
   "execution_count": 25,
   "metadata": {},
   "outputs": [
    {
     "name": "stdout",
     "output_type": "stream",
     "text": [
      " <lambda>207|INFO: logging started at:04/23/21 [a_utils.py04/23:03:44]\n"
     ]
    }
   ],
   "source": [
    "# logging for debugging \r\n",
    "#\r\n",
    "#yfilter=a_utils.LevelFilter((logging.CRITICAL,logging.INFO, logging.WARNING, logging.DEBUG))\r\n",
    "yfilter=a_utils.LevelFilter((logging.CRITICAL, logging.WARNING))\r\n",
    "lg=a_utils.BTLogger(stream_filter=yfilter)\r\n",
    "\r\n"
   ]
  },
  {
   "cell_type": "code",
   "execution_count": null,
   "metadata": {},
   "outputs": [],
   "source": [
    "# start from Outlook \r\n",
    "yWD= win32.gencache.EnsureDispatch(\"Word.Application\")  # gencache.EnsureDispatch for wdConstant enumeration\r\n",
    "yOL = win32.gencache.EnsureDispatch(\"Outlook.Application\")  #w, needed for importing constants:\r\n",
    "yNS = yOL.GetNamespace(\"MAPI\")\r\n",
    "yFolder = yNS.Folders['BXSelfCurrent'].Folders['BTHM'].Folders['0-outlook usage'].Folders['Test Run Outlook Usage'].Folders['Securities']\r\n",
    "\r\n",
    "for yOLI in yFolder.Items:\r\n",
    "\r\n",
    "    \r\n",
    "    yStock=InitStock (yOLI)\r\n",
    "     \r\n",
    "    \r\n",
    "\r\n",
    "    yStock.GetHist() # include TA and saving \r\n",
    "    \r\n",
    "   \r\n",
    "    \r\n",
    "   \r\n",
    "    UpdateOLI(yOLI, yStock)\r\n",
    "\r\n",
    "    # you need to flush the string_io for next security\r\n",
    "    print ('----OL comment:'+lg.log_stream.getvalue())\r\n",
    "    "
   ]
  },
  {
   "cell_type": "code",
   "execution_count": 33,
   "metadata": {},
   "outputs": [
    {
     "name": "stdout",
     "output_type": "stream",
     "text": [
      " <lambda>217|INFO: Stock() done [a_utils.py04/23:03:53]\n",
      "04/23/21\n",
      "<built-in method timestamp of datetime.datetime object at 0x000002C2D535BBA0>\n",
      " <lambda>220|CRITICAL: get symbol market data, ok [a_utils.py04/23:03:53]\n",
      " <lambda>220|CRITICAL: got quote update, <class 'pandas.core.frame.DataFrame'>(72, 7) [a_utils.py04/23:03:53]\n",
      " <lambda>220|CRITICAL: UpdateTA() [a_utils.py04/23:03:53]\n",
      " <lambda>220|CRITICAL: updated price=2297.76 volume=1130090 date=2021-04-15 22:13:20 SMA=2262.261999999999 [a_utils.py04/23:03:53]\n",
      " <lambda>220|CRITICAL: SMA Alert: price rose above SMA;  [a_utils.py04/23:03:53]\n",
      "save stock data to file\n",
      "addDir() Dir already exists\n",
      "DF2CSV(): path= C:\\Users\\bt\\Documents\\GitHub\\SigmaCodingBTC\\TDAAPI\\historical_data\\a_Debug\\AMD\\AMD_04_23_21.csv\n",
      " <lambda>220|CRITICAL:  Update saved to C:\\Users\\bt\\Documents\\GitHub\\SigmaCodingBTC\\TDAAPI\\historical_data\\a_Debug\\AMD\\AMD_04_23_21.csv [a_utils.py04/23:03:53]\n",
      "----OL comment: <lambda>220|CRITICAL: get symbol market data, ok [a_utils.py04/23:03:53]\n",
      " <lambda>220|CRITICAL: got quote update, <class 'pandas.core.frame.DataFrame'>(72, 7) [a_utils.py04/23:03:53]\n",
      " <lambda>220|CRITICAL: UpdateTA() [a_utils.py04/23:03:53]\n",
      " <lambda>220|CRITICAL: updated price=2297.76 volume=1130090 date=2021-04-15 22:13:20 SMA=2262.261999999999 [a_utils.py04/23:03:53]\n",
      " <lambda>220|CRITICAL: SMA Alert: price rose above SMA;  [a_utils.py04/23:03:53]\n",
      " <lambda>220|CRITICAL:  Update saved to C:\\Users\\bt\\Documents\\GitHub\\SigmaCodingBTC\\TDAAPI\\historical_data\\a_Debug\\AMD\\AMD_04_23_21.csv [a_utils.py04/23:03:53]\n",
      " <lambda>220|CRITICAL: get symbol market data, ok [a_utils.py04/23:03:53]\n",
      " <lambda>220|CRITICAL: got quote update, <class 'pandas.core.frame.DataFrame'>(72, 7) [a_utils.py04/23:03:53]\n",
      " <lambda>220|CRITICAL: UpdateTA() [a_utils.py04/23:03:53]\n",
      " <lambda>220|CRITICAL: updated price=2297.76 volume=1130090 date=2021-04-15 22:13:20 SMA=2262.261999999999 [a_utils.py04/23:03:53]\n",
      " <lambda>220|CRITICAL: SMA Alert: price rose above SMA;  [a_utils.py04/23:03:53]\n",
      " <lambda>220|CRITICAL:  Update saved to C:\\Users\\bt\\Documents\\GitHub\\SigmaCodingBTC\\TDAAPI\\historical_data\\a_Debug\\AMD\\AMD_04_23_21.csv [a_utils.py04/23:03:53]\n",
      "\n"
     ]
    }
   ],
   "source": [
    "\r\n",
    "# start from stock\r\n",
    "yStock=a_Stock_IF.Stock('AMD','AMD')\r\n",
    "\r\n",
    "yStock.HistEndDate=a_utils.epoch_date_stamp()\r\n",
    "yStock.HistStartDate=a_utils.epoch_from_today( Yr=0, Mo=0, Day=15) \r\n",
    "yStock.GetHist()\r\n",
    "\r\n",
    "\r\n",
    "\r\n"
   ]
  }
 ],
 "metadata": {
  "kernelspec": {
   "display_name": "Python 3.8.5 64-bit ('base': conda)",
   "name": "python385jvsc74a57bd0fbcc98f29df8cf9b9ae119083eac20ad9d652359dc0d984cfbfec4588cc47e33"
  },
  "language_info": {
   "codemirror_mode": {
    "name": "ipython",
    "version": 3
   },
   "file_extension": ".py",
   "mimetype": "text/x-python",
   "name": "python",
   "nbconvert_exporter": "python",
   "pygments_lexer": "ipython3",
   "version": "3.8.5"
  },
  "orig_nbformat": 2
 },
 "nbformat": 4,
 "nbformat_minor": 2
}