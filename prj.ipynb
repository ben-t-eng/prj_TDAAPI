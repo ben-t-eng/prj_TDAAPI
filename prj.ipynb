{
 "cells": [
  {
   "cell_type": "markdown",
   "metadata": {},
   "source": [
    "pip install selenium\n",
    "\n",
    "\n",
    "(base) C:\\Users\\ben t>pip install splinter\n",
    "Collecting splinter\n",
    "  Downloading splinter-0.17.0-py3-none-any.whl (38 kB)\n",
    "Installing collected packages: splinter\n",
    "Successfully installed splinter-0.17.0\n",
    "\n",
    "(base) C:\\Users\\ben t>pip install selenium\n",
    "\n",
    "(base) C:\\Users\\ben t>pip install login\n",
    "Collecting login\n",
    "  Downloading login-0.0.6.tar.gz (1.8 kB)\n",
    "Building wheels for collected packages: login\n",
    "  Building wheel for login (setup.py) ... done\n",
    "  Created wheel for login: filename=login-0.0.6-py3-none-any.whl size=1983 sha256=3edba61da9fabc085a249768662dfc216f2f93b5403102dd124be8eb2d65aef5\n",
    "  Stored in directory: c:\\users\\ben t\\appdata\\local\\pip\\cache\\wheels\\2d\\d1\\ea\\38958a54d19c0eb37f669fee1c0cfaaad6b1be2592217d99d8\n",
    "Successfully built login\n",
    "Installing collected packages: login\n",
    "Successfully installed login-0.0.6\n",
    "\n",
    "https://technical-analysis-library-in-python.readthedocs.io/en/latest/\n",
    "pip install ta"
   ]
  },
  {
   "cell_type": "markdown",
   "metadata": {},
   "source": [
    "project journal \n",
    "OL: \\\\BXSelfCurrent\\BTHm\\1Career\\18Prj"
   ]
  },
  {
   "cell_type": "markdown",
   "metadata": {},
   "source": []
  }
 ],
 "metadata": {
  "language_info": {
   "name": "python"
  },
  "orig_nbformat": 4
 },
 "nbformat": 4,
 "nbformat_minor": 2
}
