{
 "cells": [
  {
   "cell_type": "code",
   "execution_count": null,
   "metadata": {},
   "outputs": [],
   "source": [
    "#shared routines for commonly used features\r\n",
    "import datetime\r\n",
    "import os\r\n",
    "import unittest\r\n"
   ]
  },
  {
   "cell_type": "code",
   "execution_count": null,
   "metadata": {},
   "outputs": [],
   "source": [
    "# how to import functions from other jupyter files\r\n",
    "# https://stackoverflow.com/questions/50576404/importing-functions-from-another-jupyter-notebook\r\n"
   ]
  },
  {
   "cell_type": "code",
   "execution_count": null,
   "metadata": {},
   "outputs": [],
   "source": [
    "import os\r\n",
    "\r\n",
    "def addDir( pdir, cdir ):\r\n",
    "#https://www.geeksforgeeks.org/create-a-directory-in-python/\r\n",
    "    \r\n",
    "    path=os.path.join(pdir,cdir)\r\n",
    "\r\n",
    "    # save it to file for later use \r\n",
    "    if not os.path.exists(path):\r\n",
    "        try:\r\n",
    "            os.makedirs(path) \r\n",
    "            print ('addDir() Dir created')\r\n",
    "        except OSError as e:\r\n",
    "            print(e)\r\n",
    "    else:\r\n",
    "        print ('addDir() Dir already exists')\r\n",
    "    return path\r\n",
    "\r\n",
    "\r\n",
    "\r\n"
   ]
  },
  {
   "cell_type": "code",
   "execution_count": null,
   "metadata": {},
   "outputs": [],
   "source": [
    "import datetime\n",
    "import os\n",
    "import unittest\n",
    "import numpy as np \n",
    "import pandas as pd\n",
    "\n",
    "\n",
    "def DF2CSV(PD_DF, path, filenm, tmstr):\n",
    "    # add time string to filename    \n",
    "    if tmstr=='':\n",
    "        tmstr=datetime.datetime.now().strftime(\"%x\")\n",
    "        tmstr=tmstr.replace('/','_')\n",
    "    filenm1=filenm + '_' + tmstr + '.csv'\n",
    "    path=os.path.join(path, filenm1)\n",
    "    try:\n",
    "        print('DF2CSV(): path=', path)\n",
    "        PD_DF.to_csv(path)\n",
    "    except:\n",
    "        print('DF2CSV() error in writing csv file')\n",
    "#\n",
    "\n",
    "\n",
    "\n",
    "#r'C:\\Users\\bt\\Documents\\GitHub\\SigmaCodingBTC\\TDAAPI\\historical_data'\n",
    "#path=r'c:\\abc\\efg'\n",
    "filenm='AZM'\n",
    "tmstr=datetime.datetime.now().strftime(\"%x\")\n",
    "tmstr=tmstr.replace('/','_')\n",
    "filenm1=filenm+'_'+tmstr+'.csv'\n",
    "path1=os.path.join(path,filenm)\n",
    "\n",
    "PD_DF= pd.DataFrame({\"a\":[4,5,6],'b':[7,8,9]},index=[1,2,3])\n",
    "print(\"PDDF=\", PD_DF)\n",
    "\n",
    "DF2CSV(PD_DF,path, filenm, '')\n",
    "print('path=', path)\n",
    "\n",
    "# 417, not complete\n",
    "class tDF2CSV(unittest.TestCase):\n",
    "    def test_1(self):\n",
    "        result=DF2CSV(PD_DF,  path, filenm,tmstr) \n",
    "        self.assertEqual(result,\"expected value\")"
   ]
  },
  {
   "cell_type": "code",
   "execution_count": null,
   "metadata": {},
   "outputs": [],
   "source": [
    "def file2DF(path):\r\n",
    "    \r\n",
    "    yDF2=pd.read_csv(r'C:\\Users\\bt\\Documents\\GitHub\\SigmaCodingBTC\\TDAAPI\\historical_data\\GOOG_a.csv')\r\n",
    "\r\n",
    "    return yDF2"
   ]
  },
  {
   "cell_type": "code",
   "execution_count": null,
   "metadata": {},
   "outputs": [],
   "source": [
    "#testing file2DF\r\n",
    "import pandas as pd\r\n",
    "yDF2=pd.read_csv(r'C:\\Users\\bt\\Documents\\GitHub\\SigmaCodingBTC\\TDAAPI\\historical_data\\a_Debug\\GOOG_TDA_raw.csv')\r\n",
    "yDF2=yDF2.iloc[:, 1:]\r\n",
    "yDF2"
   ]
  },
  {
   "cell_type": "code",
   "execution_count": null,
   "metadata": {},
   "outputs": [],
   "source": [
    "import time\r\n",
    "import datetime\r\n",
    "#https://www.w3schools.com/python/python_datetime.asp\r\n",
    "\r\n",
    "def epoch_date_stamp( yYr=1980, yMo=1, yDate=1):\r\n",
    "     if yYr >=1980 and yMo >0 and yMo <13 and yDate >0 and yDate<31  :\r\n",
    "         yDate=datetime.datetime(yYr,yMo, yDate)\r\n",
    "     else :\r\n",
    "         yDate=datetime.datetime.now()\r\n",
    "\r\n",
    "     print (yDate.strftime(\"%x\"))\r\n",
    "     return round(yDate.timestamp()* 1000)  \r\n"
   ]
  },
  {
   "cell_type": "code",
   "execution_count": null,
   "metadata": {},
   "outputs": [],
   "source": [
    "value=epoch_date_stamp(1980,1,1)\r\n",
    "value"
   ]
  },
  {
   "cell_type": "code",
   "execution_count": null,
   "metadata": {},
   "outputs": [],
   "source": [
    "import time\r\n",
    "import datetime\r\n",
    "#https://www.w3schools.com/python/python_datetime.asp\r\n",
    "\r\n",
    "def epoch_from_today( Yr=0, Mo=0, Day=0):\r\n",
    "     if Yr >= 0 and Mo >=0 and Mo <13 and Day >=0 and Day <=31 :\r\n",
    "\r\n",
    "         Day=Day+Mo*31 +Yr*365\r\n",
    "         Date=datetime.datetime.now()-datetime.timedelta(days=Day )\r\n",
    "         \r\n",
    "     else :\r\n",
    "         Date=datetime.datetime.now()\r\n",
    "\r\n",
    "     print (Date.timestamp)\r\n",
    "     return round(Date.timestamp())  # TDA requires ms, therefore needs x1000"
   ]
  },
  {
   "cell_type": "code",
   "execution_count": null,
   "metadata": {},
   "outputs": [],
   "source": [
    "#test code\r\n",
    "print ( epoch_from_today( Yr=0, Mo=0, Day=0))\r\n",
    "yTS=epoch_from_today(Yr=10, Mo=1, Day=10)\r\n",
    "print(yTS)\r\n",
    "yDT=datetime.datetime.fromtimestamp(yTS)\r\n",
    "print (yDT.strftime('%x'))\r\n",
    "\r\n",
    "print (datetime.datetime.today())\r\n",
    "print (datetime.datetime.today().timestamp())"
   ]
  },
  {
   "cell_type": "code",
   "execution_count": null,
   "metadata": {},
   "outputs": [],
   "source": [
    "##########testing oli datetime field\r\n",
    "import win32com.client as win32\r\n",
    "from win32com.client import constants as C\r\n",
    "from datetime import datetime, timezone, timedelta \r\n",
    "import time\r\n",
    "\r\n",
    "yWord1= win32.gencache.EnsureDispatch(\"Word.Application\")  # for wdConstant enumeration\r\n",
    "outlook1 = win32.gencache.EnsureDispatch(\"Outlook.Application\")  #w, needed for importing constants:\r\n",
    "mapi1 = outlook1.GetNamespace(\"MAPI\")\r\n",
    "\r\n",
    "\r\n",
    "yOLI1=outlook1.ActiveExplorer().Selection.Item(1)\r\n",
    "message=yOLI1\r\n",
    "\r\n",
    "print(message.UserProperties.Find(\"Price\").Value)\r\n",
    "\r\n",
    "\r\n",
    "yOLDT=message.UserProperties.Find(\"PriceDate\").Value\r\n",
    "print('from outlook,' ,type(yOLDT), yOLDT)\r\n",
    "\r\n",
    "ySTM=1577865600    #02010 /1/1\r\n",
    "yDT1=datetime.fromtimestamp(ySTM)\r\n",
    "\r\n",
    "#yPYTM=datetime.now(timezone.utc) \r\n",
    "yPYTM=datetime.now() \r\n",
    "#yPYTM=yDT1\r\n",
    "print(\" from python, pyDT=\", yPYTM )\r\n",
    "\r\n",
    "#PYTM1= yPYTM # -timedelta(hours=7 )\r\n",
    "yPYTM1=yPYTM.astimezone()\r\n",
    "message.UserProperties.Find(\"PriceDate\").Value= DateTime2UTC(yPYTM)\r\n",
    "yOLDT=message.UserProperties.Find(\"PriceDate\").Value\r\n",
    "print('from python, to outlook, back from outlook' ,type(yOLDT), yOLDT)\r\n",
    "\r\n",
    "\r\n",
    "yOLVlm=yOLDT=message.UserProperties.Find(\"Volume\")\r\n",
    "print(type(yOLVlm))\r\n",
    "\r\n",
    "\r\n",
    "\r\n",
    "##############\r\n",
    "# when writing to outlook, it expects UTC time, and converts it to local time automatically\r\n",
    "# therefore you need to convert whatever time you use in python (local), substract the difference PLUS daylight saving time (UST) in US \r\n",
    "# not just - 8 hours \r\n",
    "# https://www.geeksforgeeks.org/get-current-time-in-different-timezone-using-python/\r\n",
    "##############\r\n",
    "\r\n"
   ]
  },
  {
   "cell_type": "code",
   "execution_count": null,
   "metadata": {},
   "outputs": [],
   "source": [
    "#https://docs.python.org/3/library/datetime.html#datetime.tzinfo\r\n",
    "from dateutil import tz \r\n",
    "import pytz\r\n",
    "\r\n",
    "\r\n",
    "ySTM=1577865600    #02010 /1/1\r\n",
    "yDT1=datetime.fromtimestamp(ySTM)\r\n",
    "\r\n",
    "\r\n",
    "now =datetime.now()  # not tz specified dt \r\n",
    "local_now = yDT1.astimezone()  # tz specified to local \r\n",
    "local_tz = local_now.tzinfo   # get tzinfo obj  \r\n",
    "local_tzname = local_tz.tzname(local_now)   # tzinfo obj works with on tz specified dt \r\n",
    "print(local_tzname)\r\n",
    "\r\n",
    "yTimeDelta=local_tz.utcoffset(local_now)\r\n",
    "\r\n",
    "print(yTimeDelta.total_seconds()/3600)"
   ]
  },
  {
   "cell_type": "code",
   "execution_count": null,
   "metadata": {},
   "outputs": [],
   "source": [
    "#return UTC time for outlook, which treat py dt obj as UTC time\r\n",
    "# outlook is not aware of a py dt object is tz specified\r\n",
    "#\r\n",
    "# from dateutil import tz \r\n",
    "#\r\n",
    "def DateTime2UTC(DateTime):\r\n",
    "    localDateTime=DateTime.astimezone()  # add tz info to DT object\r\n",
    "    localTZinfo=localDateTime.tzinfo        # get tzinfo obj \r\n",
    "    \r\n",
    "    print('DateTime2UTC(): Local timezone name=', localTZinfo.tzname(localDateTime) )\r\n",
    "\r\n",
    "    TimeDelta=localTZinfo.utcoffset(localDateTime)\r\n",
    " \r\n",
    "    UTCDT= localDateTime+TimeDelta\r\n",
    " \r\n",
    "    UTCDT1= UTCDT.astimezone(timezone.utc)\r\n",
    "    return UTCDT1\r\n"
   ]
  },
  {
   "cell_type": "code",
   "execution_count": null,
   "metadata": {},
   "outputs": [],
   "source": [
    "from datetime import datetime\r\n",
    "def TDAepoch2DT(TDA_TS ):\r\n",
    "    # in ms\r\n",
    "    ySTARTDATE_TS=315561600000    #1980/1/1\r\n",
    "\r\n",
    "    if TDA_TS >= ySTARTDATE_TS:\r\n",
    "        yDT=datetime.fromtimestamp(TDA_TS/1000)\r\n",
    "    else :\r\n",
    "        yDT=datetime.fromtimestamp(ySTARTDATE_TS/1000)\r\n",
    "\r\n",
    "    return yDT"
   ]
  },
  {
   "cell_type": "code",
   "execution_count": null,
   "metadata": {},
   "outputs": [],
   "source": [
    "a=TDAepoch2DT(315561700111)\r\n",
    "a"
   ]
  },
  {
   "cell_type": "code",
   "execution_count": 4,
   "metadata": {},
   "outputs": [
    {
     "ename": "NameError",
     "evalue": "name 'path' is not defined",
     "output_type": "error",
     "traceback": [
      "\u001b[1;31m---------------------------------------------------------------------------\u001b[0m",
      "\u001b[1;31mNameError\u001b[0m                                 Traceback (most recent call last)",
      "\u001b[1;32m<ipython-input-4-4f591efa6aa8>\u001b[0m in \u001b[0;36m<module>\u001b[1;34m\u001b[0m\n\u001b[0;32m      5\u001b[0m \u001b[0mtmstr\u001b[0m\u001b[1;33m=\u001b[0m\u001b[0mtmstr\u001b[0m\u001b[1;33m.\u001b[0m\u001b[0mreplace\u001b[0m\u001b[1;33m(\u001b[0m\u001b[1;34m'/'\u001b[0m\u001b[1;33m,\u001b[0m\u001b[1;34m'_'\u001b[0m\u001b[1;33m)\u001b[0m\u001b[1;33m\u001b[0m\u001b[1;33m\u001b[0m\u001b[0m\n\u001b[0;32m      6\u001b[0m \u001b[0mfilenm1\u001b[0m\u001b[1;33m=\u001b[0m\u001b[0mfilenm\u001b[0m\u001b[1;33m+\u001b[0m\u001b[1;34m'_'\u001b[0m\u001b[1;33m+\u001b[0m\u001b[0mtmstr\u001b[0m\u001b[1;33m+\u001b[0m\u001b[1;34m'.csv'\u001b[0m\u001b[1;33m\u001b[0m\u001b[1;33m\u001b[0m\u001b[0m\n\u001b[1;32m----> 7\u001b[1;33m \u001b[0mpath1\u001b[0m\u001b[1;33m=\u001b[0m\u001b[0mos\u001b[0m\u001b[1;33m.\u001b[0m\u001b[0mpath\u001b[0m\u001b[1;33m.\u001b[0m\u001b[0mjoin\u001b[0m\u001b[1;33m(\u001b[0m\u001b[0mpath\u001b[0m\u001b[1;33m,\u001b[0m\u001b[0mfilenm\u001b[0m\u001b[1;33m)\u001b[0m\u001b[1;33m\u001b[0m\u001b[1;33m\u001b[0m\u001b[0m\n\u001b[0m\u001b[0;32m      8\u001b[0m \u001b[1;33m\u001b[0m\u001b[0m\n\u001b[0;32m      9\u001b[0m \u001b[0mPD_DF\u001b[0m\u001b[1;33m=\u001b[0m \u001b[0mpd\u001b[0m\u001b[1;33m.\u001b[0m\u001b[0mDataFrame\u001b[0m\u001b[1;33m(\u001b[0m\u001b[1;33m{\u001b[0m\u001b[1;34m\"a\"\u001b[0m\u001b[1;33m:\u001b[0m\u001b[1;33m[\u001b[0m\u001b[1;36m4\u001b[0m\u001b[1;33m,\u001b[0m\u001b[1;36m5\u001b[0m\u001b[1;33m,\u001b[0m\u001b[1;36m6\u001b[0m\u001b[1;33m]\u001b[0m\u001b[1;33m,\u001b[0m\u001b[1;34m'b'\u001b[0m\u001b[1;33m:\u001b[0m\u001b[1;33m[\u001b[0m\u001b[1;36m7\u001b[0m\u001b[1;33m,\u001b[0m\u001b[1;36m8\u001b[0m\u001b[1;33m,\u001b[0m\u001b[1;36m9\u001b[0m\u001b[1;33m]\u001b[0m\u001b[1;33m}\u001b[0m\u001b[1;33m,\u001b[0m\u001b[0mindex\u001b[0m\u001b[1;33m=\u001b[0m\u001b[1;33m[\u001b[0m\u001b[1;36m1\u001b[0m\u001b[1;33m,\u001b[0m\u001b[1;36m2\u001b[0m\u001b[1;33m,\u001b[0m\u001b[1;36m3\u001b[0m\u001b[1;33m]\u001b[0m\u001b[1;33m)\u001b[0m\u001b[1;33m\u001b[0m\u001b[1;33m\u001b[0m\u001b[0m\n",
      "\u001b[1;31mNameError\u001b[0m: name 'path' is not defined"
     ]
    }
   ],
   "source": [
    "r'C:\\Users\\bt\\Documents\\GitHub\\SigmaCodingBTC\\TDAAPI\\historical_data'\r\n",
    "#path=r'c:\\abc\\efg'\r\n",
    "filenm='AZM'\r\n",
    "tmstr=datetime.datetime.now().strftime(\"%x\")\r\n",
    "tmstr=tmstr.replace('/','_')\r\n",
    "filenm1=filenm+'_'+tmstr+'.csv'\r\n",
    "path1=os.path.join(path,filenm)\r\n",
    "\r\n",
    "PD_DF= pd.DataFrame({\"a\":[4,5,6],'b':[7,8,9]},index=[1,2,3])\r\n",
    "print(\"PDDF=\", PD_DF)\r\n",
    "\r\n",
    "DF2CSV(PD_DF,path, filenm)\r\n",
    "print('path=', path)\r\n",
    "\r\n",
    "# 417, not complete\r\n",
    "class tDF2CSV(unittest.TestCase):\r\n",
    "    def test_1(self):\r\n",
    "        result=DF2CSV(PD_DF,  path, filenm,tmstr) \r\n",
    "        self.assertEqual(result,\"expected value\")\r\n"
   ]
  },
  {
   "cell_type": "code",
   "execution_count": null,
   "metadata": {},
   "outputs": [
    {
     "name": "stdout",
     "output_type": "stream",
     "text": [
      " <lambda>207|INFO: logging started at:04/23/21 [a_utils.py04/23:01:25]\n",
      " <lambda>208|WARNING: warning [a_utils.py04/23:01:25]\n",
      " <lambda>206|DEBUG: debug [a_utils.py04/23:01:25]\n",
      " <lambda>209|ERROR: error [a_utils.py04/23:01:25]\n",
      " <lambda>209|ERROR: again, zero is not be divided by :04/23/21 [a_utils.py04/23:01:25]\n",
      "--------------\n",
      " <lambda>207|INFO: logging started at:04/23/21 [a_utils.py04/23:01:25]\n",
      " <lambda>208|WARNING: warning [a_utils.py04/23:01:25]\n",
      " <lambda>206|DEBUG: debug [a_utils.py04/23:01:25]\n",
      "\n"
     ]
    }
   ],
   "source": [
    "# testing BTLogger\r\n",
    "import a_utils\r\n",
    "#shared routines for commonly used features\r\n",
    "import datetime\r\n",
    "import os\r\n",
    "import unittest\r\n",
    "from dateutil import tz \r\n",
    "\r\n",
    "##### for logging \r\n",
    "import logging\r\n",
    "import sys \r\n",
    "from io import StringIO\r\n",
    "import datetime\r\n",
    "#################\r\n",
    "\r\n",
    "yfilter=a_utils.LevelFilter((logging.CRITICAL,logging.INFO, logging.WARNING, logging.DEBUG))\r\n",
    "lg=a_utils.BTLogger(stream_filter=yfilter)\r\n",
    "lg.w('warning')\r\n",
    "lg.d('debug')\r\n",
    "lg.e('error')\r\n",
    "y=6\r\n",
    "try:\r\n",
    "    x=y/0\r\n",
    "except: #Exception as Argument:\r\n",
    "    # logging.exception('can\\'t use zero')\r\n",
    "    lg.e('again, zero is not be divided by :' + datetime.datetime.now().strftime('%x'))\r\n",
    "print('--------------')\r\n",
    "print(lg.log_stream.getvalue())"
   ]
  }
 ],
 "metadata": {
  "kernelspec": {
   "display_name": "Python 3.8.5 64-bit ('base': conda)",
   "name": "python385jvsc74a57bd0fbcc98f29df8cf9b9ae119083eac20ad9d652359dc0d984cfbfec4588cc47e33"
  },
  "language_info": {
   "codemirror_mode": {
    "name": "ipython",
    "version": 3
   },
   "file_extension": ".py",
   "mimetype": "text/x-python",
   "name": "python",
   "nbconvert_exporter": "python",
   "pygments_lexer": "ipython3",
   "version": "3.8.5"
  },
  "metadata": {
   "interpreter": {
    "hash": "63fd5069d213b44bf678585dea6b12cceca9941eaf7f819626cde1f2670de90d"
   }
  },
  "orig_nbformat": 2
 },
 "nbformat": 4,
 "nbformat_minor": 2
}