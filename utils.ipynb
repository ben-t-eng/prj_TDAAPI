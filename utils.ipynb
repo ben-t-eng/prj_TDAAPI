{
 "cells": [
  {
   "cell_type": "code",
   "execution_count": null,
   "metadata": {},
   "outputs": [],
   "source": [
    "#shared routines for commonly used features\r\n",
    "import datetime\r\n",
    "import os\r\n",
    "import unittest\r\n"
   ]
  },
  {
   "cell_type": "code",
   "execution_count": 2,
   "metadata": {},
   "outputs": [],
   "source": [
    "# how to import functions from other jupyter files\r\n",
    "# https://stackoverflow.com/questions/50576404/importing-functions-from-another-jupyter-notebook\r\n"
   ]
  },
  {
   "cell_type": "code",
   "execution_count": 3,
   "metadata": {},
   "outputs": [
    {
     "name": "stdout",
     "output_type": "stream",
     "text": [
      "addDir() Dir already exists\n",
      "C:\\Users\\bt\\Documents\\GitHub\\SigmaCodingBTC\\TDAAPI\\historical_data\\AMD\n"
     ]
    }
   ],
   "source": [
    "import os\n",
    "\n",
    "def addDir( pdir, cdir ):\n",
    "#https://www.geeksforgeeks.org/create-a-directory-in-python/\n",
    "    \n",
    "    path=os.path.join(pdir,cdir)\n",
    "\n",
    "    # save it to file for later use \n",
    "    if not os.path.exists(path):\n",
    "        try:\n",
    "            os.makedirs(path) \n",
    "            print ('addDir() Dir created')\n",
    "        except OSError as e:\n",
    "            print(e)\n",
    "    else:\n",
    "        print ('addDir() Dir already exists')\n",
    "    return path\n",
    "\n",
    "# test code\n",
    "symbol='AMD'\n",
    "cdir=symbol\n",
    "pdir=r'C:\\Users\\bt\\Documents\\GitHub\\SigmaCodingBTC\\TDAAPI\\historical_data'\n",
    "path= addDir(pdir, cdir)\n",
    "\n",
    "print(path) \n",
    "\n",
    "\n"
   ]
  },
  {
   "cell_type": "code",
   "execution_count": 4,
   "metadata": {},
   "outputs": [
    {
     "name": "stdout",
     "output_type": "stream",
     "text": [
      "PDDF=    a  b\n",
      "1  4  7\n",
      "2  5  8\n",
      "3  6  9\n",
      "DF2CSV(): path= C:\\Users\\bt\\Documents\\GitHub\\SigmaCodingBTC\\TDAAPI\\historical_data\\AMD\\AZM_04_17_21.csv\n",
      "path= C:\\Users\\bt\\Documents\\GitHub\\SigmaCodingBTC\\TDAAPI\\historical_data\\AMD\n"
     ]
    }
   ],
   "source": [
    "import datetime\n",
    "import os\n",
    "import unittest\n",
    "import numpy as np \n",
    "import pandas as pd\n",
    "\n",
    "\n",
    "def DF2CSV(PD_DF, path, filenm, tmstr):\n",
    "    # add time string to filename    \n",
    "    if tmstr=='':\n",
    "        tmstr=datetime.datetime.now().strftime(\"%x\")\n",
    "        tmstr=tmstr.replace('/','_')\n",
    "    filenm1=filenm + '_' + tmstr + '.csv'\n",
    "    path=os.path.join(path, filenm1)\n",
    "    try:\n",
    "        print('DF2CSV(): path=', path)\n",
    "        PD_DF.to_csv(path)\n",
    "    except:\n",
    "        print('DF2CSV() error in writing csv file')\n",
    "#\n",
    "\n",
    "\n",
    "\n",
    "#r'C:\\Users\\bt\\Documents\\GitHub\\SigmaCodingBTC\\TDAAPI\\historical_data'\n",
    "#path=r'c:\\abc\\efg'\n",
    "filenm='AZM'\n",
    "tmstr=datetime.datetime.now().strftime(\"%x\")\n",
    "tmstr=tmstr.replace('/','_')\n",
    "filenm1=filenm+'_'+tmstr+'.csv'\n",
    "path1=os.path.join(path,filenm)\n",
    "\n",
    "PD_DF= pd.DataFrame({\"a\":[4,5,6],'b':[7,8,9]},index=[1,2,3])\n",
    "print(\"PDDF=\", PD_DF)\n",
    "\n",
    "DF2CSV(PD_DF,path, filenm, '')\n",
    "print('path=', path)\n",
    "\n",
    "# 417, not complete\n",
    "class tDF2CSV(unittest.TestCase):\n",
    "    def test_1(self):\n",
    "        result=DF2CSV(PD_DF,  path, filenm,tmstr) \n",
    "        self.assertEqual(result,\"expected value\")"
   ]
  },
  {
   "cell_type": "code",
   "execution_count": null,
   "metadata": {},
   "outputs": [],
   "source": [
    "def file2DF(path):\r\n",
    "    \r\n",
    "\r\n",
    "\r\n",
    "    return df1"
   ]
  },
  {
   "cell_type": "code",
   "execution_count": 1,
   "metadata": {},
   "outputs": [],
   "source": [
    "import time\r\n",
    "import datetime\r\n",
    "#https://www.w3schools.com/python/python_datetime.asp\r\n",
    "\r\n",
    "def epoch_date_stamp( yYr=0, yMo=1, yDate=1):\r\n",
    "     if yYr >1980 and yMo >0 and yMo <13 and yDate >0 and yDate<31  :\r\n",
    "         yDate=datetime.datetime(yYr,yMo, yDate)\r\n",
    "     else :\r\n",
    "         yDate=datetime.datetime.now()\r\n",
    "\r\n",
    "     print (yDate.strftime(\"%x\"))\r\n",
    "     return round(yDate.timestamp()* 1000)  \r\n"
   ]
  },
  {
   "cell_type": "code",
   "execution_count": 1,
   "metadata": {},
   "outputs": [],
   "source": [
    "import time\r\n",
    "import datetime\r\n",
    "#https://www.w3schools.com/python/python_datetime.asp\r\n",
    "\r\n",
    "def epoch_from_today( Yr=0, Mo=0, Day=0):\r\n",
    "     if Yr >= 0 and Mo >=0 and Mo <13 and Day >=0 and Day <=31 :\r\n",
    "\r\n",
    "         Day=Day+Mo*31 +Yr*365\r\n",
    "         Date=datetime.datetime.now()-datetime.timedelta(days=Day )\r\n",
    "         \r\n",
    "     else :\r\n",
    "         Date=datetime.datetime.now()\r\n",
    "\r\n",
    "     print (Date.timestamp)\r\n",
    "     return round(Date.timestamp())  # TDA requires ms, therefore needs x1000"
   ]
  },
  {
   "cell_type": "code",
   "execution_count": 4,
   "metadata": {},
   "outputs": [
    {
     "name": "stdout",
     "output_type": "stream",
     "text": [
      "<built-in method timestamp of datetime.datetime object at 0x00000227EFD06C30>\n",
      "1618799777\n",
      "<built-in method timestamp of datetime.datetime object at 0x00000227EEE934E0>\n",
      "1299900977\n",
      "03/11/11\n"
     ]
    }
   ],
   "source": [
    "#test code\r\n",
    "print ( epoch_from_today( Yr=0, Mo=0, Day=0))\r\n",
    "yTS=epoch_from_today(Yr=10, Mo=1, Day=10)\r\n",
    "print(yTS)\r\n",
    "yDT=datetime.datetime.fromtimestamp(yTS)\r\n",
    "print (yDT.strftime('%x'))"
   ]
  }
 ],
 "metadata": {
  "kernelspec": {
   "display_name": "Python 3.8.5 64-bit ('base': conda)",
   "name": "python385jvsc74a57bd0fbcc98f29df8cf9b9ae119083eac20ad9d652359dc0d984cfbfec4588cc47e33"
  },
  "language_info": {
   "name": "python",
   "version": ""
  },
  "metadata": {
   "interpreter": {
    "hash": "63fd5069d213b44bf678585dea6b12cceca9941eaf7f819626cde1f2670de90d"
   }
  },
  "orig_nbformat": 2
 },
 "nbformat": 4,
 "nbformat_minor": 2
}